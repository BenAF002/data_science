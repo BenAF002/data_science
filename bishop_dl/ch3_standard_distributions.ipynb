{
 "cells": [
  {
   "cell_type": "code",
   "execution_count": 1,
   "metadata": {},
   "outputs": [],
   "source": [
    "import numpy as np\n",
    "import matplotlib.pyplot as plt"
   ]
  },
  {
   "cell_type": "markdown",
   "metadata": {},
   "source": [
    "Much of this chapter is familiar so I'm going to skip around quite a bit."
   ]
  },
  {
   "cell_type": "markdown",
   "metadata": {},
   "source": [
    "## The Multivariate Gaussian"
   ]
  },
  {
   "cell_type": "markdown",
   "metadata": {},
   "source": [
    "Fro a D-dimensional vector $\\mathbf{x}$, the multivariate Gaussian distribution takes the form:\n",
    "$$\\mathcal{N}(\\mathbf{x}|\\mathbf{\\mu}, \\mathbf{\\Sigma}) = \\frac{1}{(2\\pi)^{D/2}}\\frac{1}{|\\mathbf{\\Sigma}|^{1/2}} \\exp \\bigg\\{-\\frac{1}{2}(\\mathbf{x} - \\mathbf{\\mu})^\\intercal \\mathbf{\\Sigma}^{-1} (\\mathbf{x} - \\mathbf{\\mu}) \\bigg\\}$$\n",
    "Where $\\mathbf{\\mu}$ is the D-dimensional vector of means and $\\mathbf{\\Sigma}$ is the DxD covariance matrix"
   ]
  },
  {
   "cell_type": "markdown",
   "metadata": {},
   "source": [
    "***Central Limit Theorem:*** The sum of a set of random variables (which is itself a random variable) has a distribution that becomes increasingly Gaussian as the number of terms in the sum increases.\n",
    "- This occurs regardless of the distribution(s) from which the individual component random variables are drawn.\n",
    "- One consequence of this is that the Binomial distribution will trend towards a Gaussian distribution as $N \\rightarrow \\infty$"
   ]
  },
  {
   "cell_type": "markdown",
   "metadata": {},
   "source": [
    "### Geometry of the Gaussian"
   ]
  },
  {
   "cell_type": "markdown",
   "metadata": {},
   "source": [
    "The functional dependence of the Gaussian on $\\mathbf{x}$ is through the quadratic term in its exponent: $$\\Delta^2 = (\\mathbf{x} - \\mathbf{\\mu})^\\intercal \\mathbf{\\Sigma}^{-1} (\\mathbf{x} - \\mathbf{\\mu})$$"
   ]
  },
  {
   "cell_type": "markdown",
   "metadata": {},
   "source": [
    "This term, which we will denote $\\Delta^2$ is called the ***Mahalanobis Distance*** from $\\mathbf{\\mu}$ to $\\mathbf{x}$. It reduces to the Euclidean distance when $\\mathbf{\\Sigma}$ is the identity matrix. "
   ]
  },
  {
   "cell_type": "markdown",
   "metadata": {},
   "source": [
    "Let's do a quick little demo of how this equates Euclidean distance with the identity matrix. Recall the formula for Euclidean distance:\n",
    "$$d(\\mathbf{x}, \\mathbf{y}) = \\sqrt{\\sum(x_i - y_i)^2}$$\n",
    "This is equivalent to the square root on the inner sum of the vector $(\\mathbf{x} - \\mathbf{y})^2$, or euqivalently, the $L_2$ norm of this vector."
   ]
  },
  {
   "cell_type": "code",
   "execution_count": 14,
   "metadata": {},
   "outputs": [
    {
     "name": "stdout",
     "output_type": "stream",
     "text": [
      "d1: 196.0, d2: 196.0, d3: 196\n"
     ]
    }
   ],
   "source": [
    "x = np.random.randint(0, 10, 10)\n",
    "y = np.random.randint(0, 10, 10)\n",
    "\n",
    "dist_1 = np.sqrt(((x - y)**2).sum())**2\n",
    "\n",
    "dist_2 = (x - y).T @ np.linalg.inv(np.identity(10)) @ (x - y)\n",
    "\n",
    "dist_3 = (x - y).T @ (x - y)\n",
    "\n",
    "print(f\"d1: {dist_1}, d2: {dist_2}, d3: {dist_3}\")"
   ]
  },
  {
   "cell_type": "markdown",
   "metadata": {},
   "source": [
    "Note that $(\\mathbf{x} - \\mathbf{\\mu})^\\intercal (\\mathbf{x} - \\mathbf{\\mu})$ is equivalent to the inner sum of the vector $(\\mathbf{x} - \\mathbf{\\mu})^2$, and the inverse of the identity matrix is simply the identity matrix itself."
   ]
  },
  {
   "cell_type": "markdown",
   "metadata": {},
   "source": [
    "Note also that the covariance matrix $\\mathbf{\\Sigma}$ is symmetric."
   ]
  },
  {
   "cell_type": "markdown",
   "metadata": {},
   "source": []
  }
 ],
 "metadata": {
  "kernelspec": {
   "display_name": "anaconda",
   "language": "python",
   "name": "python3"
  },
  "language_info": {
   "codemirror_mode": {
    "name": "ipython",
    "version": 3
   },
   "file_extension": ".py",
   "mimetype": "text/x-python",
   "name": "python",
   "nbconvert_exporter": "python",
   "pygments_lexer": "ipython3",
   "version": "3.12.4"
  }
 },
 "nbformat": 4,
 "nbformat_minor": 2
}
