{
 "cells": [
  {
   "cell_type": "markdown",
   "metadata": {},
   "source": [
    "### Overview"
   ]
  },
  {
   "cell_type": "markdown",
   "metadata": {},
   "source": [
    "At a high level, Gaussian mixture models (GMMs) are a sort of *soft*-clustering. That is, they cluster data such that each data point has a probability associated with its cluster assignment. This allows data points to be associated with multiple clusters through multiple probabilities. It also allows us to quantify a relative measure of the strength of these relationships"
   ]
  },
  {
   "cell_type": "markdown",
   "metadata": {},
   "source": [
    "A Gaussian Mixture is a function comprised of $K$ Gaussians, where $K$ is *also* the number of clusters in the dataset. So, we model each cluster with its own Gaussian. Each Gaussian $k$ in the mixture has the following parameters:\n",
    "- A mean $\\mu$ that defines its center\n",
    "- A covariance $\\Sigma$ that defines its width\n",
    "- A mixing probability (aka. mixing coefficient) $0 \\le \\pi \\le 1$\n",
    "    - The mixing coefficients are specified such that: $$\\sum_{k=1}^K \\pi_k = 1$$"
   ]
  },
  {
   "cell_type": "markdown",
   "metadata": {},
   "source": [
    "### General Form of the Gaussian"
   ]
  },
  {
   "cell_type": "markdown",
   "metadata": {},
   "source": [
    "For a D-dimensional vector $\\mathbf{x}$, the multivariate Gaussian distribution takes the form:\n",
    "$$\\mathcal{N}(\\mathbf{x}|\\mathbf{\\mu}, \\mathbf{\\Sigma}) = \\frac{1}{(2\\pi)^{D/2}}\\frac{1}{|\\mathbf{\\Sigma}|^{1/2}} \\exp \\bigg\\{-\\frac{1}{2}(\\mathbf{x} - \\mathbf{\\mu})^\\intercal \\mathbf{\\Sigma}^{-1} (\\mathbf{x} - \\mathbf{\\mu}) \\bigg\\}$$\n",
    "Where $\\mathbf{\\mu}$ is the D-dimensional vector of means and $\\mathbf{\\Sigma}$ is the DxD covariance matrix"
   ]
  },
  {
   "cell_type": "markdown",
   "metadata": {},
   "source": [
    "Taking the natural log: \n",
    "$$\\ln \\mathcal{N}(\\mathbf{x}|\\mathbf{\\mu}, \\mathbf{\\Sigma}) = -\\frac{D}{2}\\ln 2\\pi - \\frac{1}{2}\\ln \\mathbf{\\Sigma} - \\frac{1}{2}(\\mathbf{x} - \\mathbf{\\mu})^\\intercal \\mathbf{\\Sigma}^{-1} (\\bf x - \\mu)$$"
   ]
  },
  {
   "cell_type": "markdown",
   "metadata": {},
   "source": [
    "**NOTE:**\\\n",
    "$\\pi$ in the Gaussian density function is the number $\\pi$ not the mixing coefficient. It's a bit annoying that the same notation is used for the two."
   ]
  },
  {
   "cell_type": "markdown",
   "metadata": {},
   "source": [
    "### General Expression of the Model"
   ]
  },
  {
   "cell_type": "markdown",
   "metadata": {},
   "source": [
    "The probability that a datum $\\mathbf{x}_n$ comes from the Gaussian $k$ is:\n",
    "$$p(z_{nk} = 1 | \\mathbf{x}_n)$$"
   ]
  },
  {
   "cell_type": "markdown",
   "metadata": {},
   "source": [
    "We may let the mixing coefficient for the $k^{\\text{th}}$ Gaussian be the unconditional probability of an observation belonging to that Gaussian:\n",
    "$$\\pi_k = p(z_k = 1)$$"
   ]
  },
  {
   "cell_type": "markdown",
   "metadata": {},
   "source": [
    "The random variable $z_k$ may be interpreted as a latent Bernoulli random variable which takes the value $1$ with probability $\\pi_k$ and $0$ with probability $1 - \\pi_k$. The set of all such latent variables (i.e., associated with each cluster assignment) is $Z = \\{z_1,...,z_K\\}$. \n",
    "\n",
    "The conditional probability of observing a datum $\\mathbf{x}_n$ given that it came from cluster $k$ is:\n",
    "$$p(\\mathbf{x}_n|z_k = 1) = \\mathcal{N}(\\mathbf{x}_n | \\mathbf{\\mu}_k, \\mathbf{\\Sigma}_k)$$\n"
   ]
  },
  {
   "cell_type": "markdown",
   "metadata": {},
   "source": [
    "Then, the unconditional probability of observing the datum $\\mathbf{x}_n$ is given by the law of total probability:\n",
    "$$p(\\mathbf{x}_n) = \\sum_{k=1}^K p(z_k) \\mathcal{N}(\\mathbf{x}_n | \\mathbf{\\mu}_k, \\mathbf{\\Sigma}_k) = \\sum_{k=1}^K \\pi_k \\mathcal{N}(\\mathbf{x}_n | \\mathbf{\\mu}_k, \\mathbf{\\Sigma}_k)$$\n",
    "\n",
    "**Aside**:\\\n",
    "Recall that the law of total probability states that for a set of mutually exclusive and exhaustive events $A=\\{a_1, ..., a_N\\}$, for any event $b$:\n",
    "$$p(b) = \\sum_{n=1}^N p(b|a_i)p(a_i)$$"
   ]
  },
  {
   "cell_type": "markdown",
   "metadata": {},
   "source": [
    "**Why This Does Not Contradict the CLT**\n",
    "\n",
    "The sum of two Gaussian-distributed random variables $X$ and $Y$ is also a Gaussian-distributed random variable. However, the distribution of $p(\\mathbf{x}_n)$ in a GMM need not be Gaussian. This is because GMMs sum over the probabilities of realizations of Gaussians, not over the realizations themselves.\\\n",
    " When adding Gaussians $X$ and $Y$, the probability $p(X+Y)$ follows a Gaussian distribution and may be interpreted as:\n",
    "> The probability of observing **both** $X=x$ **and** $Y=y$.\n",
    "\n",
    " Now, in a GMM with an observable $\\mathbf{x}_n$ which is drawn from either Gaussian $z_1$ or Gaussian $z_2$, the probability $p(\\mathbf{x}_n)$ follows a mixture distribution comprized of the two possible Gaussian distributions and may be interpreted as: \n",
    " > The probability of observing **either** $\\mathbf{x}_n|z_1$ **or** $\\mathbf{x}_n|z_2$.\n",
    "\n",
    "These are fundamentally different probabilities and thus fundamentally different random variables with different distributions."
   ]
  },
  {
   "cell_type": "markdown",
   "metadata": {},
   "source": [
    "### Likelihood"
   ]
  },
  {
   "cell_type": "markdown",
   "metadata": {},
   "source": [
    "The likelihood is the joint probability of all observations $\\mathbf{X}$, given by:\n",
    "$$p(\\mathbf{X}) = \\prod_{n=1}^N p(\\mathbf{x}_n) = \\prod_{n=1}^N \\sum_{k=1}^K \\pi_k \\mathcal{N}(\\mathbf{x}_n|\\mathbf{\\mu}_k, \\mathbf{\\Sigma}_k)$$\n",
    "And the log-likelihood is simply:\n",
    "$$\\ln p(\\mathbf{X}) = \\sum_{n=1}^N \\ln \\sum_{k=1}^K \\pi_k \\mathcal{N}(\\mathbf{x}_n|\\mathbf{\\mu}_k, \\mathbf{\\Sigma}_)$$"
   ]
  },
  {
   "cell_type": "markdown",
   "metadata": {},
   "source": [
    "### Expectation Maximization"
   ]
  },
  {
   "cell_type": "markdown",
   "metadata": {},
   "source": [
    "So, how to find the parameters $\\pi$, $\\bf \\mu$, and $\\bf \\Sigma$? We use a numerical optimization method called expectation maximization (EM). This algorithm alternates between an expectation step, which computes the expected value log-likelihood (of observations and clusters) given parameter estimates, and a maximization step which maimizes the likelihood of this expected value over the parameters.\n",
    "\n",
    "Let the parameters be the set $\\theta = \\{\\pi, \\mathbf{\\mu}, \\mathbf{\\Sigma}\\}$.\n",
    "\n",
    "**Step 1**: Initialize $\\theta^*$\\\n",
    " I don't know whether there is a standard method for the initializations, or whether it would be possible to simply randomly initialize them. I've seen it suggested that you could run K-means clustering first and then compute the initial parameters as the parameters associated with each K-means cluster."
   ]
  },
  {
   "cell_type": "markdown",
   "metadata": {},
   "source": [
    "**Step 2**: (**Expectation**) Evaluate expected log-likelihood of the conditional distribution\n",
    "$$\\mathcal{Q}(\\theta^*, \\theta) = \\mathbb{E}\\big[\\ln p(\\mathbf{X}, \\ \\mathbf{z}|\\theta^*)\\big] = \\sum_\\mathbf{z} p(\\mathbf{z}|\\mathbf{X}, \\ \\theta) \\ln p(\\mathbf{X}, \\ \\mathbf{z}|\\theta^*)$$\n",
    "The conditional probability of a cluster assignment being true, given an observed datum $\\mathbf{x}_n$ follows from Baye's theorem as:\n",
    "$$p(z_k=1|\\mathbf{x}_n) = \\frac{p(\\mathbf{x}_n|z_k)p(z_k)}{p(\\mathbf{x})} = \\frac{\\pi_k \\mathcal{N}(\\mathbf{x}_n|\\mathbf{\\mu}_k, \\ \\mathbf{\\Sigma}_k)}{\\sum_{j=1}^K \\pi_j \\mathcal{N}(\\mathbf{x}_n|\\mathbf{\\mu}_j, \\ \\mathbf{\\Sigma}_j)}$$\n",
    "Which we will denote $\\gamma(z_{nk})$.\n",
    "\n",
    "Now, let's evaluate the second probability term:\n",
    "$$\\ln p(\\mathbf{X}, \\ \\mathbf{z}|\\theta^*) = \\sum_{n=1}^N \\sum_{k=1}^K \\big[ \\ln \\pi_k + \\ln\\mathcal{N}(\\mathbf{x}_n | \\mathbf{\\mu}_k, \\ \\mathbf{\\Sigma}_k)\\big]$$\n",
    "\n",
    "So, we may express the expectation as:\n",
    "$$\\mathcal{Q}(\\theta^*, \\theta) = \\sum_{\\mathbf{z}} \\gamma(\\mathbf{z})\\ln p(\\mathbf{X}, \\ \\mathbf{z}|\\theta^*) = \\sum_{n=1}^N \\sum_{k=1}^K \\gamma(z_{nk}) \\big[ \\ln \\pi_k + \\ln\\mathcal{N}(\\mathbf{x}_n | \\mathbf{\\mu}_k, \\ \\mathbf{\\Sigma}_k)\\big]$$"
   ]
  },
  {
   "cell_type": "markdown",
   "metadata": {},
   "source": [
    "**Step 3**: (**Maximization**) Find $\\theta^*$\n",
    "$$\\theta^* = \\text{argmax}_\\theta \\mathcal{Q}(\\theta^*, \\theta)$$"
   ]
  },
  {
   "cell_type": "markdown",
   "metadata": {},
   "source": [
    "Now there is one point of nuance here, which is that we need to ensure that the maximization resticts the estimates for the parameter $\\pi$ to sum to 1. So, we add a penalty the the $\\pi$ terms with a Lagrange multiplier:\n",
    "$$\\mathcal{Q}(\\theta^*, \\theta) = \\sum_{n=1}^N \\sum_{k=1}^K \\big[ \\ln \\pi_k + \\ln\\mathcal{N}(\\mathbf{x}_n | \\mathbf{\\mu}_k, \\ \\mathbf{\\Sigma}_k)\\big] - \\lambda \\bigg(\\sum_{k=1}^K \\pi_k - 1 \\bigg)$$"
   ]
  },
  {
   "cell_type": "markdown",
   "metadata": {},
   "source": [
    "We may derive optimal parameter estimates by taking the score equations of the formula w.r.t. each parameter (i.e. MLE):\n",
    "$$\\frac{\\partial \\mathcal{Q}(\\theta^*, \\theta)}{\\partial \\pi_k} = \\sum_{n=1}^N \\frac{\\gamma(z_{nk})}{\\pi_k} - \\lambda = 0 \\ \\rightarrow \\ \\sum_{k=1}^K \\sum_{n=1}^N \\gamma(z_{nk}) = \\sum_{k=1}^K \\pi_k \\lambda \\ \\rightarrow \\ \\pi_k^* = \\frac{\\sum_{n=1}^N \\gamma(z_{nk})}{N}$$\n",
    "Intuitively, this expression for $\\pi_k^*$ is simply the probability that a datum belongs to cluster $k$ averaged across all data points.\n",
    "\n",
    "$$\\frac{\\partial \\mathcal{Q}(\\theta^*, \\theta)}{\\partial \\mathbf{\\mu}_k} = 0 \\ \\rightarrow \\ \\mathbf{\\mu}_k^* = \\frac{\\sum_{n=1}^N \\gamma(z_{nk}) \\mathbf{x}_n}{\\sum_{n=1}^N \\gamma(z_{nk})}$$\n",
    "This is a probability-weighted average of all data points. Observations that have a higher probability of being within cluster $k$ have a greater influence on the cluster's mean.\n",
    "\n",
    "$$\\frac{\\partial \\mathcal{Q}(\\theta^*, \\theta)}{\\partial \\mathbf{\\Sigma}_k} = 0 \\ \\rightarrow \\ \\mathbf{\\Sigma}_k^* = \\frac{\\sum_{n=1}^N \\gamma(z_{nk})(\\mathbf{x}_n - \\mathbf{\\mu}_k) (\\mathbf{x}_n - \\mathbf{\\mu}_k)^\\intercal}{\\sum_{n=1}^N \\gamma(z_{nk})}$$\n",
    "Again, this is a probability-weighted average of the all data points. Observations with a higher probability of being within cluster $k$ have a greater influence on its covariance structure."
   ]
  },
  {
   "cell_type": "markdown",
   "metadata": {},
   "source": [
    "## Code"
   ]
  },
  {
   "cell_type": "code",
   "execution_count": 2,
   "metadata": {},
   "outputs": [],
   "source": [
    "import numpy as np\n",
    "import matplotlib.pyplot as plt\n",
    "from matplotlib.patches import Ellipse\n",
    "from sklearn import datasets\n",
    "from sklearn.cluster import KMeans"
   ]
  },
  {
   "cell_type": "code",
   "execution_count": 17,
   "metadata": {},
   "outputs": [
    {
     "data": {
      "image/png": "[encoded data removed]",
      "text/plain": [
       "<Figure size 640x480 with 1 Axes>"
      ]
     },
     "metadata": {},
     "output_type": "display_data"
    }
   ],
   "source": [
    "iris = datasets.load_iris()\n",
    "_, ax = plt.subplots()\n",
    "scatter = ax.scatter(iris.data[:, 0], iris.data[:, 1], c=iris.target)\n",
    "ax.set(xlabel=iris.feature_names[0], ylabel=iris.feature_names[1])\n",
    "_ = ax.legend(\n",
    "    scatter.legend_elements()[0], iris.target_names, loc=\"lower right\", title=\"Classes\"\n",
    ")"
   ]
  },
  {
   "cell_type": "code",
   "execution_count": null,
   "metadata": {},
   "outputs": [],
   "source": [
    "X = iris.data[:, :2]  # data of sepal length and width from iris dataset"
   ]
  },
  {
   "cell_type": "code",
   "execution_count": 11,
   "metadata": {},
   "outputs": [],
   "source": [
    "# general multivariate gaussian\n",
    "def gaussian(X, mu, cov):\n",
    "    n = X.shape[1]\n",
    "    C = 1 / ((2 * np.pi) ** (n / 2) * np.linalg.det(cov) ** 0.5)\n",
    "    delta = (X - mu) @ np.linalg.inv(cov) @ (X - mu).T  # mahalanobis distance from mu to X\n",
    "    return np.diagonal(C * np.exp(-0.5 * delta)).reshape(-1, 1)"
   ]
  },
  {
   "cell_type": "markdown",
   "metadata": {},
   "source": [
    "### Step 1: Initialization\n",
    "Initialize clusters using k-means"
   ]
  },
  {
   "cell_type": "code",
   "execution_count": 24,
   "metadata": {},
   "outputs": [
    {
     "name": "stderr",
     "output_type": "stream",
     "text": [
      "c:\\Users\\benak\\anaconda3\\envs\\anaconda\\Lib\\site-packages\\sklearn\\cluster\\_kmeans.py:1429: UserWarning: KMeans is known to have a memory leak on Windows with MKL, when there are less chunks than available threads. You can avoid it by setting the environment variable OMP_NUM_THREADS=1.\n",
      "  warnings.warn(\n"
     ]
    }
   ],
   "source": [
    "def initialize_clusters(X, k):\n",
    "    clusters = []\n",
    "\n",
    "    kmeans = KMeans(k).fit(X)\n",
    "    mu_k = kmeans.cluster_centers_\n",
    "    \n",
    "    for i in range(k):\n",
    "        clusters.append({\n",
    "            'pi_k': 1.0 / k,\n",
    "            'mu_k': mu_k[i],\n",
    "            'cov_k': np.identity(X.shape[1])  # why initialize as identity?\n",
    "        })\n",
    "        \n",
    "    return clusters\n",
    "\n",
    "K = initialize_clusters(X, 3)"
   ]
  },
  {
   "cell_type": "markdown",
   "metadata": {},
   "source": [
    "### Step 2: Expectation\n",
    "Compute expected log-likelihood"
   ]
  },
  {
   "cell_type": "code",
   "execution_count": 25,
   "metadata": {},
   "outputs": [],
   "source": [
    "def expectation(X, clusters):\n",
    "    global gamma_nk, totals\n",
    "    N = X.shape[0]\n",
    "    K = len(clusters)\n",
    "    totals = np.zeros((N, 1))\n",
    "    gamma_nk = np.zeros((N, K))\n",
    "\n",
    "    for k, cluster in enumerate(clusters):\n",
    "        pi_k = cluster['pi_k']\n",
    "        mu_k = cluster['mu_k']\n",
    "        cov_k = cluster['cov_k']\n",
    "    \n",
    "        gamma_nk[:, k] = (pi_k * gaussian(X, mu_k, cov_k)).ravel()  # numerator\n",
    "    \n",
    "    totals = np.sum(gamma_nk, 1)           # total probability per observation (i.e., p(x))\n",
    "    gamma_nk /= np.expand_dims(totals, 1)  # divide each by p(x)"
   ]
  },
  {
   "cell_type": "markdown",
   "metadata": {},
   "source": [
    "### Step 3: Maximization\n",
    "MLE maximization of expected log-likelihood over the parameters"
   ]
  },
  {
   "cell_type": "code",
   "execution_count": 26,
   "metadata": {},
   "outputs": [],
   "source": [
    "def maximization(X, clusters):\n",
    "    global gamma_nk\n",
    "    N = float(X.shape[0])\n",
    "\n",
    "    for k, cluster in enumerate(clusters):\n",
    "        gamma_k = np.expand_dims(gamma_nk[:, k], 1)\n",
    "        N_k = np.sum(gamma_k, axis=0)  # sum of all gamma_k over N\n",
    "\n",
    "        pi_k = N_k / N\n",
    "        mu_k = np.sum(gamma_k * X, axis=0) / N_k\n",
    "        cov_k = (gamma_k * (X - mu_k)).T @ (X - mu_k) / N_k\n",
    "\n",
    "        cluster['pi_k'] = pi_k\n",
    "        cluster['mu_k'] = mu_k\n",
    "        cluster['cov_k'] = cov_k"
   ]
  },
  {
   "cell_type": "code",
   "execution_count": 28,
   "metadata": {},
   "outputs": [],
   "source": [
    "def get_likelihood(X, clusters):\n",
    "    global gamma_nk, totals\n",
    "    sample_likelihoods = np.log(totals)      # log of sum over k\n",
    "    likelihood = np.sum(sample_likelihoods)  # sum over n\n",
    "    return likelihood, sample_likelihoods"
   ]
  },
  {
   "cell_type": "markdown",
   "metadata": {},
   "source": [
    "Now we can run the algorithm:"
   ]
  },
  {
   "cell_type": "code",
   "execution_count": 29,
   "metadata": {},
   "outputs": [],
   "source": [
    "def train_gmm(X, K, epochs):\n",
    "    clusters = initialize_clusters(X, K)\n",
    "    likelihoods = np.zeros((epochs, ))\n",
    "    scores = np.zeros((X.shape[0], K))\n",
    "    history = []\n",
    "\n",
    "    for i in range(epochs):\n",
    "        snapshot = []\n",
    "\n",
    "        for cluster in clusters:\n",
    "            snapshot.append({\n",
    "                'mu_k': cluster['mu_k'].copy(),\n",
    "                'cov_k': cluster['cov_k'].copy(),\n",
    "            })\n",
    "\n",
    "        history.append(snapshot)\n",
    "\n",
    "        expectation(X, clusters)\n",
    "        maximization(X, clusters)\n",
    "\n",
    "        likelihood, sample_likelihoods = get_likelihood(X, clusters)\n",
    "        likelihoods[i] = likelihood  # record the likelihood\n",
    "\n",
    "    scores = np.log(gamma_nk)\n",
    "\n",
    "    return clusters, likelihoods, scores, sample_likelihoods, history"
   ]
  },
  {
   "cell_type": "code",
   "execution_count": 31,
   "metadata": {},
   "outputs": [
    {
     "name": "stderr",
     "output_type": "stream",
     "text": [
      "c:\\Users\\benak\\anaconda3\\envs\\anaconda\\Lib\\site-packages\\sklearn\\cluster\\_kmeans.py:1429: UserWarning: KMeans is known to have a memory leak on Windows with MKL, when there are less chunks than available threads. You can avoid it by setting the environment variable OMP_NUM_THREADS=1.\n",
      "  warnings.warn(\n"
     ]
    }
   ],
   "source": [
    "K = 3\n",
    "epochs = 50\n",
    "\n",
    "clusters, likelihoods, scores, sample_likelihoods, history = train_gmm(X, K, epochs)"
   ]
  },
  {
   "cell_type": "code",
   "execution_count": 34,
   "metadata": {},
   "outputs": [
    {
     "data": {
      "image/png": "[encoded data removed]",
      "text/plain": [
       "<Figure size 640x480 with 1 Axes>"
      ]
     },
     "metadata": {},
     "output_type": "display_data"
    }
   ],
   "source": [
    "plt.title('Log-Likelihood')\n",
    "plt.plot(np.arange(1, epochs + 1), likelihoods)\n",
    "plt.show();     "
   ]
  },
  {
   "cell_type": "markdown",
   "metadata": {},
   "source": [
    "Plotting the Gaussians:"
   ]
  },
  {
   "cell_type": "code",
   "execution_count": 38,
   "metadata": {},
   "outputs": [],
   "source": [
    "from matplotlib import colors\n",
    "def plot_clusters(X, history, scores):\n",
    "    fig, ax = plt.subplots(1, 1, figsize=(10, 10))\n",
    "    colorset = ['blue', 'red', 'black']\n",
    "    \n",
    "    for j, clusters in enumerate(history):\n",
    "      \n",
    "        idx = 0\n",
    "      \n",
    "        if j % 3 != 0:\n",
    "            continue\n",
    "        \n",
    "        plt.cla()\n",
    "        \n",
    "        for cluster in clusters:\n",
    "            mu = cluster['mu_k']\n",
    "            cov = cluster['cov_k']\n",
    "\n",
    "            eigenvalues, eigenvectors = np.linalg.eigh(cov)\n",
    "            order = eigenvalues.argsort()[::-1]\n",
    "            eigenvalues, eigenvectors = eigenvalues[order], eigenvectors[:, order]\n",
    "            vx, vy = eigenvectors[:,0][0], eigenvectors[:,0][1]\n",
    "            theta = np.arctan2(vy, vx)\n",
    "\n",
    "            color = colors.to_rgba(colorset[idx])\n",
    "\n",
    "            for cov_factor in range(1, 4):\n",
    "                ell = Ellipse(\n",
    "                        xy=mu, \n",
    "                        width=np.sqrt(eigenvalues[0]) * cov_factor * 2, \n",
    "                        height=np.sqrt(eigenvalues[1]) * cov_factor * 2, \n",
    "                        angle=np.degrees(theta), linewidth=2\n",
    "                    )\n",
    "                ell.set_facecolor((color[0], color[1], color[2], 1.0 / (cov_factor * 4.5)))\n",
    "                ax.add_artist(ell)\n",
    "\n",
    "            ax.scatter(cluster['mu_k'][0], cluster['mu_k'][1], c=colorset[idx], s=1000, marker='+')\n",
    "            idx += 1\n",
    "\n",
    "        for i in range(X.shape[0]):\n",
    "            ax.scatter(X[i, 0], X[i, 1], c=colorset[np.argmax(scores[i])], marker='o')\n",
    "        \n",
    "        plt.legend();"
   ]
  },
  {
   "cell_type": "markdown",
   "metadata": {},
   "source": [
    "## Resources"
   ]
  },
  {
   "cell_type": "markdown",
   "metadata": {},
   "source": [
    "Code based on this notebook:\n",
    "- https://github.com/ocontreras309/ML_Notebooks/blob/master/GMM_Implementation.ipynb\n",
    "\n",
    "Write-Up:\n",
    "- https://towardsdatascience.com/gaussian-mixture-models-explained-6986aaf5a95"
   ]
  }
 ],
 "metadata": {
  "kernelspec": {
   "display_name": "anaconda",
   "language": "python",
   "name": "python3"
  },
  "language_info": {
   "codemirror_mode": {
    "name": "ipython",
    "version": 3
   },
   "file_extension": ".py",
   "mimetype": "text/x-python",
   "name": "python",
   "nbconvert_exporter": "python",
   "pygments_lexer": "ipython3",
   "version": "3.12.4"
  }
 },
 "nbformat": 4,
 "nbformat_minor": 2
}
