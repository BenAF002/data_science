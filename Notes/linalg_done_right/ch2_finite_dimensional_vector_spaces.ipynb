{
 "cells": [
  {
   "cell_type": "markdown",
   "metadata": {},
   "source": [
    "## 2A Span and Linear Independence"
   ]
  },
  {
   "cell_type": "markdown",
   "metadata": {},
   "source": [
    "### Linear Combinations and Span"
   ]
  },
  {
   "cell_type": "markdown",
   "metadata": {},
   "source": [
    "**Definition 2.2: Linear Combination**\\\n",
    "A linear combination of a list $v_1,...,v_m$ of vectors in $V$ is *a vector* of the form: $$a_1v_1 + \\cdots + a_mv_m, \\ \\ a_1, ..., a_m \\in \\mathbb{F}$$"
   ]
  },
  {
   "cell_type": "markdown",
   "metadata": {},
   "source": [
    "In other words, a linear combination is the sum of scalar multiples of vectors."
   ]
  },
  {
   "cell_type": "markdown",
   "metadata": {},
   "source": [
    "**Definition 2.4: Span**\n",
    "- The set of all linear combinations of a list of vectors $v_1,...,v_m\\in V$ is called a ***span***, denoted $\\text{span}(v_1,...,v_m)$\n",
    "$$\\text{span}(v_1,...,v_m) = \\{a_1v_1 + \\cdots + a_mv_m : a_1,...,a_m\\in\\mathbb{F}\\}$$\n",
    "- The span of an empty list $()$ is *defined to be* $\\{0\\}$"
   ]
  },
  {
   "cell_type": "markdown",
   "metadata": {},
   "source": [
    "**Remark 2.9**\n",
    "- The span of a list of vectors in $V$ is the *smallest subspace* of $V$ that contains *all* vectors in the list.\n",
    "\n",
    "This is a powerful remark. It may motivate the notion that we can define a subspace by its minimum spanning list of vectors.\n",
    "\n",
    "Mini-Proof:\n",
    "- $\\text{span}(v_1,...,v_m)$ is a vector subspace (this may be easily proven), denote this subspace $S$\n",
    "- Because $\\text{span}(v_1,...,v_m)$ is a vector subspace and $\\text{span}(v_1,...,v_m)$ contains each $v_k$ in $S$ as a linear combination of $v_1,...,v_m$, then $\\text{span}(v_1,...,v_m)$ is the *smallest* subspace containing $v_1,...,v_m$\n",
    "    - The final statement is true because of the closure of subspaces under addition and scalar multiplication. No smaller subspace containing vectors which may not be linearly combined to equal some vector in $v_1,...,v_m$ may therefore contain all $v_1,...,v_m$"
   ]
  },
  {
   "cell_type": "markdown",
   "metadata": {},
   "source": [
    "**Definition 2.7: Spans**\n",
    "- If $\\text{span}(v_1,...,v_m) = V$, then we say that the list $v_1,...,v_m$ ***spans*** the vector space $V$\n",
    "\n",
    "In other words, *every vector in V* is expressable as a *linear combination* of the vectors in the list $v_1,..., v_m$"
   ]
  },
  {
   "cell_type": "markdown",
   "metadata": {},
   "source": [
    "Now for a crucial definition...\n",
    "\n",
    "**Definition 2.9: Finite-Dimensional Vector Space**\n",
    "- A vector space is called ***finite-dimensional*** if some list of vectors in it spans the space."
   ]
  },
  {
   "cell_type": "markdown",
   "metadata": {},
   "source": [
    "### Infinite-Dimensional Example: Polynomials"
   ]
  },
  {
   "cell_type": "markdown",
   "metadata": {},
   "source": [
    "**Definition 2.10: Polynomial, $\\mathcal{P}(\\mathbb{F})$**\n",
    "- A function $p:\\mathbb{F} \\rightarrow \\mathbb{F}$ is called a *polynomial* with coefficients in $\\mathbb{F}$ if there exist $a_0,...,a_m\\in\\mathbb{F}$ such that: $$p(z) = a_0 + a_1z + a_2z^2 + \\cdots + a_mz^m, \\ \\ \\forall z\\in\\mathbb{F}$$\n",
    "- $\\mathcal{P}(\\mathbb{F})$ is the set of all polynomials with coefficients in $\\mathbb{F}$"
   ]
  },
  {
   "cell_type": "markdown",
   "metadata": {},
   "source": [
    "So, $\\mathcal{P}(\\mathbb{F})$ is a vector space over $\\mathbb{F}$ with the operations of addition and scalar multiplication."
   ]
  },
  {
   "cell_type": "markdown",
   "metadata": {},
   "source": [
    "**NOTE**: $\\mathcal{P}(\\mathbb{F})$ is the set of all *single-variable* polynomials. Thus it satisfies the properties of the definition of a subspace for all $z\\in\\mathbb{F}$. However, if we try to add polynomials with different variables, e.g. $p(z) + p(y)$, the result is a multivariable polynomial which is in a different vector space..."
   ]
  },
  {
   "cell_type": "markdown",
   "metadata": {},
   "source": [
    "For nonnegative integer $m$, $\\mathcal{P}_m(\\mathbb{F})$ denotes the set of all polynomials with coefficients in $\\mathbb{F}$ and degree *at most* $m$. Then for each nonnegative integer $m$, vector space $\\mathcal{P}_m(\\mathbb{F})$ is finite-dimensional with $\\text{span}(1, z,...,z^m)$.\n",
    "\n",
    "However, $\\mathcal{P}(\\mathbb{F})$ is **infinite-dimensional** because an infinitely large degree of polynomials must be included in its minimum spanning list."
   ]
  },
  {
   "cell_type": "markdown",
   "metadata": {},
   "source": [
    "### Linear Independence"
   ]
  },
  {
   "cell_type": "markdown",
   "metadata": {},
   "source": [
    "**Definition 2.15: Linearly Independent**\n",
    "- A list of vectors in $V$ is *linearly independent* if the only choice of $a_1, ..., a_m \\in \\mathbb{F}$ that makes $a_1v_1 + \\cdots + a_mv_m = 0$ the trivial solution of $a_1 = \\cdots = a_m = 0$\n",
    "- The empty list $()$ is defined to be linearly independent\n",
    "\n",
    "Equivalently, a list of vectors is linearly independent if no vector in the list may be expressed as a linear combination of the other vectors in the list.\\\n",
    "It follows then that $v_1,...,v_m$ is linearly independent if and only if each vector in $\\text{span}(v_1,...,v_m)$ has *only one* representation as a linear combination of $v_1,...,v_m$."
   ]
  },
  {
   "cell_type": "markdown",
   "metadata": {},
   "source": [
    "**Definition 2.17: Linearly Dependent**\n",
    "- A list of vectors in $V$ is called *linearly dependent* if it is not linearly independent\n",
    "- In other words, if there exist $a_1,...,a_m \\in \\mathbb{F}$ not all $0$, such that $a_1v_1+\\cdots+a_mv_m = 0$"
   ]
  },
  {
   "cell_type": "markdown",
   "metadata": {},
   "source": [
    "**Lemma 2.19: Linear Dependence**\\\n",
    "For a linearly dependent list $v_1,...,v_m\\in V$, there exists $k\\in\\{1,2,..,m\\}$ such that $$v_k\\in \\text{span}(v_1,...,v_{k-1})$$\n",
    "Furthermore, if $k$ satisfies the condition above and the $k^\\text{th}$ term is removed from $v_1,...,v_m$, then the span of the remaining list equals $\\text{span}(v_1,...,v_m)$"
   ]
  },
  {
   "cell_type": "markdown",
   "metadata": {},
   "source": [
    "This lemma seems to simply state that any linearly dependent list of vectors includes at least one vector which may be removed from the list without changing the list's span. This is intuitive because linearly dependent vectors are fundamentally extraneous, they are just repetitions of some combination of other vectors in the list and thus are included within the span by the definition of a span."
   ]
  },
  {
   "cell_type": "markdown",
   "metadata": {},
   "source": [
    "**Remark 2.22**\\\n",
    "In a finite-dimensional vector space, the length of every linearly independent list of vectors is less than or equal to the length of every spanning list of vectors.\n",
    "$$\\text{Length of Linearly Independent List} \\ \\le \\ \\text{Length of Spanning List}$$"
   ]
  },
  {
   "cell_type": "markdown",
   "metadata": {},
   "source": [
    "**Remark 2.25**\\\n",
    "Every subspace of a finite-dimensional vector space is finite-dimensional\n",
    "- This remark is provable by lemma 2.19 and remark 2.22"
   ]
  },
  {
   "cell_type": "markdown",
   "metadata": {},
   "source": [
    "### Exercises 2A"
   ]
  },
  {
   "cell_type": "markdown",
   "metadata": {},
   "source": [
    "on paper: 5, 9, 12, 18, 15"
   ]
  },
  {
   "cell_type": "markdown",
   "metadata": {},
   "source": [
    "#### 1.\n",
    "Find a list of four distinct vectors in $\\mathbb{F}^3$ whose span equals $$\\{(x,y,z) \\in \\mathbb{F}^3 : x + y + z = 0\\}$$"
   ]
  },
  {
   "cell_type": "markdown",
   "metadata": {},
   "source": [
    "**Try 1**:\\\n",
    "So, I think that any four distinct vectors that satisfy the equation defining the set above, must lie within the span of the set definition. Three of the distinct vectors we pick may specify the span, but I think that the fourth will necessarily be linearly dependent upon the other three... Let's try:\n",
    "$$\n",
    "\\big\\{ (1, -1, 0), (1, 0, -1), (4, -3, -1), (0, 0, 0)  \\big\\}\n",
    "$$\n",
    "\n",
    "The subspace defined is of finite dimension $3$. Thus, any list of $3$ *linearly independent* vectors within this space may not be extended by adding another vector while maintaining linear independence. Thus, any set of $3$ linearly indpendent vectors in this space forms a basis for it and therefore spans it."
   ]
  },
  {
   "cell_type": "markdown",
   "metadata": {},
   "source": [
    "**Try 2**:\\\n",
    "This attempt was nearly correct, but it missed the dimensionality of the space. Although this space is defined in $\\mathbb{F}^3$, it is actually a subspace that only spans $\\mathbb{F}^2$. To see this, we need to recognize that the definition of the space only has two *free* variables:\n",
    "$$x+y = z$$\n",
    "Thus, the third variable (whichever we choose to be on the right-hand-side), is dependent upon the other two. Thus, only two linearly independent vectors are ever needed to uniquely specify every vector in the space. And, indeed, any third vector that we consider will necessarily be a linear combination of the first two. Each linearly independent vector corresponds to exactly one free variable (one degree of freedom). So, the set above does span the space (the plane), but only the first two vectors define the span."
   ]
  },
  {
   "cell_type": "markdown",
   "metadata": {},
   "source": [
    "#### 2."
   ]
  },
  {
   "cell_type": "markdown",
   "metadata": {},
   "source": [
    "If $v_1, v_2, v_3, v_4$ spans $V$, then does the following list also span $V$?\n",
    "$$v_1-v_2, \\ v_2-v_3, \\ v_3-v_4, \\ v_4 $$"
   ]
  },
  {
   "cell_type": "markdown",
   "metadata": {},
   "source": [
    "**Proof**:\\\n",
    "Consider span of original list:\n",
    "$$\\forall v \\in \\text{span}(v_1, v_2, v_3, v_4), \\ \\exists a,b,c,d  \\in \\mathbb{F} \\ : \\ v = av_1 + bv_2 + cv_3 + dv_4$$\n",
    "Then, to show that the span of the second list is in the span of the first, we must find an expression for $v$ from the second list:\n",
    "$$v = av_1 + bv_2 + cv_3 + dv_4 = a(v_1 - v_2) + (a+b)(v_2-v_3) + (a+b+c)(v_3-v_4) + (a+b+c+d)(v_4)$$\n",
    "$$\\therefore \\text{span}(v_1-v_2, \\ v_2-v_3, \\ v_3-v_4, \\ v_4) \\subseteq \\text{span}(v_1, v_2, v_3, v_4)$$\n",
    "\n",
    "Now, to show that the spans are equivalent, we must also show that span of the first is within the span of the second:\n",
    "$$a(v_1 - v_2) + b(v_2-v_3) + c(v_3-v_4) + d(v_4) = av_1 + (b-a)v_2 + (c-b)v_3 + (d-c)v_4$$\n",
    "$$\\therefore \\text{span}(v_1, v_2, v_3, v_4) \\subseteq \\text{span}(v_1-v_2, \\ v_2-v_3, \\ v_3-v_4, \\ v_4)$$\n",
    "\n",
    "So, the spans are equivalent"
   ]
  },
  {
   "cell_type": "markdown",
   "metadata": {},
   "source": [
    "#### 3."
   ]
  },
  {
   "cell_type": "markdown",
   "metadata": {},
   "source": [
    "For $v_1,...,v_m\\in V$ we are asked to show that $\\text{span}(v_1,...,v_m) = \\text{span}(w_1,...,w_m)$, given:\n",
    "$$w_k = v_1 + \\cdots + v_k, \\ k \\in \\{1,...,m\\}$$"
   ]
  },
  {
   "cell_type": "markdown",
   "metadata": {},
   "source": [
    "Proof:\n",
    "$$\\forall v \\in \\text{span}(v_1,...,v_m) \\ \\exists \\{a_1,..., a_m\\} \\ : \\ v = a_1v_1 + \\cdots + a_mv_m \\\\ \\ \\\\\n",
    "= b_1w_1 + \\cdots + b_mw_m = b_1v_1 + \\cdots + b_m \\sum_{i=1}^m v_i \\\\ \\ \\\\\n",
    "= a_1v_1 + \\cdots + (a_m - \\sum_{i=1}^ma_i)\\sum_{i=1}^m v_i \\\\ \\ \\\\\n",
    "= a_1 + \\cdots + a_mv_m \\\\ \\ \\\\\n",
    "\\therefore \\text{span}(w_1,...,w_m) \\subseteq \\text{span}(v_1,...,v_m)\n",
    "$$"
   ]
  },
  {
   "cell_type": "markdown",
   "metadata": {},
   "source": [
    "Since each $w_k$ is a linear combination of $k$ vectors in $v_1,...,v_m$, anything reachable through a linear combination of the vectors in $w_1,...,w_m$ is also reachable through a linear combination of the vectors in $v_1,...,v_m$, by definition. So, this finding is somewhat trivial. More crucially, we must show that $\\text{span}(v_1,...,v_m) \\subseteq \\text{span}(w_1,...,w_m)$:"
   ]
  },
  {
   "cell_type": "markdown",
   "metadata": {},
   "source": [
    "$$\n",
    "v = a_1w_1 + \\cdots + a_mw_m \\\\ \\ \\\\\n",
    "= a_1v_1 + \\cdots + a_m\\sum_{i=1}^m v_i \\\\ \\ \\\\\n",
    "=  v_1\\sum_{i=1}^m  a_i  + v_2 \\sum_{i=2}^m + \\cdots + a_mv_m \\\\ \\ \\\\\n",
    "= b_1v_1 + \\cdots + b_m v_m \\\\ \\ \\\\\n",
    "\\therefore \\text{span}(v_1,...,v_m) \\subseteq \\text{span}(w_1,...w_m)\n",
    "$$"
   ]
  },
  {
   "cell_type": "markdown",
   "metadata": {},
   "source": [
    "Thus, the spans are equivalent."
   ]
  },
  {
   "cell_type": "markdown",
   "metadata": {},
   "source": [
    "#### 8.\n",
    "Given $v_1,v_2,v_3,v_4 \\in V$, all of which are linearly independent, prove that the following list is *also* linearly independent:\n",
    "$$v_1-v_2, v_2-v_3, v_3-v_4, v_4$$"
   ]
  },
  {
   "cell_type": "markdown",
   "metadata": {},
   "source": [
    "From the definition of linear independence, we must be able to show that:\n",
    "$$0 = a(v_1-v_2) + b(v_2-v_3) + c(v_3-v_4) + dv_4 \\\\ \\ \\\\\n",
    "= av_1 + (b-a)v_2 + (c-b)v_3 + (d-c)v_4\n",
    "$$\n",
    "For trivial coefficients only.\n",
    "\n",
    "Because $v_1,v_2,v_3,v_4$ are all linearly independent, it must be the case that:\n",
    "$$a = b-a = c-b = d-c = 0$$\n",
    "Therefore, the given list is linearly independent."
   ]
  },
  {
   "cell_type": "markdown",
   "metadata": {},
   "source": [
    "## 2B Bases"
   ]
  },
  {
   "cell_type": "markdown",
   "metadata": {},
   "source": [
    "**Definition 2.26: Basis**\n",
    "- A basis of $V$ is a list of vectors in $V$ that is linearly independent and spans $V$\\\n",
    "This is equivalent to the minimum spanning set of vectors."
   ]
  },
  {
   "cell_type": "markdown",
   "metadata": {},
   "source": [
    "**Criterion for Basis:**\n",
    "- A list $v_1,...,v_n \\in V$ is a basis of $V$ if and only if every $v\\in V$ can be uniquely expressed as a linear combination of $v_1,...,v_n$"
   ]
  },
  {
   "cell_type": "markdown",
   "metadata": {},
   "source": [
    "**Every Spanning List Contains a Basis:**\n",
    "- Every spanning list in a vector space can be reduced to a basis of the vector space"
   ]
  },
  {
   "cell_type": "markdown",
   "metadata": {},
   "source": [
    "**Basis of Finite-Dimensional Vector Space:**\n",
    "- Every finite-dimensional vector space has a basis"
   ]
  },
  {
   "cell_type": "markdown",
   "metadata": {},
   "source": [
    "**Every Linearly Independent List Extends to a Basis:**\n",
    "- Every linearly independent list of vectors in a finite-dimensional vector space can be extended to a basis of the vector space"
   ]
  },
  {
   "cell_type": "markdown",
   "metadata": {},
   "source": [
    "**Every Subspace of $V$ is Part of a Direct Sum Equal to $V$:**\n",
    "- For finite-dimensional $V$ and $U\\subseteq V$, there exists some $W\\subseteq V$ such that $V = U \\oplus W$"
   ]
  },
  {
   "cell_type": "markdown",
   "metadata": {},
   "source": [
    "Proof:\\\n",
    "Because $V$ and $U$ are finite-dimensional, there exists a basis $u_1,...,u_m$ of $U$. This basis is a list of linearly independent vectors in $V$. As remarked above, this list may be *extended* to a basis $u_1,...,u_m, w_1,...,w_n$ of $V$. Then,\n",
    "$$ V = U \\oplus W \\ \\text{if} \\ V=U+W \\ \\text{and} \\ U\\cap W = \\{0\\}$$"
   ]
  },
  {
   "cell_type": "markdown",
   "metadata": {},
   "source": [
    "So,\n",
    "$$\\forall v \\in V \\ \\exists a_1,...,a_m,b_1,...,b_n\\in \\mathbb{F} \\ : \\ v = a_1u_1 + \\cdots + a_mu_m + b_1w_1 + \\cdots + b_nw_n \\\\ \\ \\\\\n",
    "\\therefore v \\in U+W \\implies V = U+W$$\n",
    "And,\n",
    "$$\\forall v \\in U\\cap W \\ \\exists a_1,...,a_m,b_1,...,b_n\\in \\mathbb{F} \\ : \\ v = a_1u_1 + \\cdots + a_mu_m = b_1w_1 + \\cdots + b_nw_n \\\\ \\ \\\\\n",
    "\\implies a_1u_1+\\cdots + a_mu_m - b_1w_1 - \\cdots - b_n w_n = 0$$\n",
    "Because $u_1,...,u_m,w_1,...,w_m$ are linearly independent, the coefficients all must equal $0$, proving that $v=0$ and $U\\cap W = \\{0\\}$"
   ]
  },
  {
   "cell_type": "markdown",
   "metadata": {},
   "source": [
    "### Exercises 2B"
   ]
  },
  {
   "cell_type": "markdown",
   "metadata": {},
   "source": [
    "on paper: 2, 4, 6, 8"
   ]
  },
  {
   "cell_type": "markdown",
   "metadata": {},
   "source": [
    "#### 3.\n",
    "$$U=\\{(x_1,x_2,x_3,x_4,x_5) \\in \\mathbb{R}^5 : x_1=3x_2, \\ x_3=7x_4\\}$$\n",
    "a. Find a basis of $U$\\\n",
    "b. Extend the basis of $U$ to a basis of $\\mathbb{R}^5$\\\n",
    "c. Find a subspace $W$ such that $\\mathbb{R}^5 = U\\oplus W$"
   ]
  },
  {
   "cell_type": "markdown",
   "metadata": {},
   "source": [
    "a. The conditions that specify the set indicate that there are only three *free variables* in the set, thus $\\text{dim}(U)=3$. Thus, a basis for $U$ is:\n",
    "$$(3, 1, 0, 0, 0), (0, 0, 7, 1, 0), (0, 0, 0, 0, 1)$$\n",
    "b. We may extend this to a basis or $\\mathbb{R}^5$ by adding two linearly independent vectors. These vectors *necessarily* will not be in $U$, if they were then they would already be in its basis:\n",
    "$$(3, 1, 0, 0, 0), (0, 0, 7, 1, 0), (0, 0, 0, 0, 1), (1, 0, 0, 0, 0), (0, 0, 1, 0, 0, 0)$$"
   ]
  },
  {
   "cell_type": "markdown",
   "metadata": {},
   "source": [
    "c. We may conveniently derive the subspace $W$ from the two vectors that we added in (b):\n",
    "$$W=\\{(x_1,x_2,x_3,x_4,x_5)\\in\\mathbb{R}^5:x_2=x_4=x_5=0\\}$$"
   ]
  },
  {
   "cell_type": "markdown",
   "metadata": {},
   "source": [
    "## 2C Dimension"
   ]
  },
  {
   "cell_type": "markdown",
   "metadata": {},
   "source": [
    "**Definition 2.35: Dimension**\n",
    "- The dimension of a finite-dimensional vector space is the length of *any* basis of the vector space\n",
    "- The dimension of a finitie-dimensional vector space $V$ is denoted $\\dim V$"
   ]
  },
  {
   "cell_type": "markdown",
   "metadata": {},
   "source": [
    "**Dimension of a Subspace:**\n",
    "- If $V$ is finite-dimensional and $U$ is a subspace of $V$, then $\\dim U \\le \\dim V$"
   ]
  },
  {
   "cell_type": "markdown",
   "metadata": {},
   "source": [
    "**Linearly Independent Lists of Length $\\dim V$:**\n",
    "- For finite-dimensional $V$, *every* linearly independent list of vectors in $V$ with length $\\dim V$ *is a basis* of $V$"
   ]
  },
  {
   "cell_type": "markdown",
   "metadata": {},
   "source": [
    "**Subspace of Full Dimension Equals the Whole Space:**\n",
    "- For finite-dimensional $V$ and subspace $U$ of $V$, if $\\dim U = \\dim V$, then $U=V$"
   ]
  },
  {
   "cell_type": "markdown",
   "metadata": {},
   "source": [
    "**Every Spanning List of Length $\\dim V$ in $V$ is a Basis of $V$**"
   ]
  },
  {
   "cell_type": "markdown",
   "metadata": {},
   "source": [
    "**Dimensions of a Sum:**\n",
    "- If $V_1$ and $V_2$ are subspaces of a finite-dimensional vector space, then:\n",
    "$$\\dim(V_1 + V_2) = \\dim  V_1 + \\dim V_2 - \\dim(V_1 \\cap V_2)$$"
   ]
  },
  {
   "cell_type": "markdown",
   "metadata": {},
   "source": [
    "### Exercises 2C"
   ]
  },
  {
   "cell_type": "markdown",
   "metadata": {},
   "source": [
    "on paper: 8, 12, 14, 18"
   ]
  },
  {
   "cell_type": "markdown",
   "metadata": {},
   "source": [
    "#### 8.\n",
    "I banged my head on this one, so I'm writing it out here.\n",
    "\n",
    "For linearly independent $v_1,...,v_m \\in V$ and some $w\\in V$, prove that: $$\\dim \\text{span } (v_1 + w,..., v_m + w) \\ge m - 1$$"
   ]
  },
  {
   "cell_type": "markdown",
   "metadata": {},
   "source": [
    "First case:\\\n",
    "$w \\in \\text{span }(v_1,...,v_m)$\n",
    "\n",
    "In this case, $w$ is in the subspace $U\\subseteq V$ that is spanned by $v_1,...,v_m$. Thus, any combination $v_k + w$ is *also* in the span. Crucially, $w$ may be the additive inverse of one of the bases of $U$: when $w = -v_k$, then:\n",
    "$$\\dim \\text{span } (v_1 + w,..., v_m + w) = m - 1$$"
   ]
  },
  {
   "cell_type": "markdown",
   "metadata": {},
   "source": [
    "Second Case:\\\n",
    "$w \\notin \\text{span }(v_1,...,v_m)$\n",
    "In this case, $v_1 + w,..., v_m + w$ must all be linearly independent, and thus:\n",
    "$$\\dim \\text{span } (v_1 + w,..., v_m + w) = m$$\n",
    "Completing the proof."
   ]
  },
  {
   "cell_type": "markdown",
   "metadata": {},
   "source": [
    "This approach is verbose but makes sense. The tough part was realizing that $w$ could be an additive inverse. I'd shown before (2A Q. 9), that $w\\in\\text{span } (v_1+w,...,v_m+w)$ when $v_1+w,...,v_m+w$ are linearly dependent. However, that proof was not biconditional, so my initial efforts that were foundation on the assumption that $v_1+w,...,v_m+w$ are linearly dependent if $w\\in\\text{span } (v_1+w,...,v_m+w)$ were fruitless. Indeed, its provable by counterexample that this isn't true.\n",
    "\n",
    "The more concise proofs for this problem (that I've found) are formulted as follows below. I couldn't conceive of these approaches because they require a bit of a creative leap. However, there is some useful insight to be found..."
   ]
  },
  {
   "cell_type": "markdown",
   "metadata": {},
   "source": [
    "First, observe that for linearly independent $v_1,...,v_m$ the following is *also linearly independent*:\n",
    "$$v_1, v_2 - v_1, ..., v_m - v_1$$\n",
    "And therefore, $v_2-v_1,...,v_m-v_1$ is linearly independent with: $$\\dim \\text{span } (v_2-v_1,...,v_m - v_1) = m - 1$$"
   ]
  },
  {
   "cell_type": "markdown",
   "metadata": {},
   "source": [
    "Then, we may notice that for $w = -v_1$ (i.e. the *additive inverse of $v_1$*), that:\n",
    "$$\n",
    "v_2-v_1,..., v_m - v_1 \\in \\text{span }(v_1 + w,..., v_m + w) \\\\ \\ \\\\\n",
    "\\therefore \\dim \\text{span }(v_1 + w,..., v_m + w) \\ge m - 1\n",
    "$$"
   ]
  },
  {
   "cell_type": "markdown",
   "metadata": {},
   "source": []
  }
 ],
 "metadata": {
  "kernelspec": {
   "display_name": "anaconda",
   "language": "python",
   "name": "python3"
  },
  "language_info": {
   "codemirror_mode": {
    "name": "ipython",
    "version": 3
   },
   "file_extension": ".py",
   "mimetype": "text/x-python",
   "name": "python",
   "nbconvert_exporter": "python",
   "pygments_lexer": "ipython3",
   "version": "3.12.4"
  }
 },
 "nbformat": 4,
 "nbformat_minor": 2
}
