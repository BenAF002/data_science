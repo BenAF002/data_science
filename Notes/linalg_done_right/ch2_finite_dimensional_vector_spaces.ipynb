{
 "cells": [
  {
   "cell_type": "markdown",
   "metadata": {},
   "source": [
    "## 2A Span and Linear Independence"
   ]
  },
  {
   "cell_type": "markdown",
   "metadata": {},
   "source": [
    "### Linear Combinations and Span"
   ]
  },
  {
   "cell_type": "markdown",
   "metadata": {},
   "source": [
    "**Definition 2.2: Linear Combination**\\\n",
    "A linear combination of a list $v_1,...,v_m$ of vectors in $V$ is *a vector* of the form: $$a_1v_1 + \\cdots + a_mv_m, \\ \\ a_1, ..., a_m \\in \\mathbb{F}$$"
   ]
  },
  {
   "cell_type": "markdown",
   "metadata": {},
   "source": [
    "In other words, a linear combination is the sum of scalar multiples of vectors."
   ]
  },
  {
   "cell_type": "markdown",
   "metadata": {},
   "source": [
    "**Definition 2.4: Span**\n",
    "- The set of all linear combinations of a list of vectors $v_1,...,v_m\\in V$ is called a ***span***, denoted $\\text{span}(v_1,...,v_m)$\n",
    "$$\\text{span}(v_1,...,v_m) = \\{a_1v_1 + \\cdots + a_mv_m : a_1,...,a_m\\in\\mathbb{F}\\}$$\n",
    "- The span of an empty list $()$ is *defined to be* $\\{0\\}$"
   ]
  },
  {
   "cell_type": "markdown",
   "metadata": {},
   "source": [
    "**Remark 2.9**\n",
    "- The span of a list of vectors in $V$ is the *smallest subspace* of $V$ that contains *all* vectors in the list.\n",
    "\n",
    "This is a powerful remark. It may motivate the notion that we can define a subspace by its minimum spanning list of vectors.\n",
    "\n",
    "Mini-Proof:\n",
    "- $\\text{span}(v_1,...,v_m)$ is a vector subspace (this may be easily proven), denote this subspace $S$\n",
    "- Because $\\text{span}(v_1,...,v_m)$ is a vector subspace and $\\text{span}(v_1,...,v_m)$ contains each $v_k$ in $S$ as a linear combination of $v_1,...,v_m$, then $\\text{span}(v_1,...,v_m)$ is the *smallest* subspace containing $v_1,...,v_m$\n",
    "    - The final statement is true because of the closure of subspaces under addition and scalar multiplication. No smaller subspace containing vectors which may not be linearly combined to equal some vector in $v_1,...,v_m$ may therefore contain all $v_1,...,v_m$"
   ]
  },
  {
   "cell_type": "markdown",
   "metadata": {},
   "source": [
    "**Definition 2.7: Spans**\n",
    "- If $\\text{span}(v_1,...,v_m) = V$, then we say that the list $v_1,...,v_m$ ***spans*** the vector space $V$\n",
    "\n",
    "In other words, *every vector in V* is expressable as a *linear combination* of the vectors in the list $v_1,..., v_m$"
   ]
  },
  {
   "cell_type": "markdown",
   "metadata": {},
   "source": [
    "Now for a crucial definition...\n",
    "\n",
    "**Definition 2.9: Finite-Dimensional Vector Space**\n",
    "- A vector space is called ***finite-dimensional*** if some list of vectors in it spans the space."
   ]
  },
  {
   "cell_type": "markdown",
   "metadata": {},
   "source": [
    "### Infinite-Dimensional Example: Polynomials"
   ]
  },
  {
   "cell_type": "markdown",
   "metadata": {},
   "source": [
    "**Definition 2.10: Polynomial, $\\mathcal{P}(\\mathbb{F})$**\n",
    "- A function $p:\\mathbb{F} \\rightarrow \\mathbb{F}$ is called a *polynomial* with coefficients in $\\mathbb{F}$ if there exist $a_0,...,a_m\\in\\mathbb{F}$ such that: $$p(z) = a_0 + a_1z + a_2z^2 + \\cdots + a_mz^m, \\ \\ \\forall z\\in\\mathbb{F}$$\n",
    "- $\\mathcal{P}(\\mathbb{F})$ is the set of all polynomials with coefficients in $\\mathbb{F}$"
   ]
  },
  {
   "cell_type": "markdown",
   "metadata": {},
   "source": [
    "So, $\\mathcal{P}(\\mathbb{F})$ is a vector space over $\\mathbb{F}$ with the operations of addition and scalar multiplication."
   ]
  },
  {
   "cell_type": "markdown",
   "metadata": {},
   "source": [
    "**NOTE**: $\\mathcal{P}(\\mathbb{F})$ is the set of all *single-variable* polynomials. Thus it satisfies the properties of the definition of a subspace for all $z\\in\\mathbb{F}$. However, if we try to add polynomials with different variables, e.g. $p(z) + p(y)$, the result is a multivariable polynomial which is in a different vector space..."
   ]
  },
  {
   "cell_type": "markdown",
   "metadata": {},
   "source": [
    "For nonnegative integer $m$, $\\mathcal{P}_m(\\mathbb{F})$ denotes the set of all polynomials with coefficients in $\\mathbb{F}$ and degree *at most* $m$. Then for each nonnegative integer $m$, vector space $\\mathcal{P}_m(\\mathbb{F})$ is finite-dimensional with $\\text{span}(1, z,...,z^m)$.\n",
    "\n",
    "However, $\\mathcal{P}(\\mathbb{F})$ is **infinite-dimensional** because an infinitely large degree of polynomials must be included in its minimum spanning list."
   ]
  },
  {
   "cell_type": "markdown",
   "metadata": {},
   "source": [
    "### Linear Independence"
   ]
  },
  {
   "cell_type": "markdown",
   "metadata": {},
   "source": [
    "**Definition 2.15: Linearly Independent**\n",
    "- A list of vectors in $V$ is *linearly independent* if the only choice of $a_1, ..., a_m \\in \\mathbb{F}$ that makes $a_1v_1 + \\cdots + a_mv_m = 0$ the trivial solution of $a_1 = \\cdots = a_m = 0$\n",
    "- The empty list $()$ is defined to be linearly independent\n",
    "\n",
    "Equivalently, a list of vectors is linearly independent if no vector in the list may be expressed as a linear combination of the other vectors in the list.\\\n",
    "It follows then that $v_1,...,v_m$ is linearly independent if and only if each vector in $\\text{span}(v_1,...,v_m)$ has *only one* representation as a linear combination of $v_1,...,v_m$."
   ]
  },
  {
   "cell_type": "markdown",
   "metadata": {},
   "source": [
    "**Definition 2.17: Linearly Dependent**\n",
    "- A list of vectors in $V$ is called *linearly dependent* if it is not linearly independent\n",
    "- In other words, if there exist $a_1,...,a_m \\in \\mathbb{F}$ not all $0$, such that $a_1v_1+\\cdots+a_mv_m = 0$"
   ]
  },
  {
   "cell_type": "markdown",
   "metadata": {},
   "source": [
    "**Lemma 2.19: Linear Dependence**\\\n",
    "For a linearly dependent list $v_1,...,v_m\\in V$, there exists $k\\in\\{1,2,..,m\\}$ such that $$v_k\\in \\text{span}(v_1,...,v_{k-1})$$\n",
    "Furthermore, if $k$ satisfies the condition above and the $k^\\text{th}$ term is removed from $v_1,...,v_m$, then the span of the remaining list equals $\\text{span}(v_1,...,v_m)$"
   ]
  },
  {
   "cell_type": "markdown",
   "metadata": {},
   "source": [
    "This lemma seems to simply state that any linearly dependent list of vectors includes at least one vectore which may be removed from the list without changing the list's span. This is intuitive because linearly dependent vectors are fundamentally extraneous, they are just repetitions of some combination of other vectors in the list and thus are included within the span by the definition of a span."
   ]
  },
  {
   "cell_type": "markdown",
   "metadata": {},
   "source": [
    "**Remark 2.22**\\\n",
    "In a finite-dimensional vector space, the length of every linearly independent list of vectors is less than or equal to the length of every spanning list of vectors.\n",
    "$$\\text{Length of Linearly Independent List} \\ \\le \\ \\text{Length of Spanning List}$$"
   ]
  },
  {
   "cell_type": "markdown",
   "metadata": {},
   "source": [
    "**Remark 2.25**\\\n",
    "Every subspace of a finite-dimensional vector space is finite-dimensional\n",
    "- This remark is provable by lemma 2.19 and remark 2.22"
   ]
  },
  {
   "cell_type": "markdown",
   "metadata": {},
   "source": [
    "### Exercises 2A"
   ]
  },
  {
   "cell_type": "markdown",
   "metadata": {},
   "source": [
    "1. Find a list of four distinct vectors in $\\mathbb{F}^3$ whose span equals $$\\{(x,y,z) \\in \\mathbb{F}^3 : x + y + z = 0\\}$$"
   ]
  },
  {
   "cell_type": "markdown",
   "metadata": {},
   "source": []
  }
 ],
 "metadata": {
  "language_info": {
   "name": "python"
  }
 },
 "nbformat": 4,
 "nbformat_minor": 2
}
