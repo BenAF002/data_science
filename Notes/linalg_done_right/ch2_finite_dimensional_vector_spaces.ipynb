{
 "cells": [
  {
   "cell_type": "markdown",
   "metadata": {},
   "source": [
    "## 2A Span and Linear Independence"
   ]
  },
  {
   "cell_type": "markdown",
   "metadata": {},
   "source": [
    "### Linear Combinations and Span"
   ]
  },
  {
   "cell_type": "markdown",
   "metadata": {},
   "source": [
    "**Definition 2.2: Linear Combination**\\\n",
    "A linear combination of a list $v_1,...,v_m$ of vectors in $V$ is *a vector* of the form: $$a_1v_1 + \\cdots + a_mv_m, \\ \\ a_1, ..., a_m \\in \\mathbb{F}$$"
   ]
  },
  {
   "cell_type": "markdown",
   "metadata": {},
   "source": [
    "In other words, a linear combination is the sum of scalar multiples of vectors."
   ]
  },
  {
   "cell_type": "markdown",
   "metadata": {},
   "source": [
    "**Definition 2.4: Span**\n",
    "- The set of all linear combinations of a list of vectors $v_1,...,v_m\\in V$ is called a ***span***, denoted $\\text{span}(v_1,...,v_m)$\n",
    "$$\\text{span}(v_1,...,v_m) = \\{a_1v_1 + \\cdots + a_mv_m : a_1,...,a_m\\in\\mathbb{F}\\}$$\n",
    "- The span of an empty list $()$ is *defined to be* $\\{0\\}$"
   ]
  },
  {
   "cell_type": "markdown",
   "metadata": {},
   "source": [
    "**Remark 2.9**\n",
    "- The span of a list of vectors in $V$ is the *smallest subspace* of $V$ that contains *all* vectors in the list.\n",
    "\n",
    "This is a powerful remark. It may motivate the notion that we can define a subspace by its minimum spanning list of vectors.\n",
    "\n",
    "Mini-Proof:\n",
    "- $\\text{span}(v_1,...,v_m)$ is a vector subspace (this may be easily proven), denote this subspace $S$\n",
    "- Because $\\text{span}(v_1,...,v_m)$ is a vector subspace and $\\text{span}(v_1,...,v_m)$ contains each $v_k$ in $S$ as a linear combination of $v_1,...,v_m$, then $\\text{span}(v_1,...,v_m)$ is the *smallest* subspace containing $v_1,...,v_m$\n",
    "    - The final statement is true because of the closure of subspaces under addition and scalar multiplication. No smaller subspace containing vectors which may not be linearly combined to equal some vector in $v_1,...,v_m$ may therefore contain all $v_1,...,v_m$"
   ]
  },
  {
   "cell_type": "markdown",
   "metadata": {},
   "source": [
    "**Definition 2.7: Spans**\n",
    "- If $\\text{span}(v_1,...,v_m) = V$, then we say that the list $v_1,...,v_m$ ***spans*** the vector space $V$\n",
    "\n",
    "In other words, *every vector in V* is expressable as a *linear combination* of the vectors in the list $v_1,..., v_m$"
   ]
  },
  {
   "cell_type": "markdown",
   "metadata": {},
   "source": [
    "Now for a crucial definition...\n",
    "\n",
    "**Definition 2.9: Finite-Dimensional Vector Space**\n",
    "- A vector space is called ***finite-dimensional*** if some list of vectors in it spans the space."
   ]
  },
  {
   "cell_type": "markdown",
   "metadata": {},
   "source": [
    "**Definition 2.10: Polynomial, $\\mathcal{P}(\\mathbb{F})$**\n",
    "- A function $p:\\mathbb{F} \\rightarrow \\mathbb{F}$ is called a *polynomial* with coefficients in $\\mathbb{F}$ if there exist $a_0,...,a_m\\in\\mathbb{F}$ such that: $$p(z) = a_0 + a_1z + a_2z^2 + \\cdots + a_mz^m, \\ \\ \\forall z\\in\\mathbb{F}$$\n",
    "- $\\mathcal{P}(\\mathbb{F})$ is the set of all polynomials with coefficients in $\\mathbb{F}$"
   ]
  },
  {
   "cell_type": "markdown",
   "metadata": {},
   "source": [
    "So, $\\mathcal{P}(\\mathbb{F})$ is a vector space over $\\mathbb{F}$ with the operations of addition and scalar multiplication."
   ]
  },
  {
   "cell_type": "markdown",
   "metadata": {},
   "source": [
    "**NOTE**: $\\mathcal{P}(\\mathbb{F})$ is the set of all *single-variable* polynomials. Thus it satisfies the properties of the definition of a subspace for all $z\\in\\mathbb{F}$. However, if we try to add polynomials with different variables, e.g. $p(z) + p(y)$, the result is a multivariable polynomial which is in a different vector space..."
   ]
  },
  {
   "cell_type": "markdown",
   "metadata": {},
   "source": []
  }
 ],
 "metadata": {
  "language_info": {
   "name": "python"
  }
 },
 "nbformat": 4,
 "nbformat_minor": 2
}
