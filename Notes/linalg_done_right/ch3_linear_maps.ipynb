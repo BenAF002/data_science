{
 "cells": [
  {
   "cell_type": "markdown",
   "metadata": {},
   "source": [
    "## 3A Vector Space of Linear Maps"
   ]
  },
  {
   "cell_type": "markdown",
   "metadata": {},
   "source": [
    "### Linear Maps"
   ]
  },
  {
   "cell_type": "markdown",
   "metadata": {},
   "source": [
    "**Definition 3.1: Linear Map**\n",
    "- A linear map from $V$ to $W$ is a function $T:V\\rightarrow W$ with the following properties:\n",
    "    - *Additivity* $$T(u+v) = T(u) + T(v), \\ \\forall u,v \\in V$$\n",
    "    - *Homogeneity* $$T(\\lambda v) = \\lambda T(v), \\ \\forall \\lambda \\in \\mathbb{F}, \\ \\forall v \\in V$$"
   ]
  },
  {
   "cell_type": "markdown",
   "metadata": {},
   "source": [
    "**Notation $\\mathcal{L}$:**\n",
    "- The set of linear maps from $V$ to $W$ is denoted $\\mathcal{L}(V,W)$\n",
    "- The set of linear maps from $V$ to $V$ (i.e. from $V$ onto itself) is denoted $\\mathcal{L}(V)$"
   ]
  },
  {
   "cell_type": "markdown",
   "metadata": {},
   "source": [
    "**Lemma: Linear Maps**\n",
    "- Suppose $v_1,...,v_n \\in V$ form a basis of $V$ and $w_1,...,w_n \\in W$. Then there exists a *unique* linear map $T:V\\rightarrow W$, such that:\n",
    "$$T(v_k) = w_k, \\ \\forall k=1,...,n$$"
   ]
  },
  {
   "cell_type": "markdown",
   "metadata": {},
   "source": [
    "Proof:\\\n",
    "First show existence:\n",
    "$$T(c_1v_1+\\cdots + c_nv_n) = c_1w_1+\\cdots + c_nw_n, \\ c_1,...,c_n \\in \\mathbb{F}$$\n",
    "Because this mapping holds for any arbitrary scalars $c_1,...,c_n$ and the list $v_1,...,v_n$ is a basis of $V$, the mapping is therefore a mapping from the space $V$ to the space $W$. By selecting $c_k=1$ and all other $c_i=0$, the equation above shows that $T(v_k)=w_k$\n",
    "\n",
    "Now show uniqueness:\n",
    "$$\\begin{alignat*}{1}\n",
    "    & \\text{Homogeneity:} \\ \\ \\ T(c_kv_k) = c_kT(v_k) = c_kw_k \\\\\n",
    "    & \\text{Additivity:} \\ \\ \\ T(c_1v_1 + \\cdots + c_nv_n) = c_1T(v_1) + \\cdots + c_n T(v_n) = c_1w_1 + \\cdots c_nw_n \n",
    "\\end{alignat*}$$\n",
    "Because $v_1,...,v_n$ is a basis, there is one unique linear combination representing the vector $v_k = c_1v_1 + \\cdots c_nv_n$. Therefore, $T$ is uniquely determined on $V$."
   ]
  },
  {
   "cell_type": "markdown",
   "metadata": {},
   "source": [
    "### Algebraice Operation of $\\mathcal{L}(V,W)$"
   ]
  },
  {
   "cell_type": "markdown",
   "metadata": {},
   "source": [
    "**Definition 3.5: Addition and Scalar Multiplication on $\\mathcal{L}(V<W)$**\n",
    "- For $S,T\\in\\mathcal{L}(V,W)$ and $\\lambda \\in \\mathbb{F}$:\n",
    "$$\\begin{alignat*}{1}\n",
    "    & \\text{Sum:} \\ \\ (S+T)(v) = S(v) + T(v) \\\\\n",
    "    & \\text{Product:} \\ \\ (\\lambda T)(v) = \\lambda T(v)\n",
    "\\end{alignat*}$$"
   ]
  },
  {
   "cell_type": "markdown",
   "metadata": {},
   "source": [
    "**Result:**\n",
    "- With the operations of addition and scalar multiplication defined in 3.5, $\\mathcal{L}(V,W)$ *is a vector space* with the operations of linear map addition and scalar multiplication\n",
    "    - With the additive identity $0$ being the *zero linear map*"
   ]
  },
  {
   "cell_type": "markdown",
   "metadata": {},
   "source": [
    "**Definition 3.7: Product of Linear Maps**\n",
    "- For $T\\in \\mathcal{L}(U,V)$ and $S\\in \\mathcal{L}(V,W)$, the product $ST\\in\\mathcal{L}(U,W)$ is defined as:\n",
    "$$(ST)(u) = S\\big(T(u)\\big), \\ \\forall u\\in U$$\n",
    "This is the ordinary composition $S \\circ T$ of two functions. Yet we typically write the composition as $ST$ to highlight the distributive properties of products of linear maps.\n",
    "\n",
    "**NOTE:** $ST$ is *only defined* when $T$ maps *into the domain* of $S$ This is intuitive when we consider that $S$ is a function, thus it is only defined over its domain."
   ]
  },
  {
   "cell_type": "markdown",
   "metadata": {},
   "source": [
    "#### Properties of Linear Maps"
   ]
  },
  {
   "cell_type": "markdown",
   "metadata": {},
   "source": [
    "**Associativity:**\n",
    "- For linear maps $T_1, T_2, T_3$ that map to compatible domains: $$(T_1T_2)T_3 = T_1(T_2T_3)$$\n",
    "    - In other words, we may evaluate any product first, but the order on which the products are applied may not be changed (not commutative)\n",
    "\n",
    "**Identity:**\n",
    "- For $T\\in \\mathcal{L}(V,W)$ and identity operator $I$: $$TI = IT = T$$\n",
    "    - The identity operator $I$ is defined on $V$ in the left term, and on $W$ in the middle term\n",
    "\n",
    "**Distributive Properties:**\n",
    "- For $T, T_1, T_2 \\in \\mathcal{L}(U,V)$ and $S, S_1, S_2 \\in \\mathcal{L}(V,W)$:\n",
    "$$(S_1 + S_2)T = S_1T + S_2T \\ \\text{and} \\ S(T_1 + T_2) = ST_1 + ST_2$$"
   ]
  },
  {
   "cell_type": "markdown",
   "metadata": {},
   "source": [
    "**Linear Maps Take 0 to 0**\n",
    "- $T(0)=0$\n",
    "Proof:\\\n",
    "From additivity:\n",
    "$$T(0) = T(0+0) = T(0) + T(0)$$\n",
    "Adding additive inverse to each side:\n",
    "$$T(0) + (-T(0)) = 0 = T(0) + T(0) + (-T(0)) \\\\ \\implies T(0) = 0$$"
   ]
  },
  {
   "cell_type": "markdown",
   "metadata": {},
   "source": [
    "### Exercises 3A"
   ]
  },
  {
   "cell_type": "markdown",
   "metadata": {},
   "source": [
    "#### 1. \n",
    "Show that $T:\\reals^3 \\rightarrow \\reals^2$ is linear if and only if $b=c=0$:\n",
    "$$T(x,y,z) = (2x-4y+3z+b, \\ 6x+cxyz)$$"
   ]
  },
  {
   "cell_type": "markdown",
   "metadata": {},
   "source": [
    "By examination, the homogeneity condition appears safe, so let's check additivity first. For $T$ to be linear, the following condition must hold:\n",
    "$$T(v+u) = T(u) + T(v)$$\n",
    "Let $v=(x_1,y_1,z_1)$ and $u=(x_2,y_2,z_2)$, then:\n",
    "$$\n",
    "T(v+u) = T(x_1+x_2, \\ y_1+y_2, \\ z_1+z_2) \\\\ = \\big[ (6(x_1+x_2) - 4(y_1+y_2) + 3(z_1+z_2) + b), \\ (6(x_1+x_2) + c((x_1+x_2)(y_1+y_2)(z_1+z_2))) \\big] \\\\ \\ \\\\\n",
    "T(v) + T(u) = \\big[ (6(x_1+x_2) - 4(y_1+y_2) + 3(z_1+z_2) + 2b), \\ (6(x_1+x_2) + c(X_1y_1z_1 + x_2y_2z_2)) \\big]\n",
    "$$\n",
    "Thus $T(v+u) = T(v) + T(u)$ only when $b=c=0$"
   ]
  },
  {
   "cell_type": "markdown",
   "metadata": {},
   "source": [
    "#### 11.\n",
    "Let $T\\in\\mathcal{L}(V)$ for finite dimensional $V$. Prove that: $$ST=TS \\iff T = \\lambda I, \\ \\ \\forall S\\in \\mathcal{L}(V), \\ \\lambda \\in \\mathbb{F}$$"
   ]
  },
  {
   "cell_type": "markdown",
   "metadata": {},
   "source": [
    "First direction: $T=\\lambda I \\implies ST=TS, \\ \\forall S\\in\\mathcal{L}(V)$\\\n",
    "Let $T=\\lambda I$: $$ST= S(\\lambda I) = \\lambda SI = \\lambda IS = \\lambda S, \\ \\forall \\lambda \\\\ \\ \\\\ \\therefore T=\\lambda I \\implies ST=TS, \\ \\forall S\\in\\mathcal{L}(V)$$"
   ]
  },
  {
   "cell_type": "markdown",
   "metadata": {},
   "source": [
    "Second direction: $ST=TS, \\ \\ \\forall S\\in\\mathcal{L}(V) \\implies T=\\lambda I$:"
   ]
  },
  {
   "cell_type": "markdown",
   "metadata": {},
   "source": [
    "Note the importance of the $\\forall S \\in\\mathcal{L}(V)$. We could, for example, have offsetting rotations for which this holds, so it isn't the case that the commutativity implies that $T$ is the identity. Rather, if commutativity with $T$ is true **for all** $S\\in\\mathcal{L}(V)$, then $T$ is the identity.\n",
    "\n",
    "Thus, having proven that $T=\\lambda I \\implies ST=TS \\ \\forall S$, if we can find *any* $S$ for which $ST \\ne TS \\ \\forall T\\ne \\lambda I$, then we will have completed the proof:"
   ]
  },
  {
   "cell_type": "markdown",
   "metadata": {},
   "source": [
    "Let $S(v) = aw, \\ a\\in\\mathbb{F}, \\ w\\in V, \\ \\forall v\\in V$, then:\n",
    "$$ ST(v) = aw \\ \\ \\text{and} \\ \\ TS(v) = aT(w) \\\\ \\ \\\\\n",
    " ST = TS \\implies aw = aT(w) \\implies T = I \\\\ \\ \\\\\n",
    " \\therefore ST=TS, \\ \\forall S\\in\\mathcal{L}(V) \\implies T = \\lambda I$$"
   ]
  },
  {
   "cell_type": "markdown",
   "metadata": {},
   "source": [
    "This completes the proof."
   ]
  },
  {
   "cell_type": "markdown",
   "metadata": {},
   "source": [
    "## 3B Null Spaces and Ranges"
   ]
  },
  {
   "cell_type": "markdown",
   "metadata": {},
   "source": [
    "### Null Space and Injectivity"
   ]
  },
  {
   "cell_type": "markdown",
   "metadata": {},
   "source": [
    "**Definition 3.11: Null Space**\n",
    "- For $T\\in \\mathcal{L}(V,W)$, the *null space* of $T$ is the subset of $V$ consisting of the vectors that $T$ maps to 0. It is denoted $\\text{null} T$:\n",
    "$$\\text{null} \\ T = \\{v\\in V:Tv=0\\}$$"
   ]
  },
  {
   "cell_type": "markdown",
   "metadata": {},
   "source": []
  }
 ],
 "metadata": {
  "language_info": {
   "name": "python"
  }
 },
 "nbformat": 4,
 "nbformat_minor": 2
}
