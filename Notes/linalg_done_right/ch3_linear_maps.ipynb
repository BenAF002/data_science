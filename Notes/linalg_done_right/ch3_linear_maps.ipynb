{
 "cells": [
  {
   "cell_type": "markdown",
   "metadata": {},
   "source": [
    "## 3A Vector Space of Linear Maps"
   ]
  },
  {
   "cell_type": "markdown",
   "metadata": {},
   "source": [
    "### Linear Maps"
   ]
  },
  {
   "cell_type": "markdown",
   "metadata": {},
   "source": [
    "**Definition 3.1: Linear Map**\n",
    "- A linear map from $V$ to $W$ is a function $T:V\\rightarrow W$ with the following properties:\n",
    "    - *Additivity* $$T(u+v) = T(u) + T(v), \\ \\forall u,v \\in V$$\n",
    "    - *Homogeneity* $$T(\\lambda v) = \\lambda T(v), \\ \\forall \\lambda \\in \\mathbb{F}, \\ \\forall v \\in V$$"
   ]
  },
  {
   "cell_type": "markdown",
   "metadata": {},
   "source": [
    "**Notation $\\mathcal{L}$:**\n",
    "- The set of linear maps from $V$ to $W$ is denoted $\\mathcal{L}(V,W)$\n",
    "- The set of linear maps from $V$ to $V$ (i.e. from $V$ onto itself) is denoted $\\mathcal{L}(V)$"
   ]
  },
  {
   "cell_type": "markdown",
   "metadata": {},
   "source": [
    "**Lemma: Linear Maps**\n",
    "- Suppose $v_1,...,v_n \\in V$ form a basis of $V$ and $w_1,...,w_n \\in W$. Then there exists a *unique* linear map $T:V\\rightarrow W$, such that:\n",
    "$$T(v_k) = w_k, \\ \\forall k=1,...,n$$"
   ]
  },
  {
   "cell_type": "markdown",
   "metadata": {},
   "source": [
    "Proof:\\\n",
    "First show existence:\n",
    "$$T(c_1v_1+\\cdots + c_nv_n) = c_1w_1+\\cdots + c_nw_n, \\ c_1,...,c_n \\in \\mathbb{F}$$\n",
    "Because this mapping holds for any arbitrary scalars $c_1,...,c_n$ and the list $v_1,...,v_n$ is a basis of $V$, the mapping is therefore a mapping from the space $V$ to the space $W$. By selecting $c_k=1$ and all other $c_i=0$, the equation above shows that $T(v_k)=w_k$\n",
    "\n",
    "Now show uniqueness:\n",
    "$$\\begin{alignat*}{1}\n",
    "    & \\text{Homogeneity:} \\ \\ \\ T(c_kv_k) = c_kT(v_k) = c_kw_k \\\\\n",
    "    & \\text{Additivity:} \\ \\ \\ T(c_1v_1 + \\cdots + c_nv_n) = c_1T(v_1) + \\cdots + c_n T(v_n) = c_1w_1 + \\cdots c_nw_n \n",
    "\\end{alignat*}$$\n",
    "Because $v_1,...,v_n$ is a basis, there is one unique linear combination representing the vector $v_k = c_1v_1 + \\cdots c_nv_n$. Therefore, $T$ is uniquely determined on $V$."
   ]
  },
  {
   "cell_type": "markdown",
   "metadata": {},
   "source": [
    "### Algebraice Operation of $\\mathcal{L}(V,W)$"
   ]
  },
  {
   "cell_type": "markdown",
   "metadata": {},
   "source": [
    "**Definition 3.5: Addition and Scalar Multiplication on $\\mathcal{L}(V<W)$**\n",
    "- For $S,T\\in\\mathcal{L}(V,W)$ and $\\lambda \\in \\mathbb{F}$:\n",
    "$$\\begin{alignat*}{1}\n",
    "    & \\text{Sum:} \\ \\ (S+T)(v) = S(v) + T(v) \\\\\n",
    "    & \\text{Product:} \\ \\ (\\lambda T)(v) = \\lambda T(v)\n",
    "\\end{alignat*}$$"
   ]
  },
  {
   "cell_type": "markdown",
   "metadata": {},
   "source": [
    "**Result:**\n",
    "- With the operations of addition and scalar multiplication defined in 3.5, $\\mathcal{L}(V,W)$ *is a vector space* with the operations of linear map addition and scalar multiplication\n",
    "    - With the additive identity $0$ being the *zero linear map*"
   ]
  },
  {
   "cell_type": "markdown",
   "metadata": {},
   "source": [
    "**Definition 3.7: Product of Linear Maps**\n",
    "- For $T\\in \\mathcal{L}(U,V)$ and $S\\in \\mathcal{L}(V,W)$, the product $ST\\in\\mathcal{L}(U,W)$ is defined as:\n",
    "$$(ST)(u) = S\\big(T(u)\\big), \\ \\forall u\\in U$$\n",
    "This is the ordinary composition $S \\circ T$ of two functions. Yet we typically write the composition as $ST$ to highlight the distributive properties of products of linear maps.\n",
    "\n",
    "**NOTE:** $ST$ is *only defined* when $T$ maps *into the domain* of $S$ This is intuitive when we consider that $S$ is a function, thus it is only defined over its domain."
   ]
  },
  {
   "cell_type": "markdown",
   "metadata": {},
   "source": [
    "#### Properties of Linear Maps"
   ]
  },
  {
   "cell_type": "markdown",
   "metadata": {},
   "source": [
    "**Associativity:**\n",
    "- For linear maps $T_1, T_2, T_3$ that map to compatible domains: $$(T_1T_2)T_3 = T_1(T_2T_3)$$\n",
    "    - In other words, we may evaluate any product first, but the order on which the products are applied may not be changed (not commutative)\n",
    "\n",
    "**Identity:**\n",
    "- For $T\\in \\mathcal{L}(V,W)$ and identity operator $I$: $$TI = IT = T$$\n",
    "    - The identity operator $I$ is defined on $V$ in the left term, and on $W$ in the middle term\n",
    "\n",
    "**Distributive Properties:**\n",
    "- For $T, T_1, T_2 \\in \\mathcal{L}(U,V)$ and $S, S_1, S_2 \\in \\mathcal{L}(V,W)$:\n",
    "$$(S_1 + S_2)T = S_1T + S_2T \\ \\text{and} \\ S(T_1 + T_2) = ST_1 + ST_2$$"
   ]
  },
  {
   "cell_type": "markdown",
   "metadata": {},
   "source": [
    "**Linear Maps Take 0 to 0**\n",
    "- $T(0)=0$\n",
    "Proof:\\\n",
    "From additivity:\n",
    "$$T(0) = T(0+0) = T(0) + T(0)$$\n",
    "Adding additive inverse to each side:\n",
    "$$T(0) + (-T(0)) = 0 = T(0) + T(0) + (-T(0)) \\\\ \\implies T(0) = 0$$"
   ]
  },
  {
   "cell_type": "markdown",
   "metadata": {},
   "source": [
    "### Exercises 3A"
   ]
  },
  {
   "cell_type": "markdown",
   "metadata": {},
   "source": [
    "#### 1. \n",
    "Show that $T:\\reals^3 \\rightarrow \\reals^2$ is linear if and only if $b=c=0$:\n",
    "$$T(x,y,z) = (2x-4y+3z+b, \\ 6x+cxyz)$$"
   ]
  },
  {
   "cell_type": "markdown",
   "metadata": {},
   "source": [
    "By examination, the homogeneity condition appears safe, so let's check additivity first. For $T$ to be linear, the following condition must hold:\n",
    "$$T(v+u) = T(u) + T(v)$$\n",
    "Let $v=(x_1,y_1,z_1)$ and $u=(x_2,y_2,z_2)$, then:\n",
    "$$\n",
    "T(v+u) = T(x_1+x_2, \\ y_1+y_2, \\ z_1+z_2) \\\\ = \\big[ (6(x_1+x_2) - 4(y_1+y_2) + 3(z_1+z_2) + b), \\ (6(x_1+x_2) + c((x_1+x_2)(y_1+y_2)(z_1+z_2))) \\big] \\\\ \\ \\\\\n",
    "T(v) + T(u) = \\big[ (6(x_1+x_2) - 4(y_1+y_2) + 3(z_1+z_2) + 2b), \\ (6(x_1+x_2) + c(X_1y_1z_1 + x_2y_2z_2)) \\big]\n",
    "$$\n",
    "Thus $T(v+u) = T(v) + T(u)$ only when $b=c=0$"
   ]
  },
  {
   "cell_type": "markdown",
   "metadata": {},
   "source": [
    "#### 11.\n",
    "Let $T\\in\\mathcal{L}(V)$ for finite dimensional $V$. Prove that: $$ST=TS \\iff T = \\lambda I, \\ \\ \\forall S\\in \\mathcal{L}(V), \\ \\lambda \\in \\mathbb{F}$$"
   ]
  },
  {
   "cell_type": "markdown",
   "metadata": {},
   "source": [
    "First direction: $T=\\lambda I \\implies ST=TS, \\ \\forall S\\in\\mathcal{L}(V)$\\\n",
    "Let $T=\\lambda I$: $$ST= S(\\lambda I) = \\lambda SI = \\lambda IS = \\lambda S, \\ \\forall \\lambda \\\\ \\ \\\\ \\therefore T=\\lambda I \\implies ST=TS, \\ \\forall S\\in\\mathcal{L}(V)$$"
   ]
  },
  {
   "cell_type": "markdown",
   "metadata": {},
   "source": [
    "Second direction: $ST=TS, \\ \\ \\forall S\\in\\mathcal{L}(V) \\implies T=\\lambda I$:"
   ]
  },
  {
   "cell_type": "markdown",
   "metadata": {},
   "source": [
    "Note the importance of the $\\forall S \\in\\mathcal{L}(V)$. We could, for example, have offsetting rotations for which this holds, so it isn't the case that the commutativity implies that $T$ is the identity. Rather, if commutativity with $T$ is true **for all** $S\\in\\mathcal{L}(V)$, then $T$ is the identity.\n",
    "\n",
    "Thus, having proven that $T=\\lambda I \\implies ST=TS \\ \\forall S$, if we can find *any* $S$ for which $ST \\ne TS \\ \\forall T\\ne \\lambda I$, then we will have completed the proof:"
   ]
  },
  {
   "cell_type": "markdown",
   "metadata": {},
   "source": [
    "Let $S(v) = aw, \\ a\\in\\mathbb{F}, \\ w\\in V, \\ \\forall v\\in V$, then:\n",
    "$$ ST(v) = aw \\ \\ \\text{and} \\ \\ TS(v) = aT(w) \\\\ \\ \\\\\n",
    " ST = TS \\implies aw = aT(w) \\implies T = I \\\\ \\ \\\\\n",
    " \\therefore ST=TS, \\ \\forall S\\in\\mathcal{L}(V) \\implies T = \\lambda I$$"
   ]
  },
  {
   "cell_type": "markdown",
   "metadata": {},
   "source": [
    "This completes the proof."
   ]
  },
  {
   "cell_type": "markdown",
   "metadata": {},
   "source": [
    "## 3B Null Spaces and Ranges"
   ]
  },
  {
   "cell_type": "markdown",
   "metadata": {},
   "source": [
    "### Null Space and Injectivity"
   ]
  },
  {
   "cell_type": "markdown",
   "metadata": {},
   "source": [
    "**Definition 3.11: Null Space**\n",
    "- For $T\\in \\mathcal{L}(V,W)$, the *null space* of $T$ is the subset of $V$ consisting of the vectors that $T$ maps to 0. It is denoted $\\text{null} \\ T$:\n",
    "$$\\text{null} \\ T = \\{v\\in V:Tv=0\\}$$"
   ]
  },
  {
   "cell_type": "markdown",
   "metadata": {},
   "source": [
    "**The Null Space is a Subspace**\n",
    "- For $T\\in\\mathcal{L}(V,W)$, $\\text{null } T$ is a subspace of $V$\n",
    "    - In other words, $\\text{null } T$ is a subspace of the domain of $T$\n",
    "    - This is intuitive because any vector space $V$ contains $\\{0\\}$"
   ]
  },
  {
   "cell_type": "markdown",
   "metadata": {},
   "source": [
    "**Definition 3.14: Injective**\n",
    "- A function $T: V\\rightarrow W$ is *injective* if $Tu=Tv \\implies u = v$\n",
    "    - In other words, if no two inputs map to the same output value\n",
    "    - I.e. if the mapping is *one-to-one*"
   ]
  },
  {
   "cell_type": "markdown",
   "metadata": {},
   "source": [
    "**Handy Result:**\n",
    "- For $T\\in\\mathcal{L}(V,W)$, $T$ is injective if and only if $\\text{null } T = \\{0\\}$\n",
    "    - This is intuitive because a null space greater than $\\{0\\}$ implies that multiple input values map to the same output value (i.e. to $0$)"
   ]
  },
  {
   "cell_type": "markdown",
   "metadata": {},
   "source": [
    "### Range and Surjectivity"
   ]
  },
  {
   "cell_type": "markdown",
   "metadata": {},
   "source": [
    "**Definition 3.16: Range**\n",
    "- For $T\\in\\mathcal{L}(V,W)$, the *range* of $T$ is the subset of $W$ consisting of those vectors that are equal to $Tv$ for some $v\\in V$\n",
    "$$\\text{range } T = \\{Tv:v\\in V\\}$$\n",
    "- In other words, the range is all values that the linear map maps onto"
   ]
  },
  {
   "cell_type": "markdown",
   "metadata": {},
   "source": [
    "**The Range is a Subspace:**\n",
    "- If $T\\in\\mathcal{L}(V,W)$, then $\\text{range } T$ is a subspace of $W$\n",
    "- Specifically, the range of a linear map is a subspace of the vector space that it maps onto"
   ]
  },
  {
   "cell_type": "markdown",
   "metadata": {},
   "source": [
    "**Definition 3.19: Surjective**\n",
    "- A function $T:V\\rightarrow W$ is *surjective* if its range equals W\n",
    "    - In other words, a surjective function maps onto the *entirity* of the space upon which it maps\n",
    "\n",
    "For a function $T:V\\rightarrow W$, we may describe the space of $W$ as the ***Codomain*** and the subspace of $W$ upon which the function $T$ actually maps (i.e. the values in $W$ that are actually reachable by $T$) as the ***Range***"
   ]
  },
  {
   "cell_type": "markdown",
   "metadata": {},
   "source": [
    "### Fundamental Theorem of Linear Maps"
   ]
  },
  {
   "cell_type": "markdown",
   "metadata": {},
   "source": [
    "- Suppose $V$ is a finite-dimensional vector space and $T\\in\\mathcal{L}(V,W)$. Then $\\text{range } T$ is a finite-dimensional vector space, with dimension:\n",
    "$$\\dim V = \\dim \\text{null } T + \\dim \\text{range }  T$$"
   ]
  },
  {
   "cell_type": "markdown",
   "metadata": {},
   "source": [
    "**Proof:**\\\n",
    "Let $u_1,...,u_m$ be a basis of $\\text{null } T$. Then $\\dim \\text{null }T = m$. Because $\\text{null }T \\subseteq V$, we may represent a basis of $V$ as:\n",
    "$$u_1,...,u_m, v_1,...,v_n$$\n",
    "Thus, $\\dim V = m+n$. So, we must show that $\\dim \\text{range } = n$:\n",
    "- Let $v\\in V$, we may express $v$ as: $$v=a_1u_1+\\cdots + a_mu_m + b_1v_1 + \\cdots + b_nv_n$$\n",
    "- Then, $Tv$ may be expressed only in terms of $v_1,...,v_n$ because the terms $u_1,...,u_m$ are in the null space of $T$: $$Tv = b_1Tv_1+\\cdots+ b_nTv_n$$\n",
    "- $Tv_1,...,Tv_n$ are linearly independent and therefore form a basis of $\\text{range } T$\n",
    "- Therefore, $\\dim \\text{range } T = n$"
   ]
  },
  {
   "cell_type": "markdown",
   "metadata": {},
   "source": [
    "**Important Result -- Linear Maps onto Lower Dimensional Spaces Are Not Injective**\n",
    "- Suppose $V$ and $W$ are finite-dimensional vector spaces with $\\dim V > \\dim W$. Then *no linear map* from $V$ to $W$ is injective\n",
    "- That is, any linear mapping to a lower-dimensional vector space *cannot be* injective\n",
    "    - There must be many values mapped to the same value\n",
    "    - The null space of the mapping must be larger than $\\{0\\}$\n",
    "\n",
    "*Proof:*\n",
    "$$\\text{Fundamental Theorem: } \\dim \\text{null } T = \\dim V - \\dim \\text{range } T \\\\ \\ \\\\\n",
    "\\rightarrow \\dim \\text{null } T \\ge \\dim V - \\dim W \\\\ \\ \\\\\n",
    "\\dim V > \\dim W, \\ \\ \\therefore \\dim \\text{null } T > 0$$"
   ]
  },
  {
   "cell_type": "markdown",
   "metadata": {},
   "source": [
    "**Important Result -- Linear Maps onto Higher Dimensional Spaces Are Not Surjective**\n",
    "- Suppose $V$ and $W$ are finite dimensional vector spaces with $\\dim V < \\dim W$. Then *no linear map* from $V$ to $W$ is surjective\n",
    "- That is, any linear mapping onto a higher-dimensional space *cannot be* surjective\n",
    "\n",
    "*Proof:*\n",
    "$$\\text{Fundamental Theorem: } \\dim \\text{range } T = \\dim V - \\dim \\text{null } T \\\\ \\ \\\\\n",
    "\\rightarrow \\dim \\text{range } T \\le \\dim V \\\\ \\ \\\\\n",
    "\\dim V < \\dim W, \\ \\ \\therefore \\dim \\text{range } T < \\dim W$$"
   ]
  },
  {
   "cell_type": "markdown",
   "metadata": {},
   "source": [
    "These two results have powerful implications for systems of equations.\n",
    "\n",
    "The first result implies that *homogeneous systems of linear equations* that possess more variables than equations have nonzero solutions. This is because the linear map from the input space to the output space maps to a smaller space, thus the null space of the map has a dimension greater than $\\{0\\}$. In other words, the linear map is not injective.\n",
    "\n",
    "*Proof:*\n",
    "$$\n",
    "\\sum_{k=1}^n A_{1,k} x_k = 0 \\\\ \\vdots \\\\ \\sum_{k=1}^n A_{m,k} x_k = 0 \\\\ \\ \\\\ T: \\mathbb{F}^n \\rightarrow \\mathbb{F}^m \\coloneqq \\ \\ T(x_1,...,x_n) = \\bigg(\\sum_{k=1}^n A_{1,k} x_k = 0, ..., \\sum_{k=1}^n A_{m,k} x_k = 0 \\bigg) = 0 \\\\ \\ \\\\\n",
    "n > m \\implies \\dim \\text{null } T > 0\n",
    "$$\n",
    "Therefore, there are more solutions to the homogeneous system of equations than the trivial solution. In other words, there is *at least one* non-trivial solution."
   ]
  },
  {
   "cell_type": "markdown",
   "metadata": {},
   "source": [
    "The second result implies that a non-homogeneous system of linear equations has *no-solutions* for some choices of output values when there are fewer variables than equations. This is because the input space is smaller than the output space, and thus some outputs are unreachable. In other words, the linear map is not surjective.\n",
    "\n",
    "*Proof:*\n",
    "$$\n",
    "\\sum_{k=1}^n A_{1,k} x_k = c_1 \\\\ \\vdots \\\\ \\sum_{k=1}^n A_{m,k}x_k = c_m \\\\ \\ \\\\\n",
    "T:\\mathbb{F}^n \\rightarrow \\mathbb{F}^m \\coloneqq T(x_1,...,x_n) = \\bigg(\\sum_{k=1}^n A_{1,k} x_k, ... ,\\sum_{k=1}^n A_{m,k}x_k \\bigg) = (c_1,...,c_m) \\\\ \\ \\\\\n",
    "n < m \\implies \\dim \\text{range } T < m, \\\\ \\ \\\\ \\therefore \\exists (c_1,...,c_m) \\in \\mathbb{F} : T(x_1,...,x_n)\\ne (c_1,...,c_m)\n",
    "$$"
   ]
  },
  {
   "cell_type": "markdown",
   "metadata": {},
   "source": [
    "### Exercises 3B"
   ]
  },
  {
   "cell_type": "markdown",
   "metadata": {},
   "source": [
    "#### 1.\n",
    "Give an example of a linear map $T$ with $\\dim \\text{null } T = 3$ and $\\dim \\text{range } T = 2$"
   ]
  },
  {
   "cell_type": "markdown",
   "metadata": {},
   "source": [
    "Some $T: \\mathbb{F}^5 \\rightarrow \\mathbb{F}^2$, absolute simplest may be something like:\n",
    "$$T(x_1,...,x_5) = c_1x_1 + c_2x_2, \\ c_1,c_2 \\in \\mathbb{F}$$\n",
    "This linear map has:\n",
    "- Additivity: $$T(x + v) = T(x_1 + v_1,..., x_5 + v_5) \\\\ = c_1(x_1+v_1) + c_2(x_2+v_2) \\\\ = c_1x_1+c_2x_2  + c_1v_1 + c_2v_2 \\\\ = Tx + Tv$$\n",
    "- Homogeneity: $$T(\\lambda x) = \\lambda(c_1x_1 + c_2x_2) = \\lambda Tx$$\n",
    "- And a range of dimension 2: \n",
    "    - Let $x_1,...,x_5\\in\\mathbb{F}^5$ be independent. Then, $\\dim \\mathbb{F}^5 = 5$.\n",
    "    - $x_1, x_2 \\in \\mathbb{F}^2$ are independent, therefore $\\dim \\text{range } T = 2$\n",
    "    $$\\dim \\text{range } T + \\dim \\text{null } T = \\dim \\mathbb{F}^5 = 5 \\\\ \\therefore \\dim \\text{null } T = 3$$"
   ]
  },
  {
   "cell_type": "markdown",
   "metadata": {},
   "source": [
    "#### 4.\n",
    "Show that $\\{T\\in\\mathcal{L}(\\reals^5, \\reals^4) : \\dim \\text{null } T > 2\\}$ is *not* a subspace of $\\mathcal{L}(\\reals^4, \\reals^4)$"
   ]
  },
  {
   "cell_type": "markdown",
   "metadata": {},
   "source": [
    "This a great question because it reinforces some fundamental properties of spaces.\n",
    "\n",
    "Let $T_1(x_1,...,x_5) = (x_1,x_2,0, 0)$ and $T_2(x_1,...,x_5) = (0,0,x_4,x_5)$. \n",
    "$$\\text{dim null }T_1 = \\text{dim null}T_2 = 3 > 2$$\n",
    "These linear mappings are not closed under addition within the subspace $\\mathcal{L}(\\reals^5, \\reals^4)$:\n",
    "$$T_1(x_1,...,x_5) + T_2(x_1,...,x_5) = (x_1,x_2,x_3,x_4)$$\n",
    "For linearly independent $x_1,...,x_5$, the output $(x_1,x_2,x_3,x_4)$ comprises a basais for $\\reals^4$, thus $\\text{dim range } (T_1 + T_2) = 4$ and $\\text{dim null }(T_1+T_2) = 1$. So, $T_1 + T_2 \\notin T$ and $T$ is not a subspace"
   ]
  },
  {
   "cell_type": "markdown",
   "metadata": {},
   "source": [
    "#### 5.\n",
    "Give an example of $T\\in\\mathcal{L}(\\reals^4)$ such that $\\text{range } T = \\text{null } T$"
   ]
  },
  {
   "cell_type": "markdown",
   "metadata": {},
   "source": [
    "This is a tricky question, but it is made simple by taking the meaning of null and range seriously. The range of a transformation is the set of all possible outputs. The null is the set of all *inputs* that the transformation maps to $0$. Thus, such a transformation is:\n",
    "$$T:\\reals^4\\rightarrow \\reals^4 : (x,y,z,w)\\rightarrow(0,0,x,y)$$\n",
    "The range of this mapping is the set of all possible values $x,y\\in\\reals$. Similarly, because the original $x,y$ are mapped to $0$, the null *is also* the set of all possible values $x,y\\in\\reals$"
   ]
  },
  {
   "cell_type": "markdown",
   "metadata": {},
   "source": [
    "#### 6. \n",
    "Prove that there does not exist $T\\in\\mathcal{L}(\\reals^5)$ such that $\\text{range } T = \\text{null } T$"
   ]
  },
  {
   "cell_type": "markdown",
   "metadata": {},
   "source": [
    "Here, we may build off of (5) by observing that an odd number of dimensions implies that $\\text{dim range } T \\ne \\text{dim null } T$. Therefore, the set of all possible outputs of the mapping *cannot* be equivalent to the set of all possible inputs that are mapped to zero.\n",
    "\n",
    "What I don't get is why the zero-mapping wouldn't be considered to be within $\\mathcal{L}(\\reals^5)$... I thought it is always within the space of mappings."
   ]
  },
  {
   "cell_type": "markdown",
   "metadata": {},
   "source": [
    "#### 9.\n",
    "Given that $T\\in\\mathcal{L}(V,W)$ *is injective*, and $v_1,...,v_n\\in V$ are linearly indepedent, prove that $Tv_1,...,Tv_n$ is linearly independent in $W$"
   ]
  },
  {
   "cell_type": "markdown",
   "metadata": {},
   "source": [
    "Because $T$ is injective, $\\text{dim null } T = 0 \\implies \\text{null } T = \\{0\\}$. Then, following from independence of $v_1,...,v_n$:\n",
    "$$\n",
    "c_1v_1 + \\cdots + c_nv_n = 0 \\\\\n",
    "\\implies T(c_1v_1 + \\cdots + c_nv_n) = 0 \\\\\n",
    "\\implies c_1Tv_1 + \\cdots + c_n Tv_n = 0 \\\\\n",
    "\\implies c_1w_1 + \\cdots + c_nw_n = 0 \\\\ \\ \\\\\n",
    "(c_1v_1,...,c_nv_n) \\in \\text{null } T \\implies (c_1,...,c_n) = (0,...,0) \\\\ \\ \\\\ \n",
    "\\therefore w_1,...,w_n \\ \\text{ are linearly independent}\n",
    "$$"
   ]
  },
  {
   "cell_type": "markdown",
   "metadata": {},
   "source": [
    "This formalism is hazy. But I think I can explicate the crux of it: Because $c_1,...,c_n$ *can only be* all zero due to the independence of $v_1,...,v_n$ and the fact that *no vector* in $V$ will be mapped to zero by the mapping $T$ besides the zero vector, we may only have $c_1w_1 + \\cdots c_nw_n = 0$ when $c_1...,c_n = 0,..., 0$. Thus, because the coefficients for $w_1,..,w_n$ must also be all zero, it must be the case that $w_1,...,w_n$ are also all linearly independent."
   ]
  },
  {
   "cell_type": "markdown",
   "metadata": {},
   "source": []
  },
  {
   "cell_type": "markdown",
   "metadata": {},
   "source": []
  }
 ],
 "metadata": {
  "language_info": {
   "name": "python"
  }
 },
 "nbformat": 4,
 "nbformat_minor": 2
}
