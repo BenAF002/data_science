{
 "cells": [
  {
   "cell_type": "markdown",
   "metadata": {},
   "source": [
    "## 3A Vector Space of Linear Maps"
   ]
  },
  {
   "cell_type": "markdown",
   "metadata": {},
   "source": [
    "### Linear Maps"
   ]
  },
  {
   "cell_type": "markdown",
   "metadata": {},
   "source": [
    "**Definition 3.1: Linear Map**\n",
    "- A linear map from $V$ to $W$ is a function $T:V\\rightarrow W$ with the following properties:\n",
    "    - *Additivity* $$T(u+v) = T(u) + T(v), \\ \\forall u,v \\in V$$\n",
    "    - *Homogeneity* $$T(\\lambda v) = \\lambda T(v), \\ \\forall \\lambda \\in \\mathbb{F}, \\ \\forall v \\in V$$"
   ]
  },
  {
   "cell_type": "markdown",
   "metadata": {},
   "source": [
    "**Notation $\\mathcal{L}$:**\n",
    "- The set of linear maps from $V$ to $W$ is denoted $\\mathcal{L}(V,W)$\n",
    "- The set of linear maps from $V$ to $V$ (i.e. from $V$ onto itself) is denoted $\\mathcal{L}(V)$"
   ]
  },
  {
   "cell_type": "markdown",
   "metadata": {},
   "source": [
    "**Lemma: Linear Maps**\n",
    "- Suppose $v_1,...,v_n \\in V$ form a basis of $V$ and $w_1,...,w_n \\in W$. Then there exists a *unique* linear map $T:V\\rightarrow W$, such that:\n",
    "$$T(v_k) = w_k, \\ \\forall k=1,...,n$$"
   ]
  },
  {
   "cell_type": "markdown",
   "metadata": {},
   "source": [
    "Proof:\\\n",
    "First show existence:\n",
    "$$T(c_1v_1+\\cdots + c_nv_n) = c_1w_1+\\cdots + c_nw_n, \\ c_1,...,c_n \\in \\mathbb{F}$$\n",
    "Because this mapping holds for any arbitrary scalars $c_1,...,c_n$ and the list $v_1,...,v_n$ is a basis of $V$, the mapping is therefore a mapping from the space $V$ to the space $W$. By selecting $c_k=1$ and all other $c_i=0$, the equation above shows that $T(v_k)=w_k$\n",
    "\n",
    "Now show uniqueness:\n",
    "$$\\begin{alignat*}{1}\n",
    "    & \\text{Homogeneity:} \\ \\ \\ T(c_kv_k) = c_kT(v_k) = c_kw_k \\\\\n",
    "    & \\text{Additivity:} \\ \\ \\ T(c_1v_1 + \\cdots + c_nv_n) = c_1T(v_1) + \\cdots + c_n T(v_n) = c_1w_1 + \\cdots c_nw_n \n",
    "\\end{alignat*}$$\n",
    "Because $v_1,...,v_n$ is a basis, there is one unique linear combination representing the vector $v_k = c_1v_1 + \\cdots c_nv_n$. Therefore, $T$ is uniquely determined on $V$."
   ]
  },
  {
   "cell_type": "markdown",
   "metadata": {},
   "source": [
    "### Algebraic Operation of $\\mathcal{L}(V,W)$"
   ]
  },
  {
   "cell_type": "markdown",
   "metadata": {},
   "source": [
    "**Definition 3.5: Addition and Scalar Multiplication on $\\mathcal{L}(V<W)$**\n",
    "- For $S,T\\in\\mathcal{L}(V,W)$ and $\\lambda \\in \\mathbb{F}$:\n",
    "$$\\begin{alignat*}{1}\n",
    "    & \\text{Sum:} \\ \\ (S+T)(v) = S(v) + T(v) \\\\\n",
    "    & \\text{Product:} \\ \\ (\\lambda T)(v) = \\lambda T(v)\n",
    "\\end{alignat*}$$"
   ]
  },
  {
   "cell_type": "markdown",
   "metadata": {},
   "source": [
    "**Result:**\n",
    "- With the operations of addition and scalar multiplication defined in 3.5, $\\mathcal{L}(V,W)$ *is a vector space* with the operations of linear map addition and scalar multiplication\n",
    "    - With the additive identity $0$ being the *zero linear map*"
   ]
  },
  {
   "cell_type": "markdown",
   "metadata": {},
   "source": [
    "**Definition 3.7: Product of Linear Maps**\n",
    "- For $T\\in \\mathcal{L}(U,V)$ and $S\\in \\mathcal{L}(V,W)$, the product $ST\\in\\mathcal{L}(U,W)$ is defined as:\n",
    "$$(ST)(u) = S\\big(T(u)\\big), \\ \\forall u\\in U$$\n",
    "This is the ordinary composition $S \\circ T$ of two functions. Yet we typically write the composition as $ST$ to highlight the distributive properties of products of linear maps.\n",
    "\n",
    "**NOTE:** $ST$ is *only defined* when $T$ maps *into the domain* of $S$ This is intuitive when we consider that $S$ is a function, thus it is only defined over its domain."
   ]
  },
  {
   "cell_type": "markdown",
   "metadata": {},
   "source": [
    "#### Properties of Linear Maps"
   ]
  },
  {
   "cell_type": "markdown",
   "metadata": {},
   "source": [
    "**Associativity:**\n",
    "- For linear maps $T_1, T_2, T_3$ that map to compatible domains: $$(T_1T_2)T_3 = T_1(T_2T_3)$$\n",
    "    - In other words, we may evaluate any product first, but the order on which the products are applied may not be changed (not commutative)\n",
    "\n",
    "**Identity:**\n",
    "- For $T\\in \\mathcal{L}(V,W)$ and identity operator $I$: $$TI = IT = T$$\n",
    "    - The identity operator $I$ is defined on $V$ in the left term, and on $W$ in the middle term\n",
    "\n",
    "**Distributive Properties:**\n",
    "- For $T, T_1, T_2 \\in \\mathcal{L}(U,V)$ and $S, S_1, S_2 \\in \\mathcal{L}(V,W)$:\n",
    "$$(S_1 + S_2)T = S_1T + S_2T \\ \\text{and} \\ S(T_1 + T_2) = ST_1 + ST_2$$"
   ]
  },
  {
   "cell_type": "markdown",
   "metadata": {},
   "source": [
    "**Linear Maps Take 0 to 0**\n",
    "- $T(0)=0$\n",
    "Proof:\\\n",
    "From additivity:\n",
    "$$T(0) = T(0+0) = T(0) + T(0)$$\n",
    "Adding additive inverse to each side:\n",
    "$$T(0) + (-T(0)) = 0 = T(0) + T(0) + (-T(0)) \\\\ \\implies T(0) = 0$$"
   ]
  },
  {
   "cell_type": "markdown",
   "metadata": {},
   "source": [
    "### Exercises 3A"
   ]
  },
  {
   "cell_type": "markdown",
   "metadata": {},
   "source": [
    "on paper: [9, 7, 14, 4, 8]"
   ]
  },
  {
   "cell_type": "markdown",
   "metadata": {},
   "source": [
    "#### 1. \n",
    "Show that $T:\\reals^3 \\rightarrow \\reals^2$ is linear if and only if $b=c=0$:\n",
    "$$T(x,y,z) = (2x-4y+3z+b, \\ 6x+cxyz)$$"
   ]
  },
  {
   "cell_type": "markdown",
   "metadata": {},
   "source": [
    "By examination, the homogeneity condition appears safe, so let's check additivity first. For $T$ to be linear, the following condition must hold:\n",
    "$$T(v+u) = T(u) + T(v)$$\n",
    "Let $v=(x_1,y_1,z_1)$ and $u=(x_2,y_2,z_2)$, then:\n",
    "$$\n",
    "T(v+u) = T(x_1+x_2, \\ y_1+y_2, \\ z_1+z_2) \\\\ = \\big[ (6(x_1+x_2) - 4(y_1+y_2) + 3(z_1+z_2) + b), \\ (6(x_1+x_2) + c((x_1+x_2)(y_1+y_2)(z_1+z_2))) \\big] \\\\ \\ \\\\\n",
    "T(v) + T(u) = \\big[ (6(x_1+x_2) - 4(y_1+y_2) + 3(z_1+z_2) + 2b), \\ (6(x_1+x_2) + c(X_1y_1z_1 + x_2y_2z_2)) \\big]\n",
    "$$\n",
    "Thus $T(v+u) = T(v) + T(u)$ only when $b=c=0$"
   ]
  },
  {
   "cell_type": "markdown",
   "metadata": {},
   "source": [
    "#### 11.\n",
    "Let $T\\in\\mathcal{L}(V)$ for finite dimensional $V$. Prove that: $$ST=TS \\iff T = \\lambda I, \\ \\ \\forall S\\in \\mathcal{L}(V), \\ \\lambda \\in \\mathbb{F}$$"
   ]
  },
  {
   "cell_type": "markdown",
   "metadata": {},
   "source": [
    "First direction: $T=\\lambda I \\implies ST=TS, \\ \\forall S\\in\\mathcal{L}(V)$\\\n",
    "Let $T=\\lambda I$: $$ST= S(\\lambda I) = \\lambda SI = \\lambda IS = \\lambda S, \\ \\forall \\lambda \\\\ \\ \\\\ \\therefore T=\\lambda I \\implies ST=TS, \\ \\forall S\\in\\mathcal{L}(V)$$"
   ]
  },
  {
   "cell_type": "markdown",
   "metadata": {},
   "source": [
    "Second direction: $ST=TS, \\ \\ \\forall S\\in\\mathcal{L}(V) \\implies T=\\lambda I$:"
   ]
  },
  {
   "cell_type": "markdown",
   "metadata": {},
   "source": [
    "Note the importance of the $\\forall S \\in\\mathcal{L}(V)$. We could, for example, have offsetting rotations for which this holds, so it isn't the case that the commutativity implies that $T$ is the identity. Rather, if commutativity with $T$ is true **for all** $S\\in\\mathcal{L}(V)$, then $T$ is the identity.\n",
    "\n",
    "Thus, having proven that $T=\\lambda I \\implies ST=TS \\ \\forall S$, if we can find *any* $S$ for which $ST \\ne TS \\ \\forall T\\ne \\lambda I$, then we will have completed the proof:"
   ]
  },
  {
   "cell_type": "markdown",
   "metadata": {},
   "source": [
    "Let $S(v) = aw, \\ a\\in\\mathbb{F}, \\ w\\in V, \\ \\forall v\\in V$, then:\n",
    "$$ ST(v) = aw \\ \\ \\text{and} \\ \\ TS(v) = aT(w) \\\\ \\ \\\\\n",
    " ST = TS \\implies aw = aT(w) \\implies T = I \\\\ \\ \\\\\n",
    " \\therefore ST=TS, \\ \\forall S\\in\\mathcal{L}(V) \\implies T = \\lambda I$$"
   ]
  },
  {
   "cell_type": "markdown",
   "metadata": {},
   "source": [
    "This completes the proof."
   ]
  },
  {
   "cell_type": "markdown",
   "metadata": {},
   "source": [
    "## 3B Null Spaces and Ranges"
   ]
  },
  {
   "cell_type": "markdown",
   "metadata": {},
   "source": [
    "### Null Space and Injectivity"
   ]
  },
  {
   "cell_type": "markdown",
   "metadata": {},
   "source": [
    "**Definition 3.11: Null Space**\n",
    "- For $T\\in \\mathcal{L}(V,W)$, the *null space* of $T$ is the subset of $V$ consisting of the vectors that $T$ maps to 0. It is denoted $\\text{null} \\ T$:\n",
    "$$\\text{null} \\ T = \\{v\\in V:Tv=0\\}$$"
   ]
  },
  {
   "cell_type": "markdown",
   "metadata": {},
   "source": [
    "**The Null Space is a Subspace**\n",
    "- For $T\\in\\mathcal{L}(V,W)$, $\\text{null } T$ is a subspace of $V$\n",
    "    - In other words, $\\text{null } T$ is a subspace of the domain of $T$\n",
    "    - This is intuitive because any vector space $V$ contains $\\{0\\}$"
   ]
  },
  {
   "cell_type": "markdown",
   "metadata": {},
   "source": [
    "**Definition 3.14: Injective**\n",
    "- A function $T: V\\rightarrow W$ is *injective* if $Tu=Tv \\implies u = v$\n",
    "    - In other words, if no two inputs map to the same output value\n",
    "    - I.e. if the mapping is *one-to-one*"
   ]
  },
  {
   "cell_type": "markdown",
   "metadata": {},
   "source": [
    "**Handy Result:**\n",
    "- For $T\\in\\mathcal{L}(V,W)$, $T$ is injective if and only if $\\text{null } T = \\{0\\}$\n",
    "    - This is intuitive because a null space greater than $\\{0\\}$ implies that multiple input values map to the same output value (i.e. to $0$)"
   ]
  },
  {
   "cell_type": "markdown",
   "metadata": {},
   "source": [
    "### Range and Surjectivity"
   ]
  },
  {
   "cell_type": "markdown",
   "metadata": {},
   "source": [
    "**Definition 3.16: Range**\n",
    "- For $T\\in\\mathcal{L}(V,W)$, the *range* of $T$ is the subset of $W$ consisting of those vectors that are equal to $Tv$ for some $v\\in V$\n",
    "$$\\text{range } T = \\{Tv:v\\in V\\}$$\n",
    "- In other words, the range is all values that the linear map maps onto"
   ]
  },
  {
   "cell_type": "markdown",
   "metadata": {},
   "source": [
    "**The Range is a Subspace:**\n",
    "- If $T\\in\\mathcal{L}(V,W)$, then $\\text{range } T$ is a subspace of $W$\n",
    "- Specifically, the range of a linear map is a subspace of the vector space that it maps onto"
   ]
  },
  {
   "cell_type": "markdown",
   "metadata": {},
   "source": [
    "**Definition 3.19: Surjective**\n",
    "- A function $T:V\\rightarrow W$ is *surjective* if its range equals W\n",
    "    - In other words, a surjective function maps onto the *entirity* of the space upon which it maps\n",
    "\n",
    "For a function $T:V\\rightarrow W$, we may describe the space of $W$ as the ***Codomain*** and the subspace of $W$ upon which the function $T$ actually maps (i.e. the values in $W$ that are actually reachable by $T$) as the ***Range***"
   ]
  },
  {
   "cell_type": "markdown",
   "metadata": {},
   "source": [
    "### Fundamental Theorem of Linear Maps"
   ]
  },
  {
   "cell_type": "markdown",
   "metadata": {},
   "source": [
    "- Suppose $V$ is a finite-dimensional vector space and $T\\in\\mathcal{L}(V,W)$. Then $\\text{range } T$ is a finite-dimensional vector space, with dimension:\n",
    "$$\\dim V = \\dim \\text{null } T + \\dim \\text{range }  T$$"
   ]
  },
  {
   "cell_type": "markdown",
   "metadata": {},
   "source": [
    "**Proof:**\\\n",
    "Let $u_1,...,u_m$ be a basis of $\\text{null } T$. Then $\\dim \\text{null }T = m$. Because $\\text{null }T \\subseteq V$, we may represent a basis of $V$ as:\n",
    "$$u_1,...,u_m, v_1,...,v_n$$\n",
    "Thus, $\\dim V = m+n$. So, we must show that $\\dim \\text{range } = n$:\n",
    "- Let $v\\in V$, we may express $v$ as: $$v=a_1u_1+\\cdots + a_mu_m + b_1v_1 + \\cdots + b_nv_n$$\n",
    "- Then, $Tv$ may be expressed only in terms of $v_1,...,v_n$ because the terms $u_1,...,u_m$ are in the null space of $T$: $$Tv = b_1Tv_1+\\cdots+ b_nTv_n$$\n",
    "- $Tv_1,...,Tv_n$ are linearly independent and therefore form a basis of $\\text{range } T$\n",
    "- Therefore, $\\dim \\text{range } T = n$"
   ]
  },
  {
   "cell_type": "markdown",
   "metadata": {},
   "source": [
    "**Important Result -- Linear Maps onto Lower Dimensional Spaces Are Not Injective**\n",
    "- Suppose $V$ and $W$ are finite-dimensional vector spaces with $\\dim V > \\dim W$. Then *no linear map* from $V$ to $W$ is injective\n",
    "- That is, any linear mapping to a lower-dimensional vector space *cannot be* injective\n",
    "    - There must be many values mapped to the same value\n",
    "    - The null space of the mapping must be larger than $\\{0\\}$\n",
    "\n",
    "*Proof:*\n",
    "$$\\text{Fundamental Theorem: } \\dim \\text{null } T = \\dim V - \\dim \\text{range } T \\\\ \\ \\\\\n",
    "\\rightarrow \\dim \\text{null } T \\ge \\dim V - \\dim W \\\\ \\ \\\\\n",
    "\\dim V > \\dim W, \\ \\ \\therefore \\dim \\text{null } T > 0$$"
   ]
  },
  {
   "cell_type": "markdown",
   "metadata": {},
   "source": [
    "**Important Result -- Linear Maps onto Higher Dimensional Spaces Are Not Surjective**\n",
    "- Suppose $V$ and $W$ are finite dimensional vector spaces with $\\dim V < \\dim W$. Then *no linear map* from $V$ to $W$ is surjective\n",
    "- That is, any linear mapping onto a higher-dimensional space *cannot be* surjective\n",
    "\n",
    "*Proof:*\n",
    "$$\\text{Fundamental Theorem: } \\dim \\text{range } T = \\dim V - \\dim \\text{null } T \\\\ \\ \\\\\n",
    "\\rightarrow \\dim \\text{range } T \\le \\dim V \\\\ \\ \\\\\n",
    "\\dim V < \\dim W, \\ \\ \\therefore \\dim \\text{range } T < \\dim W$$"
   ]
  },
  {
   "cell_type": "markdown",
   "metadata": {},
   "source": [
    "These two results have powerful implications for systems of equations.\n",
    "\n",
    "The first result implies that *homogeneous systems of linear equations* that possess more variables than equations have nonzero solutions. This is because the linear map from the input space to the output space maps to a smaller space, thus the null space of the map has a dimension greater than $\\{0\\}$. In other words, the linear map is not injective.\n",
    "\n",
    "*Proof:*\n",
    "$$\n",
    "\\sum_{k=1}^n A_{1,k} x_k = 0 \\\\ \\vdots \\\\ \\sum_{k=1}^n A_{m,k} x_k = 0 \\\\ \\ \\\\ T: \\mathbb{F}^n \\rightarrow \\mathbb{F}^m \\coloneqq \\ \\ T(x_1,...,x_n) = \\bigg(\\sum_{k=1}^n A_{1,k} x_k = 0, ..., \\sum_{k=1}^n A_{m,k} x_k = 0 \\bigg) = 0 \\\\ \\ \\\\\n",
    "n > m \\implies \\dim \\text{null } T > 0\n",
    "$$\n",
    "Therefore, there are more solutions to the homogeneous system of equations than the trivial solution. In other words, there is *at least one* non-trivial solution."
   ]
  },
  {
   "cell_type": "markdown",
   "metadata": {},
   "source": [
    "The second result implies that a non-homogeneous system of linear equations has *no-solutions* for some choices of output values when there are fewer variables than equations. This is because the input space is smaller than the output space, and thus some outputs are unreachable. In other words, the linear map is not surjective.\n",
    "\n",
    "*Proof:*\n",
    "$$\n",
    "\\sum_{k=1}^n A_{1,k} x_k = c_1 \\\\ \\vdots \\\\ \\sum_{k=1}^n A_{m,k}x_k = c_m \\\\ \\ \\\\\n",
    "T:\\mathbb{F}^n \\rightarrow \\mathbb{F}^m \\coloneqq T(x_1,...,x_n) = \\bigg(\\sum_{k=1}^n A_{1,k} x_k, ... ,\\sum_{k=1}^n A_{m,k}x_k \\bigg) = (c_1,...,c_m) \\\\ \\ \\\\\n",
    "n < m \\implies \\dim \\text{range } T < m, \\\\ \\ \\\\ \\therefore \\exists (c_1,...,c_m) \\in \\mathbb{F} : T(x_1,...,x_n)\\ne (c_1,...,c_m)\n",
    "$$"
   ]
  },
  {
   "cell_type": "markdown",
   "metadata": {},
   "source": [
    "### Exercises 3B"
   ]
  },
  {
   "cell_type": "markdown",
   "metadata": {},
   "source": [
    "on paper: [3, 14, 7, 16, 15]\n"
   ]
  },
  {
   "cell_type": "markdown",
   "metadata": {},
   "source": [
    "#### 1.\n",
    "Give an example of a linear map $T$ with $\\dim \\text{null } T = 3$ and $\\dim \\text{range } T = 2$"
   ]
  },
  {
   "cell_type": "markdown",
   "metadata": {},
   "source": [
    "Some $T: \\mathbb{F}^5 \\rightarrow \\mathbb{F}^2$, absolute simplest may be something like:\n",
    "$$T(x_1,...,x_5) = c_1x_1 + c_2x_2, \\ c_1,c_2 \\in \\mathbb{F}$$\n",
    "This linear map has:\n",
    "- Additivity: $$T(x + v) = T(x_1 + v_1,..., x_5 + v_5) \\\\ = c_1(x_1+v_1) + c_2(x_2+v_2) \\\\ = c_1x_1+c_2x_2  + c_1v_1 + c_2v_2 \\\\ = Tx + Tv$$\n",
    "- Homogeneity: $$T(\\lambda x) = \\lambda(c_1x_1 + c_2x_2) = \\lambda Tx$$\n",
    "- And a range of dimension 2: \n",
    "    - Let $x_1,...,x_5\\in\\mathbb{F}^5$ be independent. Then, $\\dim \\mathbb{F}^5 = 5$.\n",
    "    - $x_1, x_2 \\in \\mathbb{F}^2$ are independent, therefore $\\dim \\text{range } T = 2$\n",
    "    $$\\dim \\text{range } T + \\dim \\text{null } T = \\dim \\mathbb{F}^5 = 5 \\\\ \\therefore \\dim \\text{null } T = 3$$"
   ]
  },
  {
   "cell_type": "markdown",
   "metadata": {},
   "source": [
    "#### 4.\n",
    "Show that $\\{T\\in\\mathcal{L}(\\reals^5, \\reals^4) : \\dim \\text{null } T > 2\\}$ is *not* a subspace of $\\mathcal{L}(\\reals^4, \\reals^4)$"
   ]
  },
  {
   "cell_type": "markdown",
   "metadata": {},
   "source": [
    "This a great question because it reinforces some fundamental properties of spaces.\n",
    "\n",
    "Let $T_1(x_1,...,x_5) = (x_1,x_2,0, 0)$ and $T_2(x_1,...,x_5) = (0,0,x_4,x_5)$. \n",
    "$$\\text{dim null }T_1 = \\text{dim null}T_2 = 3 > 2$$\n",
    "These linear mappings are not closed under addition within the subspace $\\mathcal{L}(\\reals^5, \\reals^4)$:\n",
    "$$T_1(x_1,...,x_5) + T_2(x_1,...,x_5) = (x_1,x_2,x_3,x_4)$$\n",
    "For linearly independent $x_1,...,x_5$, the output $(x_1,x_2,x_3,x_4)$ comprises a basais for $\\reals^4$, thus $\\text{dim range } (T_1 + T_2) = 4$ and $\\text{dim null }(T_1+T_2) = 1$. So, $T_1 + T_2 \\notin T$ and $T$ is not a subspace"
   ]
  },
  {
   "cell_type": "markdown",
   "metadata": {},
   "source": [
    "#### 5.\n",
    "Give an example of $T\\in\\mathcal{L}(\\reals^4)$ such that $\\text{range } T = \\text{null } T$"
   ]
  },
  {
   "cell_type": "markdown",
   "metadata": {},
   "source": [
    "This is a tricky question, but it is made simple by taking the meaning of null and range seriously. The range of a transformation is the set of all possible outputs. The null is the set of all *inputs* that the transformation maps to $0$. Thus, such a transformation is:\n",
    "$$T:\\reals^4\\rightarrow \\reals^4 : (x,y,z,w)\\rightarrow(0,0,x,y)$$\n",
    "The range of this mapping is the set of all possible values $x,y\\in\\reals$. Similarly, because the original $x,y$ are mapped to $0$, the null *is also* the set of all possible values $x,y\\in\\reals$"
   ]
  },
  {
   "cell_type": "markdown",
   "metadata": {},
   "source": [
    "#### 6. \n",
    "Prove that there does not exist $T\\in\\mathcal{L}(\\reals^5)$ such that $\\text{range } T = \\text{null } T$"
   ]
  },
  {
   "cell_type": "markdown",
   "metadata": {},
   "source": [
    "Here, we may build off of (5) by observing that an odd number of dimensions implies that $\\text{dim range } T \\ne \\text{dim null } T$. Therefore, the set of all possible outputs of the mapping *cannot* be equivalent to the set of all possible inputs that are mapped to zero.\n",
    "\n",
    "What I don't get is why the zero-mapping wouldn't be considered to be within $\\mathcal{L}(\\reals^5)$... I thought it is always within the space of mappings."
   ]
  },
  {
   "cell_type": "markdown",
   "metadata": {},
   "source": [
    "#### 9.\n",
    "Given that $T\\in\\mathcal{L}(V,W)$ *is injective*, and $v_1,...,v_n\\in V$ are linearly indepedent, prove that $Tv_1,...,Tv_n$ is linearly independent in $W$"
   ]
  },
  {
   "cell_type": "markdown",
   "metadata": {},
   "source": [
    "Because $T$ is injective, $\\text{dim null } T = 0 \\implies \\text{null } T = \\{0\\}$. Then, following from independence of $v_1,...,v_n$:\n",
    "$$\n",
    "c_1v_1 + \\cdots + c_nv_n = 0 \\\\\n",
    "\\implies T(c_1v_1 + \\cdots + c_nv_n) = 0 \\\\\n",
    "\\implies c_1Tv_1 + \\cdots + c_n Tv_n = 0 \\\\\n",
    "\\implies c_1w_1 + \\cdots + c_nw_n = 0 \\\\ \\ \\\\\n",
    "(c_1v_1,...,c_nv_n) \\in \\text{null } T \\implies (c_1,...,c_n) = (0,...,0) \\\\ \\ \\\\ \n",
    "\\therefore w_1,...,w_n \\ \\text{ are linearly independent}\n",
    "$$"
   ]
  },
  {
   "cell_type": "markdown",
   "metadata": {},
   "source": [
    "This formalism is hazy. But I think I can explicate the crux of it: Because $c_1,...,c_n$ *can only be* all zero due to the independence of $v_1,...,v_n$ and the fact that *no vector* in $V$ will be mapped to zero by the mapping $T$ besides the zero vector, we may only have $c_1w_1 + \\cdots c_nw_n = 0$ when $c_1...,c_n = 0,..., 0$. Thus, because the coefficients for $w_1,..,w_n$ must also be all zero, it must be the case that $w_1,...,w_n$ are also all linearly independent."
   ]
  },
  {
   "cell_type": "markdown",
   "metadata": {},
   "source": [
    "## 3C Matrices"
   ]
  },
  {
   "cell_type": "markdown",
   "metadata": {},
   "source": [
    "### Representing a Linear Map by a Matrix"
   ]
  },
  {
   "cell_type": "markdown",
   "metadata": {},
   "source": [
    "**Definition 3.29: Matrix**\n",
    "- For nonnegative integers $m$ and $n$, and $m$-by-$n$ matrix $A$ is a rectangular array of elements of $\\mathbb{F}$ with $m$ rows and $n$ columns\n",
    "$$A = \\begin{bmatrix} A_{1,1} \\ \\ \\cdots \\ \\ A_{1,n} \\\\ \\vdots \\ \\ \\ \\ \\ \\ \\ \\ \\ \\ \\ \\ \\ \\ \\vdots \\\\ A_{m,1} \\ \\ \\cdots \\ \\ A_{m,n} \\end{bmatrix}$$\n",
    "- The notation $A_{j,k}$ denotes the entry in row $j$, olumn $k$, of $A$"
   ]
  },
  {
   "cell_type": "markdown",
   "metadata": {},
   "source": [
    "**Definition 3.31: Matrix of a Linear Map, $\\mathcal{M}(T)$**\n",
    "- For $T\\in\\mathcal{L}(V,W)$ and bases $v_1,...,v_n$ of $V$ and $w_1,...w_m$ of $W$, the *matrix* of $T$ with respect to these bases is the $m$-by-$n$ matrix $\\mathcal{M}(T)$ with entries $A_{j,k}$ defined by:\n",
    "$$Tv_k = A_{1,k}w_1 + \\cdots + A_{m,k}w_m$$"
   ]
  },
  {
   "attachments": {
    "image.png": {
     "image/png": "[encoded data removed]"
    }
   },
   "cell_type": "markdown",
   "metadata": {},
   "source": [
    "![image.png](attachment:image.png)"
   ]
  },
  {
   "cell_type": "markdown",
   "metadata": {},
   "source": [
    "So, each *column* $k$ of the  matrix consists of the scalars that are needed to write $Tv_k$ as a linear combination of the bases $w_1,..,w_m$: $$Tv_k = \\sum_{j=1}^m A_{j,k} w_j$$"
   ]
  },
  {
   "cell_type": "markdown",
   "metadata": {},
   "source": [
    "E.g., for basis $w_1,w_2,w_3$ of $W$, $T(v_1,v_2,v_3)$ may be represented as:\n",
    "$$\n",
    "\\begin{bmatrix}\n",
    "w_1 \\ \\ w_2 \\ \\ w_3 \n",
    "\\end{bmatrix}\n",
    "\\begin{bmatrix}\n",
    "A_{1, 1} \\ \\ A_{1, 2} \\ \\ A_{1, 3} \\\\\n",
    "A_{2, 1} \\ \\ A_{2, 2} \\ \\ A_{2, 3} \\\\\n",
    "A_{3, 1} \\ \\ A_{3, 2} \\ \\ A_{3, 3}\n",
    "\\end{bmatrix}\\\\ \\ \\\\\n",
    "= \\begin{bmatrix} \n",
    "(A_{1,1}w_1 + A_{2,1} w_2 + A_{3,1}w_3) \\ \\ (A_{1,2}w_1 + A_{2,2}w_2 + A_{3,2}w_3) \\ \\ (A_{1,3}w_1 + A_{2,3}w_2 + A_{3,3}w_3)\n",
    "\\end{bmatrix} \\\\ \\ \\\\\n",
    "= \\begin{bmatrix}\n",
    "Tv_1 \\ \\ Tv_2 \\ \\ Tv_3\n",
    "\\end{bmatrix}\n",
    "$$"
   ]
  },
  {
   "cell_type": "markdown",
   "metadata": {},
   "source": [
    "### Addition and Scalar Multiplication of Matrices"
   ]
  },
  {
   "cell_type": "markdown",
   "metadata": {},
   "source": [
    "**Definition 3.34: Matrix Addition**\n",
    "- The sum of two matrices *of the same size* is the matrix obtained by adding corresponding entries in the matrices\n",
    "\n",
    "For linear maps $S,T\\in\\mathcal{L}(V,W)$, the matrix of the sum of the linear maps is equal to the sum of their matrices. That is:\n",
    "$$\\mathcal{M}(S+T) = \\mathcal{M}(S) + \\mathcal{M}(T)$$\n",
    "- So long as the linear maps use the same bases, that is"
   ]
  },
  {
   "cell_type": "markdown",
   "metadata": {},
   "source": [
    "**Definition 3.36: Scalar Multiplication of a Matrix**\n",
    "- The product of a scalar and a matrix is the matrix obtained by multiplying each entry in the matrix by the scalar\n",
    "\n",
    "For a linear map $T\\in\\mathcal{L}(V,W)$ and a scalar $\\lambda \\in \\mathbb{F}$, the matrix of the scaled linear map is the same as the scaled matrix of the linear map. That is:\n",
    "$$\\mathcal{M}(\\lambda T) = \\lambda \\mathcal{M}(T)$$"
   ]
  },
  {
   "cell_type": "markdown",
   "metadata": {},
   "source": [
    "**Matrices form Vector Spaces with Matrix Addition and Scalar Multiplication**\n",
    "- The set of all $m$-by-$n$ matrices with entries in $\\mathbb{F}$ forms a vector space with the operations of matrix addition and scalar multiplication denoted by $\\mathbb{F}^{m,n}$\n",
    "- The dimension of this vector space is: $\\dim \\mathbb{F}^{m,n} = mn$"
   ]
  },
  {
   "cell_type": "markdown",
   "metadata": {},
   "source": [
    "### Matrix Multiplication"
   ]
  },
  {
   "cell_type": "markdown",
   "metadata": {},
   "source": [
    "**Definition 3.41: Matrix Multiplication**\n",
    "- Let $A$ be an $m$-by-$n$ matrix and $B$ be an $n$-by-$p$ matrix. Then $AB$ is defined to be the $m$-by-$p$ matrix whose entry in row $j$, column $k$, is given by: $$(AB)_{j,k} = \\sum_{r=1}^n A_{j,r}B_{r,k}$$\n",
    "    - **NOTE:** This definition is *only* defined when the number of columns in the first matrix equals the number of rows in the second matrix\n",
    "    - Note that this is equivalent to the familiar concept of computing elements of $AB$ by multiplying entries of row $j$ of $A$ by column $k$ of $B$ and then summing -- row x column sums\n",
    "    - Note that this definition is consistent with the concept of applying consecutive linear maps, and that the requirement for the $A$ to have $n$ columns and $B$ to have $n$ rows is equivalent to the requirement of the first linear map to have a range equal to the domain of the second linear map. E.g.:\n",
    "    $$\n",
    "    T:V\\rightarrow U, \\ \\ S:U\\rightarrow W \\\\ ST: V\\rightarrow W \\\\ \\ \\\\\n",
    "    \\mathcal{M}(T) = B, \\ \\ \\mathcal{M}(S)=A \\\\\n",
    "    Tv_k = \\sum_{r=1}^n B_{r,k}u_r \\ \\ Su_k = \\sum_{j=1}^m A_{j,k}w_j \\\\\n",
    "    STv_k = S\\bigg(\\sum_{r=1}^n B_{r,k}u_r\\bigg) = \\sum_{r=1}^n B_{r,k}Su_r = \\sum_{r=1}^n B_{r,k}\\sum_{j=1}^m A_{j,k}w_j \\\\\n",
    "    = \\sum_{j=1}^m \\bigg( \\sum_{r=1}^n B_{r,k}A_{j,k} \\bigg) w_j\n",
    "    \\\\ \\ \\\\\n",
    "    \\therefore \\mathcal{M}(ST) \\text{ is } m\\times p \\text{ with entry } M_{j,k} = \\sum_{r=1}^n A_{j,r}B_{r,k} \n",
    "    $$\n",
    "    "
   ]
  },
  {
   "cell_type": "markdown",
   "metadata": {},
   "source": [
    "**Matrix Product of Linear Maps:**\n",
    "- If $T\\in\\mathcal{L}(U,V)$ and $S\\in\\mathcal{L}(V,W)$, then $\\mathcal{M}(ST) = \\mathcal{M}(S)\\mathcal{M}(T)$"
   ]
  },
  {
   "cell_type": "markdown",
   "metadata": {},
   "source": [
    "**Result: Matrix Multiplication as Linear Combinations**\n",
    "- Suppose $C$ is an $m$-by-$c$ matrix and $R$ is a $c$-by-$n$ matrix\n",
    "    - Column $k$ of $CR$ is a linear combination of the *columns* of $C$, with coefficients coming from column $k$ of $R$\n",
    "    - Row $j$ of $CR$ is a linear combination of the *rows* of $R$, with coefficients coming from row $j$ of $C$"
   ]
  },
  {
   "cell_type": "markdown",
   "metadata": {},
   "source": [
    "### Column-Row Factorization and Rank of a Matrix"
   ]
  },
  {
   "cell_type": "markdown",
   "metadata": {},
   "source": [
    "**Definition 3.52: Column Rank, Row Rank**\n",
    "- The *Column Rank* of a matrix $A$ is the dimension of the span of the columns of $A$ in $\\mathbb{F}^{m,1}$\n",
    "- The *Row Rank* of a matrix $A$ is the dimension of the span of the rows of $A$ in $\\mathbb{F}^{1,n}$\n",
    "\n",
    "If $A$ is $m$-by-$n$, then its column rank is at most $m$ and its row rank is at most $n$"
   ]
  },
  {
   "cell_type": "markdown",
   "metadata": {},
   "source": [
    "**Definition 3.54: Transpose, $A^t$**\n",
    "- The *transpose* of a matrix, denoted $A^t$ is the matrix obtained from $A$ by interchanging rows and columns\n",
    "- If $A$ is $m$-by-$n$, then $A^t$ is $n$-by-$m$ with entries given by: $$(A^t)_{k,j} = A_{j,k}$$"
   ]
  },
  {
   "cell_type": "markdown",
   "metadata": {},
   "source": [
    "Some algebraic properties of the transpose:\n",
    "- $(A+B)^t = A^t + B^t$\n",
    "- $(\\lambda A)^t = \\lambda A^t$\n",
    "- $(AC)^t = C^tA^t$"
   ]
  },
  {
   "cell_type": "markdown",
   "metadata": {},
   "source": [
    "**Column-Row Factorization**:\n",
    "- For an $m$-by-$n$ matrix $A$ with column rank $c\\ge 1$, there exists an $m$-by-$c$ matrix $C$ and a $c$-by-$n$ matrix $R$ such that $A=CR$"
   ]
  },
  {
   "cell_type": "markdown",
   "metadata": {},
   "source": [
    "**Result: Column Rank Equals Row Rank**\n",
    "- For $A\\in\\mathbb{F}^{m,n}$, the column rank of $A$ equals the row rank of $A$\n",
    "- This result can be observed in the column-row factorization of $A$ where the columns of $C$ equals the rows of $R$ ($c$)"
   ]
  },
  {
   "cell_type": "markdown",
   "metadata": {},
   "source": [
    "**Definition 3.58: Rank**\n",
    "- The *rank* of a matrix $A\\in\\mathbb{F}^{m,n}$ is the column rank of $A$\n",
    "    - We just use the term \"rank\" because the column rank and row rank are equal"
   ]
  },
  {
   "cell_type": "markdown",
   "metadata": {},
   "source": [
    "### Exercises 3C"
   ]
  },
  {
   "cell_type": "markdown",
   "metadata": {},
   "source": [
    "on paper: [9, 14, 11, 8, 12]\n"
   ]
  },
  {
   "cell_type": "markdown",
   "metadata": {},
   "source": [
    "#### 1.\n",
    "For $T\\in\\mathcal{L}(V,W)$, show that w.r.t. the bases of $V$ and $W$, the matrix of $T$ has *at least* $\\dim \\text{range } T$ nonzero entries"
   ]
  },
  {
   "cell_type": "markdown",
   "metadata": {},
   "source": [
    "Let $v_1,...,v_n$ be a basis for $V$ and $w_1,...,w_m$ be a basis for $W$. Then $\\text{range } T = \\text{span}(Tv_1,...,Tv_n)$.\\\n",
    "From the definition of a matrix, the elements of matrix $A$ are given by: $$Tv_k = A_{1,k}w_1 + \\cdots + A_{m,k}w_m$$\n",
    "Thus, $A_{j,k}$ are the coordinates of $Tv_k$ expressed in the basis $w_1,...,w_m$.\\\n",
    "Let all $A_{j,k}=0$ in this expression. Then $Tv_k = 0$, which implies that $v_k \\in \\text{null } T$. Therefore, *at least one* coordinate $A_{j,k}$ must not be equal to $0$ for $Tv_k$ to be within the minimum spanning set (i.e. basis) of $\\text{range } T$.\\\n",
    " Thus, the minimum number of coordinates needed to express the minimum spanning set of $\\text{range } T$ is the length of the set, which is equivalent to: $\\dim \\text{range } T$"
   ]
  },
  {
   "cell_type": "markdown",
   "metadata": {},
   "source": [
    "#### 2. \n",
    "Prove that $\\dim \\text{range } T = 1$ if and only if there exist bases of $V$ and $W$ such that all entries of $\\mathcal{M}(T)$ w.r.t. these bases are $1$"
   ]
  },
  {
   "cell_type": "markdown",
   "metadata": {},
   "source": [
    "Direction 1:\\\n",
    "$\\dim \\text{range }T = 1 \\implies \\mathcal{M}(T) : A_{j,k} = 1 \\forall j,k$\n",
    "\n",
    "$$\n",
    "\\dim \\text{range } T \\implies \\text{len}\\big(\\text{span}(Tv_1,...,Tv_n)\\big) = 1 \\implies Tv_k = \\lambda Tv_1, \\ \\forall k \\ne 1, \\ \\lambda\\in\\mathbb{F} \\\\ \\ \\\\\n",
    "\\implies Tv_k = \\lambda\\bigg(A_{1,1}w_1 + \\cdots + A_{m,1}w_m\\bigg) = \\lambda Tv_1 \\\\ \\ \\\\\n",
    "\\implies A_{j,k} = A_{j,1}, \\ \\forall k \\ne 1\n",
    "$$\n",
    "Then we simply may choose the values of $v_1,...,v_n$ and $w_1,...,w_m$ such that $\\lambda=1$.\\\n",
    "**NOTE:** The key thing here is that all of the $Tv_k, \\ k\\ne 1$ are linearly dependent, we can scale them however we like, so long as they are a scaled value of $Tv_1$, we will have ensured that there is only one linearly independent vector is basis of $\\text{range } T$.\n"
   ]
  },
  {
   "cell_type": "markdown",
   "metadata": {},
   "source": [
    "Direction 2:\\\n",
    "$\\mathcal{M}(T): A_{j,k} = 1, \\ \\forall j,k \\implies \\dim \\text{range } T = 1$\n",
    "\n",
    "$$\n",
    "A_{j,k} = 1, \\ \\forall j,k \\\\\n",
    "\\implies Tv_k = \\sum_{i=1}^m w_i, \\ \\forall k \\\\\n",
    "\\implies Tv_k = Tv_1, \\ \\forall k \\\\\n",
    "\\implies \\text{len}\\big(\\text{span}(Tv_1,...,Tv_n)\\big) = 1 \\\\\n",
    "\\therefore \\dim \\text{range } T = 1\n",
    "$$"
   ]
  },
  {
   "cell_type": "markdown",
   "metadata": {},
   "source": [
    "#### 15.\n",
    "Prove that if  $A$ is an $m$-by-$n$ matrix and $C$ is an $n$-by-$p$ matrix, then $$(AC)^t = C^tA^t$$"
   ]
  },
  {
   "cell_type": "markdown",
   "metadata": {},
   "source": [
    "From the definition of transpose: $$(AC)^t_{j,k} = (AC)_{k,j}$$\n",
    "From the definition of matrix multiplication: $$(AC)_{k,j} = \\sum_{r=i}^n A_{k,r}C_{r,j}$$\n",
    "Again, by definition: \n",
    "$$\n",
    "A^t_{r,k} = A_{k,r}, \\ \\ C^t_{j,r} = C_{r,j} \\\\ \\ \\\\ \\implies \\sum_{r=1}^n A_{k,r}C_{r,j} = \\sum_{r=1}^n C^t_{j,r}A^t_{r_k} = (C^tA^t)_{j,k} \\\\ \\ \\\\\n",
    "\\therefore (AC)^t = C^tA^T\n",
    "$$"
   ]
  },
  {
   "cell_type": "markdown",
   "metadata": {},
   "source": [
    "#### 16.\n",
    "For $A:[m, n]$ with $A\\ne 0$, prove that the rank of $A$ is $1$ if and only if there exist $(c_1,...,c_m)\\in\\mathbb{F}^m$ and $(d_1,...,d_n)\\in\\mathbb{F}^n$ such that: $$A_{j,k} = c_jd_k, \\ \\forall j = 1,...,m, \\ k=1,...,n$$"
   ]
  },
  {
   "cell_type": "markdown",
   "metadata": {},
   "source": [
    "A rank of $1$ means that the range of the linear tranformation described by $A$ only spans a 1-dimensional space. Equivalently, $\\dim \\text{range } T = 1$. As we saw in (2), a transformation $T$ with $\\dim \\text{range } T = 1$ has a matrix representation with elements of $1$ only for some bases of its domain and codomain. So, the first direction can be skipped. The second direction must be proven below."
   ]
  },
  {
   "cell_type": "markdown",
   "metadata": {},
   "source": [
    "Direction 2:\\\n",
    "$\\exists (c_1,...,c_m) \\in \\mathbb{F}^m, \\ (d_1,...,d_n) \\in \\mathbb{F}^n : A_{j,k} = c_jd_k, \\ \\forall j=1,...,m, \\ k= 1,...,n \\\\ \\implies \\text{rank } A = 1$\n",
    "\n",
    "For clarity, let's express $(c_1,...,c_m)$ as the matrix $C:[m, 1]$ and $(d_1,...,d_n)$ as the matrix $D:[1, n]$. Then we may express $A$ as: $$A = CD$$\n",
    "By the definition of matrix multiplication, row $j$ of $A$ is given by the linear combination of the rows of $D$ with coefficients given by row $j$ of $C$. Likewise, column $k$ of $A$ is given by the linear combination of the columns of $C$ with coefficients given by column $k$ of $D$. Thus, we may express:\n",
    "$$A_{\\cdot, k} = C_{\\cdot, k} D_{\\cdot, k} = C d_k$$\n",
    "Because $C$ only has one column and $D$ only has one row, we drop the subscripts and observe that each column $k$ of $A$ is scaled value of the $[m,1]$ matrix $C$ (scaled by the corresponding $d_k$). Thus, all columns in $A$ are linearly dependent and the column rank of $A$ is $1$. Since the column rank equals the row rank, we can conclude that $\\text{rank } A = 1$. However, just for completness we can see that the rows of $A$ are expressed as:\n",
    "$$A_{j, \\cdot} = C_{j,\\cdot}D_{j,  \\cdot} = c_jD$$\n",
    "Again, we drop the subscripts and  observe that each row $j$ of $A$ is a scaled value of the $[1,n]$ matrix $D$. Thus, all rows in $A$ are linearly dependent and the row rank of $A$ is $1$.\n",
    "\n",
    "Here's a little example too:"
   ]
  },
  {
   "cell_type": "code",
   "execution_count": 24,
   "metadata": {},
   "outputs": [
    {
     "name": "stdout",
     "output_type": "stream",
     "text": [
      "[[4]\n",
      " [3]\n",
      " [5]\n",
      " [7]\n",
      " [4]]\n"
     ]
    },
    {
     "data": {
      "text/plain": [
       "array([[ 4,  8, 12, 16],\n",
       "       [ 3,  6,  9, 12],\n",
       "       [ 5, 10, 15, 20],\n",
       "       [ 7, 14, 21, 28],\n",
       "       [ 4,  8, 12, 16]])"
      ]
     },
     "execution_count": 24,
     "metadata": {},
     "output_type": "execute_result"
    }
   ],
   "source": [
    "import numpy as np\n",
    "# c = np.array([[1, 2, 3, 4, 5]])\n",
    "c = np.random.randint(1, 10, 5).reshape(1, 5)\n",
    "d = np.array([[1, 2, 3, 4]])\n",
    "print(c.T)\n",
    "c.T @ d"
   ]
  },
  {
   "cell_type": "markdown",
   "metadata": {},
   "source": [
    "## 3D Invertibility and Isomorphisms"
   ]
  },
  {
   "cell_type": "markdown",
   "metadata": {},
   "source": [
    "### Invertible Linear Maps"
   ]
  },
  {
   "cell_type": "markdown",
   "metadata": {},
   "source": [
    "**Definition 3.59: Invertible, Inverse**\n",
    "- A linear map $T\\in\\mathcal{L}(V,W)$ is invertible if there exists a linear map $S\\in\\mathcal{L}(W,V)$ such that $ST = I$ on $V$ and $TS=I$ on $W$\n",
    "- A linear map $S\\in\\mathcal{L}(W,V)$ satisfying $ST=I$ and $TS=I$ is called an *inverse* of $T$\n",
    "\n",
    "The inverse of $T$ is denoted $T^{-1}$\n",
    "\n",
    "**Inverse is Unique**\n",
    "- An invertible linear map has *a unique* inverse"
   ]
  },
  {
   "cell_type": "markdown",
   "metadata": {},
   "source": [
    "**Result: Only Bijective Linear Maps are Invertible**\n",
    "- A linear map is invertible if and only if it is injective and surjective (i.e. bijective)"
   ]
  },
  {
   "cell_type": "markdown",
   "metadata": {},
   "source": [
    "*Proof:*\n",
    "\n",
    "First, assume $T$ is invertible.\\\n",
    "Then, for any $u,v\\in V : Tu=TV$: $$u = T^{-1}(Tu) = T^{-1}(Tv) = v$$\n",
    "Thus, $T$ is injective.\\\n",
    "Next, let $w\\in W$. Then: $$w=T(T^{-1}w)$$\n",
    "Thus, $w\\in \\text{range } T$, so $T$ is surjective.\n",
    "\n",
    "Now for the other direction, assume that $T$ is *bijective*.\\\n",
    "Then we may define $S(w) = v, \\ \\forall w\\in W, \\ v\\in V$. The existence and uniqueness of $S(w)$ follow from the bijectivity of $T$. Because bijectivity of $T$ implies that $\\dim V = \\dim W$, thus we may assert that such an $S$ exists by the linear maps lemma.\\\n",
    "Then, $T(S(w)) = w$, which implies that $TS=I$ on $W$ and: $$T\\big((S \\circ T)v\\big) = (T\\circ S)(Tv) = I(Tv) = Tv$$\n",
    "Thus, $ST=I$ on $V$\n",
    "\n",
    "The proof is completed by demonstrating that $S$ is linear."
   ]
  },
  {
   "cell_type": "markdown",
   "metadata": {},
   "source": [
    "**Result: Injectivity is Equivalent to Surjectivity for finite-dimensional spaces of the same dimension**\n",
    "- For finite-dimensional vector spaces $V$ and $W$, if $\\dim V = \\dim W$ and $T\\in\\mathcal{L}(V,W)$ then: \n",
    "$$T \\text{ is invertible } \\iff T \\text{ is injective } \\iff T \\text{ is surjective }$$"
   ]
  },
  {
   "cell_type": "markdown",
   "metadata": {},
   "source": [
    "*Proof:*\n",
    "\n",
    "By the fundamental theorem of linear maps: $$\\dim V = \\dim \\text{range } T + \\dim \\text{null } T$$\n",
    "If $T$ is injective, then $\\dim \\text{null } T = 0$, and thus: $$\\dim \\text{range } T = \\dim V - 0 = \\dim V = \\dim W$$\n",
    "Thus $T$ is surjective.\n",
    "\n",
    "Thus, if $T$ is either injective or surjective, the $T$ is bijective and invertible for all $T$ that map between spaces of the same (finite) dimension."
   ]
  },
  {
   "cell_type": "markdown",
   "metadata": {},
   "source": [
    "**Result: $ST=I \\iff TS=I$**\n",
    "- For finite-dimensional vector space *of the same dimension* $V$ and $W$ with linear maps $S\\in\\mathcal{L}(W,V)$ and $T\\in\\mathcal{L}(V,W)$: $$ST=I \\iff TS = I$$"
   ]
  },
  {
   "cell_type": "markdown",
   "metadata": {},
   "source": [
    "### Isomorphic Vector Spaces"
   ]
  },
  {
   "cell_type": "markdown",
   "metadata": {},
   "source": [
    "**Definition 3.69: Isomorphism, Isomorphic**\n",
    "- An *isomorphism* is an invertible linear map\n",
    "- Two vector spaces are *isomorphic* if there is an isomorphism from one vector space onto the other one\n",
    "\n",
    "Vector spaces that are isomorphic are meaningfully equivalent. They basically only have different names for their elements. Thus, we can think of an isomorphism $T:V\\rightarrow W$ as essentially just relabeling $v\\in V$ as $Tv\\in W$"
   ]
  },
  {
   "cell_type": "markdown",
   "metadata": {},
   "source": [
    "**Result: Dimension Shows Whether Vector Spaces are Isomorphic**\n",
    "- Two finite-dimensional vector spaces over $\\mathbb{F}$ are isomorphic if and only if they have the same dimension\\\n",
    "***BIG FUCKING RESULT***"
   ]
  },
  {
   "cell_type": "markdown",
   "metadata": {},
   "source": [
    "**Result: $\\mathcal{L}(V,W)$ and $\\mathbb{F}^{m,n}$ are Isomorphic**\n",
    "- $\\mathcal{M}$ is an isomorphism betwenn $\\mathcal{L}(V,W)$ and $\\mathbb{F}^{m,n}$\n",
    "\n",
    "Thus, *any linear map* $T\\in\\mathcal{L}(V,W)$ may be represented by an $[m,n]$ matrix. This should be intuitive because we've defined a matrix to be the $[m,n]$ list of coordinates for the bases of the domain $V$ expressed in terms of the bases of the codomain $W$, and the result of any linear mapping from $V$ to $W$ may naturally be expressed as a linear combination of a basis in $W$."
   ]
  },
  {
   "cell_type": "markdown",
   "metadata": {},
   "source": [
    "**Result: Dimension of Linear Maps between Vector Spaces**\n",
    "- For finite-dimensional  $V$ and $W$, $\\mathcal{L}(V,W)$ is finite-dimensional and: $$\\dim\\mathcal{L}(V,W) = (\\dim V) (\\dim W)$$"
   ]
  },
  {
   "cell_type": "markdown",
   "metadata": {},
   "source": [
    "How should we conceive of the dimensionality of a space of linear mappings such as $\\mathcal{L}(V,W)$? Dimension was defined in ch 2 as the length of the minimum list of elements which spanned a space. For a space of linear mappings, we may think of aspanning set as the set of coordinates that produce any achievable mapping. This has a clean interpretation with matrices:\n",
    "\n",
    "Any linear mapping $T:\\mathbb{F}^n \\rightarrow \\mathbb{F}^m$ may be represented as:\n",
    "$$T(x_1,...,x_n) = \\bigg(\\sum_{k=1}^n A_{1,k}x_k, ..., \\sum_{k=1}^n A_{m,k} x_k\\bigg)$$\n",
    "This is a system of $m$ equations with $n$ variables. Here, $A:[m,n]$ is a matrix of the coefficients $A_{j,k}$. Thus, we may rewrite the system of equations as: $$T(x_1,...,x_n) = Ax$$ Where $x$ is the list (vector) containing $(x_1,...,x_n)$.\\\n",
    "Thus, the *dimensionality* of the mapping space $\\mathcal{L}(\\mathbb{F}^2, \\mathbb{F}^3)$ is given by the list of all $A_{j,k}$ coefficients, which has length $mn$.\n",
    "\n",
    "Similarly, the matrix $A:[m,n]$ representing a linear mapping $T:V\\rightarrow W$ between vector spaces $V$ and $W$ with dimensions $n$ and $m$, is \n",
    "$$\\mathcal{M}\\big(T(v_1,...,v_n)\\big) = \n",
    "\\begin{bmatrix}\n",
    "A_{1,1} \\ \\ \\cdots \\ \\ A_{1, n} \\\\\n",
    "\\ \\vdots \\ \\ \\ \\ \\ \\ \\ \\vdots \\ \\\\\n",
    "A_{m, 1} \\ \\ \\cdots \\ \\ A_{m, n} \\\\\n",
    "\\end{bmatrix}\n",
    "$$\n",
    "When applied to one vector $v\\in V$, the result of the map $Tv = w$ is: \n",
    "$$Av = \n",
    "\\begin{bmatrix}\n",
    "v \\sum_{k=1}^nA_{1, k} \\\\ \\vdots \\\\ v \\sum_{k=1}^n A_{m, k}\n",
    "\\end{bmatrix}\n",
    "$$\n",
    "This is *also* a system of $m$ equations with $n$ variables.\\\n",
    "The list of coefficients is given by the matrix $A$ with $mn$ elements, thus the dimension of the mapping space $\\mathcal{L}(V,W)$ is $mn$."
   ]
  },
  {
   "cell_type": "markdown",
   "metadata": {},
   "source": [
    "For a set of vectors $v_1, v_2, v_3 \\in V$, we will have $n$ systems of linear equations where each system has $m$ equations with $n$ variables."
   ]
  },
  {
   "cell_type": "markdown",
   "metadata": {},
   "source": [
    "### Linear Maps Thought of as Matrix Multiplication"
   ]
  },
  {
   "cell_type": "markdown",
   "metadata": {},
   "source": [
    "**Definition 3.73: Matrix of a Vector $\\mathcal{M}(v)$**\n",
    "- Let $v_1,...,v_n$ be a basis of $V$, the matrix of $v$ w.r.t. this basis is the $[n,1]$ matrix: $$\\mathcal{M}(v) = \\begin{bmatrix} b_1 \\\\ \\vdots \\\\ b_n \\end{bmatrix}$$\n",
    "- $b_1,...,b_n$ are scalars such that: $$v= b_1v_1 + \\cdots + b_n v_n$$"
   ]
  },
  {
   "cell_type": "markdown",
   "metadata": {},
   "source": [
    "With a basis $v_1,...,v_n$ of $V$, we may think of $\\mathcal{M}$ as a *function* that takes $v\\in V$ to $\\mathcal{M}(v)$, effectively *relabeling* each vector $v\\in V$ as an $[n,1]$ matrix w.r.t. the basis $v_1,...,v_n$. Thus, $\\mathcal{M}$ is an *isomorphism* of $V$ onto $\\mathbb{F}^{n,1}$."
   ]
  },
  {
   "cell_type": "markdown",
   "metadata": {},
   "source": [
    "Column $k$ of $\\mathcal{M}(T)$ is equal to $\\mathcal{M}(Tv_k)$, i.e.: $$\\mathcal{M}(T)_{\\cdot, k} = \\mathcal{M}(Tv_k)$$\n",
    "For a vector $v_k$ in a basis of $V$"
   ]
  },
  {
   "cell_type": "markdown",
   "metadata": {},
   "source": [
    "**Result: Linear Maps Act Like Matrix Multiplication**\n",
    "- For $T\\in\\mathcal{L}(V,W)$ and bases $v_1,...,v_n$ of $V$ and $w_1,...,w_m$ of $W$: $$\\mathcal{M}(Tv) = \\mathcal{M}(T)\\mathcal{M}(v)$$"
   ]
  },
  {
   "cell_type": "markdown",
   "metadata": {},
   "source": [
    "Each matrix $A:[m,n]$ induces a linear map from $\\mathbb{F}^{n,1}$ to $\\mathbb{F}^{m,1}$. The matrix multiplication operation takes $x\\in\\mathbb{F}^{n,1}$ to $Ax\\in\\mathbb{F}^{m,1}$.\\\n",
    "If $T\\in\\mathcal{L}(V,W)$ and $v\\in V$ is identifiable with $\\mathcal{M}(v)\\in \\mathbb{F}^{n,1}$, then we can identify $Tv$ with $\\mathcal{M}(T)\\mathcal{M}(v)$"
   ]
  },
  {
   "cell_type": "markdown",
   "metadata": {},
   "source": [
    "**Result: Range and Column Rank**\n",
    "- For finite-dimensional $V$ and $W$ and $T\\in\\mathcal{L}(V,W)$: $$\\dim \\text{range } T = \\text{ column rank } \\mathcal{M}(T)$$"
   ]
  },
  {
   "cell_type": "markdown",
   "metadata": {},
   "source": [
    "### Change of Basis"
   ]
  },
  {
   "cell_type": "markdown",
   "metadata": {},
   "source": [
    "**Definition 3.80: Invertible Matrix, Matrix Inverse**\n",
    "- A square matrix $A$ is *invertible* if there exists a square matrix $B$ of the same size such that $AB=BA=I$\n",
    "- Such a matrix $B$ is called the inverse of $A$ and is denoted $A^{-1}$"
   ]
  },
  {
   "cell_type": "markdown",
   "metadata": {},
   "source": [
    "**New Notation:**\n",
    "$$\\mathcal{M}\\big(T, (v_1,...,v_n), (w_1,...,w_m)\\big)$$\n",
    "This denotes the matrix of the linear map $T$ from $V$ to $W$ where $v_1,...,v_n$ is a basis of $V$ and $w_1,...,w_m$ is a basis of $W$. This is the same as $M(T)$ for $T\\in\\mathcal{L}(V,W)$ as defined before, we are simply making it explicit which basis is used in the domain and the codomain. Thus, the matrix should be read as a representation of the vectors in $v_1,...,v_n$ in the bases of $w_1,...,w_m$ after applying the transformation $T$."
   ]
  },
  {
   "cell_type": "markdown",
   "metadata": {},
   "source": [
    "**Matrix of Identity Operator w.r.t Two Bases:**\n",
    "- Let $u_1,...,u_n$ and $v_1,...,v_n$ both be bases of $V$, then the following matrices are invertible and each is the inverse of the other:\n",
    "$$\\mathcal{M}\\big(I, (u_1,...,u_n), (v_1,...,v_n)\\big) \\ \\text{ and } \\ \\mathcal{M}\\big(I, (v_1,...,v_n), (u_1,...,u_n)\\big)$$\n",
    "The first represents linear combinations of $u_1,...,u_n$ in terms of $v_1,...,v_n$ while the latter represents linear combinations of $v_1,...,v_n$ in terms of $u_1,...,u_n$"
   ]
  },
  {
   "cell_type": "markdown",
   "metadata": {},
   "source": [
    "*Example:*\n",
    "\n",
    "Two bases for $\\mathbb{F}^2$ are: $(1,0), (0,1)$ and $(4,2), (5,3)$. The representation of the latter in terms of the former is straightforward: $$\\mathcal{M}\\bigg(I, \\big((4,2),(5,3)\\big), \\big((1,0),(0,1)\\big) \\bigg) = \\begin{bmatrix} 4 \\ \\ \\ \\ 5 \\\\ 2 \\ \\ \\ \\ 3 \\end{bmatrix}$$\n",
    "$$\n",
    "\\begin{bmatrix} 1 \\ \\ \\ \\ 0 \\\\ 0 \\ \\ \\ \\ 1 \\end{bmatrix} \n",
    "\\begin{bmatrix} 4 \\ \\ \\ \\ 5 \\\\ 2 \\ \\ \\ \\ 3 \\end{bmatrix} = \n",
    "\\begin{bmatrix} 4 \\ \\ \\ \\ 5 \\\\ 2 \\ \\ \\ \\ 3 \\end{bmatrix}\n",
    "$$\n",
    "The reverse is less obvious:\n",
    "$$\\mathcal{M}\\bigg(I, \\big((1,0),(0,1)\\big), \\big((4,2),(5,3)\\big) \\bigg) = \\begin{bmatrix} \\frac{3}{2} \\ \\ \\ \\ -\\frac{5}{2} \\\\ -1 \\ \\ \\ \\ \\ \\ 2 \\end{bmatrix}$$\n",
    "$$\\begin{bmatrix} 4 \\ \\ \\ \\ 5 \\\\ 2 \\ \\ \\ \\ 3 \\end{bmatrix} \\begin{bmatrix} \\frac{3}{2} \\ \\ \\ \\ -\\frac{5}{2} \\\\ -1 \\ \\ \\ \\ \\ \\ 2 \\end{bmatrix} = \\begin{bmatrix} 1 \\ \\ \\ \\ 0 \\\\ 0 \\ \\ \\ \\ 1 \\end{bmatrix}$$"
   ]
  },
  {
   "cell_type": "markdown",
   "metadata": {},
   "source": [
    "**Change of Basis Formula:**\n",
    "- For $T\\in\\mathcal{L}(V)$ and bases $u_1,...,u_n$ and $v_1,...,v_n$ of $V$, let: $$A=\\mathcal{M}\\big(T,(u_1,...,u_n)\\big) \\ \\text{ and } \\ B=\\mathcal{M}\\big(T, (v_1,...,v_n)\\big) \\\\ \\text{and } C=\\mathcal{M}\\big(I, (u_1,...,u_n),(v_1,...,v_n)\\big)$$\n",
    "Then: $$A=C^{-1}BC$$"
   ]
  },
  {
   "cell_type": "markdown",
   "metadata": {},
   "source": [
    "We can sort of think of this as converting to a representation in $v_1,...,v_n$, applying the transformation expressed by $B$, then converting back to a representation in $u_1,...,u_n$"
   ]
  },
  {
   "cell_type": "markdown",
   "metadata": {},
   "source": [
    "**Result: Matrix of Inverse Equals Inverse of Matrix**\n",
    "- For basis $v_1,...,v_n$ of $V$ and invertible $T\\in\\mathcal{L}(V)$: $$\\mathcal{M}(T^{-1}) = \\big(\\mathcal{M}(T)\\big)^{-1}$$"
   ]
  },
  {
   "cell_type": "markdown",
   "metadata": {},
   "source": [
    "### Exercises 3D"
   ]
  },
  {
   "cell_type": "markdown",
   "metadata": {},
   "source": [
    "on paper: [7, 15, 10, 11, 16]\n"
   ]
  },
  {
   "cell_type": "markdown",
   "metadata": {},
   "source": [
    "#### 1.\n",
    "Show that $T^{-1}$ is invertible and $(T^{-1})^{-1} = T$"
   ]
  },
  {
   "cell_type": "markdown",
   "metadata": {},
   "source": [
    "If $T^{-1}$ exists, then: $$TT^{-1} = I = T^{-1}T$$ \n",
    "By the definition of an inverse. Therefore, $T$ is equal to the inverse of $T^{-1}$"
   ]
  },
  {
   "cell_type": "markdown",
   "metadata": {},
   "source": [
    "#### 2.\n",
    "Given $T\\in\\mathcal{L}(U,V)$ and $S\\in\\mathcal{L}(V,W)$, both invertible, prove that $ST$ is invertible and $(ST)^{-1} = T^{-1}S^{-1}$"
   ]
  },
  {
   "cell_type": "markdown",
   "metadata": {},
   "source": [
    "Given that $S$ and $T$ are invertible, we have: $$SS^{-1} = S^{-1}S = I \\\\ TT^{-1} = T^{-1}T = I$$\n",
    "For $ST\\in\\mathcal{L}(U,W)$, its inverse is $(ST)^{-1}\\in\\mathcal{L}(W,U)$. Similarly, $T^{-1}\\in\\mathcal{L}(V,U)$ and $S^{-1}\\in\\mathcal{L}(W, V)$."
   ]
  },
  {
   "cell_type": "markdown",
   "metadata": {},
   "source": [
    "Let $u\\in U$, $v\\in V$, and $w\\in W$. Because $S$ and $T$ are invertible, they are both bijective, thus $$S(Tu) = S(v) = w$$\n",
    "Then $S^{-1}w = v$ and $T^{-1}v = u$, thus: $$T^{-1}(S^{-1}w) = (ST)^{-1}w$$"
   ]
  },
  {
   "cell_type": "markdown",
   "metadata": {},
   "source": [
    "#### 4. \n",
    "For finite-dimensional $V$ with $\\dim V > 1$, prove that the set of noninvertible linear maps from $V$ to itself is not a subspace of $\\mathcal{L}(V)$"
   ]
  },
  {
   "cell_type": "markdown",
   "metadata": {},
   "source": [
    "A non-invertible linear map between spaces of the same dimension cannot be injective *or* surjective. Thus, its range cannot span all of $V$ and its null must be larger than $\\{0\\}$. Let $T\\in\\mathcal{L}(V)$ be a non-surjective linear map from $V$ onto $V$. To prove that the set $\\{T\\in\\mathcal{L}(V):T\\text{ is noninvertible }\\}$ is *not* a subspace, we need only show that this set is not closed under addition or scalar multiplication for some members of the set. Let $T_j(v_1,...,v_n) = a_jv_j, \\ a_j\\in\\mathbb{F}$ This mapping is equivalent to a linear combination of all vectors in $v_1,...,v_n$ with all coefficients $a_i = 0, \\ \\forall i\\ne j$. If $v_1,...,v_n$ are a basis for $V$, then this linear map is not surjective and thus is a member of the set. However, the sum of all such maps $T_1 + \\cdots + T_n = a_1v_1 + \\cdots + a_nv_n$, spans the space of $V$ and is thus surjective and invertible. So the set is not closed under addition and is therefore not a subspace."
   ]
  },
  {
   "cell_type": "markdown",
   "metadata": {},
   "source": [
    "#### 5.\n",
    "For finite-dimensional $V$, $S\\in\\mathcal{L}(U,V)$ where $U\\subseteq V$. Prove that there exists an invertible linear map $T\\in\\mathcal{L}(V)$ such that $Tu=Su$ for every $u\\in U$ if and only if $S$ is injective."
   ]
  },
  {
   "cell_type": "markdown",
   "metadata": {},
   "source": [
    "Note that $u\\in V, \\ \\forall u \\in U$ because $U\\subseteq V$."
   ]
  },
  {
   "cell_type": "markdown",
   "metadata": {},
   "source": [
    "First direction:\\\n",
    "$\\exists \\text{ invertible } T\\in\\mathcal{L}(V):Tu=Su \\implies S \\text{ is injective }$"
   ]
  },
  {
   "cell_type": "markdown",
   "metadata": {},
   "source": [
    "$T$ is an automorphism, so it is invertible and bijective. Because $T$ is bijective, its range is the entire space of $V$, thus $\\exists v\\in V : Tv = Su, \\forall u\\in U$. In other words, no value on the range of $S$ is outside of the range of $T$. Therefore, $\\dim \\text{ range } S \\le \\dim \\text{ range } T \\le \\dim V$\n",
    "\n",
    "However, we can be more strict than this because we are given $Tu=Su, \\ \\forall u\\in U$. This allows us to prove injectivity by contradiction. That is, assume that $S$ is not injective. Thne: $$\\exists u\\in U : Su=0, \\ u\\ne 0 \\\\ \\implies Tu = 0 = Su \\\\ \\implies \\text{ null } T \\ne \\{0\\}$$\n",
    "Therefore, $S$ cannot *not be* injective when $T$ is injective. This proves the conditional statement."
   ]
  },
  {
   "cell_type": "markdown",
   "metadata": {},
   "source": [
    "Second direction:\\\n",
    "$S \\text{ is injective } \\implies \\exists \\text{ invertible } T\\in\\mathcal{L}(V):Tu=Su$"
   ]
  },
  {
   "cell_type": "markdown",
   "metadata": {},
   "source": [
    "Injectivity of $S$ implies that $\\dim \\text{ range } = \\dim U$. Then for a basis $u_1,...,u_n$ of $U$, we may express the basis of $V$ as $u_1,...,u_n,w_1,...,w_m$ where $w_1,...,w_m$ form a basis for the subspace $W$ of the form: $$V=U\\oplus W$$\n",
    "Then, $$\\dim V = \\dim U + \\dim W \\\\ V = \\text{range } S + W$$\n",
    "Now, we may define $T\\in\\mathcal{L}(V)$ such that: $$Tu_k \\coloneqq Su_k \\\\ Tw_j \\coloneqq w_j$$\n",
    "Such a mapping $T$ is injective (because $S$ is injective) and surjective on $V$, thus it is also invertible.\n",
    "\n",
    "**NOTE:** $Su \\ne w, \\ \\forall u\\in U, \\ w \\in W$, this is because $U$ and $W$ are disjoint subspaces of $V$"
   ]
  },
  {
   "cell_type": "markdown",
   "metadata": {},
   "source": [
    "#### 6.\n",
    "For $S,T\\in\\mathcal{L}(V,W)$ prove that $\\text{null }S = \\text{null } T$ if and only if there exists an invertible $E\\in\\mathcal{L}(W)$ such that $S=ET$"
   ]
  },
  {
   "cell_type": "markdown",
   "metadata": {},
   "source": [
    "First direction:\\\n",
    "$\\text{null } S = \\text{null } T \\implies \\exists E\\in\\mathcal{L}(W) : S=ET$\n",
    "$$\n",
    "\\text{null } S = \\text{null } T \\implies \\dim \\text{null } S = \\dim \\text{null } T \\\\\n",
    "\\implies \\dim \\text{range } S = \\dim \\text{range } T\n",
    "$$\n",
    "$S$ and $T$ map to the same subspace of $W$, thus we may intuitively see that outputs of $S$ should be *reachable* from outputs of $T$. But how to prove that such a mapping between outputs exists?\n",
    "\n",
    "Maybe by the linear map lemma:\\\n",
    "Let $U = \\text{range } S = \\text{range } T, \\ U \\subseteq W$ with basis $u_1,...,u_n$, then by the linear maps lemma: \n",
    "$$\\exists E:U\\rightarrow U : \\ E(u_k) = u_k, \\ \\forall k=1,...,n$$\n",
    "Thus, there exists a unique linear map from $U$ onto itself...\n",
    "\n",
    "We may go further, let $Tv_1,...,Tv_m$ and $Sv_1,...,Sv_m$ comprise bases for $\\text{range } T = U$. Then, by the linear maps lemma, a unique map $E$ exists such that:\n",
    "$$E:U\\rightarrow U : \\ E(Tv_k) = Sv_k, \\ \\forall k=1,...,m$$\n",
    "Because $E$ maps to all values of $Sv_k$ and $\\text{range } S = U$, $E$ is surjective on $U$ and therefore also injective and invertible (since it maps from $U$ onto itself).\n",
    "\n",
    "But still, I don't see how to prove that it is surjective on $W$. We know that the range of $S$ or $T$ is a subspace of $W$, but not that it equals $W$..."
   ]
  },
  {
   "cell_type": "markdown",
   "metadata": {},
   "source": [
    "There's an approach that feels a bit like a hack, which is to use the lemma to state the existence of $E$ on $W$ and define $E$ as:\n",
    "$$\n",
    "E(Tv_k) = Sv_k \\\\\n",
    "E(w_j) = w_j\n",
    "$$\n",
    "This utilizes the fact that for a basis $v_1,...,v_m$ of $V$, the basis of $W$ may be constructed as $Tv_1,...,Tv_m, w_1,...,w_n$. This map $E$ is automorphic because $\\text{null } E = \\{0\\}$ (since $T$ and $S$ are both surjective on $\\text{span}(Tv_1,...,Tv_n)$). Thus, $E$ is invertible.\n",
    "\n",
    "This feels a bit hacky because it relies on defining a form for $E$..."
   ]
  },
  {
   "cell_type": "markdown",
   "metadata": {},
   "source": [
    "Second direction:\\\n",
    "$\\exists E\\in\\mathcal{L}(W) : S=ET \\implies \\text{null } S = \\text{null } T$\n",
    "\n",
    "Because $E$ is given to be invertible, it is an automorphism on $W$, thus:\n",
    "$$\\text{range } ET = W \\\\ \\implies \\text{range } S = W \\\\ \\implies \\text{null }ET = \\text{null } S$$\n",
    "Because $E$ is an automorphism, $\\text{null } E = \\{0\\}$, so $\\text{null } ET = \\text{null T}$. Therefore, $$\\text{null } S = \\text{null } T$$"
   ]
  },
  {
   "cell_type": "markdown",
   "metadata": {},
   "source": [
    "## 3E Products and Quotients of Vector Spaces"
   ]
  },
  {
   "cell_type": "markdown",
   "metadata": {},
   "source": [
    "### Products of Vector Spaces"
   ]
  },
  {
   "cell_type": "markdown",
   "metadata": {},
   "source": [
    "**Definition 3.87: Product of Vector Spaces**\\\n",
    "For vector spaces $V_1,...,V_m$ defined over $\\mathbb{F}$ (that is, they are all defined on the same field)\n",
    "- The *product* $V_1\\times \\cdots \\times V_m$ is: $$ V_1\\times \\cdots \\times V_m = \\{(v_1,...,v_m) : v_1\\in V_1,..., v_m\\in V_m\\}$$\n",
    "- Addition on $V_1\\times \\cdots \\times V_m$ is defined as: $$(u_1,...,u_m) + (v_1,...,v_m) = (u_1 + v_1,..., u_m + v_m)$$\n",
    "- Scalar multiplication on $V_1\\times \\cdots \\times V_m$ is defined as: $$\\lambda(v_1,...,v_m) = (\\lambda v_1,..., \\lambda v_m)$$\n",
    "\n",
    "So, basically the product of two vector spaces on the same field is simply a concatenation of their elements. For example, $\\mathcal{P}_5(\\reals) \\times \\reals^3$ is the set of length two lists with the first element being in $\\mathcal{P}_5(\\reals)$ and the second being a in $\\reals^3$. E.g.\n",
    "$$\n",
    "u = \\big(5-6x+4x^2, (3, 8, 7)\\big) \\in \\mathcal{P}_5(\\reals)\\times \\reals^3 \\\\\n",
    "v = \\big(x+9x^5, (2, 2, 2)\\big) \\in \\mathcal{P}_5(\\reals)\\times \\reals^3 \\\\\n",
    "u + v = \\big(5 - 5x + 4x^2 + 9x^5, (5, 10, 9)\\big) \n",
    "$$"
   ]
  },
  {
   "cell_type": "markdown",
   "metadata": {},
   "source": [
    "**Result: The product of vector spaces is also a vector space**\n",
    "- For vector spaces $V_1,...,V_m$ over $\\mathbb{F}$, the product $V_1\\times \\cdots \\times V_m$ is also a vector space over $\\mathbb{F}$ (with addition and scalar multiplication)"
   ]
  },
  {
   "cell_type": "markdown",
   "metadata": {},
   "source": [
    "**Remark: Dimension of a Product is the Sum of Dimensions**\n",
    "- For finite-dimensional $V_1,...,V_m$, the product $V_1\\times \\cdots \\times V_m$ is finite-dimensional with dimension: $$\\dim (V_1\\times \\cdots \\times V_m) = \\dim V_1 + \\cdots + \\dim V_m$$\n",
    "\n",
    "Select a basis for each V_k. The basis of $V_1\\times \\cdots \\times V_m$ is the list of lists where each list $k$ takes one unique basis vector for $V_k$ as its $k^{\\text{th}}$ element and 0 as all other elements. Such spans the entriety of $V_1\\times \\cdots \\times V_m$ and has length equal to $\\dim V_1 + \\cdots + \\dim V_m$.\n",
    "\n",
    "E.g., consider the basis of $\\mathcal{P}_2(\\reals)\\times\\reals^2$:\n",
    "$$\\big(1,(0,0)\\big), \\big(x,(0,0)\\big), \\big(x^2,(0,0)\\big), \\big(0,(1,0)\\big), \\big(0,(0,1)\\big)$$"
   ]
  },
  {
   "cell_type": "markdown",
   "metadata": {},
   "source": [
    "**Remark: Products and Direct Sums**\n",
    "- For $V_1,...,V_m \\subseteq V$, let $\\Gamma : V_1 \\times \\cdots \\times V_m \\rightarrow V_1 + \\cdots + V_m$ be a linear map defined as: $$\\Gamma(v_1,...,v_m) = v_1 + \\cdots + v_m$$\n",
    "- Then $V_1 + \\cdots + V_m$ is a **direct sum** if and only if $\\Gamma$ is injective\n",
    "- **NOTE**: $\\Gamma$ is surjective by the definition of $V_1 + \\cdots + V_m$, thus it is also invertible if it is injective"
   ]
  },
  {
   "cell_type": "markdown",
   "metadata": {},
   "source": [
    "*Proof:*\\\n",
    "This remark is proven by recognizing that $\\Gamma$ is injective if and only if $\\Gamma(v_1,...,v_m) = 0$ **only when** $v_1=\\cdots=v_m = 0$, hence $V_1 \\cap \\cdots \\cap V_m = \\{0\\}$\n",
    "- If $V_1 \\cap \\cdots \\cap V_m \\ne \\{0\\}$, then we may find some $v_k\\ne 0, v_j \\ne 0 \\in v_1,...,v_m, \\ j\\ne k$ such that $v_k - v_j = 0$, and so the null space of $\\Gamma$ would be greater than $\\{0\\}$ and $\\Gamma$ would not be injective"
   ]
  },
  {
   "cell_type": "markdown",
   "metadata": {},
   "source": [
    "**Result: A Sum is a Direct Sum If and Only If the Dimensions Add Up**\n",
    "- For finite-dimensional $V$ and $V_1,...,V_m \\subseteq V$, the sum $V_1 + \\cdots + V_m$ is a direct sum if and only if: \n",
    "$$\\dim(V_1 + \\cdots + V_m) = \\dim V_1 + \\cdots + \\dim V_m$$"
   ]
  },
  {
   "cell_type": "markdown",
   "metadata": {},
   "source": [
    "*Proof:*\\\n",
    "Because $\\Gamma$ is surjective, we know that it will be injective if and only if the dimension of its domain is equal to the dimension of its codomain (because maps between spaces of the same dimension are injective iff they are surjective). That is:\n",
    "$$\\Gamma \\text{ injective } \\iff \\dim(V_1\\times \\cdots \\times V_m) = \\dim(V_1 + \\cdots + V_m)$$\n",
    "We know that $\\dim(V_1\\times \\cdots \\times V_m) = \\dim V_1 + \\cdots + \\dim V_m$, so:\n",
    "$$\\Gamma \\text{ injective } \\iff \\dim(V_1 + \\cdots + V_m) = \\dim V_1 + \\cdots + \\dim V_m$$\n",
    "And $V_1 + \\cdots + V_m$ is a direct sum if and only if $\\Gamma$ is injective."
   ]
  },
  {
   "cell_type": "markdown",
   "metadata": {},
   "source": [
    "### Quotient Spaces"
   ]
  },
  {
   "cell_type": "markdown",
   "metadata": {},
   "source": [
    "**Notation: Sum of vector and subspace**\n",
    "- Let $v\\in V$ and $U \\subseteq V$, then $v+U$ is the subset of $V$ defined by: $$v+U = \\{v + u : u \\in U\\}$$"
   ]
  },
  {
   "cell_type": "markdown",
   "metadata": {},
   "source": [
    "**Definition 3.97: Translate**\n",
    "- For $v\\in V$ and $U$ a subset of $V$, the set $v+U$ is a *translate* of $U$\n",
    "\n",
    "We may observe that any such sums are *affine shifts* of the subset $U$"
   ]
  },
  {
   "cell_type": "markdown",
   "metadata": {},
   "source": [
    "**Crucial Note:** $U$ has thus far been referred to as a *subset*, not a *subspace*. Crucially, this means that it does not need to contain the origin and may thus be any line, plane, surface, etc. in the space of $V$. The subset of the translation also need not be a space."
   ]
  },
  {
   "cell_type": "markdown",
   "metadata": {},
   "source": [
    "**Definition 3.99: Quotient Space**\n",
    "- For a subspace $U$ of $V$, the quotient space $V/U$ is the set of *all translates* of $U$\n",
    "$$V/U = \\{v+U : v\\in V\\}$$\n",
    "\n",
    "If $U$ is a subspace of $V$, then $V/U$ is clearly also a subspace of $V$ because $V$ is closed under addition.\n",
    "\n",
    "E.g. $U=\\{(x, 2x)\\in\\reals^2 : x\\in \\reals\\}$\n",
    "- $U\\subseteq\\reals^2$ \n",
    "- $\\reals^2/U\\subseteq \\reals^2$ is the set of all lines in $\\reals^2$ that have a slope of $2$\n",
    "\n",
    "E.g. $U$ is a plane in $\\reals^3$ containing the origin\n",
    "- $\\reals^3/U$ is the set of all planes in $\\reals^3$ parallel to $U$"
   ]
  },
  {
   "cell_type": "markdown",
   "metadata": {},
   "source": [
    "**Result: Two translates of a *subspace* are either equal or disjoint**\n",
    "- For subspace $U\\subseteq V$ and $v,w \\in V$:\n",
    "$$v-w\\in U \\iff v+U=w+U \\iff (v+U)\\cap(w+U)\\ne \\empty$$\n",
    "- Explicitly, the quotient spaces $v+U$ and $w+U$ are equal if and only if their intersection is non-empty"
   ]
  },
  {
   "cell_type": "markdown",
   "metadata": {},
   "source": [
    "**Definition 3.102: Addition and Scalar Multiplication on Quotient Spaces**\n",
    "- For $V/U$, the definitions are:\n",
    "$$\\text{Addition: } (v + U) + (w + U) = (v + w) + U \\\\ \\ \\\\\n",
    "\\text{Scalar Multiplication: } \\lambda(v + u) = (\\lambda v) + U \\\\ \\ \\\\\n",
    "\\forall v,w \\in V, \\ \\lambda \\in \\mathbb{F}$$"
   ]
  },
  {
   "cell_type": "markdown",
   "metadata": {},
   "source": [
    "**Remark: The Quotient Space is a Vector Space**\n",
    "- For subspace $U\\subseteq V$, the quotient space $V/U$ is a vector space with th operations of addition and scalar multiplication (as defined in 3.102)"
   ]
  },
  {
   "cell_type": "markdown",
   "metadata": {},
   "source": [
    "**Definition 3.104: Quotient Map**\n",
    "- The quotient map $\\pi:V\\rightarrow V/U$ is the linear map defined by: $$\\pi(v) = v + U, \\ \\forall v\\in V$$"
   ]
  },
  {
   "cell_type": "markdown",
   "metadata": {},
   "source": [
    "**Remark: Dimension of Quotient Space**\n",
    "$$\\dim V/U = \\dim V - \\dim U$$"
   ]
  },
  {
   "cell_type": "markdown",
   "metadata": {},
   "source": [
    "*Proof:*\\\n",
    "Consider the quotient map $\\pi: V\\rightarrow V/U$ with subspace $U\\subseteq V$. Then, for some $v\\in V$, $v + U = 0 + U$ if and only if $v\\in U$. This follows from the fact that two translates are either equal or disjoint, and that $U$ is closed under addition since it is a subspace (so $v+U = U, \\ \\forall v\\in U$). This implies that $\\text{null } \\pi = U$ and thus $\\text{dim null }\\pi = \\dim U$. From the fundamental theorem of linear maps:\n",
    "$$\\dim V = \\text{dim null } \\pi + \\text{dim range } \\pi$$\n",
    "By the definition of $\\pi$, $\\text{range } \\pi = V/U$, therefore:\n",
    "$$\\dim V/U = \\dim V - \\dim U$$"
   ]
  },
  {
   "cell_type": "markdown",
   "metadata": {},
   "source": [
    "There may be some intuition for this as well. Consider a quotient space $\\reals^3/U$ comprised of all planes parallel to a plane $U$ passing through the origin. The space is defined to be *all planes*, thus any element in the space may be defined with *one* number: its distance from the origin along the normal axis from $U$. More simply, consider the quotient space $\\reals^2/U$ comprised of all lines of slope $2$. All elements of this space could similarly be described with *one* number, their distance from the origin along the $x$-axis. This number is the $x$-coordinate for the line. If we considered a quotient space of lines in $\\reals^3/U$, then we would need *two* numbers to describe any point, these numbers would give the line a coordinate in either the $xy$, $xz$, or $yz$ coordinate plane. "
   ]
  },
  {
   "cell_type": "markdown",
   "metadata": {},
   "source": [
    "**Notation: $\\tilde{T}$**\n",
    "- Each linear map $T$ on $V$ induces a linear map $\\tilde{T}$ on $V/(\\text{null }T)$\n",
    "- For $T\\in\\mathcal{L}(V, W)$, $\\tilde{T}:V/(\\text{null }T) \\rightarrow W$ is defined as: $$\\tilde{T}(v + \\text{null }T) = Tv$$"
   ]
  },
  {
   "cell_type": "markdown",
   "metadata": {},
   "source": [
    "**Null Space and Range of $\\tilde{T}$**\\\n",
    "For $T\\in\\mathcal{L}(V,W)$:\n",
    "- $\\tilde T \\circ \\pi = T$, where $\\pi : V \\rightarrow V/(\\text{null } T)$\n",
    "- $\\tilde T$ is injective\n",
    "- $\\text{range } \\tilde T = \\text{range } T$\n",
    "- $V/(\\text{null } T)$ and $\\text{range } T$ are isomorphic vector spaces"
   ]
  },
  {
   "cell_type": "markdown",
   "metadata": {},
   "source": [
    "## Duality"
   ]
  },
  {
   "cell_type": "markdown",
   "metadata": {},
   "source": [
    "### Dual Space and Dual Map"
   ]
  },
  {
   "cell_type": "markdown",
   "metadata": {},
   "source": [
    "**Definition 3.108: Linear Functional**\n",
    "- A linear functional on $V$ is a linear map from $V$ to $\\mathbb{F}$\n",
    "    - i.e. it is an element of $\\mathcal{L}(V,\\mathbb{F})$\n",
    "- Linear functionals are typically denoted $\\phi$"
   ]
  },
  {
   "cell_type": "markdown",
   "metadata": {},
   "source": [
    "**Definition 3.110: Dual Space**\n",
    "- The dual space of $V$, denoted $V'$, is the vector space of all linear functionals on $V$\n",
    "    - i.e. $V' = \\mathcal{L}(V,F)$"
   ]
  },
  {
   "cell_type": "markdown",
   "metadata": {},
   "source": [
    "**Remark: $\\dim V' = \\dim V$**"
   ]
  },
  {
   "cell_type": "markdown",
   "metadata": {},
   "source": [
    "**Definition 3.112: Dual Basis**\n",
    "- For a basis of $V$, $v_1,...,v_n$, the dual basis is the list $\\phi_1,...,\\phi_n$ of $V'$\n",
    "- Each $\\phi_j$ in the dual basis has the form:\n",
    "$$\\phi_j(v_k) = \\begin{cases} 1 \\ \\ \\text{if} \\ k=j \\\\ 0 \\ \\ \\text{if} \\ k \\ne j \\end{cases}$$\n",
    "So, the dual basis is a set of linear functionals that evaluate to one for their corresponding basis vector in $V$. The linear functional $\\phi_j$ in the dual basis may thus be interpreted as the linear functional on $\\mathbb{F}^n$ that selects the $j^{\\text{th}}$ coordinate of a vector in $V$. Ex. $\\forall u\\in V : u = (u_1,...,u_n)$: \n",
    "$$\\phi_j(u_1,...,u_n) = u_j$$\n",
    "For the $j^{\\text{th}}$ standard basis vector of $V$, $e_j$:\n",
    "$$\\phi_j(e_j) = 1$$ "
   ]
  },
  {
   "cell_type": "markdown",
   "metadata": {},
   "source": [
    "**Result: The Dual Basis *Gives* Coordinates for Linear Combinations**\n",
    "- for basis $v_1,...,v_n\\in V$ with dual basis $\\phi_j,...,\\phi_n$:\n",
    "$$v = \\phi_1(v)v_1 + \\cdots + \\phi_n(v)v_n, \\ \\forall v \\in V$$"
   ]
  },
  {
   "cell_type": "markdown",
   "metadata": {},
   "source": [
    "*Proof:*\n",
    "$$\\forall v \\in V, \\ \\exists c_1,...,c_n\\in\\mathbb{F}: v = c_1v_1 + \\cdots + c_nv_n$$\n",
    "Then, applying $\\phi_j$ to both sides yields:\n",
    "$$\\phi_j(v) = c_j$$\n",
    "Then we may simply substitute:\n",
    "$$v = \\phi_1(v)v_1 + \\cdots + \\phi_n(v)v_n$$\n",
    "This is equivalent to selecting the $j^{\\text{th}}$ coordinate from $v$ for each $\\phi_j$"
   ]
  },
  {
   "cell_type": "markdown",
   "metadata": {},
   "source": [
    "**Result: Dual Basis is a Basis of the Dual Space**\n",
    "\n",
    "*Proof:*\\\n",
    "Given a basis $v_1,...,v_n$ of $V$, we need simply show that the list $\\phi_1,...,\\phi_n$ is linearly independent (because we know that each $\\phi_j$ is in the dual space by the definition of the dual space, and we know that the list equals the dimension of the dual space).\n",
    "\n",
    "Consider $a_1,...,a_n\\in\\mathbb{F}$ such that: $$a_1\\phi_1 + \\cdots + a_n\\phi_n = 0$$\n",
    "Then:\n",
    "$$\n",
    "(a_1\\phi_1 + \\cdots + a_n\\phi_n)(v_k) = 0\n",
    "= a_1\\phi_1(v_k) + \\cdots + a_n\\phi_n(v_k) = a_k = 0\n",
    "$$\n",
    "Therefore, $\\phi_1,...,\\phi_j$ is a linearly independent list in $V'$. Because its length is $n$, it is also a basis of $V'$\n",
    "\n",
    "*Note:* A little explication, the second equation we know to be equal to $a_k$ by the definition of the linear functionals in the list. Because their combination is also known to equal $0$, then $a_k = 0$ for all $a_k$."
   ]
  },
  {
   "cell_type": "markdown",
   "metadata": {},
   "source": [
    "**Definition 3.118: Dual Map**\n",
    "- Let $T \\in \\mathcal{L}(V,W)$, then the dual map of $T$ is the linear map $T'\\in\\mathcal{L}(W', V')$ defined for each $\\phi \\in W'$ by: $$T'(\\phi) = \\phi \\circ T$$\n",
    "\n",
    "Think on this.\\\n",
    " $T: V \\rightarrow W$, $T' : W' \\rightarrow V'$, and $\\phi : W \\rightarrow \\mathbb{F}$. Then, $T'(\\phi) = \\phi \\circ T$ is a mapping from $V$ to $\\mathbb{F}$ and thus $T'(\\phi) \\in V'$"
   ]
  },
  {
   "cell_type": "markdown",
   "metadata": {},
   "source": [
    "**Algebraic Properties of Dual Maps**\\\n",
    "For $T\\in \\mathcal{L}(V,W)$:\n",
    "- $(S+T)' = S' + T', \\ \\forall S \\in \\mathcal{L}(V,W)$\n",
    "- $(\\lambda T)' = \\lambda T', \\ \\forall \\lambda \\in \\mathbb{F}$\n",
    "- $(ST)' = T'S', \\ \\forall S \\in \\mathcal{L}(W,U)$\n"
   ]
  },
  {
   "cell_type": "markdown",
   "metadata": {},
   "source": [
    "### Null Space and Range of Dual Linear Maps"
   ]
  },
  {
   "cell_type": "markdown",
   "metadata": {},
   "source": [
    "**Definition 3.121: Annihilator**\n",
    "- For $U\\subseteq V$, the *annihilator* of $U$, denoted $U^0$, is defined by:\n",
    "$$U^0 = \\{\\phi \\in V' : \\phi(u) = 0, \\ \\forall u \\in U\\}$$"
   ]
  },
  {
   "cell_type": "markdown",
   "metadata": {},
   "source": [
    "**Remark: The Annihilator is a Subspace**\n",
    "- For $U\\subseteq V$, the annihilator $U^0$ is a subspace of $V$"
   ]
  },
  {
   "cell_type": "markdown",
   "metadata": {},
   "source": []
  }
 ],
 "metadata": {
  "kernelspec": {
   "display_name": "anaconda",
   "language": "python",
   "name": "python3"
  },
  "language_info": {
   "codemirror_mode": {
    "name": "ipython",
    "version": 3
   },
   "file_extension": ".py",
   "mimetype": "text/x-python",
   "name": "python",
   "nbconvert_exporter": "python",
   "pygments_lexer": "ipython3",
   "version": "3.12.4"
  }
 },
 "nbformat": 4,
 "nbformat_minor": 2
}
