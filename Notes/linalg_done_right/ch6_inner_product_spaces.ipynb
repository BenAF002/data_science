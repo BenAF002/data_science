{
 "cells": [
  {
   "cell_type": "markdown",
   "metadata": {},
   "source": [
    "# 6A Inner Products and Norms"
   ]
  },
  {
   "cell_type": "markdown",
   "metadata": {},
   "source": [
    "## Inner Products"
   ]
  },
  {
   "cell_type": "markdown",
   "metadata": {},
   "source": [
    "***Norm***:\n",
    "- The norm of a vector is it's length, denoted $\\|v\\|$\n",
    "\n",
    "In $\\reals^n$, the norm of $v$ is $\\|v\\| = \\sqrt{\\sum c_i^2}, \\ c_i\\in v$"
   ]
  },
  {
   "cell_type": "markdown",
   "metadata": {},
   "source": [
    "**Definition 6.1: Dot Product**\n",
    "- For $x,y \\in \\reals^n$ the dot product of $x$ and $y$ is: $$x\\cdot y = x_1y_1 + \\cdots + x_ny_n$$\n",
    "\n",
    "In $\\reals^n$, $x\\cdot x = \\|x\\|^2$"
   ]
  },
  {
   "cell_type": "markdown",
   "metadata": {},
   "source": [
    "Properties of the dot product:\n",
    "- $x\\cdot x \\ge 0, \\ \\forall x \\in \\reals^n$\n",
    "- $x\\cdot x = 0 \\iff x = 0$\n",
    "- For $y\\in\\reals^n$ the map from $\\reals^n$ to $\\reals$ that maps $x\\in\\reals^n$ to $x\\cdot y$ is *linear*\n",
    "- $x\\cdot y = y\\cdot x, \\ \\forall x,y\\in\\reals^n$"
   ]
  },
  {
   "cell_type": "markdown",
   "metadata": {},
   "source": [
    "An inner product is a generalization of the dot product."
   ]
  },
  {
   "cell_type": "markdown",
   "metadata": {},
   "source": [
    "**Norms for complex vectors**\\\n",
    "Recall that for $\\lambda = a + bi$:\n",
    "- Absolute value: $|\\lambda| = \\sqrt{a^2 + b^2}$\n",
    "- Complex conjugate: $\\bar{\\lambda} = a - bi$\n",
    "- $|\\lambda|^2 = \\lambda\\bar{\\lambda}$"
   ]
  },
  {
   "cell_type": "markdown",
   "metadata": {},
   "source": [
    "Form $z \\in \\mathbb{C}^n$, the norm of $z$ is: $$\\|z\\| = \\sqrt{|z_1|^2 + \\cdots + |z_n|^2}$$"
   ]
  },
  {
   "cell_type": "markdown",
   "metadata": {},
   "source": [
    "**Definition 6.2: Inner Product**\n",
    "And inner product on $V$ is a function that takes each ordered pair $(u, v)$ of elements of $V$ to a *number* $\\langle u, v \\rangle \\in \\mathbb{F}$ with the following properties:\n",
    "- *Positivity* $$\\langle v, v \\rangle \\ge 0, \\ \\forall v \\in V$$\n",
    "- *Definiteness* $$\\langle v, v \\rangle = 0 \\iff v = 0$$\n",
    "- *Additivity* (in first slot) $$\\langle u + v, w \\rangle = \\langle u, w \\rangle + \\langle v, w \\rangle, \\ \\forall u, v, w \\in V$$\n",
    "- *Homogeneity* (in first slot) $$\\langle \\lambda u, v \\rangle = \\lambda \\langle u, v \\rangle, \\forall \\lambda \\in \\mathbb{F}, \\ \\forall u, v \\in V$$\n",
    "- *Conjugate Symmetry* $$\\langle u, v \\rangle = \\overline{\\langle v, u \\rangle}, \\ \\forall u, v \\in V$$ \n",
    "\n",
    "Note that the condition of conjugate symmetry holds by default for real numbers since all real numbers equal their complex conjudates."
   ]
  },
  {
   "cell_type": "markdown",
   "metadata": {},
   "source": [
    "There are many different inner products. All of them are considered inner products because they satisfy these five properties. E.g.:\n",
    "- *Euclidean Inner Product*: $$\\langle w, z \\rangle = w_1\\bar{z_1} + \\cdots + w_n \\bar{z_n}$$\n",
    "    - For reals, this is simply the dot-product"
   ]
  },
  {
   "cell_type": "markdown",
   "metadata": {},
   "source": [
    "**Definition 6.4: Inner Product Space**\n",
    "- An inner product space is a vector space $V$ along with an inner product on $V$"
   ]
  },
  {
   "cell_type": "markdown",
   "metadata": {},
   "source": [
    "**Result 6.6: Basic Properties of an Inner Product**\n",
    "- For fixed $v\\in V$ the function that takes $u\\in V$ to $\\langle u, v\\rangle$ is a linear map from $V$ to $\\mathbb{F}$\n",
    "- $\\langle 0, v \\rangle = 0, \\ \\forall v\\in V$\n",
    "- $\\langle v, 0 \\rangle = 0, \\ \\forall v \\in V$\n",
    "- $\\langle u, v + w \\rangle = \\langle u, v \\rangle + \\langle u, w \\rangle, \\ \\forall u, v, w \\in V$\n",
    "- $\\langle u, \\lambda v \\rangle = \\bar{\\lambda}\\langle u, v \\rangle, \\ \\forall \\lambda \\in \\mathbb{F}, \\forall u, v \\in V$"
   ]
  },
  {
   "cell_type": "markdown",
   "metadata": {},
   "source": [
    "## Norms"
   ]
  },
  {
   "cell_type": "markdown",
   "metadata": {},
   "source": [
    "Each inner product determines a norm."
   ]
  },
  {
   "cell_type": "markdown",
   "metadata": {},
   "source": [
    "**Definition 6.7: Norm**\n",
    "- For $v\\in V$, the norm of $v$ is: $$\\|v\\| = \\sqrt{\\langle v, v\\rangle}$$"
   ]
  },
  {
   "cell_type": "markdown",
   "metadata": {},
   "source": [
    "**Result 6.9: Basic Properties of the Norm**\n",
    "- $\\|v\\| = 0 \\iff v = 0$\n",
    "- $\\|\\lambda v \\| = |\\lambda| \\|v\\|, \\ \\forall \\lambda \\in \\mathbb{F}$"
   ]
  },
  {
   "cell_type": "markdown",
   "metadata": {},
   "source": [
    "**Definition 6.10: Orthogonal**\n",
    "- Two vectors $u, v \\in V$ are orthogonal if $\\langle u, v\\rangle = 0$"
   ]
  },
  {
   "cell_type": "markdown",
   "metadata": {},
   "source": [
    "**Result 6.11: Orthogonality and $0$**\n",
    "- $0$ is orthogonal to every vector in $V$\n",
    "- $0$ is the only vector in $V$ that is *orthogonal to itself*"
   ]
  },
  {
   "cell_type": "markdown",
   "metadata": {},
   "source": [
    "**Result 6.12: Pythagorean Theorem**\n",
    "- Let $u, v \\in V$, if $u$ and $v$ are orthogonal, then: $$\\|u + v \\|^2 = \\|u\\|^2 + \\|v\\|^2$$\n",
    "\n",
    "*Proof*:\\\n",
    "Let $\\langle u, v\\rangle = 0$, then: $$\\|u + v \\|^2 = \\langle u + v, u + v\\rangle = \\langle u, u\\rangle + \\langle u, v \\rangle + \\langle v, u \\rangle + \\langle v, v\\rangle = \\|u\\|^2 + \\|v\\|^2$$"
   ]
  },
  {
   "cell_type": "markdown",
   "metadata": {},
   "source": [
    "**Result 6.13: Orthogonal Decomposition**\n",
    "- Let $u, v \\in V, \\ v \\ne 0$. If a constant $c = \\frac{\\langle u, v\\rangle}{\\|v\\|^2}$ and $w = u - \\frac{\\langle u, v\\rangle}{\\|v\\|^2} v $, then: $$u = cv + w \\ \\text{and} \\ \\langle w, v \\rangle = 0$$\n",
    "\n",
    "This result basicaly gives us a means of writing a vector $u$ as the sum of a scaled vector $v$ and some vector $w$ orthogonal to $v$. It is used to prove the Cauchy-Schwarz inequality below..."
   ]
  },
  {
   "cell_type": "markdown",
   "metadata": {},
   "source": [
    "**Result 6.14: Cauchy-Schwarz Inequality *AAAWWAWAWAWAWA*** \n",
    "- Let $u, v \\in V$, then: $$|\\langle u, v \\rangle | \\le \\|u\\|\\|v\\|$$ Additionally: $$|\\langle u, v \\rangle | = \\|u\\|\\|v\\| \\iff u = \\lambda v, \\ \\lambda \\in\\mathbb{F}$$\n",
    "\n",
    "*Proof*:\\\n",
    "Consider the orthogonal decomposition: $$u = \\frac{\\langle u, v \\rangle}{\\|v\\|^2} v + w, \\ w \\perp v$$\n",
    "By the Pythagorean Theorem (6.12): \n",
    "$$\\|u\\|^2 = \\lVert \\frac{\\langle u, v \\rangle}{\\|v\\|^2} v \\rVert^2 + \\|w\\|^2$$\n",
    "Let $c = \\frac{\\langle u, v \\rangle}{\\|v\\|^2}$ (since we know this term is a constant), then:\n",
    "$$\\|cv\\|^2 = \\langle cv, cv \\rangle = c\\langle v, cv \\rangle = c\\bar{c}\\langle v, v, \\rangle = |c|^2 \\|v\\|^2$$\n",
    "Thus,\n",
    "$$\\|u\\|^2 = \\frac{|\\langle u, v \\rangle|^2}{\\|v\\|^2} + \\|w\\|^2 \\ge \\frac{|\\langle u, v \\rangle |^2}{\\|v\\|^2}$$\n"
   ]
  },
  {
   "cell_type": "markdown",
   "metadata": {},
   "source": [
    "**Result 6.17: Triangle Inequality**\n",
    "- Let $u, v \\in V$, then: $$\\|u + v \\| \\le \\|u\\| + \\|v\\|$$"
   ]
  },
  {
   "cell_type": "markdown",
   "metadata": {},
   "source": [
    "**Result 6.21: Parallelogram Equality**\n",
    "- Let $u, v \\in V$, then: $$\\|u + v \\|^2 + \\|u - v \\|^2 = 2(\\|u\\|^2 + \\|v\\|^2)$$"
   ]
  },
  {
   "cell_type": "markdown",
   "metadata": {},
   "source": [
    "# 6B Orthonormal Bases"
   ]
  },
  {
   "cell_type": "markdown",
   "metadata": {},
   "source": [
    "## Orthonormal Lists and the Gram-Schmidt Procedure"
   ]
  },
  {
   "cell_type": "markdown",
   "metadata": {},
   "source": [
    "**Definition 6.22: Orthonormal**\n",
    "- A list of vectors is orthonormal if each vector in the list has a norm of $1$ *and* is orthogonal to all other vectors in the list\n",
    "- E.g. the standard basis is an orthonormal list"
   ]
  },
  {
   "cell_type": "markdown",
   "metadata": {},
   "source": [
    "**Result 6.24: Norm of an Orthonormal Linear Combination**\n",
    "- Let $e_1,...,e_m$ be an orthonormal list of vectors in $V$, then: $$\\|a_1e_1 + \\cdots + a_me_m\\|^2 = |a_1|^2 + \\cdots + |a_m|^2, \\ \\forall a_1,...,a_m\\in\\mathbb{F}$$\n",
    "\n",
    "*Proof*:\\\n",
    "Because each $e$ has norm $1$, this follows from repeated applications of the pythagorean theorem."
   ]
  },
  {
   "cell_type": "markdown",
   "metadata": {},
   "source": [
    "**Result 6.25: Orthonormal Lists are Linearly Independent**\n",
    "- Every orthonormal list of vectors is a linearly independent list\n",
    "\n",
    "*Proof*:\\\n",
    "This result follows directly from result 6.24. If we evaluate $a_1e_1 + \\cdots + a_me_m = 0$, then we observe that $|a_1|^2 + \\cdots + |a_m|^2 = 0$, thus all $a_k$ coefficients are 0 and the vectors are independent."
   ]
  },
  {
   "cell_type": "markdown",
   "metadata": {},
   "source": [
    "**Result 6.26: Bessel's Inequality**\n",
    "- Let $e_1,...,e_m$ be an orthonormal list in $V$, then: $$|\\langle v, e_1\\rangle|^2 + \\cdots + |\\langle v, e_m \\rangle |^2 \\le \\|v\\|^2, \\ \\forall v \\in V$$\n",
    "\n",
    "*Proof*:\\\n",
    "This proof is rather interesting. We first decompose $v$ as follows:\n",
    "$$v = \\langle v, e_1\\rangle e_1 + \\cdots + \\langle v, e_m \\rangle e_m + v - \\langle v, e_1\\rangle e_1 - \\cdots - \\langle v, e_m \\rangle e_m$$\n",
    "We denote the summed term before the $v$ by the vector $u$ and the term including the $v$ by the vector $w$. Then for $k \\in \\{1, ..., m\\}$, the inner product of $w$ and $e_k$ becomes:\n",
    "$$\\langle w, e_k\\rangle = \\langle v, e_k \\rangle - \\langle v, e_k \\rangle \\langle e_k, e_k \\rangle = 0$$\n",
    "This simplification comes from the orthogonality of the $e$ vectors, while equality with zero is due to the normality of $e_k$. \\\n",
    "Now consider $\\langle w, u \\rangle$, \n",
    "$$\\langle w, u \\rangle = \\langle w, \\langle v, e_1\\rangle e_1 + \\cdots \\langle v, e_m \\rangle e_m \\\\ \\ \\\\ = \\langle w, \\langle v, e_1 \\rangle e_1 \\rangle + \\cdots + \\langle w, \\langle v, e_m \\rangle e_m \\rangle \\\\ \\ \\\\ = \\langle v, e_1\\rangle \\langle w, e_1 \\rangle + \\cdots + \\langle v, e_m \\rangle \\langle w, e_m \\rangle$$\n",
    "This last step is possible because inner products of vectors like $\\langle v, e_1 \\rangle$ are scalars, thus we may pull them out of the inner product due to the property of homogeneity. Now because $\\langle w, e_k\\rangle = 0$, this implies that $\\langle w, u \\rangle = 0$ and thus $w$ and $u$ are orthogonal.\n",
    "\n",
    "Because $w$ and $u$ are orthogonal, we may apply the Pythagorean theorem:\n",
    "$$\\|v\\|^2 = \\|u\\|^2 + \\|w\\|^2 \\ge \\|u\\|^2 = |\\langle v, e_1 \\rangle |^2 + \\cdots + |\\langle v, e_m \\rangle |^2$$"
   ]
  },
  {
   "cell_type": "markdown",
   "metadata": {},
   "source": [
    "**Definition 6.27: Orthonormal Basis**\n",
    "- An orthonormal basis of $V$ is an orthonormal list of vectors in $V$ that is also a basis of $V$"
   ]
  },
  {
   "cell_type": "markdown",
   "metadata": {},
   "source": [
    "**Result 6.28: Orthonormal Lists of the Right Length are Orthonormal Bases**\n",
    "- Ever orthonormal list of vectors in $V$ of length $\\dim V$ is an orthonormal basis of $V$\n",
    "\n",
    "This follows directly from the linear independence of orthonormal lists and the definition of a basis."
   ]
  },
  {
   "cell_type": "markdown",
   "metadata": {},
   "source": [
    "**Result 6.30: Writing a Vector as a Linear Combination of an Orthonormal Basis**\\\n",
    "Let $e_1,...,e_n$ be an orthonormal basis of $V$ and $u,v \\in V$, then:\n",
    "- $v = \\langle v, e_1 \\rangle e_1 + \\cdots + \\langle v, e_n \\rangle e_n$\n",
    "- $\\|v \\|^2 = |\\langle v, e_1 \\rangle|^2 + \\cdots + |\\langle v, e_n \\rangle|^2$\n",
    "- $\\langle u, v\\rangle = \\langle u, e_1 \\rangle\\overline{\\langle v, e_1 \\rangle} + \\cdots + \\langle u, e_n \\rangle \\overline{\\langle v, e_n\\rangle}$\n",
    "\n",
    "The first of these results demonstrate that we may easily express the coefficients for the linear combination of orthonormal basis vectors which gives any vector $v$ by the inner products of $v$ and those orthonormal basis vectors. This is an immensely convenient result. The second follows from the first and the equation given by resul 6.24. The third then follows by evaluating the inner product of $u$ and $v$ and applying the homogeneity and conjugate symmetry properties of inner products."
   ]
  },
  {
   "cell_type": "markdown",
   "metadata": {},
   "source": [
    "**Result 6.32: Gram-Schmidt Procedure**\n",
    "- Let $v_1,...,v_m$ be a linearly independent list of vectors in $V$ and $f_1 = v_1$. Then, for $k = 2, ..., m$, we define $f_k$ inductively by: $$f_k = v_k - \\frac{\\langle v_k, f_1 \\rangle}{\\|f_1\\|^2}f_1 - \\cdots - \\frac{\\langle v_k, f_{k-1}\\rangle}{\\|f_{k-1}\\|^2}f_{k-1}$$\n",
    "For $k = 1,...,m$, let $e_k = f_k / \\|f_k\\|$. Then $e_1,...,e_m$ is an orthonormal list of vectors in $V$ such that: $$\\text{span}(v_1,...,v_k) = \\text{span}(e_1,...,e_k)$$"
   ]
  },
  {
   "cell_type": "markdown",
   "metadata": {},
   "source": [
    "The definition of $f_k$ ensures orthogonality (recall the orthogonal decomposition from result 6.13) and the definition of $e_k$ ensures normality (the quotient of any vector with its norm gives a normal vector by the homogeneity property of inner products)."
   ]
  },
  {
   "cell_type": "markdown",
   "metadata": {},
   "source": [
    "**Result 6.35: Existence of Orthonormal Basis**\n",
    "- Every finite-dimensional inner product space has an orthonormal basis\n",
    "\n",
    "We may apply the Gram-Schmidt procedure to any basis of a finite-dimensional vector space to yield an orthonormal basis."
   ]
  },
  {
   "cell_type": "markdown",
   "metadata": {},
   "source": [
    "**Result 6.36: Every Orthonormal List Extends to an Orthonormal Basis**\n",
    "- Every orthonormal list of vectors in a finite-dimensional vector space may be extended to an orthonormal basis of the space\n",
    "\n",
    "This result follows directly from the independence of orthonormal vectors and result 6.35."
   ]
  },
  {
   "cell_type": "markdown",
   "metadata": {},
   "source": [
    "**Result 6.37: Upper-Triangle Matrix With Respect to some Orthonormal Basis**\n",
    "- For $T\\in\\mathcal{L}(V)$, $T$ has an upper-triangular matrix w.r.t. an orthonormal basis of $V$ if and only if the minimal polynomial of $T$ equals $(z-\\lambda_1)\\cdots(z-\\lambda_m)$ for some $\\lambda_1,...,\\lambda_m \\in \\mathbb{F}$\n",
    "\n",
    "This is the same as the necessary and sufficient condition for upper-triangularization, which makes sense since any basis may be converted to an orthonormal basis.\n"
   ]
  },
  {
   "cell_type": "markdown",
   "metadata": {},
   "source": [
    "**Result 6.38: Schur's Theorem**\n",
    "- Every operator on a finite-dimensional complex inner product space has an upper-triangular matrix w.r.t. some orthonormal basis\n",
    "\n",
    "This follows directly from 6.37 and the second version of the fundamental theorem of algebra (ch 4 - every polynomial on the complex field may be factorized with first-degree polynomials)"
   ]
  },
  {
   "cell_type": "markdown",
   "metadata": {},
   "source": [
    "## Linear Functionals on Inner Product Spaces"
   ]
  },
  {
   "cell_type": "markdown",
   "metadata": {},
   "source": [
    "Inner products *are* linear functionals because they map vectors to scalars. It turns out *every* result of *every* linear functional may be reached by taking the inner product of the vector on which the functional is acting and some other vector in the domain. This is explicated by the result below."
   ]
  },
  {
   "cell_type": "markdown",
   "metadata": {},
   "source": [
    "**Result 6.42: Riesz Representation Theorem**\n",
    "- Let $V$ be a finite-dimensional vector space and $\\phi$ be a linear functional on $V$, then: $$\\exists v\\in V: \\ \\phi(u) = \\langle u, v\\rangle, \\ \\forall u \\in V$$\n",
    "And this $v$ is *unique*\n",
    "\n",
    "*Proof*:\\\n",
    "Lrt $v,u \\in V$ and $e_1,...,e_n$ be an orthonormal basis of $V$, then:\n",
    "$$\\phi(u) = \\phi(\\langle u, e_1\\rangle e_1 + \\cdots + \\langle u, e_n \\rangle e_n) \\\\ \\ \\\\\n",
    "\\ \\ \\ \\ \\ \\ \\ \\ \\ \\ \\ \\ \\ \\ \\ = \\langle u, e_1\\rangle \\phi(e_1) + \\cdots + \\langle u, e_n \\rangle \\phi(e_n) \\\\ \\ \\\\\n",
    "\\ \\ \\ \\ \\ \\ \\ \\ = \\langle u, \\overline{\\phi(e_1)}e_1 + \\cdots + \\overline{\\phi(e_n)}e_n\\rangle$$\n",
    "Thus, we may solve by setting:\n",
    "$$\\begin{align*}\n",
    "& \\text{(Equation 6.43)} \\ \\ \\ \\ v = \\overline{\\phi(e_1)}e_1 + \\cdots + \\overline{\\phi(e_n)}e_n\n",
    "\\end{align*}$$ "
   ]
  },
  {
   "cell_type": "markdown",
   "metadata": {},
   "source": [
    "# 6C Orthogonal Complements and Minimization Problems"
   ]
  },
  {
   "cell_type": "markdown",
   "metadata": {},
   "source": [
    "## Orthogonal Complements"
   ]
  },
  {
   "cell_type": "markdown",
   "metadata": {},
   "source": [
    "**Definition 6.46: Orthogonal Complement**\n",
    "- If $U$ is a *subset* of $V$, then the orthogonal complement of $U$, denoted $U^\\perp$, is the set of all vectors in $V$ that are orthogonal to every vector in $U$:\n",
    "$$U^\\perp = \\{v\\in V : \\langle u, v \\rangle = 0, \\ \\forall u \\in U\\}$$\n",
    "Note that this definition is explicitly stated for a set. Presumably, we may extend it to spaces as well, but defining it for sets specifies that we don't need any intersections at $\\{0\\}$. E.g., if $U$ is defined to be the point $(2, 3, 5)$, then the orthogonal complement of $U$ is the plane: $$U^\\perp = \\{(x, y, z) \\in \\reals^3 : 2x + 3y + 5z = 0\\}$$"
   ]
  },
  {
   "cell_type": "markdown",
   "metadata": {},
   "source": [
    "**Result 6.48: Properties of Orthogonal Complement**\n",
    "- If $U$ is a subset of $V$, the $U^\\perp$ is a subspace of $V$\n",
    "- $\\{0\\}^\\perp = V$\n",
    "- $V^\\perp = \\{0\\}$\n",
    "- If $U$ is a subset of $V$, then $U\\cap U^\\perp \\subseteq \\{0\\}$\n",
    "- If $G$ and $H$ are subsets of $V$ and $G\\subseteq H$, then $H^\\perp \\subseteq G^\\perp$"
   ]
  },
  {
   "cell_type": "markdown",
   "metadata": {},
   "source": [
    "Note from the first condition that the orthogonal complement $U^\\perp$ will contain $\\{0\\}$ is $U$ is a subset. The proof for this is straightforward:\n",
    "*Proof*: (of first property)\\\n",
    "Let $U$ be a subset of $V$:\n",
    "$$\\langle u, 0 \\rangle = 0, \\ \\forall u \\in U \\ \\ \\therefore 0 \\in U^\\perp$$\n",
    "$$\\langle u, v + w \\rangle = \\langle u, v \\rangle + \\langle u, w \\rangle = 0 + 0 = 0, \\ \\forall v, w \\in U^\\perp$$\n",
    "$$\\langle u, \\lambda v \\rangle = \\bar{\\lambda} \\langle u, v \\rangle = \\bar\\lambda \\cdot 0 = 0, \\ \\forall \\lambda \\in \\mathbb F, \\forall v \\in U^\\perp$$\n",
    "These last two expressions prove the $U^\\perp$ is closed under addition and scalar multipllication."
   ]
  },
  {
   "cell_type": "markdown",
   "metadata": {},
   "source": [
    "**Result 6.49: Direct Sum of Subspace and Orthogonal Complement**\n",
    "- Let $U$ be a finite-dimensional subspace of $V$, then: $$V = U \\oplus U^\\perp$$\n",
    "\n",
    "This is a very natural result."
   ]
  },
  {
   "cell_type": "markdown",
   "metadata": {},
   "source": [
    "**Result 6.51: Dimension of Orthogonal Complement**\n",
    "- Let $U$ be a subspace of $V$, then: $$\\dim U^\\perp = \\dim V - \\dim U$$"
   ]
  },
  {
   "cell_type": "markdown",
   "metadata": {},
   "source": [
    "**Result 6.52: Orthogonal Complement of the Orthogonal Complement**\n",
    "- For subspace $U$ of $V$: $$U = (U^\\perp)^\\perp$$"
   ]
  },
  {
   "cell_type": "markdown",
   "metadata": {},
   "source": [
    "**Result 6.54: Subspace is Full-Space if Orthogonal Complement is $0$**\n",
    "- Let $U$ be a subspace of $V$, then:\n",
    "$$U^\\perp = \\{0\\} \\iff U = V$$"
   ]
  },
  {
   "cell_type": "markdown",
   "metadata": {},
   "source": [
    "**Definition 6.55: Orthogonal Projection**\n",
    "- For a finite-dimensional subspace $U\\subseteq V$, the orthogonal projection of $V$ *onto* $U$ is the operator denoted $P_U\\in\\mathcal{L}(V)$ defined as: $$P_Uv = v - w, \\ v\\in V, \\ w\\in U^\\perp$$\n",
    "And naturally, $$v = P_U + w$$"
   ]
  },
  {
   "cell_type": "markdown",
   "metadata": {},
   "source": [
    "By the direct sum decomposition $V=U\\oplus U^\\perp$, we may uniquely express each $v\\in V$ in the form of $v = u + w$ for some $u\\in U$ and some $w\\in U^\\perp$.\\\n",
    "Thus, $v = P_Uv + w$ for $P_Uv = u$."
   ]
  },
  {
   "cell_type": "markdown",
   "metadata": {},
   "source": [
    "*Example: Orthogonal Projection onto One-Dimensional Subspace*\\\n",
    "Let $u\\ne0 \\in V$ and $U$ be a 1D subspace of $V$ defined by $U=\\text{span}(u)$, then for $v\\in V$:\n",
    "$$v = \\frac{\\langle v, u \\rangle}{\\|u\\|^2}u + \\bigg(v - \\frac{\\langle v, u \\rangle}{\\|u\\|^2}u \\bigg)$$"
   ]
  },
  {
   "cell_type": "markdown",
   "metadata": {},
   "source": [
    "The first term is in $\\text{span}(u)$ while the second is orthogonal to $u$ (by the orthogonal decomposition) and thus is in $U^\\perp$. Thus, the orthogonal projection of $v$ onto $U$ is:\n",
    "$$P_U v = \\frac{\\langle v, u \\rangle}{\\|u\\|^2}u, \\ \\forall v\\in V$$"
   ]
  },
  {
   "cell_type": "markdown",
   "metadata": {},
   "source": [
    "**Result 6.57: Properties of Orthogonal Projection**\n",
    "- $P_U\\in\\mathcal L (V)$\n",
    "- $P_U u = u, \\ \\forall u \\in U$\n",
    "- $P_u w = 0, \\ \\forall w \\in U^\\perp$\n",
    "- $\\text{range} P_U = U$\n",
    "- $\\text{null} P_U = U^\\perp$\n",
    "- $v - P_Uv\\in U^\\perp, \\ \\forall v \\in V$\n",
    "- $P_U^2=P_U$\n",
    "- $\\|P_U v \\| \\le \\|v\\|, \\ \\forall v\\in V$\n",
    "- $P_Uv = \\langle v, e_1\\rangle e_1 + \\cdots + \\langle v, e_m\\rangle e_m$, for orthonormal basis $e_1,...,e_m$"
   ]
  },
  {
   "cell_type": "markdown",
   "metadata": {},
   "source": [
    "The third to last result follows directly from the second result, which is intuitive. This property is ***Idempotency*** - orthogonal projections are idempotent operators."
   ]
  },
  {
   "cell_type": "markdown",
   "metadata": {},
   "source": [
    "## Minimization Problems"
   ]
  },
  {
   "cell_type": "markdown",
   "metadata": {},
   "source": []
  }
 ],
 "metadata": {
  "language_info": {
   "name": "python"
  }
 },
 "nbformat": 4,
 "nbformat_minor": 2
}
