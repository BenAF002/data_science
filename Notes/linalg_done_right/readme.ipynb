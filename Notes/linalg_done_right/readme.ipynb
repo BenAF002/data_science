{
 "cells": [
  {
   "cell_type": "markdown",
   "metadata": {},
   "source": [
    "The more I study the foundational mathematics underlying machine-learning and deep-learning, the more I've realized how weak my understanding of linear algebra is. This series of notes is a divergence from my ordinary studies where I hope to cultivate a robust comprehension of linear algebra that may facilitate my studies elsewhere.\n",
    "\n",
    "These notes will follow the text *Linear Algebra Done Right* (4e, 2025) by Sheldon Axler.\\\n",
    "https://linear.axler.net/"
   ]
  }
 ],
 "metadata": {
  "language_info": {
   "name": "python"
  }
 },
 "nbformat": 4,
 "nbformat_minor": 2
}
