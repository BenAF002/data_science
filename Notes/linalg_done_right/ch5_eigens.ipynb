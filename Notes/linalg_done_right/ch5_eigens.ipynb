{
 "cells": [
  {
   "cell_type": "markdown",
   "metadata": {},
   "source": [
    "## 5A Invariant Subspaces"
   ]
  },
  {
   "cell_type": "markdown",
   "metadata": {},
   "source": [
    "### Eigenvalues"
   ]
  },
  {
   "cell_type": "markdown",
   "metadata": {},
   "source": [
    "**Definition 5.1: Operator**\n",
    "- A linear map from a vector space onto itself is called an *operator*"
   ]
  },
  {
   "cell_type": "markdown",
   "metadata": {},
   "source": [
    "**Definition 5.2: Invariant Subspace**\n",
    "- Let $T\\in\\mathcal{L}(V)$, a subspace $U$ of $V$ is called *invariant* under $T$ if: $$Tu\\in U, \\ \\forall u\\in U$$"
   ]
  },
  {
   "cell_type": "markdown",
   "metadata": {},
   "source": [
    "Consider this operator on $V$. If $T|_U$, which is the mapping of $T$ restricted to the domain of $U$, is an *operator on* $U$, then $U$ is an invariant subspace."
   ]
  },
  {
   "cell_type": "markdown",
   "metadata": {},
   "source": [
    "Ex. $T\\in\\mathcal{L}(\\mathcal{P}(\\reals))\\coloneqq Tp=p'$\n",
    "- Consider $\\mathcal{P}_4(\\reals)$. This is a subspace of $\\mathcal{P}(\\reals)$ that is invariant under $T$ becuase any $p\\in\\mathcal{P}_4(\\reals)$ has degree of at most 4 and its first derivative $p'$ also has degree of at most 4. Thus $p'\\in\\mathcal{P}_4(\\reals)$"
   ]
  },
  {
   "cell_type": "markdown",
   "metadata": {},
   "source": [
    "Ex. Generically invariant subspaces for any operator $T\\in\\mathcal{L}(V)$:\n",
    "- $\\{0\\}$ is an invariant subspace under $T$: $$Tu=0\\in\\{0\\}, \\ \\forall u\\in\\{0\\}$$\n",
    "- $v$ is an invariant subspace under $T$: $$Tu\\in V, \\ \\forall u \\in V$$\n",
    "- $\\text{null } T$ is an invariant subspace under $T$: $$Tu=0\\in\\text{null } T, \\ \\forall u\\in \\text{null } T$$\n",
    "- $\\text{range } T$ is an invariant subspace under $T$: $$Tu\\in\\text{range T}, \\ \\forall u \\in\\text{range } T$$\n",
    "\n",
    "**NOTE:** From these generic examples, it is clear that any operator on $V$ must have at least the invariant subspaces of $\\{0\\}$ and $V$. However, it turns out (as we will see later) that there must exist more invariant subspaces as well.\n",
    "\n",
    "**NOTE:** When $T$ is an automorphism (i.e. it is bijective and invertible), then $\\text{null }T = \\{0\\}$ and $\\text{range } T = V$"
   ]
  },
  {
   "cell_type": "markdown",
   "metadata": {},
   "source": [
    "#### Eigenvalues"
   ]
  },
  {
   "cell_type": "markdown",
   "metadata": {},
   "source": [
    "Consider a one-dimensional subspace. Take any $v\\in V$ with $v\\ne 0$ and let $U$ be the set of *all scalar multiples* of $v$: $$U=\\{\\lambda v: \\lambda\\in\\mathbb{F}\\} = \\text{span}(v)$$\n",
    "$U$ is a one-dimensional subspace of $V$. Note that $U$ is uniquely defined w.r.t. the chosen $v\\in V$. Any one-dimensional subspace of $V$ is similarly defined based on the choice of $v$.\\\n",
    "If $U$ is invariant under an operator $T\\in\\mathcal{L}(V)$, then $Tv\\in U$, and thus there exists a scalar $\\lambda\\in\\mathbb{F}$ such that: $$Tv=\\lambda v$$\n",
    "The converse is also true:\\\n",
    "If $Tv=\\lambda v$ for some $\\lambda\\in\\mathbb{F}$, then $\\text{span}(v)$ is a one-dimensional subspace of $V$ that is invariant under $T$."
   ]
  },
  {
   "cell_type": "markdown",
   "metadata": {},
   "source": [
    "**Definition 5.5: Eigenvalue**\n",
    "- For $T\\in\\mathcal{L}(V)$, a number $\\lambda \\in \\mathbb{F}$ is called an *eigenvalue* of $T$ if there exists $v\\in V$ such that $v\\ne 0$ and $Tv = \\lambda v$\n",
    "- I.e.: $$\\exists v\\in V : Tv = \\lambda v, v\\ne 0 \\implies \\lambda \\text{ is eigenvalue}$$\n",
    "\n",
    "So, $V$ has a one-dimensional subspace that is invariant under $T$ if and only if $T$ has an eigenvalue"
   ]
  },
  {
   "cell_type": "markdown",
   "metadata": {},
   "source": [
    "Ex. $T\\in\\mathcal{L}(\\mathbb{F}^3)$:\n",
    "$$ T(x, y, z) = \\big(7x + 3z, \\ 3x + 6y + 9z, \\ -6y \\big), \\ \\forall (x,y,z)\\in\\mathbb{F}^3$$\n",
    "Then $T(3, 1, -1) = (18, 6, -6) = 6(3, 1, -1)$, thus $6$ is an *eigenvalue* of $T$"
   ]
  },
  {
   "cell_type": "markdown",
   "metadata": {},
   "source": [
    "**Equivalent Conditions for an Eigenvalue**\n",
    "- For finite-dimensional vector space $V$, linear map $T\\in\\mathcal{L}(V)$, and $\\lambda\\in\\mathbb{F}$:\n",
    "    - $\\lambda \\text{ is an eigenvalue of } T$\n",
    "    - $T - \\lambda I \\text{ is not injective}$\n",
    "    - $T - \\lambda I \\text{ is not surjective}$\n",
    "    - $T - \\lambda I \\text{ is not invertible}$\n",
    "\n",
    "From $Tv = \\lambda v$ it follows that $(T - \\lambda I)v = 0, \\ \\forall v \\in V$"
   ]
  },
  {
   "cell_type": "markdown",
   "metadata": {},
   "source": [
    "**Definition 5.8: Eigenvector**\n",
    "- For $T\\in\\mathcal{L}(V)$ and eigenvalue $\\lambda\\in\\mathbb{F}$ of $T$, the vector $V\\in V$ is called an *eigenvector* of $T$ corresponding to $\\lambda$ if $v\\ne 0 $ and $Tv = \\lambda v$\n",
    "\n",
    "From the definition of an eigenvalue (5.5), the eigenvalue is specified for a specific vector $v\\in V$. This vector is the eigenvector.\\\n",
    "A vector $v\\in V$ is an eigenvector of an operator $T$ on $V$ if and only if $Tv$ is a scalar multiple of $v$. Correspondingly, a vector $v\\in V$ is an eigenvector of $T$ corresponding to the eigenvalue $\\lambda$ if and only if $v\\in \\text{null}(T - \\lambda I)$"
   ]
  },
  {
   "cell_type": "markdown",
   "metadata": {},
   "source": [
    "**Linear Independence of Eigenvectors**\n",
    "- For an operator $T\\in\\mathcal{L}(V)$, *every* list of eigenvectors of $T$ corresponding to distinct eigenvalues of $T$ is linearly independent\n",
    "\n",
    "*Proof:*\n",
    "\n",
    "Proof by contradiction. Were this theorem false, then there would exist a linearly dependent list of eigenvectors **of minimal length** $m$, $v_1,...,v_m$ corresponding to *distinct* eigenvalues $\\lambda_1,...,\\lambda_m$ of $T$. Note that $m\\ge 2$ because eigenvectors (and values) are non-zero by definition. Then by the definition of linear dependence, there must exist a set of coefficients $a_1,...,a_m\\in\\mathbb{F}$, not all zero, such that: $$a_1v_1 + \\cdots + a_mv_m = 0$$\n",
    "Apply $T-\\lambda_m I$ to both sides:\n",
    "$$a_1(\\lambda_1 - \\lambda_m) v_1 + \\cdots + a_{m-1} (\\lambda_{m-1} - \\lambda_m) v_{m-1} = 0$$\n",
    "Because the eigenvalues are distinct, none of the coefficients in this equation are 0. Thus the list of eigenvectors $v_1,...,v_{m-1}$ is a linearly dependent list of length $m-1$. This violiates the minimallity of $m$, and thus completes the proof.\n",
    "\n",
    "Another, I think cleaner proof:\\\n",
    "Apply the operator $T$: $$a_1T(v_1) + \\cdots + a_mT(v_m) = 0 \\\\ \\implies a_1\\lambda_1 v_1 + \\cdots + a_m \\lambda_m v_m = 0$$\n",
    "Because all of the eigenvalues are necessarily distinct, there is no combination of coefficients $a\\lambda$ for which this equality holds other than the trivial solution. Thus the eigenvectors must be independent."
   ]
  },
  {
   "cell_type": "markdown",
   "metadata": {},
   "source": [
    "**Operators Cannot Have More Eigenvectors than the Dimension of Vector Space**\n",
    "- For finite-dimensional $V$, each operator on $V$ has *at most* $\\dim V$ distinct eigenvalues\n",
    "\n",
    "This follows clearly from the theorem that eigenvectors are independent. The maximum length of any list of independent vectors in a finite-dimensional vector space $V$ *is* $\\dim V$, by the definition of dimension."
   ]
  },
  {
   "cell_type": "markdown",
   "metadata": {},
   "source": [
    "### Polynomials Applied to Operators"
   ]
  },
  {
   "cell_type": "markdown",
   "metadata": {},
   "source": [
    "Operators may be raised to powers. This isn't that remarkable when you think about it. A linear map between subspaces (i.e. between spaces of different dimensions, a non-operator) cannot be composed with itself because the domain will be incompatible after the first mapping. But an operator (i.e. a linear map on the same vector space) may be composed with itself infinitely.\n",
    "\n",
    "**Notation $T^m$**\\\n",
    "For operator $T\\in\\mathcal{L}(V)$:\n",
    "- $T^m\\in\\mathcal{L}(V)$ is defined by $T^m = T\\cdots T$, $m$ times\n",
    "- $T^0$ is defined to be the identity operator $I$ on $V$\n",
    "- If $T$ is invertible, then $T^{-m}$ is defined by: $$T^{-m} = (T^{-1})^m$$"
   ]
  },
  {
   "cell_type": "markdown",
   "metadata": {},
   "source": [
    "**Notation: $p(T)$**\\\n",
    "For operator $T\\in\\mathcal{L}(V)$ and polynomial $p\\in\\mathcal{P}(\\mathbb{F})$, $p(T)$ is the operator on $V$ defined by: $$p(T) = a_0 I + a_1T + a_2T^2 + \\cdots + a_mT^m$$"
   ]
  },
  {
   "cell_type": "markdown",
   "metadata": {},
   "source": [
    "**Definition 5.16: Product of Polynomials**\n",
    "- If $p,q \\in\\mathcal{P}(\\mathbb{F})$, then $pq\\in\\mathcal{P}(\\mathbb{F})$ is the polynomial defined by: $$(pq)(z) = p(z)q(z), \\ \\forall z \\in\\mathbb{F}$$"
   ]
  },
  {
   "cell_type": "markdown",
   "metadata": {},
   "source": [
    "**Multiplicative Properties:**\n",
    "$$\\begin{align*}\n",
    "& a) \\ \\ (pq)(T) = p(T)q(T) \\\\\n",
    "& b) \\ \\ p(T)q(T) = q(T)p(T)\n",
    "\\end{align*}$$\n",
    "So, the order doesn't matter. This corresponds exactly with the product of any other polynomials. It is possible because an operator may be composed with itself (so, operators are commutative)."
   ]
  },
  {
   "cell_type": "markdown",
   "metadata": {},
   "source": [
    "**Null Space and Range of $p(T)$ are invariant under $T$**\n",
    "- For an operatore $T\\in\\mathcal{L}(V)$ and a polynomial $p\\in\\mathcal{P}(\\mathbb{F})$, $\\text{null } p(T)$ and $\\text{range } p(T)$ are both *invariant* under $T$\n",
    "\n",
    "We saw earlier that the null space and range of an operator are invariant subspaces under the operator. This just extends that logic to the polynomial of an operator, which is intuitive because the polynomial of an operator *is still an operator*."
   ]
  },
  {
   "cell_type": "markdown",
   "metadata": {},
   "source": [
    "### Exercises 5A"
   ]
  },
  {
   "cell_type": "markdown",
   "metadata": {},
   "source": []
  },
  {
   "cell_type": "code",
   "execution_count": 13,
   "metadata": {},
   "outputs": [
    {
     "name": "stdout",
     "output_type": "stream",
     "text": [
      "[[1 3]\n",
      " [2 1]\n",
      " [3 3]\n",
      " [4 4]\n",
      " [5 5]]\n",
      "[[ -9  -3  -9 -12 -15]\n",
      " [  1   2   3   4   5]]\n"
     ]
    }
   ],
   "source": [
    "import numpy as np\n",
    "x = np.array([1, 2, 3, 4, 5])\n",
    "y = np.array([3, 1, 3, 4, 5])\n",
    "\n",
    "v = np.column_stack((x, y))\n",
    "\n",
    "T = np.array([[0, -3], [1, 0]])\n",
    "print(v)\n",
    "print(T @ v.T)"
   ]
  },
  {
   "cell_type": "markdown",
   "metadata": {},
   "source": [
    "## 5B The Minimal Polynomial"
   ]
  },
  {
   "cell_type": "markdown",
   "metadata": {},
   "source": [
    "### Existence of Eigenvalues on Complex Vector Spaces"
   ]
  },
  {
   "cell_type": "markdown",
   "metadata": {},
   "source": [
    "***Major Theorem:***\n",
    "**Existence of Eigenvalues**\n",
    "- Every operator on a finite-dimensional nonzero complex vector space has an eigenvalue"
   ]
  },
  {
   "cell_type": "markdown",
   "metadata": {},
   "source": [
    "*Proof:*\\\n",
    "Let $V$ be a finite-dimensional complex vector space  with dimension $n>0$ and $T\\in\\mathcal{L}(V)$ be an operator on $V$. Then for some $v\\ne 0 \\in V$ we may specify polynomials of $T$: $$v, Tv, T^2v, ..., T^n v$$\n",
    "Note that this is a list of terms of a polynomial $p_n(T)$. Such a list of polynomial *cannot be* linearly independent because its length is $n+1$ and $\\dim V = n$. Thus, there exists some non-trivial linear combination of the vectors in this list such that: $$p(T)v = 0$$\n",
    "The first version of the fundamental theorem of algebra (ch 4) states: \"Every non-constant polynomial with complex coefficients has a root in $\\mathbb{C}$\". Thus, there exists $\\lambda \\in \\mathbb{C} : p(\\lambda) = 0$, and some polynomial $q\\in\\mathcal{P}(\\mathbb{C})$ such that: $$p(z) = (z-\\lambda)q(z), \\ \\forall z\\in \\mathbb{C}$$\n",
    "Where $p$ has some degree $m$ and $q$ has some degree $m-1$ (ch 4 again)\\\n",
    "This implies that:\n",
    "$$p(T)v = (T - \\lambda I ) \\big(q(T)v\\big) = 0$$\n",
    "Because $q$ has degree less than $p$ (i.e. $m-1 < m$), it must be the case that $q(T)v \\ne 0$.\\\n",
    " Thus $\\lambda$ is an eigenvalue with eigenvector $q(T)v$"
   ]
  },
  {
   "cell_type": "markdown",
   "metadata": {},
   "source": [
    "*More Clean Proof:*\\\n",
    "Let $V$ be a complex finite-dimensional vector space with $\\dim V = n > 0$ and operator $T\\in\\mathcal{V}$.\\\n",
    " Then consider the list of polynomial terms: \n",
    " $$v, Tv, T^2v,...,T^nv, \\ v\\ne 0 \\in V$$\n",
    "This list *cannot be* linearly independent because it has length $n+1$ while $\\dim V = n$.\\\n",
    " Thus, there exist *complex numbers* $a_0,...,a_n$ not all zero such that: \n",
    " $$a_0v + a_1Tv + a_2T^2v + \\cdots + a_n T^n v = 0$$\n",
    "This equation is a polynomial with complex coefficients.\\\n",
    " By the fundamental theorem of algebra (ch 4), it has a factorization of the form:\n",
    "$$a_0 + a_1z + \\cdots + a_n z^n = c(z - \\lambda_1) \\cdots (z - \\lambda_m)$$ \n",
    "For $c\\ne 0 \\in \\mathbb{C}$ and all $\\lambda_j \\in \\mathbb{C}$\\\n",
    "This factorization is as follows:\n",
    "$$\n",
    "\\begin{align*}\n",
    "& 0 = a_0v + a_1Tv + a_2T^2v + \\cdots + a_n T^n v \\\\\n",
    "& \\ \\ = \\big(a_0 I + a_1 T + \\cdots + a_n T^n \\big) v \\\\\n",
    "& \\ \\ = c(T - \\lambda_1 I ) \\cdots (T - \\lambda_m I) v\n",
    "\\end{align*}\n",
    "$$\n",
    "Because $C \\ne 0$ and $v \\ne 0$, at least one term $T - \\lambda_j I = 0$ in this expression. Equivalently, $T-\\lambda_j I$ is *not injective* for some $0<j\\le m \\le n$ Thus, there exists at least one eigenvalue $\\lambda_j$ for $T$."
   ]
  },
  {
   "cell_type": "markdown",
   "metadata": {},
   "source": [
    "### Eigenvalues and the Minimal Polynomial"
   ]
  },
  {
   "cell_type": "markdown",
   "metadata": {},
   "source": [
    "**Definition 5.21: Monic Polynomial**\n",
    "- A *monic polynomial* is a polynomial whose highest-degree *coefficient* equals $1$\n",
    "- E.g. $2 + 9z^2 + z^7$ is a monic polynomial of degree $7$"
   ]
  },
  {
   "cell_type": "markdown",
   "metadata": {},
   "source": [
    "**Existence, Uniqueness, and Degree of the Minimal Polynomial**\n",
    "- For finite-dimensional $V$ and operator $T\\in\\mathcal{L}(V)$, there is a unique monic polynomial $p\\in\\mathcal{p}(\\mathbb{F})$ of smallest degree such that:\n",
    "    - $p(T)=0$\n",
    "    - $\\deg p \\le \\dim V$"
   ]
  },
  {
   "cell_type": "markdown",
   "metadata": {},
   "source": []
  }
 ],
 "metadata": {
  "kernelspec": {
   "display_name": "anaconda",
   "language": "python",
   "name": "python3"
  },
  "language_info": {
   "codemirror_mode": {
    "name": "ipython",
    "version": 3
   },
   "file_extension": ".py",
   "mimetype": "text/x-python",
   "name": "python",
   "nbconvert_exporter": "python",
   "pygments_lexer": "ipython3",
   "version": "3.12.4"
  }
 },
 "nbformat": 4,
 "nbformat_minor": 2
}
