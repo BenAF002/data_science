{
 "cells": [
  {
   "cell_type": "markdown",
   "metadata": {},
   "source": [
    "## 5A Invariant Subspaces"
   ]
  },
  {
   "cell_type": "markdown",
   "metadata": {},
   "source": [
    "### Eigenvalues"
   ]
  },
  {
   "cell_type": "markdown",
   "metadata": {},
   "source": [
    "**Definition 5.1: Operator**\n",
    "- A linear map from a vector space onto itself is called an *operator*"
   ]
  },
  {
   "cell_type": "markdown",
   "metadata": {},
   "source": [
    "**Definition 5.2: Invariant Subspace**\n",
    "- Let $T\\in\\mathcal{L}(V)$, a subspace $U$ of $V$ is called *invariant* under $T$ if: $$Tu\\in U, \\ \\forall u\\in U$$"
   ]
  },
  {
   "cell_type": "markdown",
   "metadata": {},
   "source": [
    "Consider this operator on $V$. If $T|_U$, which is the mapping of $T$ restricted to the domain of $U$, is an *operator on* $U$, then $U$ is an invariant subspace."
   ]
  },
  {
   "cell_type": "markdown",
   "metadata": {},
   "source": [
    "Ex. $T\\in\\mathcal{L}(\\mathcal{P}(\\reals))\\coloneqq Tp=p'$\n",
    "- Consider $\\mathcal{P}_4(\\reals)$. This is a subspace of $\\mathcal{P}(\\reals)$ that is invariant under $T$ becuase any $p\\in\\mathcal{P}_4(\\reals)$ has degree of at most 4 and its first derivative $p'$ also has degree of at most 4. Thus $p'\\in\\mathcal{P}_4(\\reals)$"
   ]
  },
  {
   "cell_type": "markdown",
   "metadata": {},
   "source": [
    "Ex. Generically invariant subspaces for any operator $T\\in\\mathcal{L}(V)$:\n",
    "- $\\{0\\}$ is an invariant subspace under $T$: $$Tu=0\\in\\{0\\}, \\ \\forall u\\in\\{0\\}$$\n",
    "- $v$ is an invariant subspace under $T$: $$Tu\\in V, \\ \\forall u \\in V$$\n",
    "- $\\text{null } T$ is an invariant subspace under $T$: $$Tu=0\\in\\text{null } T, \\ \\forall u\\in \\text{null } T$$\n",
    "- $\\text{range } T$ is an invariant subspace under $T$: $$Tu\\in\\text{range T}, \\ \\forall u \\in\\text{range } T$$\n",
    "\n",
    "**NOTE:** From these generic examples, it is clear that any operator on $V$ must have at least the invariant subspaces of $\\{0\\}$ and $V$. However, it turns out (as we will see later) that there must exist more invariant subspaces as well.\n",
    "\n",
    "**NOTE:** When $T$ is an automorphism (i.e. it is bijective and invertible), then $\\text{null }T = \\{0\\}$ and $\\text{range } T = V$"
   ]
  },
  {
   "cell_type": "markdown",
   "metadata": {},
   "source": [
    "#### Eigenvalues"
   ]
  },
  {
   "cell_type": "markdown",
   "metadata": {},
   "source": [
    "Consider a one-dimensional subspace. Take any $v\\in V$ with $v\\ne 0$ and let $U$ be the set of *all scalar multiples of $v$: $$U=\\{\\lambda v: \\lambda\\in\\mathbb{F}\\} = \\text{span}(v)$$\n",
    "$U$ is a one-dimensional subspace of $V$. Note that $U$ is uniquely defined w.r.t. the chosen $v\\in V$. Any one-dimensional subspace of $V$ is similarly defined based on the choice of $v$.\\\n",
    "If $U$ is invariant under an operator $T\\in\\mathcal{L}(V)$, then $Tv\\in U$, and thus there exists a scalar $\\lambda\\in\\mathbb{F}$ such that: $$Tv=\\lambda v$$\n",
    "The converse is also true:\\\n",
    "If $Tv=\\lambda v$ for some $\\lambda\\in\\mathbb{F}$, then $\\text{span}(v)$ is a one-dimensional subspace of $V$ that is invariant under $T$."
   ]
  },
  {
   "cell_type": "markdown",
   "metadata": {},
   "source": [
    "**Definition 5.5: Eigenvalue**\n",
    "- For $T\\in\\mathcal{L}(V)$, a number $\\lambda \\in \\mathbb{F}$ is called an *eigenvalue* of $T$ if there exists $v\\in V$ such that $v\\ne 0$ and $Tv = \\lambda v$\n",
    "- I.e.: $$\\exists v\\in V : Tv = \\lambda v, v\\ne 0 \\implies \\lambda \\text{ is eigenvalue}$$\n",
    "\n",
    "So, $V$ has a one-dimensional subspace that is invariant under $T$ if and only if $T$ has an eigenvalue"
   ]
  },
  {
   "cell_type": "markdown",
   "metadata": {},
   "source": [
    "Ex. $T\\in\\mathcal{L}(\\mathbb{F}^3)$:\n",
    "$$ T(x, y, z) = \\big(7x + 3z, \\ 3x + 6y + 9z, \\ -6y \\big), \\ \\forall (x,y,z)\\in\\mathbb{F}^3$$\n",
    "Then $T(3, 1, -1) = (18, 6, -6) = 6(3, 1, -1)$, thus $6$ is an *eigenvalue* of $T$"
   ]
  },
  {
   "cell_type": "markdown",
   "metadata": {},
   "source": [
    "**Equivalent Conditions for an Eigenvalue**\n",
    "- For finite-dimensional vector space $V$, linear map $T\\in\\mathcal{L}(V)$, and $\\lambda\\in\\mathbb{F}$:\n",
    "    - $\\lambda \\text{ is an eigenvalue of } T$\n",
    "    - $T - \\lambda I \\text{ is not injective}$\n",
    "    - $T - \\lambda I \\text{ is not surjective}$\n",
    "    - $T - \\lambda I \\text{ is not invertible}$\n",
    "\n",
    "From $Tv = \\lambda v$ it follows that $(T - \\lambda I)v = 0, \\ \\forall v \\in V$"
   ]
  },
  {
   "cell_type": "markdown",
   "metadata": {},
   "source": [
    "**Definition 5.8: Eigenvector**\n",
    "- For $T\\in\\mathcal{L}(V)$ and eigenvalue $\\lambda\\in\\mathbb{F}$ of $T$, the vector $V\\in V$ is called an *eigenvector* of $T$ corresponding to $\\lambda$ if $v\\ne 0 $ and $Tv = \\lambda v$\n",
    "\n",
    "From the definition of an eigenvalue (5.5), the eigenvalue is specified for a specific vector $v\\in V$. This vector is the eigenvector.\\\n",
    "A vector $v\\in V$ is an eigenvector of an operator $T$ on $V$ if and only if $Tv$ is a scalar multiple of $v$. Correspondingly, a vector $v\\in V$ is an eigenvector of $T$ corresponding to the eigenvalue $\\lambda$ if and only if $v\\in \\text{null}(T - \\lambda I)$"
   ]
  },
  {
   "cell_type": "markdown",
   "metadata": {},
   "source": [
    "**Linear Independence of Eigenvectors**\n",
    "- For an operator $T\\in\\mathcal{L}(V)$, *every* list of eigenvectors of $T$ corresponding to distinct eigenvalues of $T$ is linearly independent\n",
    "\n",
    "*Proof:*\n",
    "\n",
    "Proof by contradiction. Were this theorem false, then there would exist a linearly dependent list of eigenvectors **of minimal length** $m$, $v_1,...,v_m$ corresponding to *distinct* eigenvalues $\\lambda_1,...,\\lambda_m$ of $T$. Note that $m\\ge 2$ because eigenvectors (and values) are non-zero by definition. Then by the definition of linear dependence, there must exist a set of coefficients $a_1,...,a_m\\in\\mathbb{F}$, not all zero, such that: $$a_1v_1 + \\cdots + a_mv_m = 0$$\n",
    "Apply $T-\\lambda_m I$ to both sides:\n",
    "$$a_1(\\lambda_1 - \\lambda_m) v_1 + \\cdots + a_{m-1} (\\lambda_{m-1} - \\lambda_m) v_{m-1} = 0$$\n",
    "Because the eigenvalues are distinct, none of the coefficients in this equation are 0. Thus the list of eigenvectors $v_1,...,v_{m-1}$ is a linearly dependent list of length $m-1$. This violiates the minimallity of $m$, and thus completes the proof.\n",
    "\n",
    "Another, I think cleaner proof:\\\n",
    "Apply the operator $T$: $$a_1T(v_1) + \\cdots + a_mT(v_m) = 0 \\\\ \\implies a_1\\lambda_1 v_1 + \\cdots + a_m \\lambda_m v_m = 0$$\n",
    "Because all of the eigenvalues are necessarily distinct, there is no combination of coefficients $a\\lambda$ for which this equality holds other than the trivial solution. Thus the eigenvectors must be independent."
   ]
  },
  {
   "cell_type": "markdown",
   "metadata": {},
   "source": [
    "**Operators Cannot Have More Eigenvectors than the Dimension of Vector Space**\n",
    "- For finite-dimensional $V$, each operator on $V$ has *at most* $\\dim V$ distinct eigenvalues\n",
    "\n",
    "This follows clearly from the theorem that eigenvectors are independent. The maximum length of any list of independent vectors in a finite-dimensional vector space $V$ *is* $\\dim V$, by the definition of dimension."
   ]
  },
  {
   "cell_type": "markdown",
   "metadata": {},
   "source": [
    "### Polynomials Applied to Operators"
   ]
  },
  {
   "cell_type": "markdown",
   "metadata": {},
   "source": [
    "Operators may be raised to powers. This isn't that remarkable when you think about it. A linear map between subspaces (i.e. between spaces of different dimensions, a non-operator) cannot be composed with itself because the domain will be incompatible after the first mapping.\n",
    "\n",
    "**Notation $T^m$**\\\n",
    "For operator $T\\in\\mathcal{L}(V)$:\n",
    "- $T^m\\in\\mathcal{L}(V)$ is defined by $T^m = T\\cdots T$, $m$ times\n",
    "- $T^0$ is defined to be the identity operator $I$ on $V$\n",
    "- If $T$ is invertible, then $T^{-m}$ is defined by: $$T^{-m} = (T^{-1})^m$$"
   ]
  },
  {
   "cell_type": "markdown",
   "metadata": {},
   "source": [
    "**Notation: $p(T)$**\\\n",
    "For operator $T\\in\\mathcal{L}(V)$ and polynomial $p\\in\\mathcal{P}(\\mathbb{F})$, $p(T)$ is the operator on $V$ defined by: $$p(T) = a_0 I + a_1T + a_2T^2 + \\cdots + a_mT^m$$"
   ]
  },
  {
   "cell_type": "markdown",
   "metadata": {},
   "source": [
    "**Definition 5.16: Product of Polynomials**\n",
    "- If $p,q \\in\\mathcal{P}(\\mathbb{F})$, then $pq\\in\\mathcal{P}(\\mathbb{F})$ is the polynomial defined by: $$(pq)(z) = p(z)q(z), \\ \\forall z \\in\\mathbb{F}$$"
   ]
  },
  {
   "cell_type": "markdown",
   "metadata": {},
   "source": [
    "**Multiplicative Properties:**\n",
    "$$\\begin{align*}\n",
    "& a) \\ \\ (pq)(T) = p(T)q(T) \\\\\n",
    "& b) \\ \\ p(T)q(T) = q(T)p(T)\n",
    "\\end{align*}$$\n",
    "So, the order doesn't matter. This corresponds exactly with the product of any other polynomials. It is possible because an operator may be composed with itself (so, operators are commutative)."
   ]
  },
  {
   "cell_type": "markdown",
   "metadata": {},
   "source": [
    "**Null Space and Range of $p(T)$ are invariant under $T$**\n",
    "- For an operatore $T\\in\\mathcal{L}(V)$ and a polynomial $p\\in\\mathcal{P}(\\mathbb{F})$, $\\text{null } p(T)$ and $\\text{range } p(T)$ are both *invariant* under $T$"
   ]
  },
  {
   "cell_type": "markdown",
   "metadata": {},
   "source": [
    "### Exercises 5A"
   ]
  },
  {
   "cell_type": "markdown",
   "metadata": {},
   "source": []
  },
  {
   "cell_type": "code",
   "execution_count": 13,
   "metadata": {},
   "outputs": [
    {
     "name": "stdout",
     "output_type": "stream",
     "text": [
      "[[1 3]\n",
      " [2 1]\n",
      " [3 3]\n",
      " [4 4]\n",
      " [5 5]]\n",
      "[[ -9  -3  -9 -12 -15]\n",
      " [  1   2   3   4   5]]\n"
     ]
    }
   ],
   "source": [
    "import numpy as np\n",
    "x = np.array([1, 2, 3, 4, 5])\n",
    "y = np.array([3, 1, 3, 4, 5])\n",
    "\n",
    "v = np.column_stack((x, y))\n",
    "\n",
    "T = np.array([[0, -3], [1, 0]])\n",
    "print(v)\n",
    "print(T @ v.T)"
   ]
  },
  {
   "cell_type": "code",
   "execution_count": 14,
   "metadata": {},
   "outputs": [
    {
     "data": {
      "image/png": "[encoded data removed]",
      "text/plain": [
       "<Figure size 640x480 with 1 Axes>"
      ]
     },
     "metadata": {},
     "output_type": "display_data"
    }
   ],
   "source": [
    "import matplotlib.pyplot as plt\n",
    "plt.scatter(v[0, 0], v[0, 1])\n",
    "plt.scatter((T @ v.T)[0, 0], (T @ v.T)[1, 0]);"
   ]
  },
  {
   "cell_type": "code",
   "execution_count": 16,
   "metadata": {},
   "outputs": [
    {
     "data": {
      "text/plain": [
       "EigResult(eigenvalues=array([0.+1.j, 0.-1.j]), eigenvectors=array([[0.70710678+0.j        , 0.70710678-0.j        ],\n",
       "       [0.        -0.70710678j, 0.        +0.70710678j]]))"
      ]
     },
     "execution_count": 16,
     "metadata": {},
     "output_type": "execute_result"
    }
   ],
   "source": [
    "T = np.array([[0, -1], [1, 0]])\n",
    "np.linalg.eig(T)"
   ]
  }
 ],
 "metadata": {
  "kernelspec": {
   "display_name": "anaconda",
   "language": "python",
   "name": "python3"
  },
  "language_info": {
   "codemirror_mode": {
    "name": "ipython",
    "version": 3
   },
   "file_extension": ".py",
   "mimetype": "text/x-python",
   "name": "python",
   "nbconvert_exporter": "python",
   "pygments_lexer": "ipython3",
   "version": "3.12.4"
  }
 },
 "nbformat": 4,
 "nbformat_minor": 2
}
