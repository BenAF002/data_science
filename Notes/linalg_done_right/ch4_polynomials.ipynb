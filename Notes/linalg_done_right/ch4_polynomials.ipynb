{
 "cells": [
  {
   "cell_type": "markdown",
   "metadata": {},
   "source": [
    "## Complex Numbers"
   ]
  },
  {
   "cell_type": "markdown",
   "metadata": {},
   "source": [
    "**Definition 4.1: Real Part, Imaginary Part**\n",
    "- Let $z = a + bi$ where $a, b \\in \\reals$\n",
    "    - The real part of $z$ is $\\text{Re } z = a$\n",
    "    - The imaginary part of $z$ is $\\text{Im } z = b$\n",
    "\n",
    "Then, $z = \\text{Re } z + (\\text{Im }z )i$"
   ]
  },
  {
   "cell_type": "markdown",
   "metadata": {},
   "source": [
    "**Definition 4.2: Complex Conjugate, Absolute Value**\n",
    "- For $z\\in \\mathbb{C}$:\n",
    "    - The *complex conjugate* of $z$ is: $$\\bar{z} = \\text{Re } z - (\\text{Im } z)i$$\n",
    "    - The *absolute value* of $z$ is: $$|z| = \\sqrt{(\\text{Re }z)^2 + (\\text{Im }z)^2}$$"
   ]
  },
  {
   "cell_type": "markdown",
   "metadata": {},
   "source": [
    "$\\mathbb{C}$ is a one-dimensional complex vector space. However, we may identify every complex number $z\\in \\mathbb{C}$ with an ordered pair of its real and imaginary parts $(\\text{Re} z, \\text{Im } z)\\in\\reals^2$. Thus, we can also think of $\\mathbb{C}$ as a two-dimensional real-valued vector space."
   ]
  },
  {
   "cell_type": "markdown",
   "metadata": {},
   "source": []
  }
 ],
 "metadata": {
  "language_info": {
   "name": "python"
  }
 },
 "nbformat": 4,
 "nbformat_minor": 2
}
