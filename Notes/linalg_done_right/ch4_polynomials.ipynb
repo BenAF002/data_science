{
 "cells": [
  {
   "cell_type": "markdown",
   "metadata": {},
   "source": [
    "## Complex Numbers"
   ]
  },
  {
   "cell_type": "markdown",
   "metadata": {},
   "source": [
    "**Definition 4.1: Real Part, Imaginary Part**\n",
    "- Let $z = a + bi$ where $a, b \\in \\reals$\n",
    "    - The real part of $z$ is $\\text{Re } z = a$\n",
    "    - The imaginary part of $z$ is $\\text{Im } z = b$\n",
    "\n",
    "Then, $z = \\text{Re } z + (\\text{Im }z )i$"
   ]
  },
  {
   "cell_type": "markdown",
   "metadata": {},
   "source": [
    "**Definition 4.2: Complex Conjugate, Absolute Value**\n",
    "- For $z\\in \\mathbb{C}$:\n",
    "    - The *complex conjugate* of $z$ is: $$\\bar{z} = \\text{Re } z - (\\text{Im } z)i$$\n",
    "    - The *absolute value* of $z$ is: $$|z| = \\sqrt{(\\text{Re }z)^2 + (\\text{Im }z)^2}$$"
   ]
  },
  {
   "cell_type": "markdown",
   "metadata": {},
   "source": [
    "$\\mathbb{C}$ is a one-dimensional complex vector space. However, we may identify every complex number $z\\in \\mathbb{C}$ with an ordered pair of its real and imaginary parts $(\\text{Re} z, \\text{Im } z)\\in\\reals^2$. Thus, we can also think of $\\mathbb{C}$ as a two-dimensional real-valued vector space."
   ]
  },
  {
   "cell_type": "markdown",
   "metadata": {},
   "source": [
    "#### Properties of Complex Numbers\n",
    "For $w,z\\in \\mathbb{C}$:\n",
    "- Sum of $z$ and $\\bar{z}$: $$z + \\bar{z} = 2\\text{Re } z$$\n",
    "- Difference of $z$ and $\\bar{z}$: $$z - \\bar{z} = 2(\\text{Im } z)i$$\n",
    "- Product of $z$ and $\\bar{z}$: $$z\\bar{z} = |z|^2$$\n",
    "- Additivity and multiplicativity of complex conjugate: $$\\overline{w + z} = \\bar{w} + \\bar{z} \\\\ \\overline{wz} = \\bar{w}\\bar{z}$$\n",
    "- Double complex conjugate: $$\\overline{\\bar{z}} = z$$\n",
    "- Real and imaginary parts are bounded by $|z|$: $$|\\text{Re } z| \\le |z| \\\\ |\\text{Im } z|\\le |z|$$\n",
    "- Absolute value of complex conjugate: $$|\\bar{z}| = |z|$$\n",
    "- Multiplicativity of absolute value: $$|wz| = |w||z|$$\n",
    "- Triangle inequality: $$|w+z| \\le |w| + |z|$$"
   ]
  },
  {
   "cell_type": "markdown",
   "metadata": {},
   "source": [
    "This last property, the triangle inequality, is commonly invoked and has a simple geometric interpretation: The length of each side of a triangle is less than or equal to the sum of the lengths of the two other sides."
   ]
  },
  {
   "cell_type": "markdown",
   "metadata": {},
   "source": [
    "### Zeros of Polynomials"
   ]
  },
  {
   "cell_type": "markdown",
   "metadata": {},
   "source": [
    "A function $p: \\mathbb{F} \\rightarrow \\mathbb{F}$ is a polynomial of degree $m$ if there exist coefficients $a_0,...,a_m\\in \\mathbb{F}$ with $a_m\\ne 0$ such that: $$p(z) = a_0 + a_1z + \\cdots + a_mz^m, \\ \\forall z\\in\\mathbb{F}$$"
   ]
  },
  {
   "cell_type": "markdown",
   "metadata": {},
   "source": [
    "**Definition 4.5: Zero of a Polynomial**\n",
    "- A number $\\lambda \\in \\mathbb{F}$ is called a zero (or ***Root***) of a polynomial $p\\in\\mathcal{P}(\\mathbb{F})$ if: $$p(\\lambda) = 0$$"
   ]
  },
  {
   "cell_type": "markdown",
   "metadata": {},
   "source": [
    "The roots of a polynomial are crucial for demonstrating that the representation for a polynomial is unique. That is, that its degree is unique.\n",
    "\n",
    "**Result: Each Zero of a Polynomial Corresponds to a Degree-One Factor**\n",
    "- $p\\in\\mathcal{P}(\\mathbb{F})$ is a polynomial of degree $m$. For $\\lambda\\in\\mathbb{F}$, $p(\\lambda)=0$ if and only if there exists a polynomial $q\\in\\mathcal{P}(\\mathbb{F})$ of degree $m-1$ such that: $$p(z) = (z-\\lambda)q(z), \\ \\forall z\\in\\mathbb{F}$$"
   ]
  },
  {
   "cell_type": "markdown",
   "metadata": {},
   "source": [
    "**Degree $m$ Implies at most $m$ Zeros**\n",
    "- A polynomial $p$ of degree $m$ has *at most* $m$ zeros in $\\mathbb{F}$"
   ]
  },
  {
   "cell_type": "markdown",
   "metadata": {},
   "source": [
    "This result implies that **polynomials are uniquely determined** by their coefficients. Let's walk through this.\\\n",
    " Assume $p$ and $q$ are equivalent polynomials of degree $m$ with different sets of coefficients. Then denote $d = p - q$ as the difference polynomial. We may express these polynomials as:\n",
    "$$\n",
    "p(z) = a_0 + a_1z_1 + \\cdots + a_mz^m \\\\\n",
    "q(z) = b_0 + b_1z_1 + \\cdots + b_mz^m \\\\\n",
    "d(z) = (a_0 - b_0) + (a_1 - b_1)z_1 + \\cdots + (a_m - b_m)z^m\n",
    "$$\n",
    "Thus, $d$ also has degree $m$. Because $p(z)=q(z), \\ \\forall z\\in\\mathbb{F}$, we must have $d(z) = 0, \\ \\forall z\\in\\mathbb{F}$ Thus, $d$ is a polynomial with degree $m$ and *infinitely many* roots, despite having possible non-zero coefficients. This violates the theorem."
   ]
  },
  {
   "cell_type": "markdown",
   "metadata": {},
   "source": [
    "**Remark: Degree of the $0$ Polynomial is Defined to Be $-\\infty$**"
   ]
  },
  {
   "cell_type": "markdown",
   "metadata": {},
   "source": [
    "### Division Algorithm for Polynomials"
   ]
  },
  {
   "cell_type": "markdown",
   "metadata": {},
   "source": [
    "Let $p,s\\in\\mathbb{Z}$ with $p\\ge 0$ and $s > 0$, then there exist $q,r\\in\\mathbb{Z}$ with $q\\ge 0, \\ r \\ge 0$ such that: $$p = sq + r, \\ r < s$$\n",
    "We can interpret this as dividing $p/s$, which is denoted as the quotient $q$ plus some remainder $r$\\\n",
    "This may be thought of as the general arithmetic division algorithm"
   ]
  },
  {
   "cell_type": "markdown",
   "metadata": {},
   "source": [
    "**Division Algorithm for Polynomials**\n",
    "- Let $p,s\\in\\mathcal{P}(\\mathbb{F})$ with $s\\ne 0$. There exist unique polynomials $q,r\\in\\mathcal{P}(\\mathbb{F})$ such that: $$p = sq + r, \\ \\deg r < \\deg s$$"
   ]
  },
  {
   "cell_type": "markdown",
   "metadata": {},
   "source": [
    "### Factorization of Polynomials over $\\mathbb{C}$"
   ]
  },
  {
   "cell_type": "markdown",
   "metadata": {},
   "source": [
    "**Fundamental Theorem of Algebra (on $\\mathbb{C}$), v1**\n",
    "- Every non-constant polynomial with complex coefficients has a root in $\\mathbb{C}$\n",
    "\n",
    "This is an existance theorem, its proof does not lead to methods for finding zeros. There are formulae for finding the zeros of polynomials of degree 2 (quadratic formula), 3, and 4. No formulas exist for degrees of 5 or greater, but there are good numerical approximation techniques (optimizatio algorithms)"
   ]
  },
  {
   "cell_type": "markdown",
   "metadata": {},
   "source": [
    "**Fundamental Theorem of Algebra (on $\\mathbb{C}$), v2**\n",
    "- If $p\\in\\mathcal{P}(\\mathbb{C})$ is a non-constant polynomial, then $p$ has a unique factorization of the form: \n",
    "$$p(z) = c(z-\\lambda_1)\\cdots(z-\\lambda_m), \\ c, \\lambda_1,...,\\lambda_m \\in \\mathbb{C}$$"
   ]
  },
  {
   "cell_type": "markdown",
   "metadata": {},
   "source": [
    "### Factorization of Polynomials over $\\reals$"
   ]
  },
  {
   "cell_type": "markdown",
   "metadata": {},
   "source": [
    "**Polynomials with Real Coefficients Have Non-Real Zeros in Pairs**\n",
    "- Let $p\\in\\mathcal{P}(\\mathbb{F})$ be a polynomial with real coefficients. If $\\lambda\\in\\mathbb{C}$ is a root of $p$, then so is $\\bar{\\lambda}$\n",
    "\n",
    "In other words, every complex root of a polynomial with real coefficients has a complex conjugate *that is also a root*"
   ]
  },
  {
   "cell_type": "markdown",
   "metadata": {},
   "source": [
    "**Factorization of a Quadratic Polynomial**\n",
    "- For $b,c\\in\\reals$ there is a polynomial factorization of the form: $$x^2 + bx + c = (x-\\lambda_1)(x - \\lambda_2), \\ \\lambda_1,\\lambda_2 \\in \\reals$$\n",
    "if and only if $b^2 \\ge 4c$\n",
    "\n",
    "This is directly observed from the quadratic formula."
   ]
  },
  {
   "cell_type": "markdown",
   "metadata": {},
   "source": [
    "**Factorization of a Polynomial Over $\\reals$**\n",
    "- Let $p\\in\\mathcal{P}(\\mathbb{F})$ be a non-constant polynomial, then $p$ has a *unique* factorization of the form:\n",
    "$$p(x) = c(x-\\lambda_1)\\cdots(x-\\lambda_m)(x^2+b_1x+c_1)\\cdots(x^2+b_Mx+c_M)$$\n",
    "where $c,\\lambda_1,...,\\lambda_m,b_1,...,b_M,c_1,...,c_M\\in\\reals$ with $b_k^2 < 4c_k, \\ k\\in\\{1,...,M\\}$"
   ]
  }
 ],
 "metadata": {
  "language_info": {
   "name": "python"
  }
 },
 "nbformat": 4,
 "nbformat_minor": 2
}
