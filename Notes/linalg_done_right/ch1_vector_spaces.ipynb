{
 "cells": [
  {
   "cell_type": "markdown",
   "metadata": {},
   "source": [
    "## 1A - $\\reals^n$ and $\\mathbb{C}^n$"
   ]
  },
  {
   "cell_type": "markdown",
   "metadata": {},
   "source": [
    "### Complex Numbers"
   ]
  },
  {
   "cell_type": "markdown",
   "metadata": {},
   "source": [
    "Complex numbers were invented to facilitate evaluation of the roots of negative numbers. The basic idea is that we express $\\sqrt{-1} = i$ and allow $i$ to obey the usual rules of arithmetic.\n",
    "\n",
    "**Definition 1.1: Complex Numbers**\n",
    "- A complex number is an *ordered pair* $(a, b)$, where $a, b \\in \\reals$, expressed as: $$a + bi$$\n",
    "- The set of all complex numbers is denoted by $\\mathbb{C}$: $$\\mathbb{C} = \\{a + bi \\ : \\ a,b \\in \\reals \\}$$\n",
    "- Addition and multiplication on $\\mathbb{C}$ are defined by:\n",
    "$$\n",
    "(a + bi) + (c + di) = (a + c) + (b + d)i \\\\ \\ \\\\\n",
    "(a + bi)(c + di) = (ac - bd) + (ad + bc)i\n",
    "$$"
   ]
  },
  {
   "cell_type": "markdown",
   "metadata": {},
   "source": [
    "If $a\\in\\reals$ then we may express $a = a + 0i$. Thus, $\\reals$ is a **subset** of $\\mathbb{C}$.\\\n",
    "We may also express $bi = 0 + bi$ and $i = 0 + 1i$"
   ]
  },
  {
   "cell_type": "markdown",
   "metadata": {},
   "source": [
    "**Properties of Complex Arithmetic (1.3)**:\n",
    "- **Commutativity**:\n",
    "    - $\\alpha + \\beta = \\beta + \\alpha, \\ \\ \\forall \\alpha, \\beta \\in \\mathbb{C}$\n",
    "    - $\\alpha\\beta = \\beta\\alpha, \\ \\ \\forall \\alpha, \\beta \\in \\mathbb{C}$\n",
    "- **Associativity**:\n",
    "    - $(\\alpha + \\beta) + \\lambda = \\alpha + (\\beta + \\lambda), \\ \\ \\forall \\alpha, \\beta, \\lambda \\in \\mathbb{C}$\n",
    "    - $(\\alpha\\beta)\\lambda = \\alpha(\\beta\\lambda), \\ \\ \\forall \\alpha, \\beta, \\lambda \\in \\mathbb{C}$\n",
    "- **Identities**:\n",
    "    - $\\lambda + 0 = \\lambda, \\ \\ \\forall \\lambda \\in \\mathbb{C}$\n",
    "    - $\\lambda 1 = \\lambda, \\ \\ \\forall \\lambda \\in \\mathbb{C}$\n",
    "- **Additive Inverse**:\n",
    "    - $\\forall \\alpha\\in\\mathbb{C}, \\ \\ \\exists \\ \\beta\\in\\mathbb{C} \\ : \\ \\alpha + \\beta = 0$\n",
    "- **Multiplicative Inverse**:\n",
    "    - $\\forall \\alpha\\ne 0 \\ \\in \\ \\mathbb{C}, \\ \\ \\exists \\ \\beta\\in\\mathbb{C} \\ : \\ \\alpha\\beta=1$\n",
    "- **Distributive Property**:\n",
    "    - $\\lambda(\\alpha + \\beta) = \\lambda\\alpha + \\lambda\\beta, \\ \\ \\forall \\lambda, \\alpha, \\beta \\in \\mathbb{C}$"
   ]
  },
  {
   "cell_type": "markdown",
   "metadata": {},
   "source": [
    "**Definition (1.5): $-\\alpha$, subtraction, $1/\\alpha$, division**:\n",
    "- $-\\alpha$ denotes the additive inverse of $\\alpha$. Thus, $-\\alpha$ is a unique complex number such that: $\\alpha + (-\\alpha) = 0$\n",
    "- *Subtraction* on $\\mathbb{C}$ is defined by: $$\\beta - \\alpha = \\beta + (-\\alpha)$$\n",
    "- Let $1/\\alpha$ denote the multiplicative inverse of $\\alpha, \\ \\forall \\alpha \\ne 0$. Thus $1/\\alpha$ is a unique complex number such that: $$\\alpha(1/\\alpha) = 1$$\n",
    "- *Division* by $\\alpha$ is defined by: $$\\beta/\\alpha = \\beta(1/\\alpha), \\ \\ \\forall \\alpha \\ne 0$$"
   ]
  },
  {
   "cell_type": "markdown",
   "metadata": {},
   "source": [
    "### $\\mathbb{F}$ Notation\n",
    "Throughout the text $\\mathbb{F}$ is used to denote *either* $\\reals$ or $\\mathbb{C}$ interchangeably.\\\n",
    "This is done because both $\\reals$ and $\\mathbb{C}$ are examples of ***fields*** and thus they share many of the same properties."
   ]
  },
  {
   "cell_type": "markdown",
   "metadata": {},
   "source": [
    "### Lists"
   ]
  },
  {
   "cell_type": "markdown",
   "metadata": {},
   "source": [
    "**Definition (1.8): List, Length**\n",
    "- A *list* of *length* $n$ is an ordered collection of $n$ elements\n",
    "- Two lists are equal if and only if they have the same length and the same elements *in the same order*\n",
    "\n",
    "Sets differ from lists in that the order of sets does not matter, and repetitions are ireelevant in sets\\\n",
    "E.g.:\n",
    "$$\n",
    "\\text{Lists:} \\ (3,5) = (5,3); \\ (4,4) \\ne (4,4,4) \\\\ \\ \\\\\n",
    "\\text{Sets:} \\ \\{3,5\\} \\ne \\{5,3\\}; \\ \\{4, 4\\} = \\{4,4,4\\} = \\{4\\}\n",
    "$$"
   ]
  },
  {
   "cell_type": "markdown",
   "metadata": {},
   "source": [
    "**Definition (1.11): $\\mathbb{F}^n$ *coordinate***\\\n",
    "$\\mathbb{F}^n$ is the *set* of all lists of length $n$ of elements of $\\mathbb{F}$:\n",
    "$$\\mathbb{F}^n = \\{(x_1,...,x_n):x_k \\in \\mathbb{F}, \\ \\forall k=1,...,n\\}$$\n",
    "Then, $x_k$ is called the $k^{\\text{th}}$ *coordinate* of $(x_1, ..., x_n)$"
   ]
  },
  {
   "cell_type": "markdown",
   "metadata": {
    "vscode": {
     "languageId": "plaintext"
    }
   },
   "source": [
    "**Definition (1.13): Addition in $\\mathbb{F}^n$**\\\n",
    "Addition in $\\mathbb{F}^n$ is defined by adding corresponding coordinates."
   ]
  },
  {
   "cell_type": "markdown",
   "metadata": {},
   "source": [
    "***Vectors*** *are* lists. Thus, *vector addition* is nothing more than the addition of all coordinates of the vectors (lists) being summed - so long as they are both in the same space $\\mathbb{F}^n$."
   ]
  },
  {
   "cell_type": "markdown",
   "metadata": {},
   "source": [
    "**NOTE**:\n",
    "- This text ignores the convention of denoting vectors with bold font or superscripted arrows. Thus, unless otherwise indicated, we may assume that:\n",
    "$$x \\equiv \\mathbf{x} \\equiv \\vec{x}$$"
   ]
  },
  {
   "cell_type": "markdown",
   "metadata": {},
   "source": [
    "**Definition 1.17: Additive Inverse in $\\mathbb{F}^n, \\ -x$**\\\n",
    "For $x\\in\\mathbb{F}^n$, the additive inverse of $x$, denoted $-x$, is the vector $-x\\in\\mathbb{F}^n$ such that:\n",
    "$$x + (-x) = 0$$"
   ]
  },
  {
   "cell_type": "markdown",
   "metadata": {},
   "source": [
    "**Definition 1.18: Scalar Multiplication in $\\mathbb{F}^n$**\\\n",
    "Really, \"scalar\" is nothing more than a fancy word for \"number\". The product of a scalar $\\lambda$ and a vector $x$ in $\\mathbb{F}^n$ is computed by multiplying each coordinate in $x$ by $\\lambda$:\n",
    "$$\\lambda x = (\\lambda x_1,..., \\lambda x_n), \\ \\ \\lambda, x \\in \\mathbb{F}^n$$"
   ]
  },
  {
   "cell_type": "markdown",
   "metadata": {},
   "source": [
    "### Fields\n",
    "A field is a set containing at least *two* distinct elements called 0 and 1, along with operations of addition and multiplication that satisfy all of the properties of commutativity, associativity, identity (neutral element), inverses, and distributivity."
   ]
  },
  {
   "cell_type": "markdown",
   "metadata": {},
   "source": [
    "### 1A Exercises"
   ]
  },
  {
   "cell_type": "markdown",
   "metadata": {},
   "source": [
    "1-6 done on paper"
   ]
  },
  {
   "cell_type": "markdown",
   "metadata": {},
   "source": [
    "7. Show that:\n",
    "$$\\bigg(\\frac{-1 + \\sqrt{3}i}{2}\\bigg)^3 = 1$$\n",
    "$$\\bigg(\\frac{-1 + \\sqrt{3}i}{2}\\bigg)^3 = \\bigg(\\frac{1}{2^3}\\bigg) \\bigg[(-1+\\sqrt{3}i)^3\\bigg] \\\\ \\ \\\\\n",
    "= \\frac{1}{2^3}\\bigg[ (-2-2\\sqrt{3}i)(-1 + \\sqrt{3}i) \\bigg] \\\\ \\ \\\\\n",
    "= \\frac{8}{2^3} = 1\n",
    "$$"
   ]
  },
  {
   "cell_type": "markdown",
   "metadata": {},
   "source": [
    "8. Find two distinct roots of $i$\n",
    "$$(a+bi)^2 = i \\\\ \\implies (a^2 - b^2) + (2ab)i = i$$\n",
    "Now, $\\reals + \\reals \\in \\reals$; i.e., no real numbers may sum to an imaginary number. Thus, *only* the imaginary term $(2ab)i$ may contribute to $i$. Therefore,\n",
    "$$a^2 - b^2 = 0 \\\\ 2abi = i \\implies ab = \\frac{1}{2}$$\n",
    "Solving this system of equations yields $a = b = 1/\\sqrt{2}$. Thus,\n",
    "$$(a + bi)^2 = (\\frac{1}{\\sqrt{2}} + \\frac{i}{\\sqrt{2}})^2 = i \\\\ \\ \\\\\n",
    "\\implies \\sqrt{i} = \\pm \\big(\\frac{1}{\\sqrt{2}}\\big)(1 + i)$$"
   ]
  },
  {
   "cell_type": "markdown",
   "metadata": {},
   "source": [
    "## 1B - Definition of Vector Space"
   ]
  },
  {
   "cell_type": "markdown",
   "metadata": {},
   "source": [
    "Define a vector space $V$ to be a *set* with the operations of addition and scalar multiplication that satisfy associativity, commutativity, distributivity, and the inverse and neutral element."
   ]
  },
  {
   "cell_type": "markdown",
   "metadata": {},
   "source": [
    "**Definition 1.19: Addition, Scalar Multiplication**\n",
    "- Addition on a set $V$ is a function that assigns an element $u+v\\in V$ to each *pair* of elements $u,v\\in V$\n",
    "- Scalar multiplication on a set $V$ is a function that assigns an element $\\lambda v \\in V$ to each $\\lambda \\in \\mathbb{F}, \\ v\\in V$"
   ]
  },
  {
   "cell_type": "markdown",
   "metadata": {},
   "source": [
    "**Definition 1.20: Vector Space**\\\n",
    "A vector space is a set $V$ along with the operations of addition on $V$ and scalar multiplication on $V$ such that these properties hold:\n",
    "- Commutatitivty\n",
    "- Associativity\n",
    "- Additive inverse\n",
    "- Additive identity (neutral element)\n",
    "- Multiplicative identity\n",
    "- Distributivity"
   ]
  },
  {
   "cell_type": "markdown",
   "metadata": {},
   "source": [
    "Note that the additive identity property (i.e., the existence of a neutral element) means that for $V$ to be a vector space $\\mathbf{0} \\in V$. That is, $V$ must include the zero-valued vector."
   ]
  },
  {
   "cell_type": "markdown",
   "metadata": {},
   "source": [
    "#### Sets  of Functions\n",
    "**Notation: $\\mathbb{F}^S$**\n",
    "- If $S$ is a set, then $\\mathbb{F}^S$ denotes the set of functions from $S$ to $\\mathbb{F}$\n",
    "- *Addition*: $f+q\\in\\mathbb{F}^S$ is the function defined by:\n",
    "$$(f+g)(x) = f(x) + g(x), \\ \\ \\forall x\\in S$$\n",
    "- *Multiplication*: $\\lambda f \\in F^S$ is the function defined by:\n",
    "$$(\\lambda f)(x) = \\lambda f(x), \\ \\ \\forall x \\in S, \\ \\forall \\lambda \\in \\mathbb{F}, \\ \\forall f\\in\\mathbb{F}^S$$"
   ]
  },
  {
   "cell_type": "markdown",
   "metadata": {},
   "source": [
    "For example, for $S\\in[0,1]$ and $\\mathbb{F}=\\reals$, then $\\reals^{[0,1]}$ is the *set* of real-valued functions on the interval $[0, 1]$"
   ]
  },
  {
   "cell_type": "markdown",
   "metadata": {},
   "source": [
    "We may observe that this set of functions $\\mathbb{F}^S$ along with the defined operations of addition and multiplication upon the set, satisfies *all* of the requirements for a vector space given in Definition 1.20.\n",
    "This sort of motivates how functions are linear - we can actually think of them as vectors in the vector space $\\mathbb{F}^S$"
   ]
  },
  {
   "cell_type": "markdown",
   "metadata": {},
   "source": [
    "**Remarks**\n",
    "- The *additive identity* of a vector space is *unique*\n",
    "    - I.e. only one for the entire space\n",
    "- Every element in a vector space has a *unique* additive inverse\n",
    "    - I.e. only one *per* vector"
   ]
  },
  {
   "cell_type": "markdown",
   "metadata": {},
   "source": [
    "### 1B Exercises"
   ]
  },
  {
   "cell_type": "markdown",
   "metadata": {},
   "source": [
    "1. Prove $-(-v)=v, \\ \\forall v\\in V$\n",
    "    - For $v\\in V$,\n",
    "$$v + (-1)(-1)v = (1 + (-1)(-1))v = (1+1)v = 2v \\\\ \\therefore -(-)v = v$$"
   ]
  },
  {
   "cell_type": "markdown",
   "metadata": {},
   "source": [
    "2. Given $av=0$, prove that $a=0$ *or* $v=0$ for $a\\in \\mathbb{F}, \\ v\\in V$\n",
    "    - By contradiction: assume that $av=0$ but both $a\\ne 0$ and $v\\ne0$\n",
    "        - If scalar $a\\ne 0$ then its multiplicative inverse $1/a$ exists since $a\\in \\mathbb{F}$\n",
    "        - Then, we may multiply both sides of $av=0$ by the inverse:\n",
    "    $$(1/a)av = 0 (1/a) \\\\ = (a/a)v = 0 \\\\ \\therefore v = 0$$\n"
   ]
  },
  {
   "cell_type": "markdown",
   "metadata": {},
   "source": [
    "5. Show that by the definition of a vector space, the additive inverse condition *can be replaced* with the condition that:\n",
    "$$0v = 0, \\ \\ \\forall v\\in V$$\n",
    "- Observe that the definition of the additive inverse is equivalent for all $v \\in V$:\n",
    "$$v + (-v) = (1 + (-1))v = 0v = 0$$"
   ]
  },
  {
   "cell_type": "markdown",
   "metadata": {},
   "source": [
    "## 1C Subspaces"
   ]
  },
  {
   "cell_type": "markdown",
   "metadata": {},
   "source": [
    "**Definition 1.33: Subspace**\\\n",
    "A subset $U$ of $V$ is a subspace of $V$ if it is *also* a vector space with the same additive identity, addition, and scalar multiplication as on $V$"
   ]
  },
  {
   "cell_type": "markdown",
   "metadata": {},
   "source": [
    "**Conditions for a Subspace**\n",
    "- *Additive Identity*\n",
    "$$0 \\in U$$\n",
    "- *Closed under Addition*\n",
    "$$u + w \\in U, \\ \\forall u,w \\in U$$\n",
    "- *Closed under Scalar Multiplication*\n",
    "$$au \\in U, \\ \\forall a \\in \\mathbb{F}, \\ u \\in U$$"
   ]
  },
  {
   "cell_type": "markdown",
   "metadata": {},
   "source": [
    "All of these conditions are also verifiable as results of $U$ being a vector space. So, if these conditions don't hold, then $U$ must lack some property of a vector space."
   ]
  },
  {
   "cell_type": "markdown",
   "metadata": {},
   "source": [
    "### Sums of Subspaces"
   ]
  },
  {
   "cell_type": "markdown",
   "metadata": {},
   "source": [
    "**Definition: Sum of Subspaces**\\\n",
    "The *sum* of $V_1,...,V_m \\ \\subseteq \\ V$ is the *set* of all possible sums of elements of $V_1, ..., V_m$:\n",
    "$$V_1 + \\cdots + V_m = \\{v_1 + \\cdots + v_m : v_1 \\in V_1,..., v_m \\in V_m\\}$$"
   ]
  },
  {
   "cell_type": "markdown",
   "metadata": {},
   "source": [
    "E.g. For set $U\\in \\mathbb{F}^3$ whose second and third coordinates are all equal 0 and $W\\in \\mathbb{F}^3$ whose first and third coordinates are all 0:\n",
    "$$\n",
    "U=(x, 0, 0) \\in \\mathbb{F}^3 : x \\in \\mathbb{F}, \\ \\ \\text{and} \\ \\ W = (0,y,0)\\in\\mathbb{F}^3 : y \\in \\mathbb{F}^3 \\\\ \\ \\\\\n",
    "U + W = (x, y, 0) \\in \\mathbb{F}^3 : x,y \\in \\mathbb{F}\n",
    "$$"
   ]
  },
  {
   "cell_type": "markdown",
   "metadata": {},
   "source": [
    "**Remark: The Sum of Subspaces is the Smallest Containing Subspace**\\\n",
    "For $V_1, ..., V_m \\subseteq V$, the sum $V_1 + \\cdots + V_m$ is itself a subspace, *and* is the smallest subspace of $V$ to contain all elements of $V_1, ..., V_m$\n",
    "\n",
    "At first glance, this remark seems kind of obvious, but it is likely important... It's clear that any *larger* subspace that also includes all of the summands will be greater than $V_1 + \\cdots V_m$. Likewise, any *smaller* subspace cannot include all of the summands unless some of the summands are *redundant*, in which case the *smaller* subspace would in truth be equivalent to the sum of the subspaces..."
   ]
  },
  {
   "cell_type": "markdown",
   "metadata": {},
   "source": [
    "**NOTE:** This is analagous to the union of sets in set theory. Given two subsets of a set, the smallest subset that contains them is their union."
   ]
  },
  {
   "cell_type": "markdown",
   "metadata": {},
   "source": [
    "### Direct Sums"
   ]
  },
  {
   "cell_type": "markdown",
   "metadata": {},
   "source": [
    "Now, suppose $V_1,..,V_m$ are subspaces of $V$. Every element of their sum $V_1 + \\cdots + V_m$ may be written in the form: $$v_1 + \\cdots + v_m, \\ v_k \\in V_k$$\n",
    "*If it is the case* that *each* vector in $V_1 + \\cdots + V_m$ may be represented with *only one* sum of the form above, then the sum of the subspaces is a ***Direct Sum***, denoted $\\oplus$\n",
    "\n",
    "**Definition 1.41: Direct Sum, $\\oplus$**\\\n",
    "For subspaces $V_1,...,V_m$ of $V$\n",
    "- The sum $V_1 + \\cdots + V_m$ is a *direct sum* if each element of $V_1 + \\cdots + V_m$ can be written in only one way as a sum $v_1 + \\cdots + v_m$\n",
    "- If $V_1 + \\cdots + V_m$ is a direct sum, then $V_1 \\oplus \\cdots \\oplus V_m$ denotes $V_1 + \\cdots + V_m$"
   ]
  },
  {
   "cell_type": "markdown",
   "metadata": {},
   "source": [
    "The example sum for $U$ and $W$ we saw above is an example of a direct sum."
   ]
  },
  {
   "cell_type": "markdown",
   "metadata": {},
   "source": [
    "**Remark: Condition for a Direct Sum**\\\n",
    "Suppose $V_1,...,V_m$ are subspaces of $V$. Then $V_1 + \\cdots + V_m$ is a direct sum if and only if the *only* way to express $0$ as a sum $v_1 + \\cdots + v_m$, where each $v_k \\in V_k$, is by taking *each* $v_k = 0$"
   ]
  },
  {
   "cell_type": "markdown",
   "metadata": {},
   "source": [
    "An equivalent condition for a direct sum is given by the following remark:\n",
    "\n",
    "**Remark: Direct Sum of Two Subspaces**\\\n",
    "Suppose $U, W \\subseteq V$, then\n",
    "$$U+W \\ \\text{is a direct sum} \\ \\iff \\ U\\cap W = \\{0\\}$$"
   ]
  },
  {
   "cell_type": "markdown",
   "metadata": {},
   "source": [
    "Proof:\n",
    "- Direction 1 -- $U\\oplus W \\implies U\\cap W = \\{0\\}$:\n",
    "    - Suppose $U\\oplus W$, if $v\\in U\\cap W$, then $0 = v + (-v)$ by the definition of a vector space\n",
    "        - Because $v \\in U \\cap W$, it must be the case that $v \\in U, \\ -v \\in W$ or visa-versa by the definition of a direct sum\n",
    "        - By the definition of the additive inverse and the definition of a vector space, if $v$ (or $-v$) is in a vector space, it must be the case that $-v$ (or $v$) is also in the space. For the $U\\oplus W$ to be true, this may only be the case when $v=0$\n",
    "            - Thus $U\\cap W = \\{0\\}$\n",
    "- Direction 2 -- $U\\cap W = \\{0\\}$:\n",
    "    - Suppose that $u + w = 0, \\ u\\in U, w \\in W$\n",
    "        - This implies that $u = -w \\in W$, thus $u \\in U\\cap W$\n",
    "            - Therefore, $u=0, \\ w=0$\n",
    "            - Thus, the sum for $0$ may be expressed only one way and $U\\oplus W$ by the condition for a direct sum"
   ]
  },
  {
   "cell_type": "markdown",
   "metadata": {},
   "source": [
    "**NOTE:** This remark only applies for pairs of subspaces. A sum of more than two subspaces may *not be a direct sum* although each pair of subspaces may be direct sums.\n",
    "\n",
    "**NOTE:** Direct sums are analagous to *disjoint unions* of subsets. However, no two subspaces may be truly disjoint because they must always contain $\\{0\\}$, so disjointness is replaced by the requirement that their intersection is $\\{0\\}$"
   ]
  },
  {
   "cell_type": "markdown",
   "metadata": {},
   "source": [
    "### 1C Exercises"
   ]
  },
  {
   "cell_type": "markdown",
   "metadata": {},
   "source": [
    "1. Determine whether each of the following subsets are subspaces of $\\mathbb{F}^3$:\n",
    "    - $S \\coloneqq \\{(x_1, x_2, x_3) \\in \\mathbb{F}^3 : x_1 + 2x_2 + 3x_3 = 0\\}$\n",
    "        - $S$ is nonempty by definition\n",
    "        - Let $y = (y_1, y_2, y_3) \\in S$:\n",
    "            $$(x_1 + 2x_2 + 3x_3) + (y_1 + 2y_2 + 3y_3) = 0 + 0 = 0, \\ \\ \\therefore x+y \\in S$$\n",
    "            $$a(x_1 + 2x_2 + 3x_3) = a0 = 0, \\ \\forall a \\in \\mathbb{F}, \\ \\ \\therefore ax \\in S$$\n",
    "        - The set is nonempty and is closed under addition and scalar multiplication, therefore it is a subspace\n",
    "    - $S \\coloneqq \\{(x_1, x_2, x_3) \\in \\mathbb{F}^3 : x_1 + 2x_2 + 3x_3 = 4\\}$\n",
    "        - Let $(x_1, x_2, x_3) = 0$, then $(x_1 + 2x_2 + 3x_3) = 0 \\ne 4$\n",
    "            - The set is empty, therefore it is *not* a subspace\n",
    "    - $S \\coloneqq \\{(x_1, x_2, x_3) \\in \\mathbb{F}^3 : x_1x_2x_3 = 0\\}$\n",
    "        - First, observe that at least one of the 3 coordinates must be $0$\n",
    "        - $S$ is nonempty\n",
    "        - Let $y = (y_1, y_2, y_3) \\in S$:\n",
    "            $$(x_1, x_2, x_3) + (y_1, y_2, y_3) = (x_1 + y_1, x_2 + y_2, x_3 + y_3) \\\\ \\rightarrow \\\n",
    "            (x_1 + y_1)(x_2 + y_2)(x_3 + y_3) = y_1y_2x_3 + y_2x_1x_3 + y_1y_2x_3 + y_3x_1x_2 + y_3y_1x_2 + y_3x_1y_2$$\n",
    "            - Because at least one of the $3$ coordinates must be $0$ and the sum is comprised only of expressions of all $3$ coordinates, the set *is closed* under addition: i.e. $(x_1+y_1)(x_2+y_2)(x_3+y_3)=0, \\ \\ \\therefore x+y \\in S$\n",
    "            - **This is wrong**\n",
    "                - The set *is not closed under addition* because the same coordinate need not be $0$ in *both* $x$ and $y$\n",
    "                    - E.g., $x=(0, 1, 1) \\in S$ and $y = (1, 1, 0) \\in S$, but $x+y = (1, 1, 1) \\notin S$\n",
    "                - $S$ is *not* a subspace\n",
    "    - $S \\coloneqq \\{(x_1, x_2, x_3) \\in \\mathbb{F}^3 : x_1 = 5x_3\\}$\n",
    "        - $S$ is nonempty\n",
    "        - Let $ x = (5x_3, x_2, x_3) \\in S$ and $y = (5y_3, y_2, y_3) \\in S$\n",
    "            $$x + y = \\{5(x_3+y_3), (x_2 + y_2), (x_3 + y_3)\\} \\in S$$\n",
    "            $$a(x) = (a5x_3, ax_2, ax_3) \\ \\rightarrow ax_1 = a5x_3 \\ \\therefore a(x) \\in S$$\n",
    "            - So, $S$ is a subspace\n",
    "\n",
    "\n",
    "        "
   ]
  },
  {
   "cell_type": "markdown",
   "metadata": {},
   "source": [
    "19. Prove or give a counterexample: If $V_1, V_2, U$ are subspaces of $V$ such that: $V_1 + U = V_2 + U$, then $V_1 = V_2$\n",
    "    - This is a great one because it seems obvious that the statement is true but it is acutally *false*!\n",
    "    - First, note that a vector subspace *plus itself* is *itself*. This follows directly from the definition of a vector subspace, specifically *closure under addition*\n",
    "        - Then, let $V_1 = U = \\reals^n$ and $V_2 = \\{0\\}$, it is clear that:\n",
    "        $$V_1 + U \\reals^n + \\reals^n = \\reals^n = \\{0\\} + \\reals^n = V_2 + U$$\n",
    "        - However, $V_1 \\ne V_2$, thus the statement is *false*!"
   ]
  },
  {
   "cell_type": "markdown",
   "metadata": {},
   "source": [
    "20. Find a subspace $W \\subseteq \\mathbb{F}^4$ such that $\\mathbb{F}^4 = U \\oplus W$, for $$U = \\{(x, x, y, y) \\in \\mathbb{F}^4 : x, y \\in \\mathbb{F}\\}$$\n",
    "- $\\mathbb{F}^4 = U \\oplus W \\ \\ \\implies \\ \\ U \\oplus W = \\{(x, y, z, w) \\in \\mathbb{F}^4:x,y,z,w\\in\\mathbb{F}\\}$\n",
    "- $U\\oplus W \\ \\ \\implies \\ \\ U \\cap W = \\{0\\}$\n",
    "- Such a subspace is $$W =\\{(0, z, w, 0)\\in \\mathbb{F}^4 : z, w \\in \\mathbb{F}\\}$$\n",
    "    - $W$ satisfies the properties of a subspace\n",
    "    - $U + W \\equiv U \\oplus W$\n",
    "        - Let $u\\in U, w \\in W : u + w = 0$, then:\n",
    "        $$ u + w = (x + 0, z + x, w + y, y + 0) = (0, 0, 0, 0) \\\\ \\ \\\\ x = 0 \\\\ z = -x = 0 \\\\ w = -y = 0 \\\\ y = 0 \\\\ \\ \\\\ \\therefore U \\oplus W$$"
   ]
  },
  {
   "cell_type": "markdown",
   "metadata": {},
   "source": [
    "21. Find a subspace $W \\subseteq \\mathbb{F}^5$ such that $\\mathbb{F}^5 = U \\oplus W$, for $$U = \\{(x, y, x + y, x - y, 2x) \\in \\mathbb{F}^5 : x, y \\in \\mathbb{F}\\}$$"
   ]
  },
  {
   "cell_type": "markdown",
   "metadata": {},
   "source": [
    "- Such a subspace is: $$ W = \\{(0, 0, 0, z, w, q)\\in\\mathbb{F}^5: z,w,q\\in\\mathbb{F}\\}$$\n",
    "    - $W$ satisfies the properties of a subspace\n",
    "    - $U\\oplus W$ by the same approach of proof given in Q21\n",
    "    "
   ]
  }
 ],
 "metadata": {
  "language_info": {
   "name": "python"
  }
 },
 "nbformat": 4,
 "nbformat_minor": 2
}
