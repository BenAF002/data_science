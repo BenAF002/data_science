{
 "cells": [
  {
   "cell_type": "markdown",
   "metadata": {},
   "source": [
    "### $\\reals^n$ and $\\mathbb{C}^n$"
   ]
  },
  {
   "cell_type": "markdown",
   "metadata": {},
   "source": [
    "### Complex Numbers"
   ]
  },
  {
   "cell_type": "markdown",
   "metadata": {},
   "source": [
    "Complex numbers were invented to facilitate evaluation of the roots of negative numbers. The basic idea is that we express $\\sqrt{-1} = i$ and allow $i$ to obey the usual rules of arithmetic.\n",
    "\n",
    "**Definition 1.1: Complex Numbers**\\\n",
    "- A complex number is an *ordered pair* $(a, b)$, where $a, b \\in \\reals$, expressed as: $$a + bi$$\n",
    "- The set of all complex numbers is denoted by $\\mathbb{C}$: $$\\mathbb{C} = \\{a + bi \\ : \\ a,b \\in \\reals \\}$$\n",
    "- Addition and multiplication on $\\mathbb{C}$ are defined by:\n",
    "$$\n",
    "(a + bi) + (c + di) = (a + c) + (b + d)i \\\\ \\ \\\\\n",
    "(a + bi)(c + di) = (ac - bd) + (ad + bc)i\n",
    "$$"
   ]
  },
  {
   "cell_type": "markdown",
   "metadata": {},
   "source": [
    "If $a\\in\\reals$ then we may express $a = a + 0i$. Thus, $\\reals$ is a **subset** of $\\mathbb{C}$.\\\n",
    "We may also express $bi = 0 + bi$ and $i = 0 + 1i$"
   ]
  },
  {
   "cell_type": "markdown",
   "metadata": {},
   "source": [
    "**Properties of Complex Arithmetic (1.3)**:\n",
    "- **Commutativity**:\n",
    "    - $\\alpha + \\beta = \\beta + \\alpha, \\ \\ \\forall \\alpha, \\beta \\in \\mathbb{C}$\n",
    "    - $\\alpha\\beta = \\beta\\alpha, \\ \\ \\forall \\alpha, \\beta \\in \\mathbb{C}$\n",
    "- **Associativity**:\n",
    "    - $(\\alpha + \\beta) + \\lambda = \\alpha + (\\beta + \\lambda), \\ \\ \\forall \\alpha, \\beta, \\lambda \\in \\mathbb{C}$\n",
    "    - $(\\alpha\\beta)\\lambda = \\alpha(\\beta\\lambda), \\ \\ \\forall \\alpha, \\beta, \\lambda \\in \\mathbb{C}$\n",
    "- **Identities**:\n",
    "    - $\\lambda + 0 = \\lambda, \\ \\ \\forall \\lambda \\in \\mathbb{C}$\n",
    "    - $\\lambda 1 = \\lambda, \\ \\ \\forall \\lambda \\in \\mathbb{C}$\n",
    "- **Additive Inverse**:\n",
    "    - $\\forall \\alpha\\in\\mathbb{C}, \\ \\ \\exists \\ \\beta\\in\\mathbb{C} \\ : \\ \\alpha + \\beta = 0$\n",
    "- **Multiplicative Inverse**:\n",
    "    - $\\forall \\alpha\\ne 0 \\ \\in \\ \\mathbb{C}, \\ \\ \\exists \\ \\beta\\in\\mathbb{C} \\ : \\ \\alpha\\beta=1$\n",
    "- **Distributive Property**:\n",
    "    - $\\lambda(\\alpha + \\beta) = \\lambda\\alpha + \\lambda\\beta, \\ \\ \\forall \\lambda, \\alpha, \\beta \\in \\mathbb{C}$"
   ]
  },
  {
   "cell_type": "markdown",
   "metadata": {},
   "source": [
    "**Definition (1.5): $-\\alpha$, subtraction, $1/\\alpha$, division**:\n",
    "- $-\\alpha$ denotes the additive inverse of $\\alpha$. Thus, $-\\alpha$ is a unique complex number such that: $$\\alpha + (-\\alpha) = 0$\n",
    "- *Subtraction* on $\\mathbb{C}$ is defined by: $$\\beta - \\alpha = \\beta + (-\\alpha)$$\n",
    "- Let $1/\\alpha$ denote the multiplicative inverse of $\\alpha, \\ \\forall \\alpha \\ne 0$. Thus $1/\\alpha$ is a unique complex number such that: $$\\alpha(1/\\alpha) = 1$$\n",
    "- *Division* by $\\alpha$ is defined by: $$\\beta/\\alpha = \\beta(1/\\alpha), \\ \\ \\forall \\alpha \\ne 0$$"
   ]
  },
  {
   "cell_type": "markdown",
   "metadata": {},
   "source": [
    "### $\\mathbb{F}$ Notation\n",
    "Throughout the text $\\mathbb{F}$ is used to denote *either* $\\reals$ or $\\mathbb{C}$ interchangeably.\\\n",
    "This is done because both $\\reals$ and $\\mathbb{C}$ are examples of ***fields*** and thus they share many of the same properties."
   ]
  },
  {
   "cell_type": "markdown",
   "metadata": {},
   "source": [
    "### Lists"
   ]
  },
  {
   "cell_type": "markdown",
   "metadata": {},
   "source": [
    "**Definition (1.8): List, Length**\\\n",
    "- A *list* of *length* $n$ is an ordered c"
   ]
  }
 ],
 "metadata": {
  "language_info": {
   "name": "python"
  }
 },
 "nbformat": 4,
 "nbformat_minor": 2
}
