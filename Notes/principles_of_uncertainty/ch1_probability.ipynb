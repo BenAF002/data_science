{
 "cells": [
  {
   "cell_type": "markdown",
   "metadata": {},
   "source": [
    "### Coherence\n",
    "**Coherence** is a minimal set of requirements on probabilistic opinions. It summarizes the core axioms of a probability. To be coherent, a probability measurement must satisfy these conditions:\n",
    "1. $P(A) \\ge 0, \\ \\forall A$\n",
    "2. $P(S) = 1$, where $S$ is an event with certainty\n",
    "3. $P(A\\cup B) = P(A) + P(B)$, where $A$ and $B$ are *disjoint* events"
   ]
  },
  {
   "cell_type": "markdown",
   "metadata": {},
   "source": [
    "### Disjoint Events\n",
    "An event $A$ and its complement $\\bar{A}$ are necessarily disjoint, thus:\n",
    "$$P(A\\cup \\bar A) = P(A) + P(\\bar A)$$\n",
    "The union of an event and its complement is *exhaustive*, thus:\n",
    "$$\n",
    "P(A\\cup \\bar A) = P(S) = 1 \\\\ \\ \\\\\n",
    "\\implies  1 - P(\\bar A) = P(A)\n",
    "$$\n"
   ]
  },
  {
   "cell_type": "markdown",
   "metadata": {},
   "source": []
  }
 ],
 "metadata": {
  "language_info": {
   "name": "python"
  }
 },
 "nbformat": 4,
 "nbformat_minor": 2
}
