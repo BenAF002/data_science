{
 "cells": [
  {
   "cell_type": "markdown",
   "metadata": {},
   "source": [
    "## Description\n",
    "\n",
    "Notes on Generative Adversarial Networks (GANs)"
   ]
  },
  {
   "cell_type": "markdown",
   "metadata": {},
   "source": [
    "## Imports"
   ]
  },
  {
   "cell_type": "code",
   "execution_count": 1,
   "metadata": {},
   "outputs": [],
   "source": [
    "import numpy as np\n",
    "import matplotlib.pyplot as plt"
   ]
  },
  {
   "cell_type": "markdown",
   "metadata": {},
   "source": [
    "## Overview"
   ]
  },
  {
   "cell_type": "markdown",
   "metadata": {},
   "source": [
    "Fundamental principal behing GANs is competition between **two** neural nets - a ***Generator*** and a ***Discriminator***. The generator *generates* an output and the discriminator tries to identify whether the output is real or correct. In a sense it's like training by optimizing a loss function with a target except that instead of a target we have a second model that is training to identify whether the output or prediction matches the target... so the target is like the discriminator's expectations for the output or prediction. The feadback of the discriminator trains the generator to generate improving outputs. "
   ]
  },
  {
   "cell_type": "markdown",
   "metadata": {},
   "source": [
    "## Maths Deep Dive"
   ]
  },
  {
   "cell_type": "markdown",
   "metadata": {},
   "source": [
    "High level, what are discriminative and generative models?\n",
    "- Discriminative: Learn conditional probability of target variable given an input variable $$\\text{P}(Y|X=x)$$\n",
    "- Generative: Learn joint probability distribution of the input variable and output (target) variable, draws predictions using condtional probability of the target variable given the input variable via Baye's theorem $$\\text{P}(Y|X) = \\text{P}(X, \\ Y) / \\text{P}(X)$$\n",
    "\n",
    "Generative models allow us to *generate* new input data; this is because they learn the distribution of the input data, not just the output (or target) data."
   ]
  },
  {
   "cell_type": "markdown",
   "metadata": {},
   "source": [
    "Let's define $Z$ as noise, i.e. noise data, and $X$ as original input data. $Z$ is used as an input to the generator, $G(\\cdot)$, such that $G(z)$ yields a distribution which we seek to approximate the distribution of $X$. Because the objective is to replicate the distribution of $X$, the *support* of $G(z)$ must be the same as the *domain* of $X$. This probability density function is denoted $p_g(x)$ and is defined over the domain of $x$."
   ]
  },
  {
   "cell_type": "markdown",
   "metadata": {},
   "source": [
    "Let's clear up some notation regarding the propability distributions:\n",
    "- $p_g(x)$ -- the probability distribution of the generated data\n",
    "- $p_{\\text{data}}(x)$ -- the probability distribution of the original data\n",
    "- $p_z(z)$ -- the probability distribution of the noise data"
   ]
  },
  {
   "cell_type": "markdown",
   "metadata": {},
   "source": [
    "### Objectives and Value Function"
   ]
  },
  {
   "cell_type": "markdown",
   "metadata": {},
   "source": [
    "Now, let's define the *objectives* of the generator and discriminator in plain terms:\n",
    "- Generator Objective: Learn the distribution of the original data $X$\n",
    "- Discriminator Objective: Learn the probability that input data belongs to the original dataset\n",
    "\n",
    "So, the discriminator will take input from the generator *and* from the original data and attempt to determine the source of the data; i.e., predict $1$ for authentic data and $0$ for generated data."
   ]
  },
  {
   "cell_type": "markdown",
   "metadata": {},
   "source": [
    "This is a two-player ***MiniMax Game*** - a game wherein one player attempts to maximize their probability of winning while to other attempts to minimize their opponent's probability of winning. This is expressed in the following *Value Function* from the GAN paper:\n",
    "$$\\min_{G}\\max_{D}V(D,G) = \\mathbb{E}_{x\\sim p_{\\text{data}}(x)}[\\log D(x)] + \\mathbb{E}_{z\\sim p_z(z)}[\\log (1 - D(G(z)))]$$"
   ]
  },
  {
   "cell_type": "markdown",
   "metadata": {},
   "source": [
    "- $\\min_G$ denotes that we choose the *function* $G(\\cdot)$ such that $V(D,G)$ is minimized\n",
    "- $\\max_D$ denotes that we choose the *function* $D(\\cdot)$ such that $V(D,G)$ is maximized"
   ]
  },
  {
   "cell_type": "markdown",
   "metadata": {},
   "source": [
    "Let's look at a similar, common loss function, *Binary Cross-Entropy*:\n",
    "$$\\mathcal{L} = -\\sum y\\ln \\hat{y} + (1-y) \\ln (1- \\hat{y})$$\n",
    "- when $y=1$, $\\hat{y} = D(x) \\implies \\mathcal{L} = \\ln [D(x)]$\n",
    "- when $y=0$, $\\hat{y} = D(G(z)) \\implies \\mathcal{L} = \\ln [1-D(G(z))]$"
   ]
  },
  {
   "cell_type": "markdown",
   "metadata": {},
   "source": [
    "Now, the $\\mathbb{E}$ in the value function denotes the expectation of each expression on the subscripted distribution of the independent variable. So, $\\mathbb{E}_{x\\sim p_{\\text{data}}(x)}[\\log D(x)]$ is the expected value of $\\log D(x)$ for $x$ drawn from a distribution of $p_{\\text{data}}(x)$. Likewise, $\\mathbb{E}_{z\\sim p_z(z)}[\\log (1 - D(G(z)))]$ is the expected value of $\\log(1-D(G(z)))$ for $z$ drawn from a distribution of $p_z(z)$.\n",
    "\n",
    "So, another way we may express the value function is:\n",
    "$$\\sum p_{\\text{data}}(x) \\ln [D(x)] + \\sum p_z(z)\\ln[1-D(G(z))], \\ \\ \\text{for discrete} \\ x, \\ z$$\n",
    "$$\\int p_{\\text{data}}(x) \\ln [D(x)] dx + \\int p_z(z)\\ln[1-D(G(z))] dz, \\ \\ \\text{for continuous} \\ x, \\ z$$\n",
    "\n",
    "So, the value function overwhich we are optimizing is nothing more than the binary cross entropy loss function over in-distribution and out-of-distribution variables $x$ and $z$."
   ]
  },
  {
   "cell_type": "markdown",
   "metadata": {},
   "source": [
    "Ok, so why $\\min_G$ and $\\max_D$? \n",
    "\n",
    "Again, the objective of the discriminator is to correctly predict 1 when its input is $x$ and 0 when its input is $G(z)$. So, $$D(x) \\rightarrow 1 \\ \\implies \\log[D(x)] \\rightarrow 0 \\\\ \\ \\\\ D(G(z)) \\rightarrow 0 \\ \\implies \\log[1-D(G(z))] \\rightarrow -\\infty$$\n",
    "Meanwhile, the objective of the generator is to generate data from a distribution that looks like the original data's distribution. So, $$D(G(z)) \\rightarrow 1 \\ \\implies \\log[1-D(G(z))] \\rightarrow 0$$"
   ]
  },
  {
   "cell_type": "markdown",
   "metadata": {},
   "source": [
    "### Training Loop"
   ]
  },
  {
   "cell_type": "markdown",
   "metadata": {},
   "source": [
    "The GAN paper describes a nested training loop with a hyper-parameter $k$ which designates the number of iterations for the inner loop (paper uses $k=1$). Here's the pseudocode algorithm:\n",
    "\n",
    "**for** `iter` in `training_iterations`:\\\n",
    "&emsp;**for** `step` in `k`:\\\n",
    "        &emsp;&emsp; - Sample minibatch of $m$ noise samples ${z^{(1)}, ..., z^{(m)}}$ from noise prior $p_g(z)$\\\n",
    "        &emsp;&emsp; - Sample minibatch of $m$ examples ${x^{(1)}, ..., x^{(m)}}$ from original data $p_{\\text{data}}(x)$\\\n",
    "        &emsp;&emsp; - Update the discriminator by ***ascending*** its gradient:\n",
    "        $$\\nabla_{\\theta_d}\\frac{1}{m}\\sum^m_{i=1} [ \\log D(x^{(i)}) + \\log(1 - D(G(z^{(i)})))]$$\n",
    "&emsp;**end for**\\\n",
    "&emsp; - Sample minibatch of $m$ noise samples ${z^{(1)}, ..., z^{(m)}}$ from noise prior $p_g(z)$\\\n",
    "&emsp; - Update the generator by ***descending*** its gradient:\n",
    "        $$\\nabla_{\\theta_g}\\frac{1}{m} \\sum^m_{i=1} \\log[1-D(G(z^{(i)}))]$$\n",
    "**end for**\n",
    "\n",
    "I'll worry about the derivation of these gradients later (backwards through and derive partial derivatives).\n",
    "\n",
    "**NOTE:** We are using gradient *ascent* for the discriminator's updating rule and *descent* for the generator's updating rule. Why? Because the discriminator's objective is to *maximize* the loss function while the generator's objective is the *minimize* the loss function.\n",
    "\n",
    "So, at each iteration, we must update *both* the discriminator and the generator. I do not have a strong intuition at this point for whether the order of updating matters. Perhaps we could update the generator before updating the discriminator and achieve similar results...?"
   ]
  },
  {
   "cell_type": "markdown",
   "metadata": {},
   "source": [
    "### Global Optimality of $p_g = p_\\text{data}$"
   ]
  },
  {
   "cell_type": "markdown",
   "metadata": {},
   "source": [
    "The objective of the generator is to produce a distiribution $p_g(z)$ that replicates, *converges to*, the distribution of the data $p_\\text{data}$. If the training rule of $\\min_G$ achieves this convergence, then this convergence must occur at the global minimum of the value function. From the paper:\n",
    "\n",
    "**Proposition 1:** For $G$ fixed, the optimal discriminator $D$ is\n",
    "$$D^*_G(x) = \\frac{p_\\text{data}(x)}{p_\\text{data}(x) + p_g(x)}$$\n",
    "*Proof:* \\\n",
    "The training criterion for the discriminator $D$, given any generator $G$, is to maximize the quantity $V(G,D)$. Because $G$ is fixed as a constant and because the support of $G(z)$ is the domain of $x$, we may express $V(G,D)$ as:\n",
    "$$V(G,D) = \\int_x p_\\text{data}(x) \\log[D(x)]dx + \\int_z p_z(z) \\log[1-D(g(z))]dz \\\\ \\ \\\\ = \\int_x p_\\text{data}(x) \\log[D(x)] + p_g(x)\\log[1-D(x)]dx$$\n",
    "Now, for any $(a, b) \\in \\reals^2 \\ne {0, 0}$, the function $y \\rightarrow a\\log(y) + b\\log(1-y)$ achieves it's maximum within $[0,1]$ at $\\frac{a}{a+b}$. Because the support for the discriminator and the generator is defined on $[0,1]$, this statement proves the optimality of $D^*_G(x)$."
   ]
  },
  {
   "cell_type": "markdown",
   "metadata": {},
   "source": [
    "Restating the value function with fixed $G$ and optimal $D$: \n",
    "$$C(G) = \\max_D V(G,D) = \\mathbb{E}_{x\\sim p_\\text{data}}[\\log D^*_G(x)] + \\mathbb{E}_{x\\sim P_g} [\\log(1-D^*_G(x))]$$"
   ]
  },
  {
   "cell_type": "markdown",
   "metadata": {},
   "source": [
    "**Theorem 1:** The global minimum of the virtual training criterion $C(G)$ is achieved if and only if $p_g = p_\\text{data}$. At that point, $C(G)$ achieves the value $-\\log 4$\n",
    "\n",
    "*Proof:*\\\n",
    "For $p_g = p_\\text{data}$, $D^*_G(x) = \\frac{p_\\text{data}}{2p_\\text{data}} = \\frac{1}{2}$; thus, $C(G) = 2\\log\\frac{1}{2} = -\\log 4$"
   ]
  },
  {
   "cell_type": "markdown",
   "metadata": {},
   "source": [
    "Now, the next part of the proof leans on a couple new concepts: Kullback-Leibler divergence and Jensen-Shannon divergence."
   ]
  },
  {
   "cell_type": "markdown",
   "metadata": {},
   "source": [
    "**KL Divergence**\n",
    "\n",
    "Kullback-Leibler (KL) divergence is a measure of *statistical distance*. It measures the extent to which one reference probability distribution $P$ is different from a second probability distribution $Q$. It is defined as:\n",
    "$$D_\\text{KL}(P||Q) = \\sum_{x\\in \\chi} P(x) \\log \\left(\\frac{P(x)}{Q(x)}\\right)$$\n",
    "It may be interpreted as the expected *excess surprise* from using $Q$ as a model instead of $P$ when the actual distribution of $x$ is $P$."
   ]
  },
  {
   "cell_type": "markdown",
   "metadata": {},
   "source": [
    "**JS Divergence**\n",
    "\n",
    "Jensen-Shannon (JS) divergence is a measure of the similarity between two probability distributions. It is based on KL divergence with some notable differences. For KL divergence $D(P||Q)$, the JS divergence is defined as:\n",
    "$$ \\text{JSD}(P||Q) = \\frac{1}{2}D(P||M) + \\frac{1}{2}D(Q||M)$$\n",
    "where $M=\\frac{1}{2}(P+Q)$ is a mixture distribution of $P$ and $Q$."
   ]
  },
  {
   "cell_type": "markdown",
   "metadata": {},
   "source": [
    "Now, let $P=p_\\text{data}$ and $Q=p_g$, so $M = \\frac{1}{2}(p_\\text{data} + p_g)$; then,\n",
    "$$\\text{JSD}(P||Q) = \\frac{1}{2} D(p_\\text{data} || \\frac{p_\\text{data} + p_g}{2}) + \\frac{1}{2} D(p_g || \\frac{p_\\text{data} + p_g}{2}) \\\\ \\ \\\\ = \\frac{1}{2}\\mathbb{E}_{x\\sim p_{\\text{data}}(x)}\\log \\left(2\\frac{p_\\text{data}(x)}{p_\\text{data}(x) + p_g} \\right) + \\frac{1}{2}\\mathbb{E}_{x\\sim p_g}\\log \\left( 2\\frac{p_g}{p_\\text{data}(x) + p_g} \\right)$$\n",
    "Factoring out $2$ and $\\frac{1}{2}$:\n",
    "$$= \\mathbb{E}_{x\\sim p_{\\text{data}}(x)}\\log \\left(\\frac{p_\\text{data}(x)}{p_\\text{data}(x) + p_g} \\right) + \\mathbb{E}_{x\\sim p_g}\\log \\left( \\frac{p_g}{p_\\text{data}(x) + p_g} \\right) - 2\\ln 2 \\\\ \\ \\\\ = 2 \\text{JSD}(p_\\text{data}||p_g) - 2\\ln 2$$"
   ]
  },
  {
   "cell_type": "markdown",
   "metadata": {},
   "source": [
    "**NOTE:** $\\frac{p_g}{p_\\text{data}(x) + p_g} = 1 - \\frac{p_\\text{data}(x)}{p_\\text{data}(x) + p_g}$"
   ]
  },
  {
   "cell_type": "markdown",
   "metadata": {},
   "source": [
    "Finally, a crucially property of JSD is that the JSD between two distributions is *always* non-negative and is zero *only* when the distributions are equal. Therefore, $-2\\ln 2 = -\\log 4$ is the global minimum of $C(G)$ and the only solution is $p_g=p_\\text{data}$, i.e. the generative model perfectly replicating the data generating process."
   ]
  },
  {
   "cell_type": "markdown",
   "metadata": {},
   "source": [
    "## Demo\n",
    "Fleshed-out demo from https://github.com/luisguiserrano/gans"
   ]
  },
  {
   "cell_type": "markdown",
   "metadata": {},
   "source": [
    "Objective of this simple GAN is to learn to generate 2x2 matrices with a diagonal of ones and off-diagonal zeros. Such a matrix is called a `face` while a randomly generated 2x2 matrix is called `noise`.\n",
    "\n",
    "Also, my notation isn't great in this section, I broadly use $\\theta$ and $\\mathbf{W}$ to denote model weights interchangeably because the paper uses $\\theta$ when referring to weights."
   ]
  },
  {
   "cell_type": "code",
   "execution_count": 6,
   "metadata": {},
   "outputs": [],
   "source": [
    "# plotting function\n",
    "def view_samples(samples, m, n):\n",
    "    fig, axes = plt.subplots(figsize=(10, 10), nrows=m, ncols=n, sharey=True, sharex=True)\n",
    "    for ax, img in zip(axes.flatten(), samples):\n",
    "        ax.xaxis.set_visible(False)\n",
    "        ax.yaxis.set_visible(False)\n",
    "        im = ax.imshow(1-img.reshape((2,2)), cmap='Greys_r')  \n",
    "    return fig, axes"
   ]
  },
  {
   "cell_type": "code",
   "execution_count": 9,
   "metadata": {},
   "outputs": [],
   "source": [
    "# hyperparameters\n",
    "lr = 1e3"
   ]
  },
  {
   "cell_type": "markdown",
   "metadata": {},
   "source": [
    "Sigmoid function: $$ \\sigma(x) = \\frac{1}{1+e^{-x}}$$"
   ]
  },
  {
   "cell_type": "code",
   "execution_count": 8,
   "metadata": {},
   "outputs": [],
   "source": [
    "def sigmoid(x): return 1 / (1 + np.exp(-x))"
   ]
  },
  {
   "cell_type": "markdown",
   "metadata": {},
   "source": [
    "## Discriminator"
   ]
  },
  {
   "cell_type": "code",
   "execution_count": 499,
   "metadata": {},
   "outputs": [],
   "source": [
    "# discriminator NN\n",
    "class Discriminator():\n",
    "    def __init__(self):\n",
    "        self.weights = np.random.normal(size=4).reshape(2, 2)\n",
    "        self.bias = np.random.normal() \n",
    "\n",
    "    def forward(self, x):\n",
    "        \"\"\"Forward pass with sigmoid function\"\"\"\n",
    "        return sigmoid(x @ self.weights + self.bias)\n",
    "    \n",
    "    def error_from_face(self, face):\n",
    "        \"\"\"Loss from input image\"\"\"\n",
    "        prediction = self.forward(face)\n",
    "        return -np.log(prediction)  # train to predict 1, so loss is -log(prediction) i.e. -log(D(x))\n",
    "    \n",
    "    def derivatives_from_face(self, face):\n",
    "        pred = self.forward(face)\n",
    "        derivatives_weights = - face.T @ (1 - pred)\n",
    "        derivative_bias = - (1 - pred)\n",
    "        return derivatives_weights, derivative_bias\n",
    "    \n",
    "    def update_from_face(self, x):\n",
    "        dw, db = self.derivatives_from_face(x)\n",
    "        # decrement bc the gradients are negative (ascend w.r.t. faces -- we want to move in the opposite direction)\n",
    "        self.weights -= lr * dw\n",
    "        self.bias -= lr * db\n",
    "\n",
    "    def error_from_noise(self, noise):\n",
    "        pred = self.forward(noise)\n",
    "        return -np.log(1 - pred)  # i.e. -log(1 - D(G(z)))\n",
    "    \n",
    "    def derivatives_from_noise(self, noise):\n",
    "        pred = self.forward(noise)\n",
    "        derivatives_weights = noise.T @ pred\n",
    "        derivatives_bias = pred\n",
    "        return derivatives_weights, derivatives_bias\n",
    "    \n",
    "    def update_from_noise(self, noise):\n",
    "        dw, db = self.derivatives_from_noise(noise)\n",
    "        # descend w.r.t. noise\n",
    "        self.weights -= lr * dw\n",
    "        self.bias -= lr * db"
   ]
  },
  {
   "cell_type": "markdown",
   "metadata": {},
   "source": [
    "### Math for Discriminator Gradients"
   ]
  },
  {
   "cell_type": "markdown",
   "metadata": {},
   "source": [
    "Note that this implimentation separates the value function into an error component for when the input is a face, $\\log[D(x)]$, and for when the input is noise, $\\log[1-D(G(z))]$. Then, we compute the gradients for each instance..."
   ]
  },
  {
   "cell_type": "markdown",
   "metadata": {},
   "source": [
    "The derivative of the sigmoid function w.r.t. $x$: $$\\frac{d}{dx}\\sigma(x) = \\sigma(x)(1-\\sigma(x))$$\n",
    "\n",
    "Deriving `derivatives_from_face`:\n",
    "$$\\frac{\\partial \\mathcal{L}}{\\partial \\theta_d} = \\frac{\\partial}{\\partial \\theta_d} \\left[ -\\ln\\left(\\sigma(\\mathbf{X}\\mathbf{W} + b)\\right) \\right] \\\\ \\ \\\\ = \\frac{-1}{\\sigma(\\mathbf{X}\\mathbf{W} + b)} \\mathbf{X^\\intercal} \\left[ \\sigma(\\mathbf{X}\\mathbf{W} + b) (1 - \\sigma(\\mathbf{X}\\mathbf{W} + b)) \\right] \\\\ \\ \\\\ = - \\mathbf{X}^\\intercal (1 - \\sigma(\\mathbf{X}\\mathbf{W} + b)) \\\\ \\ \\\\ \\frac{\\partial \\mathcal{L}}{\\partial b} = - (1 - \\sigma(\\mathbf{X}\\mathbf{W} + b))$$\n",
    "\n",
    "Deriving `derivatives_from_noise`:\n",
    "$$\\frac{\\partial \\mathcal{L}}{\\partial \\theta_d} = \\frac{\\partial}{\\partial \\theta_d} \\left[ -\\ln\\left(1 - \\sigma(\\mathbf{X}\\mathbf{W} + b)\\right) \\right] \\\\ \\ \\\\ = \\frac{-1}{1 - \\sigma(\\mathbf{X}\\mathbf{W} + b)} \\mathbf{X^\\intercal}\\left[ - \\sigma(\\mathbf{X}\\mathbf{W} + b) (1 - \\sigma(\\mathbf{X}\\mathbf{W} + b)) \\right] \\\\ \\ \\\\ = \\mathbf{X}^\\intercal \\sigma(\\mathbf{X}\\mathbf{W} + b) \\\\ \\ \\\\ \\frac{\\partial \\mathcal{L}}{\\partial b} = \\sigma(\\mathbf{X}\\mathbf{W} + b)$$"
   ]
  },
  {
   "cell_type": "markdown",
   "metadata": {},
   "source": [
    "## Generator"
   ]
  },
  {
   "cell_type": "code",
   "execution_count": 500,
   "metadata": {},
   "outputs": [],
   "source": [
    "# for a scalar noise parameter z\n",
    "class Generator():\n",
    "    def __init__(self):\n",
    "        self.weights = np.random.normal(size=4).reshape(2, 2)\n",
    "        self.biases = np.random.normal(size=4).reshape(2, 2)\n",
    "    \n",
    "    def forward(self, z):\n",
    "        return sigmoid(z * self.weights + self.biases)\n",
    "    \n",
    "    def error(self, z, discriminator):\n",
    "        gz = self.forward(z)\n",
    "        dgz = discriminator.forward(gz)\n",
    "        return -np.log(dgz)  # i.e. -log(D(G(z))) -- as D(G(z)) --> 1, error --> 0\n",
    "    \n",
    "    def derivatives(self, z, discriminator):\n",
    "        gz = self.forward(z)\n",
    "        dgz = discriminator.forward(gz)\n",
    "        derivatives_weights = z.T @ gz * (1 - gz) * -(1 - dgz) @ discriminator.weights.T # (dgz) @ discriminator.weights.T * (z.T @ gz * (1 - gz)).T\n",
    "        derivatives_bias = gz * (1 - gz) * -(1 - dgz) @ discriminator.weights.T\n",
    "        return derivatives_weights, derivatives_bias\n",
    "    \n",
    "    def update(self, z, discriminator):\n",
    "        dw, db = self.derivatives(z, discriminator)\n",
    "        self.weights -= lr * dw\n",
    "        self.biases -= lr * db"
   ]
  },
  {
   "cell_type": "markdown",
   "metadata": {},
   "source": [
    "### Math for Generator Derivatives"
   ]
  },
  {
   "cell_type": "markdown",
   "metadata": {},
   "source": [
    "$$\\frac{\\partial \\mathcal{L}}{\\partial \\theta_g} = \\frac{\\partial}{\\partial \\theta_g} -\\log(D(G(z))) \\\\ \\ \\\\ = \\frac{-1}{D(G(z))} \\cdot \\frac{-\\partial}{\\partial \\theta_g} D(G(z))$$"
   ]
  },
  {
   "cell_type": "markdown",
   "metadata": {},
   "source": [
    "$$\\frac{-\\partial}{\\partial \\theta_g} D(G(z)) = -\\frac{\\partial D(G(z))}{\\partial G(z)}\\frac{\\partial G(z)}{\\partial \\theta_g}$$"
   ]
  },
  {
   "cell_type": "markdown",
   "metadata": {},
   "source": [
    "Leaning on the derivation presented for the discriminator:\n",
    "$$\\frac{\\partial D(G(z))}{\\partial G(z)} = \\frac{\\partial}{\\partial G(z)} \\sigma(G(z)\\mathbf{W}_d + b) \\\\ \\ \\\\ = \\sigma(G(z)\\mathbf{W}_d + b)\\left[1 - \\sigma(G(z)\\mathbf{W}_d + b) \\right]\\mathbf{W}_d^\\intercal$$"
   ]
  },
  {
   "cell_type": "markdown",
   "metadata": {},
   "source": [
    "Then,\n",
    "$$\\frac{\\partial G(z)}{\\partial \\theta_g} = \\frac{\\partial}{\\partial \\theta_g} \\sigma(\\mathbf{Z}\\mathbf{W}_g + \\mathbf{B}) \\\\ \\ \\\\ = \\mathbf{Z}^\\intercal \\sigma(\\mathbf{Z}\\mathbf{W}_g + \\mathbf{B})\\left[1 - \\sigma(\\mathbf{Z}\\mathbf{W}_g + \\mathbf{B})\\right]$$"
   ]
  },
  {
   "cell_type": "markdown",
   "metadata": {},
   "source": [
    "Putting everything together:\n",
    "$$\\frac{\\partial \\mathcal{L}}{\\partial \\theta_g} = -\\left[1 - \\sigma(G(z)\\mathbf{W}_d + b)\\right]\\mathbf{W}_d^\\intercal \\ \\cdot \\ \\mathbf{Z}^\\intercal \\sigma(\\mathbf{Z}\\mathbf{W}_g + \\mathbf{B})\\left[1 - \\sigma(\\mathbf{Z}\\mathbf{W}_g + \\mathbf{B})\\right]$$\n",
    "In other words:\n",
    "$$-[1 - D(G(z))]\\mathbf{W}_d^\\intercal \\cdot \\mathbf{Z}^\\intercal G(z)(1 - G(z))$$"
   ]
  },
  {
   "cell_type": "markdown",
   "metadata": {},
   "source": [
    "However, I think we have to switch the ordering of the matrix operation, resulting in:\n",
    "$$\\mathbf{Z}^\\intercal G(z)(1 - G(z)) \\cdot - [1 -  D(G(z))]\\mathbf{W}_d^\\intercal$$"
   ]
  },
  {
   "cell_type": "markdown",
   "metadata": {},
   "source": [
    "Then for the partial derivative w.r.t. the bias:\n",
    "$$\\frac{\\partial \\mathcal{L}}{\\partial \\mathbf{B}} = G(z)(1 - G(z)) \\cdot -[1 - D(G(z))]\\mathbf{W}_d^\\intercal$$ "
   ]
  },
  {
   "cell_type": "markdown",
   "metadata": {},
   "source": [
    "## Training"
   ]
  },
  {
   "cell_type": "code",
   "execution_count": 501,
   "metadata": {},
   "outputs": [],
   "source": [
    "# \"data\"\n",
    "faces = [\n",
    "    np.array([[0.95, 0.07], [0.04, 0.92]]),\n",
    "    np.array([[1, 0], [0, 1]]),\n",
    "    np.array([[0.88, 0.2], [0.08, 0.98]]),\n",
    "    np.array([[0.8, 0.2], [0.1, 0.9]])\n",
    "]\n",
    "# hyperparameters\n",
    "np.random.seed(42)\n",
    "lr = 0.01\n",
    "epochs = 1000"
   ]
  },
  {
   "cell_type": "code",
   "execution_count": 513,
   "metadata": {},
   "outputs": [
    {
     "data": {
      "image/png": "[encoded data removed]",
      "text/plain": [
       "<Figure size 640x480 with 1 Axes>"
      ]
     },
     "metadata": {},
     "output_type": "display_data"
    },
    {
     "data": {
      "text/plain": [
       "Text(0.5, 1.0, 'Discriminator error function')"
      ]
     },
     "execution_count": 513,
     "metadata": {},
     "output_type": "execute_result"
    },
    {
     "data": {
      "image/png": "[encoded data removed]",
      "text/plain": [
       "<Figure size 640x480 with 1 Axes>"
      ]
     },
     "metadata": {},
     "output_type": "display_data"
    }
   ],
   "source": [
    "# The GAN\n",
    "D = Discriminator()\n",
    "G = Generator()\n",
    "\n",
    "# For the error plot\n",
    "errors_discriminator = []\n",
    "errors_generator = []\n",
    "\n",
    "for epoch in range(epochs):\n",
    "        for face in faces:\n",
    "                # face = face.reshape(4)\n",
    "                # print(face)\n",
    "                # Update the discriminator weights from the real face\n",
    "                D.update_from_face(face)\n",
    "        \n",
    "                # generate noise\n",
    "                z = np.random.random((2, 2))\n",
    "\n",
    "                # Calculate the discriminator error\n",
    "                errors_discriminator.append(sum(D.error_from_face(face) + D.error_from_noise(z)).sum())\n",
    "                \n",
    "                # Calculate the generator error\n",
    "                errors_generator.append(G.error(z, D).sum())\n",
    "                \n",
    "                # Build a fake face\n",
    "                noise = G.forward(z)\n",
    "                \n",
    "                # Update the discriminator weights from the fake face\n",
    "                D.update_from_noise(noise)\n",
    "        \n",
    "                # Update the generator weights from the fake face\n",
    "                G.update(z, D)\n",
    "\n",
    "plt.plot(errors_generator)\n",
    "plt.title(\"Generator error function\")\n",
    "plt.legend(\"gen\")\n",
    "plt.show()\n",
    "plt.plot(errors_discriminator)\n",
    "plt.legend('disc')\n",
    "plt.title(\"Discriminator error function\")"
   ]
  },
  {
   "cell_type": "code",
   "execution_count": 516,
   "metadata": {},
   "outputs": [
    {
     "name": "stdout",
     "output_type": "stream",
     "text": [
      "[[0.59117894 0.18110771]\n",
      " [0.152055   0.72334414]]\n",
      "[[0.58462073 0.18860822]\n",
      " [0.16684791 0.71589334]]\n",
      "[[0.61186656 0.15874304]\n",
      " [0.11197165 0.74628114]]\n",
      "[[0.62627869 0.14430186]\n",
      " [0.0894706  0.76174256]]\n"
     ]
    },
    {
     "data": {
      "image/png": "[encoded data removed]",
      "text/plain": [
       "<Figure size 1000x1000 with 4 Axes>"
      ]
     },
     "metadata": {},
     "output_type": "display_data"
    }
   ],
   "source": [
    "generated_images = []\n",
    "for i in range(4):\n",
    "    z = np.random.random()\n",
    "    generated_image = G.forward(z)\n",
    "    generated_images.append(generated_image)\n",
    "_ = view_samples(generated_images, 1, 4)\n",
    "for i in generated_images:\n",
    "    print(i)"
   ]
  },
  {
   "cell_type": "markdown",
   "metadata": {},
   "source": [
    "## Huh"
   ]
  },
  {
   "cell_type": "markdown",
   "metadata": {},
   "source": [
    "SO, this is really funky. The error progression is kinda wild but it looks like we end up somewhere in the right place..... more to investigate but good enough for now..."
   ]
  },
  {
   "cell_type": "markdown",
   "metadata": {},
   "source": []
  }
 ],
 "metadata": {
  "kernelspec": {
   "display_name": "anaconda",
   "language": "python",
   "name": "python3"
  },
  "language_info": {
   "codemirror_mode": {
    "name": "ipython",
    "version": 3
   },
   "file_extension": ".py",
   "mimetype": "text/x-python",
   "name": "python",
   "nbconvert_exporter": "python",
   "pygments_lexer": "ipython3",
   "version": "3.12.4"
  }
 },
 "nbformat": 4,
 "nbformat_minor": 2
}
