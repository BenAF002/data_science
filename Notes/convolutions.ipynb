{
 "cells": [
  {
   "cell_type": "code",
   "execution_count": 2,
   "metadata": {},
   "outputs": [],
   "source": [
    "import numpy as np\n",
    "import matplotlib.pyplot as plt\n",
    "from pprint import pprint"
   ]
  },
  {
   "cell_type": "markdown",
   "metadata": {},
   "source": [
    "A ***Convolution*** is defined as the integral of the product of two functions after one is *reflected* about the $y$-axis:\n",
    "$$(f \\ast g)(x) \\coloneqq \\int_{-\\infty}^{\\infty} f(x)g(x-y)dy$$"
   ]
  },
  {
   "cell_type": "markdown",
   "metadata": {},
   "source": [
    "## Discrete Case"
   ]
  },
  {
   "cell_type": "markdown",
   "metadata": {},
   "source": [
    "Motivating example: outcomes from rolling a pair of dice.\\\n",
    "There are $6^2 = 36$ possible combinations from rolling a pair of dice. However, there are only $11$ possible sums that can result from any row - see the matrix below:"
   ]
  },
  {
   "cell_type": "code",
   "execution_count": 2,
   "metadata": {},
   "outputs": [
    {
     "name": "stdout",
     "output_type": "stream",
     "text": [
      "[[ 2  3  4  5  6  7]\n",
      " [ 3  4  5  6  7  8]\n",
      " [ 4  5  6  7  8  9]\n",
      " [ 5  6  7  8  9 10]\n",
      " [ 6  7  8  9 10 11]\n",
      " [ 7  8  9 10 11 12]]\n"
     ]
    }
   ],
   "source": [
    "d = np.array([1, 2, 3, 4, 5, 6])\n",
    "dd = np.array([int(i + j )for i in d for j in d]).reshape(6, 6)\n",
    "print(dd)"
   ]
  },
  {
   "cell_type": "markdown",
   "metadata": {},
   "source": [
    "Note how many ways each number may be achieved:"
   ]
  },
  {
   "cell_type": "code",
   "execution_count": 3,
   "metadata": {},
   "outputs": [
    {
     "name": "stdout",
     "output_type": "stream",
     "text": [
      "{2: 1, 3: 2, 4: 3, 5: 4, 6: 5, 7: 6, 8: 5, 9: 4, 10: 3, 11: 2, 12: 1}\n"
     ]
    }
   ],
   "source": [
    "counts = {int(n) : int((dd == n).sum()) for n in np.unique(dd)}\n",
    "pprint(counts)"
   ]
  },
  {
   "cell_type": "markdown",
   "metadata": {},
   "source": [
    "Another way of achieving these combinations is to pass the series of numbers achievable by rolling one die over the reversed series of numbers achievable by rolling the other die:"
   ]
  },
  {
   "cell_type": "code",
   "execution_count": 4,
   "metadata": {},
   "outputs": [
    {
     "name": "stdout",
     "output_type": "stream",
     "text": [
      "d:  [1]\n",
      "b:  [1]\n",
      "  = 2  --  1 ways  -- p(2) = 1 / 36\n",
      "d:  [1 2]\n",
      "b:  [2 1]\n",
      "  = 3  --  2 ways  -- p(3) = 2 / 36\n",
      "d:  [1 2 3]\n",
      "b:  [3 2 1]\n",
      "  = 4  --  3 ways  -- p(4) = 3 / 36\n",
      "d:  [1 2 3 4]\n",
      "b:  [4 3 2 1]\n",
      "  = 5  --  4 ways  -- p(5) = 4 / 36\n",
      "d:  [1 2 3 4 5]\n",
      "b:  [5 4 3 2 1]\n",
      "  = 6  --  5 ways  -- p(6) = 5 / 36\n",
      "d:  [1 2 3 4 5 6]\n",
      "b:  [6 5 4 3 2 1]\n",
      "  = 7  --  6 ways  -- p(7) = 6 / 36\n",
      "d:  [2 3 4 5 6]\n",
      "b:  [6 5 4 3 2]\n",
      "  = 8  --  5 ways  -- p(8) = 5 / 36\n",
      "d:  [3 4 5 6]\n",
      "b:  [6 5 4 3]\n",
      "  = 9  --  4 ways  -- p(9) = 4 / 36\n",
      "d:  [4 5 6]\n",
      "b:  [6 5 4]\n",
      "  = 10  --  3 ways  -- p(10) = 3 / 36\n",
      "d:  [5 6]\n",
      "b:  [6 5]\n",
      "  = 11  --  2 ways  -- p(11) = 2 / 36\n",
      "d:  [6]\n",
      "b:  [6]\n",
      "  = 12  --  1 ways  -- p(12) = 1 / 36\n"
     ]
    }
   ],
   "source": [
    "d = np.array([1, 2, 3, 4, 5, 6])\n",
    "b = np.array([6, 5, 4, 3, 2, 1])  # b is a backwards d, get it?\n",
    "for i in range(1, 12):\n",
    "    if i <= 6:\n",
    "        print('d: ', d[:i])\n",
    "        print('b: ', b[-i:])\n",
    "        print(f'  = {d[:i][0] + b[-i:][0]}  --  {len(d[:i])} ways  -- p({d[:i][0] + b[-i:][0]}) = {len(d[:i])} / 36')\n",
    "    else:\n",
    "        print('d: ', d[i-6:])\n",
    "        print('b: ', b[:-(i-6)])\n",
    "        print(f'  = {d[i-6:][0] + b[:-(i-6)][0]}  --  {len(d[i-6:])} ways  -- p({d[i-6:][0] + b[:-(i-6)][0]}) = {len(d[i-6:])} / 36')"
   ]
  },
  {
   "cell_type": "markdown",
   "metadata": {},
   "source": [
    "This function of passing one series of numbers over the other *is a convolution*"
   ]
  },
  {
   "cell_type": "markdown",
   "metadata": {},
   "source": [
    "Now, let's assume that these a *loaded dice* an see what happens to the *probabilities* of each pair of outcomes (i.e. of achieving each sum):"
   ]
  },
  {
   "cell_type": "code",
   "execution_count": 5,
   "metadata": {},
   "outputs": [
    {
     "name": "stdout",
     "output_type": "stream",
     "text": [
      "d*p:  [0.16]\n",
      "b*p:  [0.11]\n",
      "p(d + b) = 1 = 0.0176\n",
      "d*p:  [0.16 0.21]\n",
      "b*p:  [0.22 0.11]\n",
      "p(d + b) = 2 = 0.0583\n",
      "d*p:  [0.16 0.21 0.17]\n",
      "b*p:  [0.24 0.22 0.11]\n",
      "p(d + b) = 3 = 0.1033\n",
      "d*p:  [0.16 0.21 0.17 0.16]\n",
      "b*p:  [0.1  0.24 0.22 0.11]\n",
      "p(d + b) = 4 = 0.1214\n",
      "d*p:  [0.16 0.21 0.17 0.16 0.12]\n",
      "b*p:  [0.2  0.1  0.24 0.22 0.11]\n",
      "p(d + b) = 5 = 0.1422\n",
      "d*p:  [0.16 0.21 0.17 0.16 0.12 0.18]\n",
      "b*p:  [0.13 0.2  0.1  0.24 0.22 0.11]\n",
      "p(d + b) = 6 = 0.1644\n",
      "d:  [0.21 0.17 0.16 0.12 0.18]\n",
      "b:  [0.13 0.2  0.1  0.24 0.22]\n",
      "p(d + b) = 7 = 0.1457\n",
      "d:  [0.17 0.16 0.12 0.18]\n",
      "b:  [0.13 0.2  0.1  0.24]\n",
      "p(d + b) = 8 = 0.1093\n",
      "d:  [0.16 0.12 0.18]\n",
      "b:  [0.13 0.2  0.1 ]\n",
      "p(d + b) = 9 = 0.0628\n",
      "d:  [0.12 0.18]\n",
      "b:  [0.13 0.2 ]\n",
      "p(d + b) = 10 = 0.0516\n",
      "d:  [0.18]\n",
      "b:  [0.13]\n",
      "p(d + b) = 11 = 0.0234\n"
     ]
    }
   ],
   "source": [
    "# introduce probability weights\n",
    "dp = np.array([0.16, 0.21, 0.17, 0.16, 0.12, 0.18])\n",
    "bp = np.array([0.13, 0.2, 0.1, 0.24, 0.22, 0.11])\n",
    "\n",
    "dpbp_conv = []\n",
    "for i in range(1, 12):\n",
    "    if i <= 6:\n",
    "        print('d*p: ', dp[:i])\n",
    "        print('b*p: ', bp[-i:])\n",
    "        p = float((dp[:i] * bp[-i:]).sum())\n",
    "        print(f\"p(d + b) = {i} = {p:.4f}\")\n",
    "    else:\n",
    "        print('d: ', dp[i-6:])\n",
    "        print('b: ', bp[:-(i-6)])\n",
    "        p = float((dp[i-6:] * bp[:-(i-6)]).sum())\n",
    "        print(f\"p(d + b) = {i} = {p:.4f}\")\n",
    "    dpbp_conv.append(p)"
   ]
  },
  {
   "cell_type": "markdown",
   "metadata": {},
   "source": [
    "Now we are summing over the *joint* probabilities of each pair. For example, the probability that we see a $3$ from our roll is:\n",
    "$$p(d = 1)\\times p(b=2) + p(d=2) \\times p(b=1) = \\sum \\big( p(d, b) = 3\\big) = 0.21(0.11) + 0.16(0.22) = 0.0583$$"
   ]
  },
  {
   "cell_type": "markdown",
   "metadata": {},
   "source": [
    "In general, the convolution of two discrete random variables $A$ and $B$ is expressed as:\n",
    "$$(a \\ast b)_n = \\sum_{i,j: \\ i+j=n} a_i \\cdot b_j$$\n",
    "Where $a_i = P(A=i)$ and $b_i = P(B=i)$"
   ]
  },
  {
   "cell_type": "markdown",
   "metadata": {},
   "source": [
    "This convolution ***is the probability distribution of the sum of these two random variables***:"
   ]
  },
  {
   "cell_type": "code",
   "execution_count": 6,
   "metadata": {},
   "outputs": [
    {
     "data": {
      "image/png": "[encoded data removed]",
      "text/plain": [
       "<Figure size 640x480 with 1 Axes>"
      ]
     },
     "metadata": {},
     "output_type": "display_data"
    }
   ],
   "source": [
    "dpbp = np.array([float(i * j )for i in dp for j in bp]).reshape(6, 6) * dd\n",
    "plt.bar(x=list(range(1, 12)), height=dpbp_conv);"
   ]
  },
  {
   "cell_type": "markdown",
   "metadata": {},
   "source": [
    "Another useful conceptualization of convolutions is as *moving averages* - moving averages are nothing more than convolutions passed over a series of data."
   ]
  },
  {
   "cell_type": "markdown",
   "metadata": {},
   "source": [
    "Can we gain some intuition for why one of the functions in the original convolution definition is reflected? In the discrete case demonstrated using a pair of dice, it kind of makes sense. We sum over all $i, j : \\ i + j = n$ to get each probability $P(A + B) = n$. So, one of the random variables *must be decreasing*... \\\n",
    "In general, we want the distribution of probabilities associated with each realization of the random variable $A + B$. Ensuring that one of the component random variables has reflected values ensures that the sum captures each combination of $A$ and $B$ for each realization of $A + B$. This is a start, but I'm not quite grasping the bigger picture..."
   ]
  },
  {
   "cell_type": "markdown",
   "metadata": {},
   "source": [
    "More generalized expression of the convolution formula:\n",
    "$$P_{X+Y} = \\big[P_X \\ast P_Y\\big](s) = \\sum_{x=1}^s P_X(x) \\cdot P_Y(s - x)$$ \n",
    "Where $s$ is realization of the random variable $X + Y$."
   ]
  },
  {
   "cell_type": "markdown",
   "metadata": {},
   "source": [
    "## Continuous Case"
   ]
  },
  {
   "cell_type": "markdown",
   "metadata": {},
   "source": [
    "Now, we replace the discrete probability distribution functions with continuous probability density functions:\n",
    "$$p(x) \\ \\rightarrow \\ f(x) \\\\ p(y) \\ \\rightarrow \\ g(y)$$\n",
    "Then the continuous convolution is:\n",
    "$$[f \\ast g](s) = \\int_{-\\infty}^{\\infty} f(x) g(s-x) dx$$"
   ]
  },
  {
   "cell_type": "markdown",
   "metadata": {},
   "source": [
    "So, at each $s$, the convolution is the area under the function $f(x)$ (i.e. the probability density function of $X$) weighted by $g(-x)$ (i.e. the reflected probability density function of $Y$) shifted by the amount $s$. Again, $s$ is a realization of $X+Y$, so the integral is truly taken over all $x,y$ such that $x + y = s$. Expressing this in terms of $x$ and $s-x$ alone is much more straightforward though."
   ]
  },
  {
   "cell_type": "markdown",
   "metadata": {},
   "source": [
    "## Connection to CLT"
   ]
  },
  {
   "cell_type": "markdown",
   "metadata": {},
   "source": [
    "CLT: The sum of $N$ random variables (which is itself a random variable) converges to a normal distribution as $N$ increases.\n",
    "\n",
    "As we saw in the discrete case, the convolution between two independent random variables *is* the probability distribution of the sum of the two random variables: $$P_{X+Y} = \\big[P_X \\ast P_Y\\big](s)$$"
   ]
  },
  {
   "cell_type": "markdown",
   "metadata": {},
   "source": [
    "Thus, the convolution of $N$ random variables converges to a normal distribution as $N$ increases. But there's a bit more to the intuition. Notice that the effect of convolving two random variables is to smooth out there distribution. Indeed, moving averages are convolutions so we are somewhat familiar with this smoothing effect already."
   ]
  },
  {
   "cell_type": "code",
   "execution_count": 45,
   "metadata": {},
   "outputs": [],
   "source": [
    "x = np.random.uniform(-1, 1, 10000)  # random draws from uniform distribution\n",
    "xp = np.array([1/2]*10000)"
   ]
  },
  {
   "cell_type": "code",
   "execution_count": 63,
   "metadata": {},
   "outputs": [
    {
     "data": {
      "image/png": "[encoded data removed]",
      "text/plain": [
       "<Figure size 640x480 with 1 Axes>"
      ]
     },
     "metadata": {},
     "output_type": "display_data"
    }
   ],
   "source": [
    "x = np.random.uniform(0, 1, 1000)\n",
    "y = np.random.uniform(0, 1, 1000)\n",
    "\n",
    "dists = [np.random.uniform(0, 1, 1000) for i in range(5)]\n",
    "\n",
    "def convs(dists, n):\n",
    "    res = dists[0]\n",
    "    i = 0\n",
    "    while i < n and i < len(dists):\n",
    "        i += 1\n",
    "        res = np.convolve(res, dists[i])\n",
    "    return res\n",
    "\n",
    "plt.plot(convs(dists, n=2));"
   ]
  },
  {
   "cell_type": "markdown",
   "metadata": {},
   "source": [
    "You can play around with this plot, change the list of distributions, `dists`, or the number of convolutions `n` to see how long different distributions take to approximate a normal. Notice that for uniform distributions, we approach normality at `n = 2`"
   ]
  },
  {
   "cell_type": "markdown",
   "metadata": {},
   "source": [
    "As we evaluate different distributions, the effect of increasing the number of convolutions is to *smooth-out* the distribution of the sum. Effectively, the convolutions are sharing information between the random variables - with equal weighting (i.e. each random variable has a coefficient of 1 in the sum), this reduces the information in the resulting sum. \n",
    "\n",
    "Insight for this tendency may be drawn from information theory. When we consider distributions in terms of their information content, or entropy, it can be shown that the normal distribution has the *maximum entropy among all real-valued distributions*. So, the process of smoothing out distributions through convolutions, which decreases their information content and increases their entropy, will naturally trend towards the maximum entropy distribution which is the normal distribution.\n",
    "\n",
    "This is likely worth fleshing out in the future..."
   ]
  },
  {
   "cell_type": "markdown",
   "metadata": {},
   "source": [
    "## Resources:\n",
    " - 3Blue1Brown videos\n",
    "    - Discrete Convolutions: https://www.youtube.com/watch?v=KuXjwB4LzSA\n",
    "    - Continuous Convolutions: https://www.youtube.com/watch?v=IaSGqQa5O-M\n",
    "- Artem Kirsanov on entropy: https://youtu.be/KHVR587oW8I?si=Z9oQYR_7qVSjHuHr\n",
    "- More on entropy and CLT: https://mathoverflow.net/questions/182752/central-limit-theorem-via-maximal-entropy\n",
    "- Maxwell Peterson on CLT via convolutions: https://www.lesswrong.com/posts/6oPe3oqzdJtrWmduR/the-central-limit-theorem-in-terms-of-convolutions\n",
    "- Chris Olah with more on convolutions: https://colah.github.io/posts/2014-07-Understanding-Convolutions/\n",
    "\n",
    "Also, apparently an entire book has been written on the subject of the CLT being a result of information theory:\n",
    "- https://www.worldscientific.com/worldscibooks/10.1142/p341#t=aboutBook"
   ]
  }
 ],
 "metadata": {
  "kernelspec": {
   "display_name": "anaconda",
   "language": "python",
   "name": "python3"
  },
  "language_info": {
   "codemirror_mode": {
    "name": "ipython",
    "version": 3
   },
   "file_extension": ".py",
   "mimetype": "text/x-python",
   "name": "python",
   "nbconvert_exporter": "python",
   "pygments_lexer": "ipython3",
   "version": "3.12.4"
  }
 },
 "nbformat": 4,
 "nbformat_minor": 2
}
