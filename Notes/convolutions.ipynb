{
 "cells": [
  {
   "cell_type": "code",
   "execution_count": 1,
   "metadata": {},
   "outputs": [],
   "source": [
    "import numpy as np\n",
    "import matplotlib.pyplot as plt\n",
    "from pprint import pprint"
   ]
  },
  {
   "cell_type": "markdown",
   "metadata": {},
   "source": [
    "A ***Convolution*** is defined as the integral of the product of two functions after one is *reflected* about the $y$-axis:\n",
    "$$(f \\ast g)(x) \\coloneqq \\int_{-\\infty}^{\\infty} f(x)g(x-y)dy$$"
   ]
  },
  {
   "cell_type": "markdown",
   "metadata": {},
   "source": [
    "## Discrete Case"
   ]
  },
  {
   "cell_type": "markdown",
   "metadata": {},
   "source": [
    "Motivating example: outcomes from rolling a pair of dice.\\\n",
    "There are $6^2 = 36$ possible combinations from rolling a pair of dice. However, there are only $11$ possible sums that can result from any row - see the matrix below:"
   ]
  },
  {
   "cell_type": "code",
   "execution_count": 2,
   "metadata": {},
   "outputs": [
    {
     "name": "stdout",
     "output_type": "stream",
     "text": [
      "[[ 2  3  4  5  6  7]\n",
      " [ 3  4  5  6  7  8]\n",
      " [ 4  5  6  7  8  9]\n",
      " [ 5  6  7  8  9 10]\n",
      " [ 6  7  8  9 10 11]\n",
      " [ 7  8  9 10 11 12]]\n"
     ]
    }
   ],
   "source": [
    "d = np.array([1, 2, 3, 4, 5, 6])\n",
    "dd = np.array([int(i + j )for i in d for j in d]).reshape(6, 6)\n",
    "print(dd)"
   ]
  },
  {
   "cell_type": "markdown",
   "metadata": {},
   "source": [
    "Note how many ways each number may be achieved:"
   ]
  },
  {
   "cell_type": "code",
   "execution_count": 3,
   "metadata": {},
   "outputs": [
    {
     "name": "stdout",
     "output_type": "stream",
     "text": [
      "{2: 1, 3: 2, 4: 3, 5: 4, 6: 5, 7: 6, 8: 5, 9: 4, 10: 3, 11: 2, 12: 1}\n"
     ]
    }
   ],
   "source": [
    "counts = {int(n) : int((dd == n).sum()) for n in np.unique(dd)}\n",
    "pprint(counts)"
   ]
  },
  {
   "cell_type": "markdown",
   "metadata": {},
   "source": [
    "Another way of achieving these combinations is to pass the series of numbers achievable by rolling one die over the reversed series of numbers achievable by rolling the other die:"
   ]
  },
  {
   "cell_type": "code",
   "execution_count": 4,
   "metadata": {},
   "outputs": [
    {
     "name": "stdout",
     "output_type": "stream",
     "text": [
      "d:  [1]\n",
      "b:  [1]\n",
      "  = 2  --  1 ways  -- p(2) = 1 / 36\n",
      "d:  [1 2]\n",
      "b:  [2 1]\n",
      "  = 3  --  2 ways  -- p(3) = 2 / 36\n",
      "d:  [1 2 3]\n",
      "b:  [3 2 1]\n",
      "  = 4  --  3 ways  -- p(4) = 3 / 36\n",
      "d:  [1 2 3 4]\n",
      "b:  [4 3 2 1]\n",
      "  = 5  --  4 ways  -- p(5) = 4 / 36\n",
      "d:  [1 2 3 4 5]\n",
      "b:  [5 4 3 2 1]\n",
      "  = 6  --  5 ways  -- p(6) = 5 / 36\n",
      "d:  [1 2 3 4 5 6]\n",
      "b:  [6 5 4 3 2 1]\n",
      "  = 7  --  6 ways  -- p(7) = 6 / 36\n",
      "d:  [2 3 4 5 6]\n",
      "b:  [6 5 4 3 2]\n",
      "  = 8  --  5 ways  -- p(8) = 5 / 36\n",
      "d:  [3 4 5 6]\n",
      "b:  [6 5 4 3]\n",
      "  = 9  --  4 ways  -- p(9) = 4 / 36\n",
      "d:  [4 5 6]\n",
      "b:  [6 5 4]\n",
      "  = 10  --  3 ways  -- p(10) = 3 / 36\n",
      "d:  [5 6]\n",
      "b:  [6 5]\n",
      "  = 11  --  2 ways  -- p(11) = 2 / 36\n",
      "d:  [6]\n",
      "b:  [6]\n",
      "  = 12  --  1 ways  -- p(12) = 1 / 36\n"
     ]
    }
   ],
   "source": [
    "d = np.array([1, 2, 3, 4, 5, 6])\n",
    "b = np.array([6, 5, 4, 3, 2, 1])  # b is a backwards d, get it?\n",
    "for i in range(1, 12):\n",
    "    if i <= 6:\n",
    "        print('d: ', d[:i])\n",
    "        print('b: ', b[-i:])\n",
    "        print(f'  = {d[:i][0] + b[-i:][0]}  --  {len(d[:i])} ways  -- p({d[:i][0] + b[-i:][0]}) = {len(d[:i])} / 36')\n",
    "    else:\n",
    "        print('d: ', d[i-6:])\n",
    "        print('b: ', b[:-(i-6)])\n",
    "        print(f'  = {d[i-6:][0] + b[:-(i-6)][0]}  --  {len(d[i-6:])} ways  -- p({d[i-6:][0] + b[:-(i-6)][0]}) = {len(d[i-6:])} / 36')"
   ]
  },
  {
   "cell_type": "markdown",
   "metadata": {},
   "source": [
    "This function of passing one series of numbers over the other *is a convolution*"
   ]
  },
  {
   "cell_type": "markdown",
   "metadata": {},
   "source": [
    "Now, let's assume that these a *loaded dice* an see what happens to the *probabilities* of each pair of outcomes (i.e. of achieving each sum):"
   ]
  },
  {
   "cell_type": "code",
   "execution_count": 5,
   "metadata": {},
   "outputs": [
    {
     "name": "stdout",
     "output_type": "stream",
     "text": [
      "d*p:  [0.16]\n",
      "b*p:  [0.11]\n",
      "p(d + b) = 1 = 0.0176\n",
      "d*p:  [0.16 0.21]\n",
      "b*p:  [0.22 0.11]\n",
      "p(d + b) = 2 = 0.0583\n",
      "d*p:  [0.16 0.21 0.17]\n",
      "b*p:  [0.24 0.22 0.11]\n",
      "p(d + b) = 3 = 0.1033\n",
      "d*p:  [0.16 0.21 0.17 0.16]\n",
      "b*p:  [0.1  0.24 0.22 0.11]\n",
      "p(d + b) = 4 = 0.1214\n",
      "d*p:  [0.16 0.21 0.17 0.16 0.12]\n",
      "b*p:  [0.2  0.1  0.24 0.22 0.11]\n",
      "p(d + b) = 5 = 0.1422\n",
      "d*p:  [0.16 0.21 0.17 0.16 0.12 0.18]\n",
      "b*p:  [0.13 0.2  0.1  0.24 0.22 0.11]\n",
      "p(d + b) = 6 = 0.1644\n",
      "d:  [0.21 0.17 0.16 0.12 0.18]\n",
      "b:  [0.13 0.2  0.1  0.24 0.22]\n",
      "p(d + b) = 7 = 0.1457\n",
      "d:  [0.17 0.16 0.12 0.18]\n",
      "b:  [0.13 0.2  0.1  0.24]\n",
      "p(d + b) = 8 = 0.1093\n",
      "d:  [0.16 0.12 0.18]\n",
      "b:  [0.13 0.2  0.1 ]\n",
      "p(d + b) = 9 = 0.0628\n",
      "d:  [0.12 0.18]\n",
      "b:  [0.13 0.2 ]\n",
      "p(d + b) = 10 = 0.0516\n",
      "d:  [0.18]\n",
      "b:  [0.13]\n",
      "p(d + b) = 11 = 0.0234\n"
     ]
    }
   ],
   "source": [
    "# introduce probability weights\n",
    "dp = np.array([0.16, 0.21, 0.17, 0.16, 0.12, 0.18])\n",
    "bp = np.array([0.13, 0.2, 0.1, 0.24, 0.22, 0.11])\n",
    "\n",
    "dpbp_conv = []\n",
    "for i in range(1, 12):\n",
    "    if i <= 6:\n",
    "        print('d*p: ', dp[:i])\n",
    "        print('b*p: ', bp[-i:])\n",
    "        p = float((dp[:i] * bp[-i:]).sum())\n",
    "        print(f\"p(d + b) = {i} = {p:.4f}\")\n",
    "    else:\n",
    "        print('d: ', dp[i-6:])\n",
    "        print('b: ', bp[:-(i-6)])\n",
    "        p = float((dp[i-6:] * bp[:-(i-6)]).sum())\n",
    "        print(f\"p(d + b) = {i} = {p:.4f}\")\n",
    "    dpbp_conv.append(p)"
   ]
  },
  {
   "cell_type": "markdown",
   "metadata": {},
   "source": [
    "Now we are summing over the *joint* probabilities of each pair. For example, the probability that we see a $3$ from our roll is:\n",
    "$$p(d = 1)\\times p(b=2) + p(d=2) \\times p(b=1) = \\sum \\big( p(d, b) = 3\\big) = 0.21(0.11) + 0.16(0.22) = 0.0583$$"
   ]
  },
  {
   "cell_type": "markdown",
   "metadata": {},
   "source": [
    "In general, the convolution of two discrete random variables $A$ and $B$ is expressed as:\n",
    "$$(a \\ast b)_n = \\sum_{i,j: \\ i+j=n} a_i \\cdot b_j$$\n",
    "Where $a_i = P(A=i)$ and $b_i = P(B=i)$"
   ]
  },
  {
   "cell_type": "markdown",
   "metadata": {},
   "source": [
    "This convolution ***is the probability distribution of the sum of these two random variables***:"
   ]
  },
  {
   "cell_type": "code",
   "execution_count": 6,
   "metadata": {},
   "outputs": [
    {
     "data": {
      "image/png": "[encoded data removed]",
      "text/plain": [
       "<Figure size 640x480 with 1 Axes>"
      ]
     },
     "metadata": {},
     "output_type": "display_data"
    }
   ],
   "source": [
    "dpbp = np.array([float(i * j )for i in dp for j in bp]).reshape(6, 6) * dd\n",
    "plt.bar(x=list(range(1, 12)), height=dpbp_conv);"
   ]
  },
  {
   "cell_type": "markdown",
   "metadata": {},
   "source": [
    "Another useful conceptualization of convolutions is as *moving averages* - moving averages are nothing more than convolutions passed over a series of data."
   ]
  },
  {
   "cell_type": "markdown",
   "metadata": {},
   "source": [
    "Can we gain some intuition for why one of the functions in the original convolution definition is reflected? In the discrete case demonstrated using a pair of dice, it kind of makes sense. We sum over all $i, j : \\ i + j = n$ to get each probability $P(A + B) = n$. So, one of the random variables *must be decreasing*... \\\n",
    "In general, we want the distribution of probabilities associated with each realization of the random variable $A + B$. Ensuring that one of the component random variables has reflected values ensures that the sum captures each combination of $A$ and $B$ for each realization of $A + B$. This is a start, but I'm not quite grasping the bigger picture..."
   ]
  },
  {
   "cell_type": "markdown",
   "metadata": {},
   "source": [
    "Here's another useful, and somewhat impressive realization of convolutions: multiplication tables *are* convolutions..."
   ]
  },
  {
   "cell_type": "markdown",
   "metadata": {},
   "source": [
    "## Continuous Case"
   ]
  },
  {
   "cell_type": "markdown",
   "metadata": {},
   "source": []
  }
 ],
 "metadata": {
  "kernelspec": {
   "display_name": "Python 3",
   "language": "python",
   "name": "python3"
  },
  "language_info": {
   "codemirror_mode": {
    "name": "ipython",
    "version": 3
   },
   "file_extension": ".py",
   "mimetype": "text/x-python",
   "name": "python",
   "nbconvert_exporter": "python",
   "pygments_lexer": "ipython3",
   "version": "3.13.1"
  }
 },
 "nbformat": 4,
 "nbformat_minor": 2
}
