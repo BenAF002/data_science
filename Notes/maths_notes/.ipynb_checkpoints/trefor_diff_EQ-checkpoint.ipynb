{
 "cells": [
  {
   "cell_type": "code",
   "execution_count": 1,
   "id": "c7684829",
   "metadata": {},
   "outputs": [],
   "source": [
    "import numpy as np\n",
    "import matplotlib.pyplot as plt"
   ]
  },
  {
   "cell_type": "markdown",
   "id": "09c7fed5",
   "metadata": {},
   "source": [
    "## What is a Differential Equation"
   ]
  },
  {
   "cell_type": "markdown",
   "id": "cf300a10",
   "metadata": {},
   "source": [
    "Most plainly, it is an equation that has derivatives in it. Typically, the dependent variable of the equation is a **function** while the independent variables are the derivatives. \n",
    "\n",
    "Rarely do differential equations have single solutions, often they have an **infinite family** of solutions. To derive singular solutions we need som **initial conditions** to serve as values for the input variables (the variables which we differentiate with respect to) which we can evaluate the solution at. Ex:\n",
    "$$\\frac{dy}{dt} = 0.03y$$\n",
    "This differential equation has infinitely many solutions for $y$. In fact, any solution of the form $y(t) = ce^{0.03t}$ is a valid solution for any constant $c$. We need some initial conditions. Take:\n",
    "$$y(0) = 1000 \\\\ \\Rightarrow 1000 = ce^0 \\\\ \\Rightarrow y(t) = 1000e^{0.03t}$$"
   ]
  },
  {
   "cell_type": "markdown",
   "id": "2d896702",
   "metadata": {},
   "source": [
    "**Note:** We will need **as many** initial conditions as orders of derivatives. So a second order differential equation, we would need two initial conditions to solve for two constants."
   ]
  },
  {
   "cell_type": "markdown",
   "id": "6183caf1",
   "metadata": {},
   "source": [
    "## Key Definitions"
   ]
  },
  {
   "cell_type": "markdown",
   "id": "01cfe3a6",
   "metadata": {},
   "source": [
    "***Ordinary Differential Equations (ODE):***\n",
    "$$ y^{(n)} = f(t; y,y',y'',...,y^{(n-1)})$$"
   ]
  },
  {
   "cell_type": "markdown",
   "id": "87aeb80c",
   "metadata": {},
   "source": [
    "This is a differential equation of order $n$ with one independent variable, $t$, and $n$ dependent variables; all of which are derivatives of $y$ w.r.t. $t$ with increasing order. Overall, the ***order*** of an ODE is the highest derivative that appears in the ODE."
   ]
  },
  {
   "cell_type": "markdown",
   "id": "60534c9a",
   "metadata": {},
   "source": [
    "***Partial Differential Equations (PDE):***\n",
    "\n",
    "Involve **multiple** independent variables, and include partial derivatives."
   ]
  },
  {
   "cell_type": "markdown",
   "id": "111734a4",
   "metadata": {},
   "source": [
    "***Systems of Differential Equations:***\n",
    "\n",
    "Exactly what they sound like."
   ]
  },
  {
   "cell_type": "markdown",
   "id": "44ae17f1",
   "metadata": {},
   "source": [
    "***Solutions:***\n",
    "\n",
    "Take ODE:\n",
    "$$y'' - 4y' + 3y = 0$$\n",
    "One solution is: $$y(t) = e^t$$\n",
    "Solutions to ODEs are *functions* that satisfy the ODE. Often we have many (often infinitely many) solutions. Other solutions to this ODE are any function with constant $c$ such that:\n",
    "$$y(t) = ce^t \\\\ \\text{or also, } y(t) = c_1e^t + c_2e^{3t}$$"
   ]
  },
  {
   "cell_type": "markdown",
   "id": "ddbbaba3",
   "metadata": {},
   "source": [
    "The ***General Solution*** of an ODE is the solution *form* that contains all possible solutions. For this example, $y(t) = c_1e^t + c_2e^{3t}$ is the general solution. **Any other** solution **may be written as** this solution."
   ]
  },
  {
   "cell_type": "markdown",
   "id": "bd29db95",
   "metadata": {},
   "source": [
    "Formally, the solution to an ODE is a specific function $y=\\phi(t)$ such that: $$\\phi^{(n)} = f(t;\\phi,\\phi',\\phi'',...,\\phi^{(n-1)})$$"
   ]
  },
  {
   "cell_type": "markdown",
   "id": "965b89b3",
   "metadata": {},
   "source": [
    "***Initial Value Problem:***\n",
    "\n",
    "A differential equation with corresponding initial conditions such that the equation can be solved with a unique solution (rather than a general one). In general, an ODE requires as many initial conditions as its order."
   ]
  },
  {
   "cell_type": "markdown",
   "id": "6201ea1a",
   "metadata": {},
   "source": [
    "## Separation of Variables"
   ]
  },
  {
   "cell_type": "markdown",
   "id": "6bc3fe8e",
   "metadata": {},
   "source": [
    "Take an exponential growth ODE wherein the rate of growth in some variable is proportional to the variable itself in some proportion $k$:\n",
    "$$\\frac{dy}{dt} = ky$$"
   ]
  },
  {
   "cell_type": "markdown",
   "id": "c350602d",
   "metadata": {},
   "source": [
    "We can *separate* the variables by simply isolating each to its own side:\n",
    "$$\\frac{1}{y}\\frac{dy}{dt} = k$$\n",
    "Then, we can integrate each side over $t$:\n",
    "$$\\int\\frac{1}{y}\\frac{dy}{dt}dt = \\int kdt \\Rightarrow \\int\\frac{1}{y}dy = \\int kdt$$ \n",
    "$$\\Rightarrow \\ln|y| = kt + c \\\\ \\Rightarrow |y| = e^{kt+c} = e^ce^{kt} = \\tilde{c}e^{kt}$$"
   ]
  },
  {
   "cell_type": "markdown",
   "id": "9f4767af",
   "metadata": {},
   "source": [
    "Generically, a first order ODE may be expressed **entirely** in terms of $y$ and entirely in terms of $t$: $$\\frac{dy}{dt} = f(t)g(y) \\Rightarrow g(y)^{-1}\\frac{dy}{dt} = f(t)$$\n",
    "Here, the left side is only terms of $y$ and the right side is only terms of $t$."
   ]
  },
  {
   "cell_type": "markdown",
   "id": "7e3617e6",
   "metadata": {},
   "source": [
    "Ex: $$\\frac{dy}{dx} = \\frac{xy}{y^2 + 1} \\\\ \\Rightarrow \\frac{y^2 + 1}{y}dy = xdx \\\\ \\Rightarrow \\int \\frac{y^2 + 1}{y}dy = \\int xdx \\\\ \\Rightarrow \\frac{y^2}{2} + \\ln |y| = \\frac{x^2}{2} + c$$"
   ]
  },
  {
   "cell_type": "markdown",
   "id": "2d261a56",
   "metadata": {},
   "source": [
    "## Newton's Law of Cooling (Separable ODE Example)"
   ]
  },
  {
   "cell_type": "markdown",
   "id": "85f16082",
   "metadata": {},
   "source": [
    "Ambient Temp: $A = 68$ \\\n",
    "Initial Temp: $T(0) = 161$ \n",
    "\n",
    "We are interested in the change in temperature with respect to the time that passes. We can reasonably expect that this rate of change will be proportional to something... We know that the temperature of the substance is changing, meanwhile the ambient temperature is assumed to stay constant. So, we could think of the rate of change in temperature as being proportional to the difference between the substance temperature and the ambient temperature:\n",
    "$$\\frac{dT}{dt} = k(T - A)$$"
   ]
  },
  {
   "cell_type": "markdown",
   "id": "8fd39f02",
   "metadata": {},
   "source": [
    "This equation is separable so:\n",
    "$$\\int (T - A)^{-1}dT = \\int -kdt \\\\ \\Rightarrow e^{\\ln(T-A)} = e^{-kt + c} \\\\ T-A = e^ce^{-kt}$$"
   ]
  },
  {
   "cell_type": "markdown",
   "id": "de761b7e",
   "metadata": {},
   "source": [
    "Inputting initial conditions:\n",
    "$$93 = e^ce^{-k*0} \\Rightarrow e^c = 93$$\n",
    "Now let $T(2) = 153.7$: $$85.7 = 93e^{-k*2} \\Rightarrow \\frac{1}{2}\\ln\\frac{85.7}{93} = -k \\Rightarrow k = 0.0409$$"
   ]
  },
  {
   "cell_type": "markdown",
   "id": "22f1698a",
   "metadata": {},
   "source": [
    "## Existence and Uniqueness"
   ]
  },
  {
   "cell_type": "markdown",
   "id": "e16538b8",
   "metadata": {},
   "source": [
    "Given an IVP: $$\\frac{dy}{dx} = f(x,y), y(x_0) = y_0$$ Does a solution **exist**? Is the solution **unique**?"
   ]
  },
  {
   "cell_type": "markdown",
   "id": "06a804b2",
   "metadata": {},
   "source": [
    "Solutions may not exist, like for $\\frac{dy}{dx} = 1/x, y(0) = 0$, because $1/x$ is undefined at $x=0$."
   ]
  },
  {
   "cell_type": "markdown",
   "id": "56b4e7f6",
   "metadata": {},
   "source": [
    "**The Theorem:** \\\n",
    "If $f$ and $\\frac{\\partial f}{\\partial y}$ are continuous near $(x_0,y_0)$, then there is a unique solution on an interval $\\alpha < x_0 < \\beta$ to the IVP: $$y' = f(x,y), y(x_0) = y_0$$"
   ]
  },
  {
   "cell_type": "markdown",
   "id": "47df81a0",
   "metadata": {},
   "source": [
    "In words, a differential equation has a unique solution on some interval around a given point if it and its underlying function are both continuous around that point. The interval over which a unique solution exists may be *very* small. The only guarantee is that the interval over which a unique solution exists is *no larger than* the region over which the function and differential equation are continuous."
   ]
  },
  {
   "cell_type": "markdown",
   "id": "94dd4072",
   "metadata": {},
   "source": [
    "A couple remarks: \\\n",
    "If we only know that $f$ is continuous, then we can only guarantee existence. \\\n",
    "We need $f$ and $\\frac{\\partial f}{\\partial y}$ to both be continuous in order to guarantee both existence and uniqueness."
   ]
  },
  {
   "cell_type": "markdown",
   "id": "f72b7987",
   "metadata": {},
   "source": [
    "## Linear Differential Equations"
   ]
  },
  {
   "cell_type": "markdown",
   "id": "2fa23eec",
   "metadata": {},
   "source": [
    "Linear combinations of differently ordered derivatives. These derivatives can only be scaled by constant coefficients or by ***Coefficient Functions*** that are functions of the independent variable **alone**. Ex: $$x^2y'' + \\sin(x)y' + 3y = e^x$$"
   ]
  },
  {
   "cell_type": "markdown",
   "id": "441f88eb",
   "metadata": {},
   "source": [
    "Or more generally: $$a_n(x)y^{(n)} + a_{n-1}y^{(n-1)} + \\cdots + a_1(x)y' + a_0(x)y = b(x)$$"
   ]
  },
  {
   "cell_type": "markdown",
   "id": "d533d22e",
   "metadata": {},
   "source": [
    "A linear ODE is ***Homogeneous*** if: $$b(x) = 0$$"
   ]
  },
  {
   "cell_type": "markdown",
   "id": "a63971a1",
   "metadata": {},
   "source": [
    "**Standard Form 1st Order ODE:** $$y' + p(x)y = f(x)$$"
   ]
  },
  {
   "cell_type": "markdown",
   "id": "8b0e3a0f",
   "metadata": {},
   "source": [
    "***Integrating Factor Method:***\n",
    "\n",
    "$$r(x)y' + r(x)p(x)y = r(x)f(x)$$\n",
    "\n",
    "The ***Integrating Factor*** is this new function $r(x)$. Basically, by multiplying both sides by $r(x)$ we aim to facilitate integration to solve the ODE."
   ]
  },
  {
   "cell_type": "markdown",
   "id": "0df04f04",
   "metadata": {},
   "source": [
    "One thing to note, is that by the product rule: $$\\frac{d}{dx}r(x)y = r(x)y' + r'(x)y$$"
   ]
  },
  {
   "cell_type": "markdown",
   "id": "47374392",
   "metadata": {},
   "source": [
    "This is awfully clost to the first equation. We could choose an $r(x)$ for which it **is** the first equation, specifically: \n",
    "\n",
    "$$\\frac{d}{dx}r(x)y = r(x)y' + r'(x)y = r(x)y' + r(x)p(x)y$$ \n",
    "\n",
    "So, what we need is some $r(x)$ such that: $$r'(x) = r(x)p(x)$$"
   ]
  },
  {
   "cell_type": "markdown",
   "id": "3a1edd87",
   "metadata": {},
   "source": [
    "This is a separable differential equation! $$\\int \\frac{r'(x)}{r(x)}dx = \\int p(x)dx \\\\ \\Rightarrow \\ln(r(x)) = \\int p(x)dx \\\\ \\Rightarrow r(x) = e^{\\int p(x)dx}$$"
   ]
  },
  {
   "cell_type": "markdown",
   "id": "a1227d68",
   "metadata": {},
   "source": [
    "So this is the integrating factor that we can use to simplify $y' + p(x)y = f(x)$ into: \n",
    "\n",
    "$$\\frac{d}{dx}f(x)y = r(x)f(x)$$\n",
    "\n",
    "So, $$y = \\frac{1}{r(x)} \\int r(x)f(x)dx$$"
   ]
  },
  {
   "cell_type": "markdown",
   "id": "f04fb54d",
   "metadata": {},
   "source": [
    "Connection to the existence and uniqueness theorem: \\\n",
    "If $f(x)$ and $p(x)$ are continuous on $(a,b)$, then a solution exists and is unique on $(a,b)$. \\\n",
    "This is the same as saying that a solution exists on $(a,b)$ if $f(x)$ and $p(x)$ are **integrable** on $(a,b)$."
   ]
  },
  {
   "cell_type": "markdown",
   "id": "c67cba46",
   "metadata": {},
   "source": [
    "## Bernoulli Equation"
   ]
  },
  {
   "cell_type": "markdown",
   "id": "3cd10f34",
   "metadata": {},
   "source": [
    "A family of differential equations of the form:\n",
    "$$y' + p(x)y = Q(x)y^n$$"
   ]
  },
  {
   "cell_type": "markdown",
   "id": "e4b85b32",
   "metadata": {},
   "source": [
    "These differential equations aren't separable and aren't linear. However, if we could change the $y^n$ term to $y^1$, then they become linear ODEs which we can solve with the integrating factor method. This involves a change of variables, a substitution that allows us to treat it as a linear ODE:\n",
    "$$u = y^{1-n}$$\n",
    "$$u' = (1-n)y^{-n}y'$$"
   ]
  },
  {
   "cell_type": "markdown",
   "id": "29db994f",
   "metadata": {},
   "source": [
    "**Aside:** Why do we multiply by $y'$?\n",
    "\\\n",
    "We do this because $u$ is really some function $u(y)$. So, taking its derivative w.r.t. $y$ gives us, by the **chain rule**:\n",
    "$$\\frac{du}{dy}u(y) = \\left[\\frac{d}{dy}u(y)\\right]\\frac{du}{dy} = u(y)'y'$$\n",
    "Notationally this is confusing because we don't include the $(y)$, and we only write $u'$. By $u'$ we really mean the left-most side of this equation; i.e. $\\frac{du}{dy}u(y)$"
   ]
  },
  {
   "cell_type": "markdown",
   "id": "f624357c",
   "metadata": {},
   "source": [
    "If we divide both sides of the Bernoulli equation by $y^n$ we get:\n",
    "$$y^{-n}y' + p(x)y^{1-n} = Q(x)$$\n",
    "Which aligns well with the substitution:\n",
    "$$\\frac{1}{1-n}u' + p(x)u = Q(x)$$\n",
    "We now can treat this as a linear first-order ODE and solve it using an integration factor."
   ]
  },
  {
   "cell_type": "markdown",
   "id": "c505e613",
   "metadata": {},
   "source": [
    "Let's look at an example:\n",
    "$$y' - 5y = \\frac{-5}{2}y^3$$\n",
    "\n",
    "Substitutions:\n",
    "$$u = y^{-2} \\\\ u' = -2y^{-3}y'$$"
   ]
  },
  {
   "cell_type": "markdown",
   "id": "2f92c906",
   "metadata": {},
   "source": [
    "After dividing out the $y^3$ we get:\n",
    "$$\\frac{-1}{2}u' - 5u = \\frac{-5}{2}x \\\\ \\Rightarrow u' + 10u = 5x$$\n",
    "Which is a linear first order ODE."
   ]
  },
  {
   "cell_type": "markdown",
   "id": "4376f0fb",
   "metadata": {},
   "source": [
    "We can solve this using integrating factors since it is in the form:\n",
    "$$y' + p(x)y = f(x) \\\\ \\Rightarrow \\left\\{ \\begin{array} .y = u \\\\ p(x) = 10 \\\\ f(x) = 5x \\end{array}\\right.$$"
   ]
  },
  {
   "cell_type": "markdown",
   "id": "ceb28348",
   "metadata": {},
   "source": [
    "So this looks pretty straightforward, $$r(x) = e^{\\int 10dx} = e^{10x}$$ \n",
    "And finally,\n",
    "$$u = e^{-10x}\\int e^{10x}5xdx$$\n",
    "Which, by IBP is:\n",
    "$$u = e^{-10x}\\frac{e^{10x}}{20}(10x-1) \\Rightarrow \\frac{10x - 1}{20}$$"
   ]
  },
  {
   "cell_type": "markdown",
   "id": "f8d97678",
   "metadata": {},
   "source": [
    "Then, $$y = \\left(\\frac{10x-1}{20}\\right)^{-1/2}$$"
   ]
  },
  {
   "cell_type": "markdown",
   "id": "351edea6",
   "metadata": {},
   "source": [
    "## Autonomous Equations, Equilibrium, and Stability"
   ]
  },
  {
   "cell_type": "markdown",
   "id": "a2892b58",
   "metadata": {},
   "source": [
    "***Autonomous Differential Equations:*** \\\n",
    "Autonomous ODEs express the derivative **only** in terms of the dependent variable (e.g. $y$). While an ordinary ODE is of the form: $$\\frac{dy}{dt} = f(t; y)$$ Here, the expression of the derivative is dependent on the independent variable $t$. In an autonomous ODE we would only have: $$\\frac{dy}{dt} = f(y)$$ Although $y$ still depends on $t$, the derivative of $y$ w.r.t. $t$ **does not depend** on $t$."
   ]
  },
  {
   "cell_type": "markdown",
   "id": "623bf0d0",
   "metadata": {},
   "source": [
    "Ex: $$\\frac{dy}{dt} = (1+y)(1-y)$$"
   ]
  },
  {
   "cell_type": "markdown",
   "id": "13abb9f3",
   "metadata": {},
   "source": [
    "If we were to plot the slope field of this differential equation, we would see that the slopes at **all values of** $t$ are identical for a **specific value** of $y$. In this way, the value of the differential only changes as the value of $y$ changes, and remains constant as the value of $t$ changes."
   ]
  },
  {
   "cell_type": "markdown",
   "id": "049e7c77",
   "metadata": {},
   "source": [
    "***Equilibrium Points:*** \\ \n",
    "These are asymptotes of the differential equation. Take the example above. Its equilibrium points are 1 and -1. As $y$ approaches these points, the differential converges to 0. They literally are the points where the differential equation is equal to 0 for all values of the independent variable $t$. This is true for all ODEs, not just autonomous ODEs. \n",
    "\n",
    "The intuition for these points is that when the derivative is equal to 0, the underlying function is no longer changing w.r.t. the independent variable. So, from a given initial value, once we reach an equilibrium point, the function will **no longer change**.\n",
    "\n",
    "Equilibrium points have varying behavior. In the example we have, starting at an initial value above the equilibrium point $y = 1$ converges towards the equilibrium as $t$ increases. Conversely, Starting below $y = -1$, $y$ diverges from -1, growing increasingly negative as $t$ increases. So, $y = 1$ is a ***Convergent Equilibrium Point*** and $y = -1$ is a ***Divergent Equilibrium Point***"
   ]
  }
 ],
 "metadata": {
  "kernelspec": {
   "display_name": "Python 3 (ipykernel)",
   "language": "python",
   "name": "python3"
  },
  "language_info": {
   "codemirror_mode": {
    "name": "ipython",
    "version": 3
   },
   "file_extension": ".py",
   "mimetype": "text/x-python",
   "name": "python",
   "nbconvert_exporter": "python",
   "pygments_lexer": "ipython3",
   "version": "3.10.9"
  },
  "varInspector": {
   "cols": {
    "lenName": 16,
    "lenType": 16,
    "lenVar": 40
   },
   "kernels_config": {
    "python": {
     "delete_cmd_postfix": "",
     "delete_cmd_prefix": "del ",
     "library": "var_list.py",
     "varRefreshCmd": "print(var_dic_list())"
    },
    "r": {
     "delete_cmd_postfix": ") ",
     "delete_cmd_prefix": "rm(",
     "library": "var_list.r",
     "varRefreshCmd": "cat(var_dic_list()) "
    }
   },
   "types_to_exclude": [
    "module",
    "function",
    "builtin_function_or_method",
    "instance",
    "_Feature"
   ],
   "window_display": false
  }
 },
 "nbformat": 4,
 "nbformat_minor": 5
}
