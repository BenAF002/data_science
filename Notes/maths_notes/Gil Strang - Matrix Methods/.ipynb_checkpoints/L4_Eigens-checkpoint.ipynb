{
 "cells": [
  {
   "cell_type": "code",
   "execution_count": 1,
   "id": "f3f2abc3",
   "metadata": {},
   "outputs": [],
   "source": [
    "import numpy as np\n",
    "import matplotlib.pyplot as plt"
   ]
  },
  {
   "cell_type": "markdown",
   "id": "ea8d9598",
   "metadata": {},
   "source": [
    "An eigenvector of a matrix $\\bf A$ is $\\vec{x}$ such that: $${\\bf A}\\vec{x} = \\lambda\\vec{x}$$ Where $\\lambda$ is the scalar eigenvalue associated with $\\vec{x}$. So, an eigenvector of a matrix is a vector that *does not change direction* when transformed by that matrix (it only is scaled)."
   ]
  },
  {
   "cell_type": "markdown",
   "id": "c2ed34ce",
   "metadata": {},
   "source": [
    "When $\\bf A$ is an [$n$x$n$] matrix, we will (almost always) have $n$ eigenvectors."
   ]
  },
  {
   "cell_type": "markdown",
   "id": "aef32b18",
   "metadata": {},
   "source": [
    "What are eigenvectors good for? The key value is seen by looking at $\\bf A^2$: $${\\bf A^2}\\vec{x} = {\\bf A}({\\bf A}\\vec{x}) = {\\bf A}(\\lambda\\vec{x}) = \\lambda({\\bf A}\\vec{x}) = \\lambda^2\\vec{x}$$\n",
    "So, $\\vec{x}$ is **also** an eigenvector of $\\bf A^2$ with eigenvalue $\\lambda^2$. This pattern continues for any power of $\\bf A$: e.g. $${\\bf A}^{-1}\\vec{x} = \\frac{1}{\\lambda}\\vec{x}$$\n",
    "\n",
    "Quick caveat: for $\\bf A^{-1}$ has $\\lambda = 0$, then $\\bf A$ is not invertible. That eigenvector is in the null space of $\\bf A$."
   ]
  },
  {
   "cell_type": "markdown",
   "id": "a075302a",
   "metadata": {},
   "source": [
    "So, in general: $${\\bf A}^n\\vec{x} = \\lambda^n\\vec{x}$$\n",
    "It follows that: $$e^{{\\bf A}t}\\vec{x} = e^{\\lambda t}\\vec{x}$$"
   ]
  },
  {
   "cell_type": "markdown",
   "id": "0778625e",
   "metadata": {},
   "source": [
    "Any function of the matrix has an eigenvector with **the same function** applied to the eigenvalue $\\lambda$. This is a hint at the underlying relationship between matrices and their eigenvectors. For an eigenvector of the matrix $\\bf A$, **the matrix $\\bf A$ acts like a scalar $\\lambda$**."
   ]
  },
  {
   "cell_type": "markdown",
   "id": "4516c6e1",
   "metadata": {},
   "source": [
    "If we have $n$ independent eigenvectors of $\\bf A$, then they form a basis for the space spanned by $\\bf A$. So, we can represent **any vector in that space** as a linear combination of the eigenvectors: $$\\vec{v} = c_1\\vec{x}_1 + \\cdots + c_n\\vec{x}_n$$"
   ]
  },
  {
   "cell_type": "markdown",
   "id": "8f959b5b",
   "metadata": {},
   "source": [
    "Naturally, we can then find the value of ${\\bf A}^k\\vec{v}$ for any $k$, just by knowing the eigenvectors. That is: $${\\bf A}^k\\vec{v} = c_1\\lambda_1^k\\vec{x}_1 + \\cdots + c_n\\lambda_n^k\\vec{x}_n$$"
   ]
  },
  {
   "cell_type": "markdown",
   "id": "5ef1ace6",
   "metadata": {},
   "source": [
    "Let's call ${\\bf A}^k\\vec{v} = {\\bf V}_k$, then: ${\\bf V}_{k+1} = {\\bf AV}_k$. This ${\\bf V}_{k+1}$ is called a ***Difference Equation*** (precisely, it's a one-step difference equation). It is used to solve differential equations like: $$\\frac{d\\vec{v}}{dt} = {\\bf A}\\vec{v}$$"
   ]
  }
 ],
 "metadata": {
  "kernelspec": {
   "display_name": "Python 3 (ipykernel)",
   "language": "python",
   "name": "python3"
  },
  "language_info": {
   "codemirror_mode": {
    "name": "ipython",
    "version": 3
   },
   "file_extension": ".py",
   "mimetype": "text/x-python",
   "name": "python",
   "nbconvert_exporter": "python",
   "pygments_lexer": "ipython3",
   "version": "3.10.9"
  },
  "varInspector": {
   "cols": {
    "lenName": 16,
    "lenType": 16,
    "lenVar": 40
   },
   "kernels_config": {
    "python": {
     "delete_cmd_postfix": "",
     "delete_cmd_prefix": "del ",
     "library": "var_list.py",
     "varRefreshCmd": "print(var_dic_list())"
    },
    "r": {
     "delete_cmd_postfix": ") ",
     "delete_cmd_prefix": "rm(",
     "library": "var_list.r",
     "varRefreshCmd": "cat(var_dic_list()) "
    }
   },
   "types_to_exclude": [
    "module",
    "function",
    "builtin_function_or_method",
    "instance",
    "_Feature"
   ],
   "window_display": false
  }
 },
 "nbformat": 4,
 "nbformat_minor": 5
}
