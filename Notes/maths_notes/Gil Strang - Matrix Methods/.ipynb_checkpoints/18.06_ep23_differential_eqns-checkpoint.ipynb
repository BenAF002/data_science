{
 "cells": [
  {
   "cell_type": "code",
   "execution_count": 1,
   "id": "61e8f56e",
   "metadata": {},
   "outputs": [],
   "source": [
    "import numpy as np\n",
    "import matplotlib.pyplot as plt"
   ]
  },
  {
   "cell_type": "markdown",
   "id": "167c9f98",
   "metadata": {},
   "source": [
    "# Prereqs"
   ]
  },
  {
   "cell_type": "markdown",
   "id": "e55431fa",
   "metadata": {},
   "source": [
    "## Separable Differential Equations"
   ]
  },
  {
   "cell_type": "markdown",
   "id": "6492bd45",
   "metadata": {},
   "source": [
    "***Differential Equation*** is an equation where the solution is a function or set of functions. \n",
    "\n",
    "Often, differential equations have multiple solutions. E.g., $$y''+2y'=3y$$ Has solutions: $$y_1(x) = e^{-3x}$$ $$y_2(x) = e^x$$"
   ]
  },
  {
   "cell_type": "markdown",
   "id": "1a137e2d",
   "metadata": {},
   "source": [
    "Let's take a function through the point (0,1): $$\\frac{dy}{dx} = \\frac{-x}{ye^{x^2}}$$"
   ]
  },
  {
   "cell_type": "markdown",
   "id": "178d3f6e",
   "metadata": {},
   "source": [
    "This is a ***Separable Differential Equation*** because we can algebraically isolate the $y$ and $x$ terms on each side of the equation:\n",
    "$$\\Rightarrow ydy = -xe^{-x^2}dx$$"
   ]
  },
  {
   "cell_type": "markdown",
   "id": "7b4eacc2",
   "metadata": {},
   "source": [
    "Integrating both sides:\n",
    "$$\\Rightarrow \\int ydy = \\int -xe^{-x^2}dx$$\n",
    "$$\\Rightarrow \\frac{y^2}{2} + c_1 = \\frac{1}{2}e^{-x^2} +c_2$$\n",
    "Note, we got the right-hand-side using $u$ substitution with $u=-x^2$."
   ]
  },
  {
   "cell_type": "markdown",
   "id": "ce3afecc",
   "metadata": {},
   "source": [
    "Then, inputting the initial condition (0,1):\n",
    "$$\\frac{1}{2} = \\frac{1}{2} + (c_2 - c_1) \\Rightarrow (c_2 - c_1) = 0 \\Rightarrow y = e^{-\\frac{x^2}{2}}$$"
   ]
  },
  {
   "cell_type": "markdown",
   "id": "5b11021d",
   "metadata": {},
   "source": [
    "## 2nd Order Linear Homogeneous Differential Equations"
   ]
  },
  {
   "cell_type": "markdown",
   "id": "54a8b601",
   "metadata": {},
   "source": [
    "\"2nd order\" means that the second derivative is involved. \"Linear\" means that the equation is a linear combination of the derivatives:\n",
    "$$a(x)y'' + b(x)y' + c(x)y = d(x)$$\n",
    "In order for this to be linear, the coefficients must be functions **only of $x$**."
   ]
  },
  {
   "cell_type": "markdown",
   "id": "a3b2b14c",
   "metadata": {},
   "source": [
    "This is \"Homogeneous\" if it is equal to 0:\n",
    "$$Ay'' + By' + Cy = 0$$"
   ]
  },
  {
   "cell_type": "markdown",
   "id": "18df1a0e",
   "metadata": {},
   "source": [
    "A couple useful properties of second order linear homogeneous differential equations:\n",
    "1. If $g(x)$ is a solution, then $cg(x)$ is also a solution for constant $c$.\n",
    "2. If $g(x)$ and $h(x)$ are both solutions, then $g(x) + h(x)$ is also a solution."
   ]
  },
  {
   "cell_type": "markdown",
   "id": "9c0440b8",
   "metadata": {},
   "source": [
    "## MIT OCW 18.03 - L24: Systems of Differential Equations"
   ]
  },
  {
   "cell_type": "markdown",
   "id": "faf01256",
   "metadata": {},
   "source": [
    "Systems of **First Order ODE's**: so we have only one independent variable but several dependent variables. E.g.: $$\\frac{dx}{dt} = f(x, y ; t) \\\\ \\frac{dy}{dt} = f(x,y;t)$$ Here, $x$ and $y$ are dependent variables and $t$ is an independent variable."
   ]
  },
  {
   "cell_type": "markdown",
   "id": "6be5078a",
   "metadata": {},
   "source": [
    "For such a system to be **Linear**, the dependent variables must be linear combinations in the differential equations, but the independent variable need not be. So: $$\\frac{dx}{dt} = ax + by + g_1(t) \\\\ \\frac{dy}{dt} = cx + dy + g_2(t)$$\n",
    "This is a system of linear first order ODE's for constant coefficients $a,b,c,d$. If these coeeficients are functions of $t$ (and **only** $t$), then the system is still linear; i.e. $a(t), b(t), c(t), d(t)$."
   ]
  },
  {
   "cell_type": "markdown",
   "id": "78640717",
   "metadata": {},
   "source": [
    "This system is **homogeneous** if: $$g_1(t)=0 \\\\ g_2(t)=0$$ "
   ]
  },
  {
   "cell_type": "markdown",
   "id": "1de0f866",
   "metadata": {},
   "source": [
    "**Initial Conditions:**\n",
    "\n",
    "So, generally we need initial conditions to solve the arbitrary constants that appear in the solutions to a system of differential equations. In this system we will have two constants (for two equations). So, $$x(t_0)=x_0 \\\\ y(t_0)=y_0$$ In a second order system we would also need initial conditions for the first derivatives, similarly we may need boundary conditions."
   ]
  },
  {
   "cell_type": "markdown",
   "id": "64aa3cd7",
   "metadata": {},
   "source": [
    "**Involved Example:**\n",
    "\n",
    "Temperature of a pot of water: $T_e(t)$; Temperature of the white of an egg being cooked in the water: $T_2$; temperature of the egg yolk: $T_1$\n",
    "\n",
    "$$\\frac{dT_1}{dt} = a(T_2 - T_1) \\Rightarrow -aT_1 + aT_2 \\\\\n",
    "\\frac{dT_2}{dt} = a(T_1 - T_2) + b(T_e - T_2) \\Rightarrow -T_2(a + b) + aT_1 + bT_e$$"
   ]
  },
  {
   "cell_type": "markdown",
   "id": "bd26dc6e",
   "metadata": {},
   "source": [
    "Let's start with $T_e(t) = 0$ so that the equation is homogeneous. Then let $a = 2$ and $b = 3$. \n",
    "$$T_1' = -2T_1 + 2T_2 \\\\ T_2' = 2T_1 - 5T_2$$"
   ]
  },
  {
   "cell_type": "markdown",
   "id": "2b075e8e",
   "metadata": {},
   "source": [
    "We can solve this most simply by treating it as a linear system of equation and using elimination of variables:\n",
    "$$T_2 = \\frac{T_1' + 2T_1}{2} \\\\ \\Rightarrow \\left(\\frac{T_1' + 2T_1}{2}\\right)' = 2T_1 - 5\\frac{T_1' + 2T_1}{2}$$ This is a second order differential equation because we are taking $(T_1')'$. So, we must note that solving a system of differential equations by elimination will produce a differential equation of one variable that is **the same order** as the number of equations."
   ]
  },
  {
   "cell_type": "markdown",
   "id": "b4edb171",
   "metadata": {},
   "source": [
    "Now we can collect the terms:\n",
    "$$ T_1'' + 7T_1' + 6T_1 = 0$$\n",
    "Then, this can be solved with a factorization of the ***Characteristic Equation***:\n",
    "$$r^2 + 7r + 6 = (r+1)(r+6)=0$$ With characteristic roots: $$r=-1, r=-6$$ This produces the solutions: $$T_1 = c_1e^{-t} + c_2e^{-6t}$$"
   ]
  },
  {
   "cell_type": "markdown",
   "id": "d2d04af3",
   "metadata": {
    "heading_collapsed": true
   },
   "source": [
    "# Actual Lecture"
   ]
  },
  {
   "cell_type": "markdown",
   "id": "6ea80923",
   "metadata": {
    "hidden": true
   },
   "source": [
    "On solving a system of first-order, first-derivative linear equations: \"the key idea is the solutions to constant coefficient linear equations are exponentials\". "
   ]
  },
  {
   "cell_type": "markdown",
   "id": "352baaed",
   "metadata": {
    "hidden": true
   },
   "source": [
    "Ex:\n",
    "$$\\frac{du_1}{dt} = -u_1 + 2u_2$$\n",
    "$$\\frac{du_2}{dt} = u_1 - 2u_2$$\n",
    "$${\\bf A} = \n",
    "\\begin{bmatrix}\n",
    "-1 & 2 \\\\\n",
    "1 & -2\n",
    "\\end{bmatrix}\n",
    "$$"
   ]
  },
  {
   "cell_type": "markdown",
   "id": "19c512af",
   "metadata": {
    "hidden": true
   },
   "source": [
    "Suppose the initial conditions are:\n",
    "$$\\vec{u}(0) = \\begin{bmatrix} 1 \\\\ 0 \\end{bmatrix}$$\n",
    "Let's look at the eigenvalues and eigenvectors. $\\text{det}({\\bf A}) = 0$, so $\\bf A$ is a ***Singular Matrix***"
   ]
  }
 ],
 "metadata": {
  "kernelspec": {
   "display_name": "Python 3 (ipykernel)",
   "language": "python",
   "name": "python3"
  },
  "language_info": {
   "codemirror_mode": {
    "name": "ipython",
    "version": 3
   },
   "file_extension": ".py",
   "mimetype": "text/x-python",
   "name": "python",
   "nbconvert_exporter": "python",
   "pygments_lexer": "ipython3",
   "version": "3.10.9"
  },
  "varInspector": {
   "cols": {
    "lenName": 16,
    "lenType": 16,
    "lenVar": 40
   },
   "kernels_config": {
    "python": {
     "delete_cmd_postfix": "",
     "delete_cmd_prefix": "del ",
     "library": "var_list.py",
     "varRefreshCmd": "print(var_dic_list())"
    },
    "r": {
     "delete_cmd_postfix": ") ",
     "delete_cmd_prefix": "rm(",
     "library": "var_list.r",
     "varRefreshCmd": "cat(var_dic_list()) "
    }
   },
   "types_to_exclude": [
    "module",
    "function",
    "builtin_function_or_method",
    "instance",
    "_Feature"
   ],
   "window_display": false
  }
 },
 "nbformat": 4,
 "nbformat_minor": 5
}
