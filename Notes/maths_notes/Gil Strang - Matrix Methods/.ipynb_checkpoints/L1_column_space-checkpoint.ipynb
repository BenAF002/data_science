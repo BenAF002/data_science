{
 "cells": [
  {
   "cell_type": "code",
   "execution_count": 1,
   "id": "8fea3597",
   "metadata": {},
   "outputs": [],
   "source": [
    "import numpy as np\n",
    "import matplotlib.pyplot as plt\n",
    "from mpl_toolkits import mplot3d"
   ]
  },
  {
   "cell_type": "markdown",
   "id": "8cb484e2",
   "metadata": {},
   "source": [
    "Consider matrix multplication: matrix $A$ multiplied with column vector $\\vec{x}$. Often, we conceive of this multiplication as taking the dot product of the row vectors of $A$ and $\\vec{x}$. But we may also conceive of it is as a linear combination of vectors, e.g.:\n",
    "\n",
    "$$\n",
    "A =\n",
    "\\begin{bmatrix}\n",
    "2 & 1 & 3 \\\\\n",
    "3 & 1 & 4 \\\\\n",
    "5 & 7 & 1\n",
    "\\end{bmatrix}\n",
    "$$\n",
    "$$\n",
    "\\vec{x} = \n",
    "\\begin{bmatrix}\n",
    "x_1 \\\\\n",
    "x_2 \\\\\n",
    "x_3 \\\\\n",
    "\\end{bmatrix}\n",
    "$$\n",
    "$$\n",
    "A\\vec{x} =\n",
    "x_1\n",
    "\\begin{bmatrix}\n",
    "2 \\\\\n",
    "3 \\\\\n",
    "5 \\\\\n",
    "\\end{bmatrix}\n",
    "+\n",
    "x_2\n",
    "\\begin{bmatrix}\n",
    "1 \\\\\n",
    "1 \\\\\n",
    "7 \\\\\n",
    "\\end{bmatrix}\n",
    "+\n",
    "x_3\n",
    "\\begin{bmatrix}\n",
    "3 \\\\\n",
    "4 \\\\\n",
    "12 \\\\\n",
    "\\end{bmatrix}\n",
    "$$"
   ]
  },
  {
   "cell_type": "markdown",
   "id": "3764d65d",
   "metadata": {},
   "source": [
    "This vector-multiplication conceptualization is how we envision linear systems of equations. This is also a more explicit representation of the series of transformations applied to $\\vec{x}$ in the $x_1$, $x_2$, and $x_3$ directions by the matrix $A$."
   ]
  },
  {
   "cell_type": "markdown",
   "id": "85617521",
   "metadata": {},
   "source": [
    "Now lets think of $X$ as a set of column vectors $\\vec{x}$. Then $AX$ is a transformation of the *space* spanned by the vectors in $X$. The new space resulting from the transformation is the ***Column Space*** of $A$, $C(A)$\n",
    "\n",
    "So, $A\\vec{x}$ is in the column space $C(A)$"
   ]
  },
  {
   "cell_type": "markdown",
   "id": "e7e58b16",
   "metadata": {},
   "source": [
    "The column space of $A$ defined in $\\mathbb{R}^3$ will span $\\mathbb{R}^3$ if all columns of $A$ are linearly independent. If only two columns are linearly independent, then $C(A)$ will only span $\\mathbb{R}^2$, which is a plane. And if only one column is linearly independent, then the column space of $A$ will span $\\mathbb{R}$, which is a line. "
   ]
  },
  {
   "cell_type": "markdown",
   "id": "aa290f42",
   "metadata": {},
   "source": [
    "The ***Column Rank*** of $A$ is the dimension of its column space. So if $C(A)$ spans $\\mathbb{R}^3$, then the rank of $A$ is rank 1."
   ]
  },
  {
   "cell_type": "markdown",
   "id": "7dc779b4",
   "metadata": {},
   "source": [
    "In the example matrix $A$ given above, the third column is the sum of the first two columns. Therefore, the third column is linearly dependent upon the first two columns. So, this example matrix is **rank 2**: $C(A) \\in \\mathbb{R}^2$"
   ]
  },
  {
   "cell_type": "markdown",
   "id": "fe9ab7e0",
   "metadata": {},
   "source": [
    "Rank 1 matrices may be interpreted as the product of a column vector and a row vector. Really, this is the ***Kronecker Sum*** of a column vector and a row vector which is equivalent to the product of a 1 column matrix and a 1 row matrix. Ex:\n",
    "$$\n",
    "{\\bf A} = \n",
    "\\begin{bmatrix}\n",
    "u_1 & v_1u_1 & v_2u_1 \\\\\n",
    "u_2 & v_1u_2 & v_2u_2 \\\\\n",
    "u_3 & v_1u_3 & v_2u_3\n",
    "\\end{bmatrix}\n",
    "= \n",
    "\\begin{bmatrix}\n",
    "u_1 \\\\\n",
    "u_2 \\\\\n",
    "u_3\n",
    "\\end{bmatrix}\n",
    "[v_1, v_2, v_3]\n",
    "=\n",
    "\\vec{u}\\oplus\\vec{v}\n",
    "= {\\bf uv}^T\n",
    "$$"
   ]
  },
  {
   "cell_type": "markdown",
   "id": "658a6724",
   "metadata": {},
   "source": [
    "The ***Basis*** of the column space is comprised of the linearly independent columns of $A$. Explicitly, these columns, when interpreted as vectors, span the column space so they form its basis. Let's consider how to algebraically determine the basis of $C(A)$. Let $C$ be the matrix comprised of the basis vectors of $C(A)$ and $R$ be some matrix such that:\n",
    "\n",
    "$${\\bf A = CR}$$\n",
    "\n",
    "Note that the dimensions have to align with the column rank of $A$. That is, if $A$ is [$n$x$n$] with column rank $m$, then $C$ is [$n$x$m$] and $R$ is [$m$x$n$]."
   ]
  },
  {
   "cell_type": "markdown",
   "id": "98374f6b",
   "metadata": {},
   "source": [
    "Continuing witht the example matrix:\n",
    "\n",
    "$$\n",
    "{\\bf A} =\n",
    "\\begin{bmatrix}\n",
    "2 & 1 & 3 \\\\\n",
    "3 & 1 & 4 \\\\\n",
    "5 & 7 & 1\n",
    "\\end{bmatrix}\n",
    "=\n",
    "\\begin{bmatrix}\n",
    "2 & 1 \\\\\n",
    "3 & 1 \\\\\n",
    "5 & 7\n",
    "\\end{bmatrix}\n",
    "\\begin{bmatrix}\n",
    "1 & 0 & 1 \\\\ \n",
    "0 & 1 & 1\n",
    "\\end{bmatrix}\n",
    "$$"
   ]
  },
  {
   "cell_type": "markdown",
   "id": "35360d60",
   "metadata": {},
   "source": [
    "How did we get $R$? Well, looking at the vector-combination interpretation of matrix multiplication makes it clear that we simply consider what **combination** of the column vectors in $C$ are needed to yield the corresponding column of $A$:\n",
    "$$\\vec{a}_1 = \n",
    "\\begin{bmatrix}\n",
    "2\\\\\n",
    "3\\\\\n",
    "5\n",
    "\\end{bmatrix}\n",
    "=\n",
    "r_{11}\n",
    "\\begin{bmatrix}\n",
    "2\\\\\n",
    "3\\\\\n",
    "5\n",
    "\\end{bmatrix}\n",
    "+\n",
    "r_{21}\n",
    "\\begin{bmatrix}\n",
    "1\\\\\n",
    "1\\\\\n",
    "7\n",
    "\\end{bmatrix}\n",
    "\\Rightarrow r_{11} = 1, r_{21} = 0\n",
    "$$"
   ]
  },
  {
   "cell_type": "markdown",
   "id": "2d415d4a",
   "metadata": {},
   "source": [
    "A significant takeaway from this equation is the fact that the **column rank equals the row rank**. That is, if the columns are linearly dependent then **so are the rows**. \n",
    "\n",
    "The ***Row Space*** of a matrix is the space spanned by its row vectors. It's ***Row Rank*** is the dimension of this space. Equivalently, it is the column space of the transposed matrix, i.e. $C(A^T)$"
   ]
  },
  {
   "cell_type": "markdown",
   "id": "0e47fc6a",
   "metadata": {},
   "source": [
    "In our example, the rows of $R$ **are the basis for the row space** of $R$. They are independent, which is pretty evident, but their combinations also produce all of the rows of $A$. Ex:\n",
    "$$\n",
    "\\begin{bmatrix}\n",
    "1 & 0 & 1 \\\\ \n",
    "0 & 1 & 1\n",
    "\\end{bmatrix}\n",
    "\\begin{bmatrix} 2 & 1 \\end{bmatrix} = \\begin{bmatrix} 2 + 0 & 0 + 1 & 2 + 1 \\end{bmatrix}\n",
    "= \\begin{bmatrix} 2 & 1 & 3 \\end{bmatrix}\n",
    "$$\n",
    "$$\n",
    "\\begin{bmatrix}\n",
    "1 & 0 & 1 \\\\ \n",
    "0 & 1 & 1\n",
    "\\end{bmatrix}\n",
    "\\begin{bmatrix} 3 & 1 \\end{bmatrix} = \\begin{bmatrix} 3 + 0 & 0 + 1 & 3 + 1 \\end{bmatrix}\n",
    "= \\begin{bmatrix} 3 & 1 & 4 \\end{bmatrix}\n",
    "$$\n",
    "$$\n",
    "\\begin{bmatrix}\n",
    "1 & 0 & 1 \\\\ \n",
    "0 & 1 & 1\n",
    "\\end{bmatrix}\n",
    "\\begin{bmatrix} 5 & 7 \\end{bmatrix} = \\begin{bmatrix} 5 + 0 & 0 + 7 & 5 + 7 \\end{bmatrix}\n",
    "= \\begin{bmatrix} 5 & 7 & 12 \\end{bmatrix}\n",
    "$$"
   ]
  },
  {
   "cell_type": "markdown",
   "id": "c0130c36",
   "metadata": {},
   "source": [
    "This is nothing more than the interpretation of $CR$ as a combination of the **row** vectors instead of the **column** vectors. **BAM**."
   ]
  },
  {
   "cell_type": "markdown",
   "id": "60674e92",
   "metadata": {},
   "source": [
    "So, $\\bf R$ is the **row basis** of $\\bf A$ and $\\bf C$ is the **column basis** of $\\bf A$. I guess, more precisely they are the row and column basises of the row and column spaces of $\\bf A$.\n",
    "\n",
    "$\\bf R$ is called the ***Row Reduced Echelon Form*** of $\\bf A$.\n",
    "\n",
    "If we were to use true rows from $\\bf A$, i.e. rows that are taken directly from $\\bf A$ we would need a third matrix in the multiplication (of size [2x2], so that the resulting product is [3x3]) to relate them."
   ]
  },
  {
   "cell_type": "markdown",
   "id": "787b39ea",
   "metadata": {},
   "source": [
    "**Aside:**\n",
    "${\\bf A}\\vec{x}$ is in $C({\\bf A})$, but ${\\bf ABC}\\vec{x}$ is **also** in $C({\\bf A})$. This is because ${\\bf ABC}\\vec{x} = {\\bf A(BC}\\vec{x})$. It is $\\bf A$ times something. Geometrically, we can think of the transformations with $\\bf A$ being applied to the vector ${\\bf BC}\\vec{x}$, which necessarily transform this vector into the column space of $\\bf A$... Recalling that matrix operations occur in sequence from right-to-left not from left-to-right."
   ]
  },
  {
   "cell_type": "markdown",
   "id": "a39322bf",
   "metadata": {},
   "source": [
    "$$\\bf AB$$\n",
    "\n",
    "The standard conceptualization of matrix multiplication is to take the row vector by column vector dot products. We can think of this as a combination of the products of the 1 column matrices of $\\bf A$ and the 1 row matrices of $\\bf B$: \n",
    "$$\\bf AB = \\sum\n",
    "c_{a,1}r_{b,1} +\n",
    "c_{a,2}r_{b,2} +\n",
    "\\cdots +\n",
    "c_{a,n}r_{b,n}\n",
    "$$"
   ]
  },
  {
   "cell_type": "markdown",
   "id": "b72aa163",
   "metadata": {},
   "source": [
    "This is a sum of the ***Outer Products*** of the matrices. This is just the generalization of ${\\bf A} \\vec{x}$ found earlier if we treat each column of $\\bf B$ as a vector."
   ]
  },
  {
   "cell_type": "markdown",
   "id": "b904585e",
   "metadata": {},
   "source": [
    "## Problem Set"
   ]
  },
  {
   "cell_type": "markdown",
   "id": "a35b31a7",
   "metadata": {},
   "source": [
    "### Problem 1"
   ]
  },
  {
   "cell_type": "code",
   "execution_count": 7,
   "id": "ff66056a",
   "metadata": {},
   "outputs": [
    {
     "name": "stdout",
     "output_type": "stream",
     "text": [
      "[0 0 0 0]\n"
     ]
    },
    {
     "data": {
      "text/plain": [
       "array([[ 1,  4, -5],\n",
       "       [ 2,  6, -8],\n",
       "       [ 3,  3, -6],\n",
       "       [ 4,  1, -5]])"
      ]
     },
     "execution_count": 7,
     "metadata": {},
     "output_type": "execute_result"
    }
   ],
   "source": [
    "v1 = np.array([1, 2, 3, 4])\n",
    "v2 = np.array([4, 6, 3, 1])\n",
    "v3 = np.array([-5, -8, -6, -5])\n",
    "print(v1+v2+v3)\n",
    "\n",
    "A = np.stack((v1, v2, v3)).T\n",
    "A"
   ]
  },
  {
   "cell_type": "markdown",
   "id": "1d42cfea",
   "metadata": {},
   "source": [
    "### Problem 2"
   ]
  },
  {
   "cell_type": "code",
   "execution_count": 9,
   "id": "97f2ccf5",
   "metadata": {},
   "outputs": [
    {
     "data": {
      "text/plain": [
       "array([[1., 1., 1.],\n",
       "       [1., 1., 1.],\n",
       "       [1., 1., 1.]])"
      ]
     },
     "execution_count": 9,
     "metadata": {},
     "output_type": "execute_result"
    }
   ],
   "source": [
    "A = np.ones((3,3))\n",
    "A"
   ]
  },
  {
   "cell_type": "code",
   "execution_count": 11,
   "id": "df4694de",
   "metadata": {},
   "outputs": [
    {
     "data": {
      "text/plain": [
       "array([[1, 1, 1],\n",
       "       [0, 0, 0],\n",
       "       [0, 0, 0]])"
      ]
     },
     "execution_count": 11,
     "metadata": {},
     "output_type": "execute_result"
    }
   ],
   "source": [
    "# rref A\n",
    "rA = np.array(([1,1,1], [0,0,0], [0,0,0]))\n",
    "rA"
   ]
  },
  {
   "cell_type": "code",
   "execution_count": 15,
   "id": "7a934b2e",
   "metadata": {},
   "outputs": [
    {
     "data": {
      "text/plain": [
       "(array([0., 0., 0.]), array([0., 0., 0.]))"
      ]
     },
     "execution_count": 15,
     "metadata": {},
     "output_type": "execute_result"
    }
   ],
   "source": [
    "x = np.array([0, 1, -1])\n",
    "y = np.array([1, 0, -1])\n",
    "\n",
    "A@x.T, A@y.T"
   ]
  },
  {
   "cell_type": "code",
   "execution_count": 16,
   "id": "b8e8527f",
   "metadata": {},
   "outputs": [
    {
     "data": {
      "text/plain": [
       "array([0., 0., 0.])"
      ]
     },
     "execution_count": 16,
     "metadata": {},
     "output_type": "execute_result"
    }
   ],
   "source": [
    "z = np.array([1, -1, 0])\n",
    "A@z.T"
   ]
  },
  {
   "cell_type": "markdown",
   "id": "9f34fdf3",
   "metadata": {},
   "source": [
    "We can produce this third vector $\\vec{z}$ which is also a soultion to the null space of $\\bf A$. However, it is not a basis of the null space of $\\bf A$ because it is just a linear combination of the vectors $\\vec{x}$ and $\\vec{y}$."
   ]
  },
  {
   "cell_type": "markdown",
   "id": "395b4f27",
   "metadata": {},
   "source": [
    "### P3"
   ]
  },
  {
   "cell_type": "markdown",
   "id": "7854ed94",
   "metadata": {},
   "source": [
    "Let $C({\\bf A})$ span $\\mathbb{R}^3$. Then the rank of $\\bf A$ is $r = 3$. If $\\bf A$ is [$m$x$n$], then $m \\ge 3$, and $n \\ge 3$."
   ]
  },
  {
   "cell_type": "markdown",
   "id": "516f5742",
   "metadata": {},
   "source": [
    "### P4"
   ]
  },
  {
   "cell_type": "code",
   "execution_count": 17,
   "id": "9f2a7fc5",
   "metadata": {},
   "outputs": [],
   "source": [
    "#uhhhh"
   ]
  }
 ],
 "metadata": {
  "kernelspec": {
   "display_name": "Python 3 (ipykernel)",
   "language": "python",
   "name": "python3"
  },
  "language_info": {
   "codemirror_mode": {
    "name": "ipython",
    "version": 3
   },
   "file_extension": ".py",
   "mimetype": "text/x-python",
   "name": "python",
   "nbconvert_exporter": "python",
   "pygments_lexer": "ipython3",
   "version": "3.10.9"
  },
  "varInspector": {
   "cols": {
    "lenName": 16,
    "lenType": 16,
    "lenVar": 40
   },
   "kernels_config": {
    "python": {
     "delete_cmd_postfix": "",
     "delete_cmd_prefix": "del ",
     "library": "var_list.py",
     "varRefreshCmd": "print(var_dic_list())"
    },
    "r": {
     "delete_cmd_postfix": ") ",
     "delete_cmd_prefix": "rm(",
     "library": "var_list.r",
     "varRefreshCmd": "cat(var_dic_list()) "
    }
   },
   "types_to_exclude": [
    "module",
    "function",
    "builtin_function_or_method",
    "instance",
    "_Feature"
   ],
   "window_display": false
  }
 },
 "nbformat": 4,
 "nbformat_minor": 5
}
