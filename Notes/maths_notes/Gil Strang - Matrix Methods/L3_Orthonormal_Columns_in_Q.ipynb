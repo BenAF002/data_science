{
 "cells": [
  {
   "cell_type": "code",
   "execution_count": 1,
   "id": "05f20d21",
   "metadata": {},
   "outputs": [],
   "source": [
    "import numpy as np\n",
    "import matplotlib.pyplot as plt"
   ]
  },
  {
   "cell_type": "markdown",
   "id": "a77879fe",
   "metadata": {},
   "source": [
    "## Q"
   ]
  },
  {
   "cell_type": "markdown",
   "id": "da93e4b8",
   "metadata": {},
   "source": [
    "Let $\\bf Q$ be a matrix with orthonormal columns: $${\\bf Q}^T\\bf Q = I$$\n",
    "I did a brief demonstration of why this is true in L2."
   ]
  },
  {
   "cell_type": "markdown",
   "id": "afe2d88c",
   "metadata": {},
   "source": [
    "For square $\\bf Q$: $${\\bf QQ}^T = \\bf I$$\n",
    "In this case we call $\\bf Q$ an **Orthogonal Matrix** which seems like an irksome naming convention becuase nonsquare $\\bf Q$ are orthonormal as well."
   ]
  },
  {
   "cell_type": "markdown",
   "id": "dae8fe83",
   "metadata": {},
   "source": [
    "Note that transformations by orthonormal matrices do not change the length of the vectors that they transform - which is intuitive because the orthonormal vectors in the orthonormal matrix all have length 1.\n",
    "$$\\|{\\bf Q}\\vec{x}\\|^2 = \\|\\vec{x}\\|^2 \\Rightarrow ({\\bf Qx})^T{\\bf Qx} = {\\bf x}^T\\bf x \\\\$$\n",
    "$$\\Rightarrow {\\bf x}^T{\\bf Q}^T{\\bf Qx} = {\\bf x}^T{\\bf Ix} = {\\bf x}^T\\bf x$$"
   ]
  },
  {
   "cell_type": "markdown",
   "id": "99cae285",
   "metadata": {},
   "source": [
    "Following from ${\\bf Q}^T\\bf Q = I$, it is necessarily true that: $${\\bf Q}^T = {\\bf Q}^{-1}$$"
   ]
  },
  {
   "cell_type": "markdown",
   "id": "0db7f302",
   "metadata": {},
   "source": [
    "Ex. Rotation Matrix:\n",
    "$$\n",
    "{\\bf Q} =\n",
    "\\begin{bmatrix}\n",
    "\\cos\\theta & -\\sin\\theta \\\\\n",
    "\\sin\\theta & \\cos\\theta\n",
    "\\end{bmatrix}\n",
    "$$\n",
    "\n",
    "Ex. Reflection Matrix (which reflects across the line $y = \\frac{\\theta}{2}x$):\n",
    "$$\n",
    "{\\bf Q} =\n",
    "\\begin{bmatrix}\n",
    "\\cos\\theta & \\sin\\theta \\\\\n",
    "\\sin\\theta & -\\cos\\theta\n",
    "\\end{bmatrix}\n",
    "$$"
   ]
  },
  {
   "cell_type": "markdown",
   "id": "d14311ee",
   "metadata": {},
   "source": [
    "***Householder Reflections:***\n",
    "\n",
    "Start with a unit vector $\\vec{u} \\rightarrow {\\bf u}^T\\bf u = I$: $${\\bf H = I} - 2{\\bf uu}^T$$"
   ]
  },
  {
   "cell_type": "markdown",
   "id": "5c92ae80",
   "metadata": {},
   "source": [
    "$\\bf H$ is orthogonal and symmetric (because $\\bf I$ is symmetric and ${\\bf uu}^T$ is symmetric)."
   ]
  },
  {
   "cell_type": "markdown",
   "id": "0cebf7cb",
   "metadata": {},
   "source": [
    "***Hadamard Family:***\n",
    "\n",
    "Take a square matrix $\\bf H_1$ and compose a new square matrix, $\\bf H_2$, where each element is $\\bf H_1$ multiplied by the sign of the corresponding element of $\\bf H_1$:\n",
    "$${\\bf H_1} =\n",
    "\\begin{bmatrix}\n",
    "1 & 1 \\\\\n",
    "1 & -1\n",
    "\\end{bmatrix}\n",
    "\\Rightarrow {\\bf H_2} = \n",
    "\\begin{bmatrix}\n",
    "{\\bf H_1} & {\\bf H_1} \\\\\n",
    "{\\bf H_1} & -{\\bf H_1}\n",
    "\\end{bmatrix}\n",
    "\\Rightarrow\n",
    "{\\bf H_2} = \n",
    "\\begin{bmatrix}\n",
    "1 & 1 & 1 & 1 \\\\\n",
    "1 & -1 & 1 & -1 \\\\\n",
    "1 & 1 & -1 & -1 \\\\\n",
    "1 & -1 & -1 & 1\n",
    "\\end{bmatrix}\n",
    "$$"
   ]
  },
  {
   "cell_type": "markdown",
   "id": "18172b6c",
   "metadata": {},
   "source": [
    "The columns of $\\bf H_2$ are orthogonal. Normalized $\\bf H_2$ is orthonormal (that is, when divided by some scalar such that the magnitude of its column vectors are all 1. In this example that scalar is $1/2$."
   ]
  },
  {
   "cell_type": "markdown",
   "id": "39399457",
   "metadata": {},
   "source": [
    "This holds for any square matrix on size [$n$x$n$] if $n/4$ is a whole number - that is, for all $n$ that are multiples of 4. This is just a conjecture, there is no proof for it yet... "
   ]
  },
  {
   "cell_type": "markdown",
   "id": "c817edc1",
   "metadata": {},
   "source": [
    "## Eigenvectors"
   ]
  },
  {
   "cell_type": "markdown",
   "id": "56e9c604",
   "metadata": {},
   "source": [
    "The eigenvectors of a symmetric matrix ${\\bf S}^T = \\bf S$ are orthogonal. As are those of an orthogonal matrix $\\bf Q$."
   ]
  },
  {
   "cell_type": "markdown",
   "id": "2bba7aae",
   "metadata": {},
   "source": [
    "For an orthogonal matrix $\\bf Q$, the eigenvectors will be complex numbers :("
   ]
  },
  {
   "cell_type": "markdown",
   "id": "a1569973",
   "metadata": {},
   "source": [
    "Let's look at $\\bf Q$:\n",
    "$${\\bf Q} = \n",
    "\\begin{bmatrix}\n",
    "0 & 1 & 0 & 0 \\\\\n",
    "0 & 0 & 1 & 0 \\\\\n",
    "0 & 0 & 0 & 1 \\\\\n",
    "1 & 0 & 0 & 0\n",
    "\\end{bmatrix}\n",
    "$$"
   ]
  },
  {
   "cell_type": "markdown",
   "id": "19eaf227",
   "metadata": {},
   "source": [
    "$$\\vec{f}_1 =\n",
    "\\begin{bmatrix}\n",
    " 1 \\\\\n",
    " 1 \\\\\n",
    " 1 \\\\\n",
    " 1\n",
    "\\end{bmatrix}\n",
    "$$\n",
    "\n",
    "This is the first eigenvector of $\\bf Q$. This is called the ***Zero-Frequency Fourier Vector*** or the ***Constant Vector***. Any permutation of an orthonormal transformation $\\bf Q$ will leave this vector **unchanged**."
   ]
  },
  {
   "cell_type": "markdown",
   "id": "db463145",
   "metadata": {},
   "source": [
    "$$\n",
    "\\vec{f}_2 = \n",
    "\\begin{bmatrix}\n",
    "1 \\\\\n",
    "i \\\\\n",
    "i^2 \\\\\n",
    "i^3\n",
    "\\end{bmatrix}\n",
    "$$\n",
    "\n",
    "This is the second eigenvector of $\\bf Q$.  I'll just toss the last two in the full eigenvector matrix:\n",
    "$$\n",
    "{\\bf F_4} = \n",
    "\\begin{bmatrix}\n",
    "1 & 1 & 1 & 1 \\\\\n",
    "1 & i & i^2 & i^3 \\\\\n",
    "1 & i^2 & i^4 & i^6 \\\\\n",
    "1 & i^3 & i^6 & i^9\n",
    "\\end{bmatrix}\n",
    "$$"
   ]
  },
  {
   "cell_type": "markdown",
   "id": "571055b1",
   "metadata": {},
   "source": [
    "This is a ***Discrete Fourier Transformation***\n",
    "\n",
    "Some of these $i$s need to be complex conjugates technically..."
   ]
  },
  {
   "cell_type": "code",
   "execution_count": null,
   "id": "49c6e9ba",
   "metadata": {},
   "outputs": [],
   "source": []
  }
 ],
 "metadata": {
  "kernelspec": {
   "display_name": "Python 3 (ipykernel)",
   "language": "python",
   "name": "python3"
  },
  "language_info": {
   "codemirror_mode": {
    "name": "ipython",
    "version": 3
   },
   "file_extension": ".py",
   "mimetype": "text/x-python",
   "name": "python",
   "nbconvert_exporter": "python",
   "pygments_lexer": "ipython3",
   "version": "3.10.9"
  },
  "varInspector": {
   "cols": {
    "lenName": 16,
    "lenType": 16,
    "lenVar": 40
   },
   "kernels_config": {
    "python": {
     "delete_cmd_postfix": "",
     "delete_cmd_prefix": "del ",
     "library": "var_list.py",
     "varRefreshCmd": "print(var_dic_list())"
    },
    "r": {
     "delete_cmd_postfix": ") ",
     "delete_cmd_prefix": "rm(",
     "library": "var_list.r",
     "varRefreshCmd": "cat(var_dic_list()) "
    }
   },
   "types_to_exclude": [
    "module",
    "function",
    "builtin_function_or_method",
    "instance",
    "_Feature"
   ],
   "window_display": false
  }
 },
 "nbformat": 4,
 "nbformat_minor": 5
}
