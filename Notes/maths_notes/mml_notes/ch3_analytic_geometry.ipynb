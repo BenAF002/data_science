{
 "cells": [
  {
   "cell_type": "code",
   "execution_count": 1,
   "metadata": {},
   "outputs": [],
   "source": [
    "import numpy as np\n",
    "import matplotlib.pyplot as plt"
   ]
  },
  {
   "cell_type": "markdown",
   "metadata": {},
   "source": [
    "## 3.1 Norms"
   ]
  },
  {
   "cell_type": "markdown",
   "metadata": {},
   "source": [
    "**Definition of Norm:**\n",
    "- A norm on a vector space $V$ is a function $\\|\\cdot \\| : V \\rightarrow \\reals$ which assigns each vector $\\mathbb{x}$ its length $\\|\\mathbb{x}\\| \\in \\reals$, such that the following conditions hold for all $\\lambda \\in \\reals, \\ \\mathbb{x}, \\mathbb{y} \\in V$:\n",
    "    - ***Absolute Homogeneity***: $\\|\\lambda\\mathbb{x}\\| = |\\lambda|\\|\\mathbb{x}\\|$\n",
    "        - i.e. the norm of its scaled verion is equal to the absolute value of its scaled norm\n",
    "    - ***Triangle Inequality***: $\\|\\mathbb{x} + \\mathbb{y}\\| \\le \\|\\mathbb{x}\\| + \\| \\mathbb{y}\\|$\n",
    "        - i.e. the norm of a sum of vectors is equal to the sum of their norms\n",
    "        - named as such bc in geometry, for any triangle, the sum of any two sides must be greater than or equal to the length of the remaining side\n",
    "    - ***Positive Definite***: $\\|\\mathbb{x}\\| \\ge 0$"
   ]
  },
  {
   "cell_type": "markdown",
   "metadata": {},
   "source": [
    "***$\\mathcal{l}_1$ - \"Manhattan\" Norm***\n",
    "$$\\|\\mathbb{x}\\|_1 \\coloneqq \\sum_{i=1}^n|x_i|$$"
   ]
  },
  {
   "cell_type": "markdown",
   "metadata": {},
   "source": [
    "***$\\mathcal{l}_2$ - \"Euclidean\" Norm***\n",
    "$$\\|\\mathbb{x}\\|_2 \\coloneqq \\sqrt{\\sum_{i=1}^n x_i^2} = \\mathbb{x}^\\intercal \\mathbb{x}$$"
   ]
  },
  {
   "cell_type": "markdown",
   "metadata": {},
   "source": [
    "## 3.2 Inner Products"
   ]
  },
  {
   "cell_type": "markdown",
   "metadata": {},
   "source": [
    "**Dot Product:**\n",
    "- For vectors $x$ and $y$:\n",
    "$$\\mathbb{x}^\\intercal \\mathbb{y} = \\sum_{i=1}^n x_i y_i $$"
   ]
  },
  {
   "cell_type": "markdown",
   "metadata": {},
   "source": [
    "### Generalized Inner Products"
   ]
  },
  {
   "cell_type": "markdown",
   "metadata": {},
   "source": [
    "A ***Bilinear Mapping*** $\\Omega$ is a mapping with two arguments that is linear in each argument. For a vector space $V$, the following conditions hold for such a mapping:\n",
    "$$\\Omega(\\lambda x + \\psi y, \\ z) = \\lambda \\Omega(x, z) + \\psi\\Omega(y, z) \\\\ \\Omega(x, \\ \\lambda y + \\psi z) = \\lambda \\Omega(x, y) + \\psi\\Omega(x, z)$$\n",
    "Look at this closesly, $\\Omega$ has two arguments. The first condition above states that $\\Omega$ is linear in its first argument while the second condition states that $\\Omega$ is linear in its second argument."
   ]
  },
  {
   "cell_type": "markdown",
   "metadata": {},
   "source": [
    "#### More Definitions\n",
    "For a *bilinear mapping* $\\Omega:V \\times V \\rightarrow \\reals$ that takes two vectors and maps them onto a real number:\n",
    "- ***Symmetric***\n",
    "    - $\\Omega$ is symmetric if $\\Omega(x,y) = \\Omega(y,x) \\ \\ \\forall x,y \\in V$\n",
    "    - i.e. $\\Omega$ is symmetric if the order of its arguments does not matter\n",
    "- ***Positive Definite***\n",
    "    - $\\Omega$ is positive definite if:\n",
    "    $$ \\forall x\\in V \\setminus \\{\\mathbb{0}\\} \\ : \\ \\Omega(x, x) > 0, \\ \\Omega(\\mathbb{0}, \\mathbb{0}) = 0$$\n",
    "    - i.e. $\\Omega$ is positive definite if it maps to only positive numbers in $\\reals$ for all vectors in $V$ other than the zero vector $\\mathbb{0}$"
   ]
  },
  {
   "cell_type": "markdown",
   "metadata": {},
   "source": [
    "**Definition of Inner Product:**\n",
    "- A bilinear mapping $\\Omega \\ : \\ V \\times V \\rightarrow \\reals$ that takes two vectors and maps them onto a real number is called an *inner product* if it is both **symmetric** and **positive definite**\n",
    "    - Inner products on vectors $x$ and $y$ are typically denoted $\\langle x, y \\rangle$\n",
    "    - The *Inner Product Space* of a vector space $V$ is denoted $\\big(V, \\langle\\cdot, \\cdot\\rangle\\big)$"
   ]
  },
  {
   "cell_type": "markdown",
   "metadata": {},
   "source": [
    "### Symmetric, Positive Definite Matrices"
   ]
  },
  {
   "cell_type": "markdown",
   "metadata": {},
   "source": [
    "For vector space $V$ and inner product $\\langle \\cdot, \\cdot \\rangle : \\ V \\times V \\rightarrow \\reals$, ordered basis $B=(\\mathbf{b}_1, ..., \\mathbf{b}_n)$ of $V$, and vectors $\\mathbf{x}, \\mathbf{y} \\in V$:\n",
    "$$\\langle \\mathbf{x}, \\mathbf{y} \\rangle = \\bigg\\langle \\sum_{i=1}^n \\psi_i \\mathbf{b}_i, \\sum_{j=1}^n\\lambda_j\\mathbf{b}_j \\bigg\\rangle = \\sum_{i=1}^n \\sum_{j=1}^n \\psi_i \\langle \\mathbf{b}_i, \\mathbf{b}_j \\rangle \\lambda_j = \\hat{\\mathbf{x}}^\\intercal \\mathbf{A} \\hat{\\mathbf{y}}$$\n",
    "Where $\\psi$ and $\\lambda$ are scalars, $A_{i,j} \\coloneqq \\langle \\mathbf{b}_i, \\mathbf{b}_j \\rangle$, and $\\hat{\\mathbf{x}}$ and $\\hat{\\mathbf{y}}$ are the *coordinates* of $\\mathbf{x}$ and $\\mathbf{y}$ with respect to the basis $B$."
   ]
  },
  {
   "cell_type": "markdown",
   "metadata": {},
   "source": [
    "So, the inner product $\\langle \\cdot, \\cdot \\rangle$ is *uniquely determined* by the matrix $\\mathbf{A}$. Furthermore, $\\mathbf{A}$ is a symmetric positive definite matrix, by the definition of an inner product."
   ]
  },
  {
   "cell_type": "markdown",
   "metadata": {},
   "source": [
    "**Definition 3.4 - Symmetric, Positive Definite Matrix:**\n",
    "- A matrix $\\mathbf{A}$ is symmetric if:\n",
    "$$\\mathbf{A} = \\mathbf{A}^\\intercal$$\n",
    "- A matrix $\\mathbf{A}$ is positive definite if:\n",
    "$$\\forall \\mathbf{x} \\in V \\setminus \\{\\mathbf{0}\\} : \\mathbf{x}^\\intercal \\mathbf{A} \\mathbf{x} > 0$$\n",
    "- A matrix $\\mathbf{A}$ is symmetric positive definite if it is both symmetric and positive definite\n",
    "    - A matrix $\\mathbf{A}$ is **positive semidefinite** if only $\\ge$ holds in the condition for positive definiteness"
   ]
  },
  {
   "cell_type": "markdown",
   "metadata": {},
   "source": []
  }
 ],
 "metadata": {
  "kernelspec": {
   "display_name": "anaconda",
   "language": "python",
   "name": "python3"
  },
  "language_info": {
   "codemirror_mode": {
    "name": "ipython",
    "version": 3
   },
   "file_extension": ".py",
   "mimetype": "text/x-python",
   "name": "python",
   "nbconvert_exporter": "python",
   "pygments_lexer": "ipython3",
   "version": "3.12.4"
  }
 },
 "nbformat": 4,
 "nbformat_minor": 2
}
