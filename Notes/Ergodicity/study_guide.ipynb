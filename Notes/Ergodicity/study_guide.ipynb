{
 "cells": [
  {
   "cell_type": "markdown",
   "metadata": {},
   "source": [
    "Pre-requisite Subjects:\n",
    "- Fundamental Maths\n",
    "    - Calculus through multivariable calculus (limits, continuity, derivatives, integrals)\n",
    "    - Linear algebra (vector spaces, linear transformations, eigenvalues/eigenvectors)\n",
    "    - Basic set theory and logic\n",
    "    - Mathematical proof techniques\n",
    "- Analysis\n",
    "    - Real analysis (rigorous treatment of limits, continuity, differentiation, integration)\n",
    "    - Metric spaces\n",
    "    - Basic topology (open/closed sets, compactness, connectedness)\n",
    "- Measure Theory\n",
    "    - Measure spaces\n",
    "    - Lebesgue measure and integration\n",
    "    - σ-algebras\n",
    "    - Measurable functions\n",
    "    - Basic probability theory from a measure-theoretic perspective"
   ]
  },
  {
   "cell_type": "markdown",
   "metadata": {},
   "source": [
    "Resources:\n",
    "- Legit Calculus:\n",
    "    - [Calculus](https://www.amazon.com/Calculus-Michael-Spivak/dp/0521867444/ref=asc_df_0521867444?mcid=7d54434bfc533805b03b1b1a46d37a3f&hvocijid=15659117500907135442-0521867444-&hvexpln=73&tag=hyprod-20&linkCode=df0&hvadid=692875362841&hvpos=&hvnetw=g&hvrand=15659117500907135442&hvpone=&hvptwo=&hvqmt=&hvdev=c&hvdvcmdl=&hvlocint=&hvlocphy=9019658&hvtargid=pla-2281435177618&psc=1) (Michael Spivak)\n",
    "- Real Analysis:\n",
    "    - [Analysis I](https://www.amazon.com/Analysis-Third-Texts-Readings-Mathematics/dp/9380250649) (Terence Tao)\n",
    "        - Seems the more approachable and possibly best choice\n",
    "    - [Elementary Analysis](https://link.springer.com/book/10.1007/978-1-4614-6271-2) (Kenneth Ross)\n",
    "        - Also a good candidate for a more approachable take\n",
    "    - [Principles of Mathematical Analysis](https://www.amazon.com/Principles-Mathematical-Analysis-International-Mathematics/dp/007054235X) (Walter Rudin)\n",
    "- Measure Theory:\n",
    "    - [Measure Theory: Second Edition](https://www.thriftbooks.com/w/measure-theory-second-edition_donald-l-cohn/17396247/item/22468158/?utm_source=google&utm_medium=cpc&utm_campaign=shopping_new_condition_books_high_14637440387&utm_adgroup=&utm_term=&utm_content=545822004371&gad_source=1&gclid=CjwKCAiAmrS7BhBJEiwAei59i1kVfTCSAKy_PbvoPxVNbSnBuccPfnocDXwoHR9Pv78YOwnVyNxWMhoCTywQAvD_BwE#idiq=22468158&edition=18332322) (Donald Cohn)\n",
    "- Bridge to Ergodic Theory:\n",
    "    - [An Introduction to Ergodic Theory](https://www.amazon.com/Introduction-Ergodic-Theory-Graduate-Mathematics/dp/0387951520/ref=asc_df_0387951520?mcid=8ba960d8fbbe31778ad66fd8005d0e66&hvocijid=11932178992956777172-0387951520-&hvexpln=73&tag=hyprod-20&linkCode=df0&hvadid=721245378154&hvpos=&hvnetw=g&hvrand=11932178992956777172&hvpone=&hvptwo=&hvqmt=&hvdev=c&hvdvcmdl=&hvlocint=&hvlocphy=9019658&hvtargid=pla-2281435176898&psc=1) (Peter Walters)\n"
   ]
  },
  {
   "cell_type": "markdown",
   "metadata": {},
   "source": []
  }
 ],
 "metadata": {
  "language_info": {
   "name": "python"
  }
 },
 "nbformat": 4,
 "nbformat_minor": 2
}
