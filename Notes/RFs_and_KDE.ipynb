{
 "cells": [
  {
   "cell_type": "code",
   "execution_count": 1,
   "id": "dea43a32",
   "metadata": {},
   "outputs": [],
   "source": [
    "from fastai.imports import *\n",
    "np.set_printoptions(linewidth=130)    # resize numpy output"
   ]
  },
  {
   "cell_type": "markdown",
   "id": "ed709601",
   "metadata": {},
   "source": [
    "## Data Preprocessing"
   ]
  },
  {
   "cell_type": "code",
   "execution_count": 2,
   "id": "1e701dd4",
   "metadata": {},
   "outputs": [
    {
     "name": "stdout",
     "output_type": "stream",
     "text": [
      "titanic.zip: Skipping, found more recently modified local copy (use --force to force download)\n"
     ]
    }
   ],
   "source": [
    "import zipfile,kaggle\n",
    "path = Path('titanic')\n",
    "kaggle.api.competition_download_cli(str(path))\n",
    "zipfile.ZipFile(f'{path}.zip').extractall(path)\n",
    "\n",
    "df = pd.read_csv(path/'train.csv')\n",
    "tst_df = pd.read_csv(path/'test.csv')\n",
    "modes = df.mode().iloc[0]   # use iloc[0] bc output is df ('PassengerId' is multimodal)"
   ]
  },
  {
   "cell_type": "code",
   "execution_count": 3,
   "id": "43487ec2",
   "metadata": {
    "scrolled": true
   },
   "outputs": [
    {
     "data": {
      "text/html": [
       "<div>\n",
       "<style scoped>\n",
       "    .dataframe tbody tr th:only-of-type {\n",
       "        vertical-align: middle;\n",
       "    }\n",
       "\n",
       "    .dataframe tbody tr th {\n",
       "        vertical-align: top;\n",
       "    }\n",
       "\n",
       "    .dataframe thead th {\n",
       "        text-align: right;\n",
       "    }\n",
       "</style>\n",
       "<table border=\"1\" class=\"dataframe\">\n",
       "  <thead>\n",
       "    <tr style=\"text-align: right;\">\n",
       "      <th></th>\n",
       "      <th>PassengerId</th>\n",
       "      <th>Survived</th>\n",
       "      <th>Pclass</th>\n",
       "      <th>Name</th>\n",
       "      <th>Sex</th>\n",
       "      <th>Age</th>\n",
       "      <th>SibSp</th>\n",
       "      <th>Parch</th>\n",
       "      <th>Ticket</th>\n",
       "      <th>Fare</th>\n",
       "      <th>Cabin</th>\n",
       "      <th>Embarked</th>\n",
       "    </tr>\n",
       "  </thead>\n",
       "  <tbody>\n",
       "    <tr>\n",
       "      <th>0</th>\n",
       "      <td>1</td>\n",
       "      <td>0</td>\n",
       "      <td>3</td>\n",
       "      <td>Braund, Mr. Owen Harris</td>\n",
       "      <td>male</td>\n",
       "      <td>22.0</td>\n",
       "      <td>1</td>\n",
       "      <td>0</td>\n",
       "      <td>A/5 21171</td>\n",
       "      <td>7.2500</td>\n",
       "      <td>NaN</td>\n",
       "      <td>S</td>\n",
       "    </tr>\n",
       "    <tr>\n",
       "      <th>1</th>\n",
       "      <td>2</td>\n",
       "      <td>1</td>\n",
       "      <td>1</td>\n",
       "      <td>Cumings, Mrs. John Bradley (Florence Briggs Thayer)</td>\n",
       "      <td>female</td>\n",
       "      <td>38.0</td>\n",
       "      <td>1</td>\n",
       "      <td>0</td>\n",
       "      <td>PC 17599</td>\n",
       "      <td>71.2833</td>\n",
       "      <td>C85</td>\n",
       "      <td>C</td>\n",
       "    </tr>\n",
       "    <tr>\n",
       "      <th>2</th>\n",
       "      <td>3</td>\n",
       "      <td>1</td>\n",
       "      <td>3</td>\n",
       "      <td>Heikkinen, Miss. Laina</td>\n",
       "      <td>female</td>\n",
       "      <td>26.0</td>\n",
       "      <td>0</td>\n",
       "      <td>0</td>\n",
       "      <td>STON/O2. 3101282</td>\n",
       "      <td>7.9250</td>\n",
       "      <td>NaN</td>\n",
       "      <td>S</td>\n",
       "    </tr>\n",
       "    <tr>\n",
       "      <th>3</th>\n",
       "      <td>4</td>\n",
       "      <td>1</td>\n",
       "      <td>1</td>\n",
       "      <td>Futrelle, Mrs. Jacques Heath (Lily May Peel)</td>\n",
       "      <td>female</td>\n",
       "      <td>35.0</td>\n",
       "      <td>1</td>\n",
       "      <td>0</td>\n",
       "      <td>113803</td>\n",
       "      <td>53.1000</td>\n",
       "      <td>C123</td>\n",
       "      <td>S</td>\n",
       "    </tr>\n",
       "    <tr>\n",
       "      <th>4</th>\n",
       "      <td>5</td>\n",
       "      <td>0</td>\n",
       "      <td>3</td>\n",
       "      <td>Allen, Mr. William Henry</td>\n",
       "      <td>male</td>\n",
       "      <td>35.0</td>\n",
       "      <td>0</td>\n",
       "      <td>0</td>\n",
       "      <td>373450</td>\n",
       "      <td>8.0500</td>\n",
       "      <td>NaN</td>\n",
       "      <td>S</td>\n",
       "    </tr>\n",
       "  </tbody>\n",
       "</table>\n",
       "</div>"
      ],
      "text/plain": [
       "   PassengerId  Survived  Pclass  \\\n",
       "0            1         0       3   \n",
       "1            2         1       1   \n",
       "2            3         1       3   \n",
       "3            4         1       1   \n",
       "4            5         0       3   \n",
       "\n",
       "                                                  Name     Sex   Age  SibSp  \\\n",
       "0                              Braund, Mr. Owen Harris    male  22.0      1   \n",
       "1  Cumings, Mrs. John Bradley (Florence Briggs Thayer)  female  38.0      1   \n",
       "2                               Heikkinen, Miss. Laina  female  26.0      0   \n",
       "3         Futrelle, Mrs. Jacques Heath (Lily May Peel)  female  35.0      1   \n",
       "4                             Allen, Mr. William Henry    male  35.0      0   \n",
       "\n",
       "   Parch            Ticket     Fare Cabin Embarked  \n",
       "0      0         A/5 21171   7.2500   NaN        S  \n",
       "1      0          PC 17599  71.2833   C85        C  \n",
       "2      0  STON/O2. 3101282   7.9250   NaN        S  \n",
       "3      0            113803  53.1000  C123        S  \n",
       "4      0            373450   8.0500   NaN        S  "
      ]
     },
     "execution_count": 3,
     "metadata": {},
     "output_type": "execute_result"
    }
   ],
   "source": [
    "df.head()"
   ]
  },
  {
   "cell_type": "markdown",
   "id": "b3320c0a",
   "metadata": {},
   "source": [
    "Convert non-numeric data to categorical data. In pandas, converting to categorical variables creates a list of all unique values in the column and replace each value in the list with a number (a class index)."
   ]
  },
  {
   "cell_type": "code",
   "execution_count": 4,
   "id": "c17c86e4",
   "metadata": {},
   "outputs": [],
   "source": [
    "def proc_data(df):\n",
    "    df['Fare'] = df.Fare.fillna(0)    # replace na values with 0\n",
    "    df.fillna(modes, inplace=True)    # replace other nas with modes of respective columns\n",
    "    df['LogFare'] = np.log1p(df['Fare'])\n",
    "    df['Embarked'] = pd.Categorical(df.Embarked)\n",
    "    df['Sex'] = pd.Categorical(df.Sex)\n",
    "    \n",
    "proc_data(df)\n",
    "proc_data(tst_df)"
   ]
  },
  {
   "cell_type": "markdown",
   "id": "c2c38696",
   "metadata": {},
   "source": [
    "**Note:** Random forests care about order, not absolute value. So, the `Pclass` field is not considered a categorical variable for the purposes of RF modeling."
   ]
  },
  {
   "cell_type": "code",
   "execution_count": 5,
   "id": "ba8a193b",
   "metadata": {},
   "outputs": [],
   "source": [
    "cats = ['Sex', 'Embarked']\n",
    "conts = ['Age', 'SibSp', 'Parch', 'LogFare', 'Pclass']\n",
    "dep = 'Survived'"
   ]
  },
  {
   "cell_type": "markdown",
   "id": "182a6b28",
   "metadata": {},
   "source": [
    "Observing categorical variables by value and by category index:"
   ]
  },
  {
   "cell_type": "code",
   "execution_count": 6,
   "id": "d4b467d2",
   "metadata": {},
   "outputs": [
    {
     "data": {
      "text/plain": [
       "0      male\n",
       "1    female\n",
       "2    female\n",
       "Name: Sex, dtype: category\n",
       "Categories (2, object): ['female', 'male']"
      ]
     },
     "execution_count": 6,
     "metadata": {},
     "output_type": "execute_result"
    }
   ],
   "source": [
    "df.Sex.head(3)"
   ]
  },
  {
   "cell_type": "code",
   "execution_count": 7,
   "id": "db29eb00",
   "metadata": {},
   "outputs": [
    {
     "data": {
      "text/plain": [
       "0    1\n",
       "1    0\n",
       "2    0\n",
       "dtype: int8"
      ]
     },
     "execution_count": 7,
     "metadata": {},
     "output_type": "execute_result"
    }
   ],
   "source": [
    "df.Sex.cat.codes.head(3)"
   ]
  },
  {
   "cell_type": "markdown",
   "id": "141ed627",
   "metadata": {},
   "source": [
    "### Splitting the Dataset into Training and Validation Sets"
   ]
  },
  {
   "cell_type": "code",
   "execution_count": 8,
   "id": "99e2ec25",
   "metadata": {},
   "outputs": [],
   "source": [
    "from numpy import random\n",
    "from sklearn.model_selection import train_test_split\n",
    "\n",
    "random.seed(42)\n",
    "tr_df, val_df = train_test_split(df, test_size=0.25)\n",
    "tr_df[cats] = tr_df[cats].apply(lambda x: x.cat.codes)\n",
    "val_df[cats] = val_df[cats].apply(lambda x: x.cat.codes)"
   ]
  },
  {
   "cell_type": "code",
   "execution_count": 9,
   "id": "e9b62633",
   "metadata": {},
   "outputs": [],
   "source": [
    "def x_y(df):\n",
    "    x = df[cats+conts].copy()\n",
    "    y = df[dep] if dep in df else None\n",
    "    return x, y\n",
    "\n",
    "x_tr, y_tr = x_y(tr_df)\n",
    "x_val, y_val = x_y(val_df)"
   ]
  },
  {
   "cell_type": "markdown",
   "id": "584c799e",
   "metadata": {},
   "source": [
    "## Binary Splits"
   ]
  },
  {
   "cell_type": "markdown",
   "id": "762b398c",
   "metadata": {},
   "source": [
    "Split data into two separate groups by some criteria. Intuitive split is simply to separate the sexes:"
   ]
  },
  {
   "cell_type": "code",
   "execution_count": 10,
   "id": "4eb6f0db",
   "metadata": {},
   "outputs": [
    {
     "data": {
      "image/png": "[encoded data removed]",
      "text/plain": [
       "<Figure size 1100x500 with 2 Axes>"
      ]
     },
     "metadata": {},
     "output_type": "display_data"
    }
   ],
   "source": [
    "import seaborn as sns\n",
    "\n",
    "fig, axs = plt.subplots(1, 2, figsize=(11,5))\n",
    "sns.barplot(data=df, y=dep, x='Sex', ax=axs[0]).set(title='Survival Rate')\n",
    "sns.countplot(data=df, x='Sex', ax=axs[1]).set(title='Histogram');"
   ]
  },
  {
   "cell_type": "code",
   "execution_count": 11,
   "id": "033cd8eb",
   "metadata": {},
   "outputs": [
    {
     "data": {
      "text/plain": [
       "0.21524663677130046"
      ]
     },
     "execution_count": 11,
     "metadata": {},
     "output_type": "execute_result"
    }
   ],
   "source": [
    "from sklearn.metrics import mean_absolute_error\n",
    "\n",
    "# predicting based on sex alone (survived if female)\n",
    "preds = x_val.Sex == 0    # T if female, F if male\n",
    "mean_absolute_error(y_val, preds)"
   ]
  },
  {
   "cell_type": "markdown",
   "id": "2d7ba4eb",
   "metadata": {},
   "source": [
    "Splitting on a continuous variable: `LogFare`"
   ]
  },
  {
   "cell_type": "code",
   "execution_count": 12,
   "id": "4764ef4b",
   "metadata": {},
   "outputs": [
    {
     "data": {
      "text/plain": [
       "<Axes: xlabel='LogFare', ylabel='Density'>"
      ]
     },
     "execution_count": 12,
     "metadata": {},
     "output_type": "execute_result"
    },
    {
     "data": {
      "image/png": "[encoded data removed]",
      "text/plain": [
       "<Figure size 1100x500 with 2 Axes>"
      ]
     },
     "metadata": {},
     "output_type": "display_data"
    }
   ],
   "source": [
    "df_fare = tr_df[tr_df.LogFare>0]\n",
    "fig, axs = plt.subplots(1, 2, figsize=(11,5))\n",
    "sns.boxenplot(data=df_fare, x=dep, y = 'LogFare', ax=axs[0])\n",
    "sns.kdeplot(data=df_fare, x='LogFare', ax=axs[1])"
   ]
  },
  {
   "cell_type": "markdown",
   "id": "d7e844af",
   "metadata": {},
   "source": [
    "The mean `LogFare` for passengers who died is around 2.5, while it is around 3.2 for those who survived. MAE for predictions based on `LogFare` mean values (split the difference, 2.85) alone:"
   ]
  },
  {
   "cell_type": "code",
   "execution_count": 13,
   "id": "40040470",
   "metadata": {},
   "outputs": [
    {
     "data": {
      "text/plain": [
       "0.31390134529147984"
      ]
     },
     "execution_count": 13,
     "metadata": {},
     "output_type": "execute_result"
    }
   ],
   "source": [
    "preds = x_val.LogFare > 2.85\n",
    "mean_absolute_error(y_val, preds)"
   ]
  },
  {
   "cell_type": "markdown",
   "id": "e8fca95f",
   "metadata": {},
   "source": [
    "Starting to look at ***Impurity Measures*** - criteria for measuring the similarity of data within a split. Howard motivates these measures with a simple function of standard deviation. The intuition is that higher standard deviation indicates a wider spread of data, and therefore greater dissimilarity. The standard deviation is scaled by the number of rows, since a larger group has a greater impact than a smaller group. If the group has no rows, then we jsut return 0."
   ]
  },
  {
   "cell_type": "markdown",
   "id": "69fd77fc",
   "metadata": {},
   "source": [
    "Let's look at the split on `Sex` within the training dataset. This dataset has 668 rows. We can partition it between `Male` and `Female` with the `<= 0.5` conditional because we mapped these categories as a boolean:"
   ]
  },
  {
   "cell_type": "code",
   "execution_count": 14,
   "id": "36c56d6d",
   "metadata": {},
   "outputs": [],
   "source": [
    "hmm = x_tr['Sex'] <= 0.5"
   ]
  },
  {
   "cell_type": "markdown",
   "id": "f419af22",
   "metadata": {},
   "source": [
    "Then we can \"count\" the rows for each `Sex` category by summing over the True/False fields of this partition:"
   ]
  },
  {
   "cell_type": "code",
   "execution_count": 15,
   "id": "94cc0ba6",
   "metadata": {},
   "outputs": [
    {
     "data": {
      "text/plain": [
       "(229, 439, 668)"
      ]
     },
     "execution_count": 15,
     "metadata": {},
     "output_type": "execute_result"
    }
   ],
   "source": [
    "hmm.sum(), (~hmm).sum(), (hmm | ~hmm).sum()    # the pipe ('|') operator is '+' for bool dtypes"
   ]
  },
  {
   "cell_type": "markdown",
   "id": "67b3e16b",
   "metadata": {},
   "source": [
    "Wrapping this into a function with stdev of the partition:"
   ]
  },
  {
   "cell_type": "code",
   "execution_count": 16,
   "id": "650f9b58",
   "metadata": {},
   "outputs": [],
   "source": [
    "def _side_score(side, y):\n",
    "    tot = side.sum()\n",
    "    if tot <= 1: return 0     # zero-out if group is empty\n",
    "    return y[side].std() * tot"
   ]
  },
  {
   "cell_type": "markdown",
   "id": "0218a063",
   "metadata": {},
   "source": [
    "**NOTE:** The stdev is of the dependent variable (y)"
   ]
  },
  {
   "cell_type": "markdown",
   "id": "51ca532a",
   "metadata": {},
   "source": [
    "Now we can flesh this out to calculate stdev-based impurity measures for different splits on different variables:"
   ]
  },
  {
   "cell_type": "code",
   "execution_count": 17,
   "id": "7838e8e3",
   "metadata": {},
   "outputs": [],
   "source": [
    "def score(col, y, split):\n",
    "    lhs = col <= split    # 'lhs' is left-hand-side\n",
    "    return (_side_score(lhs,y) + _side_score(~lhs,y)) / len(y)"
   ]
  },
  {
   "cell_type": "markdown",
   "id": "dfbd6ce1",
   "metadata": {},
   "source": [
    "Testing this out for `Sex` and `LogFare`:"
   ]
  },
  {
   "cell_type": "code",
   "execution_count": 18,
   "id": "f061b5ea",
   "metadata": {
    "scrolled": true
   },
   "outputs": [
    {
     "name": "stdout",
     "output_type": "stream",
     "text": [
      "Sex: 0.4854\n",
      "LogFare: 0.4718\n"
     ]
    }
   ],
   "source": [
    "print(f\"Sex: {score(x_tr['Sex'], y_tr, split=2.7):.4f}\")\n",
    "print(f\"LogFare: {score(x_tr['LogFare'], y_tr, split=2.7):.4f}\")"
   ]
  },
  {
   "cell_type": "markdown",
   "id": "0f4a8ab4",
   "metadata": {},
   "source": [
    "Neat little UI scale to interact with this impurity measure:"
   ]
  },
  {
   "cell_type": "code",
   "execution_count": 19,
   "id": "29f32841",
   "metadata": {},
   "outputs": [
    {
     "data": {
      "application/vnd.jupyter.widget-view+json": {
       "model_id": "33d5e2a84dde4384885d4398da96b991",
       "version_major": 2,
       "version_minor": 0
      },
      "text/plain": [
       "interactive(children=(Dropdown(description='nm', options=('Age', 'SibSp', 'Parch', 'LogFare', 'Pclass'), value…"
      ]
     },
     "metadata": {},
     "output_type": "display_data"
    }
   ],
   "source": [
    "def iscore(nm, split):\n",
    "    col = x_tr[nm]\n",
    "    return f'{score(col, y_tr, split):.8f}'\n",
    "\n",
    "from ipywidgets import interact\n",
    "interact(nm=conts, split=15.5)(iscore);"
   ]
  },
  {
   "cell_type": "code",
   "execution_count": 20,
   "id": "ad439182",
   "metadata": {
    "scrolled": true
   },
   "outputs": [
    {
     "data": {
      "application/vnd.jupyter.widget-view+json": {
       "model_id": "ac3c848cfb2443c880d3df2ba15d9aeb",
       "version_major": 2,
       "version_minor": 0
      },
      "text/plain": [
       "interactive(children=(Dropdown(description='nm', options=('Sex', 'Embarked'), value='Sex'), IntSlider(value=2,…"
      ]
     },
     "metadata": {},
     "output_type": "display_data"
    }
   ],
   "source": [
    "interact(nm=cats, split=2)(iscore);"
   ]
  },
  {
   "cell_type": "markdown",
   "id": "a08c46b5",
   "metadata": {},
   "source": [
    "Function for finding the best split based on minimizing this stdev-based score:"
   ]
  },
  {
   "cell_type": "code",
   "execution_count": 21,
   "id": "7402dd01",
   "metadata": {},
   "outputs": [
    {
     "data": {
      "text/plain": [
       "(6.0, 0.47831671750899085)"
      ]
     },
     "execution_count": 21,
     "metadata": {},
     "output_type": "execute_result"
    }
   ],
   "source": [
    "def min_col(df, nm):\n",
    "    col,y = df[nm],df[dep]\n",
    "    unq = col.dropna().unique()     # each unique value of variable\n",
    "    scores = np.array([score(col, y, o) for o in unq if not np.isnan(o)]) # score for each unique val\n",
    "    idx = scores.argmin()           # minimum score across all unique values\n",
    "    return unq[idx],scores[idx]\n",
    "\n",
    "min_col(tr_df, \"Age\")"
   ]
  },
  {
   "cell_type": "markdown",
   "id": "25f58f54",
   "metadata": {},
   "source": [
    "Then, we can split on the variable that results in the lowest score:"
   ]
  },
  {
   "cell_type": "code",
   "execution_count": 22,
   "id": "844ae809",
   "metadata": {},
   "outputs": [
    {
     "data": {
      "text/plain": [
       "{'Sex': (0, 0.4078753098206398),\n",
       " 'Embarked': (0, 0.478833425731479),\n",
       " 'Age': (6.0, 0.47831671750899085),\n",
       " 'SibSp': (4, 0.4783740258817423),\n",
       " 'Parch': (0, 0.4805296527841601),\n",
       " 'LogFare': (2.4390808375825834, 0.4620823937736595),\n",
       " 'Pclass': (2, 0.4604826188580666)}"
      ]
     },
     "execution_count": 22,
     "metadata": {},
     "output_type": "execute_result"
    }
   ],
   "source": [
    "cols = cats+conts\n",
    "{o:min_col(tr_df, o) for o in cols}    # dict of variables and minimum scores"
   ]
  },
  {
   "cell_type": "markdown",
   "id": "6cbd5885",
   "metadata": {},
   "source": [
    "So, splitting on `Sex` produces the best possible split - according to this impurity measure."
   ]
  },
  {
   "cell_type": "markdown",
   "id": "872505f0",
   "metadata": {
    "heading_collapsed": true
   },
   "source": [
    "## Creating a Decision Tree"
   ]
  },
  {
   "cell_type": "markdown",
   "id": "e93ffdbb",
   "metadata": {
    "hidden": true
   },
   "source": [
    "We can build up a decision tree by repeating binary splits for each subgroup created by the previous binary split. \n",
    "\n",
    "First, we'll remove `Sex` because we've already spit on it and create two new datasets for each group of the split:"
   ]
  },
  {
   "cell_type": "code",
   "execution_count": 23,
   "id": "9f6e03f9",
   "metadata": {
    "hidden": true
   },
   "outputs": [],
   "source": [
    "cols.remove('Sex')        # removed from list of cols\n",
    "ismale = tr_df.Sex == 1   # partition on sex\n",
    "males, females = tr_df[ismale], tr_df[~ismale]"
   ]
  },
  {
   "cell_type": "markdown",
   "id": "7dfb17d3",
   "metadata": {
    "hidden": true
   },
   "source": [
    "Repeating the search for the best binary split on each of these new datasets:"
   ]
  },
  {
   "cell_type": "code",
   "execution_count": 24,
   "id": "bf931b89",
   "metadata": {
    "hidden": true
   },
   "outputs": [
    {
     "data": {
      "text/plain": [
       "{'Embarked': (0, 0.387558187041091),\n",
       " 'Age': (6.0, 0.37398283710105873),\n",
       " 'SibSp': (4, 0.38758642275862637),\n",
       " 'Parch': (0, 0.3874704821461953),\n",
       " 'LogFare': (2.803360380906535, 0.38048562317581447),\n",
       " 'Pclass': (1, 0.3815544200436083)}"
      ]
     },
     "execution_count": 24,
     "metadata": {},
     "output_type": "execute_result"
    }
   ],
   "source": [
    "{o:min_col(males, o) for o in cols}"
   ]
  },
  {
   "cell_type": "code",
   "execution_count": 25,
   "id": "55c8c086",
   "metadata": {
    "hidden": true
   },
   "outputs": [
    {
     "data": {
      "text/plain": [
       "{'Embarked': (0, 0.4295252982857326),\n",
       " 'Age': (50.0, 0.4225927658431646),\n",
       " 'SibSp': (4, 0.42319212059713585),\n",
       " 'Parch': (3, 0.4193314500446157),\n",
       " 'LogFare': (4.256321678298823, 0.413505983329114),\n",
       " 'Pclass': (2, 0.3335388911567602)}"
      ]
     },
     "execution_count": 25,
     "metadata": {},
     "output_type": "execute_result"
    }
   ],
   "source": [
    "{o:min_col(females, o) for o in cols}"
   ]
  },
  {
   "cell_type": "markdown",
   "id": "4064fdfc",
   "metadata": {
    "hidden": true
   },
   "source": [
    "It looks like the best split for `males` is `Age<=6.0` and the best split for `females` is `Pclass<=2`"
   ]
  },
  {
   "cell_type": "markdown",
   "id": "b0711765",
   "metadata": {
    "hidden": true
   },
   "source": [
    "### Creating a Tree with sklearn"
   ]
  },
  {
   "cell_type": "markdown",
   "id": "4083724f",
   "metadata": {
    "hidden": true
   },
   "source": [
    "We can scale up this process by using `sklearn`:"
   ]
  },
  {
   "cell_type": "code",
   "execution_count": 26,
   "id": "fd1f023e",
   "metadata": {
    "hidden": true
   },
   "outputs": [],
   "source": [
    "from sklearn.tree import DecisionTreeClassifier, export_graphviz\n",
    "\n",
    "m = DecisionTreeClassifier(max_leaf_nodes=4).fit(x_tr, y_tr);"
   ]
  },
  {
   "cell_type": "markdown",
   "id": "71da5238",
   "metadata": {
    "hidden": true
   },
   "source": [
    "And we can visualize it with `graphviz` because `sklearn` has some very handy compatabilities with `graphviz`:"
   ]
  },
  {
   "cell_type": "code",
   "execution_count": 27,
   "id": "4fc70683",
   "metadata": {
    "hidden": true
   },
   "outputs": [
    {
     "data": {
      "image/svg+xml": [
       "<?xml version=\"1.0\" encoding=\"UTF-8\" standalone=\"no\"?>\n",
       "<!DOCTYPE svg PUBLIC \"-//W3C//DTD SVG 1.1//EN\"\n",
       " \"http://www.w3.org/Graphics/SVG/1.1/DTD/svg11.dtd\">\n",
       "<!-- Generated by graphviz version 2.50.0 (0)\n",
       " -->\n",
       "<!-- Title: Tree Pages: 1 -->\n",
       "<svg width=\"506pt\" height=\"307pt\"\n",
       " viewBox=\"0.00 0.00 506.00 306.80\" xmlns=\"http://www.w3.org/2000/svg\" xmlns:xlink=\"http://www.w3.org/1999/xlink\">\n",
       "<g id=\"graph0\" class=\"graph\" transform=\"scale(1 1) rotate(0) translate(4 302.8)\">\n",
       "<title>Tree</title>\n",
       "<polygon fill=\"white\" stroke=\"transparent\" points=\"-4,4 -4,-302.8 502,-302.8 502,4 -4,4\"/>\n",
       "<!-- 0 -->\n",
       "<g id=\"node1\" class=\"node\">\n",
       "<title>0</title>\n",
       "<path fill=\"#f5ceb2\" stroke=\"black\" d=\"M297,-294C297,-294 196,-294 196,-294 190,-294 184,-288 184,-282 184,-282 184,-238 184,-238 184,-232 190,-226 196,-226 196,-226 297,-226 297,-226 303,-226 309,-232 309,-238 309,-238 309,-282 309,-282 309,-288 303,-294 297,-294\"/>\n",
       "<text text-anchor=\"start\" x=\"217.5\" y=\"-278.8\" font-family=\"Helvetica,sans-Serif\" font-size=\"14.00\">Sex ≤ 0.5</text>\n",
       "<text text-anchor=\"start\" x=\"214.5\" y=\"-263.8\" font-family=\"Helvetica,sans-Serif\" font-size=\"14.00\">gini = 0.47</text>\n",
       "<text text-anchor=\"start\" x=\"201.5\" y=\"-248.8\" font-family=\"Helvetica,sans-Serif\" font-size=\"14.00\">samples = 668</text>\n",
       "<text text-anchor=\"start\" x=\"192\" y=\"-233.8\" font-family=\"Helvetica,sans-Serif\" font-size=\"14.00\">value = [415, 253]</text>\n",
       "</g>\n",
       "<!-- 1 -->\n",
       "<g id=\"node2\" class=\"node\">\n",
       "<title>1</title>\n",
       "<path fill=\"#7ebfee\" stroke=\"black\" d=\"M226,-175C226,-175 133,-175 133,-175 127,-175 121,-169 121,-163 121,-163 121,-119 121,-119 121,-113 127,-107 133,-107 133,-107 226,-107 226,-107 232,-107 238,-113 238,-119 238,-119 238,-163 238,-163 238,-169 232,-175 226,-175\"/>\n",
       "<text text-anchor=\"start\" x=\"142.5\" y=\"-159.8\" font-family=\"Helvetica,sans-Serif\" font-size=\"14.00\">Pclass ≤ 2.5</text>\n",
       "<text text-anchor=\"start\" x=\"147.5\" y=\"-144.8\" font-family=\"Helvetica,sans-Serif\" font-size=\"14.00\">gini = 0.38</text>\n",
       "<text text-anchor=\"start\" x=\"134.5\" y=\"-129.8\" font-family=\"Helvetica,sans-Serif\" font-size=\"14.00\">samples = 229</text>\n",
       "<text text-anchor=\"start\" x=\"129\" y=\"-114.8\" font-family=\"Helvetica,sans-Serif\" font-size=\"14.00\">value = [59, 170]</text>\n",
       "</g>\n",
       "<!-- 0&#45;&gt;1 -->\n",
       "<g id=\"edge1\" class=\"edge\">\n",
       "<title>0&#45;&gt;1</title>\n",
       "<path fill=\"none\" stroke=\"black\" d=\"M227.48,-225.79C220.05,-212.82 211.45,-197.8 203.6,-184.08\"/>\n",
       "<polygon fill=\"black\" stroke=\"black\" points=\"206.57,-182.24 198.57,-175.3 200.5,-185.71 206.57,-182.24\"/>\n",
       "<text text-anchor=\"middle\" x=\"192.01\" y=\"-195.72\" font-family=\"Helvetica,sans-Serif\" font-size=\"14.00\">True</text>\n",
       "</g>\n",
       "<!-- 2 -->\n",
       "<g id=\"node5\" class=\"node\">\n",
       "<title>2</title>\n",
       "<path fill=\"#eb9e67\" stroke=\"black\" d=\"M361,-175C361,-175 268,-175 268,-175 262,-175 256,-169 256,-163 256,-163 256,-119 256,-119 256,-113 262,-107 268,-107 268,-107 361,-107 361,-107 367,-107 373,-113 373,-119 373,-119 373,-163 373,-163 373,-169 367,-175 361,-175\"/>\n",
       "<text text-anchor=\"start\" x=\"285.5\" y=\"-159.8\" font-family=\"Helvetica,sans-Serif\" font-size=\"14.00\">Age ≤ 6.5</text>\n",
       "<text text-anchor=\"start\" x=\"282.5\" y=\"-144.8\" font-family=\"Helvetica,sans-Serif\" font-size=\"14.00\">gini = 0.31</text>\n",
       "<text text-anchor=\"start\" x=\"269.5\" y=\"-129.8\" font-family=\"Helvetica,sans-Serif\" font-size=\"14.00\">samples = 439</text>\n",
       "<text text-anchor=\"start\" x=\"264\" y=\"-114.8\" font-family=\"Helvetica,sans-Serif\" font-size=\"14.00\">value = [356, 83]</text>\n",
       "</g>\n",
       "<!-- 0&#45;&gt;2 -->\n",
       "<g id=\"edge4\" class=\"edge\">\n",
       "<title>0&#45;&gt;2</title>\n",
       "<path fill=\"none\" stroke=\"black\" d=\"M265.8,-225.79C273.34,-212.82 282.07,-197.8 290.04,-184.08\"/>\n",
       "<polygon fill=\"black\" stroke=\"black\" points=\"293.15,-185.7 295.15,-175.3 287.1,-182.18 293.15,-185.7\"/>\n",
       "<text text-anchor=\"middle\" x=\"301.55\" y=\"-195.76\" font-family=\"Helvetica,sans-Serif\" font-size=\"14.00\">False</text>\n",
       "</g>\n",
       "<!-- 3 -->\n",
       "<g id=\"node3\" class=\"node\">\n",
       "<title>3</title>\n",
       "<path fill=\"#40a0e6\" stroke=\"black\" d=\"M97,-56.5C97,-56.5 12,-56.5 12,-56.5 6,-56.5 0,-50.5 0,-44.5 0,-44.5 0,-15.5 0,-15.5 0,-9.5 6,-3.5 12,-3.5 12,-3.5 97,-3.5 97,-3.5 103,-3.5 109,-9.5 109,-15.5 109,-15.5 109,-44.5 109,-44.5 109,-50.5 103,-56.5 97,-56.5\"/>\n",
       "<text text-anchor=\"start\" x=\"22.5\" y=\"-41.3\" font-family=\"Helvetica,sans-Serif\" font-size=\"14.00\">gini = 0.06</text>\n",
       "<text text-anchor=\"start\" x=\"9.5\" y=\"-26.3\" font-family=\"Helvetica,sans-Serif\" font-size=\"14.00\">samples = 120</text>\n",
       "<text text-anchor=\"start\" x=\"8\" y=\"-11.3\" font-family=\"Helvetica,sans-Serif\" font-size=\"14.00\">value = [4, 116]</text>\n",
       "</g>\n",
       "<!-- 1&#45;&gt;3 -->\n",
       "<g id=\"edge2\" class=\"edge\">\n",
       "<title>1&#45;&gt;3</title>\n",
       "<path fill=\"none\" stroke=\"black\" d=\"M141.32,-106.7C125.66,-93.06 107.6,-77.31 92.02,-63.72\"/>\n",
       "<polygon fill=\"black\" stroke=\"black\" points=\"93.96,-60.77 84.12,-56.83 89.36,-66.04 93.96,-60.77\"/>\n",
       "</g>\n",
       "<!-- 4 -->\n",
       "<g id=\"node4\" class=\"node\">\n",
       "<title>4</title>\n",
       "<path fill=\"#fffdfb\" stroke=\"black\" d=\"M225.5,-56.5C225.5,-56.5 139.5,-56.5 139.5,-56.5 133.5,-56.5 127.5,-50.5 127.5,-44.5 127.5,-44.5 127.5,-15.5 127.5,-15.5 127.5,-9.5 133.5,-3.5 139.5,-3.5 139.5,-3.5 225.5,-3.5 225.5,-3.5 231.5,-3.5 237.5,-9.5 237.5,-15.5 237.5,-15.5 237.5,-44.5 237.5,-44.5 237.5,-50.5 231.5,-56.5 225.5,-56.5\"/>\n",
       "<text text-anchor=\"start\" x=\"154.5\" y=\"-41.3\" font-family=\"Helvetica,sans-Serif\" font-size=\"14.00\">gini = 0.5</text>\n",
       "<text text-anchor=\"start\" x=\"137.5\" y=\"-26.3\" font-family=\"Helvetica,sans-Serif\" font-size=\"14.00\">samples = 109</text>\n",
       "<text text-anchor=\"start\" x=\"135.5\" y=\"-11.3\" font-family=\"Helvetica,sans-Serif\" font-size=\"14.00\">value = [55, 54]</text>\n",
       "</g>\n",
       "<!-- 1&#45;&gt;4 -->\n",
       "<g id=\"edge3\" class=\"edge\">\n",
       "<title>1&#45;&gt;4</title>\n",
       "<path fill=\"none\" stroke=\"black\" d=\"M180.42,-106.7C180.76,-94.18 181.15,-79.89 181.51,-67.13\"/>\n",
       "<polygon fill=\"black\" stroke=\"black\" points=\"185.01,-66.92 181.79,-56.83 178.02,-66.73 185.01,-66.92\"/>\n",
       "</g>\n",
       "<!-- 5 -->\n",
       "<g id=\"node6\" class=\"node\">\n",
       "<title>5</title>\n",
       "<path fill=\"#88c4ef\" stroke=\"black\" d=\"M350.5,-56.5C350.5,-56.5 272.5,-56.5 272.5,-56.5 266.5,-56.5 260.5,-50.5 260.5,-44.5 260.5,-44.5 260.5,-15.5 260.5,-15.5 260.5,-9.5 266.5,-3.5 272.5,-3.5 272.5,-3.5 350.5,-3.5 350.5,-3.5 356.5,-3.5 362.5,-9.5 362.5,-15.5 362.5,-15.5 362.5,-44.5 362.5,-44.5 362.5,-50.5 356.5,-56.5 350.5,-56.5\"/>\n",
       "<text text-anchor=\"start\" x=\"279.5\" y=\"-41.3\" font-family=\"Helvetica,sans-Serif\" font-size=\"14.00\">gini = 0.41</text>\n",
       "<text text-anchor=\"start\" x=\"270.5\" y=\"-26.3\" font-family=\"Helvetica,sans-Serif\" font-size=\"14.00\">samples = 21</text>\n",
       "<text text-anchor=\"start\" x=\"268.5\" y=\"-11.3\" font-family=\"Helvetica,sans-Serif\" font-size=\"14.00\">value = [6, 15]</text>\n",
       "</g>\n",
       "<!-- 2&#45;&gt;5 -->\n",
       "<g id=\"edge5\" class=\"edge\">\n",
       "<title>2&#45;&gt;5</title>\n",
       "<path fill=\"none\" stroke=\"black\" d=\"M313.58,-106.7C313.24,-94.18 312.85,-79.89 312.49,-67.13\"/>\n",
       "<polygon fill=\"black\" stroke=\"black\" points=\"315.98,-66.73 312.21,-56.83 308.99,-66.92 315.98,-66.73\"/>\n",
       "</g>\n",
       "<!-- 6 -->\n",
       "<g id=\"node7\" class=\"node\">\n",
       "<title>6</title>\n",
       "<path fill=\"#ea995f\" stroke=\"black\" d=\"M486,-56.5C486,-56.5 393,-56.5 393,-56.5 387,-56.5 381,-50.5 381,-44.5 381,-44.5 381,-15.5 381,-15.5 381,-9.5 387,-3.5 393,-3.5 393,-3.5 486,-3.5 486,-3.5 492,-3.5 498,-9.5 498,-15.5 498,-15.5 498,-44.5 498,-44.5 498,-50.5 492,-56.5 486,-56.5\"/>\n",
       "<text text-anchor=\"start\" x=\"407.5\" y=\"-41.3\" font-family=\"Helvetica,sans-Serif\" font-size=\"14.00\">gini = 0.27</text>\n",
       "<text text-anchor=\"start\" x=\"394.5\" y=\"-26.3\" font-family=\"Helvetica,sans-Serif\" font-size=\"14.00\">samples = 418</text>\n",
       "<text text-anchor=\"start\" x=\"389\" y=\"-11.3\" font-family=\"Helvetica,sans-Serif\" font-size=\"14.00\">value = [350, 68]</text>\n",
       "</g>\n",
       "<!-- 2&#45;&gt;6 -->\n",
       "<g id=\"edge6\" class=\"edge\">\n",
       "<title>2&#45;&gt;6</title>\n",
       "<path fill=\"none\" stroke=\"black\" d=\"M352.68,-106.7C368.34,-93.06 386.4,-77.31 401.98,-63.72\"/>\n",
       "<polygon fill=\"black\" stroke=\"black\" points=\"404.64,-66.04 409.88,-56.83 400.04,-60.77 404.64,-66.04\"/>\n",
       "</g>\n",
       "</g>\n",
       "</svg>\n"
      ],
      "text/plain": [
       "<graphviz.sources.Source at 0x1fea4ef58d0>"
      ]
     },
     "execution_count": 27,
     "metadata": {},
     "output_type": "execute_result"
    }
   ],
   "source": [
    "import graphviz\n",
    "\n",
    "def draw_tree(t, df, size=10, ratio=0.6, precision=2):\n",
    "    s=export_graphviz(t, out_file=None, feature_names=df.columns, filled=True, rounded=True,\n",
    "                      special_characters=True, rotate=False, precision=precision)\n",
    "    return graphviz.Source(re.sub('Tree {', f'Tree {{ size={size}; ratio={ratio}', s))\n",
    "\n",
    "draw_tree(m, x_tr)"
   ]
  },
  {
   "attachments": {
    "image-2.png": {
     "image/png": "[encoded data removed]"
    },
    "image.png": {
     "image/png": "[encoded data removed]"
    }
   },
   "cell_type": "markdown",
   "id": "1088a72e",
   "metadata": {
    "hidden": true
   },
   "source": [
    "This tree is using a different impurity measure than that which we defined in `score`. It uses `Gini` impurity which is defined as:\n",
    "![image.png](attachment:image.png)\n",
    "For:\n",
    "![image-2.png](attachment:image-2.png)\n",
    "We can replicate `Gini` impurity:"
   ]
  },
  {
   "cell_type": "code",
   "execution_count": 28,
   "id": "a4031476",
   "metadata": {
    "hidden": true
   },
   "outputs": [],
   "source": [
    "def gini(cond, df):\n",
    "    act = df.loc[cond, dep]    # classes given condition (e.g. survival statuses for all females)\n",
    "    return 1 - act.mean()**2 - (1-act).mean()**2"
   ]
  },
  {
   "cell_type": "markdown",
   "id": "c9b69a74",
   "metadata": {
    "hidden": true
   },
   "source": [
    "Note that for a binary split with a boolean dependent variable, *p_mk* is equivalent to the mean over the range of elements where the condition `cond` is true. "
   ]
  },
  {
   "cell_type": "code",
   "execution_count": 29,
   "id": "d4eaea1d",
   "metadata": {
    "hidden": true
   },
   "outputs": [
    {
     "data": {
      "text/plain": [
       "(0.38252512347209255, 0.3066401689488951)"
      ]
     },
     "execution_count": 29,
     "metadata": {},
     "output_type": "execute_result"
    }
   ],
   "source": [
    "gini(tr_df.Sex<=0.5, tr_df), gini(tr_df.Sex>0.5, tr_df)"
   ]
  },
  {
   "cell_type": "code",
   "execution_count": 30,
   "id": "5e77b8c4",
   "metadata": {
    "hidden": true,
    "scrolled": true
   },
   "outputs": [
    {
     "data": {
      "text/plain": [
       "(0.06444444444444448, 0.4999579160003367)"
      ]
     },
     "execution_count": 30,
     "metadata": {},
     "output_type": "execute_result"
    }
   ],
   "source": [
    "gini(females.Pclass<=2.5, females), gini(females.Pclass>2.5, females)"
   ]
  },
  {
   "cell_type": "markdown",
   "id": "700037d1",
   "metadata": {
    "hidden": true
   },
   "source": [
    "### Embiggening the sklearn Tree"
   ]
  },
  {
   "cell_type": "code",
   "execution_count": 31,
   "id": "936eee38",
   "metadata": {
    "hidden": true
   },
   "outputs": [
    {
     "data": {
      "image/svg+xml": [
       "<?xml version=\"1.0\" encoding=\"UTF-8\" standalone=\"no\"?>\n",
       "<!DOCTYPE svg PUBLIC \"-//W3C//DTD SVG 1.1//EN\"\n",
       " \"http://www.w3.org/Graphics/SVG/1.1/DTD/svg11.dtd\">\n",
       "<!-- Generated by graphviz version 2.50.0 (0)\n",
       " -->\n",
       "<!-- Title: Tree Pages: 1 -->\n",
       "<svg width=\"576pt\" height=\"347pt\"\n",
       " viewBox=\"0.00 0.00 576.00 347.22\" xmlns=\"http://www.w3.org/2000/svg\" xmlns:xlink=\"http://www.w3.org/1999/xlink\">\n",
       "<g id=\"graph0\" class=\"graph\" transform=\"scale(0.51 0.51) rotate(0) translate(4 681)\">\n",
       "<title>Tree</title>\n",
       "<polygon fill=\"white\" stroke=\"transparent\" points=\"-4,4 -4,-681 1132.33,-681 1132.33,4 -4,4\"/>\n",
       "<!-- 0 -->\n",
       "<g id=\"node1\" class=\"node\">\n",
       "<title>0</title>\n",
       "<path fill=\"#f5ceb2\" stroke=\"black\" d=\"M596.8,-677C596.8,-677 495.8,-677 495.8,-677 489.8,-677 483.8,-671 483.8,-665 483.8,-665 483.8,-621 483.8,-621 483.8,-615 489.8,-609 495.8,-609 495.8,-609 596.8,-609 596.8,-609 602.8,-609 608.8,-615 608.8,-621 608.8,-621 608.8,-665 608.8,-665 608.8,-671 602.8,-677 596.8,-677\"/>\n",
       "<text text-anchor=\"start\" x=\"517.3\" y=\"-661.8\" font-family=\"Helvetica,sans-Serif\" font-size=\"14.00\">Sex ≤ 0.5</text>\n",
       "<text text-anchor=\"start\" x=\"514.3\" y=\"-646.8\" font-family=\"Helvetica,sans-Serif\" font-size=\"14.00\">gini = 0.47</text>\n",
       "<text text-anchor=\"start\" x=\"501.3\" y=\"-631.8\" font-family=\"Helvetica,sans-Serif\" font-size=\"14.00\">samples = 668</text>\n",
       "<text text-anchor=\"start\" x=\"491.8\" y=\"-616.8\" font-family=\"Helvetica,sans-Serif\" font-size=\"14.00\">value = [415, 253]</text>\n",
       "</g>\n",
       "<!-- 1 -->\n",
       "<g id=\"node2\" class=\"node\">\n",
       "<title>1</title>\n",
       "<path fill=\"#7ebfee\" stroke=\"black\" d=\"M449.8,-573C449.8,-573 356.8,-573 356.8,-573 350.8,-573 344.8,-567 344.8,-561 344.8,-561 344.8,-517 344.8,-517 344.8,-511 350.8,-505 356.8,-505 356.8,-505 449.8,-505 449.8,-505 455.8,-505 461.8,-511 461.8,-517 461.8,-517 461.8,-561 461.8,-561 461.8,-567 455.8,-573 449.8,-573\"/>\n",
       "<text text-anchor=\"start\" x=\"366.3\" y=\"-557.8\" font-family=\"Helvetica,sans-Serif\" font-size=\"14.00\">Pclass ≤ 2.5</text>\n",
       "<text text-anchor=\"start\" x=\"371.3\" y=\"-542.8\" font-family=\"Helvetica,sans-Serif\" font-size=\"14.00\">gini = 0.38</text>\n",
       "<text text-anchor=\"start\" x=\"358.3\" y=\"-527.8\" font-family=\"Helvetica,sans-Serif\" font-size=\"14.00\">samples = 229</text>\n",
       "<text text-anchor=\"start\" x=\"352.8\" y=\"-512.8\" font-family=\"Helvetica,sans-Serif\" font-size=\"14.00\">value = [59, 170]</text>\n",
       "</g>\n",
       "<!-- 0&#45;&gt;1 -->\n",
       "<g id=\"edge1\" class=\"edge\">\n",
       "<title>0&#45;&gt;1</title>\n",
       "<path fill=\"none\" stroke=\"black\" d=\"M499.88,-608.88C486.64,-599.44 472.09,-589.06 458.39,-579.29\"/>\n",
       "<polygon fill=\"black\" stroke=\"black\" points=\"460.16,-576.26 449.99,-573.3 456.1,-581.96 460.16,-576.26\"/>\n",
       "<text text-anchor=\"middle\" x=\"454.11\" y=\"-594.26\" font-family=\"Helvetica,sans-Serif\" font-size=\"14.00\">True</text>\n",
       "</g>\n",
       "<!-- 8 -->\n",
       "<g id=\"node9\" class=\"node\">\n",
       "<title>8</title>\n",
       "<path fill=\"#eb9e67\" stroke=\"black\" d=\"M743.8,-573C743.8,-573 650.8,-573 650.8,-573 644.8,-573 638.8,-567 638.8,-561 638.8,-561 638.8,-517 638.8,-517 638.8,-511 644.8,-505 650.8,-505 650.8,-505 743.8,-505 743.8,-505 749.8,-505 755.8,-511 755.8,-517 755.8,-517 755.8,-561 755.8,-561 755.8,-567 749.8,-573 743.8,-573\"/>\n",
       "<text text-anchor=\"start\" x=\"651.3\" y=\"-557.8\" font-family=\"Helvetica,sans-Serif\" font-size=\"14.00\">LogFare ≤ 3.31</text>\n",
       "<text text-anchor=\"start\" x=\"665.3\" y=\"-542.8\" font-family=\"Helvetica,sans-Serif\" font-size=\"14.00\">gini = 0.31</text>\n",
       "<text text-anchor=\"start\" x=\"652.3\" y=\"-527.8\" font-family=\"Helvetica,sans-Serif\" font-size=\"14.00\">samples = 439</text>\n",
       "<text text-anchor=\"start\" x=\"646.8\" y=\"-512.8\" font-family=\"Helvetica,sans-Serif\" font-size=\"14.00\">value = [356, 83]</text>\n",
       "</g>\n",
       "<!-- 0&#45;&gt;8 -->\n",
       "<g id=\"edge8\" class=\"edge\">\n",
       "<title>0&#45;&gt;8</title>\n",
       "<path fill=\"none\" stroke=\"black\" d=\"M595.33,-608.88C609.51,-599.3 625.12,-588.76 639.77,-578.86\"/>\n",
       "<polygon fill=\"black\" stroke=\"black\" points=\"641.94,-581.62 648.27,-573.12 638.02,-575.82 641.94,-581.62\"/>\n",
       "<text text-anchor=\"middle\" x=\"643.51\" y=\"-593.97\" font-family=\"Helvetica,sans-Serif\" font-size=\"14.00\">False</text>\n",
       "</g>\n",
       "<!-- 2 -->\n",
       "<g id=\"node3\" class=\"node\">\n",
       "<title>2</title>\n",
       "<path fill=\"#40a0e6\" stroke=\"black\" d=\"M235.8,-469C235.8,-469 150.8,-469 150.8,-469 144.8,-469 138.8,-463 138.8,-457 138.8,-457 138.8,-413 138.8,-413 138.8,-407 144.8,-401 150.8,-401 150.8,-401 235.8,-401 235.8,-401 241.8,-401 247.8,-407 247.8,-413 247.8,-413 247.8,-457 247.8,-457 247.8,-463 241.8,-469 235.8,-469\"/>\n",
       "<text text-anchor=\"start\" x=\"158.3\" y=\"-453.8\" font-family=\"Helvetica,sans-Serif\" font-size=\"14.00\">SibSp ≤ 0.5</text>\n",
       "<text text-anchor=\"start\" x=\"161.3\" y=\"-438.8\" font-family=\"Helvetica,sans-Serif\" font-size=\"14.00\">gini = 0.06</text>\n",
       "<text text-anchor=\"start\" x=\"148.3\" y=\"-423.8\" font-family=\"Helvetica,sans-Serif\" font-size=\"14.00\">samples = 120</text>\n",
       "<text text-anchor=\"start\" x=\"146.8\" y=\"-408.8\" font-family=\"Helvetica,sans-Serif\" font-size=\"14.00\">value = [4, 116]</text>\n",
       "</g>\n",
       "<!-- 1&#45;&gt;2 -->\n",
       "<g id=\"edge2\" class=\"edge\">\n",
       "<title>1&#45;&gt;2</title>\n",
       "<path fill=\"none\" stroke=\"black\" d=\"M344.53,-509.45C317.38,-496.27 285.09,-480.58 257.33,-467.1\"/>\n",
       "<polygon fill=\"black\" stroke=\"black\" points=\"258.62,-463.84 248.1,-462.62 255.57,-470.13 258.62,-463.84\"/>\n",
       "</g>\n",
       "<!-- 5 -->\n",
       "<g id=\"node6\" class=\"node\">\n",
       "<title>5</title>\n",
       "<path fill=\"#fffdfb\" stroke=\"black\" d=\"M446.3,-469C446.3,-469 360.3,-469 360.3,-469 354.3,-469 348.3,-463 348.3,-457 348.3,-457 348.3,-413 348.3,-413 348.3,-407 354.3,-401 360.3,-401 360.3,-401 446.3,-401 446.3,-401 452.3,-401 458.3,-407 458.3,-413 458.3,-413 458.3,-457 458.3,-457 458.3,-463 452.3,-469 446.3,-469\"/>\n",
       "<text text-anchor=\"start\" x=\"360.8\" y=\"-453.8\" font-family=\"Helvetica,sans-Serif\" font-size=\"14.00\">LogFare ≤ 2.7</text>\n",
       "<text text-anchor=\"start\" x=\"375.3\" y=\"-438.8\" font-family=\"Helvetica,sans-Serif\" font-size=\"14.00\">gini = 0.5</text>\n",
       "<text text-anchor=\"start\" x=\"358.3\" y=\"-423.8\" font-family=\"Helvetica,sans-Serif\" font-size=\"14.00\">samples = 109</text>\n",
       "<text text-anchor=\"start\" x=\"356.3\" y=\"-408.8\" font-family=\"Helvetica,sans-Serif\" font-size=\"14.00\">value = [55, 54]</text>\n",
       "</g>\n",
       "<!-- 1&#45;&gt;5 -->\n",
       "<g id=\"edge5\" class=\"edge\">\n",
       "<title>1&#45;&gt;5</title>\n",
       "<path fill=\"none\" stroke=\"black\" d=\"M403.3,-504.88C403.3,-496.78 403.3,-487.98 403.3,-479.47\"/>\n",
       "<polygon fill=\"black\" stroke=\"black\" points=\"406.8,-479.3 403.3,-469.3 399.8,-479.3 406.8,-479.3\"/>\n",
       "</g>\n",
       "<!-- 3 -->\n",
       "<g id=\"node4\" class=\"node\">\n",
       "<title>3</title>\n",
       "<path fill=\"#3c9ee5\" stroke=\"black\" d=\"M96.3,-357.5C96.3,-357.5 18.3,-357.5 18.3,-357.5 12.3,-357.5 6.3,-351.5 6.3,-345.5 6.3,-345.5 6.3,-316.5 6.3,-316.5 6.3,-310.5 12.3,-304.5 18.3,-304.5 18.3,-304.5 96.3,-304.5 96.3,-304.5 102.3,-304.5 108.3,-310.5 108.3,-316.5 108.3,-316.5 108.3,-345.5 108.3,-345.5 108.3,-351.5 102.3,-357.5 96.3,-357.5\"/>\n",
       "<text text-anchor=\"start\" x=\"25.3\" y=\"-342.3\" font-family=\"Helvetica,sans-Serif\" font-size=\"14.00\">gini = 0.03</text>\n",
       "<text text-anchor=\"start\" x=\"16.3\" y=\"-327.3\" font-family=\"Helvetica,sans-Serif\" font-size=\"14.00\">samples = 67</text>\n",
       "<text text-anchor=\"start\" x=\"14.3\" y=\"-312.3\" font-family=\"Helvetica,sans-Serif\" font-size=\"14.00\">value = [1, 66]</text>\n",
       "</g>\n",
       "<!-- 2&#45;&gt;3 -->\n",
       "<g id=\"edge3\" class=\"edge\">\n",
       "<title>2&#45;&gt;3</title>\n",
       "<path fill=\"none\" stroke=\"black\" d=\"M149.15,-400.88C133.17,-388.9 115.17,-375.4 99.37,-363.55\"/>\n",
       "<polygon fill=\"black\" stroke=\"black\" points=\"101.43,-360.72 91.33,-357.52 97.23,-366.32 101.43,-360.72\"/>\n",
       "</g>\n",
       "<!-- 4 -->\n",
       "<g id=\"node5\" class=\"node\">\n",
       "<title>4</title>\n",
       "<path fill=\"#45a3e7\" stroke=\"black\" d=\"M232.3,-357.5C232.3,-357.5 154.3,-357.5 154.3,-357.5 148.3,-357.5 142.3,-351.5 142.3,-345.5 142.3,-345.5 142.3,-316.5 142.3,-316.5 142.3,-310.5 148.3,-304.5 154.3,-304.5 154.3,-304.5 232.3,-304.5 232.3,-304.5 238.3,-304.5 244.3,-310.5 244.3,-316.5 244.3,-316.5 244.3,-345.5 244.3,-345.5 244.3,-351.5 238.3,-357.5 232.3,-357.5\"/>\n",
       "<text text-anchor=\"start\" x=\"161.8\" y=\"-342.3\" font-family=\"Helvetica,sans-Serif\" font-size=\"14.00\">gini = 0.11</text>\n",
       "<text text-anchor=\"start\" x=\"152.3\" y=\"-327.3\" font-family=\"Helvetica,sans-Serif\" font-size=\"14.00\">samples = 53</text>\n",
       "<text text-anchor=\"start\" x=\"150.3\" y=\"-312.3\" font-family=\"Helvetica,sans-Serif\" font-size=\"14.00\">value = [3, 50]</text>\n",
       "</g>\n",
       "<!-- 2&#45;&gt;4 -->\n",
       "<g id=\"edge4\" class=\"edge\">\n",
       "<title>2&#45;&gt;4</title>\n",
       "<path fill=\"none\" stroke=\"black\" d=\"M193.3,-400.88C193.3,-390.33 193.3,-378.6 193.3,-367.85\"/>\n",
       "<polygon fill=\"black\" stroke=\"black\" points=\"196.8,-367.52 193.3,-357.52 189.8,-367.52 196.8,-367.52\"/>\n",
       "</g>\n",
       "<!-- 6 -->\n",
       "<g id=\"node7\" class=\"node\">\n",
       "<title>6</title>\n",
       "<path fill=\"#cbe5f8\" stroke=\"black\" d=\"M376.3,-357.5C376.3,-357.5 290.3,-357.5 290.3,-357.5 284.3,-357.5 278.3,-351.5 278.3,-345.5 278.3,-345.5 278.3,-316.5 278.3,-316.5 278.3,-310.5 284.3,-304.5 290.3,-304.5 290.3,-304.5 376.3,-304.5 376.3,-304.5 382.3,-304.5 388.3,-310.5 388.3,-316.5 388.3,-316.5 388.3,-345.5 388.3,-345.5 388.3,-351.5 382.3,-357.5 376.3,-357.5\"/>\n",
       "<text text-anchor=\"start\" x=\"301.3\" y=\"-342.3\" font-family=\"Helvetica,sans-Serif\" font-size=\"14.00\">gini = 0.49</text>\n",
       "<text text-anchor=\"start\" x=\"292.3\" y=\"-327.3\" font-family=\"Helvetica,sans-Serif\" font-size=\"14.00\">samples = 59</text>\n",
       "<text text-anchor=\"start\" x=\"286.3\" y=\"-312.3\" font-family=\"Helvetica,sans-Serif\" font-size=\"14.00\">value = [25, 34]</text>\n",
       "</g>\n",
       "<!-- 5&#45;&gt;6 -->\n",
       "<g id=\"edge6\" class=\"edge\">\n",
       "<title>5&#45;&gt;6</title>\n",
       "<path fill=\"none\" stroke=\"black\" d=\"M380.58,-400.88C372.88,-389.67 364.27,-377.13 356.54,-365.85\"/>\n",
       "<polygon fill=\"black\" stroke=\"black\" points=\"359.36,-363.78 350.82,-357.52 353.59,-367.75 359.36,-363.78\"/>\n",
       "</g>\n",
       "<!-- 7 -->\n",
       "<g id=\"node8\" class=\"node\">\n",
       "<title>7</title>\n",
       "<path fill=\"#f6d5bd\" stroke=\"black\" d=\"M521.3,-357.5C521.3,-357.5 435.3,-357.5 435.3,-357.5 429.3,-357.5 423.3,-351.5 423.3,-345.5 423.3,-345.5 423.3,-316.5 423.3,-316.5 423.3,-310.5 429.3,-304.5 435.3,-304.5 435.3,-304.5 521.3,-304.5 521.3,-304.5 527.3,-304.5 533.3,-310.5 533.3,-316.5 533.3,-316.5 533.3,-345.5 533.3,-345.5 533.3,-351.5 527.3,-357.5 521.3,-357.5\"/>\n",
       "<text text-anchor=\"start\" x=\"446.3\" y=\"-342.3\" font-family=\"Helvetica,sans-Serif\" font-size=\"14.00\">gini = 0.48</text>\n",
       "<text text-anchor=\"start\" x=\"437.3\" y=\"-327.3\" font-family=\"Helvetica,sans-Serif\" font-size=\"14.00\">samples = 50</text>\n",
       "<text text-anchor=\"start\" x=\"431.3\" y=\"-312.3\" font-family=\"Helvetica,sans-Serif\" font-size=\"14.00\">value = [30, 20]</text>\n",
       "</g>\n",
       "<!-- 5&#45;&gt;7 -->\n",
       "<g id=\"edge7\" class=\"edge\">\n",
       "<title>5&#45;&gt;7</title>\n",
       "<path fill=\"none\" stroke=\"black\" d=\"M427.65,-400.88C435.9,-389.67 445.12,-377.13 453.41,-365.85\"/>\n",
       "<polygon fill=\"black\" stroke=\"black\" points=\"456.44,-367.65 459.54,-357.52 450.8,-363.5 456.44,-367.65\"/>\n",
       "</g>\n",
       "<!-- 9 -->\n",
       "<g id=\"node10\" class=\"node\">\n",
       "<title>9</title>\n",
       "<path fill=\"#e99659\" stroke=\"black\" d=\"M743.8,-469C743.8,-469 650.8,-469 650.8,-469 644.8,-469 638.8,-463 638.8,-457 638.8,-457 638.8,-413 638.8,-413 638.8,-407 644.8,-401 650.8,-401 650.8,-401 743.8,-401 743.8,-401 749.8,-401 755.8,-407 755.8,-413 755.8,-413 755.8,-457 755.8,-457 755.8,-463 749.8,-469 743.8,-469\"/>\n",
       "<text text-anchor=\"start\" x=\"664.3\" y=\"-453.8\" font-family=\"Helvetica,sans-Serif\" font-size=\"14.00\">Age ≤ 20.5</text>\n",
       "<text text-anchor=\"start\" x=\"665.3\" y=\"-438.8\" font-family=\"Helvetica,sans-Serif\" font-size=\"14.00\">gini = 0.24</text>\n",
       "<text text-anchor=\"start\" x=\"652.3\" y=\"-423.8\" font-family=\"Helvetica,sans-Serif\" font-size=\"14.00\">samples = 320</text>\n",
       "<text text-anchor=\"start\" x=\"646.8\" y=\"-408.8\" font-family=\"Helvetica,sans-Serif\" font-size=\"14.00\">value = [275, 45]</text>\n",
       "</g>\n",
       "<!-- 8&#45;&gt;9 -->\n",
       "<g id=\"edge9\" class=\"edge\">\n",
       "<title>8&#45;&gt;9</title>\n",
       "<path fill=\"none\" stroke=\"black\" d=\"M697.3,-504.88C697.3,-496.78 697.3,-487.98 697.3,-479.47\"/>\n",
       "<polygon fill=\"black\" stroke=\"black\" points=\"700.8,-479.3 697.3,-469.3 693.8,-479.3 700.8,-479.3\"/>\n",
       "</g>\n",
       "<!-- 18 -->\n",
       "<g id=\"node19\" class=\"node\">\n",
       "<title>18</title>\n",
       "<path fill=\"#f1bc96\" stroke=\"black\" d=\"M964.3,-469C964.3,-469 878.3,-469 878.3,-469 872.3,-469 866.3,-463 866.3,-457 866.3,-457 866.3,-413 866.3,-413 866.3,-407 872.3,-401 878.3,-401 878.3,-401 964.3,-401 964.3,-401 970.3,-401 976.3,-407 976.3,-413 976.3,-413 976.3,-457 976.3,-457 976.3,-463 970.3,-469 964.3,-469\"/>\n",
       "<text text-anchor=\"start\" x=\"886.3\" y=\"-453.8\" font-family=\"Helvetica,sans-Serif\" font-size=\"14.00\">SibSp ≤ 0.5</text>\n",
       "<text text-anchor=\"start\" x=\"889.3\" y=\"-438.8\" font-family=\"Helvetica,sans-Serif\" font-size=\"14.00\">gini = 0.43</text>\n",
       "<text text-anchor=\"start\" x=\"876.8\" y=\"-423.8\" font-family=\"Helvetica,sans-Serif\" font-size=\"14.00\">samples = 119</text>\n",
       "<text text-anchor=\"start\" x=\"874.3\" y=\"-408.8\" font-family=\"Helvetica,sans-Serif\" font-size=\"14.00\">value = [81, 38]</text>\n",
       "</g>\n",
       "<!-- 8&#45;&gt;18 -->\n",
       "<g id=\"edge18\" class=\"edge\">\n",
       "<title>8&#45;&gt;18</title>\n",
       "<path fill=\"none\" stroke=\"black\" d=\"M755.86,-511.33C786.89,-497.2 825.07,-479.82 856.93,-465.31\"/>\n",
       "<polygon fill=\"black\" stroke=\"black\" points=\"858.52,-468.44 866.17,-461.11 855.61,-462.07 858.52,-468.44\"/>\n",
       "</g>\n",
       "<!-- 10 -->\n",
       "<g id=\"node11\" class=\"node\">\n",
       "<title>10</title>\n",
       "<path fill=\"#f1b992\" stroke=\"black\" d=\"M666.3,-357.5C666.3,-357.5 580.3,-357.5 580.3,-357.5 574.3,-357.5 568.3,-351.5 568.3,-345.5 568.3,-345.5 568.3,-316.5 568.3,-316.5 568.3,-310.5 574.3,-304.5 580.3,-304.5 580.3,-304.5 666.3,-304.5 666.3,-304.5 672.3,-304.5 678.3,-310.5 678.3,-316.5 678.3,-316.5 678.3,-345.5 678.3,-345.5 678.3,-351.5 672.3,-357.5 666.3,-357.5\"/>\n",
       "<text text-anchor=\"start\" x=\"591.3\" y=\"-342.3\" font-family=\"Helvetica,sans-Serif\" font-size=\"14.00\">gini = 0.43</text>\n",
       "<text text-anchor=\"start\" x=\"582.3\" y=\"-327.3\" font-family=\"Helvetica,sans-Serif\" font-size=\"14.00\">samples = 55</text>\n",
       "<text text-anchor=\"start\" x=\"576.3\" y=\"-312.3\" font-family=\"Helvetica,sans-Serif\" font-size=\"14.00\">value = [38, 17]</text>\n",
       "</g>\n",
       "<!-- 9&#45;&gt;10 -->\n",
       "<g id=\"edge10\" class=\"edge\">\n",
       "<title>9&#45;&gt;10</title>\n",
       "<path fill=\"none\" stroke=\"black\" d=\"M673.28,-400.88C665.14,-389.67 656.04,-377.13 647.86,-365.85\"/>\n",
       "<polygon fill=\"black\" stroke=\"black\" points=\"650.52,-363.56 641.82,-357.52 644.86,-367.67 650.52,-363.56\"/>\n",
       "</g>\n",
       "<!-- 11 -->\n",
       "<g id=\"node12\" class=\"node\">\n",
       "<title>11</title>\n",
       "<path fill=\"#e89050\" stroke=\"black\" d=\"M818.8,-365C818.8,-365 725.8,-365 725.8,-365 719.8,-365 713.8,-359 713.8,-353 713.8,-353 713.8,-309 713.8,-309 713.8,-303 719.8,-297 725.8,-297 725.8,-297 818.8,-297 818.8,-297 824.8,-297 830.8,-303 830.8,-309 830.8,-309 830.8,-353 830.8,-353 830.8,-359 824.8,-365 818.8,-365\"/>\n",
       "<text text-anchor=\"start\" x=\"739.3\" y=\"-349.8\" font-family=\"Helvetica,sans-Serif\" font-size=\"14.00\">Age ≤ 32.5</text>\n",
       "<text text-anchor=\"start\" x=\"740.3\" y=\"-334.8\" font-family=\"Helvetica,sans-Serif\" font-size=\"14.00\">gini = 0.19</text>\n",
       "<text text-anchor=\"start\" x=\"727.3\" y=\"-319.8\" font-family=\"Helvetica,sans-Serif\" font-size=\"14.00\">samples = 265</text>\n",
       "<text text-anchor=\"start\" x=\"721.8\" y=\"-304.8\" font-family=\"Helvetica,sans-Serif\" font-size=\"14.00\">value = [237, 28]</text>\n",
       "</g>\n",
       "<!-- 9&#45;&gt;11 -->\n",
       "<g id=\"edge11\" class=\"edge\">\n",
       "<title>9&#45;&gt;11</title>\n",
       "<path fill=\"none\" stroke=\"black\" d=\"M721.65,-400.88C728.07,-392.15 735.08,-382.62 741.78,-373.51\"/>\n",
       "<polygon fill=\"black\" stroke=\"black\" points=\"744.71,-375.43 747.82,-365.3 739.08,-371.28 744.71,-375.43\"/>\n",
       "</g>\n",
       "<!-- 12 -->\n",
       "<g id=\"node13\" class=\"node\">\n",
       "<title>12</title>\n",
       "<path fill=\"#e99356\" stroke=\"black\" d=\"M746.8,-261C746.8,-261 653.8,-261 653.8,-261 647.8,-261 641.8,-255 641.8,-249 641.8,-249 641.8,-205 641.8,-205 641.8,-199 647.8,-193 653.8,-193 653.8,-193 746.8,-193 746.8,-193 752.8,-193 758.8,-199 758.8,-205 758.8,-205 758.8,-249 758.8,-249 758.8,-255 752.8,-261 746.8,-261\"/>\n",
       "<text text-anchor=\"start\" x=\"663.8\" y=\"-245.8\" font-family=\"Helvetica,sans-Serif\" font-size=\"14.00\">Age ≤ 24.75</text>\n",
       "<text text-anchor=\"start\" x=\"668.3\" y=\"-230.8\" font-family=\"Helvetica,sans-Serif\" font-size=\"14.00\">gini = 0.22</text>\n",
       "<text text-anchor=\"start\" x=\"655.3\" y=\"-215.8\" font-family=\"Helvetica,sans-Serif\" font-size=\"14.00\">samples = 181</text>\n",
       "<text text-anchor=\"start\" x=\"649.8\" y=\"-200.8\" font-family=\"Helvetica,sans-Serif\" font-size=\"14.00\">value = [158, 23]</text>\n",
       "</g>\n",
       "<!-- 11&#45;&gt;12 -->\n",
       "<g id=\"edge12\" class=\"edge\">\n",
       "<title>11&#45;&gt;12</title>\n",
       "<path fill=\"none\" stroke=\"black\" d=\"M748.93,-296.88C742.77,-288.15 736.04,-278.62 729.61,-269.51\"/>\n",
       "<polygon fill=\"black\" stroke=\"black\" points=\"732.44,-267.45 723.81,-261.3 726.72,-271.49 732.44,-267.45\"/>\n",
       "</g>\n",
       "<!-- 17 -->\n",
       "<g id=\"node18\" class=\"node\">\n",
       "<title>17</title>\n",
       "<path fill=\"#e78946\" stroke=\"black\" d=\"M883.3,-253.5C883.3,-253.5 805.3,-253.5 805.3,-253.5 799.3,-253.5 793.3,-247.5 793.3,-241.5 793.3,-241.5 793.3,-212.5 793.3,-212.5 793.3,-206.5 799.3,-200.5 805.3,-200.5 805.3,-200.5 883.3,-200.5 883.3,-200.5 889.3,-200.5 895.3,-206.5 895.3,-212.5 895.3,-212.5 895.3,-241.5 895.3,-241.5 895.3,-247.5 889.3,-253.5 883.3,-253.5\"/>\n",
       "<text text-anchor=\"start\" x=\"812.8\" y=\"-238.3\" font-family=\"Helvetica,sans-Serif\" font-size=\"14.00\">gini = 0.11</text>\n",
       "<text text-anchor=\"start\" x=\"803.3\" y=\"-223.3\" font-family=\"Helvetica,sans-Serif\" font-size=\"14.00\">samples = 84</text>\n",
       "<text text-anchor=\"start\" x=\"801.3\" y=\"-208.3\" font-family=\"Helvetica,sans-Serif\" font-size=\"14.00\">value = [79, 5]</text>\n",
       "</g>\n",
       "<!-- 11&#45;&gt;17 -->\n",
       "<g id=\"edge17\" class=\"edge\">\n",
       "<title>11&#45;&gt;17</title>\n",
       "<path fill=\"none\" stroke=\"black\" d=\"M795.68,-296.88C803.6,-285.67 812.45,-273.13 820.41,-261.85\"/>\n",
       "<polygon fill=\"black\" stroke=\"black\" points=\"823.38,-263.71 826.29,-253.52 817.66,-259.67 823.38,-263.71\"/>\n",
       "</g>\n",
       "<!-- 13 -->\n",
       "<g id=\"node14\" class=\"node\">\n",
       "<title>13</title>\n",
       "<path fill=\"#e88d4c\" stroke=\"black\" d=\"M671.8,-157C671.8,-157 578.8,-157 578.8,-157 572.8,-157 566.8,-151 566.8,-145 566.8,-145 566.8,-101 566.8,-101 566.8,-95 572.8,-89 578.8,-89 578.8,-89 671.8,-89 671.8,-89 677.8,-89 683.8,-95 683.8,-101 683.8,-101 683.8,-145 683.8,-145 683.8,-151 677.8,-157 671.8,-157\"/>\n",
       "<text text-anchor=\"start\" x=\"579.3\" y=\"-141.8\" font-family=\"Helvetica,sans-Serif\" font-size=\"14.00\">LogFare ≤ 2.18</text>\n",
       "<text text-anchor=\"start\" x=\"593.3\" y=\"-126.8\" font-family=\"Helvetica,sans-Serif\" font-size=\"14.00\">gini = 0.16</text>\n",
       "<text text-anchor=\"start\" x=\"580.8\" y=\"-111.8\" font-family=\"Helvetica,sans-Serif\" font-size=\"14.00\">samples = 114</text>\n",
       "<text text-anchor=\"start\" x=\"574.8\" y=\"-96.8\" font-family=\"Helvetica,sans-Serif\" font-size=\"14.00\">value = [104, 10]</text>\n",
       "</g>\n",
       "<!-- 12&#45;&gt;13 -->\n",
       "<g id=\"edge13\" class=\"edge\">\n",
       "<title>12&#45;&gt;13</title>\n",
       "<path fill=\"none\" stroke=\"black\" d=\"M675.95,-192.88C669.54,-184.15 662.53,-174.62 655.83,-165.51\"/>\n",
       "<polygon fill=\"black\" stroke=\"black\" points=\"658.53,-163.28 649.79,-157.3 652.89,-167.43 658.53,-163.28\"/>\n",
       "</g>\n",
       "<!-- 16 -->\n",
       "<g id=\"node17\" class=\"node\">\n",
       "<title>16</title>\n",
       "<path fill=\"#eb9f69\" stroke=\"black\" d=\"M817.3,-149.5C817.3,-149.5 731.3,-149.5 731.3,-149.5 725.3,-149.5 719.3,-143.5 719.3,-137.5 719.3,-137.5 719.3,-108.5 719.3,-108.5 719.3,-102.5 725.3,-96.5 731.3,-96.5 731.3,-96.5 817.3,-96.5 817.3,-96.5 823.3,-96.5 829.3,-102.5 829.3,-108.5 829.3,-108.5 829.3,-137.5 829.3,-137.5 829.3,-143.5 823.3,-149.5 817.3,-149.5\"/>\n",
       "<text text-anchor=\"start\" x=\"742.3\" y=\"-134.3\" font-family=\"Helvetica,sans-Serif\" font-size=\"14.00\">gini = 0.31</text>\n",
       "<text text-anchor=\"start\" x=\"733.3\" y=\"-119.3\" font-family=\"Helvetica,sans-Serif\" font-size=\"14.00\">samples = 67</text>\n",
       "<text text-anchor=\"start\" x=\"727.3\" y=\"-104.3\" font-family=\"Helvetica,sans-Serif\" font-size=\"14.00\">value = [54, 13]</text>\n",
       "</g>\n",
       "<!-- 12&#45;&gt;16 -->\n",
       "<g id=\"edge16\" class=\"edge\">\n",
       "<title>12&#45;&gt;16</title>\n",
       "<path fill=\"none\" stroke=\"black\" d=\"M724.33,-192.88C732.47,-181.67 741.57,-169.13 749.74,-157.85\"/>\n",
       "<polygon fill=\"black\" stroke=\"black\" points=\"752.75,-159.67 755.79,-149.52 747.08,-155.56 752.75,-159.67\"/>\n",
       "</g>\n",
       "<!-- 14 -->\n",
       "<g id=\"node15\" class=\"node\">\n",
       "<title>14</title>\n",
       "<path fill=\"#e99254\" stroke=\"black\" d=\"M596.3,-53.5C596.3,-53.5 518.3,-53.5 518.3,-53.5 512.3,-53.5 506.3,-47.5 506.3,-41.5 506.3,-41.5 506.3,-12.5 506.3,-12.5 506.3,-6.5 512.3,-0.5 518.3,-0.5 518.3,-0.5 596.3,-0.5 596.3,-0.5 602.3,-0.5 608.3,-6.5 608.3,-12.5 608.3,-12.5 608.3,-41.5 608.3,-41.5 608.3,-47.5 602.3,-53.5 596.3,-53.5\"/>\n",
       "<text text-anchor=\"start\" x=\"525.3\" y=\"-38.3\" font-family=\"Helvetica,sans-Serif\" font-size=\"14.00\">gini = 0.21</text>\n",
       "<text text-anchor=\"start\" x=\"516.3\" y=\"-23.3\" font-family=\"Helvetica,sans-Serif\" font-size=\"14.00\">samples = 50</text>\n",
       "<text text-anchor=\"start\" x=\"514.3\" y=\"-8.3\" font-family=\"Helvetica,sans-Serif\" font-size=\"14.00\">value = [44, 6]</text>\n",
       "</g>\n",
       "<!-- 13&#45;&gt;14 -->\n",
       "<g id=\"edge14\" class=\"edge\">\n",
       "<title>13&#45;&gt;14</title>\n",
       "<path fill=\"none\" stroke=\"black\" d=\"M601.33,-88.86C595.01,-80.13 588.19,-70.69 581.84,-61.92\"/>\n",
       "<polygon fill=\"black\" stroke=\"black\" points=\"584.63,-59.81 575.94,-53.76 578.96,-63.91 584.63,-59.81\"/>\n",
       "</g>\n",
       "<!-- 15 -->\n",
       "<g id=\"node16\" class=\"node\">\n",
       "<title>15</title>\n",
       "<path fill=\"#e78946\" stroke=\"black\" d=\"M732.3,-53.5C732.3,-53.5 654.3,-53.5 654.3,-53.5 648.3,-53.5 642.3,-47.5 642.3,-41.5 642.3,-41.5 642.3,-12.5 642.3,-12.5 642.3,-6.5 648.3,-0.5 654.3,-0.5 654.3,-0.5 732.3,-0.5 732.3,-0.5 738.3,-0.5 744.3,-6.5 744.3,-12.5 744.3,-12.5 744.3,-41.5 744.3,-41.5 744.3,-47.5 738.3,-53.5 732.3,-53.5\"/>\n",
       "<text text-anchor=\"start\" x=\"661.3\" y=\"-38.3\" font-family=\"Helvetica,sans-Serif\" font-size=\"14.00\">gini = 0.12</text>\n",
       "<text text-anchor=\"start\" x=\"652.3\" y=\"-23.3\" font-family=\"Helvetica,sans-Serif\" font-size=\"14.00\">samples = 64</text>\n",
       "<text text-anchor=\"start\" x=\"650.3\" y=\"-8.3\" font-family=\"Helvetica,sans-Serif\" font-size=\"14.00\">value = [60, 4]</text>\n",
       "</g>\n",
       "<!-- 13&#45;&gt;15 -->\n",
       "<g id=\"edge15\" class=\"edge\">\n",
       "<title>13&#45;&gt;15</title>\n",
       "<path fill=\"none\" stroke=\"black\" d=\"M649.28,-88.86C655.6,-80.13 662.42,-70.69 668.77,-61.92\"/>\n",
       "<polygon fill=\"black\" stroke=\"black\" points=\"671.65,-63.91 674.67,-53.76 665.97,-59.81 671.65,-63.91\"/>\n",
       "</g>\n",
       "<!-- 19 -->\n",
       "<g id=\"node20\" class=\"node\">\n",
       "<title>19</title>\n",
       "<path fill=\"#f6d5bd\" stroke=\"black\" d=\"M964.3,-357.5C964.3,-357.5 878.3,-357.5 878.3,-357.5 872.3,-357.5 866.3,-351.5 866.3,-345.5 866.3,-345.5 866.3,-316.5 866.3,-316.5 866.3,-310.5 872.3,-304.5 878.3,-304.5 878.3,-304.5 964.3,-304.5 964.3,-304.5 970.3,-304.5 976.3,-310.5 976.3,-316.5 976.3,-316.5 976.3,-345.5 976.3,-345.5 976.3,-351.5 970.3,-357.5 964.3,-357.5\"/>\n",
       "<text text-anchor=\"start\" x=\"889.3\" y=\"-342.3\" font-family=\"Helvetica,sans-Serif\" font-size=\"14.00\">gini = 0.48</text>\n",
       "<text text-anchor=\"start\" x=\"880.3\" y=\"-327.3\" font-family=\"Helvetica,sans-Serif\" font-size=\"14.00\">samples = 60</text>\n",
       "<text text-anchor=\"start\" x=\"874.3\" y=\"-312.3\" font-family=\"Helvetica,sans-Serif\" font-size=\"14.00\">value = [36, 24]</text>\n",
       "</g>\n",
       "<!-- 18&#45;&gt;19 -->\n",
       "<g id=\"edge19\" class=\"edge\">\n",
       "<title>18&#45;&gt;19</title>\n",
       "<path fill=\"none\" stroke=\"black\" d=\"M921.3,-400.88C921.3,-390.33 921.3,-378.6 921.3,-367.85\"/>\n",
       "<polygon fill=\"black\" stroke=\"black\" points=\"924.8,-367.52 921.3,-357.52 917.8,-367.52 924.8,-367.52\"/>\n",
       "</g>\n",
       "<!-- 20 -->\n",
       "<g id=\"node21\" class=\"node\">\n",
       "<title>20</title>\n",
       "<path fill=\"#eda877\" stroke=\"black\" d=\"M1109.3,-357.5C1109.3,-357.5 1023.3,-357.5 1023.3,-357.5 1017.3,-357.5 1011.3,-351.5 1011.3,-345.5 1011.3,-345.5 1011.3,-316.5 1011.3,-316.5 1011.3,-310.5 1017.3,-304.5 1023.3,-304.5 1023.3,-304.5 1109.3,-304.5 1109.3,-304.5 1115.3,-304.5 1121.3,-310.5 1121.3,-316.5 1121.3,-316.5 1121.3,-345.5 1121.3,-345.5 1121.3,-351.5 1115.3,-357.5 1109.3,-357.5\"/>\n",
       "<text text-anchor=\"start\" x=\"1034.3\" y=\"-342.3\" font-family=\"Helvetica,sans-Serif\" font-size=\"14.00\">gini = 0.36</text>\n",
       "<text text-anchor=\"start\" x=\"1025.3\" y=\"-327.3\" font-family=\"Helvetica,sans-Serif\" font-size=\"14.00\">samples = 59</text>\n",
       "<text text-anchor=\"start\" x=\"1019.3\" y=\"-312.3\" font-family=\"Helvetica,sans-Serif\" font-size=\"14.00\">value = [45, 14]</text>\n",
       "</g>\n",
       "<!-- 18&#45;&gt;20 -->\n",
       "<g id=\"edge20\" class=\"edge\">\n",
       "<title>18&#45;&gt;20</title>\n",
       "<path fill=\"none\" stroke=\"black\" d=\"M968.38,-400.88C985.42,-388.9 1004.61,-375.4 1021.45,-363.55\"/>\n",
       "<polygon fill=\"black\" stroke=\"black\" points=\"1023.86,-366.14 1030.03,-357.52 1019.83,-360.41 1023.86,-366.14\"/>\n",
       "</g>\n",
       "</g>\n",
       "</svg>\n"
      ],
      "text/plain": [
       "<graphviz.sources.Source at 0x1fea4ef53f0>"
      ]
     },
     "execution_count": 31,
     "metadata": {},
     "output_type": "execute_result"
    }
   ],
   "source": [
    "m = DecisionTreeClassifier(min_samples_leaf=50)    # stopping criteria is min number of rows = 50\n",
    "m.fit(x_tr, y_tr)\n",
    "draw_tree(m, x_tr, size=8)"
   ]
  },
  {
   "cell_type": "code",
   "execution_count": 32,
   "id": "921ffc8b",
   "metadata": {
    "hidden": true
   },
   "outputs": [
    {
     "data": {
      "text/plain": [
       "0.18385650224215247"
      ]
     },
     "execution_count": 32,
     "metadata": {},
     "output_type": "execute_result"
    }
   ],
   "source": [
    "mean_absolute_error(y_val, m.predict(x_val))"
   ]
  },
  {
   "cell_type": "markdown",
   "id": "cc1f2206",
   "metadata": {
    "heading_collapsed": true
   },
   "source": [
    "## Random Forest"
   ]
  },
  {
   "cell_type": "markdown",
   "id": "a77c27e7",
   "metadata": {
    "heading_collapsed": true,
    "hidden": true
   },
   "source": [
    "### Boostrapping"
   ]
  },
  {
   "cell_type": "markdown",
   "id": "15bdf661",
   "metadata": {
    "hidden": true
   },
   "source": [
    "Bootstrapping creates artificial subsets of observations from the dataset, makes predictions on the subsets, and then combines the predictions across the subsets. Sampling is done randomly and with replacement (so we may have repeated datapoints in a sample). Crucially, each bootstrapped sample must have the *same number of observations* as the original dataset. \n",
    "\n",
    "Given *n* observations, we can create *n^n* bootstrap samples and (2*n* - 1) C (*n* - 1) distinct bootstrap samples.\n",
    "\n",
    "**Note:** On average, a bootstrap sample uses only 2/3 (approximately) of the original observations (because of replacement)"
   ]
  },
  {
   "cell_type": "markdown",
   "id": "f5ac5679",
   "metadata": {
    "heading_collapsed": true,
    "hidden": true
   },
   "source": [
    "### Bagging"
   ]
  },
  {
   "cell_type": "markdown",
   "id": "40266cec",
   "metadata": {
    "hidden": true
   },
   "source": [
    "Aka. \"Bootstrap Aggregation\"\n",
    "\n",
    "Bagging produces *b* bootstrapped sample from the dataset, makes predictions from the samples, then averages the predictions to produce a final prediction.\n",
    "\n",
    "The objective is to make each model's predictions in the averaged ensemble to be uncorrelated with each other model. That way, when the predictions are averaged, the average will be equal to the true target value because *the average of uncorrelated random errors converges to zero* **BAM**.\n",
    "\n",
    "***Bagged Trees*** use decision trees to make their predictions. I.e., classification trees for classification problems and regression trees for regression problems. \n",
    "\n",
    "**Caveat:** The samples don't *need* to be bootstrap samples to be considered bagging, sometimes bagging will be done with samples that are smaller than the dataset."
   ]
  },
  {
   "cell_type": "markdown",
   "id": "7cb58413",
   "metadata": {
    "hidden": true
   },
   "source": [
    "Continuing with J.Howard's notebook, we'll make some bagged trees using random subsets of the dataset:"
   ]
  },
  {
   "cell_type": "code",
   "execution_count": 33,
   "id": "748d0fe8",
   "metadata": {
    "hidden": true
   },
   "outputs": [],
   "source": [
    "def get_tree(prop=0.75):\n",
    "    n = len(y_tr)\n",
    "    idxs = random.choice(n, int(n*prop))\n",
    "    return DecisionTreeClassifier(min_samples_leaf=5).fit(x_tr.iloc[idxs], y_tr.iloc[idxs])"
   ]
  },
  {
   "cell_type": "code",
   "execution_count": 34,
   "id": "7152fb7b",
   "metadata": {
    "hidden": true
   },
   "outputs": [],
   "source": [
    "trees = [get_tree() for t in range(100)]"
   ]
  },
  {
   "cell_type": "markdown",
   "id": "715334a4",
   "metadata": {
    "hidden": true
   },
   "source": [
    "Then we average the predictions across these trees:"
   ]
  },
  {
   "cell_type": "code",
   "execution_count": 132,
   "id": "ef7c96df",
   "metadata": {
    "hidden": true
   },
   "outputs": [
    {
     "data": {
      "text/plain": [
       "0.18385650224215247"
      ]
     },
     "execution_count": 132,
     "metadata": {},
     "output_type": "execute_result"
    }
   ],
   "source": [
    "all_probs = [t.predict(x_val) for t in trees]\n",
    "avg_probs = np.where(np.stack(all_probs).mean(0) <= 0.5, 0, 1)   # round to 0 or 1\n",
    "\n",
    "mean_absolute_error(y_val, avg_probs)"
   ]
  },
  {
   "cell_type": "markdown",
   "id": "0fe1c63f",
   "metadata": {
    "hidden": true
   },
   "source": [
    "We can compare this with a random forest using sklearn:"
   ]
  },
  {
   "cell_type": "code",
   "execution_count": 133,
   "id": "feef61d4",
   "metadata": {
    "hidden": true
   },
   "outputs": [
    {
     "data": {
      "text/plain": [
       "0.17937219730941703"
      ]
     },
     "execution_count": 133,
     "metadata": {},
     "output_type": "execute_result"
    }
   ],
   "source": [
    "from sklearn.ensemble import RandomForestClassifier\n",
    "\n",
    "rf = RandomForestClassifier(100, min_samples_leaf=5)\n",
    "rf.fit(x_tr, y_tr);\n",
    "mean_absolute_error(y_val, rf.predict(x_val))"
   ]
  },
  {
   "cell_type": "markdown",
   "id": "1654421c",
   "metadata": {
    "heading_collapsed": true,
    "hidden": true
   },
   "source": [
    "#### Out-of-Bag (OOB) Errors"
   ]
  },
  {
   "cell_type": "markdown",
   "id": "b3922106",
   "metadata": {
    "hidden": true
   },
   "source": [
    "Because only 2/3 of all observations are used to train each bagged tree (on average) we can use the observations that are not used to estimate the test error for the tree. These unused observations are called ***Out-of-Bag (OOB) Observations***.\n",
    "\n",
    "Steps:\n",
    "1. For each bagged tree, predict the response for each OOB observation.\n",
    "2. For each observation in the training dataset, average the predictions (regression trees) or select the mode category (classification) to obtain a single prediction.\n",
    "3. Using the predictions, compute OOB error.\n",
    "\n",
    "I'm not going to work through an example here, just understand the concept of OOB error"
   ]
  },
  {
   "cell_type": "markdown",
   "id": "ca4bf2d5",
   "metadata": {
    "heading_collapsed": true,
    "hidden": true
   },
   "source": [
    "### Variable Importance Measures"
   ]
  },
  {
   "cell_type": "markdown",
   "id": "3662fe8e",
   "metadata": {
    "hidden": true
   },
   "source": [
    "If bagged trees happen to be similar, then their predictions will be correlated. With correlated predictions, averaging the predictions won't lead to a reduction in the variance of the estimate. One reason that bagged trees may be similar is if one variable has an overwhelmin effect on the predictions. For example, suppose that `Sex` had an even greater impact on survival rates, like 75% of females survived and only 10% of males. Then we would expect `Sex` to be the first split among a majority of the bagged trees. We can measure the importance of an explanatory variable with ***Variable Importance Measures***\n",
    "\n",
    "Two approaches:\n",
    "1. Calculate the mean decrease in accuracy of the OOB predictions *when the variable is excluded from the model*\n",
    "2. Calculate the mean decrease in node purity due to splits over the variable"
   ]
  },
  {
   "cell_type": "markdown",
   "id": "d9edd358",
   "metadata": {
    "hidden": true
   },
   "source": [
    "Fortunately, `sklearn` decision trees have an attribute that gives us the importance of each variable considered by the decision tree. These importances are calculated via approach 2: \n",
    "        \n",
    "    \"The importance of a feature is computed as the (normalized) total reduction of the criterion brought by that feature. It is also known as the Gini importance.\""
   ]
  },
  {
   "cell_type": "code",
   "execution_count": 80,
   "id": "82b09ad5",
   "metadata": {
    "hidden": true,
    "scrolled": true
   },
   "outputs": [
    {
     "data": {
      "text/plain": [
       "{'Sex': 0.5189666631863772,\n",
       " 'Embarked': 0.012288346465814268,\n",
       " 'Age': 0.09679619591780457,\n",
       " 'SibSp': 0.0,\n",
       " 'Parch': 0.0,\n",
       " 'LogFare': 0.3185475681173119,\n",
       " 'Pclass': 0.05340122631269221}"
      ]
     },
     "execution_count": 80,
     "metadata": {},
     "output_type": "execute_result"
    }
   ],
   "source": [
    "vims = trees[0].feature_importances_[:, None]\n",
    "feature_names =  trees[0].feature_names_in_\n",
    "feature_importances = {}\n",
    "\n",
    "for name, vim in zip(feature_names, vims):\n",
    "        feature_importances[name] = vim.item()\n",
    "\n",
    "feature_importances"
   ]
  },
  {
   "cell_type": "markdown",
   "id": "fc806681",
   "metadata": {
    "hidden": true
   },
   "source": [
    "We can see from this method that `Sex` is the most important feature in the model and that `SibSp` and `Parch` were the least important. Indeed, with importance measures of 0, neither of the features were used as splits at all, as can be observed in the tree's graph:"
   ]
  },
  {
   "cell_type": "code",
   "execution_count": 60,
   "id": "bce8aaa0",
   "metadata": {
    "hidden": true
   },
   "outputs": [],
   "source": [
    "# draw_tree(trees[0], x_tr)"
   ]
  },
  {
   "cell_type": "code",
   "execution_count": 72,
   "id": "62ab881c",
   "metadata": {
    "hidden": true
   },
   "outputs": [
    {
     "data": {
      "text/plain": [
       "'Sex'"
      ]
     },
     "execution_count": 72,
     "metadata": {},
     "output_type": "execute_result"
    }
   ],
   "source": [
    "max(feature_importances, key=feature_importances.get)"
   ]
  },
  {
   "cell_type": "markdown",
   "id": "e68bd834",
   "metadata": {
    "hidden": true
   },
   "source": [
    "**Sidebar:** Ok, I need to explain this. So, max() has a `key` argument that allows us to pass an iterable over which to evaluate. This handy argument facilitates evaluation over the values of a dictionary. Without it, max() would return the \"largest\" key. Meanwhile, the `get` method produces a generator function of the dictionary values over all of the dictionary keys."
   ]
  },
  {
   "cell_type": "markdown",
   "id": "1cd344d7",
   "metadata": {
    "hidden": true
   },
   "source": [
    "Anyways, we can take a look at all of the variable importance measures for all of our trees to see how many split on `Sex` first:"
   ]
  },
  {
   "cell_type": "code",
   "execution_count": 77,
   "id": "6c8b05f4",
   "metadata": {
    "hidden": true
   },
   "outputs": [],
   "source": [
    "features = {}\n",
    "for f in feature_names: features[f] = 0 "
   ]
  },
  {
   "cell_type": "code",
   "execution_count": 82,
   "id": "6ac61fdf",
   "metadata": {
    "hidden": true
   },
   "outputs": [],
   "source": [
    "for t in trees:\n",
    "    vims = t.feature_importances_[:, None]\n",
    "    feature_names =  t.feature_names_in_\n",
    "    feature_importances = {}\n",
    "\n",
    "    for name, vim in zip(feature_names, vims):\n",
    "            feature_importances[name] = vim.item()\n",
    "    \n",
    "    top_feature = max(feature_importances, key=feature_importances.get)\n",
    "    features[top_feature] += 1"
   ]
  },
  {
   "cell_type": "code",
   "execution_count": 83,
   "id": "328bf217",
   "metadata": {
    "hidden": true
   },
   "outputs": [
    {
     "data": {
      "text/plain": [
       "{'Sex': 99,\n",
       " 'Embarked': 0,\n",
       " 'Age': 0,\n",
       " 'SibSp': 0,\n",
       " 'Parch': 0,\n",
       " 'LogFare': 1,\n",
       " 'Pclass': 0}"
      ]
     },
     "execution_count": 83,
     "metadata": {},
     "output_type": "execute_result"
    }
   ],
   "source": [
    "features"
   ]
  },
  {
   "cell_type": "markdown",
   "id": "850f1af7",
   "metadata": {
    "hidden": true
   },
   "source": [
    "**All but ONE** used `Sex` as the first split. These randomly bagged trees don't look very random..."
   ]
  },
  {
   "cell_type": "markdown",
   "id": "2c7728b1",
   "metadata": {
    "heading_collapsed": true,
    "hidden": true
   },
   "source": [
    "### From Bagged Trees to Random Forest"
   ]
  },
  {
   "cell_type": "markdown",
   "id": "58609846",
   "metadata": {
    "hidden": true
   },
   "source": [
    "The motivation of random forests is to reduce the correlation that overly important variables produce between bagged trees. To do this, each tree in the random forest considers a randomly selected *subset* of the features to split upon *at each split*. That is, we don't get all features as splitting options for each split, but some random subset of them. Choosing the size of this subset can be important. In general, a smaller subset is preferable when the dataset has a large number of correlated explanatory variables. \n",
    "\n",
    "Also, bagged trees may not consider some features for splits at all. Features that have low importance may not ever be selected for splits because more important features would always supersede them. Random forests, with a sufficiently small predictor set and a sufficiently large number of trees, will ensure that these features are used at least sometimes for making predictions. This can provide useful information, say when such a feature is insignificant among the larger dataset but significant among some subset of it."
   ]
  },
  {
   "cell_type": "markdown",
   "id": "adfa6b95",
   "metadata": {
    "hidden": true
   },
   "source": [
    "Let's repeat our bagging procedure with bootstrapped samples (i.e., sample size = dataset size):"
   ]
  },
  {
   "cell_type": "code",
   "execution_count": 124,
   "id": "96ba4193",
   "metadata": {
    "hidden": true
   },
   "outputs": [
    {
     "data": {
      "text/plain": [
       "0.18385650224215247"
      ]
     },
     "execution_count": 124,
     "metadata": {},
     "output_type": "execute_result"
    }
   ],
   "source": [
    "trees = [get_tree(prop=1) for t in range(100)]\n",
    "all_probs = [t.predict(x_val) for t in trees]\n",
    "avg_probs = np.where(np.stack(all_probs).mean(0) <= 0.5, 0, 1)   # round to 0 or 1\n",
    "\n",
    "mean_absolute_error(y_val, avg_probs)"
   ]
  },
  {
   "cell_type": "markdown",
   "id": "536e4ec2",
   "metadata": {
    "hidden": true
   },
   "source": [
    "Now let's look at the random forest. The `RandomForestClassifier` from `sklearn` defaults to a predictor set of `sqrt(n_features)`. Let's see what it predicts when we let it consider all of the features:"
   ]
  },
  {
   "cell_type": "code",
   "execution_count": 130,
   "id": "c4baeea8",
   "metadata": {
    "hidden": true
   },
   "outputs": [
    {
     "data": {
      "text/plain": [
       "0.18385650224215247"
      ]
     },
     "execution_count": 130,
     "metadata": {},
     "output_type": "execute_result"
    }
   ],
   "source": [
    "rf = RandomForestClassifier(100, min_samples_leaf=5, max_features=None)\n",
    "rf.fit(x_tr, y_tr);\n",
    "mean_absolute_error(y_val, rf.predict(x_val))"
   ]
  },
  {
   "cell_type": "markdown",
   "id": "8ee4bffe",
   "metadata": {
    "hidden": true
   },
   "source": [
    "These won't always line up because of random sample selections - but in principal they are doing the same thing."
   ]
  },
  {
   "cell_type": "markdown",
   "id": "4aa0af61",
   "metadata": {},
   "source": [
    "## Appendix: Plotting KDE by 'Hand'"
   ]
  },
  {
   "cell_type": "code",
   "execution_count": 41,
   "id": "2df940fd",
   "metadata": {},
   "outputs": [
    {
     "data": {
      "image/png": "[encoded data removed]",
      "text/plain": [
       "<Figure size 640x480 with 1 Axes>"
      ]
     },
     "metadata": {},
     "output_type": "display_data"
    }
   ],
   "source": [
    "sns.kdeplot(data=df_fare, x='LogFare');"
   ]
  },
  {
   "cell_type": "markdown",
   "id": "0d9f17a6",
   "metadata": {},
   "source": [
    "KDE plot stands for 'Kernel Density Estimate' plot. This plot is a histogram that approximates the discrete histogram as a continuous probability density function. The approximation is made by passing over the discrete histogram with a Gaussian kernel. In this plot, the y-axis \"Density\" is the sum of the parametric distributions produced by the Gaussian kernel at each point (give some parameters for mean and stdev)."
   ]
  },
  {
   "attachments": {
    "image.png": {
     "image/png": "[encoded data removed]"
    }
   },
   "cell_type": "markdown",
   "id": "ca9aefa8",
   "metadata": {},
   "source": [
    "Recall that the Normal PDF, or \"Gaussian Function\" is:\n",
    "![image.png](attachment:image.png)"
   ]
  },
  {
   "cell_type": "markdown",
   "id": "823e5bdf",
   "metadata": {},
   "source": [
    "**Important Point:** The observation must be the mean of the Gaussian. To model the Gaussian distribution around that mean, we pick an *arbitrary* range of values that the observation lies within and fit that range to the distribution. This range doesn't matter, it just must include the observations that we want to estimate for. However, if the range matches the range that we wish to plot, then the plots will be distorted because the distributions would be fit with means that are at the extremes of the range (e.g., obs=10, range= [1, 10], cannot be fit with a normal distribution because there are no elements of the range above 10)"
   ]
  },
  {
   "cell_type": "code",
   "execution_count": 49,
   "id": "8e9a50e0",
   "metadata": {},
   "outputs": [],
   "source": [
    "x_rng = np.linspace(0, 20, 100)[:, None]"
   ]
  },
  {
   "cell_type": "code",
   "execution_count": 50,
   "id": "6318f9eb",
   "metadata": {},
   "outputs": [],
   "source": [
    "def gaussian(stdev, obs):\n",
    "    y = np.exp((-obs**2) / (2*stdev**2)) / (stdev * (2*np.pi)**0.5)\n",
    "    return y"
   ]
  },
  {
   "cell_type": "code",
   "execution_count": 51,
   "id": "a12fb357",
   "metadata": {},
   "outputs": [
    {
     "data": {
      "text/plain": [
       "array([7, 1, 3, 2, 6])"
      ]
     },
     "execution_count": 51,
     "metadata": {},
     "output_type": "execute_result"
    }
   ],
   "source": [
    "obs = np.random.randint(10, size=5)\n",
    "obs"
   ]
  },
  {
   "cell_type": "code",
   "execution_count": 52,
   "id": "b346f9e3",
   "metadata": {
    "scrolled": false
   },
   "outputs": [
    {
     "data": {
      "text/plain": [
       "[<matplotlib.patches.Polygon at 0x1fea5e40070>]"
      ]
     },
     "execution_count": 52,
     "metadata": {},
     "output_type": "execute_result"
    },
    {
     "data": {
      "image/png": "[encoded data removed]",
      "text/plain": [
       "<Figure size 640x480 with 1 Axes>"
      ]
     },
     "metadata": {},
     "output_type": "display_data"
    }
   ],
   "source": [
    "plt.fill(x_rng, gaussian(1,x_rng-obs[0]))"
   ]
  },
  {
   "cell_type": "code",
   "execution_count": 46,
   "id": "9a3e9ab5",
   "metadata": {},
   "outputs": [
    {
     "data": {
      "text/plain": [
       "[<matplotlib.patches.Polygon at 0x1fea5d94e50>]"
      ]
     },
     "execution_count": 46,
     "metadata": {},
     "output_type": "execute_result"
    },
    {
     "data": {
      "image/png": "[encoded data removed]",
      "text/plain": [
       "<Figure size 640x480 with 1 Axes>"
      ]
     },
     "metadata": {},
     "output_type": "display_data"
    }
   ],
   "source": [
    "X=np.array([2.2])\n",
    "X_plot = np.linspace(-1, 6, 100)[:, None]\n",
    "plt.fill(X_plot, gaussian(1,X_plot-X[0]), '-k', fc='#AAAAFF')"
   ]
  },
  {
   "attachments": {
    "image.png": {
     "image/png": "[encoded data removed]"
    }
   },
   "cell_type": "markdown",
   "id": "ae688ece",
   "metadata": {},
   "source": [
    "The formal formula for a kernel density estimator is:\n",
    "![image.png](attachment:image.png)\n",
    "Where *n* is the number of data points, *h* is a smoothing parameter (bandwidth), and *K* is the kernel function. We are using the Gaussian PDF as our kernel function.\n",
    "\n",
    "**Note:** The bandwidth parameter is also used to replace the stdev parameter in the kernel function!"
   ]
  },
  {
   "cell_type": "code",
   "execution_count": 47,
   "id": "3677052f",
   "metadata": {},
   "outputs": [],
   "source": [
    "def gaussian_kde(b, obs, rng):\n",
    "    n = len(obs)\n",
    "    y = sum(gaussian(b, rng - x) for x in obs) / n\n",
    "    return y        "
   ]
  },
  {
   "cell_type": "code",
   "execution_count": 48,
   "id": "b4c13e90",
   "metadata": {
    "scrolled": true
   },
   "outputs": [
    {
     "data": {
      "image/png": "[encoded data removed]",
      "text/plain": [
       "<Figure size 640x480 with 1 Axes>"
      ]
     },
     "metadata": {},
     "output_type": "display_data"
    }
   ],
   "source": [
    "rng = np.linspace(-1, max(df['LogFare'])*1.2, len(df['LogFare']))\n",
    "kde_logfare = gaussian_kde(b=0.25, obs=df['LogFare'], rng=rng)\n",
    "\n",
    "plt.fill(rng, kde_logfare, '-k', fc='#AAAAFF');"
   ]
  },
  {
   "cell_type": "markdown",
   "id": "cf68fe6b",
   "metadata": {},
   "source": [
    "So, it looks like we're approximating the seaborn KDE plot, nice.\n",
    "\n",
    "Credit to these resources:\n",
    "- https://www.homeworkhelponline.net/blog/math/tutorial-kde\n",
    "- https://rstudio-pubs-static.s3.amazonaws.com/515412_68b7f95927114cd4aabc85d519adad1a.html"
   ]
  }
 ],
 "metadata": {
  "kernelspec": {
   "display_name": "Python 3 (ipykernel)",
   "language": "python",
   "name": "python3"
  },
  "language_info": {
   "codemirror_mode": {
    "name": "ipython",
    "version": 3
   },
   "file_extension": ".py",
   "mimetype": "text/x-python",
   "name": "python",
   "nbconvert_exporter": "python",
   "pygments_lexer": "ipython3",
   "version": "3.10.9"
  },
  "toc": {
   "base_numbering": 1,
   "nav_menu": {},
   "number_sections": true,
   "sideBar": true,
   "skip_h1_title": false,
   "title_cell": "Table of Contents",
   "title_sidebar": "Contents",
   "toc_cell": false,
   "toc_position": {},
   "toc_section_display": true,
   "toc_window_display": false
  },
  "varInspector": {
   "cols": {
    "lenName": 16,
    "lenType": 16,
    "lenVar": 40
   },
   "kernels_config": {
    "python": {
     "delete_cmd_postfix": "",
     "delete_cmd_prefix": "del ",
     "library": "var_list.py",
     "varRefreshCmd": "print(var_dic_list())"
    },
    "r": {
     "delete_cmd_postfix": ") ",
     "delete_cmd_prefix": "rm(",
     "library": "var_list.r",
     "varRefreshCmd": "cat(var_dic_list()) "
    }
   },
   "types_to_exclude": [
    "module",
    "function",
    "builtin_function_or_method",
    "instance",
    "_Feature"
   ],
   "window_display": false
  }
 },
 "nbformat": 4,
 "nbformat_minor": 5
}
