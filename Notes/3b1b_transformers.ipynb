{
 "cells": [
  {
   "cell_type": "code",
   "execution_count": 8,
   "metadata": {},
   "outputs": [],
   "source": [
    "import numpy as np\n",
    "import torch.nn as nn\n",
    "import torch\n",
    "import torch.nn.functional as F\n",
    "import matplotlib.pyplot as plt"
   ]
  },
  {
   "cell_type": "markdown",
   "metadata": {},
   "source": [
    "## Single-Head Self-Attention"
   ]
  },
  {
   "cell_type": "markdown",
   "metadata": {},
   "source": [
    "Step-by-step bb - ignoring some details like standardization and dropout."
   ]
  },
  {
   "cell_type": "code",
   "execution_count": 15,
   "metadata": {},
   "outputs": [
    {
     "name": "stdout",
     "output_type": "stream",
     "text": [
      "Input tensor shape: torch.Size([4, 8])\n"
     ]
    }
   ],
   "source": [
    "# toy example\n",
    "torch.manual_seed(42)\n",
    "    \n",
    "# Let's assume we have a sequence of 4 tokens with embedding dimension 8\n",
    "seq_len = 4\n",
    "embed_dim = 8\n",
    "\n",
    "# Create random embeddings to simulate a simple sentence\n",
    "# In a real scenario, these would be the result of embedding words\n",
    "x = torch.randn(seq_len, embed_dim)\n",
    "print(f\"Input tensor shape: {x.shape}\")\n",
    "\n",
    "# Sample token list for visualization\n",
    "tokens = [\"The\", \"cat\", \"sat\", \"down\"]"
   ]
  },
  {
   "cell_type": "code",
   "execution_count": 17,
   "metadata": {},
   "outputs": [],
   "source": [
    "Wq = nn.Linear(embed_dim, embed_dim, bias=False)  # query \n",
    "Wk = nn.Linear(embed_dim, embed_dim, bias=False)  # keys\n",
    "Wv = nn.Linear(embed_dim, embed_dim, bias=False)  # values"
   ]
  },
  {
   "cell_type": "markdown",
   "metadata": {},
   "source": [
    "These are the core building-blocks of the self-attention head. Each may learn *different things* during training.\\\n",
    "The nomenclature of \"Queries\" and \"Keys\" is irksome to me. Let's avoid reading into these meanings and just think about the mathematical relationships.\n",
    "\n",
    "Each of these `Wq`, `Wk`, `Wv` are matrix representations of linear operators on a vector space of dimension `embed_dim`. This means that each maps the *coordinates* of the column vectors in `x` to a different set of *coordinates* in the same space.\\\n",
    "Through the process of training it is possible that the matrices come to represent linear projections into smaller subspaces of the full `embed_dim` dimensional vector space, but I think that in principal we begin with operators.\n",
    "\n",
    "\n",
    "Here's the basic forward pass:\n",
    "1. First, we take the compositions $W_q(x)$ and $W_k(x)$, effectively applying the linear operator mappings represented by both matrices on the input `x`. This is a linear transformation in the `embed_dim`-dimensional embedding space. So, each column vector (token) in `x` is taken to a different column vector within the same space.\n",
    "\n",
    "2. Next, we multiply $W_q(x) \\cdot W_k^\\intercal(x)$. This is the inner-product (dot-product) of the query matrix and the dual map of the keys matrix. The result is an `seq_len x seq_len` matrix with elements corresponding to the dot-products betweent the column vectors of `Wq` and `Wk`. In other words, we get a matrix comprised of the dot-products between the $W_q(x)$ mappings in embedding space and the $W_k(x)$ mappings in embedding space. These dot-products reflect the cosine-similarity between the row vectors (token) of `Wq` and the column-vectors (tokens) `Wk`. So, large values represent greater similarities between the mappings.\n",
    "    - This is conceptually significant. The mappings represented by `Wq` and the mappings represented by `Wk` are both learnable through backpropogation. This means that they may be learned *separately*. Thus, the cosine-similarity between the key-mapping for `'cat'` and the query-mapping for `'sat'` may be different from the cosine-similarity between the query-mapping for `'cat'` and the key-mapping for `'sat'`\n",
    "        - This allows us to *\"attend to\"* tokens differently depending on whether they are query-mappings or key-mappings\n",
    "        - This is significant because it *asymmetric* relationships\n",
    "        - **This asymmetry will become clear once we apply *masking*** which prevents previous tokens from attending to future tokens\n",
    "    - I will refer to this `seq_len x seq_len` matrix as the attention scores matrix denoted $A$\n",
    "    - I will denote the `seq_len x embed_dim` matrices of query and key coordinates as $Q \\coloneqq W_q(x)$ and $K \\coloneqq W_k(x)$\n",
    "\n",
    "3. Next, we apply *masking* to the the attention scores matrix $A$ such that only cosine similarities for previous tokens are included for each token. Specifically, when we wish to ensure that only past tokens are attended to, we have an ***Encoder*** architecture. Typically, this is done by setting the elements of the upper-triangle of $A$ to $-\\infty$ (which map to $0$ via softmax in step 4).\\\n",
    "\\\n",
    " I think the most effective way to conceptualize this is by considering each column-vector (token) in $Q$ and $K$. In terms of dot-products, we can think of row $j$ of $A$ as the dot products of the $j^{\\text{th}}$ token-mapping in $Q$ with each token-mapping in $K^\\intercal$. So, the attention scores matrix with masking will look like: $$\n",
    " A = \\begin{bmatrix} \n",
    " Q_{1, \\cdot}\\cdot K_{\\cdot, 1} \\ \\ \\ \\ \\ \\ \\ \\ \\ \\ -\\infty \\ \\ \\ \\ \\ \\ \\ \\ -\\infty  \\ \\ \\ \\ -\\infty \\\\\n",
    " Q_{2, \\cdot}\\cdot K_{\\cdot, 1} \\ \\ \\ \\ \\ Q_{2, \\cdot}\\cdot K_{\\cdot, 2} \\ \\ \\ \\ \\ \\ -\\infty \\ \\ \\ \\ -\\infty \\\\\n",
    " Q_{3, \\cdot}\\cdot K_{\\cdot, 1} \\ \\ \\ \\ \\ Q_{3, \\cdot}\\cdot K_{\\cdot, 2} \\ \\ \\ \\ Q_{3, \\cdot}\\cdot K_{\\cdot, 3} \\  -\\infty \\\\\n",
    " Q_{4, \\cdot}\\cdot K_{\\cdot, 1} \\ \\ Q_{4, \\cdot}\\cdot K_{\\cdot, 2} \\ \\ Q_{4, \\cdot}\\cdot K_{\\cdot, 3} \\ \\ Q_{4, \\cdot}\\cdot K_{\\cdot, 4}\n",
    " \\end{bmatrix}$$ \n",
    " Here, $K$ should really be $K^\\intercal$...........\\\n",
    " So, each query mapping *only* is composed with the key mappings of sequence positions *less that or equal to* its own sequence position. I.e. $$A_{j,k} = Q_{j, \\cdot} \\cdot K^\\intercal_{\\cdot, k}: \\ k \\le j$$\n",
    " Now, consider the asymmetric relationships. The token-mapping in column-vector $K_{\\cdot, 1}$ may *attend to* (i.e. learn relationships with) each token-mapping in the row-vectors $Q_{1, \\cdot}, \\cdots Q_{4, \\cdot}$. However, the token-mapping in row-vector $Q_{1, \\cdot}$ may *only* attend to (i.e. learn relationships with) the column-vector $K_{\\cdot, 1}$\n",
    "\n",
    "4. Next, we apply a softmax transformation *over the column-vectors* of $A$ to convert the dot-products in the attention score matrix $A$ into probability weights. This applies a non-linearity and also creates a \"winner-take-most\" maximization. It suppresses low similarity attention scores down towards $0$ while maximizing high similarity scores up towards $1$. The strength of this maximization for entries in column $k$ of $A$ is *wholly dependent upon* the values in column $k$. So, weak similarity scores may be inflated up towards $1$ is all the other similarity scores in column $k$ are even weaker! **THIS IS IMPORTANT** This ensures that meaningful relationships will be learned between each query-key-pair even when their initial mappings in embedding space have *low semantic similarity*.\n",
    "\n",
    "5. Finally, we multiply the softmax-maximized masked attention scores matrix by the *value* matrix $V \\coloneqq W_v(x)$. This value matrix *preserves* some of the original semantic information from the embedded token representation $x$.In a sense, the value matrix $V$ represents \"what information\" is passed forwards while $Q$ and $K$ represent \"how much of each value\" should be passed forwards. Now, in the backwards pass, the weights in the matrix representation of the value-map $W_v$ are updated in part by the attention in scores in $A$: $$W_v = W_v - \\text{lr} \\cdot \\frac{\\partial L}{\\partial W_v} = W_v - \\text{lr} \\cdot \\bigg(\\frac{\\partial L}{\\partial \\text{Output}} \\cdot A\\bigg) \\cdot x^\\intercal$$\n",
    "This means that the *training signal* for $V$ is directly shaped by the attention patterns in $A$ despite $V$ itself having no direct influence on the attention patterns.\\\n",
    "In essence, the value matrix $V$ *learns* to create representations that, *when weighted according to the attention patterns* in $A$, produce effective outputs. If certains tokens receive higher attention weights, then the corresponding token-mappings in $W_v$ will be updated more aggressively. **BOOM**\\\n",
    "There is a feedback loop here:\n",
    "    - If a token's value representation is useful, models learn to attend to it more\n",
    "    - If attention to a token is consistently high, its value representation becomes more refined"
   ]
  },
  {
   "cell_type": "code",
   "execution_count": null,
   "metadata": {},
   "outputs": [],
   "source": [
    "x = x  # (seq_len, embed_dim) -- assumes input x is already embedded\n",
    "\n",
    "Q = Wq(x)  # (seq_len, embed_dim)\n",
    "K = Wk(x)  # (seq_len, embed_dim)\n",
    "\n",
    "attn_scores = Q @ K.T  # (seq_len, seq_len)"
   ]
  },
  {
   "cell_type": "code",
   "execution_count": 21,
   "metadata": {},
   "outputs": [
    {
     "data": {
      "text/plain": [
       "(torch.Size([4, 8]), torch.Size([4, 8]))"
      ]
     },
     "execution_count": 21,
     "metadata": {},
     "output_type": "execute_result"
    }
   ],
   "source": [
    "Q.shape, K.shape"
   ]
  },
  {
   "cell_type": "code",
   "execution_count": 22,
   "metadata": {},
   "outputs": [
    {
     "data": {
      "text/plain": [
       "tensor([[False,  True,  True,  True],\n",
       "        [False, False,  True,  True],\n",
       "        [False, False, False,  True],\n",
       "        [False, False, False, False]])"
      ]
     },
     "execution_count": 22,
     "metadata": {},
     "output_type": "execute_result"
    }
   ],
   "source": [
    "mask = torch.triu(torch.ones(seq_len, seq_len), diagonal=1).bool()\n",
    "# mask = mask.to(attention_scores.device)\n",
    "mask"
   ]
  },
  {
   "cell_type": "code",
   "execution_count": 24,
   "metadata": {},
   "outputs": [
    {
     "data": {
      "text/plain": [
       "tensor([[-0.2816,    -inf,    -inf,    -inf],\n",
       "        [ 0.1424,  0.5089,    -inf,    -inf],\n",
       "        [-0.2486, -0.2103,  1.8736,    -inf],\n",
       "        [ 1.7076,  0.2708, -0.8280, -0.6255]], grad_fn=<MaskedFillBackward0>)"
      ]
     },
     "execution_count": 24,
     "metadata": {},
     "output_type": "execute_result"
    }
   ],
   "source": [
    "attn_scores.masked_fill(mask, float(\"-inf\"))"
   ]
  },
  {
   "cell_type": "code",
   "execution_count": 9,
   "metadata": {},
   "outputs": [],
   "source": [
    "class SelfAttention(nn.Module):\n",
    "    \"\"\"\n",
    "    A single self-attention head implementation from scratch.\n",
    "    \n",
    "    Args:\n",
    "        embed_dim (int): The embedding dimension of the input sequence\n",
    "        dropout (float, optional): Dropout probability. Default: 0.0\n",
    "    \"\"\"\n",
    "    def __init__(self, embed_dim, dropout=0.0):\n",
    "        super(SelfAttention, self).__init__()\n",
    "        \n",
    "        self.embed_dim = embed_dim\n",
    "        \n",
    "        # Linear projections for Query, Key, and Value\n",
    "        self.query_proj = nn.Linear(embed_dim, embed_dim)\n",
    "        self.key_proj = nn.Linear(embed_dim, embed_dim)\n",
    "        self.value_proj = nn.Linear(embed_dim, embed_dim)\n",
    "        \n",
    "        # Scaling factor for dot products (prevents softmax saturation)\n",
    "        self.scaling = float(embed_dim) ** -0.5\n",
    "        \n",
    "        self.dropout = nn.Dropout(dropout)\n",
    "        \n",
    "    def forward(self, x, return_attention=False):\n",
    "        \"\"\"\n",
    "        Forward pass of the self-attention mechanism.\n",
    "        \n",
    "        Args:\n",
    "            x (Tensor): Input of shape [batch_size, seq_len, embed_dim]\n",
    "            return_attention (bool): Whether to return attention weights\n",
    "            \n",
    "        Returns:\n",
    "            Tensor: Output of shape [batch_size, seq_len, embed_dim]\n",
    "            Tensor (optional): Attention weights of shape [batch_size, seq_len, seq_len]\n",
    "        \"\"\"\n",
    "        batch_size, seq_len, embed_dim = x.size()\n",
    "        \n",
    "        # Step 1: Project input to queries, keys, and values\n",
    "        # Each projection transforms the input embedding to a different \"space\"\n",
    "        queries = self.query_proj(x)  # [batch_size, seq_len, embed_dim]\n",
    "        keys = self.key_proj(x)       # [batch_size, seq_len, embed_dim]\n",
    "        values = self.value_proj(x)   # [batch_size, seq_len, embed_dim]\n",
    "        \n",
    "        # Step 2: Calculate scaled dot-product attention\n",
    "        # Compute similarity between queries and keys\n",
    "        # Shape: [batch_size, seq_len, seq_len]\n",
    "        attention_scores = torch.bmm(queries, keys.transpose(1, 2))\n",
    "        \n",
    "        # Step 3: Apply scaling to prevent softmax saturation\n",
    "        # When dimension grows, dot products grow larger in magnitude\n",
    "        # pushing softmax to regions with extremely small gradients\n",
    "        attention_scores = attention_scores * self.scaling\n",
    "        \n",
    "        # Step 4: Apply softmax to get attention weights\n",
    "        # This normalizes scores to form a probability distribution\n",
    "        # Shape: [batch_size, seq_len, seq_len]\n",
    "        attention_weights = F.softmax(attention_scores, dim=-1)\n",
    "        \n",
    "        # Step 5: Apply dropout to attention weights\n",
    "        attention_weights = self.dropout(attention_weights)\n",
    "        \n",
    "        # Step 6: Use attention weights to aggregate value vectors\n",
    "        # This is a weighted sum of value vectors based on attention weights\n",
    "        # Shape: [batch_size, seq_len, embed_dim]\n",
    "        output = torch.bmm(attention_weights, values)\n",
    "        \n",
    "        if return_attention:\n",
    "            return output, attention_weights\n",
    "        return output\n"
   ]
  },
  {
   "cell_type": "code",
   "execution_count": 10,
   "metadata": {},
   "outputs": [],
   "source": [
    "def visualize_attention(tokens, attention_weights):\n",
    "    \"\"\"\n",
    "    Visualize attention weights as a heatmap.\n",
    "    \n",
    "    Args:\n",
    "        tokens (list): List of token strings\n",
    "        attention_weights (Tensor): Attention weights tensor of shape [seq_len, seq_len]\n",
    "    \"\"\"\n",
    "    fig, ax = plt.subplots(figsize=(10, 10))\n",
    "    im = ax.imshow(attention_weights.detach().numpy(), cmap='viridis')\n",
    "    \n",
    "    # Add colorbar\n",
    "    fig.colorbar(im, ax=ax)\n",
    "    \n",
    "    # Set ticks and labels\n",
    "    ax.set_xticks(np.arange(len(tokens)))\n",
    "    ax.set_yticks(np.arange(len(tokens)))\n",
    "    ax.set_xticklabels(tokens)\n",
    "    ax.set_yticklabels(tokens)\n",
    "    \n",
    "    # Rotate the tick labels and set alignment\n",
    "    plt.setp(ax.get_xticklabels(), rotation=45, ha=\"right\", rotation_mode=\"anchor\")\n",
    "    \n",
    "    # Loop over data dimensions and create text annotations\n",
    "    for i in range(len(tokens)):\n",
    "        for j in range(len(tokens)):\n",
    "            text = ax.text(j, i, f'{attention_weights[i, j].item():.2f}',\n",
    "                           ha=\"center\", va=\"center\", color=\"black\" if attention_weights[i, j] < 0.5 else \"white\")\n",
    "    \n",
    "    ax.set_title(\"Attention Weights\")\n",
    "    fig.tight_layout()\n",
    "    plt.show()"
   ]
  },
  {
   "cell_type": "code",
   "execution_count": 11,
   "metadata": {},
   "outputs": [],
   "source": [
    "\n",
    "# Example usage\n",
    "def run_example():\n",
    "    # Create a simple sequence of word embeddings (simplified for demonstration)\n",
    "    # In practice, these would be word embeddings from a model like Word2Vec or BERT\n",
    "    torch.manual_seed(42)  # For reproducibility\n",
    "    \n",
    "    # Let's assume we have a sequence of 4 tokens with embedding dimension 8\n",
    "    batch_size = 1\n",
    "    seq_len = 4\n",
    "    embed_dim = 8\n",
    "    \n",
    "    # Create random embeddings to simulate a simple sentence\n",
    "    # In a real scenario, these would be the result of embedding words\n",
    "    x = torch.randn(batch_size, seq_len, embed_dim)\n",
    "    \n",
    "    # Sample token list for visualization\n",
    "    tokens = [\"The\", \"cat\", \"sat\", \"down\"]\n",
    "    \n",
    "    # Initialize our self-attention module\n",
    "    self_attention = SelfAttention(embed_dim=embed_dim, dropout=0.1)\n",
    "    \n",
    "    # Forward pass with attention weights returned\n",
    "    output, attention_weights = self_attention(x, return_attention=True)\n",
    "    \n",
    "    print(\"Input shape:\", x.shape)\n",
    "    print(\"Output shape:\", output.shape)\n",
    "    print(\"Attention weights shape:\", attention_weights.shape)\n",
    "    \n",
    "    # Squeeze the batch dimension for visualization (since batch_size=1)\n",
    "    attention_weights = attention_weights.squeeze(0)\n",
    "    \n",
    "    # Print attention weights matrix\n",
    "    print(\"\\nAttention Weights Matrix:\")\n",
    "    print(attention_weights)\n",
    "    \n",
    "    # Visualize attention weights\n",
    "    visualize_attention(tokens, attention_weights)\n",
    "    \n",
    "    # Demonstrate what self-attention is actually computing\n",
    "    print(\"\\nDetailed attention computation for token 'cat' (position 1):\")\n",
    "    print(f\"Attention weights for 'cat': {attention_weights[1]}\")\n",
    "    print(f\"'cat' attends to 'The' with weight: {attention_weights[1, 0]:.4f}\")\n",
    "    print(f\"'cat' attends to 'cat' with weight: {attention_weights[1, 1]:.4f}\")\n",
    "    print(f\"'cat' attends to 'sat' with weight: {attention_weights[1, 2]:.4f}\")\n",
    "    print(f\"'cat' attends to 'down' with weight: {attention_weights[1, 3]:.4f}\")\n",
    "    \n",
    "    # The output embedding for 'cat' is a weighted sum of value vectors\n",
    "    value_vectors = self_attention.value_proj(x).squeeze(0)  # [seq_len, embed_dim]\n",
    "    \n",
    "    # Manually compute the weighted sum to demonstrate what's happening\n",
    "    manual_output = torch.zeros(embed_dim)\n",
    "    for i in range(seq_len):\n",
    "        manual_output += attention_weights[1, i] * value_vectors[i]\n",
    "    \n",
    "    print(\"\\nManual computation of output embedding for 'cat':\")\n",
    "    print(f\"Calculated: {manual_output}\")\n",
    "    print(f\"From model: {output.squeeze(0)[1]}\")\n",
    "    print(f\"Match: {torch.allclose(manual_output, output.squeeze(0)[1], rtol=1e-5)}\")"
   ]
  },
  {
   "cell_type": "code",
   "execution_count": 12,
   "metadata": {},
   "outputs": [
    {
     "name": "stdout",
     "output_type": "stream",
     "text": [
      "Input shape: torch.Size([1, 4, 8])\n",
      "Output shape: torch.Size([1, 4, 8])\n",
      "Attention weights shape: torch.Size([1, 4, 4])\n",
      "\n",
      "Attention Weights Matrix:\n",
      "tensor([[0.2218, 0.1787, 0.3904, 0.3202],\n",
      "        [0.1464, 0.2811, 0.2871, 0.3965],\n",
      "        [0.3128, 0.0000, 0.1741, 0.2446],\n",
      "        [0.1435, 0.3482, 0.3614, 0.2579]], grad_fn=<SqueezeBackward1>)\n"
     ]
    },
    {
     "data": {
      "image/png": "[encoded data removed]",
      "text/plain": [
       "<Figure size 1000x1000 with 2 Axes>"
      ]
     },
     "metadata": {},
     "output_type": "display_data"
    },
    {
     "name": "stdout",
     "output_type": "stream",
     "text": [
      "\n",
      "Detailed attention computation for token 'cat' (position 1):\n",
      "Attention weights for 'cat': tensor([0.1464, 0.2811, 0.2871, 0.3965], grad_fn=<SelectBackward0>)\n",
      "'cat' attends to 'The' with weight: 0.1464\n",
      "'cat' attends to 'cat' with weight: 0.2811\n",
      "'cat' attends to 'sat' with weight: 0.2871\n",
      "'cat' attends to 'down' with weight: 0.3965\n",
      "\n",
      "Manual computation of output embedding for 'cat':\n",
      "Calculated: tensor([-0.0659,  0.1928,  0.5767, -0.9081,  0.3761, -0.2542,  0.0170,  0.4355],\n",
      "       grad_fn=<AddBackward0>)\n",
      "From model: tensor([-0.0659,  0.1928,  0.5767, -0.9081,  0.3761, -0.2542,  0.0170,  0.4355],\n",
      "       grad_fn=<SelectBackward0>)\n",
      "Match: True\n"
     ]
    }
   ],
   "source": [
    "run_example()"
   ]
  },
  {
   "cell_type": "code",
   "execution_count": null,
   "metadata": {},
   "outputs": [],
   "source": []
  }
 ],
 "metadata": {
  "kernelspec": {
   "display_name": "anaconda",
   "language": "python",
   "name": "python3"
  },
  "language_info": {
   "codemirror_mode": {
    "name": "ipython",
    "version": 3
   },
   "file_extension": ".py",
   "mimetype": "text/x-python",
   "name": "python",
   "nbconvert_exporter": "python",
   "pygments_lexer": "ipython3",
   "version": "3.12.4"
  }
 },
 "nbformat": 4,
 "nbformat_minor": 2
}
