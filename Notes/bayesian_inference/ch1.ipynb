{
 "cells": [
  {
   "cell_type": "markdown",
   "metadata": {},
   "source": [
    "## 1.1 Thumbtack Tossing"
   ]
  },
  {
   "cell_type": "markdown",
   "metadata": {},
   "source": [
    "Consider the probability associated with a thumbtack landing point-up after being tossed. From $n$ tosses, the number of times that the tack lands point-up is denoted $y$. The true probability of landing point-up is denoted $\\theta$. In this text, unknown quantities of a model or distribution are called ***parameters***.\n",
    "\n",
    "Consider a sample in which $N=30$ and $y = 16$. Since the outcome is binary, we may reasonably treat $Y$ as a binomially-distributed random variable, realizations of which are specific values $y$. The functional form of $Y$ is then the probability mass function:\n",
    "$$f(y; n, \\theta) = {n \\choose y} \\theta^y (1-\\theta)^{n-y}$$"
   ]
  },
  {
   "cell_type": "markdown",
   "metadata": {},
   "source": [
    "### Frequentist Approach to Thumbtack Tossing"
   ]
  },
  {
   "cell_type": "markdown",
   "metadata": {},
   "source": [
    "For a fixed $n$, we may estimate $\\hat \\theta$ with MLE. Intuitively, the approach simply chooses a value of $\\hat \\theta$ which *maximizes* the likelihood of observing the data. \n",
    "$$\\hat \\theta (y) = \\argmax_\\theta L(\\theta; y)$$\n",
    "The likelihood function is a function *of the parameter being estimated* conditional on the observed quantities. For this binomial random variable, it is:\n",
    "$$L(\\theta | n, y) = P(Y = y | \\theta) = {n \\choose y}\\theta^y (1 - \\theta)^{n-y}$$ \n",
    "If we consider each trial in the $n$ observations as an independent Bernoulli random variable $y^*$, then the likelihood is:\n",
    "$$L(\\theta|y^*, n) = \\prod_{i=1}^n \\theta(y^*_i) = \\prod_{i=1}^n \\theta^{y^*_i} (1-\\theta)^{1-y^*_i} = {n \\choose y}\\theta^y (1 - \\theta)^{n-y}$$\n",
    "The log-likelihood is then:\n",
    "$$\\log L(\\theta|n, y) = l(\\theta|n, y) = y\\log(\\theta) + (n-y)\\log(1 - \\theta)$$\n",
    "This is maximized at $\\hat \\theta (y) = y/n$, or $16/30$ for the observed data.\n",
    "\n",
    "Note that ${n\\choose y}$ is dropped from the log-likelihood because it is a constant and may be ignored for the pruposes of maximizing w.r.t. the parameter $\\theta$.\n",
    "\n",
    "Thus, it is generally the case that we may simply take the log of the PMF (or PDF for continuous distributions) as the log-likelihood. However, the meaning of the likelihood is different than the meaning of the PMF/PDF. Crucially, the likelihood is a function of the parameter being estimated conditioned upon the observations. Thus, the likelihood takes the observed values as fixed and treats the parameters as variables. Consequences of this are:\n",
    "1. The PMF must sum to 1 across all possible oberserved outcomes\n",
    "2. The likelihood function need not sum to 1 across all parameter values"
   ]
  },
  {
   "cell_type": "markdown",
   "metadata": {},
   "source": [
    "***Maximum Likelihood Estimator***\\\n",
    "The maximum likelihood estimator is the maximum likelihood parameter estimate evaluated as a function of the random variable $Y$ instead of the observed data $y$. Effectively, it is the estimate taken over *all possible data* sets that could be observed. In this binomial case, it is:\n",
    "$$\\hat \\theta (Y) = \\frac{Y}{n}$$\n",
    "The standard deviation of the maximum likelihood estimate is the ***Standard Error***, with which we may construct confidence intervals and do hypothesis testing, etc. The randomness described by the standard error and hypothesis tests comes from the observations, not from the parameter value which is taken to be an unknown constant. "
   ]
  },
  {
   "cell_type": "markdown",
   "metadata": {},
   "source": [
    "### Fully Bayesian Model"
   ]
  },
  {
   "cell_type": "markdown",
   "metadata": {},
   "source": [
    "In the Bayesian framework, the parameter values are considered to be random variables themselves rather than fixed constants. The text makes this explicit by denoting the unknown parameter $\\Theta$.\n",
    "\n",
    "In the thumbtack scenario, we do not have an established a-priori judgement about the value of the success probability $\\Theta$ (as we might with coin-flips). So, we may begin by quantifying our uncertainty about its value with a distribution like the uniform distribution:\n",
    "$$\\Theta \\sim \\text{U}(0, 1)$$\n",
    "This is called the ***Prior Distribution*** - it is one of two components needed to fully define a Bayesian model."
   ]
  },
  {
   "cell_type": "markdown",
   "metadata": {},
   "source": [
    "The other component is the distribution of the data *given* the parameter. This is called the ***Sampling Distribution*** or the ***Likelihood***. In the binomial thumbtack tossing scenario, it is:\n",
    "$$f_{Y|\\Theta}(y|\\theta) \\rightarrow Y|\\Theta \\sim \\text{Bin}(n, \\Theta) \\\\ \\ \\\\ \\Theta \\sim \\text{U}(0,1)$$"
   ]
  },
  {
   "cell_type": "markdown",
   "metadata": {},
   "source": [
    "Bayesian inference uses the sampling distribution to update the distribution of the parameter values. This is quantified by computing a ***Posterior Distribution*** of the parameter $\\Theta$.\\\n",
    "This is the conditional distribution of $\\Theta$ given the data $Y=y$:\n",
    "$$f_{\\Theta|Y} (\\theta |y)$$"
   ]
  },
  {
   "cell_type": "markdown",
   "metadata": {},
   "source": [
    "Recall the expression of the joint PMF/PDF of two random variables:\n",
    "$$f_{X,Y} = f_Xf_{Y|X}$$\n",
    "This may be used to factorize the joint distribution of the parameter and the data:\n",
    "$$\n",
    "f_{\\Theta, Y} (\\theta, y) = f_Y(y)f_{\\Theta|y}(\\theta|y) \\\\ \\ \\\\\n",
    "\\implies f_{\\Theta|Y}(\\theta|y) = \\frac{f_{\\Theta, Y} (\\theta, y)}{f_Y(y)} \\\\ \\ \\\\\n",
    "\\implies f_{\\Theta|Y}(\\theta|y) = \\frac{f_\\Theta (\\theta) f_{Y|\\Theta} (y|\\theta)}{f_Y(y)}\n",
    "$$"
   ]
  },
  {
   "cell_type": "markdown",
   "metadata": {},
   "source": [
    "This final expression is the familiar ***Bayes' Theorem***. We have already determined the two distributions used in the numerator, the only unknown left is the denominator - the independent distribution of the random variable $Y$. This is the *marginal distribution* of the data and is often called the ***Marginal Likelihood***.\n",
    "\n",
    "For now, we may concern ourselves with the known distributions, to which the posterior distribution is *proportional*:\n",
    "$$\n",
    "f_{\\Theta|Y}(\\theta|y) \\propto f_\\Theta (\\theta) f_{Y|\\Theta} (y|\\theta) = 1 \\cdot {n \\choose y} \\theta^y (1 - \\theta) ^{n - y}\n",
    "$$\n",
    "Dropping constants:\n",
    "$$f_{\\Theta|Y}(\\theta|y) \\propto \\theta^y(1 - \\theta)^{n - y}$$"
   ]
  },
  {
   "cell_type": "markdown",
   "metadata": {},
   "source": [
    "Although $Y$ is a discrete random variable, $\\Theta$ is continuous. So, we would like to find a known distribution that matches this functional form in order to model $\\Theta$.\\\n",
    "Obviously the binomial distribution has this functional form, but there is also a continuous distribution with a PDF of this form, the beta distribution:\n",
    "$$\n",
    "x \\sim \\text{Beta}(\\alpha, \\beta) \\implies f(x) = \\frac{1}{B(\\alpha, \\beta)}x^{\\alpha-1}(1-x)^{\\beta-1} \\\\ \\ \\\\\n",
    "B(\\alpha,\\beta) = \\frac{\\Gamma(\\alpha)\\Gamma(\\beta)}{\\Gamma(\\alpha + \\beta)} = \\int_0^1 x^{\\alpha - 1}(1 - x)^{\\beta - 1}dx\n",
    "$$\n",
    "\n",
    "So, we may model the posterior distribution as:\n",
    "$$\\Theta|Y \\sim \\text{Beta}(y+1, \\ n - y + 1)$$"
   ]
  },
  {
   "cell_type": "markdown",
   "metadata": {},
   "source": [
    "The posterior distribution may be used to derive point estimates of the parameter, most commonly th ***Posterior Mean***:\n",
    "$$E(\\Theta|Y=y) = \\frac{\\alpha}{\\alpha + \\beta} = \\frac{y+1}{(n-y+1) + (y+1)} = \\frac{17}{32}$$"
   ]
  },
  {
   "cell_type": "markdown",
   "metadata": {},
   "source": [
    "### Lil Demo"
   ]
  },
  {
   "cell_type": "markdown",
   "metadata": {},
   "source": [
    "Let's run this"
   ]
  },
  {
   "cell_type": "code",
   "execution_count": 5,
   "metadata": {},
   "outputs": [
    {
     "data": {
      "image/png": "[encoded data removed]",
      "text/plain": [
       "<Figure size 640x480 with 1 Axes>"
      ]
     },
     "metadata": {},
     "output_type": "display_data"
    }
   ],
   "source": [
    "import numpy as np\n",
    "import matplotlib.pyplot as plt\n",
    "import seaborn as sns\n",
    "from scipy.stats import binom, beta\n",
    "\n",
    "n = 30\n",
    "y = 17\n",
    "\n",
    "mle = y / n\n",
    "theta = beta.rvs(a=y + 1, b=n - y + 1, size=1000)\n",
    "\n",
    "sns.histplot(theta, bins=30, color='blue', alpha=0.5, label='Posterior samples', kde=True)\n",
    "plt.axvline(mle, color='red', linestyle='--', label='MLE')\n",
    "plt.axvline(theta.mean(), color='green', linestyle='--', label='Posterior mean');"
   ]
  },
  {
   "cell_type": "markdown",
   "metadata": {},
   "source": [
    "# 1.2 Components of Bayesian Inference"
   ]
  },
  {
   "cell_type": "markdown",
   "metadata": {},
   "source": [
    "### Sampling Distribution / Likelihood Function"
   ]
  },
  {
   "cell_type": "markdown",
   "metadata": {},
   "source": [
    "Consider the vector $\\bf Y$, the random vector of the random variable $Y$. A set of observed data $\\bf y$ is then a realization of this random vector $\\bf Y$. We may map this more general conceptualization to the thumbtack example by considering each observation as an independent Bernoulli RV rather than considering the aggregate as a single binomial RV.\n",
    "\n",
    "Then, if we assume that our observations are independent given a value of $\\Theta$, then the joint sampling distribution of the random vector $\\bf Y$ may be factorized into a product of the sampling distributions of its components:\n",
    "$$\n",
    "f_{\\mathbf{Y}|\\Theta} (\\mathbf{y}|\\theta) = \\prod_{i=1}^n f_{Y_i|\\Theta} (y_i|\\theta)\n",
    "$$\n",
    "\n",
    "If they are also identically distributed (IID), then:\n",
    "$$\n",
    "f_{\\mathbf{Y}|\\Theta} (\\mathbf{y}|\\theta) = \\prod_{i=1}^n f(y_i|\\theta)\n",
    "$$"
   ]
  },
  {
   "cell_type": "markdown",
   "metadata": {},
   "source": [
    "### Prior Distribution"
   ]
  },
  {
   "cell_type": "markdown",
   "metadata": {},
   "source": [
    "The marginal distribution of the parameter $f_\\Theta(\\theta)$ is called the *prior distribution*.\\\n",
    "In the absence of any information about the prior distribution, we should initially choose as vague a prior as possible, like the uniform distribution in the thumbtack scenario. Such choices are called ***Uninformative Priors***, while stronger priors are called ***Informative Priors***.\n",
    "\n",
    "The prior distribution may also be parametric, with parameters $\\phi = (\\phi_1,...,\\phi_k)$ called ***Hyperparameters***."
   ]
  },
  {
   "cell_type": "markdown",
   "metadata": {},
   "source": [
    "### Posterior Distribution"
   ]
  },
  {
   "cell_type": "markdown",
   "metadata": {},
   "source": [
    "The posterior distribution is the conditional distribution given the data. \n",
    "$$\n",
    "f_{\\Theta|\\mathbf Y}(\\theta|\\mathbf y) = \\frac{f_\\Theta (\\theta) f_{\\mathbf Y|\\Theta} (\\mathbf y|\\theta)}{f_\\mathbf Y(\\mathbf y)}\n",
    "f_{\\Theta|\\mathbf Y}(\\theta|\\mathbf y) \\propto f_\\Theta (\\theta) f_{\\mathbf Y|\\Theta} (\\mathbf y|\\theta)\n",
    "$$"
   ]
  },
  {
   "cell_type": "markdown",
   "metadata": {},
   "source": [
    "### Marginal Likelihood"
   ]
  },
  {
   "cell_type": "markdown",
   "metadata": {},
   "source": [
    "The marginal likelihood $f_{\\mathbf Y}(\\mathbf y)$ acts as a normalizing constant on the posterior distribution.\n",
    "\n",
    "We may compute the marginal likelihood by marginalizing out the parameter from the full joint probability distribution:\n",
    "$$\n",
    "f_{\\mathbf Y}(\\mathbf y) = \\int_\\Omega f_{\\Theta, \\mathbf Y}(\\theta, \\mathbf y) d\\theta = \\int_\\Omega f_\\Theta(\\theta) f_{\\mathbf Y| \\Theta}(\\mathbf y |\\theta) d\\theta\n",
    "$$\n",
    "$\\Omega$ denotes the parameter space of $\\Theta$, e.g. $[0, 1]$ for the probability of a thumbtack landing point-up."
   ]
  },
  {
   "cell_type": "markdown",
   "metadata": {},
   "source": [
    "The marginal likelihood is sometimes called the ***prior predictive distribution*** because it presents our beliefs about the probabilities of the data before any observations are made. It may be thought of as a weighted average over all of the possible parameter values, where the weights are determined by the prior distribution of the parameter. That is:\n",
    "$$\n",
    "f_{\\mathbf Y}(\\mathbf y) = \\int_\\Omega f_{\\mathbf Y| \\Theta}(\\mathbf y |\\theta) f_\\Theta(\\theta) d\\theta = E\\big[f_{\\mathbf Y| \\Theta}(\\mathbf y |\\theta)\\big]\n",
    "$$\n",
    "So, in a sense, it is the expectation of the sampling distribution taken over the prior distribution of the parameter $\\Theta$.\n",
    "\n",
    "This is most clearly observed in the discrete case where we deal with sums rather than integrals.\n",
    "\n",
    "This is a good way to think of marginal distributions in general, it would seem."
   ]
  },
  {
   "cell_type": "markdown",
   "metadata": {},
   "source": [
    "# 1.3 Prediction"
   ]
  },
  {
   "cell_type": "markdown",
   "metadata": {},
   "source": [
    "### Motivating Example, Part 2"
   ]
  },
  {
   "cell_type": "markdown",
   "metadata": {},
   "source": []
  }
 ],
 "metadata": {
  "kernelspec": {
   "display_name": "Python 3",
   "language": "python",
   "name": "python3"
  },
  "language_info": {
   "codemirror_mode": {
    "name": "ipython",
    "version": 3
   },
   "file_extension": ".py",
   "mimetype": "text/x-python",
   "name": "python",
   "nbconvert_exporter": "python",
   "pygments_lexer": "ipython3",
   "version": "3.13.2"
  }
 },
 "nbformat": 4,
 "nbformat_minor": 2
}
