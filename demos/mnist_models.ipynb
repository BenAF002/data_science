{
 "cells": [
  {
   "cell_type": "markdown",
   "id": "d7560a46",
   "metadata": {},
   "source": [
    "## Description\n",
    "This notebook tests a series of models on the MNIST number-recognition dataset - ultimately achieving >98% validation accuracy with an implementation of a ResNet CNN."
   ]
  },
  {
   "cell_type": "code",
   "execution_count": 1,
   "id": "0620531b",
   "metadata": {
    "scrolled": true
   },
   "outputs": [],
   "source": [
    "import torch\n",
    "import torch.nn as nn\n",
    "import torch.nn.functional as F\n",
    "import pandas as pd\n",
    "import matplotlib.pyplot as plt\n",
    "from pathlib import Path"
   ]
  },
  {
   "cell_type": "markdown",
   "id": "60a8a146",
   "metadata": {
    "heading_collapsed": true
   },
   "source": [
    "## Read in Data"
   ]
  },
  {
   "cell_type": "code",
   "execution_count": 3,
   "id": "b78c351f",
   "metadata": {
    "hidden": true
   },
   "outputs": [],
   "source": [
    "path = Path('./digit-recognizer')\n",
    "tdat = pd.read_csv(path/'train.csv')\n",
    "vdat = pd.read_csv(path/'test.csv')"
   ]
  },
  {
   "cell_type": "code",
   "execution_count": 4,
   "id": "113ca8f8",
   "metadata": {
    "hidden": true
   },
   "outputs": [
    {
     "data": {
      "text/html": [
       "<div>\n",
       "<style scoped>\n",
       "    .dataframe tbody tr th:only-of-type {\n",
       "        vertical-align: middle;\n",
       "    }\n",
       "\n",
       "    .dataframe tbody tr th {\n",
       "        vertical-align: top;\n",
       "    }\n",
       "\n",
       "    .dataframe thead th {\n",
       "        text-align: right;\n",
       "    }\n",
       "</style>\n",
       "<table border=\"1\" class=\"dataframe\">\n",
       "  <thead>\n",
       "    <tr style=\"text-align: right;\">\n",
       "      <th></th>\n",
       "      <th>label</th>\n",
       "      <th>pixel0</th>\n",
       "      <th>pixel1</th>\n",
       "      <th>pixel2</th>\n",
       "      <th>pixel3</th>\n",
       "      <th>pixel4</th>\n",
       "      <th>pixel5</th>\n",
       "      <th>pixel6</th>\n",
       "      <th>pixel7</th>\n",
       "      <th>pixel8</th>\n",
       "      <th>...</th>\n",
       "      <th>pixel774</th>\n",
       "      <th>pixel775</th>\n",
       "      <th>pixel776</th>\n",
       "      <th>pixel777</th>\n",
       "      <th>pixel778</th>\n",
       "      <th>pixel779</th>\n",
       "      <th>pixel780</th>\n",
       "      <th>pixel781</th>\n",
       "      <th>pixel782</th>\n",
       "      <th>pixel783</th>\n",
       "    </tr>\n",
       "  </thead>\n",
       "  <tbody>\n",
       "    <tr>\n",
       "      <th>0</th>\n",
       "      <td>1</td>\n",
       "      <td>0</td>\n",
       "      <td>0</td>\n",
       "      <td>0</td>\n",
       "      <td>0</td>\n",
       "      <td>0</td>\n",
       "      <td>0</td>\n",
       "      <td>0</td>\n",
       "      <td>0</td>\n",
       "      <td>0</td>\n",
       "      <td>...</td>\n",
       "      <td>0</td>\n",
       "      <td>0</td>\n",
       "      <td>0</td>\n",
       "      <td>0</td>\n",
       "      <td>0</td>\n",
       "      <td>0</td>\n",
       "      <td>0</td>\n",
       "      <td>0</td>\n",
       "      <td>0</td>\n",
       "      <td>0</td>\n",
       "    </tr>\n",
       "    <tr>\n",
       "      <th>1</th>\n",
       "      <td>0</td>\n",
       "      <td>0</td>\n",
       "      <td>0</td>\n",
       "      <td>0</td>\n",
       "      <td>0</td>\n",
       "      <td>0</td>\n",
       "      <td>0</td>\n",
       "      <td>0</td>\n",
       "      <td>0</td>\n",
       "      <td>0</td>\n",
       "      <td>...</td>\n",
       "      <td>0</td>\n",
       "      <td>0</td>\n",
       "      <td>0</td>\n",
       "      <td>0</td>\n",
       "      <td>0</td>\n",
       "      <td>0</td>\n",
       "      <td>0</td>\n",
       "      <td>0</td>\n",
       "      <td>0</td>\n",
       "      <td>0</td>\n",
       "    </tr>\n",
       "    <tr>\n",
       "      <th>2</th>\n",
       "      <td>1</td>\n",
       "      <td>0</td>\n",
       "      <td>0</td>\n",
       "      <td>0</td>\n",
       "      <td>0</td>\n",
       "      <td>0</td>\n",
       "      <td>0</td>\n",
       "      <td>0</td>\n",
       "      <td>0</td>\n",
       "      <td>0</td>\n",
       "      <td>...</td>\n",
       "      <td>0</td>\n",
       "      <td>0</td>\n",
       "      <td>0</td>\n",
       "      <td>0</td>\n",
       "      <td>0</td>\n",
       "      <td>0</td>\n",
       "      <td>0</td>\n",
       "      <td>0</td>\n",
       "      <td>0</td>\n",
       "      <td>0</td>\n",
       "    </tr>\n",
       "    <tr>\n",
       "      <th>3</th>\n",
       "      <td>4</td>\n",
       "      <td>0</td>\n",
       "      <td>0</td>\n",
       "      <td>0</td>\n",
       "      <td>0</td>\n",
       "      <td>0</td>\n",
       "      <td>0</td>\n",
       "      <td>0</td>\n",
       "      <td>0</td>\n",
       "      <td>0</td>\n",
       "      <td>...</td>\n",
       "      <td>0</td>\n",
       "      <td>0</td>\n",
       "      <td>0</td>\n",
       "      <td>0</td>\n",
       "      <td>0</td>\n",
       "      <td>0</td>\n",
       "      <td>0</td>\n",
       "      <td>0</td>\n",
       "      <td>0</td>\n",
       "      <td>0</td>\n",
       "    </tr>\n",
       "    <tr>\n",
       "      <th>4</th>\n",
       "      <td>0</td>\n",
       "      <td>0</td>\n",
       "      <td>0</td>\n",
       "      <td>0</td>\n",
       "      <td>0</td>\n",
       "      <td>0</td>\n",
       "      <td>0</td>\n",
       "      <td>0</td>\n",
       "      <td>0</td>\n",
       "      <td>0</td>\n",
       "      <td>...</td>\n",
       "      <td>0</td>\n",
       "      <td>0</td>\n",
       "      <td>0</td>\n",
       "      <td>0</td>\n",
       "      <td>0</td>\n",
       "      <td>0</td>\n",
       "      <td>0</td>\n",
       "      <td>0</td>\n",
       "      <td>0</td>\n",
       "      <td>0</td>\n",
       "    </tr>\n",
       "  </tbody>\n",
       "</table>\n",
       "<p>5 rows × 785 columns</p>\n",
       "</div>"
      ],
      "text/plain": [
       "   label  pixel0  pixel1  pixel2  pixel3  pixel4  pixel5  pixel6  pixel7  \\\n",
       "0      1       0       0       0       0       0       0       0       0   \n",
       "1      0       0       0       0       0       0       0       0       0   \n",
       "2      1       0       0       0       0       0       0       0       0   \n",
       "3      4       0       0       0       0       0       0       0       0   \n",
       "4      0       0       0       0       0       0       0       0       0   \n",
       "\n",
       "   pixel8  ...  pixel774  pixel775  pixel776  pixel777  pixel778  pixel779  \\\n",
       "0       0  ...         0         0         0         0         0         0   \n",
       "1       0  ...         0         0         0         0         0         0   \n",
       "2       0  ...         0         0         0         0         0         0   \n",
       "3       0  ...         0         0         0         0         0         0   \n",
       "4       0  ...         0         0         0         0         0         0   \n",
       "\n",
       "   pixel780  pixel781  pixel782  pixel783  \n",
       "0         0         0         0         0  \n",
       "1         0         0         0         0  \n",
       "2         0         0         0         0  \n",
       "3         0         0         0         0  \n",
       "4         0         0         0         0  \n",
       "\n",
       "[5 rows x 785 columns]"
      ]
     },
     "execution_count": 4,
     "metadata": {},
     "output_type": "execute_result"
    }
   ],
   "source": [
    "tdat.head()"
   ]
  },
  {
   "cell_type": "markdown",
   "id": "3a5a0407",
   "metadata": {
    "hidden": true
   },
   "source": [
    "So, each row is a 28x28 image stretched out across 784 columns. This can conveniently be pulled into a tensor. The corresponding labels will be the target tensor."
   ]
  },
  {
   "cell_type": "code",
   "execution_count": 6,
   "id": "6a58d211",
   "metadata": {
    "hidden": true
   },
   "outputs": [],
   "source": [
    "inputs = tdat.iloc[:, tdat.columns != 'label']\n",
    "targets = tdat['label']"
   ]
  },
  {
   "cell_type": "code",
   "execution_count": 7,
   "id": "d91cf906",
   "metadata": {
    "collapsed": true,
    "hidden": true
   },
   "outputs": [
    {
     "data": {
      "text/html": [
       "<style type=\"text/css\">\n",
       "#T_74596_row0_col0, #T_74596_row0_col1, #T_74596_row0_col2, #T_74596_row0_col3, #T_74596_row0_col4, #T_74596_row0_col5, #T_74596_row0_col6, #T_74596_row0_col7, #T_74596_row0_col8, #T_74596_row0_col9, #T_74596_row0_col10, #T_74596_row0_col11, #T_74596_row0_col12, #T_74596_row0_col13, #T_74596_row0_col14, #T_74596_row0_col15, #T_74596_row0_col16, #T_74596_row0_col17, #T_74596_row0_col18, #T_74596_row0_col19, #T_74596_row0_col20, #T_74596_row0_col21, #T_74596_row0_col22, #T_74596_row0_col23, #T_74596_row0_col24, #T_74596_row0_col25, #T_74596_row0_col26, #T_74596_row0_col27, #T_74596_row1_col0, #T_74596_row1_col1, #T_74596_row1_col2, #T_74596_row1_col3, #T_74596_row1_col4, #T_74596_row1_col5, #T_74596_row1_col6, #T_74596_row1_col7, #T_74596_row1_col8, #T_74596_row1_col9, #T_74596_row1_col10, #T_74596_row1_col11, #T_74596_row1_col12, #T_74596_row1_col13, #T_74596_row1_col14, #T_74596_row1_col15, #T_74596_row1_col16, #T_74596_row1_col17, #T_74596_row1_col18, #T_74596_row1_col19, #T_74596_row1_col20, #T_74596_row1_col21, #T_74596_row1_col22, #T_74596_row1_col23, #T_74596_row1_col24, #T_74596_row1_col25, #T_74596_row1_col26, #T_74596_row1_col27, #T_74596_row2_col0, #T_74596_row2_col1, #T_74596_row2_col2, #T_74596_row2_col3, #T_74596_row2_col4, #T_74596_row2_col5, #T_74596_row2_col6, #T_74596_row2_col7, #T_74596_row2_col8, #T_74596_row2_col9, #T_74596_row2_col10, #T_74596_row2_col11, #T_74596_row2_col12, #T_74596_row2_col13, #T_74596_row2_col14, #T_74596_row2_col15, #T_74596_row2_col16, #T_74596_row2_col17, #T_74596_row2_col18, #T_74596_row2_col19, #T_74596_row2_col20, #T_74596_row2_col21, #T_74596_row2_col22, #T_74596_row2_col23, #T_74596_row2_col24, #T_74596_row2_col25, #T_74596_row2_col26, #T_74596_row2_col27, #T_74596_row3_col0, #T_74596_row3_col1, #T_74596_row3_col2, #T_74596_row3_col3, #T_74596_row3_col4, #T_74596_row3_col5, #T_74596_row3_col6, #T_74596_row3_col7, #T_74596_row3_col8, #T_74596_row3_col9, #T_74596_row3_col10, #T_74596_row3_col11, #T_74596_row3_col12, #T_74596_row3_col13, #T_74596_row3_col14, #T_74596_row3_col15, #T_74596_row3_col16, #T_74596_row3_col17, #T_74596_row3_col18, #T_74596_row3_col19, #T_74596_row3_col20, #T_74596_row3_col21, #T_74596_row3_col22, #T_74596_row3_col23, #T_74596_row3_col24, #T_74596_row3_col25, #T_74596_row3_col26, #T_74596_row3_col27, #T_74596_row4_col0, #T_74596_row4_col1, #T_74596_row4_col2, #T_74596_row4_col3, #T_74596_row4_col4, #T_74596_row4_col5, #T_74596_row4_col6, #T_74596_row4_col7, #T_74596_row4_col8, #T_74596_row4_col9, #T_74596_row4_col10, #T_74596_row4_col11, #T_74596_row4_col12, #T_74596_row4_col13, #T_74596_row4_col14, #T_74596_row4_col15, #T_74596_row4_col16, #T_74596_row4_col17, #T_74596_row4_col18, #T_74596_row4_col19, #T_74596_row4_col20, #T_74596_row4_col21, #T_74596_row4_col22, #T_74596_row4_col23, #T_74596_row4_col24, #T_74596_row4_col25, #T_74596_row4_col26, #T_74596_row4_col27, #T_74596_row5_col0, #T_74596_row5_col1, #T_74596_row5_col2, #T_74596_row5_col3, #T_74596_row5_col4, #T_74596_row5_col5, #T_74596_row5_col9, #T_74596_row5_col10, #T_74596_row5_col11, #T_74596_row5_col12, #T_74596_row5_col13, #T_74596_row5_col14, #T_74596_row5_col15, #T_74596_row5_col16, #T_74596_row5_col19, #T_74596_row5_col20, #T_74596_row5_col21, #T_74596_row5_col22, #T_74596_row5_col23, #T_74596_row5_col24, #T_74596_row5_col25, #T_74596_row5_col26, #T_74596_row5_col27, #T_74596_row6_col0, #T_74596_row6_col1, #T_74596_row6_col2, #T_74596_row6_col3, #T_74596_row6_col4, #T_74596_row6_col5, #T_74596_row6_col9, #T_74596_row6_col10, #T_74596_row6_col11, #T_74596_row6_col12, #T_74596_row6_col13, #T_74596_row6_col14, #T_74596_row6_col15, #T_74596_row6_col16, #T_74596_row6_col19, #T_74596_row6_col20, #T_74596_row6_col21, #T_74596_row6_col22, #T_74596_row6_col23, #T_74596_row6_col24, #T_74596_row6_col25, #T_74596_row6_col26, #T_74596_row6_col27, #T_74596_row7_col0, #T_74596_row7_col1, #T_74596_row7_col2, #T_74596_row7_col3, #T_74596_row7_col4, #T_74596_row7_col5, #T_74596_row7_col6, #T_74596_row7_col9, #T_74596_row7_col10, #T_74596_row7_col11, #T_74596_row7_col12, #T_74596_row7_col13, #T_74596_row7_col14, #T_74596_row7_col15, #T_74596_row7_col16, #T_74596_row7_col20, #T_74596_row7_col21, #T_74596_row7_col22, #T_74596_row7_col23, #T_74596_row7_col24, #T_74596_row7_col25, #T_74596_row7_col26, #T_74596_row7_col27, #T_74596_row8_col0, #T_74596_row8_col1, #T_74596_row8_col2, #T_74596_row8_col3, #T_74596_row8_col4, #T_74596_row8_col5, #T_74596_row8_col6, #T_74596_row8_col10, #T_74596_row8_col11, #T_74596_row8_col12, #T_74596_row8_col13, #T_74596_row8_col14, #T_74596_row8_col15, #T_74596_row8_col16, #T_74596_row8_col20, #T_74596_row8_col21, #T_74596_row8_col22, #T_74596_row8_col23, #T_74596_row8_col24, #T_74596_row8_col25, #T_74596_row8_col26, #T_74596_row8_col27, #T_74596_row9_col0, #T_74596_row9_col1, #T_74596_row9_col2, #T_74596_row9_col3, #T_74596_row9_col4, #T_74596_row9_col5, #T_74596_row9_col6, #T_74596_row9_col10, #T_74596_row9_col11, #T_74596_row9_col12, #T_74596_row9_col13, #T_74596_row9_col14, #T_74596_row9_col15, #T_74596_row9_col16, #T_74596_row9_col20, #T_74596_row9_col21, #T_74596_row9_col22, #T_74596_row9_col23, #T_74596_row9_col24, #T_74596_row9_col25, #T_74596_row9_col26, #T_74596_row9_col27, #T_74596_row10_col0, #T_74596_row10_col1, #T_74596_row10_col2, #T_74596_row10_col3, #T_74596_row10_col4, #T_74596_row10_col5, #T_74596_row10_col6, #T_74596_row10_col10, #T_74596_row10_col11, #T_74596_row10_col12, #T_74596_row10_col13, #T_74596_row10_col14, #T_74596_row10_col15, #T_74596_row10_col16, #T_74596_row10_col17, #T_74596_row10_col20, #T_74596_row10_col21, #T_74596_row10_col22, #T_74596_row10_col23, #T_74596_row10_col24, #T_74596_row10_col25, #T_74596_row10_col26, #T_74596_row10_col27, #T_74596_row11_col0, #T_74596_row11_col1, #T_74596_row11_col2, #T_74596_row11_col3, #T_74596_row11_col4, #T_74596_row11_col5, #T_74596_row11_col6, #T_74596_row11_col10, #T_74596_row11_col11, #T_74596_row11_col12, #T_74596_row11_col13, #T_74596_row11_col14, #T_74596_row11_col15, #T_74596_row11_col16, #T_74596_row11_col17, #T_74596_row11_col20, #T_74596_row11_col21, #T_74596_row11_col22, #T_74596_row11_col23, #T_74596_row11_col24, #T_74596_row11_col25, #T_74596_row11_col26, #T_74596_row11_col27, #T_74596_row12_col0, #T_74596_row12_col1, #T_74596_row12_col2, #T_74596_row12_col3, #T_74596_row12_col4, #T_74596_row12_col5, #T_74596_row12_col6, #T_74596_row12_col10, #T_74596_row12_col11, #T_74596_row12_col12, #T_74596_row12_col13, #T_74596_row12_col14, #T_74596_row12_col15, #T_74596_row12_col16, #T_74596_row12_col17, #T_74596_row12_col20, #T_74596_row12_col21, #T_74596_row12_col22, #T_74596_row12_col23, #T_74596_row12_col24, #T_74596_row12_col25, #T_74596_row12_col26, #T_74596_row12_col27, #T_74596_row13_col0, #T_74596_row13_col1, #T_74596_row13_col2, #T_74596_row13_col3, #T_74596_row13_col4, #T_74596_row13_col5, #T_74596_row13_col6, #T_74596_row13_col7, #T_74596_row13_col11, #T_74596_row13_col12, #T_74596_row13_col13, #T_74596_row13_col14, #T_74596_row13_col15, #T_74596_row13_col16, #T_74596_row13_col17, #T_74596_row13_col21, #T_74596_row13_col22, #T_74596_row13_col23, #T_74596_row13_col24, #T_74596_row13_col25, #T_74596_row13_col26, #T_74596_row13_col27, #T_74596_row14_col0, #T_74596_row14_col1, #T_74596_row14_col2, #T_74596_row14_col3, #T_74596_row14_col4, #T_74596_row14_col5, #T_74596_row14_col6, #T_74596_row14_col7, #T_74596_row14_col11, #T_74596_row14_col12, #T_74596_row14_col13, #T_74596_row14_col14, #T_74596_row14_col15, #T_74596_row14_col16, #T_74596_row14_col17, #T_74596_row14_col21, #T_74596_row14_col22, #T_74596_row14_col23, #T_74596_row14_col24, #T_74596_row14_col25, #T_74596_row14_col26, #T_74596_row14_col27, #T_74596_row15_col0, #T_74596_row15_col1, #T_74596_row15_col2, #T_74596_row15_col3, #T_74596_row15_col4, #T_74596_row15_col5, #T_74596_row15_col6, #T_74596_row15_col7, #T_74596_row15_col8, #T_74596_row15_col11, #T_74596_row15_col12, #T_74596_row15_col13, #T_74596_row15_col14, #T_74596_row15_col15, #T_74596_row15_col16, #T_74596_row15_col17, #T_74596_row15_col21, #T_74596_row15_col22, #T_74596_row15_col23, #T_74596_row15_col24, #T_74596_row15_col25, #T_74596_row15_col26, #T_74596_row15_col27, #T_74596_row16_col0, #T_74596_row16_col1, #T_74596_row16_col2, #T_74596_row16_col3, #T_74596_row16_col4, #T_74596_row16_col5, #T_74596_row16_col6, #T_74596_row16_col7, #T_74596_row16_col8, #T_74596_row16_col11, #T_74596_row16_col12, #T_74596_row16_col13, #T_74596_row16_col14, #T_74596_row16_col15, #T_74596_row16_col16, #T_74596_row16_col17, #T_74596_row16_col22, #T_74596_row16_col23, #T_74596_row16_col24, #T_74596_row16_col25, #T_74596_row16_col26, #T_74596_row16_col27, #T_74596_row17_col0, #T_74596_row17_col1, #T_74596_row17_col2, #T_74596_row17_col3, #T_74596_row17_col4, #T_74596_row17_col5, #T_74596_row17_col6, #T_74596_row17_col7, #T_74596_row17_col8, #T_74596_row17_col12, #T_74596_row17_col13, #T_74596_row17_col22, #T_74596_row17_col23, #T_74596_row17_col24, #T_74596_row17_col25, #T_74596_row17_col26, #T_74596_row17_col27, #T_74596_row18_col0, #T_74596_row18_col1, #T_74596_row18_col2, #T_74596_row18_col3, #T_74596_row18_col4, #T_74596_row18_col5, #T_74596_row18_col6, #T_74596_row18_col7, #T_74596_row18_col8, #T_74596_row18_col22, #T_74596_row18_col23, #T_74596_row18_col24, #T_74596_row18_col25, #T_74596_row18_col26, #T_74596_row18_col27, #T_74596_row19_col0, #T_74596_row19_col1, #T_74596_row19_col2, #T_74596_row19_col3, #T_74596_row19_col4, #T_74596_row19_col5, #T_74596_row19_col6, #T_74596_row19_col7, #T_74596_row19_col8, #T_74596_row19_col16, #T_74596_row19_col17, #T_74596_row19_col18, #T_74596_row19_col22, #T_74596_row19_col23, #T_74596_row19_col24, #T_74596_row19_col25, #T_74596_row19_col26, #T_74596_row19_col27, #T_74596_row20_col0, #T_74596_row20_col1, #T_74596_row20_col2, #T_74596_row20_col3, #T_74596_row20_col4, #T_74596_row20_col5, #T_74596_row20_col6, #T_74596_row20_col7, #T_74596_row20_col8, #T_74596_row20_col9, #T_74596_row20_col10, #T_74596_row20_col11, #T_74596_row20_col12, #T_74596_row20_col13, #T_74596_row20_col14, #T_74596_row20_col15, #T_74596_row20_col16, #T_74596_row20_col17, #T_74596_row20_col18, #T_74596_row20_col22, #T_74596_row20_col23, #T_74596_row20_col24, #T_74596_row20_col25, #T_74596_row20_col26, #T_74596_row20_col27, #T_74596_row21_col0, #T_74596_row21_col1, #T_74596_row21_col2, #T_74596_row21_col3, #T_74596_row21_col4, #T_74596_row21_col5, #T_74596_row21_col6, #T_74596_row21_col7, #T_74596_row21_col8, #T_74596_row21_col9, #T_74596_row21_col10, #T_74596_row21_col11, #T_74596_row21_col12, #T_74596_row21_col13, #T_74596_row21_col14, #T_74596_row21_col15, #T_74596_row21_col16, #T_74596_row21_col17, #T_74596_row21_col18, #T_74596_row21_col22, #T_74596_row21_col23, #T_74596_row21_col24, #T_74596_row21_col25, #T_74596_row21_col26, #T_74596_row21_col27, #T_74596_row22_col0, #T_74596_row22_col1, #T_74596_row22_col2, #T_74596_row22_col3, #T_74596_row22_col4, #T_74596_row22_col5, #T_74596_row22_col6, #T_74596_row22_col7, #T_74596_row22_col8, #T_74596_row22_col9, #T_74596_row22_col10, #T_74596_row22_col11, #T_74596_row22_col12, #T_74596_row22_col13, #T_74596_row22_col14, #T_74596_row22_col15, #T_74596_row22_col16, #T_74596_row22_col17, #T_74596_row22_col18, #T_74596_row22_col22, #T_74596_row22_col23, #T_74596_row22_col24, #T_74596_row22_col25, #T_74596_row22_col26, #T_74596_row22_col27, #T_74596_row23_col0, #T_74596_row23_col1, #T_74596_row23_col2, #T_74596_row23_col3, #T_74596_row23_col4, #T_74596_row23_col5, #T_74596_row23_col6, #T_74596_row23_col7, #T_74596_row23_col8, #T_74596_row23_col9, #T_74596_row23_col10, #T_74596_row23_col11, #T_74596_row23_col12, #T_74596_row23_col13, #T_74596_row23_col14, #T_74596_row23_col15, #T_74596_row23_col16, #T_74596_row23_col17, #T_74596_row23_col18, #T_74596_row23_col19, #T_74596_row23_col22, #T_74596_row23_col23, #T_74596_row23_col24, #T_74596_row23_col25, #T_74596_row23_col26, #T_74596_row23_col27, #T_74596_row24_col0, #T_74596_row24_col1, #T_74596_row24_col2, #T_74596_row24_col3, #T_74596_row24_col4, #T_74596_row24_col5, #T_74596_row24_col6, #T_74596_row24_col7, #T_74596_row24_col8, #T_74596_row24_col9, #T_74596_row24_col10, #T_74596_row24_col11, #T_74596_row24_col12, #T_74596_row24_col13, #T_74596_row24_col14, #T_74596_row24_col15, #T_74596_row24_col16, #T_74596_row24_col17, #T_74596_row24_col18, #T_74596_row24_col22, #T_74596_row24_col23, #T_74596_row24_col24, #T_74596_row24_col25, #T_74596_row24_col26, #T_74596_row24_col27, #T_74596_row25_col0, #T_74596_row25_col1, #T_74596_row25_col2, #T_74596_row25_col3, #T_74596_row25_col4, #T_74596_row25_col5, #T_74596_row25_col6, #T_74596_row25_col7, #T_74596_row25_col8, #T_74596_row25_col9, #T_74596_row25_col10, #T_74596_row25_col11, #T_74596_row25_col12, #T_74596_row25_col13, #T_74596_row25_col14, #T_74596_row25_col15, #T_74596_row25_col16, #T_74596_row25_col17, #T_74596_row25_col18, #T_74596_row25_col19, #T_74596_row25_col20, #T_74596_row25_col21, #T_74596_row25_col22, #T_74596_row25_col23, #T_74596_row25_col24, #T_74596_row25_col25, #T_74596_row25_col26, #T_74596_row25_col27, #T_74596_row26_col0, #T_74596_row26_col1, #T_74596_row26_col2, #T_74596_row26_col3, #T_74596_row26_col4, #T_74596_row26_col5, #T_74596_row26_col6, #T_74596_row26_col7, #T_74596_row26_col8, #T_74596_row26_col9, #T_74596_row26_col10, #T_74596_row26_col11, #T_74596_row26_col12, #T_74596_row26_col13, #T_74596_row26_col14, #T_74596_row26_col15, #T_74596_row26_col16, #T_74596_row26_col17, #T_74596_row26_col18, #T_74596_row26_col19, #T_74596_row26_col20, #T_74596_row26_col21, #T_74596_row26_col22, #T_74596_row26_col23, #T_74596_row26_col24, #T_74596_row26_col25, #T_74596_row26_col26, #T_74596_row26_col27, #T_74596_row27_col0, #T_74596_row27_col1, #T_74596_row27_col2, #T_74596_row27_col3, #T_74596_row27_col4, #T_74596_row27_col5, #T_74596_row27_col6, #T_74596_row27_col7, #T_74596_row27_col8, #T_74596_row27_col9, #T_74596_row27_col10, #T_74596_row27_col11, #T_74596_row27_col12, #T_74596_row27_col13, #T_74596_row27_col14, #T_74596_row27_col15, #T_74596_row27_col16, #T_74596_row27_col17, #T_74596_row27_col18, #T_74596_row27_col19, #T_74596_row27_col20, #T_74596_row27_col21, #T_74596_row27_col22, #T_74596_row27_col23, #T_74596_row27_col24, #T_74596_row27_col25, #T_74596_row27_col26, #T_74596_row27_col27 {\n",
       "  background-color: #ffffff;\n",
       "  color: #000000;\n",
       "}\n",
       "#T_74596_row5_col6, #T_74596_row6_col7, #T_74596_row7_col18, #T_74596_row8_col18, #T_74596_row9_col8, #T_74596_row10_col8, #T_74596_row11_col8, #T_74596_row14_col9, #T_74596_row14_col19, #T_74596_row17_col17, #T_74596_row17_col20, #T_74596_row18_col10, #T_74596_row18_col13, #T_74596_row18_col14, #T_74596_row18_col15, #T_74596_row18_col16, #T_74596_row18_col20, #T_74596_row19_col11, #T_74596_row19_col12, #T_74596_row19_col20, #T_74596_row20_col20, #T_74596_row21_col20, #T_74596_row23_col21 {\n",
       "  background-color: #000000;\n",
       "  color: #f1f1f1;\n",
       "}\n",
       "#T_74596_row5_col7, #T_74596_row15_col10 {\n",
       "  background-color: #585858;\n",
       "  color: #f1f1f1;\n",
       "}\n",
       "#T_74596_row5_col8, #T_74596_row8_col9, #T_74596_row24_col19 {\n",
       "  background-color: #fcfcfc;\n",
       "  color: #000000;\n",
       "}\n",
       "#T_74596_row5_col17 {\n",
       "  background-color: #fafafa;\n",
       "  color: #000000;\n",
       "}\n",
       "#T_74596_row5_col18 {\n",
       "  background-color: #cdcdcd;\n",
       "  color: #000000;\n",
       "}\n",
       "#T_74596_row6_col6 {\n",
       "  background-color: #f0f0f0;\n",
       "  color: #000000;\n",
       "}\n",
       "#T_74596_row6_col8, #T_74596_row16_col21, #T_74596_row20_col19, #T_74596_row21_col19 {\n",
       "  background-color: #f7f7f7;\n",
       "  color: #000000;\n",
       "}\n",
       "#T_74596_row6_col17, #T_74596_row7_col17, #T_74596_row8_col17 {\n",
       "  background-color: #eeeeee;\n",
       "  color: #000000;\n",
       "}\n",
       "#T_74596_row6_col18 {\n",
       "  background-color: #414141;\n",
       "  color: #f1f1f1;\n",
       "}\n",
       "#T_74596_row7_col7 {\n",
       "  background-color: #060606;\n",
       "  color: #f1f1f1;\n",
       "}\n",
       "#T_74596_row7_col8, #T_74596_row13_col9 {\n",
       "  background-color: #777777;\n",
       "  color: #f1f1f1;\n",
       "}\n",
       "#T_74596_row7_col19, #T_74596_row18_col9 {\n",
       "  background-color: #dadada;\n",
       "  color: #000000;\n",
       "}\n",
       "#T_74596_row8_col7 {\n",
       "  background-color: #6d6d6d;\n",
       "  color: #f1f1f1;\n",
       "}\n",
       "#T_74596_row8_col8 {\n",
       "  background-color: #3a3a3a;\n",
       "  color: #f1f1f1;\n",
       "}\n",
       "#T_74596_row8_col19, #T_74596_row9_col19, #T_74596_row10_col19 {\n",
       "  background-color: #d8d8d8;\n",
       "  color: #000000;\n",
       "}\n",
       "#T_74596_row9_col7 {\n",
       "  background-color: #929292;\n",
       "  color: #f1f1f1;\n",
       "}\n",
       "#T_74596_row9_col9, #T_74596_row10_col9, #T_74596_row11_col9, #T_74596_row12_col9 {\n",
       "  background-color: #f5f5f5;\n",
       "  color: #000000;\n",
       "}\n",
       "#T_74596_row9_col17 {\n",
       "  background-color: #f3f3f3;\n",
       "  color: #000000;\n",
       "}\n",
       "#T_74596_row9_col18, #T_74596_row13_col19 {\n",
       "  background-color: #111111;\n",
       "  color: #f1f1f1;\n",
       "}\n",
       "#T_74596_row10_col7 {\n",
       "  background-color: #cccccc;\n",
       "  color: #000000;\n",
       "}\n",
       "#T_74596_row10_col18, #T_74596_row11_col18, #T_74596_row12_col18 {\n",
       "  background-color: #4b4b4b;\n",
       "  color: #f1f1f1;\n",
       "}\n",
       "#T_74596_row11_col7 {\n",
       "  background-color: #d2d2d2;\n",
       "  color: #000000;\n",
       "}\n",
       "#T_74596_row11_col19 {\n",
       "  background-color: #868686;\n",
       "  color: #f1f1f1;\n",
       "}\n",
       "#T_74596_row12_col7 {\n",
       "  background-color: #dddddd;\n",
       "  color: #000000;\n",
       "}\n",
       "#T_74596_row12_col8 {\n",
       "  background-color: #030303;\n",
       "  color: #f1f1f1;\n",
       "}\n",
       "#T_74596_row12_col19 {\n",
       "  background-color: #212121;\n",
       "  color: #f1f1f1;\n",
       "}\n",
       "#T_74596_row13_col8 {\n",
       "  background-color: #252525;\n",
       "  color: #f1f1f1;\n",
       "}\n",
       "#T_74596_row13_col10, #T_74596_row17_col11, #T_74596_row22_col19 {\n",
       "  background-color: #fdfdfd;\n",
       "  color: #000000;\n",
       "}\n",
       "#T_74596_row13_col18 {\n",
       "  background-color: #9f9f9f;\n",
       "  color: #f1f1f1;\n",
       "}\n",
       "#T_74596_row13_col20 {\n",
       "  background-color: #f9f9f9;\n",
       "  color: #000000;\n",
       "}\n",
       "#T_74596_row14_col8 {\n",
       "  background-color: #d6d6d6;\n",
       "  color: #000000;\n",
       "}\n",
       "#T_74596_row14_col10 {\n",
       "  background-color: #eaeaea;\n",
       "  color: #000000;\n",
       "}\n",
       "#T_74596_row14_col18, #T_74596_row18_col17 {\n",
       "  background-color: #bebebe;\n",
       "  color: #000000;\n",
       "}\n",
       "#T_74596_row14_col20, #T_74596_row15_col20 {\n",
       "  background-color: #d4d4d4;\n",
       "  color: #000000;\n",
       "}\n",
       "#T_74596_row15_col9, #T_74596_row16_col9 {\n",
       "  background-color: #141414;\n",
       "  color: #f1f1f1;\n",
       "}\n",
       "#T_74596_row15_col18 {\n",
       "  background-color: #f6f6f6;\n",
       "  color: #000000;\n",
       "}\n",
       "#T_74596_row15_col19 {\n",
       "  background-color: #0c0c0c;\n",
       "  color: #f1f1f1;\n",
       "}\n",
       "#T_74596_row16_col10, #T_74596_row22_col21 {\n",
       "  background-color: #686868;\n",
       "  color: #f1f1f1;\n",
       "}\n",
       "#T_74596_row16_col18 {\n",
       "  background-color: #fefefe;\n",
       "  color: #000000;\n",
       "}\n",
       "#T_74596_row16_col19 {\n",
       "  background-color: #474747;\n",
       "  color: #f1f1f1;\n",
       "}\n",
       "#T_74596_row16_col20 {\n",
       "  background-color: #5b5b5b;\n",
       "  color: #f1f1f1;\n",
       "}\n",
       "#T_74596_row17_col9 {\n",
       "  background-color: #767676;\n",
       "  color: #f1f1f1;\n",
       "}\n",
       "#T_74596_row17_col10 {\n",
       "  background-color: #3d3d3d;\n",
       "  color: #f1f1f1;\n",
       "}\n",
       "#T_74596_row17_col14 {\n",
       "  background-color: #f2f2f2;\n",
       "  color: #000000;\n",
       "}\n",
       "#T_74596_row17_col15 {\n",
       "  background-color: #d1d1d1;\n",
       "  color: #000000;\n",
       "}\n",
       "#T_74596_row17_col16 {\n",
       "  background-color: #656565;\n",
       "  color: #f1f1f1;\n",
       "}\n",
       "#T_74596_row17_col18 {\n",
       "  background-color: #393939;\n",
       "  color: #f1f1f1;\n",
       "}\n",
       "#T_74596_row17_col19 {\n",
       "  background-color: #010101;\n",
       "  color: #f1f1f1;\n",
       "}\n",
       "#T_74596_row17_col21, #T_74596_row24_col20 {\n",
       "  background-color: #383838;\n",
       "  color: #f1f1f1;\n",
       "}\n",
       "#T_74596_row18_col11 {\n",
       "  background-color: #878787;\n",
       "  color: #f1f1f1;\n",
       "}\n",
       "#T_74596_row18_col12 {\n",
       "  background-color: #9a9a9a;\n",
       "  color: #f1f1f1;\n",
       "}\n",
       "#T_74596_row18_col18 {\n",
       "  background-color: #dfdfdf;\n",
       "  color: #000000;\n",
       "}\n",
       "#T_74596_row18_col19 {\n",
       "  background-color: #8d8d8d;\n",
       "  color: #f1f1f1;\n",
       "}\n",
       "#T_74596_row18_col21, #T_74596_row19_col21, #T_74596_row20_col21, #T_74596_row21_col21 {\n",
       "  background-color: #a3a3a3;\n",
       "  color: #f1f1f1;\n",
       "}\n",
       "#T_74596_row19_col9 {\n",
       "  background-color: #f8f8f8;\n",
       "  color: #000000;\n",
       "}\n",
       "#T_74596_row19_col10 {\n",
       "  background-color: #2e2e2e;\n",
       "  color: #f1f1f1;\n",
       "}\n",
       "#T_74596_row19_col13 {\n",
       "  background-color: #2c2c2c;\n",
       "  color: #f1f1f1;\n",
       "}\n",
       "#T_74596_row19_col14 {\n",
       "  background-color: #aeaeae;\n",
       "  color: #000000;\n",
       "}\n",
       "#T_74596_row19_col15 {\n",
       "  background-color: #e1e1e1;\n",
       "  color: #000000;\n",
       "}\n",
       "#T_74596_row19_col19 {\n",
       "  background-color: #ececec;\n",
       "  color: #000000;\n",
       "}\n",
       "#T_74596_row22_col20 {\n",
       "  background-color: #3c3c3c;\n",
       "  color: #f1f1f1;\n",
       "}\n",
       "#T_74596_row23_col20 {\n",
       "  background-color: #565656;\n",
       "  color: #f1f1f1;\n",
       "}\n",
       "#T_74596_row24_col21 {\n",
       "  background-color: #707070;\n",
       "  color: #f1f1f1;\n",
       "}\n",
       "</style>\n",
       "<table id=\"T_74596\">\n",
       "  <thead>\n",
       "    <tr>\n",
       "      <th class=\"blank level0\" >&nbsp;</th>\n",
       "      <th id=\"T_74596_level0_col0\" class=\"col_heading level0 col0\" >0</th>\n",
       "      <th id=\"T_74596_level0_col1\" class=\"col_heading level0 col1\" >1</th>\n",
       "      <th id=\"T_74596_level0_col2\" class=\"col_heading level0 col2\" >2</th>\n",
       "      <th id=\"T_74596_level0_col3\" class=\"col_heading level0 col3\" >3</th>\n",
       "      <th id=\"T_74596_level0_col4\" class=\"col_heading level0 col4\" >4</th>\n",
       "      <th id=\"T_74596_level0_col5\" class=\"col_heading level0 col5\" >5</th>\n",
       "      <th id=\"T_74596_level0_col6\" class=\"col_heading level0 col6\" >6</th>\n",
       "      <th id=\"T_74596_level0_col7\" class=\"col_heading level0 col7\" >7</th>\n",
       "      <th id=\"T_74596_level0_col8\" class=\"col_heading level0 col8\" >8</th>\n",
       "      <th id=\"T_74596_level0_col9\" class=\"col_heading level0 col9\" >9</th>\n",
       "      <th id=\"T_74596_level0_col10\" class=\"col_heading level0 col10\" >10</th>\n",
       "      <th id=\"T_74596_level0_col11\" class=\"col_heading level0 col11\" >11</th>\n",
       "      <th id=\"T_74596_level0_col12\" class=\"col_heading level0 col12\" >12</th>\n",
       "      <th id=\"T_74596_level0_col13\" class=\"col_heading level0 col13\" >13</th>\n",
       "      <th id=\"T_74596_level0_col14\" class=\"col_heading level0 col14\" >14</th>\n",
       "      <th id=\"T_74596_level0_col15\" class=\"col_heading level0 col15\" >15</th>\n",
       "      <th id=\"T_74596_level0_col16\" class=\"col_heading level0 col16\" >16</th>\n",
       "      <th id=\"T_74596_level0_col17\" class=\"col_heading level0 col17\" >17</th>\n",
       "      <th id=\"T_74596_level0_col18\" class=\"col_heading level0 col18\" >18</th>\n",
       "      <th id=\"T_74596_level0_col19\" class=\"col_heading level0 col19\" >19</th>\n",
       "      <th id=\"T_74596_level0_col20\" class=\"col_heading level0 col20\" >20</th>\n",
       "      <th id=\"T_74596_level0_col21\" class=\"col_heading level0 col21\" >21</th>\n",
       "      <th id=\"T_74596_level0_col22\" class=\"col_heading level0 col22\" >22</th>\n",
       "      <th id=\"T_74596_level0_col23\" class=\"col_heading level0 col23\" >23</th>\n",
       "      <th id=\"T_74596_level0_col24\" class=\"col_heading level0 col24\" >24</th>\n",
       "      <th id=\"T_74596_level0_col25\" class=\"col_heading level0 col25\" >25</th>\n",
       "      <th id=\"T_74596_level0_col26\" class=\"col_heading level0 col26\" >26</th>\n",
       "      <th id=\"T_74596_level0_col27\" class=\"col_heading level0 col27\" >27</th>\n",
       "    </tr>\n",
       "  </thead>\n",
       "  <tbody>\n",
       "    <tr>\n",
       "      <th id=\"T_74596_level0_row0\" class=\"row_heading level0 row0\" >0</th>\n",
       "      <td id=\"T_74596_row0_col0\" class=\"data row0 col0\" >0</td>\n",
       "      <td id=\"T_74596_row0_col1\" class=\"data row0 col1\" >0</td>\n",
       "      <td id=\"T_74596_row0_col2\" class=\"data row0 col2\" >0</td>\n",
       "      <td id=\"T_74596_row0_col3\" class=\"data row0 col3\" >0</td>\n",
       "      <td id=\"T_74596_row0_col4\" class=\"data row0 col4\" >0</td>\n",
       "      <td id=\"T_74596_row0_col5\" class=\"data row0 col5\" >0</td>\n",
       "      <td id=\"T_74596_row0_col6\" class=\"data row0 col6\" >0</td>\n",
       "      <td id=\"T_74596_row0_col7\" class=\"data row0 col7\" >0</td>\n",
       "      <td id=\"T_74596_row0_col8\" class=\"data row0 col8\" >0</td>\n",
       "      <td id=\"T_74596_row0_col9\" class=\"data row0 col9\" >0</td>\n",
       "      <td id=\"T_74596_row0_col10\" class=\"data row0 col10\" >0</td>\n",
       "      <td id=\"T_74596_row0_col11\" class=\"data row0 col11\" >0</td>\n",
       "      <td id=\"T_74596_row0_col12\" class=\"data row0 col12\" >0</td>\n",
       "      <td id=\"T_74596_row0_col13\" class=\"data row0 col13\" >0</td>\n",
       "      <td id=\"T_74596_row0_col14\" class=\"data row0 col14\" >0</td>\n",
       "      <td id=\"T_74596_row0_col15\" class=\"data row0 col15\" >0</td>\n",
       "      <td id=\"T_74596_row0_col16\" class=\"data row0 col16\" >0</td>\n",
       "      <td id=\"T_74596_row0_col17\" class=\"data row0 col17\" >0</td>\n",
       "      <td id=\"T_74596_row0_col18\" class=\"data row0 col18\" >0</td>\n",
       "      <td id=\"T_74596_row0_col19\" class=\"data row0 col19\" >0</td>\n",
       "      <td id=\"T_74596_row0_col20\" class=\"data row0 col20\" >0</td>\n",
       "      <td id=\"T_74596_row0_col21\" class=\"data row0 col21\" >0</td>\n",
       "      <td id=\"T_74596_row0_col22\" class=\"data row0 col22\" >0</td>\n",
       "      <td id=\"T_74596_row0_col23\" class=\"data row0 col23\" >0</td>\n",
       "      <td id=\"T_74596_row0_col24\" class=\"data row0 col24\" >0</td>\n",
       "      <td id=\"T_74596_row0_col25\" class=\"data row0 col25\" >0</td>\n",
       "      <td id=\"T_74596_row0_col26\" class=\"data row0 col26\" >0</td>\n",
       "      <td id=\"T_74596_row0_col27\" class=\"data row0 col27\" >0</td>\n",
       "    </tr>\n",
       "    <tr>\n",
       "      <th id=\"T_74596_level0_row1\" class=\"row_heading level0 row1\" >1</th>\n",
       "      <td id=\"T_74596_row1_col0\" class=\"data row1 col0\" >0</td>\n",
       "      <td id=\"T_74596_row1_col1\" class=\"data row1 col1\" >0</td>\n",
       "      <td id=\"T_74596_row1_col2\" class=\"data row1 col2\" >0</td>\n",
       "      <td id=\"T_74596_row1_col3\" class=\"data row1 col3\" >0</td>\n",
       "      <td id=\"T_74596_row1_col4\" class=\"data row1 col4\" >0</td>\n",
       "      <td id=\"T_74596_row1_col5\" class=\"data row1 col5\" >0</td>\n",
       "      <td id=\"T_74596_row1_col6\" class=\"data row1 col6\" >0</td>\n",
       "      <td id=\"T_74596_row1_col7\" class=\"data row1 col7\" >0</td>\n",
       "      <td id=\"T_74596_row1_col8\" class=\"data row1 col8\" >0</td>\n",
       "      <td id=\"T_74596_row1_col9\" class=\"data row1 col9\" >0</td>\n",
       "      <td id=\"T_74596_row1_col10\" class=\"data row1 col10\" >0</td>\n",
       "      <td id=\"T_74596_row1_col11\" class=\"data row1 col11\" >0</td>\n",
       "      <td id=\"T_74596_row1_col12\" class=\"data row1 col12\" >0</td>\n",
       "      <td id=\"T_74596_row1_col13\" class=\"data row1 col13\" >0</td>\n",
       "      <td id=\"T_74596_row1_col14\" class=\"data row1 col14\" >0</td>\n",
       "      <td id=\"T_74596_row1_col15\" class=\"data row1 col15\" >0</td>\n",
       "      <td id=\"T_74596_row1_col16\" class=\"data row1 col16\" >0</td>\n",
       "      <td id=\"T_74596_row1_col17\" class=\"data row1 col17\" >0</td>\n",
       "      <td id=\"T_74596_row1_col18\" class=\"data row1 col18\" >0</td>\n",
       "      <td id=\"T_74596_row1_col19\" class=\"data row1 col19\" >0</td>\n",
       "      <td id=\"T_74596_row1_col20\" class=\"data row1 col20\" >0</td>\n",
       "      <td id=\"T_74596_row1_col21\" class=\"data row1 col21\" >0</td>\n",
       "      <td id=\"T_74596_row1_col22\" class=\"data row1 col22\" >0</td>\n",
       "      <td id=\"T_74596_row1_col23\" class=\"data row1 col23\" >0</td>\n",
       "      <td id=\"T_74596_row1_col24\" class=\"data row1 col24\" >0</td>\n",
       "      <td id=\"T_74596_row1_col25\" class=\"data row1 col25\" >0</td>\n",
       "      <td id=\"T_74596_row1_col26\" class=\"data row1 col26\" >0</td>\n",
       "      <td id=\"T_74596_row1_col27\" class=\"data row1 col27\" >0</td>\n",
       "    </tr>\n",
       "    <tr>\n",
       "      <th id=\"T_74596_level0_row2\" class=\"row_heading level0 row2\" >2</th>\n",
       "      <td id=\"T_74596_row2_col0\" class=\"data row2 col0\" >0</td>\n",
       "      <td id=\"T_74596_row2_col1\" class=\"data row2 col1\" >0</td>\n",
       "      <td id=\"T_74596_row2_col2\" class=\"data row2 col2\" >0</td>\n",
       "      <td id=\"T_74596_row2_col3\" class=\"data row2 col3\" >0</td>\n",
       "      <td id=\"T_74596_row2_col4\" class=\"data row2 col4\" >0</td>\n",
       "      <td id=\"T_74596_row2_col5\" class=\"data row2 col5\" >0</td>\n",
       "      <td id=\"T_74596_row2_col6\" class=\"data row2 col6\" >0</td>\n",
       "      <td id=\"T_74596_row2_col7\" class=\"data row2 col7\" >0</td>\n",
       "      <td id=\"T_74596_row2_col8\" class=\"data row2 col8\" >0</td>\n",
       "      <td id=\"T_74596_row2_col9\" class=\"data row2 col9\" >0</td>\n",
       "      <td id=\"T_74596_row2_col10\" class=\"data row2 col10\" >0</td>\n",
       "      <td id=\"T_74596_row2_col11\" class=\"data row2 col11\" >0</td>\n",
       "      <td id=\"T_74596_row2_col12\" class=\"data row2 col12\" >0</td>\n",
       "      <td id=\"T_74596_row2_col13\" class=\"data row2 col13\" >0</td>\n",
       "      <td id=\"T_74596_row2_col14\" class=\"data row2 col14\" >0</td>\n",
       "      <td id=\"T_74596_row2_col15\" class=\"data row2 col15\" >0</td>\n",
       "      <td id=\"T_74596_row2_col16\" class=\"data row2 col16\" >0</td>\n",
       "      <td id=\"T_74596_row2_col17\" class=\"data row2 col17\" >0</td>\n",
       "      <td id=\"T_74596_row2_col18\" class=\"data row2 col18\" >0</td>\n",
       "      <td id=\"T_74596_row2_col19\" class=\"data row2 col19\" >0</td>\n",
       "      <td id=\"T_74596_row2_col20\" class=\"data row2 col20\" >0</td>\n",
       "      <td id=\"T_74596_row2_col21\" class=\"data row2 col21\" >0</td>\n",
       "      <td id=\"T_74596_row2_col22\" class=\"data row2 col22\" >0</td>\n",
       "      <td id=\"T_74596_row2_col23\" class=\"data row2 col23\" >0</td>\n",
       "      <td id=\"T_74596_row2_col24\" class=\"data row2 col24\" >0</td>\n",
       "      <td id=\"T_74596_row2_col25\" class=\"data row2 col25\" >0</td>\n",
       "      <td id=\"T_74596_row2_col26\" class=\"data row2 col26\" >0</td>\n",
       "      <td id=\"T_74596_row2_col27\" class=\"data row2 col27\" >0</td>\n",
       "    </tr>\n",
       "    <tr>\n",
       "      <th id=\"T_74596_level0_row3\" class=\"row_heading level0 row3\" >3</th>\n",
       "      <td id=\"T_74596_row3_col0\" class=\"data row3 col0\" >0</td>\n",
       "      <td id=\"T_74596_row3_col1\" class=\"data row3 col1\" >0</td>\n",
       "      <td id=\"T_74596_row3_col2\" class=\"data row3 col2\" >0</td>\n",
       "      <td id=\"T_74596_row3_col3\" class=\"data row3 col3\" >0</td>\n",
       "      <td id=\"T_74596_row3_col4\" class=\"data row3 col4\" >0</td>\n",
       "      <td id=\"T_74596_row3_col5\" class=\"data row3 col5\" >0</td>\n",
       "      <td id=\"T_74596_row3_col6\" class=\"data row3 col6\" >0</td>\n",
       "      <td id=\"T_74596_row3_col7\" class=\"data row3 col7\" >0</td>\n",
       "      <td id=\"T_74596_row3_col8\" class=\"data row3 col8\" >0</td>\n",
       "      <td id=\"T_74596_row3_col9\" class=\"data row3 col9\" >0</td>\n",
       "      <td id=\"T_74596_row3_col10\" class=\"data row3 col10\" >0</td>\n",
       "      <td id=\"T_74596_row3_col11\" class=\"data row3 col11\" >0</td>\n",
       "      <td id=\"T_74596_row3_col12\" class=\"data row3 col12\" >0</td>\n",
       "      <td id=\"T_74596_row3_col13\" class=\"data row3 col13\" >0</td>\n",
       "      <td id=\"T_74596_row3_col14\" class=\"data row3 col14\" >0</td>\n",
       "      <td id=\"T_74596_row3_col15\" class=\"data row3 col15\" >0</td>\n",
       "      <td id=\"T_74596_row3_col16\" class=\"data row3 col16\" >0</td>\n",
       "      <td id=\"T_74596_row3_col17\" class=\"data row3 col17\" >0</td>\n",
       "      <td id=\"T_74596_row3_col18\" class=\"data row3 col18\" >0</td>\n",
       "      <td id=\"T_74596_row3_col19\" class=\"data row3 col19\" >0</td>\n",
       "      <td id=\"T_74596_row3_col20\" class=\"data row3 col20\" >0</td>\n",
       "      <td id=\"T_74596_row3_col21\" class=\"data row3 col21\" >0</td>\n",
       "      <td id=\"T_74596_row3_col22\" class=\"data row3 col22\" >0</td>\n",
       "      <td id=\"T_74596_row3_col23\" class=\"data row3 col23\" >0</td>\n",
       "      <td id=\"T_74596_row3_col24\" class=\"data row3 col24\" >0</td>\n",
       "      <td id=\"T_74596_row3_col25\" class=\"data row3 col25\" >0</td>\n",
       "      <td id=\"T_74596_row3_col26\" class=\"data row3 col26\" >0</td>\n",
       "      <td id=\"T_74596_row3_col27\" class=\"data row3 col27\" >0</td>\n",
       "    </tr>\n",
       "    <tr>\n",
       "      <th id=\"T_74596_level0_row4\" class=\"row_heading level0 row4\" >4</th>\n",
       "      <td id=\"T_74596_row4_col0\" class=\"data row4 col0\" >0</td>\n",
       "      <td id=\"T_74596_row4_col1\" class=\"data row4 col1\" >0</td>\n",
       "      <td id=\"T_74596_row4_col2\" class=\"data row4 col2\" >0</td>\n",
       "      <td id=\"T_74596_row4_col3\" class=\"data row4 col3\" >0</td>\n",
       "      <td id=\"T_74596_row4_col4\" class=\"data row4 col4\" >0</td>\n",
       "      <td id=\"T_74596_row4_col5\" class=\"data row4 col5\" >0</td>\n",
       "      <td id=\"T_74596_row4_col6\" class=\"data row4 col6\" >0</td>\n",
       "      <td id=\"T_74596_row4_col7\" class=\"data row4 col7\" >0</td>\n",
       "      <td id=\"T_74596_row4_col8\" class=\"data row4 col8\" >0</td>\n",
       "      <td id=\"T_74596_row4_col9\" class=\"data row4 col9\" >0</td>\n",
       "      <td id=\"T_74596_row4_col10\" class=\"data row4 col10\" >0</td>\n",
       "      <td id=\"T_74596_row4_col11\" class=\"data row4 col11\" >0</td>\n",
       "      <td id=\"T_74596_row4_col12\" class=\"data row4 col12\" >0</td>\n",
       "      <td id=\"T_74596_row4_col13\" class=\"data row4 col13\" >0</td>\n",
       "      <td id=\"T_74596_row4_col14\" class=\"data row4 col14\" >0</td>\n",
       "      <td id=\"T_74596_row4_col15\" class=\"data row4 col15\" >0</td>\n",
       "      <td id=\"T_74596_row4_col16\" class=\"data row4 col16\" >0</td>\n",
       "      <td id=\"T_74596_row4_col17\" class=\"data row4 col17\" >0</td>\n",
       "      <td id=\"T_74596_row4_col18\" class=\"data row4 col18\" >0</td>\n",
       "      <td id=\"T_74596_row4_col19\" class=\"data row4 col19\" >0</td>\n",
       "      <td id=\"T_74596_row4_col20\" class=\"data row4 col20\" >0</td>\n",
       "      <td id=\"T_74596_row4_col21\" class=\"data row4 col21\" >0</td>\n",
       "      <td id=\"T_74596_row4_col22\" class=\"data row4 col22\" >0</td>\n",
       "      <td id=\"T_74596_row4_col23\" class=\"data row4 col23\" >0</td>\n",
       "      <td id=\"T_74596_row4_col24\" class=\"data row4 col24\" >0</td>\n",
       "      <td id=\"T_74596_row4_col25\" class=\"data row4 col25\" >0</td>\n",
       "      <td id=\"T_74596_row4_col26\" class=\"data row4 col26\" >0</td>\n",
       "      <td id=\"T_74596_row4_col27\" class=\"data row4 col27\" >0</td>\n",
       "    </tr>\n",
       "    <tr>\n",
       "      <th id=\"T_74596_level0_row5\" class=\"row_heading level0 row5\" >5</th>\n",
       "      <td id=\"T_74596_row5_col0\" class=\"data row5 col0\" >0</td>\n",
       "      <td id=\"T_74596_row5_col1\" class=\"data row5 col1\" >0</td>\n",
       "      <td id=\"T_74596_row5_col2\" class=\"data row5 col2\" >0</td>\n",
       "      <td id=\"T_74596_row5_col3\" class=\"data row5 col3\" >0</td>\n",
       "      <td id=\"T_74596_row5_col4\" class=\"data row5 col4\" >0</td>\n",
       "      <td id=\"T_74596_row5_col5\" class=\"data row5 col5\" >0</td>\n",
       "      <td id=\"T_74596_row5_col6\" class=\"data row5 col6\" >220</td>\n",
       "      <td id=\"T_74596_row5_col7\" class=\"data row5 col7\" >179</td>\n",
       "      <td id=\"T_74596_row5_col8\" class=\"data row5 col8\" >6</td>\n",
       "      <td id=\"T_74596_row5_col9\" class=\"data row5 col9\" >0</td>\n",
       "      <td id=\"T_74596_row5_col10\" class=\"data row5 col10\" >0</td>\n",
       "      <td id=\"T_74596_row5_col11\" class=\"data row5 col11\" >0</td>\n",
       "      <td id=\"T_74596_row5_col12\" class=\"data row5 col12\" >0</td>\n",
       "      <td id=\"T_74596_row5_col13\" class=\"data row5 col13\" >0</td>\n",
       "      <td id=\"T_74596_row5_col14\" class=\"data row5 col14\" >0</td>\n",
       "      <td id=\"T_74596_row5_col15\" class=\"data row5 col15\" >0</td>\n",
       "      <td id=\"T_74596_row5_col16\" class=\"data row5 col16\" >0</td>\n",
       "      <td id=\"T_74596_row5_col17\" class=\"data row5 col17\" >9</td>\n",
       "      <td id=\"T_74596_row5_col18\" class=\"data row5 col18\" >77</td>\n",
       "      <td id=\"T_74596_row5_col19\" class=\"data row5 col19\" >0</td>\n",
       "      <td id=\"T_74596_row5_col20\" class=\"data row5 col20\" >0</td>\n",
       "      <td id=\"T_74596_row5_col21\" class=\"data row5 col21\" >0</td>\n",
       "      <td id=\"T_74596_row5_col22\" class=\"data row5 col22\" >0</td>\n",
       "      <td id=\"T_74596_row5_col23\" class=\"data row5 col23\" >0</td>\n",
       "      <td id=\"T_74596_row5_col24\" class=\"data row5 col24\" >0</td>\n",
       "      <td id=\"T_74596_row5_col25\" class=\"data row5 col25\" >0</td>\n",
       "      <td id=\"T_74596_row5_col26\" class=\"data row5 col26\" >0</td>\n",
       "      <td id=\"T_74596_row5_col27\" class=\"data row5 col27\" >0</td>\n",
       "    </tr>\n",
       "    <tr>\n",
       "      <th id=\"T_74596_level0_row6\" class=\"row_heading level0 row6\" >6</th>\n",
       "      <td id=\"T_74596_row6_col0\" class=\"data row6 col0\" >0</td>\n",
       "      <td id=\"T_74596_row6_col1\" class=\"data row6 col1\" >0</td>\n",
       "      <td id=\"T_74596_row6_col2\" class=\"data row6 col2\" >0</td>\n",
       "      <td id=\"T_74596_row6_col3\" class=\"data row6 col3\" >0</td>\n",
       "      <td id=\"T_74596_row6_col4\" class=\"data row6 col4\" >0</td>\n",
       "      <td id=\"T_74596_row6_col5\" class=\"data row6 col5\" >0</td>\n",
       "      <td id=\"T_74596_row6_col6\" class=\"data row6 col6\" >28</td>\n",
       "      <td id=\"T_74596_row6_col7\" class=\"data row6 col7\" >247</td>\n",
       "      <td id=\"T_74596_row6_col8\" class=\"data row6 col8\" >17</td>\n",
       "      <td id=\"T_74596_row6_col9\" class=\"data row6 col9\" >0</td>\n",
       "      <td id=\"T_74596_row6_col10\" class=\"data row6 col10\" >0</td>\n",
       "      <td id=\"T_74596_row6_col11\" class=\"data row6 col11\" >0</td>\n",
       "      <td id=\"T_74596_row6_col12\" class=\"data row6 col12\" >0</td>\n",
       "      <td id=\"T_74596_row6_col13\" class=\"data row6 col13\" >0</td>\n",
       "      <td id=\"T_74596_row6_col14\" class=\"data row6 col14\" >0</td>\n",
       "      <td id=\"T_74596_row6_col15\" class=\"data row6 col15\" >0</td>\n",
       "      <td id=\"T_74596_row6_col16\" class=\"data row6 col16\" >0</td>\n",
       "      <td id=\"T_74596_row6_col17\" class=\"data row6 col17\" >27</td>\n",
       "      <td id=\"T_74596_row6_col18\" class=\"data row6 col18\" >202</td>\n",
       "      <td id=\"T_74596_row6_col19\" class=\"data row6 col19\" >0</td>\n",
       "      <td id=\"T_74596_row6_col20\" class=\"data row6 col20\" >0</td>\n",
       "      <td id=\"T_74596_row6_col21\" class=\"data row6 col21\" >0</td>\n",
       "      <td id=\"T_74596_row6_col22\" class=\"data row6 col22\" >0</td>\n",
       "      <td id=\"T_74596_row6_col23\" class=\"data row6 col23\" >0</td>\n",
       "      <td id=\"T_74596_row6_col24\" class=\"data row6 col24\" >0</td>\n",
       "      <td id=\"T_74596_row6_col25\" class=\"data row6 col25\" >0</td>\n",
       "      <td id=\"T_74596_row6_col26\" class=\"data row6 col26\" >0</td>\n",
       "      <td id=\"T_74596_row6_col27\" class=\"data row6 col27\" >0</td>\n",
       "    </tr>\n",
       "    <tr>\n",
       "      <th id=\"T_74596_level0_row7\" class=\"row_heading level0 row7\" >7</th>\n",
       "      <td id=\"T_74596_row7_col0\" class=\"data row7 col0\" >0</td>\n",
       "      <td id=\"T_74596_row7_col1\" class=\"data row7 col1\" >0</td>\n",
       "      <td id=\"T_74596_row7_col2\" class=\"data row7 col2\" >0</td>\n",
       "      <td id=\"T_74596_row7_col3\" class=\"data row7 col3\" >0</td>\n",
       "      <td id=\"T_74596_row7_col4\" class=\"data row7 col4\" >0</td>\n",
       "      <td id=\"T_74596_row7_col5\" class=\"data row7 col5\" >0</td>\n",
       "      <td id=\"T_74596_row7_col6\" class=\"data row7 col6\" >0</td>\n",
       "      <td id=\"T_74596_row7_col7\" class=\"data row7 col7\" >242</td>\n",
       "      <td id=\"T_74596_row7_col8\" class=\"data row7 col8\" >155</td>\n",
       "      <td id=\"T_74596_row7_col9\" class=\"data row7 col9\" >0</td>\n",
       "      <td id=\"T_74596_row7_col10\" class=\"data row7 col10\" >0</td>\n",
       "      <td id=\"T_74596_row7_col11\" class=\"data row7 col11\" >0</td>\n",
       "      <td id=\"T_74596_row7_col12\" class=\"data row7 col12\" >0</td>\n",
       "      <td id=\"T_74596_row7_col13\" class=\"data row7 col13\" >0</td>\n",
       "      <td id=\"T_74596_row7_col14\" class=\"data row7 col14\" >0</td>\n",
       "      <td id=\"T_74596_row7_col15\" class=\"data row7 col15\" >0</td>\n",
       "      <td id=\"T_74596_row7_col16\" class=\"data row7 col16\" >0</td>\n",
       "      <td id=\"T_74596_row7_col17\" class=\"data row7 col17\" >27</td>\n",
       "      <td id=\"T_74596_row7_col18\" class=\"data row7 col18\" >254</td>\n",
       "      <td id=\"T_74596_row7_col19\" class=\"data row7 col19\" >63</td>\n",
       "      <td id=\"T_74596_row7_col20\" class=\"data row7 col20\" >0</td>\n",
       "      <td id=\"T_74596_row7_col21\" class=\"data row7 col21\" >0</td>\n",
       "      <td id=\"T_74596_row7_col22\" class=\"data row7 col22\" >0</td>\n",
       "      <td id=\"T_74596_row7_col23\" class=\"data row7 col23\" >0</td>\n",
       "      <td id=\"T_74596_row7_col24\" class=\"data row7 col24\" >0</td>\n",
       "      <td id=\"T_74596_row7_col25\" class=\"data row7 col25\" >0</td>\n",
       "      <td id=\"T_74596_row7_col26\" class=\"data row7 col26\" >0</td>\n",
       "      <td id=\"T_74596_row7_col27\" class=\"data row7 col27\" >0</td>\n",
       "    </tr>\n",
       "    <tr>\n",
       "      <th id=\"T_74596_level0_row8\" class=\"row_heading level0 row8\" >8</th>\n",
       "      <td id=\"T_74596_row8_col0\" class=\"data row8 col0\" >0</td>\n",
       "      <td id=\"T_74596_row8_col1\" class=\"data row8 col1\" >0</td>\n",
       "      <td id=\"T_74596_row8_col2\" class=\"data row8 col2\" >0</td>\n",
       "      <td id=\"T_74596_row8_col3\" class=\"data row8 col3\" >0</td>\n",
       "      <td id=\"T_74596_row8_col4\" class=\"data row8 col4\" >0</td>\n",
       "      <td id=\"T_74596_row8_col5\" class=\"data row8 col5\" >0</td>\n",
       "      <td id=\"T_74596_row8_col6\" class=\"data row8 col6\" >0</td>\n",
       "      <td id=\"T_74596_row8_col7\" class=\"data row8 col7\" >160</td>\n",
       "      <td id=\"T_74596_row8_col8\" class=\"data row8 col8\" >207</td>\n",
       "      <td id=\"T_74596_row8_col9\" class=\"data row8 col9\" >6</td>\n",
       "      <td id=\"T_74596_row8_col10\" class=\"data row8 col10\" >0</td>\n",
       "      <td id=\"T_74596_row8_col11\" class=\"data row8 col11\" >0</td>\n",
       "      <td id=\"T_74596_row8_col12\" class=\"data row8 col12\" >0</td>\n",
       "      <td id=\"T_74596_row8_col13\" class=\"data row8 col13\" >0</td>\n",
       "      <td id=\"T_74596_row8_col14\" class=\"data row8 col14\" >0</td>\n",
       "      <td id=\"T_74596_row8_col15\" class=\"data row8 col15\" >0</td>\n",
       "      <td id=\"T_74596_row8_col16\" class=\"data row8 col16\" >0</td>\n",
       "      <td id=\"T_74596_row8_col17\" class=\"data row8 col17\" >27</td>\n",
       "      <td id=\"T_74596_row8_col18\" class=\"data row8 col18\" >254</td>\n",
       "      <td id=\"T_74596_row8_col19\" class=\"data row8 col19\" >65</td>\n",
       "      <td id=\"T_74596_row8_col20\" class=\"data row8 col20\" >0</td>\n",
       "      <td id=\"T_74596_row8_col21\" class=\"data row8 col21\" >0</td>\n",
       "      <td id=\"T_74596_row8_col22\" class=\"data row8 col22\" >0</td>\n",
       "      <td id=\"T_74596_row8_col23\" class=\"data row8 col23\" >0</td>\n",
       "      <td id=\"T_74596_row8_col24\" class=\"data row8 col24\" >0</td>\n",
       "      <td id=\"T_74596_row8_col25\" class=\"data row8 col25\" >0</td>\n",
       "      <td id=\"T_74596_row8_col26\" class=\"data row8 col26\" >0</td>\n",
       "      <td id=\"T_74596_row8_col27\" class=\"data row8 col27\" >0</td>\n",
       "    </tr>\n",
       "    <tr>\n",
       "      <th id=\"T_74596_level0_row9\" class=\"row_heading level0 row9\" >9</th>\n",
       "      <td id=\"T_74596_row9_col0\" class=\"data row9 col0\" >0</td>\n",
       "      <td id=\"T_74596_row9_col1\" class=\"data row9 col1\" >0</td>\n",
       "      <td id=\"T_74596_row9_col2\" class=\"data row9 col2\" >0</td>\n",
       "      <td id=\"T_74596_row9_col3\" class=\"data row9 col3\" >0</td>\n",
       "      <td id=\"T_74596_row9_col4\" class=\"data row9 col4\" >0</td>\n",
       "      <td id=\"T_74596_row9_col5\" class=\"data row9 col5\" >0</td>\n",
       "      <td id=\"T_74596_row9_col6\" class=\"data row9 col6\" >0</td>\n",
       "      <td id=\"T_74596_row9_col7\" class=\"data row9 col7\" >127</td>\n",
       "      <td id=\"T_74596_row9_col8\" class=\"data row9 col8\" >254</td>\n",
       "      <td id=\"T_74596_row9_col9\" class=\"data row9 col9\" >21</td>\n",
       "      <td id=\"T_74596_row9_col10\" class=\"data row9 col10\" >0</td>\n",
       "      <td id=\"T_74596_row9_col11\" class=\"data row9 col11\" >0</td>\n",
       "      <td id=\"T_74596_row9_col12\" class=\"data row9 col12\" >0</td>\n",
       "      <td id=\"T_74596_row9_col13\" class=\"data row9 col13\" >0</td>\n",
       "      <td id=\"T_74596_row9_col14\" class=\"data row9 col14\" >0</td>\n",
       "      <td id=\"T_74596_row9_col15\" class=\"data row9 col15\" >0</td>\n",
       "      <td id=\"T_74596_row9_col16\" class=\"data row9 col16\" >0</td>\n",
       "      <td id=\"T_74596_row9_col17\" class=\"data row9 col17\" >20</td>\n",
       "      <td id=\"T_74596_row9_col18\" class=\"data row9 col18\" >239</td>\n",
       "      <td id=\"T_74596_row9_col19\" class=\"data row9 col19\" >65</td>\n",
       "      <td id=\"T_74596_row9_col20\" class=\"data row9 col20\" >0</td>\n",
       "      <td id=\"T_74596_row9_col21\" class=\"data row9 col21\" >0</td>\n",
       "      <td id=\"T_74596_row9_col22\" class=\"data row9 col22\" >0</td>\n",
       "      <td id=\"T_74596_row9_col23\" class=\"data row9 col23\" >0</td>\n",
       "      <td id=\"T_74596_row9_col24\" class=\"data row9 col24\" >0</td>\n",
       "      <td id=\"T_74596_row9_col25\" class=\"data row9 col25\" >0</td>\n",
       "      <td id=\"T_74596_row9_col26\" class=\"data row9 col26\" >0</td>\n",
       "      <td id=\"T_74596_row9_col27\" class=\"data row9 col27\" >0</td>\n",
       "    </tr>\n",
       "    <tr>\n",
       "      <th id=\"T_74596_level0_row10\" class=\"row_heading level0 row10\" >10</th>\n",
       "      <td id=\"T_74596_row10_col0\" class=\"data row10 col0\" >0</td>\n",
       "      <td id=\"T_74596_row10_col1\" class=\"data row10 col1\" >0</td>\n",
       "      <td id=\"T_74596_row10_col2\" class=\"data row10 col2\" >0</td>\n",
       "      <td id=\"T_74596_row10_col3\" class=\"data row10 col3\" >0</td>\n",
       "      <td id=\"T_74596_row10_col4\" class=\"data row10 col4\" >0</td>\n",
       "      <td id=\"T_74596_row10_col5\" class=\"data row10 col5\" >0</td>\n",
       "      <td id=\"T_74596_row10_col6\" class=\"data row10 col6\" >0</td>\n",
       "      <td id=\"T_74596_row10_col7\" class=\"data row10 col7\" >77</td>\n",
       "      <td id=\"T_74596_row10_col8\" class=\"data row10 col8\" >254</td>\n",
       "      <td id=\"T_74596_row10_col9\" class=\"data row10 col9\" >21</td>\n",
       "      <td id=\"T_74596_row10_col10\" class=\"data row10 col10\" >0</td>\n",
       "      <td id=\"T_74596_row10_col11\" class=\"data row10 col11\" >0</td>\n",
       "      <td id=\"T_74596_row10_col12\" class=\"data row10 col12\" >0</td>\n",
       "      <td id=\"T_74596_row10_col13\" class=\"data row10 col13\" >0</td>\n",
       "      <td id=\"T_74596_row10_col14\" class=\"data row10 col14\" >0</td>\n",
       "      <td id=\"T_74596_row10_col15\" class=\"data row10 col15\" >0</td>\n",
       "      <td id=\"T_74596_row10_col16\" class=\"data row10 col16\" >0</td>\n",
       "      <td id=\"T_74596_row10_col17\" class=\"data row10 col17\" >0</td>\n",
       "      <td id=\"T_74596_row10_col18\" class=\"data row10 col18\" >195</td>\n",
       "      <td id=\"T_74596_row10_col19\" class=\"data row10 col19\" >65</td>\n",
       "      <td id=\"T_74596_row10_col20\" class=\"data row10 col20\" >0</td>\n",
       "      <td id=\"T_74596_row10_col21\" class=\"data row10 col21\" >0</td>\n",
       "      <td id=\"T_74596_row10_col22\" class=\"data row10 col22\" >0</td>\n",
       "      <td id=\"T_74596_row10_col23\" class=\"data row10 col23\" >0</td>\n",
       "      <td id=\"T_74596_row10_col24\" class=\"data row10 col24\" >0</td>\n",
       "      <td id=\"T_74596_row10_col25\" class=\"data row10 col25\" >0</td>\n",
       "      <td id=\"T_74596_row10_col26\" class=\"data row10 col26\" >0</td>\n",
       "      <td id=\"T_74596_row10_col27\" class=\"data row10 col27\" >0</td>\n",
       "    </tr>\n",
       "    <tr>\n",
       "      <th id=\"T_74596_level0_row11\" class=\"row_heading level0 row11\" >11</th>\n",
       "      <td id=\"T_74596_row11_col0\" class=\"data row11 col0\" >0</td>\n",
       "      <td id=\"T_74596_row11_col1\" class=\"data row11 col1\" >0</td>\n",
       "      <td id=\"T_74596_row11_col2\" class=\"data row11 col2\" >0</td>\n",
       "      <td id=\"T_74596_row11_col3\" class=\"data row11 col3\" >0</td>\n",
       "      <td id=\"T_74596_row11_col4\" class=\"data row11 col4\" >0</td>\n",
       "      <td id=\"T_74596_row11_col5\" class=\"data row11 col5\" >0</td>\n",
       "      <td id=\"T_74596_row11_col6\" class=\"data row11 col6\" >0</td>\n",
       "      <td id=\"T_74596_row11_col7\" class=\"data row11 col7\" >70</td>\n",
       "      <td id=\"T_74596_row11_col8\" class=\"data row11 col8\" >254</td>\n",
       "      <td id=\"T_74596_row11_col9\" class=\"data row11 col9\" >21</td>\n",
       "      <td id=\"T_74596_row11_col10\" class=\"data row11 col10\" >0</td>\n",
       "      <td id=\"T_74596_row11_col11\" class=\"data row11 col11\" >0</td>\n",
       "      <td id=\"T_74596_row11_col12\" class=\"data row11 col12\" >0</td>\n",
       "      <td id=\"T_74596_row11_col13\" class=\"data row11 col13\" >0</td>\n",
       "      <td id=\"T_74596_row11_col14\" class=\"data row11 col14\" >0</td>\n",
       "      <td id=\"T_74596_row11_col15\" class=\"data row11 col15\" >0</td>\n",
       "      <td id=\"T_74596_row11_col16\" class=\"data row11 col16\" >0</td>\n",
       "      <td id=\"T_74596_row11_col17\" class=\"data row11 col17\" >0</td>\n",
       "      <td id=\"T_74596_row11_col18\" class=\"data row11 col18\" >195</td>\n",
       "      <td id=\"T_74596_row11_col19\" class=\"data row11 col19\" >142</td>\n",
       "      <td id=\"T_74596_row11_col20\" class=\"data row11 col20\" >0</td>\n",
       "      <td id=\"T_74596_row11_col21\" class=\"data row11 col21\" >0</td>\n",
       "      <td id=\"T_74596_row11_col22\" class=\"data row11 col22\" >0</td>\n",
       "      <td id=\"T_74596_row11_col23\" class=\"data row11 col23\" >0</td>\n",
       "      <td id=\"T_74596_row11_col24\" class=\"data row11 col24\" >0</td>\n",
       "      <td id=\"T_74596_row11_col25\" class=\"data row11 col25\" >0</td>\n",
       "      <td id=\"T_74596_row11_col26\" class=\"data row11 col26\" >0</td>\n",
       "      <td id=\"T_74596_row11_col27\" class=\"data row11 col27\" >0</td>\n",
       "    </tr>\n",
       "    <tr>\n",
       "      <th id=\"T_74596_level0_row12\" class=\"row_heading level0 row12\" >12</th>\n",
       "      <td id=\"T_74596_row12_col0\" class=\"data row12 col0\" >0</td>\n",
       "      <td id=\"T_74596_row12_col1\" class=\"data row12 col1\" >0</td>\n",
       "      <td id=\"T_74596_row12_col2\" class=\"data row12 col2\" >0</td>\n",
       "      <td id=\"T_74596_row12_col3\" class=\"data row12 col3\" >0</td>\n",
       "      <td id=\"T_74596_row12_col4\" class=\"data row12 col4\" >0</td>\n",
       "      <td id=\"T_74596_row12_col5\" class=\"data row12 col5\" >0</td>\n",
       "      <td id=\"T_74596_row12_col6\" class=\"data row12 col6\" >0</td>\n",
       "      <td id=\"T_74596_row12_col7\" class=\"data row12 col7\" >56</td>\n",
       "      <td id=\"T_74596_row12_col8\" class=\"data row12 col8\" >251</td>\n",
       "      <td id=\"T_74596_row12_col9\" class=\"data row12 col9\" >21</td>\n",
       "      <td id=\"T_74596_row12_col10\" class=\"data row12 col10\" >0</td>\n",
       "      <td id=\"T_74596_row12_col11\" class=\"data row12 col11\" >0</td>\n",
       "      <td id=\"T_74596_row12_col12\" class=\"data row12 col12\" >0</td>\n",
       "      <td id=\"T_74596_row12_col13\" class=\"data row12 col13\" >0</td>\n",
       "      <td id=\"T_74596_row12_col14\" class=\"data row12 col14\" >0</td>\n",
       "      <td id=\"T_74596_row12_col15\" class=\"data row12 col15\" >0</td>\n",
       "      <td id=\"T_74596_row12_col16\" class=\"data row12 col16\" >0</td>\n",
       "      <td id=\"T_74596_row12_col17\" class=\"data row12 col17\" >0</td>\n",
       "      <td id=\"T_74596_row12_col18\" class=\"data row12 col18\" >195</td>\n",
       "      <td id=\"T_74596_row12_col19\" class=\"data row12 col19\" >227</td>\n",
       "      <td id=\"T_74596_row12_col20\" class=\"data row12 col20\" >0</td>\n",
       "      <td id=\"T_74596_row12_col21\" class=\"data row12 col21\" >0</td>\n",
       "      <td id=\"T_74596_row12_col22\" class=\"data row12 col22\" >0</td>\n",
       "      <td id=\"T_74596_row12_col23\" class=\"data row12 col23\" >0</td>\n",
       "      <td id=\"T_74596_row12_col24\" class=\"data row12 col24\" >0</td>\n",
       "      <td id=\"T_74596_row12_col25\" class=\"data row12 col25\" >0</td>\n",
       "      <td id=\"T_74596_row12_col26\" class=\"data row12 col26\" >0</td>\n",
       "      <td id=\"T_74596_row12_col27\" class=\"data row12 col27\" >0</td>\n",
       "    </tr>\n",
       "    <tr>\n",
       "      <th id=\"T_74596_level0_row13\" class=\"row_heading level0 row13\" >13</th>\n",
       "      <td id=\"T_74596_row13_col0\" class=\"data row13 col0\" >0</td>\n",
       "      <td id=\"T_74596_row13_col1\" class=\"data row13 col1\" >0</td>\n",
       "      <td id=\"T_74596_row13_col2\" class=\"data row13 col2\" >0</td>\n",
       "      <td id=\"T_74596_row13_col3\" class=\"data row13 col3\" >0</td>\n",
       "      <td id=\"T_74596_row13_col4\" class=\"data row13 col4\" >0</td>\n",
       "      <td id=\"T_74596_row13_col5\" class=\"data row13 col5\" >0</td>\n",
       "      <td id=\"T_74596_row13_col6\" class=\"data row13 col6\" >0</td>\n",
       "      <td id=\"T_74596_row13_col7\" class=\"data row13 col7\" >0</td>\n",
       "      <td id=\"T_74596_row13_col8\" class=\"data row13 col8\" >222</td>\n",
       "      <td id=\"T_74596_row13_col9\" class=\"data row13 col9\" >153</td>\n",
       "      <td id=\"T_74596_row13_col10\" class=\"data row13 col10\" >5</td>\n",
       "      <td id=\"T_74596_row13_col11\" class=\"data row13 col11\" >0</td>\n",
       "      <td id=\"T_74596_row13_col12\" class=\"data row13 col12\" >0</td>\n",
       "      <td id=\"T_74596_row13_col13\" class=\"data row13 col13\" >0</td>\n",
       "      <td id=\"T_74596_row13_col14\" class=\"data row13 col14\" >0</td>\n",
       "      <td id=\"T_74596_row13_col15\" class=\"data row13 col15\" >0</td>\n",
       "      <td id=\"T_74596_row13_col16\" class=\"data row13 col16\" >0</td>\n",
       "      <td id=\"T_74596_row13_col17\" class=\"data row13 col17\" >0</td>\n",
       "      <td id=\"T_74596_row13_col18\" class=\"data row13 col18\" >120</td>\n",
       "      <td id=\"T_74596_row13_col19\" class=\"data row13 col19\" >240</td>\n",
       "      <td id=\"T_74596_row13_col20\" class=\"data row13 col20\" >13</td>\n",
       "      <td id=\"T_74596_row13_col21\" class=\"data row13 col21\" >0</td>\n",
       "      <td id=\"T_74596_row13_col22\" class=\"data row13 col22\" >0</td>\n",
       "      <td id=\"T_74596_row13_col23\" class=\"data row13 col23\" >0</td>\n",
       "      <td id=\"T_74596_row13_col24\" class=\"data row13 col24\" >0</td>\n",
       "      <td id=\"T_74596_row13_col25\" class=\"data row13 col25\" >0</td>\n",
       "      <td id=\"T_74596_row13_col26\" class=\"data row13 col26\" >0</td>\n",
       "      <td id=\"T_74596_row13_col27\" class=\"data row13 col27\" >0</td>\n",
       "    </tr>\n",
       "    <tr>\n",
       "      <th id=\"T_74596_level0_row14\" class=\"row_heading level0 row14\" >14</th>\n",
       "      <td id=\"T_74596_row14_col0\" class=\"data row14 col0\" >0</td>\n",
       "      <td id=\"T_74596_row14_col1\" class=\"data row14 col1\" >0</td>\n",
       "      <td id=\"T_74596_row14_col2\" class=\"data row14 col2\" >0</td>\n",
       "      <td id=\"T_74596_row14_col3\" class=\"data row14 col3\" >0</td>\n",
       "      <td id=\"T_74596_row14_col4\" class=\"data row14 col4\" >0</td>\n",
       "      <td id=\"T_74596_row14_col5\" class=\"data row14 col5\" >0</td>\n",
       "      <td id=\"T_74596_row14_col6\" class=\"data row14 col6\" >0</td>\n",
       "      <td id=\"T_74596_row14_col7\" class=\"data row14 col7\" >0</td>\n",
       "      <td id=\"T_74596_row14_col8\" class=\"data row14 col8\" >67</td>\n",
       "      <td id=\"T_74596_row14_col9\" class=\"data row14 col9\" >251</td>\n",
       "      <td id=\"T_74596_row14_col10\" class=\"data row14 col10\" >40</td>\n",
       "      <td id=\"T_74596_row14_col11\" class=\"data row14 col11\" >0</td>\n",
       "      <td id=\"T_74596_row14_col12\" class=\"data row14 col12\" >0</td>\n",
       "      <td id=\"T_74596_row14_col13\" class=\"data row14 col13\" >0</td>\n",
       "      <td id=\"T_74596_row14_col14\" class=\"data row14 col14\" >0</td>\n",
       "      <td id=\"T_74596_row14_col15\" class=\"data row14 col15\" >0</td>\n",
       "      <td id=\"T_74596_row14_col16\" class=\"data row14 col16\" >0</td>\n",
       "      <td id=\"T_74596_row14_col17\" class=\"data row14 col17\" >0</td>\n",
       "      <td id=\"T_74596_row14_col18\" class=\"data row14 col18\" >94</td>\n",
       "      <td id=\"T_74596_row14_col19\" class=\"data row14 col19\" >255</td>\n",
       "      <td id=\"T_74596_row14_col20\" class=\"data row14 col20\" >69</td>\n",
       "      <td id=\"T_74596_row14_col21\" class=\"data row14 col21\" >0</td>\n",
       "      <td id=\"T_74596_row14_col22\" class=\"data row14 col22\" >0</td>\n",
       "      <td id=\"T_74596_row14_col23\" class=\"data row14 col23\" >0</td>\n",
       "      <td id=\"T_74596_row14_col24\" class=\"data row14 col24\" >0</td>\n",
       "      <td id=\"T_74596_row14_col25\" class=\"data row14 col25\" >0</td>\n",
       "      <td id=\"T_74596_row14_col26\" class=\"data row14 col26\" >0</td>\n",
       "      <td id=\"T_74596_row14_col27\" class=\"data row14 col27\" >0</td>\n",
       "    </tr>\n",
       "    <tr>\n",
       "      <th id=\"T_74596_level0_row15\" class=\"row_heading level0 row15\" >15</th>\n",
       "      <td id=\"T_74596_row15_col0\" class=\"data row15 col0\" >0</td>\n",
       "      <td id=\"T_74596_row15_col1\" class=\"data row15 col1\" >0</td>\n",
       "      <td id=\"T_74596_row15_col2\" class=\"data row15 col2\" >0</td>\n",
       "      <td id=\"T_74596_row15_col3\" class=\"data row15 col3\" >0</td>\n",
       "      <td id=\"T_74596_row15_col4\" class=\"data row15 col4\" >0</td>\n",
       "      <td id=\"T_74596_row15_col5\" class=\"data row15 col5\" >0</td>\n",
       "      <td id=\"T_74596_row15_col6\" class=\"data row15 col6\" >0</td>\n",
       "      <td id=\"T_74596_row15_col7\" class=\"data row15 col7\" >0</td>\n",
       "      <td id=\"T_74596_row15_col8\" class=\"data row15 col8\" >0</td>\n",
       "      <td id=\"T_74596_row15_col9\" class=\"data row15 col9\" >234</td>\n",
       "      <td id=\"T_74596_row15_col10\" class=\"data row15 col10\" >184</td>\n",
       "      <td id=\"T_74596_row15_col11\" class=\"data row15 col11\" >0</td>\n",
       "      <td id=\"T_74596_row15_col12\" class=\"data row15 col12\" >0</td>\n",
       "      <td id=\"T_74596_row15_col13\" class=\"data row15 col13\" >0</td>\n",
       "      <td id=\"T_74596_row15_col14\" class=\"data row15 col14\" >0</td>\n",
       "      <td id=\"T_74596_row15_col15\" class=\"data row15 col15\" >0</td>\n",
       "      <td id=\"T_74596_row15_col16\" class=\"data row15 col16\" >0</td>\n",
       "      <td id=\"T_74596_row15_col17\" class=\"data row15 col17\" >0</td>\n",
       "      <td id=\"T_74596_row15_col18\" class=\"data row15 col18\" >19</td>\n",
       "      <td id=\"T_74596_row15_col19\" class=\"data row15 col19\" >245</td>\n",
       "      <td id=\"T_74596_row15_col20\" class=\"data row15 col20\" >69</td>\n",
       "      <td id=\"T_74596_row15_col21\" class=\"data row15 col21\" >0</td>\n",
       "      <td id=\"T_74596_row15_col22\" class=\"data row15 col22\" >0</td>\n",
       "      <td id=\"T_74596_row15_col23\" class=\"data row15 col23\" >0</td>\n",
       "      <td id=\"T_74596_row15_col24\" class=\"data row15 col24\" >0</td>\n",
       "      <td id=\"T_74596_row15_col25\" class=\"data row15 col25\" >0</td>\n",
       "      <td id=\"T_74596_row15_col26\" class=\"data row15 col26\" >0</td>\n",
       "      <td id=\"T_74596_row15_col27\" class=\"data row15 col27\" >0</td>\n",
       "    </tr>\n",
       "    <tr>\n",
       "      <th id=\"T_74596_level0_row16\" class=\"row_heading level0 row16\" >16</th>\n",
       "      <td id=\"T_74596_row16_col0\" class=\"data row16 col0\" >0</td>\n",
       "      <td id=\"T_74596_row16_col1\" class=\"data row16 col1\" >0</td>\n",
       "      <td id=\"T_74596_row16_col2\" class=\"data row16 col2\" >0</td>\n",
       "      <td id=\"T_74596_row16_col3\" class=\"data row16 col3\" >0</td>\n",
       "      <td id=\"T_74596_row16_col4\" class=\"data row16 col4\" >0</td>\n",
       "      <td id=\"T_74596_row16_col5\" class=\"data row16 col5\" >0</td>\n",
       "      <td id=\"T_74596_row16_col6\" class=\"data row16 col6\" >0</td>\n",
       "      <td id=\"T_74596_row16_col7\" class=\"data row16 col7\" >0</td>\n",
       "      <td id=\"T_74596_row16_col8\" class=\"data row16 col8\" >0</td>\n",
       "      <td id=\"T_74596_row16_col9\" class=\"data row16 col9\" >234</td>\n",
       "      <td id=\"T_74596_row16_col10\" class=\"data row16 col10\" >169</td>\n",
       "      <td id=\"T_74596_row16_col11\" class=\"data row16 col11\" >0</td>\n",
       "      <td id=\"T_74596_row16_col12\" class=\"data row16 col12\" >0</td>\n",
       "      <td id=\"T_74596_row16_col13\" class=\"data row16 col13\" >0</td>\n",
       "      <td id=\"T_74596_row16_col14\" class=\"data row16 col14\" >0</td>\n",
       "      <td id=\"T_74596_row16_col15\" class=\"data row16 col15\" >0</td>\n",
       "      <td id=\"T_74596_row16_col16\" class=\"data row16 col16\" >0</td>\n",
       "      <td id=\"T_74596_row16_col17\" class=\"data row16 col17\" >0</td>\n",
       "      <td id=\"T_74596_row16_col18\" class=\"data row16 col18\" >3</td>\n",
       "      <td id=\"T_74596_row16_col19\" class=\"data row16 col19\" >199</td>\n",
       "      <td id=\"T_74596_row16_col20\" class=\"data row16 col20\" >182</td>\n",
       "      <td id=\"T_74596_row16_col21\" class=\"data row16 col21\" >10</td>\n",
       "      <td id=\"T_74596_row16_col22\" class=\"data row16 col22\" >0</td>\n",
       "      <td id=\"T_74596_row16_col23\" class=\"data row16 col23\" >0</td>\n",
       "      <td id=\"T_74596_row16_col24\" class=\"data row16 col24\" >0</td>\n",
       "      <td id=\"T_74596_row16_col25\" class=\"data row16 col25\" >0</td>\n",
       "      <td id=\"T_74596_row16_col26\" class=\"data row16 col26\" >0</td>\n",
       "      <td id=\"T_74596_row16_col27\" class=\"data row16 col27\" >0</td>\n",
       "    </tr>\n",
       "    <tr>\n",
       "      <th id=\"T_74596_level0_row17\" class=\"row_heading level0 row17\" >17</th>\n",
       "      <td id=\"T_74596_row17_col0\" class=\"data row17 col0\" >0</td>\n",
       "      <td id=\"T_74596_row17_col1\" class=\"data row17 col1\" >0</td>\n",
       "      <td id=\"T_74596_row17_col2\" class=\"data row17 col2\" >0</td>\n",
       "      <td id=\"T_74596_row17_col3\" class=\"data row17 col3\" >0</td>\n",
       "      <td id=\"T_74596_row17_col4\" class=\"data row17 col4\" >0</td>\n",
       "      <td id=\"T_74596_row17_col5\" class=\"data row17 col5\" >0</td>\n",
       "      <td id=\"T_74596_row17_col6\" class=\"data row17 col6\" >0</td>\n",
       "      <td id=\"T_74596_row17_col7\" class=\"data row17 col7\" >0</td>\n",
       "      <td id=\"T_74596_row17_col8\" class=\"data row17 col8\" >0</td>\n",
       "      <td id=\"T_74596_row17_col9\" class=\"data row17 col9\" >154</td>\n",
       "      <td id=\"T_74596_row17_col10\" class=\"data row17 col10\" >205</td>\n",
       "      <td id=\"T_74596_row17_col11\" class=\"data row17 col11\" >4</td>\n",
       "      <td id=\"T_74596_row17_col12\" class=\"data row17 col12\" >0</td>\n",
       "      <td id=\"T_74596_row17_col13\" class=\"data row17 col13\" >0</td>\n",
       "      <td id=\"T_74596_row17_col14\" class=\"data row17 col14\" >26</td>\n",
       "      <td id=\"T_74596_row17_col15\" class=\"data row17 col15\" >72</td>\n",
       "      <td id=\"T_74596_row17_col16\" class=\"data row17 col16\" >128</td>\n",
       "      <td id=\"T_74596_row17_col17\" class=\"data row17 col17\" >203</td>\n",
       "      <td id=\"T_74596_row17_col18\" class=\"data row17 col18\" >208</td>\n",
       "      <td id=\"T_74596_row17_col19\" class=\"data row17 col19\" >254</td>\n",
       "      <td id=\"T_74596_row17_col20\" class=\"data row17 col20\" >254</td>\n",
       "      <td id=\"T_74596_row17_col21\" class=\"data row17 col21\" >131</td>\n",
       "      <td id=\"T_74596_row17_col22\" class=\"data row17 col22\" >0</td>\n",
       "      <td id=\"T_74596_row17_col23\" class=\"data row17 col23\" >0</td>\n",
       "      <td id=\"T_74596_row17_col24\" class=\"data row17 col24\" >0</td>\n",
       "      <td id=\"T_74596_row17_col25\" class=\"data row17 col25\" >0</td>\n",
       "      <td id=\"T_74596_row17_col26\" class=\"data row17 col26\" >0</td>\n",
       "      <td id=\"T_74596_row17_col27\" class=\"data row17 col27\" >0</td>\n",
       "    </tr>\n",
       "    <tr>\n",
       "      <th id=\"T_74596_level0_row18\" class=\"row_heading level0 row18\" >18</th>\n",
       "      <td id=\"T_74596_row18_col0\" class=\"data row18 col0\" >0</td>\n",
       "      <td id=\"T_74596_row18_col1\" class=\"data row18 col1\" >0</td>\n",
       "      <td id=\"T_74596_row18_col2\" class=\"data row18 col2\" >0</td>\n",
       "      <td id=\"T_74596_row18_col3\" class=\"data row18 col3\" >0</td>\n",
       "      <td id=\"T_74596_row18_col4\" class=\"data row18 col4\" >0</td>\n",
       "      <td id=\"T_74596_row18_col5\" class=\"data row18 col5\" >0</td>\n",
       "      <td id=\"T_74596_row18_col6\" class=\"data row18 col6\" >0</td>\n",
       "      <td id=\"T_74596_row18_col7\" class=\"data row18 col7\" >0</td>\n",
       "      <td id=\"T_74596_row18_col8\" class=\"data row18 col8\" >0</td>\n",
       "      <td id=\"T_74596_row18_col9\" class=\"data row18 col9\" >61</td>\n",
       "      <td id=\"T_74596_row18_col10\" class=\"data row18 col10\" >254</td>\n",
       "      <td id=\"T_74596_row18_col11\" class=\"data row18 col11\" >129</td>\n",
       "      <td id=\"T_74596_row18_col12\" class=\"data row18 col12\" >113</td>\n",
       "      <td id=\"T_74596_row18_col13\" class=\"data row18 col13\" >186</td>\n",
       "      <td id=\"T_74596_row18_col14\" class=\"data row18 col14\" >245</td>\n",
       "      <td id=\"T_74596_row18_col15\" class=\"data row18 col15\" >251</td>\n",
       "      <td id=\"T_74596_row18_col16\" class=\"data row18 col16\" >189</td>\n",
       "      <td id=\"T_74596_row18_col17\" class=\"data row18 col17\" >75</td>\n",
       "      <td id=\"T_74596_row18_col18\" class=\"data row18 col18\" >56</td>\n",
       "      <td id=\"T_74596_row18_col19\" class=\"data row18 col19\" >136</td>\n",
       "      <td id=\"T_74596_row18_col20\" class=\"data row18 col20\" >254</td>\n",
       "      <td id=\"T_74596_row18_col21\" class=\"data row18 col21\" >73</td>\n",
       "      <td id=\"T_74596_row18_col22\" class=\"data row18 col22\" >0</td>\n",
       "      <td id=\"T_74596_row18_col23\" class=\"data row18 col23\" >0</td>\n",
       "      <td id=\"T_74596_row18_col24\" class=\"data row18 col24\" >0</td>\n",
       "      <td id=\"T_74596_row18_col25\" class=\"data row18 col25\" >0</td>\n",
       "      <td id=\"T_74596_row18_col26\" class=\"data row18 col26\" >0</td>\n",
       "      <td id=\"T_74596_row18_col27\" class=\"data row18 col27\" >0</td>\n",
       "    </tr>\n",
       "    <tr>\n",
       "      <th id=\"T_74596_level0_row19\" class=\"row_heading level0 row19\" >19</th>\n",
       "      <td id=\"T_74596_row19_col0\" class=\"data row19 col0\" >0</td>\n",
       "      <td id=\"T_74596_row19_col1\" class=\"data row19 col1\" >0</td>\n",
       "      <td id=\"T_74596_row19_col2\" class=\"data row19 col2\" >0</td>\n",
       "      <td id=\"T_74596_row19_col3\" class=\"data row19 col3\" >0</td>\n",
       "      <td id=\"T_74596_row19_col4\" class=\"data row19 col4\" >0</td>\n",
       "      <td id=\"T_74596_row19_col5\" class=\"data row19 col5\" >0</td>\n",
       "      <td id=\"T_74596_row19_col6\" class=\"data row19 col6\" >0</td>\n",
       "      <td id=\"T_74596_row19_col7\" class=\"data row19 col7\" >0</td>\n",
       "      <td id=\"T_74596_row19_col8\" class=\"data row19 col8\" >0</td>\n",
       "      <td id=\"T_74596_row19_col9\" class=\"data row19 col9\" >15</td>\n",
       "      <td id=\"T_74596_row19_col10\" class=\"data row19 col10\" >216</td>\n",
       "      <td id=\"T_74596_row19_col11\" class=\"data row19 col11\" >233</td>\n",
       "      <td id=\"T_74596_row19_col12\" class=\"data row19 col12\" >233</td>\n",
       "      <td id=\"T_74596_row19_col13\" class=\"data row19 col13\" >159</td>\n",
       "      <td id=\"T_74596_row19_col14\" class=\"data row19 col14\" >104</td>\n",
       "      <td id=\"T_74596_row19_col15\" class=\"data row19 col15\" >52</td>\n",
       "      <td id=\"T_74596_row19_col16\" class=\"data row19 col16\" >0</td>\n",
       "      <td id=\"T_74596_row19_col17\" class=\"data row19 col17\" >0</td>\n",
       "      <td id=\"T_74596_row19_col18\" class=\"data row19 col18\" >0</td>\n",
       "      <td id=\"T_74596_row19_col19\" class=\"data row19 col19\" >38</td>\n",
       "      <td id=\"T_74596_row19_col20\" class=\"data row19 col20\" >254</td>\n",
       "      <td id=\"T_74596_row19_col21\" class=\"data row19 col21\" >73</td>\n",
       "      <td id=\"T_74596_row19_col22\" class=\"data row19 col22\" >0</td>\n",
       "      <td id=\"T_74596_row19_col23\" class=\"data row19 col23\" >0</td>\n",
       "      <td id=\"T_74596_row19_col24\" class=\"data row19 col24\" >0</td>\n",
       "      <td id=\"T_74596_row19_col25\" class=\"data row19 col25\" >0</td>\n",
       "      <td id=\"T_74596_row19_col26\" class=\"data row19 col26\" >0</td>\n",
       "      <td id=\"T_74596_row19_col27\" class=\"data row19 col27\" >0</td>\n",
       "    </tr>\n",
       "    <tr>\n",
       "      <th id=\"T_74596_level0_row20\" class=\"row_heading level0 row20\" >20</th>\n",
       "      <td id=\"T_74596_row20_col0\" class=\"data row20 col0\" >0</td>\n",
       "      <td id=\"T_74596_row20_col1\" class=\"data row20 col1\" >0</td>\n",
       "      <td id=\"T_74596_row20_col2\" class=\"data row20 col2\" >0</td>\n",
       "      <td id=\"T_74596_row20_col3\" class=\"data row20 col3\" >0</td>\n",
       "      <td id=\"T_74596_row20_col4\" class=\"data row20 col4\" >0</td>\n",
       "      <td id=\"T_74596_row20_col5\" class=\"data row20 col5\" >0</td>\n",
       "      <td id=\"T_74596_row20_col6\" class=\"data row20 col6\" >0</td>\n",
       "      <td id=\"T_74596_row20_col7\" class=\"data row20 col7\" >0</td>\n",
       "      <td id=\"T_74596_row20_col8\" class=\"data row20 col8\" >0</td>\n",
       "      <td id=\"T_74596_row20_col9\" class=\"data row20 col9\" >0</td>\n",
       "      <td id=\"T_74596_row20_col10\" class=\"data row20 col10\" >0</td>\n",
       "      <td id=\"T_74596_row20_col11\" class=\"data row20 col11\" >0</td>\n",
       "      <td id=\"T_74596_row20_col12\" class=\"data row20 col12\" >0</td>\n",
       "      <td id=\"T_74596_row20_col13\" class=\"data row20 col13\" >0</td>\n",
       "      <td id=\"T_74596_row20_col14\" class=\"data row20 col14\" >0</td>\n",
       "      <td id=\"T_74596_row20_col15\" class=\"data row20 col15\" >0</td>\n",
       "      <td id=\"T_74596_row20_col16\" class=\"data row20 col16\" >0</td>\n",
       "      <td id=\"T_74596_row20_col17\" class=\"data row20 col17\" >0</td>\n",
       "      <td id=\"T_74596_row20_col18\" class=\"data row20 col18\" >0</td>\n",
       "      <td id=\"T_74596_row20_col19\" class=\"data row20 col19\" >18</td>\n",
       "      <td id=\"T_74596_row20_col20\" class=\"data row20 col20\" >254</td>\n",
       "      <td id=\"T_74596_row20_col21\" class=\"data row20 col21\" >73</td>\n",
       "      <td id=\"T_74596_row20_col22\" class=\"data row20 col22\" >0</td>\n",
       "      <td id=\"T_74596_row20_col23\" class=\"data row20 col23\" >0</td>\n",
       "      <td id=\"T_74596_row20_col24\" class=\"data row20 col24\" >0</td>\n",
       "      <td id=\"T_74596_row20_col25\" class=\"data row20 col25\" >0</td>\n",
       "      <td id=\"T_74596_row20_col26\" class=\"data row20 col26\" >0</td>\n",
       "      <td id=\"T_74596_row20_col27\" class=\"data row20 col27\" >0</td>\n",
       "    </tr>\n",
       "    <tr>\n",
       "      <th id=\"T_74596_level0_row21\" class=\"row_heading level0 row21\" >21</th>\n",
       "      <td id=\"T_74596_row21_col0\" class=\"data row21 col0\" >0</td>\n",
       "      <td id=\"T_74596_row21_col1\" class=\"data row21 col1\" >0</td>\n",
       "      <td id=\"T_74596_row21_col2\" class=\"data row21 col2\" >0</td>\n",
       "      <td id=\"T_74596_row21_col3\" class=\"data row21 col3\" >0</td>\n",
       "      <td id=\"T_74596_row21_col4\" class=\"data row21 col4\" >0</td>\n",
       "      <td id=\"T_74596_row21_col5\" class=\"data row21 col5\" >0</td>\n",
       "      <td id=\"T_74596_row21_col6\" class=\"data row21 col6\" >0</td>\n",
       "      <td id=\"T_74596_row21_col7\" class=\"data row21 col7\" >0</td>\n",
       "      <td id=\"T_74596_row21_col8\" class=\"data row21 col8\" >0</td>\n",
       "      <td id=\"T_74596_row21_col9\" class=\"data row21 col9\" >0</td>\n",
       "      <td id=\"T_74596_row21_col10\" class=\"data row21 col10\" >0</td>\n",
       "      <td id=\"T_74596_row21_col11\" class=\"data row21 col11\" >0</td>\n",
       "      <td id=\"T_74596_row21_col12\" class=\"data row21 col12\" >0</td>\n",
       "      <td id=\"T_74596_row21_col13\" class=\"data row21 col13\" >0</td>\n",
       "      <td id=\"T_74596_row21_col14\" class=\"data row21 col14\" >0</td>\n",
       "      <td id=\"T_74596_row21_col15\" class=\"data row21 col15\" >0</td>\n",
       "      <td id=\"T_74596_row21_col16\" class=\"data row21 col16\" >0</td>\n",
       "      <td id=\"T_74596_row21_col17\" class=\"data row21 col17\" >0</td>\n",
       "      <td id=\"T_74596_row21_col18\" class=\"data row21 col18\" >0</td>\n",
       "      <td id=\"T_74596_row21_col19\" class=\"data row21 col19\" >18</td>\n",
       "      <td id=\"T_74596_row21_col20\" class=\"data row21 col20\" >254</td>\n",
       "      <td id=\"T_74596_row21_col21\" class=\"data row21 col21\" >73</td>\n",
       "      <td id=\"T_74596_row21_col22\" class=\"data row21 col22\" >0</td>\n",
       "      <td id=\"T_74596_row21_col23\" class=\"data row21 col23\" >0</td>\n",
       "      <td id=\"T_74596_row21_col24\" class=\"data row21 col24\" >0</td>\n",
       "      <td id=\"T_74596_row21_col25\" class=\"data row21 col25\" >0</td>\n",
       "      <td id=\"T_74596_row21_col26\" class=\"data row21 col26\" >0</td>\n",
       "      <td id=\"T_74596_row21_col27\" class=\"data row21 col27\" >0</td>\n",
       "    </tr>\n",
       "    <tr>\n",
       "      <th id=\"T_74596_level0_row22\" class=\"row_heading level0 row22\" >22</th>\n",
       "      <td id=\"T_74596_row22_col0\" class=\"data row22 col0\" >0</td>\n",
       "      <td id=\"T_74596_row22_col1\" class=\"data row22 col1\" >0</td>\n",
       "      <td id=\"T_74596_row22_col2\" class=\"data row22 col2\" >0</td>\n",
       "      <td id=\"T_74596_row22_col3\" class=\"data row22 col3\" >0</td>\n",
       "      <td id=\"T_74596_row22_col4\" class=\"data row22 col4\" >0</td>\n",
       "      <td id=\"T_74596_row22_col5\" class=\"data row22 col5\" >0</td>\n",
       "      <td id=\"T_74596_row22_col6\" class=\"data row22 col6\" >0</td>\n",
       "      <td id=\"T_74596_row22_col7\" class=\"data row22 col7\" >0</td>\n",
       "      <td id=\"T_74596_row22_col8\" class=\"data row22 col8\" >0</td>\n",
       "      <td id=\"T_74596_row22_col9\" class=\"data row22 col9\" >0</td>\n",
       "      <td id=\"T_74596_row22_col10\" class=\"data row22 col10\" >0</td>\n",
       "      <td id=\"T_74596_row22_col11\" class=\"data row22 col11\" >0</td>\n",
       "      <td id=\"T_74596_row22_col12\" class=\"data row22 col12\" >0</td>\n",
       "      <td id=\"T_74596_row22_col13\" class=\"data row22 col13\" >0</td>\n",
       "      <td id=\"T_74596_row22_col14\" class=\"data row22 col14\" >0</td>\n",
       "      <td id=\"T_74596_row22_col15\" class=\"data row22 col15\" >0</td>\n",
       "      <td id=\"T_74596_row22_col16\" class=\"data row22 col16\" >0</td>\n",
       "      <td id=\"T_74596_row22_col17\" class=\"data row22 col17\" >0</td>\n",
       "      <td id=\"T_74596_row22_col18\" class=\"data row22 col18\" >0</td>\n",
       "      <td id=\"T_74596_row22_col19\" class=\"data row22 col19\" >5</td>\n",
       "      <td id=\"T_74596_row22_col20\" class=\"data row22 col20\" >206</td>\n",
       "      <td id=\"T_74596_row22_col21\" class=\"data row22 col21\" >106</td>\n",
       "      <td id=\"T_74596_row22_col22\" class=\"data row22 col22\" >0</td>\n",
       "      <td id=\"T_74596_row22_col23\" class=\"data row22 col23\" >0</td>\n",
       "      <td id=\"T_74596_row22_col24\" class=\"data row22 col24\" >0</td>\n",
       "      <td id=\"T_74596_row22_col25\" class=\"data row22 col25\" >0</td>\n",
       "      <td id=\"T_74596_row22_col26\" class=\"data row22 col26\" >0</td>\n",
       "      <td id=\"T_74596_row22_col27\" class=\"data row22 col27\" >0</td>\n",
       "    </tr>\n",
       "    <tr>\n",
       "      <th id=\"T_74596_level0_row23\" class=\"row_heading level0 row23\" >23</th>\n",
       "      <td id=\"T_74596_row23_col0\" class=\"data row23 col0\" >0</td>\n",
       "      <td id=\"T_74596_row23_col1\" class=\"data row23 col1\" >0</td>\n",
       "      <td id=\"T_74596_row23_col2\" class=\"data row23 col2\" >0</td>\n",
       "      <td id=\"T_74596_row23_col3\" class=\"data row23 col3\" >0</td>\n",
       "      <td id=\"T_74596_row23_col4\" class=\"data row23 col4\" >0</td>\n",
       "      <td id=\"T_74596_row23_col5\" class=\"data row23 col5\" >0</td>\n",
       "      <td id=\"T_74596_row23_col6\" class=\"data row23 col6\" >0</td>\n",
       "      <td id=\"T_74596_row23_col7\" class=\"data row23 col7\" >0</td>\n",
       "      <td id=\"T_74596_row23_col8\" class=\"data row23 col8\" >0</td>\n",
       "      <td id=\"T_74596_row23_col9\" class=\"data row23 col9\" >0</td>\n",
       "      <td id=\"T_74596_row23_col10\" class=\"data row23 col10\" >0</td>\n",
       "      <td id=\"T_74596_row23_col11\" class=\"data row23 col11\" >0</td>\n",
       "      <td id=\"T_74596_row23_col12\" class=\"data row23 col12\" >0</td>\n",
       "      <td id=\"T_74596_row23_col13\" class=\"data row23 col13\" >0</td>\n",
       "      <td id=\"T_74596_row23_col14\" class=\"data row23 col14\" >0</td>\n",
       "      <td id=\"T_74596_row23_col15\" class=\"data row23 col15\" >0</td>\n",
       "      <td id=\"T_74596_row23_col16\" class=\"data row23 col16\" >0</td>\n",
       "      <td id=\"T_74596_row23_col17\" class=\"data row23 col17\" >0</td>\n",
       "      <td id=\"T_74596_row23_col18\" class=\"data row23 col18\" >0</td>\n",
       "      <td id=\"T_74596_row23_col19\" class=\"data row23 col19\" >0</td>\n",
       "      <td id=\"T_74596_row23_col20\" class=\"data row23 col20\" >186</td>\n",
       "      <td id=\"T_74596_row23_col21\" class=\"data row23 col21\" >159</td>\n",
       "      <td id=\"T_74596_row23_col22\" class=\"data row23 col22\" >0</td>\n",
       "      <td id=\"T_74596_row23_col23\" class=\"data row23 col23\" >0</td>\n",
       "      <td id=\"T_74596_row23_col24\" class=\"data row23 col24\" >0</td>\n",
       "      <td id=\"T_74596_row23_col25\" class=\"data row23 col25\" >0</td>\n",
       "      <td id=\"T_74596_row23_col26\" class=\"data row23 col26\" >0</td>\n",
       "      <td id=\"T_74596_row23_col27\" class=\"data row23 col27\" >0</td>\n",
       "    </tr>\n",
       "    <tr>\n",
       "      <th id=\"T_74596_level0_row24\" class=\"row_heading level0 row24\" >24</th>\n",
       "      <td id=\"T_74596_row24_col0\" class=\"data row24 col0\" >0</td>\n",
       "      <td id=\"T_74596_row24_col1\" class=\"data row24 col1\" >0</td>\n",
       "      <td id=\"T_74596_row24_col2\" class=\"data row24 col2\" >0</td>\n",
       "      <td id=\"T_74596_row24_col3\" class=\"data row24 col3\" >0</td>\n",
       "      <td id=\"T_74596_row24_col4\" class=\"data row24 col4\" >0</td>\n",
       "      <td id=\"T_74596_row24_col5\" class=\"data row24 col5\" >0</td>\n",
       "      <td id=\"T_74596_row24_col6\" class=\"data row24 col6\" >0</td>\n",
       "      <td id=\"T_74596_row24_col7\" class=\"data row24 col7\" >0</td>\n",
       "      <td id=\"T_74596_row24_col8\" class=\"data row24 col8\" >0</td>\n",
       "      <td id=\"T_74596_row24_col9\" class=\"data row24 col9\" >0</td>\n",
       "      <td id=\"T_74596_row24_col10\" class=\"data row24 col10\" >0</td>\n",
       "      <td id=\"T_74596_row24_col11\" class=\"data row24 col11\" >0</td>\n",
       "      <td id=\"T_74596_row24_col12\" class=\"data row24 col12\" >0</td>\n",
       "      <td id=\"T_74596_row24_col13\" class=\"data row24 col13\" >0</td>\n",
       "      <td id=\"T_74596_row24_col14\" class=\"data row24 col14\" >0</td>\n",
       "      <td id=\"T_74596_row24_col15\" class=\"data row24 col15\" >0</td>\n",
       "      <td id=\"T_74596_row24_col16\" class=\"data row24 col16\" >0</td>\n",
       "      <td id=\"T_74596_row24_col17\" class=\"data row24 col17\" >0</td>\n",
       "      <td id=\"T_74596_row24_col18\" class=\"data row24 col18\" >0</td>\n",
       "      <td id=\"T_74596_row24_col19\" class=\"data row24 col19\" >6</td>\n",
       "      <td id=\"T_74596_row24_col20\" class=\"data row24 col20\" >209</td>\n",
       "      <td id=\"T_74596_row24_col21\" class=\"data row24 col21\" >101</td>\n",
       "      <td id=\"T_74596_row24_col22\" class=\"data row24 col22\" >0</td>\n",
       "      <td id=\"T_74596_row24_col23\" class=\"data row24 col23\" >0</td>\n",
       "      <td id=\"T_74596_row24_col24\" class=\"data row24 col24\" >0</td>\n",
       "      <td id=\"T_74596_row24_col25\" class=\"data row24 col25\" >0</td>\n",
       "      <td id=\"T_74596_row24_col26\" class=\"data row24 col26\" >0</td>\n",
       "      <td id=\"T_74596_row24_col27\" class=\"data row24 col27\" >0</td>\n",
       "    </tr>\n",
       "    <tr>\n",
       "      <th id=\"T_74596_level0_row25\" class=\"row_heading level0 row25\" >25</th>\n",
       "      <td id=\"T_74596_row25_col0\" class=\"data row25 col0\" >0</td>\n",
       "      <td id=\"T_74596_row25_col1\" class=\"data row25 col1\" >0</td>\n",
       "      <td id=\"T_74596_row25_col2\" class=\"data row25 col2\" >0</td>\n",
       "      <td id=\"T_74596_row25_col3\" class=\"data row25 col3\" >0</td>\n",
       "      <td id=\"T_74596_row25_col4\" class=\"data row25 col4\" >0</td>\n",
       "      <td id=\"T_74596_row25_col5\" class=\"data row25 col5\" >0</td>\n",
       "      <td id=\"T_74596_row25_col6\" class=\"data row25 col6\" >0</td>\n",
       "      <td id=\"T_74596_row25_col7\" class=\"data row25 col7\" >0</td>\n",
       "      <td id=\"T_74596_row25_col8\" class=\"data row25 col8\" >0</td>\n",
       "      <td id=\"T_74596_row25_col9\" class=\"data row25 col9\" >0</td>\n",
       "      <td id=\"T_74596_row25_col10\" class=\"data row25 col10\" >0</td>\n",
       "      <td id=\"T_74596_row25_col11\" class=\"data row25 col11\" >0</td>\n",
       "      <td id=\"T_74596_row25_col12\" class=\"data row25 col12\" >0</td>\n",
       "      <td id=\"T_74596_row25_col13\" class=\"data row25 col13\" >0</td>\n",
       "      <td id=\"T_74596_row25_col14\" class=\"data row25 col14\" >0</td>\n",
       "      <td id=\"T_74596_row25_col15\" class=\"data row25 col15\" >0</td>\n",
       "      <td id=\"T_74596_row25_col16\" class=\"data row25 col16\" >0</td>\n",
       "      <td id=\"T_74596_row25_col17\" class=\"data row25 col17\" >0</td>\n",
       "      <td id=\"T_74596_row25_col18\" class=\"data row25 col18\" >0</td>\n",
       "      <td id=\"T_74596_row25_col19\" class=\"data row25 col19\" >0</td>\n",
       "      <td id=\"T_74596_row25_col20\" class=\"data row25 col20\" >0</td>\n",
       "      <td id=\"T_74596_row25_col21\" class=\"data row25 col21\" >0</td>\n",
       "      <td id=\"T_74596_row25_col22\" class=\"data row25 col22\" >0</td>\n",
       "      <td id=\"T_74596_row25_col23\" class=\"data row25 col23\" >0</td>\n",
       "      <td id=\"T_74596_row25_col24\" class=\"data row25 col24\" >0</td>\n",
       "      <td id=\"T_74596_row25_col25\" class=\"data row25 col25\" >0</td>\n",
       "      <td id=\"T_74596_row25_col26\" class=\"data row25 col26\" >0</td>\n",
       "      <td id=\"T_74596_row25_col27\" class=\"data row25 col27\" >0</td>\n",
       "    </tr>\n",
       "    <tr>\n",
       "      <th id=\"T_74596_level0_row26\" class=\"row_heading level0 row26\" >26</th>\n",
       "      <td id=\"T_74596_row26_col0\" class=\"data row26 col0\" >0</td>\n",
       "      <td id=\"T_74596_row26_col1\" class=\"data row26 col1\" >0</td>\n",
       "      <td id=\"T_74596_row26_col2\" class=\"data row26 col2\" >0</td>\n",
       "      <td id=\"T_74596_row26_col3\" class=\"data row26 col3\" >0</td>\n",
       "      <td id=\"T_74596_row26_col4\" class=\"data row26 col4\" >0</td>\n",
       "      <td id=\"T_74596_row26_col5\" class=\"data row26 col5\" >0</td>\n",
       "      <td id=\"T_74596_row26_col6\" class=\"data row26 col6\" >0</td>\n",
       "      <td id=\"T_74596_row26_col7\" class=\"data row26 col7\" >0</td>\n",
       "      <td id=\"T_74596_row26_col8\" class=\"data row26 col8\" >0</td>\n",
       "      <td id=\"T_74596_row26_col9\" class=\"data row26 col9\" >0</td>\n",
       "      <td id=\"T_74596_row26_col10\" class=\"data row26 col10\" >0</td>\n",
       "      <td id=\"T_74596_row26_col11\" class=\"data row26 col11\" >0</td>\n",
       "      <td id=\"T_74596_row26_col12\" class=\"data row26 col12\" >0</td>\n",
       "      <td id=\"T_74596_row26_col13\" class=\"data row26 col13\" >0</td>\n",
       "      <td id=\"T_74596_row26_col14\" class=\"data row26 col14\" >0</td>\n",
       "      <td id=\"T_74596_row26_col15\" class=\"data row26 col15\" >0</td>\n",
       "      <td id=\"T_74596_row26_col16\" class=\"data row26 col16\" >0</td>\n",
       "      <td id=\"T_74596_row26_col17\" class=\"data row26 col17\" >0</td>\n",
       "      <td id=\"T_74596_row26_col18\" class=\"data row26 col18\" >0</td>\n",
       "      <td id=\"T_74596_row26_col19\" class=\"data row26 col19\" >0</td>\n",
       "      <td id=\"T_74596_row26_col20\" class=\"data row26 col20\" >0</td>\n",
       "      <td id=\"T_74596_row26_col21\" class=\"data row26 col21\" >0</td>\n",
       "      <td id=\"T_74596_row26_col22\" class=\"data row26 col22\" >0</td>\n",
       "      <td id=\"T_74596_row26_col23\" class=\"data row26 col23\" >0</td>\n",
       "      <td id=\"T_74596_row26_col24\" class=\"data row26 col24\" >0</td>\n",
       "      <td id=\"T_74596_row26_col25\" class=\"data row26 col25\" >0</td>\n",
       "      <td id=\"T_74596_row26_col26\" class=\"data row26 col26\" >0</td>\n",
       "      <td id=\"T_74596_row26_col27\" class=\"data row26 col27\" >0</td>\n",
       "    </tr>\n",
       "    <tr>\n",
       "      <th id=\"T_74596_level0_row27\" class=\"row_heading level0 row27\" >27</th>\n",
       "      <td id=\"T_74596_row27_col0\" class=\"data row27 col0\" >0</td>\n",
       "      <td id=\"T_74596_row27_col1\" class=\"data row27 col1\" >0</td>\n",
       "      <td id=\"T_74596_row27_col2\" class=\"data row27 col2\" >0</td>\n",
       "      <td id=\"T_74596_row27_col3\" class=\"data row27 col3\" >0</td>\n",
       "      <td id=\"T_74596_row27_col4\" class=\"data row27 col4\" >0</td>\n",
       "      <td id=\"T_74596_row27_col5\" class=\"data row27 col5\" >0</td>\n",
       "      <td id=\"T_74596_row27_col6\" class=\"data row27 col6\" >0</td>\n",
       "      <td id=\"T_74596_row27_col7\" class=\"data row27 col7\" >0</td>\n",
       "      <td id=\"T_74596_row27_col8\" class=\"data row27 col8\" >0</td>\n",
       "      <td id=\"T_74596_row27_col9\" class=\"data row27 col9\" >0</td>\n",
       "      <td id=\"T_74596_row27_col10\" class=\"data row27 col10\" >0</td>\n",
       "      <td id=\"T_74596_row27_col11\" class=\"data row27 col11\" >0</td>\n",
       "      <td id=\"T_74596_row27_col12\" class=\"data row27 col12\" >0</td>\n",
       "      <td id=\"T_74596_row27_col13\" class=\"data row27 col13\" >0</td>\n",
       "      <td id=\"T_74596_row27_col14\" class=\"data row27 col14\" >0</td>\n",
       "      <td id=\"T_74596_row27_col15\" class=\"data row27 col15\" >0</td>\n",
       "      <td id=\"T_74596_row27_col16\" class=\"data row27 col16\" >0</td>\n",
       "      <td id=\"T_74596_row27_col17\" class=\"data row27 col17\" >0</td>\n",
       "      <td id=\"T_74596_row27_col18\" class=\"data row27 col18\" >0</td>\n",
       "      <td id=\"T_74596_row27_col19\" class=\"data row27 col19\" >0</td>\n",
       "      <td id=\"T_74596_row27_col20\" class=\"data row27 col20\" >0</td>\n",
       "      <td id=\"T_74596_row27_col21\" class=\"data row27 col21\" >0</td>\n",
       "      <td id=\"T_74596_row27_col22\" class=\"data row27 col22\" >0</td>\n",
       "      <td id=\"T_74596_row27_col23\" class=\"data row27 col23\" >0</td>\n",
       "      <td id=\"T_74596_row27_col24\" class=\"data row27 col24\" >0</td>\n",
       "      <td id=\"T_74596_row27_col25\" class=\"data row27 col25\" >0</td>\n",
       "      <td id=\"T_74596_row27_col26\" class=\"data row27 col26\" >0</td>\n",
       "      <td id=\"T_74596_row27_col27\" class=\"data row27 col27\" >0</td>\n",
       "    </tr>\n",
       "  </tbody>\n",
       "</table>\n"
      ],
      "text/plain": [
       "<pandas.io.formats.style.Styler at 0x27f308d9210>"
      ]
     },
     "execution_count": 7,
     "metadata": {},
     "output_type": "execute_result"
    }
   ],
   "source": [
    "# let's look at one of the images\n",
    "def view_digit(idx):\n",
    "    df = pd.DataFrame(columns=[i for i in range(28)],\n",
    "                      index=[i for i in range(28)])\n",
    "    for i in range(28): df.loc[i] = inputs.iloc[idx, i*28:(i+1)*28].values.flatten().tolist()\n",
    "    return df.apply(pd.to_numeric).style.background_gradient('Greys')\n",
    "\n",
    "view_digit(idx=3)"
   ]
  },
  {
   "cell_type": "markdown",
   "id": "7850d4d0",
   "metadata": {
    "hidden": true
   },
   "source": [
    "Now we need to cast the data to tensors:"
   ]
  },
  {
   "cell_type": "code",
   "execution_count": 8,
   "id": "a6f9b875",
   "metadata": {
    "hidden": true
   },
   "outputs": [
    {
     "data": {
      "text/plain": [
       "(33600, 8400)"
      ]
     },
     "execution_count": 8,
     "metadata": {},
     "output_type": "execute_result"
    }
   ],
   "source": [
    "g = torch.Generator().manual_seed(42)\n",
    "\n",
    "X = torch.tensor(inputs.values)\n",
    "Y = torch.tensor(targets.values)\n",
    "\n",
    "Xtr, Xval = torch.utils.data.random_split(X, [0.8, 0.2], generator=g)  # returns datasets\n",
    "Ytr, Yval = torch.utils.data.random_split(X, [0.8, 0.2], generator=g)\n",
    "len(Xtr), len(Xval)"
   ]
  },
  {
   "cell_type": "markdown",
   "id": "ce522e40",
   "metadata": {
    "heading_collapsed": true
   },
   "source": [
    "## Datasets & DataLoaders Tutorial"
   ]
  },
  {
   "cell_type": "markdown",
   "id": "781f562b",
   "metadata": {
    "hidden": true
   },
   "source": [
    "https://www.kaggle.com/code/pinocookie/pytorch-dataset-and-dataloader/notebook"
   ]
  },
  {
   "cell_type": "markdown",
   "id": "05b0d930",
   "metadata": {
    "heading_collapsed": true,
    "hidden": true
   },
   "source": [
    "### Custom DataSet Object"
   ]
  },
  {
   "cell_type": "markdown",
   "id": "d57422ea",
   "metadata": {
    "hidden": true
   },
   "source": [
    "AFAIK, we have to construct a bespoke `DataSet` object in the style of the boilerplate PyTorch `DataSet` class. More on that here: https://pytorch.org/tutorials/beginner/basics/data_tutorial.html#creating-a-custom-dataset-for-your-files\n"
   ]
  },
  {
   "cell_type": "code",
   "execution_count": 9,
   "id": "05c2694d",
   "metadata": {
    "hidden": true
   },
   "outputs": [],
   "source": [
    "from torch.utils.data import DataLoader, Dataset"
   ]
  },
  {
   "cell_type": "code",
   "execution_count": 823,
   "id": "e8855956",
   "metadata": {
    "hidden": true
   },
   "outputs": [],
   "source": [
    "class datMNIST(Dataset):\n",
    "    def __init__(self, file_path, img_format=False):\n",
    "        self.data = pd.read_csv(file_path)\n",
    "        self.img_format = img_format\n",
    "        \n",
    "    def __len__(self):\n",
    "        return len(self.data)\n",
    "    \n",
    "    def __getitem__(self, index):\n",
    "        if self.img_format == True:\n",
    "            # expand images into 28x28 format\n",
    "            image = torch.tensor(self.data.iloc[index, 1:].values).view(1, 28, 28).float()\n",
    "        else:\n",
    "            image = torch.tensor(self.data.iloc[index, 1:].values).unsqueeze(0).float()\n",
    "        \n",
    "        image = image/255    # standardize inputs (255 is max pixel value)\n",
    "        \n",
    "        label = self.data.iloc[index, 0]\n",
    "        \n",
    "        return image, label"
   ]
  },
  {
   "cell_type": "code",
   "execution_count": 824,
   "id": "e49ee064",
   "metadata": {
    "hidden": true
   },
   "outputs": [],
   "source": [
    "tdat = datMNIST(path/'train.csv', img_format=True)"
   ]
  },
  {
   "cell_type": "code",
   "execution_count": 115,
   "id": "7ada33f4",
   "metadata": {
    "hidden": true
   },
   "outputs": [],
   "source": [
    "img, lab = tdat.__getitem__(0)"
   ]
  },
  {
   "cell_type": "code",
   "execution_count": 62,
   "id": "01fc8aab",
   "metadata": {
    "hidden": true
   },
   "outputs": [
    {
     "data": {
      "text/plain": [
       "(torch.Tensor, numpy.int64)"
      ]
     },
     "execution_count": 62,
     "metadata": {},
     "output_type": "execute_result"
    }
   ],
   "source": [
    "type(img), type(lab)"
   ]
  },
  {
   "cell_type": "markdown",
   "id": "43df2c5b",
   "metadata": {
    "heading_collapsed": true,
    "hidden": true
   },
   "source": [
    "### Loading with a DataLoader"
   ]
  },
  {
   "cell_type": "code",
   "execution_count": 56,
   "id": "7a8e935b",
   "metadata": {
    "hidden": true
   },
   "outputs": [],
   "source": [
    "train_loader = DataLoader(tdat, batch_size=8, shuffle=True)"
   ]
  },
  {
   "cell_type": "markdown",
   "id": "8937712e",
   "metadata": {
    "hidden": true
   },
   "source": [
    "We can iterate over this with the `iter()` function:"
   ]
  },
  {
   "cell_type": "code",
   "execution_count": 57,
   "id": "4bdbfe67",
   "metadata": {
    "hidden": true,
    "scrolled": true
   },
   "outputs": [
    {
     "name": "stdout",
     "output_type": "stream",
     "text": [
      "<class 'torch.utils.data.dataloader._SingleProcessDataLoaderIter'>\n"
     ]
    }
   ],
   "source": [
    "train_iter = iter(train_loader)\n",
    "print(type(train_iter))"
   ]
  },
  {
   "cell_type": "code",
   "execution_count": 58,
   "id": "0cf1f16d",
   "metadata": {
    "hidden": true
   },
   "outputs": [
    {
     "name": "stdout",
     "output_type": "stream",
     "text": [
      "image batch: torch.Size([8, 1, 28, 28])\n",
      "labels batch: torch.Size([8])\n"
     ]
    }
   ],
   "source": [
    "images, labels = next(train_iter)\n",
    "\n",
    "print('image batch:', images.shape)\n",
    "print('labels batch:', labels.shape)"
   ]
  },
  {
   "cell_type": "markdown",
   "id": "74e60348",
   "metadata": {
    "hidden": true
   },
   "source": [
    "There's a super handy function to view the batched images:"
   ]
  },
  {
   "cell_type": "code",
   "execution_count": 59,
   "id": "fae3c35f",
   "metadata": {
    "hidden": true
   },
   "outputs": [
    {
     "name": "stderr",
     "output_type": "stream",
     "text": [
      "Clipping input data to the valid range for imshow with RGB data ([0..1] for floats or [0..255] for integers).\n"
     ]
    },
    {
     "name": "stdout",
     "output_type": "stream",
     "text": [
      "torch.Size([3, 32, 242])\n"
     ]
    },
    {
     "data": {
      "image/png": "[encoded data removed]",
      "text/plain": [
       "<Figure size 432x288 with 1 Axes>"
      ]
     },
     "metadata": {
      "needs_background": "light"
     },
     "output_type": "display_data"
    }
   ],
   "source": [
    "import torchvision.utils\n",
    "grid = torchvision.utils.make_grid(images)  # expects (B,C,H,W)\n",
    "print(grid.shape)\n",
    "plt.imshow(grid.permute(1, 2, 0))    \n",
    "plt.axis('off')\n",
    "plt.title(labels);"
   ]
  },
  {
   "cell_type": "markdown",
   "id": "ab4f25d3",
   "metadata": {
    "hidden": true
   },
   "source": [
    "Pretty cool."
   ]
  },
  {
   "cell_type": "code",
   "execution_count": 224,
   "id": "50025f8f",
   "metadata": {
    "hidden": true
   },
   "outputs": [],
   "source": [
    "tr_ds, val_ds = torch.utils.data.random_split(tdat, [0.8, 0.2]) "
   ]
  },
  {
   "cell_type": "code",
   "execution_count": 226,
   "id": "fac8f062",
   "metadata": {
    "hidden": true
   },
   "outputs": [
    {
     "data": {
      "text/plain": [
       "(33600, 8400)"
      ]
     },
     "execution_count": 226,
     "metadata": {},
     "output_type": "execute_result"
    }
   ],
   "source": [
    "len(tr_ds), len(val_ds)"
   ]
  },
  {
   "cell_type": "code",
   "execution_count": 500,
   "id": "9ef3b815",
   "metadata": {
    "hidden": true
   },
   "outputs": [],
   "source": [
    "# increasing batch_size\n",
    "tr_dl = DataLoader(tr_ds, batch_size=128, shuffle=True)\n",
    "val_dl = DataLoader(tr_ds, batch_size=128, shuffle=True)"
   ]
  },
  {
   "cell_type": "code",
   "execution_count": 505,
   "id": "0b93110d",
   "metadata": {
    "hidden": true
   },
   "outputs": [
    {
     "name": "stdout",
     "output_type": "stream",
     "text": [
      "training xb shape: (128, 1, 28, 28) | val xb shape: (128, 1, 28, 28)\n",
      "training yb shape: (128,) | val yb shape: (128,)\n"
     ]
    }
   ],
   "source": [
    "# check new shapes\n",
    "train_iter = iter(tr_dl)\n",
    "val_iter = iter(val_dl)\n",
    "xb, yb = next(train_iter)\n",
    "xbv, ybv = next(val_iter)\n",
    "print(f'training xb shape: {tuple(xb.shape)} | val xb shape: {tuple(xbv.shape)}')\n",
    "print(f'training yb shape: {tuple(yb.shape)} | val yb shape: {tuple(ybv.shape)}')"
   ]
  },
  {
   "cell_type": "markdown",
   "id": "2f893a75",
   "metadata": {
    "heading_collapsed": true
   },
   "source": [
    "## Basic MLP"
   ]
  },
  {
   "cell_type": "code",
   "execution_count": 186,
   "id": "1c37ae69",
   "metadata": {
    "hidden": true
   },
   "outputs": [],
   "source": [
    "class MLP(nn.Module):\n",
    "    def __init__(self, n_layers, n_hidden):\n",
    "        super().__init__()\n",
    "        self.n_layers = n_layers\n",
    "        self.n_hidden = n_hidden\n",
    "        self.seq = nn.Sequential()\n",
    "        \n",
    "        for l in range(self.n_layers):\n",
    "            fan_in = 784 if l == 0 else n_hidden\n",
    "            self.seq.append(nn.Linear(fan_in, n_hidden))\n",
    "            self.seq.append(nn.ReLU())\n",
    "            \n",
    "        self.seq.append(nn.Linear(n_hidden, 10))    # final output layer\n",
    "                \n",
    "    def forward(self, x):\n",
    "#         seq = nn.Sequential(*self.layers)    # unpack list of modules into Sequential\n",
    "        return self.seq(x)"
   ]
  },
  {
   "cell_type": "code",
   "execution_count": 282,
   "id": "42bdf296",
   "metadata": {
    "hidden": true,
    "scrolled": true
   },
   "outputs": [
    {
     "name": "stdout",
     "output_type": "stream",
     "text": [
      "MLP 118282\n",
      "Linear 100480\n",
      "ReLU 0\n",
      "Linear 16512\n",
      "ReLU 0\n",
      "Linear 1290\n"
     ]
    }
   ],
   "source": [
    "model = MLP(n_layers=2, n_hidden=128)\n",
    "\n",
    "for module in model.modules():\n",
    "    name = module.__class__.__name__\n",
    "    if name != \"Sequential\":\n",
    "        print(module.__class__.__name__, sum(p.nelement() for p in module.parameters()))\n",
    "        \n",
    "for p in model.parameters(): p.requires_grad = True"
   ]
  },
  {
   "cell_type": "markdown",
   "id": "3a29ddd1",
   "metadata": {
    "heading_collapsed": true,
    "hidden": true
   },
   "source": [
    "#### Adam Test Class"
   ]
  },
  {
   "cell_type": "code",
   "execution_count": 97,
   "id": "8eef619b",
   "metadata": {
    "hidden": true
   },
   "outputs": [],
   "source": [
    "class Adam:\n",
    "    def __init__(self, params, lr):\n",
    "        self.params = list(params)  # accepts model parameters at initialization\n",
    "        self.lr = lr\n",
    "        self.b1 = 0.9    # beta1\n",
    "        self.b2 = 0.999  # beta2\n",
    "        self.eps = 1e-8\n",
    "        self.m = []       # first moment\n",
    "        self.v = []       # second moment\n",
    "        \n",
    "        for p in self.params:    # init zero tensors of same shape as parameters tensors\n",
    "            self.m.append(torch.zeros_like(p))\n",
    "            self.v.append(torch.zeros_like(p))\n",
    "            \n",
    "    def step(self):\n",
    "        idx = 0\n",
    "        for p in self.params:\n",
    "            self.m[idx] = self.b1*self.m[idx] + (1 - self.b1) * p.grad      # update first moment\n",
    "            self.v[idx] = self.b2*self.v[idx] + (1 - self.b2) * p.grad**2   # update second moment\n",
    "            m_hat = self.m[idx] #/(1 - self.b1**step)\n",
    "            v_hat = self.v[idx] #/(1 - self.b2**step)\n",
    "            p.data -= self.lr * m_hat / (v_hat + self.eps)\n",
    "            idx += 1\n",
    "            \n",
    "    def zero_grad(self):\n",
    "        for p in self.params: p.grad = None"
   ]
  },
  {
   "cell_type": "code",
   "execution_count": 112,
   "id": "7fdb93a3",
   "metadata": {
    "hidden": true
   },
   "outputs": [],
   "source": [
    "optim = Adam(model.parameters(), lr = 0.01)"
   ]
  },
  {
   "cell_type": "markdown",
   "id": "a852258d",
   "metadata": {
    "heading_collapsed": true,
    "hidden": true
   },
   "source": [
    "### Validation Loss Function"
   ]
  },
  {
   "cell_type": "code",
   "execution_count": 272,
   "id": "5a14c57d",
   "metadata": {
    "hidden": true
   },
   "outputs": [],
   "source": [
    "def val_metrics(model, val_data):\n",
    "    accs = []\n",
    "    losses = []\n",
    "    for xb, yb in val_data:\n",
    "        B, C, H, W = xb.shape\n",
    "        xb = xb.view(B, C, -1)\n",
    "        logits = model(xb)\n",
    "        \n",
    "        # calc loss\n",
    "        batch_loss = F.cross_entropy(logits.squeeze(1), yb).item()\n",
    "        \n",
    "        # calc acc\n",
    "        probs = F.softmax(logits, dim=2)\n",
    "        preds = torch.argmax(probs, 2).squeeze(1)    # index values of max prob classes\n",
    "        batch_acc = (preds == yb).float().mean().item()\n",
    "        \n",
    "        # standardize metrics for batch_size and append\n",
    "        accs.append( batch_acc * (preds.nelement()/B) )\n",
    "        losses.append( batch_loss * (preds.nelement()/B) )\n",
    "    \n",
    "    accuracy = sum(accs)/len(accs)\n",
    "    loss = sum(losses)/len(losses)\n",
    "    \n",
    "#     accuracy = round(torch.stack(accs).mean().item(), 4)\n",
    "#     loss = round(torch.stack(losses).mean().item(), 4)\n",
    "    \n",
    "    return round(accuracy, 4), round(loss, 4)"
   ]
  },
  {
   "cell_type": "markdown",
   "id": "ea7878d0",
   "metadata": {
    "hidden": true
   },
   "source": [
    "### Model Training"
   ]
  },
  {
   "cell_type": "code",
   "execution_count": 581,
   "id": "73bf89e6",
   "metadata": {
    "hidden": true,
    "scrolled": true
   },
   "outputs": [],
   "source": [
    "def train_mlp(model, tr_data, epochs):\n",
    "    loss_tracker = []\n",
    "    \n",
    "    for epoch in range(epochs):\n",
    "        loss_e = []\n",
    "        for xb, yb in train_loader:\n",
    "            B, C, H, W = xb.shape\n",
    "\n",
    "            # forward\n",
    "            logits = model(xb.view(B, C, -1))\n",
    "            loss = F.cross_entropy(logits.squeeze(1), yb)    # we don't need C with only 1 channel\n",
    "            loss_e.append(loss.item())\n",
    "            \n",
    "            # backward\n",
    "            optim.zero_grad()\n",
    "            loss.backward()\n",
    "\n",
    "            # gradient descent\n",
    "            optim.step()\n",
    "        \n",
    "        val_acc, val_loss = val_metrics(model, val_dl)\n",
    "        \n",
    "        loss_tracker.append(loss_e)\n",
    "        print(f'Epoch: {epoch} | Avg Tr Loss: {sum(loss_e)/len(loss_e):.4f} \\\n",
    "              Val Loss: {val_loss} | Val Acc: {val_acc}')"
   ]
  },
  {
   "cell_type": "code",
   "execution_count": 284,
   "id": "98310219",
   "metadata": {
    "hidden": true
   },
   "outputs": [],
   "source": [
    "optim = torch.optim.Adam(model.parameters())    # lr = 0.001 by default, inherent annealing"
   ]
  },
  {
   "cell_type": "code",
   "execution_count": 196,
   "id": "7324ae48",
   "metadata": {
    "hidden": true
   },
   "outputs": [],
   "source": [
    "optim = torch.optim.SGD(model.parameters(), lr=0.001)"
   ]
  },
  {
   "cell_type": "code",
   "execution_count": 285,
   "id": "49ae735b",
   "metadata": {
    "hidden": true
   },
   "outputs": [
    {
     "name": "stdout",
     "output_type": "stream",
     "text": [
      "Epoch: 0 | Avg Tr Loss: 0.4639 |               Val Loss: 0.149 | Val Acc: 0.953\n",
      "Epoch: 1 | Avg Tr Loss: 0.1485 |               Val Loss: 0.1111 | Val Acc: 0.9663\n",
      "Epoch: 2 | Avg Tr Loss: 0.1093 |               Val Loss: 0.0609 | Val Acc: 0.9807\n",
      "Epoch: 3 | Avg Tr Loss: 0.0824 |               Val Loss: 0.0582 | Val Acc: 0.9807\n",
      "Epoch: 4 | Avg Tr Loss: 0.0751 |               Val Loss: 0.0692 | Val Acc: 0.9772\n",
      "Epoch: 5 | Avg Tr Loss: 0.0646 |               Val Loss: 0.0482 | Val Acc: 0.9838\n",
      "Epoch: 6 | Avg Tr Loss: 0.0608 |               Val Loss: 0.045 | Val Acc: 0.9851\n",
      "Epoch: 7 | Avg Tr Loss: 0.0648 |               Val Loss: 0.0557 | Val Acc: 0.9819\n",
      "Epoch: 8 | Avg Tr Loss: 0.0589 |               Val Loss: 0.0581 | Val Acc: 0.9822\n",
      "Epoch: 9 | Avg Tr Loss: 0.0395 |               Val Loss: 0.0525 | Val Acc: 0.984\n"
     ]
    }
   ],
   "source": [
    "train(model, tr_dl, epochs=10)"
   ]
  },
  {
   "cell_type": "code",
   "execution_count": 298,
   "id": "f3de3365",
   "metadata": {
    "hidden": true
   },
   "outputs": [
    {
     "data": {
      "text/plain": [
       "[<matplotlib.lines.Line2D at 0x1db88c97430>]"
      ]
     },
     "execution_count": 298,
     "metadata": {},
     "output_type": "execute_result"
    },
    {
     "data": {
      "image/png": "[encoded data removed]",
      "text/plain": [
       "<Figure size 432x288 with 1 Axes>"
      ]
     },
     "metadata": {
      "needs_background": "light"
     },
     "output_type": "display_data"
    }
   ],
   "source": [
    "# import itertools\n",
    "# loss_tracker = list(itertools.chain.from_iterable(loss_tracker))  # concat loss lists\n",
    "plt.plot(torch.tensor(loss_tracker[:-37]).view(-1, 50).log().mean(1))"
   ]
  },
  {
   "cell_type": "markdown",
   "id": "fdda440b",
   "metadata": {
    "heading_collapsed": true
   },
   "source": [
    "## Basic CNN"
   ]
  },
  {
   "cell_type": "code",
   "execution_count": 625,
   "id": "c0148f51",
   "metadata": {
    "hidden": true
   },
   "outputs": [],
   "source": [
    "class CNN(nn.Module):\n",
    "    def __init__(self, n_layers, n_chan, filter_size, padding=1, pooling=False):\n",
    "        super().__init__()\n",
    "        self.n_layers = n_layers\n",
    "        self.n_chan = n_chan\n",
    "        self.filter = filter_size\n",
    "        self.seq = nn.Sequential()\n",
    "        self.padding=padding\n",
    "        self.pooling = pooling\n",
    "        \n",
    "        for l in range(n_layers):\n",
    "            in_chan = 1 if l == 0 else n_chan\n",
    "            self.seq.append(nn.Conv2d(in_channels = in_chan, \n",
    "                                      out_channels = self.n_chan,\n",
    "                                      kernel_size = self.filter,\n",
    "                                      padding = self.padding))\n",
    "            self.seq.append(nn.ReLU())\n",
    "        \n",
    "        self.flatten = nn.Flatten()\n",
    "        \n",
    "        # choose kernel_size < filter_size and s.t. 28 % kernel_size = 0 (so filters do not overlap)\n",
    "        if self.pooling == \"Max\":\n",
    "            self.seq.append(nn.MaxPool2d(kernel_size=2))\n",
    "        elif self.pooling == \"Mean\":\n",
    "            self.seq.append(nn.AvgPool2d(kernel_size=2))\n",
    "        \n",
    "        if self.pooling == False:\n",
    "            self.linear_output = nn.Linear(n_chan*784, 10)\n",
    "        else:\n",
    "            self.linear_output = nn.Linear(n_chan*14*14, 10)\n",
    "        \n",
    "    def forward(self, x):\n",
    "        B, C, H, W = x.shape                             # get dimensions\n",
    "        out = self.seq(x)                                # pass through conv layers\n",
    "        out = out.view(B, self.n_chan, -1)               # reshape for linear layer\n",
    "        out = self.flatten(out)                          # flatten\n",
    "        out = self.linear_output(out)                    # output\n",
    "        return out"
   ]
  },
  {
   "cell_type": "code",
   "execution_count": 477,
   "id": "97e85b49",
   "metadata": {
    "hidden": true
   },
   "outputs": [
    {
     "name": "stdout",
     "output_type": "stream",
     "text": [
      "CNN 1990\n",
      "Conv2d 10\n",
      "ReLU 0\n",
      "Conv2d 10\n",
      "ReLU 0\n",
      "MaxPool2d 0\n",
      "Linear 1970\n"
     ]
    }
   ],
   "source": [
    "model = CNN(n_layers = 2,\n",
    "            n_chan = 1,\n",
    "            filter_size = 3,\n",
    "            padding = 1,\n",
    "            pooling = \"Max\")\n",
    "for module in model.modules():\n",
    "    name = module.__class__.__name__\n",
    "    if name != \"Sequential\":\n",
    "        print(module.__class__.__name__, sum(p.nelement() for p in module.parameters()))\n",
    "        \n",
    "for p in model.parameters(): p.requires_grad = True"
   ]
  },
  {
   "cell_type": "markdown",
   "id": "e3204b43",
   "metadata": {
    "heading_collapsed": true,
    "hidden": true
   },
   "source": [
    "### Validation Metrics"
   ]
  },
  {
   "cell_type": "code",
   "execution_count": 449,
   "id": "6a034964",
   "metadata": {
    "hidden": true
   },
   "outputs": [],
   "source": [
    "def val_metrics_cnn(model, val_data):\n",
    "    accs = []\n",
    "    losses = []\n",
    "    for xb, yb in val_data:\n",
    "        logits = model(xb)\n",
    "        \n",
    "        # calc loss\n",
    "        batch_loss = F.cross_entropy(logits.squeeze(1), yb).item()\n",
    "        \n",
    "        # calc acc\n",
    "        probs = F.softmax(logits, dim=2)\n",
    "        preds = torch.argmax(probs, 2).squeeze(1)    # index values of max prob classes\n",
    "        batch_acc = (preds == yb).float().mean().item()\n",
    "        \n",
    "        # standardize metrics for batch_size and append\n",
    "        accs.append( batch_acc * (preds.nelement()/B) )\n",
    "        losses.append( batch_loss * (preds.nelement()/B) )\n",
    "    \n",
    "    accuracy = sum(accs)/len(accs)\n",
    "    loss = sum(losses)/len(losses)\n",
    "    \n",
    "#     accuracy = round(torch.stack(accs).mean().item(), 4)\n",
    "#     loss = round(torch.stack(losses).mean().item(), 4)\n",
    "    \n",
    "    return round(accuracy, 4), round(loss, 4)"
   ]
  },
  {
   "cell_type": "markdown",
   "id": "7aa4e47c",
   "metadata": {
    "heading_collapsed": true,
    "hidden": true
   },
   "source": [
    "### Model Training"
   ]
  },
  {
   "cell_type": "code",
   "execution_count": 629,
   "id": "80e28bf6",
   "metadata": {
    "hidden": true
   },
   "outputs": [],
   "source": [
    "def train_cnn(model, tr_data, epochs):\n",
    "    for epoch in range(epochs):\n",
    "        loss_e = []\n",
    "        for xb, yb in tr_data:\n",
    "            \n",
    "            # forward\n",
    "            loss = F.cross_entropy(model(xb).squeeze(1), yb)\n",
    "            \n",
    "            # backward\n",
    "            optim.zero_grad()\n",
    "            loss.backward()\n",
    "            \n",
    "            # gradient descent\n",
    "            optim.step()\n",
    "            \n",
    "            loss_e.append(loss)\n",
    "        \n",
    "        val_acc, val_loss = val_metrics_cnn(model, val_dl)\n",
    "        \n",
    "        print(f'Epoch: {epoch} | Avg Training Loss: {torch.stack(loss_e).mean().item():.4f} \\\n",
    "              Val Loss: {val_loss} | Val Acc: {val_acc}')"
   ]
  },
  {
   "cell_type": "markdown",
   "id": "802e767a",
   "metadata": {
    "heading_collapsed": true,
    "hidden": true
   },
   "source": [
    "#### SGD (k=3, pooling=False)"
   ]
  },
  {
   "cell_type": "code",
   "execution_count": 440,
   "id": "96cd828b",
   "metadata": {
    "hidden": true
   },
   "outputs": [],
   "source": [
    "optim = torch.optim.SGD(model.parameters(), lr = 0.01)"
   ]
  },
  {
   "cell_type": "code",
   "execution_count": 438,
   "id": "0387967f",
   "metadata": {
    "collapsed": true,
    "hidden": true
   },
   "outputs": [
    {
     "name": "stdout",
     "output_type": "stream",
     "text": [
      "Epoch: 0 | Avg Training Loss: 0.5876 \n",
      "Epoch: 1 | Avg Training Loss: 0.3202 \n",
      "Epoch: 2 | Avg Training Loss: 0.2896 \n",
      "Epoch: 3 | Avg Training Loss: 0.2697 \n",
      "Epoch: 4 | Avg Training Loss: 0.2567 \n",
      "Epoch: 5 | Avg Training Loss: 0.2460 \n",
      "Epoch: 6 | Avg Training Loss: 0.2383 \n",
      "Epoch: 7 | Avg Training Loss: 0.2334 \n",
      "Epoch: 8 | Avg Training Loss: 0.2306 \n",
      "Epoch: 9 | Avg Training Loss: 0.2265 \n"
     ]
    }
   ],
   "source": [
    "train_cnn(model, tr_dl, epochs=10)   # n_layers = 2"
   ]
  },
  {
   "cell_type": "code",
   "execution_count": 441,
   "id": "2da9b22e",
   "metadata": {
    "collapsed": true,
    "hidden": true
   },
   "outputs": [
    {
     "name": "stdout",
     "output_type": "stream",
     "text": [
      "Epoch: 0 | Avg Training Loss: 0.6013 \n",
      "Epoch: 1 | Avg Training Loss: 0.3204 \n",
      "Epoch: 2 | Avg Training Loss: 0.2899 \n",
      "Epoch: 3 | Avg Training Loss: 0.2739 \n",
      "Epoch: 4 | Avg Training Loss: 0.2622 \n",
      "Epoch: 5 | Avg Training Loss: 0.2522 \n",
      "Epoch: 6 | Avg Training Loss: 0.2442 \n",
      "Epoch: 7 | Avg Training Loss: 0.2372 \n",
      "Epoch: 8 | Avg Training Loss: 0.2300 \n",
      "Epoch: 9 | Avg Training Loss: 0.2254 \n"
     ]
    }
   ],
   "source": [
    "train_cnn(model, tr_dl, epochs=10)   # n_layers = 4"
   ]
  },
  {
   "cell_type": "markdown",
   "id": "f34af174",
   "metadata": {
    "heading_collapsed": true,
    "hidden": true
   },
   "source": [
    "#### Adam (k=3, pooling=False)"
   ]
  },
  {
   "cell_type": "code",
   "execution_count": 447,
   "id": "b05c1276",
   "metadata": {
    "hidden": true
   },
   "outputs": [],
   "source": [
    "optim = torch.optim.Adam(model.parameters())"
   ]
  },
  {
   "cell_type": "code",
   "execution_count": 445,
   "id": "98a66664",
   "metadata": {
    "collapsed": true,
    "hidden": true
   },
   "outputs": [
    {
     "name": "stdout",
     "output_type": "stream",
     "text": [
      "Epoch: 0 | Avg Training Loss: 0.5729 \n",
      "Epoch: 1 | Avg Training Loss: 0.3669 \n",
      "Epoch: 2 | Avg Training Loss: 0.3353 \n",
      "Epoch: 3 | Avg Training Loss: 0.3010 \n",
      "Epoch: 4 | Avg Training Loss: 0.2704 \n",
      "Epoch: 5 | Avg Training Loss: 0.2534 \n",
      "Epoch: 6 | Avg Training Loss: 0.2400 \n",
      "Epoch: 7 | Avg Training Loss: 0.2293 \n",
      "Epoch: 8 | Avg Training Loss: 0.2205 \n",
      "Epoch: 9 | Avg Training Loss: 0.2136 \n"
     ]
    }
   ],
   "source": [
    "train_cnn(model, tr_dl, epochs=10)   # n_layers = 2, Adam"
   ]
  },
  {
   "cell_type": "code",
   "execution_count": 448,
   "id": "b23b1bca",
   "metadata": {
    "collapsed": true,
    "hidden": true
   },
   "outputs": [
    {
     "name": "stdout",
     "output_type": "stream",
     "text": [
      "Epoch: 0 | Avg Training Loss: 1.0108 \n",
      "Epoch: 1 | Avg Training Loss: 0.3038 \n",
      "Epoch: 2 | Avg Training Loss: 0.2705 \n",
      "Epoch: 3 | Avg Training Loss: 0.2549 \n",
      "Epoch: 4 | Avg Training Loss: 0.2448 \n",
      "Epoch: 5 | Avg Training Loss: 0.2393 \n",
      "Epoch: 6 | Avg Training Loss: 0.2320 \n",
      "Epoch: 7 | Avg Training Loss: 0.2314 \n",
      "Epoch: 8 | Avg Training Loss: 0.2255 \n",
      "Epoch: 9 | Avg Training Loss: 0.2233 \n"
     ]
    }
   ],
   "source": [
    "train_cnn(model, tr_dl, epochs=10)   # n_layers = 4, Adam"
   ]
  },
  {
   "cell_type": "code",
   "execution_count": 451,
   "id": "cbb4b5b9",
   "metadata": {
    "hidden": true
   },
   "outputs": [
    {
     "data": {
      "text/plain": [
       "(0.9323, 0.2118)"
      ]
     },
     "execution_count": 451,
     "metadata": {},
     "output_type": "execute_result"
    }
   ],
   "source": [
    "val_metrics_cnn(model, val_dl)"
   ]
  },
  {
   "cell_type": "markdown",
   "id": "dee54126",
   "metadata": {
    "heading_collapsed": true,
    "hidden": true
   },
   "source": [
    "#### Adam (pooling=\"Max\")"
   ]
  },
  {
   "cell_type": "code",
   "execution_count": 484,
   "id": "517c5d2f",
   "metadata": {
    "hidden": true
   },
   "outputs": [],
   "source": [
    "model = CNN(n_layers = 4,\n",
    "            n_chan = 1,\n",
    "            filter_size = 5,\n",
    "            padding = 2,\n",
    "            pooling = \"Max\")"
   ]
  },
  {
   "cell_type": "code",
   "execution_count": 485,
   "id": "264d1024",
   "metadata": {
    "hidden": true
   },
   "outputs": [],
   "source": [
    "optim = torch.optim.Adam(model.parameters())"
   ]
  },
  {
   "cell_type": "code",
   "execution_count": 480,
   "id": "1fbdfa00",
   "metadata": {
    "hidden": true,
    "scrolled": true
   },
   "outputs": [
    {
     "name": "stdout",
     "output_type": "stream",
     "text": [
      "Epoch: 0 | Avg Training Loss: 3.0042 \n",
      "Epoch: 1 | Avg Training Loss: 0.4825 \n",
      "Epoch: 2 | Avg Training Loss: 0.3562 \n",
      "Epoch: 3 | Avg Training Loss: 0.3081 \n",
      "Epoch: 4 | Avg Training Loss: 0.2798 \n",
      "Epoch: 5 | Avg Training Loss: 0.2610 \n",
      "Epoch: 6 | Avg Training Loss: 0.2493 \n",
      "Epoch: 7 | Avg Training Loss: 0.2397 \n",
      "Epoch: 8 | Avg Training Loss: 0.2326 \n",
      "Epoch: 9 | Avg Training Loss: 0.2278 \n"
     ]
    }
   ],
   "source": [
    "train_cnn(model, tr_dl, epochs=10)   # n_layers = 2, k = 3, Adam"
   ]
  },
  {
   "cell_type": "code",
   "execution_count": 483,
   "id": "3dd1ac1c",
   "metadata": {
    "hidden": true
   },
   "outputs": [
    {
     "name": "stdout",
     "output_type": "stream",
     "text": [
      "Epoch: 0 | Avg Training Loss: 0.8224 \n",
      "Epoch: 1 | Avg Training Loss: 0.2485 \n",
      "Epoch: 2 | Avg Training Loss: 0.2034 \n",
      "Epoch: 3 | Avg Training Loss: 0.1840 \n",
      "Epoch: 4 | Avg Training Loss: 0.1765 \n",
      "Epoch: 5 | Avg Training Loss: 0.1693 \n",
      "Epoch: 6 | Avg Training Loss: 0.1632 \n",
      "Epoch: 7 | Avg Training Loss: 0.1600 \n",
      "Epoch: 8 | Avg Training Loss: 0.1560 \n",
      "Epoch: 9 | Avg Training Loss: 0.1539 \n"
     ]
    }
   ],
   "source": [
    "train_cnn(model, tr_dl, epochs=10)   # n_layers = 2, k = 5, Adam"
   ]
  },
  {
   "cell_type": "code",
   "execution_count": 486,
   "id": "9a96dd35",
   "metadata": {
    "hidden": true
   },
   "outputs": [
    {
     "name": "stdout",
     "output_type": "stream",
     "text": [
      "Epoch: 0 | Avg Training Loss: 0.6856 \n",
      "Epoch: 1 | Avg Training Loss: 0.3359 \n",
      "Epoch: 2 | Avg Training Loss: 0.2918 \n",
      "Epoch: 3 | Avg Training Loss: 0.2643 \n",
      "Epoch: 4 | Avg Training Loss: 0.2450 \n",
      "Epoch: 5 | Avg Training Loss: 0.2331 \n",
      "Epoch: 6 | Avg Training Loss: 0.2181 \n",
      "Epoch: 7 | Avg Training Loss: 0.2112 \n",
      "Epoch: 8 | Avg Training Loss: 0.2021 \n",
      "Epoch: 9 | Avg Training Loss: 0.1964 \n"
     ]
    }
   ],
   "source": [
    "train_cnn(model, tr_dl, epochs=10)   # n_layers = 4, k = 5, Adam"
   ]
  },
  {
   "cell_type": "markdown",
   "id": "25276800",
   "metadata": {
    "heading_collapsed": true,
    "hidden": true
   },
   "source": [
    "#### Adam (pooling=\"Mean\")"
   ]
  },
  {
   "cell_type": "code",
   "execution_count": 508,
   "id": "985fb27d",
   "metadata": {
    "hidden": true,
    "scrolled": true
   },
   "outputs": [],
   "source": [
    "model = CNN(n_layers = 2,\n",
    "            n_chan = 1,\n",
    "            filter_size = 5,\n",
    "            padding = 2,\n",
    "            pooling = \"Mean\")"
   ]
  },
  {
   "cell_type": "code",
   "execution_count": 509,
   "id": "11744076",
   "metadata": {
    "hidden": true
   },
   "outputs": [],
   "source": [
    "optim = torch.optim.Adam(model.parameters())"
   ]
  },
  {
   "cell_type": "code",
   "execution_count": 510,
   "id": "172737a7",
   "metadata": {
    "hidden": true,
    "scrolled": false
   },
   "outputs": [
    {
     "name": "stdout",
     "output_type": "stream",
     "text": [
      "Epoch: 0 | Avg Training Loss: 0.7935 \n",
      "Epoch: 1 | Avg Training Loss: 0.3193 \n",
      "Epoch: 2 | Avg Training Loss: 0.2659 \n",
      "Epoch: 3 | Avg Training Loss: 0.2373 \n",
      "Epoch: 4 | Avg Training Loss: 0.2204 \n",
      "Epoch: 5 | Avg Training Loss: 0.2077 \n",
      "Epoch: 6 | Avg Training Loss: 0.1965 \n",
      "Epoch: 7 | Avg Training Loss: 0.1916 \n",
      "Epoch: 8 | Avg Training Loss: 0.1867 \n",
      "Epoch: 9 | Avg Training Loss: 0.1806 \n"
     ]
    }
   ],
   "source": [
    "train_cnn(model, tr_dl, epochs=10)   # n_layers = 2, k = 5, Adam"
   ]
  },
  {
   "cell_type": "code",
   "execution_count": 511,
   "id": "91f0bd17",
   "metadata": {
    "hidden": true
   },
   "outputs": [
    {
     "data": {
      "text/plain": [
       "(0.9445, 0.173)"
      ]
     },
     "execution_count": 511,
     "metadata": {},
     "output_type": "execute_result"
    }
   ],
   "source": [
    "val_metrics_cnn(model, val_dl)"
   ]
  },
  {
   "cell_type": "code",
   "execution_count": 503,
   "id": "143f9a1d",
   "metadata": {
    "hidden": true,
    "scrolled": true
   },
   "outputs": [
    {
     "name": "stdout",
     "output_type": "stream",
     "text": [
      "Epoch: 0 | Avg Training Loss: 0.6827 \n",
      "Epoch: 1 | Avg Training Loss: 0.3019 \n",
      "Epoch: 2 | Avg Training Loss: 0.2609 \n",
      "Epoch: 3 | Avg Training Loss: 0.2390 \n",
      "Epoch: 4 | Avg Training Loss: 0.2254 \n",
      "Epoch: 5 | Avg Training Loss: 0.2142 \n",
      "Epoch: 6 | Avg Training Loss: 0.2036 \n",
      "Epoch: 7 | Avg Training Loss: 0.1962 \n",
      "Epoch: 8 | Avg Training Loss: 0.1894 \n",
      "Epoch: 9 | Avg Training Loss: 0.1853 \n"
     ]
    }
   ],
   "source": [
    "train_cnn(model, tr_dl, epochs=10)   # n_layers = 4, k = 5, Adam"
   ]
  },
  {
   "cell_type": "code",
   "execution_count": 504,
   "id": "a2301841",
   "metadata": {
    "hidden": true
   },
   "outputs": [
    {
     "data": {
      "text/plain": [
       "(0.9472, 0.1679)"
      ]
     },
     "execution_count": 504,
     "metadata": {},
     "output_type": "execute_result"
    }
   ],
   "source": [
    "val_metrics_cnn(model, val_dl)"
   ]
  },
  {
   "cell_type": "markdown",
   "id": "e8b27309",
   "metadata": {
    "heading_collapsed": true,
    "hidden": true
   },
   "source": [
    "### Manual Replication of Convolution"
   ]
  },
  {
   "cell_type": "markdown",
   "id": "258c0487",
   "metadata": {
    "hidden": true
   },
   "source": [
    "To better understand the nn.Conv2d module, I replicate the convolved output with a 'chunkated' dot-product loop."
   ]
  },
  {
   "cell_type": "code",
   "execution_count": 305,
   "id": "7b608604",
   "metadata": {
    "hidden": true
   },
   "outputs": [
    {
     "name": "stderr",
     "output_type": "stream",
     "text": [
      "Clipping input data to the valid range for imshow with RGB data ([0..1] for floats or [0..255] for integers).\n"
     ]
    },
    {
     "data": {
      "image/png": "[encoded data removed]",
      "text/plain": [
       "<Figure size 432x288 with 1 Axes>"
      ]
     },
     "metadata": {
      "needs_background": "light"
     },
     "output_type": "display_data"
    }
   ],
   "source": [
    "x = xb[0].view(1, 28, 28)\n",
    "grid = torchvision.utils.make_grid(x)  # expects (B,C,H,W)\n",
    "plt.imshow(grid.permute(1, 2, 0));"
   ]
  },
  {
   "cell_type": "code",
   "execution_count": 464,
   "id": "8ccdf8f9",
   "metadata": {
    "hidden": true
   },
   "outputs": [
    {
     "name": "stderr",
     "output_type": "stream",
     "text": [
      "Clipping input data to the valid range for imshow with RGB data ([0..1] for floats or [0..255] for integers).\n"
     ]
    },
    {
     "name": "stdout",
     "output_type": "stream",
     "text": [
      "torch.Size([1, 28, 28])\n"
     ]
    },
    {
     "data": {
      "image/png": "[encoded data removed]",
      "text/plain": [
       "<Figure size 432x288 with 1 Axes>"
      ]
     },
     "metadata": {
      "needs_background": "light"
     },
     "output_type": "display_data"
    }
   ],
   "source": [
    "c = nn.Conv2d(1, 1, 5, padding=2)   # applies padding to both sides\n",
    "conv_x = c(x)\n",
    "print(conv_x.shape)    # input_size - (k - 1)*d\n",
    "grid = torchvision.utils.make_grid(conv_x)\n",
    "plt.imshow(grid.permute(1, 2, 0));"
   ]
  },
  {
   "cell_type": "markdown",
   "id": "a22ab34e",
   "metadata": {
    "hidden": true
   },
   "source": [
    "Dimensions are reduced by (k - 1)*d. Because padding is added to all sides of the image, padding increases the input dimensions by 2. So, for an input of [28, 28] and (k=3, d=1, padding=1):\n",
    "    \n",
    "    Output dimensions: [28+2 - (3-1)*1, 28+2 - (3-1)*1] = [28, 28]\n",
    "\n",
    "Scaling up, in order to maintain the input dimensions, the padding must satisfy:\n",
    "\n",
    "    padding = (k - 1)*d / 2\n",
    "    \n",
    "It follows that the filter size (k) must also satisfy this equality in order for padding to work (be integer-valued)."
   ]
  },
  {
   "cell_type": "code",
   "execution_count": 475,
   "id": "dc3f80fd",
   "metadata": {
    "hidden": true
   },
   "outputs": [
    {
     "data": {
      "text/plain": [
       "torch.Size([1, 14, 14])"
      ]
     },
     "execution_count": 475,
     "metadata": {},
     "output_type": "execute_result"
    }
   ],
   "source": [
    "pool = nn.MaxPool2d(2)\n",
    "pool(conv_x).shape"
   ]
  },
  {
   "cell_type": "code",
   "execution_count": 390,
   "id": "dce91fad",
   "metadata": {
    "hidden": true
   },
   "outputs": [
    {
     "data": {
      "text/plain": [
       "(Parameter containing:\n",
       " tensor([[[[-0.1623, -0.0603,  0.0339],\n",
       "           [-0.1806, -0.0308,  0.0628],\n",
       "           [ 0.3279,  0.2601, -0.2356]]]], requires_grad=True),\n",
       " Parameter containing:\n",
       " tensor([-0.2511], requires_grad=True))"
      ]
     },
     "execution_count": 390,
     "metadata": {},
     "output_type": "execute_result"
    }
   ],
   "source": [
    "# parameters from the nn.Conv2d layer\n",
    "k = c.weight    # weights\n",
    "b = c.bias      # bias\n",
    "k, b"
   ]
  },
  {
   "cell_type": "code",
   "execution_count": 391,
   "id": "7c2edf57",
   "metadata": {
    "hidden": true,
    "scrolled": true
   },
   "outputs": [
    {
     "data": {
      "text/plain": [
       "tensor([[ 90.2767,  36.9687, -60.5300],\n",
       "        [ 49.3970, -37.9311, -76.2787],\n",
       "        [-21.0253, -83.8580, -21.0247]], grad_fn=<SliceBackward0>)"
      ]
     },
     "execution_count": 391,
     "metadata": {},
     "output_type": "execute_result"
    }
   ],
   "source": [
    "# convolved sample\n",
    "conv_x[0, 6:9, 12:15]"
   ]
  },
  {
   "cell_type": "code",
   "execution_count": 406,
   "id": "10ff719a",
   "metadata": {
    "hidden": true
   },
   "outputs": [
    {
     "data": {
      "text/plain": [
       "tensor([[255., 255., 191.],\n",
       "        [255., 128.,   0.],\n",
       "        [191.,   0.,   0.]])"
      ]
     },
     "execution_count": 406,
     "metadata": {},
     "output_type": "execute_result"
    }
   ],
   "source": [
    "# corresponding sample from input image\n",
    "sx = x[0,6:9, 12:15]\n",
    "sx"
   ]
  },
  {
   "cell_type": "code",
   "execution_count": 407,
   "id": "994f2503",
   "metadata": {
    "hidden": true
   },
   "outputs": [
    {
     "data": {
      "text/plain": [
       "tensor([-37.9311], grad_fn=<AddBackward0>)"
      ]
     },
     "execution_count": 407,
     "metadata": {},
     "output_type": "execute_result"
    }
   ],
   "source": [
    "# convolved output\n",
    "(sx * k).sum() + b    # dot-product plus bias"
   ]
  },
  {
   "cell_type": "code",
   "execution_count": 402,
   "id": "462a034c",
   "metadata": {
    "hidden": true
   },
   "outputs": [
    {
     "data": {
      "text/plain": [
       "torch.Size([30, 30])"
      ]
     },
     "execution_count": 402,
     "metadata": {},
     "output_type": "execute_result"
    }
   ],
   "source": [
    "# pad x because the conv layer includes padding\n",
    "x_pad = F.pad(x, (1,1,1,1)).squeeze(0)    # padding is added to all sides of the input\n",
    "x_pad.shape"
   ]
  },
  {
   "cell_type": "code",
   "execution_count": 403,
   "id": "61aa597d",
   "metadata": {
    "hidden": true
   },
   "outputs": [],
   "source": [
    "# loop over padded x, applying convolution\n",
    "out = torch.zeros(28, 28)\n",
    "for row in range(x_pad.shape[0] - 3):\n",
    "    for col in range(x_pad.shape[1] - 3):\n",
    "        out[row,col] = (x_pad[row:(row+3), col:(col+3)] * k).sum() + b"
   ]
  },
  {
   "cell_type": "code",
   "execution_count": 405,
   "id": "24b2a810",
   "metadata": {
    "hidden": true
   },
   "outputs": [
    {
     "name": "stderr",
     "output_type": "stream",
     "text": [
      "Clipping input data to the valid range for imshow with RGB data ([0..1] for floats or [0..255] for integers).\n"
     ]
    },
    {
     "data": {
      "image/png": "[encoded data removed]",
      "text/plain": [
       "<Figure size 432x288 with 1 Axes>"
      ]
     },
     "metadata": {
      "needs_background": "light"
     },
     "output_type": "display_data"
    }
   ],
   "source": [
    "# print resulting convolved image\n",
    "grid = torchvision.utils.make_grid(out.unsqueeze(0))\n",
    "plt.imshow(grid.permute(1, 2, 0));"
   ]
  },
  {
   "cell_type": "markdown",
   "id": "6c9cd9dc",
   "metadata": {
    "heading_collapsed": true
   },
   "source": [
    "## ResNet"
   ]
  },
  {
   "cell_type": "markdown",
   "id": "74ecffd9",
   "metadata": {
    "hidden": true
   },
   "source": [
    "Residual blocks follow structure presented in: \"Deep Learning for Image Recognition\" https://arxiv.org/abs/1512.03385"
   ]
  },
  {
   "cell_type": "code",
   "execution_count": 567,
   "id": "7db554e5",
   "metadata": {
    "hidden": true
   },
   "outputs": [],
   "source": [
    "class ResNet(nn.Module):\n",
    "    def __init__(self, n_blocks, filter_size, padding=1, pooling=False):\n",
    "        super().__init__()\n",
    "        self.n_blocks = n_blocks\n",
    "        self.filter = filter_size\n",
    "        self.padding = padding\n",
    "        self.pooling = pooling\n",
    "        self.blocks = nn.Sequential()\n",
    "        \n",
    "        self.in_conv = nn.Conv2d(in_channels = 1,\n",
    "                                 out_channels = 1,\n",
    "                                 kernel_size = self.filter,\n",
    "                                 padding = self.padding)\n",
    "        \n",
    "        for b in range(self.n_blocks):\n",
    "            # residual block\n",
    "            self.blocks.append(\n",
    "                nn.Sequential(\n",
    "                    nn.Conv2d(in_channels = 1, \n",
    "                              out_channels = 1, \n",
    "                              kernel_size = self.filter,\n",
    "                              padding = self.padding)\n",
    "                    ,nn.BatchNorm2d(1)\n",
    "                    ,nn.ReLU()\n",
    "                    ,nn.Conv2d(in_channels = 1, \n",
    "                              out_channels = 1, \n",
    "                              kernel_size = self.filter,\n",
    "                              padding = self.padding)\n",
    "                    ,nn.BatchNorm2d(1)\n",
    "                )\n",
    "            )\n",
    "\n",
    "        # choose kernel_size < filter_size and s.t. 28 % kernel_size = 0 (so filters do not overlap)\n",
    "        if self.pooling == \"Max\":\n",
    "            self.pool = nn.MaxPool2d(kernel_size=2)\n",
    "            self.linear_output = nn.Linear(14*14, 10)    # final output layer\n",
    "        elif self.pooling == \"Mean\":\n",
    "            self.pool = nn.AvgPool2d(kernel_size=2)\n",
    "            self.linear_output = nn.Linear(14*14, 10)    # final output layer\n",
    "        else:\n",
    "            self.linear_output = nn.Linear(28*28, 10)    # final output layer\n",
    "            \n",
    "    def forward(self, x):\n",
    "        B, C, H, W = x.shape\n",
    "        x = self.in_conv(x)                              # pass through initial conv layer\n",
    "        for b in self.blocks: x = F.relu(b(x) + x)       # pass through residual blocks\n",
    "        if self.pooling != False: x = self.pool(x)       # pool before output\n",
    "        x = x.view(B, C, -1)                             # reshape for linear output layer\n",
    "        logits = self.linear_output(x)                   # output\n",
    "        \n",
    "        return logits        "
   ]
  },
  {
   "cell_type": "code",
   "execution_count": 589,
   "id": "0eae25f8",
   "metadata": {
    "collapsed": true,
    "hidden": true
   },
   "outputs": [
    {
     "name": "stdout",
     "output_type": "stream",
     "text": [
      "ResNet 7932\n",
      "Conv2d 10\n",
      "BatchNorm2d 2\n",
      "ReLU 0\n",
      "Conv2d 10\n",
      "BatchNorm2d 2\n",
      "Conv2d 10\n",
      "BatchNorm2d 2\n",
      "ReLU 0\n",
      "Conv2d 10\n",
      "BatchNorm2d 2\n",
      "Conv2d 10\n",
      "BatchNorm2d 2\n",
      "ReLU 0\n",
      "Conv2d 10\n",
      "BatchNorm2d 2\n",
      "Conv2d 10\n",
      "Linear 7850\n"
     ]
    }
   ],
   "source": [
    "model = ResNet(n_blocks = 3,\n",
    "               filter_size = 3,\n",
    "               padding = 1,\n",
    "               pooling = False)\n",
    "\n",
    "for p in model.parameters(): p.requires_grad = True\n",
    "\n",
    "for module in model.modules():\n",
    "    name = module.__class__.__name__\n",
    "    if name != \"Sequential\":\n",
    "        print(module.__class__.__name__, sum(p.nelement() for p in module.parameters()))"
   ]
  },
  {
   "cell_type": "markdown",
   "id": "bfcd0674",
   "metadata": {
    "hidden": true
   },
   "source": [
    "### Model Training"
   ]
  },
  {
   "cell_type": "code",
   "execution_count": 590,
   "id": "7968ae15",
   "metadata": {
    "hidden": true
   },
   "outputs": [],
   "source": [
    "optim = torch.optim.Adam(model.parameters())"
   ]
  },
  {
   "cell_type": "code",
   "execution_count": 661,
   "id": "dccf78e0",
   "metadata": {
    "hidden": true
   },
   "outputs": [],
   "source": [
    "def train_resnet(model, tr_data, epochs):\n",
    "    model.train()\n",
    "    for epoch in range(epochs):\n",
    "        loss_e = []\n",
    "        for xb, yb in tr_data:\n",
    "            \n",
    "            # forward\n",
    "            loss = F.cross_entropy(model(xb).squeeze(1), yb)\n",
    "            \n",
    "            # backward\n",
    "            optim.zero_grad()\n",
    "            loss.backward()\n",
    "            \n",
    "            # gradient descent\n",
    "            optim.step()\n",
    "            \n",
    "            loss_e.append(loss)\n",
    "        \n",
    "        val_acc, val_loss = val_metrics_cnn(model, val_dl)\n",
    "        \n",
    "        print(f'Epoch: {epoch} | Avg Training Loss: {torch.stack(loss_e).mean().item():.4f} \\\n",
    "              Val Loss: {val_loss} | Val Acc: {val_acc}')"
   ]
  },
  {
   "cell_type": "code",
   "execution_count": 549,
   "id": "bfdcd206",
   "metadata": {
    "collapsed": true,
    "hidden": true
   },
   "outputs": [
    {
     "name": "stdout",
     "output_type": "stream",
     "text": [
      "Epoch: 0 | Avg Training Loss: 1.3135 \n",
      "Epoch: 1 | Avg Training Loss: 0.4031 \n",
      "Epoch: 2 | Avg Training Loss: 0.3225 \n",
      "Epoch: 3 | Avg Training Loss: 0.2827 \n",
      "Epoch: 4 | Avg Training Loss: 0.2570 \n",
      "Epoch: 5 | Avg Training Loss: 0.2258 \n",
      "Epoch: 6 | Avg Training Loss: 0.2070 \n",
      "Epoch: 7 | Avg Training Loss: 0.1921 \n",
      "Epoch: 8 | Avg Training Loss: 0.1841 \n",
      "Epoch: 9 | Avg Training Loss: 0.1716 \n"
     ]
    }
   ],
   "source": [
    "train_resnet(model, tr_dl, epochs=10)    # n_blocks = 2"
   ]
  },
  {
   "cell_type": "code",
   "execution_count": 552,
   "id": "5943687d",
   "metadata": {
    "collapsed": true,
    "hidden": true
   },
   "outputs": [
    {
     "name": "stdout",
     "output_type": "stream",
     "text": [
      "Epoch: 0 | Avg Training Loss: 0.9457 \n",
      "Epoch: 1 | Avg Training Loss: 0.3805 \n",
      "Epoch: 2 | Avg Training Loss: 0.2927 \n",
      "Epoch: 3 | Avg Training Loss: 0.2377 \n",
      "Epoch: 4 | Avg Training Loss: 0.2091 \n",
      "Epoch: 5 | Avg Training Loss: 0.1860 \n",
      "Epoch: 6 | Avg Training Loss: 0.1739 \n",
      "Epoch: 7 | Avg Training Loss: 0.1641 \n",
      "Epoch: 8 | Avg Training Loss: 0.1572 \n",
      "Epoch: 9 | Avg Training Loss: 0.1486 \n"
     ]
    }
   ],
   "source": [
    "train_resnet(model, tr_dl, epochs=10)    # n_blocks = 3"
   ]
  },
  {
   "cell_type": "code",
   "execution_count": 573,
   "id": "6e30d8fa",
   "metadata": {
    "collapsed": true,
    "hidden": true
   },
   "outputs": [
    {
     "name": "stdout",
     "output_type": "stream",
     "text": [
      "Epoch: 0 | Avg Training Loss: 1.4184 \n",
      "Epoch: 1 | Avg Training Loss: 0.4174 \n",
      "Epoch: 2 | Avg Training Loss: 0.3147 \n",
      "Epoch: 3 | Avg Training Loss: 0.2588 \n",
      "Epoch: 4 | Avg Training Loss: 0.2295 \n",
      "Epoch: 5 | Avg Training Loss: 0.2071 \n",
      "Epoch: 6 | Avg Training Loss: 0.1891 \n",
      "Epoch: 7 | Avg Training Loss: 0.1788 \n",
      "Epoch: 8 | Avg Training Loss: 0.1683 \n",
      "Epoch: 9 | Avg Training Loss: 0.1583 \n"
     ]
    }
   ],
   "source": [
    "train_resnet(model, tr_dl, epochs=10)    # n_blocks = 4"
   ]
  },
  {
   "cell_type": "code",
   "execution_count": 563,
   "id": "ecc4c4b8",
   "metadata": {
    "collapsed": true,
    "hidden": true
   },
   "outputs": [
    {
     "name": "stdout",
     "output_type": "stream",
     "text": [
      "Epoch: 0 | Avg Training Loss: 1.3885 \n",
      "Epoch: 1 | Avg Training Loss: 0.4328 \n",
      "Epoch: 2 | Avg Training Loss: 0.3369 \n",
      "Epoch: 3 | Avg Training Loss: 0.2737 \n",
      "Epoch: 4 | Avg Training Loss: 0.2360 \n",
      "Epoch: 5 | Avg Training Loss: 0.2120 \n",
      "Epoch: 6 | Avg Training Loss: 0.1958 \n",
      "Epoch: 7 | Avg Training Loss: 0.1838 \n",
      "Epoch: 8 | Avg Training Loss: 0.1743 \n",
      "Epoch: 9 | Avg Training Loss: 0.1684 \n"
     ]
    }
   ],
   "source": [
    "train_resnet(model, tr_dl, epochs=10)   # 3 blocks and average pooling"
   ]
  },
  {
   "cell_type": "code",
   "execution_count": 576,
   "id": "f8159674",
   "metadata": {
    "collapsed": true,
    "hidden": true
   },
   "outputs": [
    {
     "name": "stdout",
     "output_type": "stream",
     "text": [
      "Epoch: 0 | Avg Training Loss: 3.0095 \n",
      "Epoch: 1 | Avg Training Loss: 0.5219 \n",
      "Epoch: 2 | Avg Training Loss: 0.3656 \n",
      "Epoch: 3 | Avg Training Loss: 0.3173 \n",
      "Epoch: 4 | Avg Training Loss: 0.2947 \n",
      "Epoch: 5 | Avg Training Loss: 0.2825 \n",
      "Epoch: 6 | Avg Training Loss: 0.2727 \n",
      "Epoch: 7 | Avg Training Loss: 0.2669 \n",
      "Epoch: 8 | Avg Training Loss: 0.2675 \n",
      "Epoch: 9 | Avg Training Loss: 0.2570 \n"
     ]
    }
   ],
   "source": [
    "train_resnet(model, tr_dl, epochs=10)   # 3 blocks and max pooling"
   ]
  },
  {
   "cell_type": "markdown",
   "id": "47121f1c",
   "metadata": {
    "hidden": true
   },
   "source": [
    "Unexpectedly, 3 blocks seems to do best - at least with only 10 epochs. A deeper net may converge to a lower loss (?) just more slowly. Let's try training the 3 block model for longer and validate it. These differences in loss achieved are rather small and may be due to differences in initializations. Scaling up to 6 blocks lead to significantly worse loss values, especially at initialization. So, it may be the case that the deeper models are more sensitive to initial conditions. As for pooling, it seems that pooling isn't beneficial."
   ]
  },
  {
   "cell_type": "code",
   "execution_count": 592,
   "id": "ffe997fc",
   "metadata": {
    "hidden": true,
    "scrolled": true
   },
   "outputs": [
    {
     "name": "stdout",
     "output_type": "stream",
     "text": [
      "Epoch: 0 | Avg Training Loss: 1.4979               Val Loss: 0.454 | Val Error: 0.8771\n",
      "Epoch: 1 | Avg Training Loss: 0.4220               Val Loss: 0.324 | Val Error: 0.8988\n",
      "Epoch: 2 | Avg Training Loss: 0.3324               Val Loss: 0.2809 | Val Error: 0.91\n",
      "Epoch: 3 | Avg Training Loss: 0.2946               Val Loss: 0.2638 | Val Error: 0.9155\n",
      "Epoch: 4 | Avg Training Loss: 0.2728               Val Loss: 0.2468 | Val Error: 0.9189\n",
      "Epoch: 5 | Avg Training Loss: 0.2534               Val Loss: 0.2149 | Val Error: 0.9311\n",
      "Epoch: 6 | Avg Training Loss: 0.2367               Val Loss: 0.2151 | Val Error: 0.9302\n",
      "Epoch: 7 | Avg Training Loss: 0.2283               Val Loss: 0.2119 | Val Error: 0.929\n",
      "Epoch: 8 | Avg Training Loss: 0.2162               Val Loss: 0.185 | Val Error: 0.9398\n",
      "Epoch: 9 | Avg Training Loss: 0.2057               Val Loss: 0.1749 | Val Error: 0.942\n",
      "Epoch: 10 | Avg Training Loss: 0.1972               Val Loss: 0.1718 | Val Error: 0.9428\n",
      "Epoch: 11 | Avg Training Loss: 0.1889               Val Loss: 0.1565 | Val Error: 0.9479\n",
      "Epoch: 12 | Avg Training Loss: 0.1771               Val Loss: 0.1545 | Val Error: 0.9491\n",
      "Epoch: 13 | Avg Training Loss: 0.1722               Val Loss: 0.1561 | Val Error: 0.9473\n",
      "Epoch: 14 | Avg Training Loss: 0.1626               Val Loss: 0.1356 | Val Error: 0.9566\n",
      "Epoch: 15 | Avg Training Loss: 0.1552               Val Loss: 0.1392 | Val Error: 0.9527\n",
      "Epoch: 16 | Avg Training Loss: 0.1458               Val Loss: 0.1183 | Val Error: 0.9606\n",
      "Epoch: 17 | Avg Training Loss: 0.1389               Val Loss: 0.1129 | Val Error: 0.9621\n",
      "Epoch: 18 | Avg Training Loss: 0.1343               Val Loss: 0.1226 | Val Error: 0.9576\n",
      "Epoch: 19 | Avg Training Loss: 0.1289               Val Loss: 0.0993 | Val Error: 0.9671\n"
     ]
    }
   ],
   "source": [
    "train_resnet(model, tr_dl, epochs=20)    # n_blocks = 3"
   ]
  },
  {
   "cell_type": "markdown",
   "id": "9468e562",
   "metadata": {
    "hidden": true
   },
   "source": [
    "So, why has the generic linear MLP continued to outperform even after this resnet has been trained for 20 epochs...? Let's see how far the MLP can go in 20 epochs..."
   ]
  },
  {
   "cell_type": "code",
   "execution_count": 583,
   "id": "7d2476bd",
   "metadata": {
    "hidden": true
   },
   "outputs": [],
   "source": [
    "model = MLP(n_layers=2, n_hidden=128)\n",
    "optim = torch.optim.Adam(model.parameters())"
   ]
  },
  {
   "cell_type": "code",
   "execution_count": 584,
   "id": "abe46606",
   "metadata": {
    "hidden": true
   },
   "outputs": [
    {
     "name": "stdout",
     "output_type": "stream",
     "text": [
      "Epoch: 0 | Avg Tr Loss: 0.4226               Val Loss: 0.1952 | Val Acc: 0.9433\n",
      "Epoch: 1 | Avg Tr Loss: 0.1488               Val Loss: 0.1214 | Val Acc: 0.9617\n",
      "Epoch: 2 | Avg Tr Loss: 0.1152               Val Loss: 0.1302 | Val Acc: 0.959\n",
      "Epoch: 3 | Avg Tr Loss: 0.0976               Val Loss: 0.0616 | Val Acc: 0.9799\n",
      "Epoch: 4 | Avg Tr Loss: 0.0860               Val Loss: 0.0724 | Val Acc: 0.976\n",
      "Epoch: 5 | Avg Tr Loss: 0.0660               Val Loss: 0.0488 | Val Acc: 0.9848\n",
      "Epoch: 6 | Avg Tr Loss: 0.0672               Val Loss: 0.0436 | Val Acc: 0.986\n",
      "Epoch: 7 | Avg Tr Loss: 0.0550               Val Loss: 0.0355 | Val Acc: 0.9881\n",
      "Epoch: 8 | Avg Tr Loss: 0.0501               Val Loss: 0.0488 | Val Acc: 0.9851\n",
      "Epoch: 9 | Avg Tr Loss: 0.0614               Val Loss: 0.0487 | Val Acc: 0.9843\n",
      "Epoch: 10 | Avg Tr Loss: 0.0522               Val Loss: 0.0494 | Val Acc: 0.9857\n",
      "Epoch: 11 | Avg Tr Loss: 0.0537               Val Loss: 0.0404 | Val Acc: 0.988\n",
      "Epoch: 12 | Avg Tr Loss: 0.0493               Val Loss: 0.0323 | Val Acc: 0.9896\n",
      "Epoch: 13 | Avg Tr Loss: 0.0402               Val Loss: 0.0243 | Val Acc: 0.9923\n",
      "Epoch: 14 | Avg Tr Loss: 0.0526               Val Loss: 0.0398 | Val Acc: 0.9876\n",
      "Epoch: 15 | Avg Tr Loss: 0.0425               Val Loss: 0.0411 | Val Acc: 0.9877\n",
      "Epoch: 16 | Avg Tr Loss: 0.0391               Val Loss: 0.0194 | Val Acc: 0.9943\n",
      "Epoch: 17 | Avg Tr Loss: 0.0385               Val Loss: 0.0302 | Val Acc: 0.9916\n",
      "Epoch: 18 | Avg Tr Loss: 0.0477               Val Loss: 0.0364 | Val Acc: 0.9893\n",
      "Epoch: 19 | Avg Tr Loss: 0.0528               Val Loss: 0.0355 | Val Acc: 0.9898\n"
     ]
    }
   ],
   "source": [
    "train_mlp(model, tr_dl, epochs=20)"
   ]
  },
  {
   "cell_type": "markdown",
   "id": "6ade3b02",
   "metadata": {
    "hidden": true
   },
   "source": [
    "Interesting. The resnet underperformed the MLP by 20 epochs but was continuing to sho improvements in validation accuracy while the MLP had stopped improving by that point. Let's try training the resnet for another 10 epochs on top of the 20 it has already trained for:"
   ]
  },
  {
   "cell_type": "code",
   "execution_count": 593,
   "id": "06f1a5b0",
   "metadata": {
    "hidden": true,
    "scrolled": true
   },
   "outputs": [
    {
     "name": "stdout",
     "output_type": "stream",
     "text": [
      "Epoch: 0 | Avg Training Loss: 0.1236               Val Loss: 0.1063 | Val Error: 0.9627\n",
      "Epoch: 1 | Avg Training Loss: 0.1196               Val Loss: 0.103 | Val Error: 0.9651\n",
      "Epoch: 2 | Avg Training Loss: 0.1160               Val Loss: 0.1015 | Val Error: 0.9645\n",
      "Epoch: 3 | Avg Training Loss: 0.1109               Val Loss: 0.086 | Val Error: 0.9707\n",
      "Epoch: 4 | Avg Training Loss: 0.1057               Val Loss: 0.0895 | Val Error: 0.9695\n",
      "Epoch: 5 | Avg Training Loss: 0.1060               Val Loss: 0.0824 | Val Error: 0.9718\n",
      "Epoch: 6 | Avg Training Loss: 0.1020               Val Loss: 0.1077 | Val Error: 0.9617\n",
      "Epoch: 7 | Avg Training Loss: 0.0992               Val Loss: 0.0818 | Val Error: 0.9708\n",
      "Epoch: 8 | Avg Training Loss: 0.0996               Val Loss: 0.0881 | Val Error: 0.9688\n",
      "Epoch: 9 | Avg Training Loss: 0.0972               Val Loss: 0.0739 | Val Error: 0.9731\n"
     ]
    }
   ],
   "source": [
    "train_resnet(model, tr_dl, epochs=10)    # n_blocks = 3"
   ]
  },
  {
   "cell_type": "markdown",
   "id": "f28795eb",
   "metadata": {
    "heading_collapsed": true
   },
   "source": [
    "## Thoughts"
   ]
  },
  {
   "attachments": {
    "image.png": {
     "image/png": "[encoded data removed]"
    }
   },
   "cell_type": "markdown",
   "id": "facccf58",
   "metadata": {
    "hidden": true
   },
   "source": [
    "So, it looks like the resnet was near its limit at 20 epochs :(\n",
    "\n",
    "The best validation accuracy that we have been able to achieve was 99.43% at epoch 17 with the 2-layer MLP. CNNs, at least as complex (i.e. as simple) as these, don't seem to offer improvements upon the brute-force approach of an MLP. Getting that last 0.57% accuracy may require something really novel...\n",
    "\n",
    "We could possibly get some \"easy\" gains by augmenting the dataset with image augmentation. But still... this notebook (https://www.kaggle.com/code/cdeotte/25-million-images-0-99757-mnist) trained an ensemble of 15 CNNs on 25 million augmented MNIST images and only achieved 99.757% accuracy. It suggests that the leaderboard positions with 100% accuracy trained on the full MNIST dataset (so on the test set which included labels) and that no published notebooks achieve a higher accuracy than this one. They provide this histogram:\n",
    "![image.png](attachment:image.png)"
   ]
  },
  {
   "cell_type": "markdown",
   "id": "fc79294d",
   "metadata": {
    "hidden": true
   },
   "source": [
    "So, I suppose I ought to doubt that the 99.43% validation accuracy achieved by the simple 2-layer MLP would hold up on the test set. But even if it gives up a bit of accuracy, it's still incredible how much more work is required to add just a few tenths of a percentage point of accuracy...\n",
    "\n",
    "Still, this casts further suspicion on the resnet! Random forests and kNN approaches achieved accuracy in the 97%-percentile, it's truly surprising that the resnet would do worse than that. There must be room to tinker around here. Let's try to peal apart the model and see what's happening during training.\n"
   ]
  },
  {
   "cell_type": "markdown",
   "id": "633f42fe",
   "metadata": {
    "heading_collapsed": true
   },
   "source": [
    "## Re-Training CNN with More Filters (Output Channels)"
   ]
  },
  {
   "cell_type": "markdown",
   "id": "3675f3db",
   "metadata": {
    "heading_collapsed": true,
    "hidden": true
   },
   "source": [
    "### Re-Factor Validation Function"
   ]
  },
  {
   "cell_type": "code",
   "execution_count": 660,
   "id": "21b1189d",
   "metadata": {
    "hidden": true
   },
   "outputs": [],
   "source": [
    "def val_metrics_cnn(model, val_data):\n",
    "    \n",
    "    model.eval()\n",
    "    \n",
    "    accs = []\n",
    "    losses = []\n",
    "    for xb, yb in val_data:\n",
    "        logits = model(xb)\n",
    "        \n",
    "        # calc loss\n",
    "        batch_loss = F.cross_entropy(logits.squeeze(1), yb).item()\n",
    "        \n",
    "        # calc acc\n",
    "        probs = F.softmax(logits, dim=1)\n",
    "        preds = torch.argmax(probs, 1)    # index values of max prob classes\n",
    "        batch_acc = (preds == yb).float().mean().item()\n",
    "        \n",
    "        # standardize metrics for batch_size and append\n",
    "        accs.append( batch_acc * (preds.nelement()/B) )\n",
    "        losses.append( batch_loss * (preds.nelement()/B) )\n",
    "    \n",
    "    accuracy = sum(accs)/len(accs)\n",
    "    loss = sum(losses)/len(losses)\n",
    "    \n",
    "    model.train()\n",
    "    \n",
    "#     accuracy = round(torch.stack(accs).mean().item(), 4)\n",
    "#     loss = round(torch.stack(losses).mean().item(), 4)\n",
    "    \n",
    "    return round(accuracy, 4), round(loss, 4)"
   ]
  },
  {
   "cell_type": "markdown",
   "id": "97547318",
   "metadata": {
    "heading_collapsed": true,
    "hidden": true
   },
   "source": [
    "### Train Model"
   ]
  },
  {
   "cell_type": "code",
   "execution_count": 641,
   "id": "d16336c0",
   "metadata": {
    "hidden": true
   },
   "outputs": [],
   "source": [
    "model = CNN(n_layers = 2,\n",
    "            n_chan = 3,\n",
    "            filter_size = 3,\n",
    "            padding = 1,\n",
    "            pooling = False)"
   ]
  },
  {
   "cell_type": "code",
   "execution_count": 642,
   "id": "e192fb80",
   "metadata": {
    "hidden": true,
    "scrolled": true
   },
   "outputs": [
    {
     "name": "stdout",
     "output_type": "stream",
     "text": [
      "Epoch: 0 | Avg Training Loss: 0.3141               Val Loss: 0.106 | Val Acc: 0.9651\n",
      "Epoch: 1 | Avg Training Loss: 0.1146               Val Loss: 0.0648 | Val Acc: 0.9795\n",
      "Epoch: 2 | Avg Training Loss: 0.0796               Val Loss: 0.05 | Val Acc: 0.9814\n",
      "Epoch: 3 | Avg Training Loss: 0.0611               Val Loss: 0.034 | Val Acc: 0.9873\n",
      "Epoch: 4 | Avg Training Loss: 0.0472               Val Loss: 0.0337 | Val Acc: 0.9875\n",
      "Epoch: 5 | Avg Training Loss: 0.0392               Val Loss: 0.0237 | Val Acc: 0.9903\n",
      "Epoch: 6 | Avg Training Loss: 0.0309               Val Loss: 0.017 | Val Acc: 0.9924\n",
      "Epoch: 7 | Avg Training Loss: 0.0304               Val Loss: 0.0246 | Val Acc: 0.9896\n",
      "Epoch: 8 | Avg Training Loss: 0.0273               Val Loss: 0.0259 | Val Acc: 0.9891\n",
      "Epoch: 9 | Avg Training Loss: 0.0233               Val Loss: 0.0136 | Val Acc: 0.9937\n"
     ]
    }
   ],
   "source": [
    "optim = torch.optim.Adam(model.parameters())\n",
    "train_cnn(model, tr_dl, epochs=10)"
   ]
  },
  {
   "cell_type": "markdown",
   "id": "82d10d79",
   "metadata": {
    "hidden": true
   },
   "source": [
    "Game changer - absolutely fucking essential quality of CNNs that I just completely overlooked. Each filter can learn something different about the image. Of course, the value of new things learnt diminishes as the number of filters increases. This is totally crucial. Let's try adding more filters:"
   ]
  },
  {
   "cell_type": "code",
   "execution_count": 643,
   "id": "5aeae132",
   "metadata": {
    "hidden": true
   },
   "outputs": [
    {
     "name": "stdout",
     "output_type": "stream",
     "text": [
      "Epoch: 0 | Avg Training Loss: 1.0538               Val Loss: 0.0707 | Val Acc: 0.9751\n",
      "Epoch: 1 | Avg Training Loss: 0.0681               Val Loss: 0.0352 | Val Acc: 0.9868\n",
      "Epoch: 2 | Avg Training Loss: 0.0464               Val Loss: 0.0279 | Val Acc: 0.9887\n",
      "Epoch: 3 | Avg Training Loss: 0.0415               Val Loss: 0.0329 | Val Acc: 0.9872\n",
      "Epoch: 4 | Avg Training Loss: 0.0353               Val Loss: 0.0211 | Val Acc: 0.9911\n",
      "Epoch: 5 | Avg Training Loss: 0.0275               Val Loss: 0.0196 | Val Acc: 0.992\n",
      "Epoch: 6 | Avg Training Loss: 0.0160               Val Loss: 0.0097 | Val Acc: 0.9947\n",
      "Epoch: 7 | Avg Training Loss: 0.0250               Val Loss: 0.0263 | Val Acc: 0.9903\n",
      "Epoch: 8 | Avg Training Loss: 0.0317               Val Loss: 0.0122 | Val Acc: 0.9936\n",
      "Epoch: 9 | Avg Training Loss: 0.0306               Val Loss: 0.024 | Val Acc: 0.992\n"
     ]
    }
   ],
   "source": [
    "model = CNN(n_layers = 2,\n",
    "            n_chan = 32,       # first conv layers in the resnet paper had 32 filters\n",
    "            filter_size = 3,\n",
    "            padding = 1,\n",
    "            pooling = False)\n",
    "\n",
    "optim = torch.optim.Adam(model.parameters())\n",
    "train_cnn(model, tr_dl, epochs=10)"
   ]
  },
  {
   "cell_type": "code",
   "execution_count": 646,
   "id": "a2832738",
   "metadata": {
    "hidden": true
   },
   "outputs": [
    {
     "name": "stdout",
     "output_type": "stream",
     "text": [
      "Epoch: 0 | Avg Training Loss: 0.2992               Val Loss: 0.1127 | Val Acc: 0.9643\n",
      "Epoch: 1 | Avg Training Loss: 0.1054               Val Loss: 0.0834 | Val Acc: 0.9706\n",
      "Epoch: 2 | Avg Training Loss: 0.0780               Val Loss: 0.0579 | Val Acc: 0.9798\n",
      "Epoch: 3 | Avg Training Loss: 0.0601               Val Loss: 0.0402 | Val Acc: 0.9851\n",
      "Epoch: 4 | Avg Training Loss: 0.0513               Val Loss: 0.0416 | Val Acc: 0.9849\n",
      "Epoch: 5 | Avg Training Loss: 0.0392               Val Loss: 0.0261 | Val Acc: 0.9901\n",
      "Epoch: 6 | Avg Training Loss: 0.0333               Val Loss: 0.0228 | Val Acc: 0.9913\n",
      "Epoch: 7 | Avg Training Loss: 0.0292               Val Loss: 0.0347 | Val Acc: 0.9869\n",
      "Epoch: 8 | Avg Training Loss: 0.0250               Val Loss: 0.0169 | Val Acc: 0.9923\n",
      "Epoch: 9 | Avg Training Loss: 0.0210               Val Loss: 0.0145 | Val Acc: 0.9935\n"
     ]
    }
   ],
   "source": [
    "model = CNN(n_layers = 4,\n",
    "            n_chan = 3,\n",
    "            filter_size = 3,\n",
    "            padding = 1,\n",
    "            pooling = False)\n",
    "\n",
    "optim = torch.optim.Adam(model.parameters())\n",
    "train_cnn(model, tr_dl, epochs=10)"
   ]
  },
  {
   "cell_type": "markdown",
   "id": "df308b58",
   "metadata": {
    "heading_collapsed": true
   },
   "source": [
    "## ResNet with Multiple Filters"
   ]
  },
  {
   "cell_type": "markdown",
   "id": "ad384440",
   "metadata": {
    "heading_collapsed": true,
    "hidden": true
   },
   "source": [
    "### Modify Class"
   ]
  },
  {
   "cell_type": "code",
   "execution_count": 657,
   "id": "91bd78f5",
   "metadata": {
    "hidden": true
   },
   "outputs": [],
   "source": [
    "class ResNet(nn.Module):\n",
    "    def __init__(self, n_blocks, n_chan, filter_size, padding=1, pooling=False):\n",
    "        super().__init__()\n",
    "        self.n_blocks = n_blocks\n",
    "        self.n_chan = n_chan\n",
    "        self.filter = filter_size\n",
    "        self.padding = padding\n",
    "        self.pooling = pooling\n",
    "        self.blocks = nn.Sequential()\n",
    "        \n",
    "        self.in_conv = nn.Conv2d(in_channels = 1,\n",
    "                                 out_channels = self.n_chan,\n",
    "                                 kernel_size = self.filter,\n",
    "                                 padding = self.padding)\n",
    "        \n",
    "        for b in range(self.n_blocks):\n",
    "            # residual block\n",
    "            self.blocks.append(\n",
    "                nn.Sequential(\n",
    "                    nn.Conv2d(in_channels = self.n_chan, \n",
    "                              out_channels = self.n_chan, \n",
    "                              kernel_size = self.filter,\n",
    "                              padding = self.padding)\n",
    "                    ,nn.BatchNorm2d(self.n_chan)\n",
    "                    ,nn.ReLU()\n",
    "                    ,nn.Conv2d(in_channels = self.n_chan, \n",
    "                              out_channels = self.n_chan, \n",
    "                              kernel_size = self.filter,\n",
    "                              padding = self.padding)\n",
    "                    ,nn.BatchNorm2d(self.n_chan)\n",
    "                )\n",
    "            )\n",
    "\n",
    "        self.flatten = nn.Flatten()\n",
    "            \n",
    "        # choose kernel_size < filter_size and s.t. 28 % kernel_size = 0 (so filters do not overlap)\n",
    "        if self.pooling == \"Max\":\n",
    "            self.pool = nn.MaxPool2d(kernel_size=2)\n",
    "            self.linear_output = nn.Linear(self.n_chan*14*14, 10)    # final output layer\n",
    "        elif self.pooling == \"Mean\":\n",
    "            self.pool = nn.AvgPool2d(kernel_size=2)\n",
    "            self.linear_output = nn.Linear(self.n_chan*14*14, 10)    # final output layer\n",
    "        else:\n",
    "            self.linear_output = nn.Linear(self.n_chan*28*28, 10)    # final output layer\n",
    "            \n",
    "    def forward(self, x):\n",
    "        B, C, H, W = x.shape\n",
    "        x = self.in_conv(x)                              # pass through initial conv layer\n",
    "        for b in self.blocks: x = F.relu(b(x) + x)       # pass through residual blocks\n",
    "        if self.pooling != False: x = self.pool(x)       # pool before output\n",
    "        x = x.view(B, self.n_chan, -1)                   # reshape for linear output layer\n",
    "        x = self.flatten(x)\n",
    "        logits = self.linear_output(x)                   # output\n",
    "        \n",
    "        return logits "
   ]
  },
  {
   "cell_type": "markdown",
   "id": "5f2719f0",
   "metadata": {
    "hidden": true
   },
   "source": [
    "### Re-Train"
   ]
  },
  {
   "cell_type": "code",
   "execution_count": 662,
   "id": "10545654",
   "metadata": {
    "hidden": true
   },
   "outputs": [
    {
     "name": "stdout",
     "output_type": "stream",
     "text": [
      "Epoch: 0 | Avg Training Loss: 2.0112               Val Loss: 0.3459 | Val Acc: 0.9433\n",
      "Epoch: 1 | Avg Training Loss: 0.3320               Val Loss: 0.1981 | Val Acc: 0.9509\n",
      "Epoch: 2 | Avg Training Loss: 0.1716               Val Loss: 0.1281 | Val Acc: 0.9602\n",
      "Epoch: 3 | Avg Training Loss: 0.1136               Val Loss: 0.0894 | Val Acc: 0.9698\n",
      "Epoch: 4 | Avg Training Loss: 0.0851               Val Loss: 0.053 | Val Acc: 0.9822\n",
      "Epoch: 5 | Avg Training Loss: 0.0647               Val Loss: 0.0419 | Val Acc: 0.9842\n",
      "Epoch: 6 | Avg Training Loss: 0.0601               Val Loss: 0.0605 | Val Acc: 0.9771\n",
      "Epoch: 7 | Avg Training Loss: 0.0515               Val Loss: 0.0319 | Val Acc: 0.9884\n",
      "Epoch: 8 | Avg Training Loss: 0.0444               Val Loss: 0.0358 | Val Acc: 0.9862\n",
      "Epoch: 9 | Avg Training Loss: 0.0392               Val Loss: 0.0452 | Val Acc: 0.9819\n"
     ]
    }
   ],
   "source": [
    "model = ResNet(n_blocks = 3,\n",
    "               n_chan = 3,\n",
    "               filter_size = 3,\n",
    "               padding = 1,\n",
    "               pooling = False)\n",
    "optim = torch.optim.Adam(model.parameters())\n",
    "train_resnet(model, tr_dl, epochs=10)"
   ]
  },
  {
   "cell_type": "markdown",
   "id": "a51d9221",
   "metadata": {},
   "source": [
    "## Augmentation"
   ]
  },
  {
   "cell_type": "code",
   "execution_count": 663,
   "id": "cf1bb80f",
   "metadata": {},
   "outputs": [],
   "source": [
    "from torchvision import transforms"
   ]
  },
  {
   "cell_type": "markdown",
   "id": "34903c0d",
   "metadata": {},
   "source": [
    "**Note:** Tensor images passed to pytorch image transforms are expected to be on [0, 1) if they have a float dtype"
   ]
  },
  {
   "cell_type": "markdown",
   "id": "524b3b05",
   "metadata": {
    "heading_collapsed": true
   },
   "source": [
    "### Modifying datMNIST Dataset Class to Accept Transformations"
   ]
  },
  {
   "cell_type": "code",
   "execution_count": 836,
   "id": "9154e0bb",
   "metadata": {
    "hidden": true
   },
   "outputs": [],
   "source": [
    "class datMNIST(Dataset):\n",
    "    def __init__(self, file_path, transforms=False, img_format=False):\n",
    "        self.data = pd.read_csv(file_path)\n",
    "        self.transforms = transforms\n",
    "        self.img_format = img_format\n",
    "        \n",
    "    def __len__(self):\n",
    "        return len(self.data)\n",
    "    \n",
    "    def __getitem__(self, index):\n",
    "        if self.img_format == True:\n",
    "            # expand images into 28x28 format\n",
    "            image = torch.tensor(self.data.iloc[index, 1:].values).view(1, 28, 28).float()\n",
    "        else:\n",
    "            image = torch.tensor(self.data.iloc[index, 1:].values).unsqueeze(0).float()\n",
    "        \n",
    "        image = image/255    # standardize inputs (255 is max pixel value)\n",
    "        \n",
    "        if self.transforms != False: image = self.transforms(image)\n",
    "        \n",
    "        label = self.data.iloc[index, 0]\n",
    "        \n",
    "        return image, label"
   ]
  },
  {
   "cell_type": "markdown",
   "id": "c38384ed",
   "metadata": {
    "heading_collapsed": true
   },
   "source": [
    "### Experimenting with Transformations"
   ]
  },
  {
   "cell_type": "code",
   "execution_count": 685,
   "id": "25070fde",
   "metadata": {
    "hidden": true
   },
   "outputs": [],
   "source": [
    "def show_image(images, labels):\n",
    "    plt.imshow(torchvision.utils.make_grid(images).permute(1,2,0))\n",
    "    plt.title(labels.tolist())"
   ]
  },
  {
   "cell_type": "code",
   "execution_count": 693,
   "id": "69f4ff28",
   "metadata": {
    "hidden": true
   },
   "outputs": [],
   "source": [
    "x,y = next(iter(tr_dl))"
   ]
  },
  {
   "cell_type": "code",
   "execution_count": 696,
   "id": "b9516b78",
   "metadata": {
    "hidden": true
   },
   "outputs": [
    {
     "name": "stderr",
     "output_type": "stream",
     "text": [
      "Clipping input data to the valid range for imshow with RGB data ([0..1] for floats or [0..255] for integers).\n"
     ]
    },
    {
     "data": {
      "image/png": "[encoded data removed]",
      "text/plain": [
       "<Figure size 432x288 with 1 Axes>"
      ]
     },
     "metadata": {
      "needs_background": "light"
     },
     "output_type": "display_data"
    }
   ],
   "source": [
    "show_image(x[0], y[0])"
   ]
  },
  {
   "cell_type": "code",
   "execution_count": 704,
   "id": "a89b05b6",
   "metadata": {
    "collapsed": true,
    "hidden": true
   },
   "outputs": [
    {
     "name": "stderr",
     "output_type": "stream",
     "text": [
      "Clipping input data to the valid range for imshow with RGB data ([0..1] for floats or [0..255] for integers).\n"
     ]
    },
    {
     "data": {
      "image/png": "[encoded data removed]",
      "text/plain": [
       "<Figure size 432x288 with 1 Axes>"
      ]
     },
     "metadata": {
      "needs_background": "light"
     },
     "output_type": "display_data"
    }
   ],
   "source": [
    "img = x[0]\n",
    "img_flipped = transforms.RandomVerticalFlip(p=1)(img)\n",
    "show_image(img_flipped, y[0])"
   ]
  },
  {
   "cell_type": "code",
   "execution_count": 816,
   "id": "d792bb32",
   "metadata": {
    "hidden": true
   },
   "outputs": [
    {
     "name": "stderr",
     "output_type": "stream",
     "text": [
      "Clipping input data to the valid range for imshow with RGB data ([0..1] for floats or [0..255] for integers).\n"
     ]
    },
    {
     "data": {
      "image/png": "[encoded data removed]",
      "text/plain": [
       "<Figure size 432x288 with 1 Axes>"
      ]
     },
     "metadata": {
      "needs_background": "light"
     },
     "output_type": "display_data"
    }
   ],
   "source": [
    "img = x[0]\n",
    "img_affine = transforms.RandomAffine(degrees=30,            # degrees of rotation\n",
    "                                     translate=(0.2,0.2),  # (x,y) translation (with center invariant)\n",
    "                                     scale=(0.5,1.5)            # scale change\n",
    "                                     )(img)\n",
    "show_image(img_affine, y[0])"
   ]
  },
  {
   "cell_type": "markdown",
   "id": "fdb38d85",
   "metadata": {
    "hidden": true
   },
   "source": [
    "We need to be careful with these transformations because they can nontrivially obscure the meaning of the numbers. For example, if the bottom of this 8 were cropped out of the image, then it could validly be interpreted as a 0, a flipped and cropped 6, or a cropped 9. We can use vertical flips and rotations but should not pair them with horizontal flips (because then 6s and 9s could get mixed up)."
   ]
  },
  {
   "cell_type": "code",
   "execution_count": 820,
   "id": "c8a083ce",
   "metadata": {
    "hidden": true
   },
   "outputs": [],
   "source": [
    "# we can string transformations together using Compose()\n",
    "data_transforms = transforms.Compose([\n",
    "    transforms.RandomVerticalFlip(p=0.5),\n",
    "    transforms.RandomRotation(degrees=30),    # range of degrees to select from\n",
    "])"
   ]
  },
  {
   "cell_type": "markdown",
   "id": "5290a982",
   "metadata": {
    "heading_collapsed": true,
    "hidden": true
   },
   "source": [
    "#### Create New Dataset with Transformed Data"
   ]
  },
  {
   "cell_type": "code",
   "execution_count": 837,
   "id": "927949a8",
   "metadata": {
    "hidden": true
   },
   "outputs": [],
   "source": [
    "tdat = datMNIST(path/'train.csv', img_format=True)\n",
    "tdat_transformed = datMNIST(path/'train.csv', transforms=data_transforms, img_format=True)\n",
    "\n",
    "# concatenate with original tdat dataset\n",
    "aug_tdat = torch.utils.data.ConcatDataset((tdat, tdat_transformed))"
   ]
  },
  {
   "cell_type": "code",
   "execution_count": 838,
   "id": "ab1d7e55",
   "metadata": {
    "hidden": true
   },
   "outputs": [
    {
     "data": {
      "text/plain": [
       "(42000, 84000)"
      ]
     },
     "execution_count": 838,
     "metadata": {},
     "output_type": "execute_result"
    }
   ],
   "source": [
    "len(tdat), len(aug_tdat)"
   ]
  },
  {
   "cell_type": "code",
   "execution_count": 839,
   "id": "aa4bcfca",
   "metadata": {
    "hidden": true
   },
   "outputs": [],
   "source": [
    "# create training and validation sets\n",
    "tr_ds, val_ds = torch.utils.data.random_split(aug_tdat, [0.8, 0.2])"
   ]
  },
  {
   "cell_type": "code",
   "execution_count": 840,
   "id": "e8b9996d",
   "metadata": {
    "hidden": true
   },
   "outputs": [],
   "source": [
    "# create dataloaders\n",
    "tr_dl = DataLoader(tr_ds, batch_size=128, shuffle=True)\n",
    "val_dl = DataLoader(val_ds, batch_size=128, shuffle=True)"
   ]
  },
  {
   "cell_type": "markdown",
   "id": "6bd90c5b",
   "metadata": {},
   "source": [
    "### Training CNN on Augmented Dataset"
   ]
  },
  {
   "cell_type": "code",
   "execution_count": 841,
   "id": "cb47663f",
   "metadata": {},
   "outputs": [
    {
     "name": "stdout",
     "output_type": "stream",
     "text": [
      "Epoch: 0 | Avg Training Loss: 0.8992               Val Loss: 0.3722 | Val Acc: 0.8788\n",
      "Epoch: 1 | Avg Training Loss: 0.3274               Val Loss: 0.2792 | Val Acc: 0.9081\n",
      "Epoch: 2 | Avg Training Loss: 0.2721               Val Loss: 0.2476 | Val Acc: 0.9162\n",
      "Epoch: 3 | Avg Training Loss: 0.2490               Val Loss: 0.2629 | Val Acc: 0.9126\n",
      "Epoch: 4 | Avg Training Loss: 0.2395               Val Loss: 0.2364 | Val Acc: 0.9184\n",
      "Epoch: 5 | Avg Training Loss: 0.2293               Val Loss: 0.2206 | Val Acc: 0.9242\n",
      "Epoch: 6 | Avg Training Loss: 0.2234               Val Loss: 0.223 | Val Acc: 0.9246\n",
      "Epoch: 7 | Avg Training Loss: 0.2182               Val Loss: 0.2141 | Val Acc: 0.9273\n",
      "Epoch: 8 | Avg Training Loss: 0.2120               Val Loss: 0.2067 | Val Acc: 0.9303\n",
      "Epoch: 9 | Avg Training Loss: 0.2065               Val Loss: 0.2041 | Val Acc: 0.9319\n"
     ]
    }
   ],
   "source": [
    "model = CNN(n_layers = 3,\n",
    "            n_chan = 3,\n",
    "            filter_size = 3,\n",
    "            padding = 1,\n",
    "            pooling = False)\n",
    "\n",
    "optim = torch.optim.Adam(model.parameters())\n",
    "train_cnn(model, tr_dl, epochs=10)"
   ]
  },
  {
   "cell_type": "markdown",
   "id": "555cc3f6",
   "metadata": {},
   "source": [
    "Let's try with less aggressive transformations:"
   ]
  },
  {
   "cell_type": "code",
   "execution_count": 847,
   "id": "15f92216",
   "metadata": {},
   "outputs": [],
   "source": [
    "data_transforms = transforms.RandomAffine(degrees=10,            \n",
    "                                     translate=(0.1,0.1),\n",
    "                                     scale=(0.9,1.1)            \n",
    "                                     )\n",
    "tdat = datMNIST(path/'train.csv', img_format=True)\n",
    "tdat_transformed = datMNIST(path/'train.csv', transforms=data_transforms, img_format=True)\n",
    "aug_tdat = torch.utils.data.ConcatDataset((tdat, tdat_transformed))\n",
    "tr_ds, val_ds = torch.utils.data.random_split(aug_tdat, [0.8, 0.2])\n",
    "tr_dl = DataLoader(tr_ds, batch_size=128, shuffle=True)\n",
    "val_dl = DataLoader(val_ds, batch_size=128, shuffle=True)"
   ]
  },
  {
   "cell_type": "code",
   "execution_count": 848,
   "id": "a32e792e",
   "metadata": {
    "scrolled": true
   },
   "outputs": [
    {
     "name": "stdout",
     "output_type": "stream",
     "text": [
      "Epoch: 0 | Avg Training Loss: 0.9048               Val Loss: 0.3599 | Val Acc: 0.883\n",
      "Epoch: 1 | Avg Training Loss: 0.2988               Val Loss: 0.2695 | Val Acc: 0.9155\n",
      "Epoch: 2 | Avg Training Loss: 0.2502               Val Loss: 0.2341 | Val Acc: 0.924\n",
      "Epoch: 3 | Avg Training Loss: 0.2231               Val Loss: 0.2283 | Val Acc: 0.9243\n",
      "Epoch: 4 | Avg Training Loss: 0.2131               Val Loss: 0.2209 | Val Acc: 0.9274\n",
      "Epoch: 5 | Avg Training Loss: 0.2029               Val Loss: 0.2001 | Val Acc: 0.9355\n",
      "Epoch: 6 | Avg Training Loss: 0.2005               Val Loss: 0.1941 | Val Acc: 0.9352\n",
      "Epoch: 7 | Avg Training Loss: 0.1963               Val Loss: 0.1885 | Val Acc: 0.9368\n",
      "Epoch: 8 | Avg Training Loss: 0.1965               Val Loss: 0.1963 | Val Acc: 0.9361\n",
      "Epoch: 9 | Avg Training Loss: 0.1858               Val Loss: 0.1801 | Val Acc: 0.9401\n"
     ]
    }
   ],
   "source": [
    "model = CNN(n_layers = 3,\n",
    "            n_chan = 3,\n",
    "            filter_size = 3,\n",
    "            padding = 1,\n",
    "            pooling = False)\n",
    "\n",
    "optim = torch.optim.Adam(model.parameters())\n",
    "train_cnn(model, tr_dl, epochs=10)"
   ]
  },
  {
   "cell_type": "markdown",
   "id": "99025a13",
   "metadata": {},
   "source": [
    "So, augmented data appears to make the model perform worse. Training this model for longer leads the validation accuracy to plateau around 0.94, which is quite bad. This may not be a bad thing though. Augmentation can make models more robust and thus improve performance on the hidden test dataset. Maybe combining augmentation with more complex architectures could improve performance. Also, I may be over-penalizing the achieved validation accuracy by including transformed images in the validation set. If we exclude transformations from the validation set, the model will likely perform better on it (not least because the ratio of the training dataset size to the validation dataset size will be expanded). So, I may actually expect better performance on the test dataset than on the validation dataset."
   ]
  },
  {
   "cell_type": "code",
   "execution_count": 849,
   "id": "a51da6ae",
   "metadata": {},
   "outputs": [
    {
     "name": "stdout",
     "output_type": "stream",
     "text": [
      "Epoch: 0 | Avg Training Loss: 0.3999               Val Loss: 0.1863 | Val Acc: 0.9388\n",
      "Epoch: 1 | Avg Training Loss: 0.1469               Val Loss: 0.1274 | Val Acc: 0.9573\n",
      "Epoch: 2 | Avg Training Loss: 0.1142               Val Loss: 0.1067 | Val Acc: 0.9631\n",
      "Epoch: 3 | Avg Training Loss: 0.0991               Val Loss: 0.0984 | Val Acc: 0.9631\n",
      "Epoch: 4 | Avg Training Loss: 0.0898               Val Loss: 0.0887 | Val Acc: 0.9691\n",
      "Epoch: 5 | Avg Training Loss: 0.0782               Val Loss: 0.0782 | Val Acc: 0.9703\n",
      "Epoch: 6 | Avg Training Loss: 0.0744               Val Loss: 0.0725 | Val Acc: 0.9717\n",
      "Epoch: 7 | Avg Training Loss: 0.0696               Val Loss: 0.0768 | Val Acc: 0.9719\n",
      "Epoch: 8 | Avg Training Loss: 0.0619               Val Loss: 0.0695 | Val Acc: 0.9744\n",
      "Epoch: 9 | Avg Training Loss: 0.0619               Val Loss: 0.0645 | Val Acc: 0.9751\n"
     ]
    }
   ],
   "source": [
    "model = CNN(n_layers = 3,\n",
    "            n_chan = 16,\n",
    "            filter_size = 3,\n",
    "            padding = 1,\n",
    "            pooling = False)\n",
    "\n",
    "optim = torch.optim.Adam(model.parameters())\n",
    "train_cnn(model, tr_dl, epochs=10)"
   ]
  },
  {
   "cell_type": "code",
   "execution_count": 850,
   "id": "a3655c90",
   "metadata": {},
   "outputs": [
    {
     "name": "stdout",
     "output_type": "stream",
     "text": [
      "Epoch: 0 | Avg Training Loss: 0.3447               Val Loss: 0.1332 | Val Acc: 0.9578\n",
      "Epoch: 1 | Avg Training Loss: 0.1185               Val Loss: 0.0974 | Val Acc: 0.9645\n",
      "Epoch: 2 | Avg Training Loss: 0.0873               Val Loss: 0.0799 | Val Acc: 0.9702\n",
      "Epoch: 3 | Avg Training Loss: 0.0719               Val Loss: 0.0662 | Val Acc: 0.9744\n",
      "Epoch: 4 | Avg Training Loss: 0.0602               Val Loss: 0.0589 | Val Acc: 0.9769\n",
      "Epoch: 5 | Avg Training Loss: 0.0516               Val Loss: 0.0559 | Val Acc: 0.9779\n",
      "Epoch: 6 | Avg Training Loss: 0.0477               Val Loss: 0.0585 | Val Acc: 0.976\n",
      "Epoch: 7 | Avg Training Loss: 0.0438               Val Loss: 0.0436 | Val Acc: 0.9799\n",
      "Epoch: 8 | Avg Training Loss: 0.0412               Val Loss: 0.0425 | Val Acc: 0.9802\n",
      "Epoch: 9 | Avg Training Loss: 0.0394               Val Loss: 0.0371 | Val Acc: 0.9829\n"
     ]
    }
   ],
   "source": [
    "model = CNN(n_layers = 4,\n",
    "            n_chan = 32,\n",
    "            filter_size = 3,\n",
    "            padding = 1,\n",
    "            pooling = False)\n",
    "\n",
    "optim = torch.optim.Adam(model.parameters())\n",
    "train_cnn(model, tr_dl, epochs=10)"
   ]
  }
 ],
 "metadata": {
  "kernelspec": {
   "display_name": "Python 3 (ipykernel)",
   "language": "python",
   "name": "python3"
  },
  "language_info": {
   "codemirror_mode": {
    "name": "ipython",
    "version": 3
   },
   "file_extension": ".py",
   "mimetype": "text/x-python",
   "name": "python",
   "nbconvert_exporter": "python",
   "pygments_lexer": "ipython3",
   "version": "3.10.13"
  },
  "toc": {
   "base_numbering": 1,
   "nav_menu": {},
   "number_sections": true,
   "sideBar": true,
   "skip_h1_title": false,
   "title_cell": "Table of Contents",
   "title_sidebar": "Contents",
   "toc_cell": false,
   "toc_position": {},
   "toc_section_display": true,
   "toc_window_display": false
  },
  "varInspector": {
   "cols": {
    "lenName": 16,
    "lenType": 16,
    "lenVar": 40
   },
   "kernels_config": {
    "python": {
     "delete_cmd_postfix": "",
     "delete_cmd_prefix": "del ",
     "library": "var_list.py",
     "varRefreshCmd": "print(var_dic_list())"
    },
    "r": {
     "delete_cmd_postfix": ") ",
     "delete_cmd_prefix": "rm(",
     "library": "var_list.r",
     "varRefreshCmd": "cat(var_dic_list()) "
    }
   },
   "types_to_exclude": [
    "module",
    "function",
    "builtin_function_or_method",
    "instance",
    "_Feature"
   ],
   "window_display": false
  }
 },
 "nbformat": 4,
 "nbformat_minor": 5
}
